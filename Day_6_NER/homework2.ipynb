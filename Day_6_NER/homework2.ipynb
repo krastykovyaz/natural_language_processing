{
 "cells": [
  {
   "cell_type": "code",
   "execution_count": 1,
   "id": "95141905",
   "metadata": {},
   "outputs": [],
   "source": [
    "import os, re, glob\n",
    "# import xml.etree.ElementTree as ET\n",
    "from ipymarkup import show_box_markup\n",
    "from ipymarkup.palette import palette, BLUE, RED, GREEN"
   ]
  },
  {
   "cell_type": "code",
   "execution_count": 2,
   "id": "c804069d",
   "metadata": {},
   "outputs": [],
   "source": [
    "PATH_DATA = '/Users/a19028558/Desktop/sber_NLP_learning/RuREBus/train_data/'"
   ]
  },
  {
   "cell_type": "code",
   "execution_count": 3,
   "id": "64bfd113",
   "metadata": {},
   "outputs": [
    {
     "data": {
      "text/plain": [
       "['/Users/a19028558/Desktop/sber_NLP_learning/RuREBus/train_data/train_part_1/20336241021100524345002_22_part_1.txt']"
      ]
     },
     "execution_count": 3,
     "metadata": {},
     "output_type": "execute_result"
    }
   ],
   "source": [
    "types = ('*.txt', '*.ann') # the tuple of file types\n",
    "files_grabbed = []\n",
    "for files in types:\n",
    "    files_grabbed.extend(glob.glob(PATH_DATA +'**/'+ files , recursive=True))\n",
    "# glob.glob(PATH_DATA + '**/*.txt' , recursive=True)\n",
    "files_grabbed[:1]"
   ]
  },
  {
   "cell_type": "code",
   "execution_count": null,
   "id": "missing-techno",
   "metadata": {},
   "outputs": [],
   "source": []
  },
  {
   "cell_type": "code",
   "execution_count": 4,
   "id": "9056807d",
   "metadata": {},
   "outputs": [],
   "source": [
    "def read_text_with_markup(text_file_name, markup_file_name):\n",
    "    with open(text_file_name, \"r\") as r:\n",
    "            text = r.read()\n",
    "    spans = []\n",
    "    for line in open(markup_file_name):\n",
    "        line_list = re.split('[\\s,\\t]', line)\n",
    "        span = line_list[1]\n",
    "        start_pos = line_list[2]\n",
    "        end_pos = line_list[3]\n",
    "        try:\n",
    "            spans.append((int(start_pos), int(end_pos), str(span)))\n",
    "        except:\n",
    "            pass\n",
    "    return text, spans\n",
    "\n"
   ]
  },
  {
   "cell_type": "code",
   "execution_count": 5,
   "id": "421e39dc",
   "metadata": {},
   "outputs": [],
   "source": [
    "# sorted(files_grabbed)"
   ]
  },
  {
   "cell_type": "code",
   "execution_count": 6,
   "id": "1f332553",
   "metadata": {},
   "outputs": [],
   "source": [
    "data = []\n",
    "i = 0\n",
    "sorted_sample_name = sorted(files_grabbed)\n",
    "data = []\n",
    "while i < len(sorted_sample_name) - 1:\n",
    "    sample_name_ann = sorted_sample_name[i]\n",
    "    sample_name_txt = sorted_sample_name[i+1]\n",
    "    if i % 2 == 0 and i != 0:\n",
    "        data.append(read_text_with_markup(sample_name_txt, sample_name_ann))\n",
    "    i += 1"
   ]
  },
  {
   "cell_type": "code",
   "execution_count": 7,
   "id": "ddfd16a7",
   "metadata": {},
   "outputs": [],
   "source": [
    "# len(sorted_sample_name)"
   ]
  },
  {
   "cell_type": "code",
   "execution_count": 8,
   "id": "b319c59c",
   "metadata": {},
   "outputs": [],
   "source": [
    "# data[175][0]"
   ]
  },
  {
   "cell_type": "code",
   "execution_count": 9,
   "id": "5353ee24",
   "metadata": {},
   "outputs": [
    {
     "data": {
      "text/html": [
       "<div class=\"tex2jax_ignore\" style=\"white-space: pre-wrap\"><span style=\"padding: 2px; border-radius: 4px; border: 1px solid #bbdefb; background: #e3f2fd\">обеспечение<span style=\"vertical-align: middle; margin-left: 2px; font-size: 0.7em; color: #64b5f6;\">BIN</span></span> <span style=\"padding: 2px; border-radius: 4px; border: 1px solid #bbdefb; background: #e3f2fd\">деятельности<span style=\"vertical-align: middle; margin-left: 2px; font-size: 0.7em; color: #64b5f6;\">ACT</span></span> <span style=\"padding: 2px; border-radius: 4px; border: 1px solid #c8e6c9; background: #e8f5e9\">Муниципального казенного учреждения « Централизованная бухгалтерия учреждений образования<span style=\"vertical-align: middle; margin-left: 2px; font-size: 0.7em; color: #66bb6a;\">INST</span></span> г.  Долгопрудного » ; \n",
       "<span style=\"padding: 2px; border-radius: 4px; border: 1px solid #bbdefb; background: #e3f2fd\">поддержка отдельных категорий обучающихся<span style=\"vertical-align: middle; margin-left: 2px; font-size: 0.7em; color: #64b5f6;\">ACT</span></span> ( <span style=\"padding: 2px; border-radius: 4px; border: 1px solid #ffcdd2; background: #ffebee\">воспитанников<span style=\"vertical-align: middle; margin-left: 2px; font-size: 0.7em; color: #e57373;\">SOC</span></span> ) и их <span style=\"padding: 2px; border-radius: 4px; border: 1px solid #ffcdd2; background: #ffebee\">семей<span style=\"vertical-align: middle; margin-left: 2px; font-size: 0.7em; color: #e57373;\">SOC</span></span> , а также <span style=\"padding: 2px; border-radius: 4px; border: 1px solid #ffcdd2; background: #ffebee\">отдельных категорий педагогических работников<span style=\"vertical-align: middle; margin-left: 2px; font-size: 0.7em; color: #e57373;\">SOC</span></span> ; \n",
       "<span style=\"padding: 2px; border-radius: 4px; border: 1px solid #c8e6c9; background: #e8f5e9\">развитие<span style=\"vertical-align: middle; margin-left: 2px; font-size: 0.7em; color: #66bb6a;\">CMP</span></span> <span style=\"padding: 2px; border-radius: 4px; border: 1px solid #bbdefb; background: #e3f2fd\">кадрового потенциала<span style=\"vertical-align: middle; margin-left: 2px; font-size: 0.7em; color: #64b5f6;\">ECO</span></span> и <span style=\"padding: 2px; border-radius: 4px; border: 1px solid #bbdefb; background: #e3f2fd\">инновационной деятельности<span style=\"vertical-align: middle; margin-left: 2px; font-size: 0.7em; color: #64b5f6;\">ACT</span></span> <span style=\"padding: 2px; border-radius: 4px; border: 1px solid #c8e6c9; background: #e8f5e9\">образовательных организаций<span style=\"vertical-align: middle; margin-left: 2px; font-size: 0.7em; color: #66bb6a;\">INST</span></span> . \n",
       "Планируемые результаты <span style=\"padding: 2px; border-radius: 4px; border: 1px solid #bbdefb; background: #e3f2fd\">реализации<span style=\"vertical-align: middle; margin-left: 2px; font-size: 0.7em; color: #64b5f6;\">BIN</span></span> Программы \n",
       "Планируемые результаты <span style=\"padding: 2px; border-radius: 4px; border: 1px solid #bbdefb; background: #e3f2fd\">реализации<span style=\"vertical-align: middle; margin-left: 2px; font-size: 0.7em; color: #64b5f6;\">BIN</span></span> муниципальной программы городского округа Долгопрудный « <span style=\"padding: 2px; border-radius: 4px; border: 1px solid #ffcdd2; background: #ffebee\">Образование<span style=\"vertical-align: middle; margin-left: 2px; font-size: 0.7em; color: #e57373;\">SOC</span></span> городского округа Долгопрудный на 2017 - 2021 годы » изложены в Приложении 1 к Программе . \n",
       "Методика расчета значений показателей <span style=\"padding: 2px; border-radius: 4px; border: 1px solid #bbdefb; background: #e3f2fd\">реализации<span style=\"vertical-align: middle; margin-left: 2px; font-size: 0.7em; color: #64b5f6;\">BIN</span></span> Программы \n",
       "Методика расчета значений показателей <span style=\"padding: 2px; border-radius: 4px; border: 1px solid #bbdefb; background: #e3f2fd\">реализации<span style=\"vertical-align: middle; margin-left: 2px; font-size: 0.7em; color: #64b5f6;\">BIN</span></span> муниципальной программы городского округа Долгопрудный « <span style=\"padding: 2px; border-radius: 4px; border: 1px solid #ffcdd2; background: #ffebee\">Образование<span style=\"vertical-align: middle; margin-left: 2px; font-size: 0.7em; color: #e57373;\">SOC</span></span> городского округа Долгопрудный на 2017 - 2021 годы » представлена в Приложении 2 к Программе . \n",
       "Порядок взаимодействия ответственного за <span style=\"padding: 2px; border-radius: 4px; border: 1px solid #bbdefb; background: #e3f2fd\">выполнение<span style=\"vertical-align: middle; margin-left: 2px; font-size: 0.7em; color: #64b5f6;\">BIN</span></span> <span style=\"padding: 2px; border-radius: 4px; border: 1px solid #bbdefb; background: #e3f2fd\">мероприятий<span style=\"vertical-align: middle; margin-left: 2px; font-size: 0.7em; color: #64b5f6;\">ACT</span></span> Программы с заказчиком Программы \n",
       "<span style=\"padding: 2px; border-radius: 4px; border: 1px solid #bbdefb; background: #e3f2fd\">Контроль<span style=\"vertical-align: middle; margin-left: 2px; font-size: 0.7em; color: #64b5f6;\">ACT</span></span> за <span style=\"padding: 2px; border-radius: 4px; border: 1px solid #bbdefb; background: #e3f2fd\">реализацией<span style=\"vertical-align: middle; margin-left: 2px; font-size: 0.7em; color: #64b5f6;\">BIN</span></span> Программы <span style=\"padding: 2px; border-radius: 4px; border: 1px solid #bbdefb; background: #e3f2fd\">осуществляется<span style=\"vertical-align: middle; margin-left: 2px; font-size: 0.7em; color: #64b5f6;\">BIN</span></span> <span style=\"padding: 2px; border-radius: 4px; border: 1px solid #c8e6c9; background: #e8f5e9\">администрацией города Долгопрудного<span style=\"vertical-align: middle; margin-left: 2px; font-size: 0.7em; color: #66bb6a;\">INST</span></span> . \n",
       "<span style=\"padding: 2px; border-radius: 4px; border: 1px solid #bbdefb; background: #e3f2fd\">Координацию<span style=\"vertical-align: middle; margin-left: 2px; font-size: 0.7em; color: #64b5f6;\">ACT</span></span> <span style=\"padding: 2px; border-radius: 4px; border: 1px solid #bbdefb; background: #e3f2fd\">реализации<span style=\"vertical-align: middle; margin-left: 2px; font-size: 0.7em; color: #64b5f6;\">BIN</span></span> Программы <span style=\"padding: 2px; border-radius: 4px; border: 1px solid #bbdefb; background: #e3f2fd\">осуществляет<span style=\"vertical-align: middle; margin-left: 2px; font-size: 0.7em; color: #64b5f6;\">BIN</span></span> <span style=\"padding: 2px; border-radius: 4px; border: 1px solid #c8e6c9; background: #e8f5e9\">заместитель руководителя администрации<span style=\"vertical-align: middle; margin-left: 2px; font-size: 0.7em; color: #66bb6a;\">INST</span></span> , курирующий данное направление . \n",
       "Ответственность за <span style=\"padding: 2px; border-radius: 4px; border: 1px solid #bbdefb; background: #e3f2fd\">реализацию<span style=\"vertical-align: middle; margin-left: 2px; font-size: 0.7em; color: #64b5f6;\">BIN</span></span> Программы и <span style=\"padding: 2px; border-radius: 4px; border: 1px solid #bbdefb; background: #e3f2fd\">обеспечение<span style=\"vertical-align: middle; margin-left: 2px; font-size: 0.7em; color: #64b5f6;\">BIN</span></span> <span style=\"padding: 2px; border-radius: 4px; border: 1px solid #bbdefb; background: #e3f2fd\">достижения<span style=\"vertical-align: middle; margin-left: 2px; font-size: 0.7em; color: #64b5f6;\">BIN</span></span> <span style=\"padding: 2px; border-radius: 4px; border: 1px solid #ffcdd2; background: #ffebee\">значений количественных и качественных показателей эффективности<span style=\"vertical-align: middle; margin-left: 2px; font-size: 0.7em; color: #e57373;\">MET</span></span> <span style=\"padding: 2px; border-radius: 4px; border: 1px solid #bbdefb; background: #e3f2fd\">реализации<span style=\"vertical-align: middle; margin-left: 2px; font-size: 0.7em; color: #64b5f6;\">BIN</span></span> Программы несет заказчик Программы – <span style=\"padding: 2px; border-radius: 4px; border: 1px solid #c8e6c9; background: #e8f5e9\">Управление образования Администрации<span style=\"vertical-align: middle; margin-left: 2px; font-size: 0.7em; color: #66bb6a;\">INST</span></span> г. Долгопрудного . \n",
       "Ответственные за <span style=\"padding: 2px; border-radius: 4px; border: 1px solid #bbdefb; background: #e3f2fd\">выполнение<span style=\"vertical-align: middle; margin-left: 2px; font-size: 0.7em; color: #64b5f6;\">BIN</span></span> <span style=\"padding: 2px; border-radius: 4px; border: 1px solid #bbdefb; background: #e3f2fd\">мероприятий<span style=\"vertical-align: middle; margin-left: 2px; font-size: 0.7em; color: #64b5f6;\">ACT</span></span> подпрограмм Программы представляют заказчику Программы ( заказчику подпрограмм ) – <span style=\"padding: 2px; border-radius: 4px; border: 1px solid #c8e6c9; background: #e8f5e9\">Управлению образования Администрации<span style=\"vertical-align: middle; margin-left: 2px; font-size: 0.7em; color: #66bb6a;\">INST</span></span> г. Долгопрудного отчет о <span style=\"padding: 2px; border-radius: 4px; border: 1px solid #bbdefb; background: #e3f2fd\">реализации<span style=\"vertical-align: middle; margin-left: 2px; font-size: 0.7em; color: #64b5f6;\">BIN</span></span> <span style=\"padding: 2px; border-radius: 4px; border: 1px solid #bbdefb; background: #e3f2fd\">мероприятий<span style=\"vertical-align: middle; margin-left: 2px; font-size: 0.7em; color: #64b5f6;\">ACT</span></span> в срок до 3 ( третьего ) числа месяца , следующего за отчетным кварталом . \n",
       "Состав , форма и сроки представления отчетности о ходе <span style=\"padding: 2px; border-radius: 4px; border: 1px solid #bbdefb; background: #e3f2fd\">реализации<span style=\"vertical-align: middle; margin-left: 2px; font-size: 0.7em; color: #64b5f6;\">BIN</span></span> <span style=\"padding: 2px; border-radius: 4px; border: 1px solid #bbdefb; background: #e3f2fd\">мероприятий<span style=\"vertical-align: middle; margin-left: 2px; font-size: 0.7em; color: #64b5f6;\">ACT</span></span> Программы \n",
       "<span style=\"padding: 2px; border-radius: 4px; border: 1px solid #c8e6c9; background: #e8f5e9\">Управление образования Администрации<span style=\"vertical-align: middle; margin-left: 2px; font-size: 0.7em; color: #66bb6a;\">INST</span></span> г. Долгопрудного до 15 ( пятнадцатого ) числа месяца , следующего за отчетным кварталом , <span style=\"padding: 2px; border-radius: 4px; border: 1px solid #bbdefb; background: #e3f2fd\">формирует<span style=\"vertical-align: middle; margin-left: 2px; font-size: 0.7em; color: #64b5f6;\">BIN</span></span> в подсистеме <span style=\"padding: 2px; border-radius: 4px; border: 1px solid #c8e6c9; background: #e8f5e9\">ГАСУ МО<span style=\"vertical-align: middle; margin-left: 2px; font-size: 0.7em; color: #66bb6a;\">INST</span></span> и направляет в <span style=\"padding: 2px; border-radius: 4px; border: 1px solid #c8e6c9; background: #e8f5e9\">Управление экономики администрации<span style=\"vertical-align: middle; margin-left: 2px; font-size: 0.7em; color: #66bb6a;\">INST</span></span> города Долгопрудного оперативный ( годовой ) отчет о <span style=\"padding: 2px; border-radius: 4px; border: 1px solid #bbdefb; background: #e3f2fd\">реализации<span style=\"vertical-align: middle; margin-left: 2px; font-size: 0.7em; color: #64b5f6;\">BIN</span></span> <span style=\"padding: 2px; border-radius: 4px; border: 1px solid #bbdefb; background: #e3f2fd\">мероприятий<span style=\"vertical-align: middle; margin-left: 2px; font-size: 0.7em; color: #64b5f6;\">ACT</span></span> Программы . \n",
       "<span style=\"padding: 2px; border-radius: 4px; border: 1px solid #c8e6c9; background: #e8f5e9\">Управление образования Администрации<span style=\"vertical-align: middle; margin-left: 2px; font-size: 0.7em; color: #66bb6a;\">INST</span></span> г. Долгопрудного ежегодно в срок до 1 марта года , следующего за отчетным , <span style=\"padding: 2px; border-radius: 4px; border: 1px solid #bbdefb; background: #e3f2fd\">формирует<span style=\"vertical-align: middle; margin-left: 2px; font-size: 0.7em; color: #64b5f6;\">BIN</span></span> в подсистеме <span style=\"padding: 2px; border-radius: 4px; border: 1px solid #c8e6c9; background: #e8f5e9\">ГАСУ МО<span style=\"vertical-align: middle; margin-left: 2px; font-size: 0.7em; color: #66bb6a;\">INST</span></span> годовой отчет о <span style=\"padding: 2px; border-radius: 4px; border: 1px solid #bbdefb; background: #e3f2fd\">реализации<span style=\"vertical-align: middle; margin-left: 2px; font-size: 0.7em; color: #64b5f6;\">BIN</span></span> Программы и <span style=\"padding: 2px; border-radius: 4px; border: 1px solid #bbdefb; background: #e3f2fd\">представляет<span style=\"vertical-align: middle; margin-left: 2px; font-size: 0.7em; color: #64b5f6;\">BIN</span></span> его в <span style=\"padding: 2px; border-radius: 4px; border: 1px solid #c8e6c9; background: #e8f5e9\">Управление экономики администрации<span style=\"vertical-align: middle; margin-left: 2px; font-size: 0.7em; color: #66bb6a;\">INST</span></span> города Долгопрудного для <span style=\"padding: 2px; border-radius: 4px; border: 1px solid #bbdefb; background: #e3f2fd\">оценки<span style=\"vertical-align: middle; margin-left: 2px; font-size: 0.7em; color: #64b5f6;\">ACT</span></span> <span style=\"padding: 2px; border-radius: 4px; border: 1px solid #c8e6c9; background: #e8f5e9\">эффективности<span style=\"vertical-align: middle; margin-left: 2px; font-size: 0.7em; color: #66bb6a;\">QUA</span></span> <span style=\"padding: 2px; border-radius: 4px; border: 1px solid #bbdefb; background: #e3f2fd\">реализации<span style=\"vertical-align: middle; margin-left: 2px; font-size: 0.7em; color: #64b5f6;\">BIN</span></span> Программы . \n",
       "Раз в 3 года <span style=\"padding: 2px; border-radius: 4px; border: 1px solid #c8e6c9; background: #e8f5e9\">Управление образования Администрации<span style=\"vertical-align: middle; margin-left: 2px; font-size: 0.7em; color: #66bb6a;\">INST</span></span> г. Долгопрудного предоставляет в <span style=\"padding: 2px; border-radius: 4px; border: 1px solid #c8e6c9; background: #e8f5e9\">Управление экономики<span style=\"vertical-align: middle; margin-left: 2px; font-size: 0.7em; color: #66bb6a;\">INST</span></span> комплексный отчёт о <span style=\"padding: 2px; border-radius: 4px; border: 1px solid #bbdefb; background: #e3f2fd\">реализации<span style=\"vertical-align: middle; margin-left: 2px; font-size: 0.7em; color: #64b5f6;\">BIN</span></span> <span style=\"padding: 2px; border-radius: 4px; border: 1px solid #bbdefb; background: #e3f2fd\">мероприятий<span style=\"vertical-align: middle; margin-left: 2px; font-size: 0.7em; color: #64b5f6;\">ACT</span></span> Программы не позднее 1 апреля года , следующего за отчетным . \n",
       "Состав , формы и сроки представления отчетности о ходе <span style=\"padding: 2px; border-radius: 4px; border: 1px solid #bbdefb; background: #e3f2fd\">реализации<span style=\"vertical-align: middle; margin-left: 2px; font-size: 0.7em; color: #64b5f6;\">BIN</span></span> <span style=\"padding: 2px; border-radius: 4px; border: 1px solid #bbdefb; background: #e3f2fd\">мероприятий<span style=\"vertical-align: middle; margin-left: 2px; font-size: 0.7em; color: #64b5f6;\">ACT</span></span> Программы определены Порядком <span style=\"padding: 2px; border-radius: 4px; border: 1px solid #bbdefb; background: #e3f2fd\">разработки<span style=\"vertical-align: middle; margin-left: 2px; font-size: 0.7em; color: #64b5f6;\">BIN</span></span> и <span style=\"padding: 2px; border-radius: 4px; border: 1px solid #bbdefb; background: #e3f2fd\">реализации<span style=\"vertical-align: middle; margin-left: 2px; font-size: 0.7em; color: #64b5f6;\">BIN</span></span> муниципальных программ городского округа Долгопрудный Московской области утвержденным постановлением <span style=\"padding: 2px; border-radius: 4px; border: 1px solid #c8e6c9; background: #e8f5e9\">администрации<span style=\"vertical-align: middle; margin-left: 2px; font-size: 0.7em; color: #66bb6a;\">INST</span></span> города Долгопрудного от 21.09.2016 г. № 662-ПА/н . \n",
       "( в редакции от 21.06.2018 № 371-ПА/н ) \n",
       "Приложение № 1 к Программе \n",
       "Планируемые результаты реализации муниципальной программы городского округа Долгопрудный « <span style=\"padding: 2px; border-radius: 4px; border: 1px solid #ffcdd2; background: #ffebee\">Образование<span style=\"vertical-align: middle; margin-left: 2px; font-size: 0.7em; color: #e57373;\">SOC</span></span> городского округа Долгопрудный на 2017 - 2021 годы » \n",
       "Приложение № 2 к Программе \n",
       "Методика расчета значений показателей реализации муниципальной программы городского округа Долгопрудный « <span style=\"padding: 2px; border-radius: 4px; border: 1px solid #ffcdd2; background: #ffebee\">Образование<span style=\"vertical-align: middle; margin-left: 2px; font-size: 0.7em; color: #e57373;\">SOC</span></span> городского округа Долгопрудный на 2017 - 2021 годы » \n",
       "( в редакции от 21.06.2018 № 371-ПА/н ) \n",
       "Приложение № 3 к Программе \n",
       "ПОДПРОГРАММА \n",
       "« <span style=\"padding: 2px; border-radius: 4px; border: 1px solid #ffcdd2; background: #ffebee\">Дошкольное образование<span style=\"vertical-align: middle; margin-left: 2px; font-size: 0.7em; color: #e57373;\">SOC</span></span> » муниципальной программы городского округа Долгопрудный « <span style=\"padding: 2px; border-radius: 4px; border: 1px solid #ffcdd2; background: #ffebee\">Образование<span style=\"vertical-align: middle; margin-left: 2px; font-size: 0.7em; color: #e57373;\">SOC</span></span> городского округа Долгопрудный на 2017–2021 годы » \n",
       "ПАСПОРТ \n",
       "подпрограммы « <span style=\"padding: 2px; border-radius: 4px; border: 1px solid #ffcdd2; background: #ffebee\">Дошкольное образование<span style=\"vertical-align: middle; margin-left: 2px; font-size: 0.7em; color: #e57373;\">SOC</span></span> » муниципальной программы городского округа Долгопрудный « <span style=\"padding: 2px; border-radius: 4px; border: 1px solid #ffcdd2; background: #ffebee\">Образование<span style=\"vertical-align: middle; margin-left: 2px; font-size: 0.7em; color: #e57373;\">SOC</span></span> городского округа Долгопрудный на 2017–2021 годы » \n",
       "Описание задач подпрограммы « <span style=\"padding: 2px; border-radius: 4px; border: 1px solid #ffcdd2; background: #ffebee\">Дошкольное образование<span style=\"vertical-align: middle; margin-left: 2px; font-size: 0.7em; color: #e57373;\">SOC</span></span> » Программы \n",
       "Для <span style=\"padding: 2px; border-radius: 4px; border: 1px solid #bbdefb; background: #e3f2fd\">достижения<span style=\"vertical-align: middle; margin-left: 2px; font-size: 0.7em; color: #64b5f6;\">BIN</span></span> поставленной цели Программы в рамках подпрограммы предусмотрено решение следующих задач : \n",
       "обеспечение 100 % <span style=\"padding: 2px; border-radius: 4px; border: 1px solid #ffcdd2; background: #ffebee\">доли воспитанников дошкольных образовательных организаций<span style=\"vertical-align: middle; margin-left: 2px; font-size: 0.7em; color: #e57373;\">MET</span></span> , обучающихся по программам , соответствующим требованиям федерального государственного образовательного стандарта <span style=\"padding: 2px; border-radius: 4px; border: 1px solid #ffcdd2; background: #ffebee\">дошкольного образования<span style=\"vertical-align: middle; margin-left: 2px; font-size: 0.7em; color: #e57373;\">SOC</span></span> ; \n",
       "<span style=\"padding: 2px; border-radius: 4px; border: 1px solid #c8e6c9; background: #e8f5e9\">доступность<span style=\"vertical-align: middle; margin-left: 2px; font-size: 0.7em; color: #66bb6a;\">QUA</span></span> <span style=\"padding: 2px; border-radius: 4px; border: 1px solid #ffcdd2; background: #ffebee\">дошкольного образования<span style=\"vertical-align: middle; margin-left: 2px; font-size: 0.7em; color: #e57373;\">SOC</span></span> для <span style=\"padding: 2px; border-radius: 4px; border: 1px solid #ffcdd2; background: #ffebee\">детей<span style=\"vertical-align: middle; margin-left: 2px; font-size: 0.7em; color: #e57373;\">SOC</span></span> в возрасте от 1,5 до 7 лет . \n",
       "Характеристика проблем и <span style=\"padding: 2px; border-radius: 4px; border: 1px solid #bbdefb; background: #e3f2fd\">мероприятий<span style=\"vertical-align: middle; margin-left: 2px; font-size: 0.7em; color: #64b5f6;\">ACT</span></span> подпрограммы « <span style=\"padding: 2px; border-radius: 4px; border: 1px solid #ffcdd2; background: #ffebee\">Дошкольное образование<span style=\"vertical-align: middle; margin-left: 2px; font-size: 0.7em; color: #e57373;\">SOC</span></span> » Программы \n",
       "Подпрограмма « <span style=\"padding: 2px; border-radius: 4px; border: 1px solid #ffcdd2; background: #ffebee\">Дошкольное образование<span style=\"vertical-align: middle; margin-left: 2px; font-size: 0.7em; color: #e57373;\">SOC</span></span> » Программы <span style=\"padding: 2px; border-radius: 4px; border: 1px solid #bbdefb; background: #e3f2fd\">предусматривает<span style=\"vertical-align: middle; margin-left: 2px; font-size: 0.7em; color: #64b5f6;\">BIN</span></span> : \n",
       "а) \n",
       "<span style=\"padding: 2px; border-radius: 4px; border: 1px solid #bbdefb; background: #e3f2fd\">мероприятия<span style=\"vertical-align: middle; margin-left: 2px; font-size: 0.7em; color: #64b5f6;\">ACT</span></span> , <span style=\"padding: 2px; border-radius: 4px; border: 1px solid #bbdefb; background: #e3f2fd\">направленные<span style=\"vertical-align: middle; margin-left: 2px; font-size: 0.7em; color: #64b5f6;\">BIN</span></span> на <span style=\"padding: 2px; border-radius: 4px; border: 1px solid #bbdefb; background: #e3f2fd\">обеспечение<span style=\"vertical-align: middle; margin-left: 2px; font-size: 0.7em; color: #64b5f6;\">BIN</span></span> 100 % <span style=\"padding: 2px; border-radius: 4px; border: 1px solid #ffcdd2; background: #ffebee\">доли воспитанников дошкольных образовательных организаций<span style=\"vertical-align: middle; margin-left: 2px; font-size: 0.7em; color: #e57373;\">MET</span></span> , обучающихся по программам , соответствующим требованиям федерального государственного образовательного стандарта <span style=\"padding: 2px; border-radius: 4px; border: 1px solid #ffcdd2; background: #ffebee\">дошкольного образования<span style=\"vertical-align: middle; margin-left: 2px; font-size: 0.7em; color: #e57373;\">SOC</span></span> : \n",
       "<span style=\"padding: 2px; border-radius: 4px; border: 1px solid #bbdefb; background: #e3f2fd\">финансовое<span style=\"vertical-align: middle; margin-left: 2px; font-size: 0.7em; color: #64b5f6;\">ECO</span></span> <span style=\"padding: 2px; border-radius: 4px; border: 1px solid #bbdefb; background: #e3f2fd\">обеспечение<span style=\"vertical-align: middle; margin-left: 2px; font-size: 0.7em; color: #64b5f6;\">BIN</span></span> <span style=\"padding: 2px; border-radius: 4px; border: 1px solid #bbdefb; background: #e3f2fd\">реализации<span style=\"vertical-align: middle; margin-left: 2px; font-size: 0.7em; color: #64b5f6;\">BIN</span></span> прав граждан на <span style=\"padding: 2px; border-radius: 4px; border: 1px solid #bbdefb; background: #e3f2fd\">получение<span style=\"vertical-align: middle; margin-left: 2px; font-size: 0.7em; color: #64b5f6;\">BIN</span></span> <span style=\"padding: 2px; border-radius: 4px; border: 1px solid #ffcdd2; background: #ffebee\">общедоступного и бесплатного дошкольного образования<span style=\"vertical-align: middle; margin-left: 2px; font-size: 0.7em; color: #e57373;\">SOC</span></span> ; \n",
       "б) \n",
       "<span style=\"padding: 2px; border-radius: 4px; border: 1px solid #bbdefb; background: #e3f2fd\">мероприятия<span style=\"vertical-align: middle; margin-left: 2px; font-size: 0.7em; color: #64b5f6;\">ACT</span></span> <span style=\"padding: 2px; border-radius: 4px; border: 1px solid #bbdefb; background: #e3f2fd\">направленные<span style=\"vertical-align: middle; margin-left: 2px; font-size: 0.7em; color: #64b5f6;\">BIN</span></span> на <span style=\"padding: 2px; border-radius: 4px; border: 1px solid #c8e6c9; background: #e8f5e9\">повышение<span style=\"vertical-align: middle; margin-left: 2px; font-size: 0.7em; color: #66bb6a;\">CMP</span></span> <span style=\"padding: 2px; border-radius: 4px; border: 1px solid #ffcdd2; background: #ffebee\">доступности дошкольного образования<span style=\"vertical-align: middle; margin-left: 2px; font-size: 0.7em; color: #e57373;\">MET</span></span> для <span style=\"padding: 2px; border-radius: 4px; border: 1px solid #ffcdd2; background: #ffebee\">детей<span style=\"vertical-align: middle; margin-left: 2px; font-size: 0.7em; color: #e57373;\">SOC</span></span> в возрасте от 1,5 до 7 лет : \n",
       "<span style=\"padding: 2px; border-radius: 4px; border: 1px solid #bbdefb; background: #e3f2fd\">создание<span style=\"vertical-align: middle; margin-left: 2px; font-size: 0.7em; color: #64b5f6;\">BIN</span></span> и <span style=\"padding: 2px; border-radius: 4px; border: 1px solid #c8e6c9; background: #e8f5e9\">развитие<span style=\"vertical-align: middle; margin-left: 2px; font-size: 0.7em; color: #66bb6a;\">CMP</span></span> <span style=\"padding: 2px; border-radius: 4px; border: 1px solid #bbdefb; background: #e3f2fd\">объектов дошкольного образования<span style=\"vertical-align: middle; margin-left: 2px; font-size: 0.7em; color: #64b5f6;\">ECO</span></span> ( включая <span style=\"padding: 2px; border-radius: 4px; border: 1px solid #bbdefb; background: #e3f2fd\">реконструкцию<span style=\"vertical-align: middle; margin-left: 2px; font-size: 0.7em; color: #64b5f6;\">ACT</span></span> со <span style=\"padding: 2px; border-radius: 4px; border: 1px solid #bbdefb; background: #e3f2fd\">строительством<span style=\"vertical-align: middle; margin-left: 2px; font-size: 0.7em; color: #64b5f6;\">ACT</span></span> <span style=\"padding: 2px; border-radius: 4px; border: 1px solid #bbdefb; background: #e3f2fd\">пристроек<span style=\"vertical-align: middle; margin-left: 2px; font-size: 0.7em; color: #64b5f6;\">ECO</span></span> ) . \n",
       "Перечень <span style=\"padding: 2px; border-radius: 4px; border: 1px solid #bbdefb; background: #e3f2fd\">мероприятий<span style=\"vertical-align: middle; margin-left: 2px; font-size: 0.7em; color: #64b5f6;\">ACT</span></span> подпрограммы « Дошкольное образование » муниципальной программы городского округа Долгопрудный « <span style=\"padding: 2px; border-radius: 4px; border: 1px solid #ffcdd2; background: #ffebee\">Образование<span style=\"vertical-align: middle; margin-left: 2px; font-size: 0.7em; color: #e57373;\">SOC</span></span> городского округа Долгопрудный на 2017 – 2021 годы » с указанием сроков <span style=\"padding: 2px; border-radius: 4px; border: 1px solid #bbdefb; background: #e3f2fd\">исполнения<span style=\"vertical-align: middle; margin-left: 2px; font-size: 0.7em; color: #64b5f6;\">BIN</span></span> и <span style=\"padding: 2px; border-radius: 4px; border: 1px solid #ffcdd2; background: #ffebee\">объемов финансирования<span style=\"vertical-align: middle; margin-left: 2px; font-size: 0.7em; color: #e57373;\">MET</span></span> представлен в Приложении № 1 к подпрограмме « <span style=\"padding: 2px; border-radius: 4px; border: 1px solid #ffcdd2; background: #ffebee\">Дошкольное образование<span style=\"vertical-align: middle; margin-left: 2px; font-size: 0.7em; color: #e57373;\">SOC</span></span> » муниципальной программы городского округа Долгопрудный « Образование городского округа Долгопрудный на 2017 – 2021 годы » . \n",
       "Адресный перечень , предусматривающий капитальные вложения в <span style=\"padding: 2px; border-radius: 4px; border: 1px solid #bbdefb; background: #e3f2fd\">объекты общественной инфраструктуры<span style=\"vertical-align: middle; margin-left: 2px; font-size: 0.7em; color: #64b5f6;\">ECO</span></span> ( <span style=\"padding: 2px; border-radius: 4px; border: 1px solid #bbdefb; background: #e3f2fd\">строительство<span style=\"vertical-align: middle; margin-left: 2px; font-size: 0.7em; color: #64b5f6;\">BIN</span></span> , <span style=\"padding: 2px; border-radius: 4px; border: 1px solid #bbdefb; background: #e3f2fd\">реконструкция<span style=\"vertical-align: middle; margin-left: 2px; font-size: 0.7em; color: #64b5f6;\">ACT</span></span> , <span style=\"padding: 2px; border-radius: 4px; border: 1px solid #bbdefb; background: #e3f2fd\">капитальный ремонт<span style=\"vertical-align: middle; margin-left: 2px; font-size: 0.7em; color: #64b5f6;\">ACT</span></span> ) , <span style=\"padding: 2px; border-radius: 4px; border: 1px solid #bbdefb; background: #e3f2fd\">финансирование<span style=\"vertical-align: middle; margin-left: 2px; font-size: 0.7em; color: #64b5f6;\">BIN</span></span> которых предусмотрено <span style=\"padding: 2px; border-radius: 4px; border: 1px solid #bbdefb; background: #e3f2fd\">мероприятиями<span style=\"vertical-align: middle; margin-left: 2px; font-size: 0.7em; color: #64b5f6;\">ACT</span></span> подпрограммы « <span style=\"padding: 2px; border-radius: 4px; border: 1px solid #ffcdd2; background: #ffebee\">Дошкольное образование<span style=\"vertical-align: middle; margin-left: 2px; font-size: 0.7em; color: #e57373;\">SOC</span></span> » муниципальной программы городского округа Долгопрудный представлен в Приложении № 2 к подпрограмме « <span style=\"padding: 2px; border-radius: 4px; border: 1px solid #ffcdd2; background: #ffebee\">Дошкольное образование<span style=\"vertical-align: middle; margin-left: 2px; font-size: 0.7em; color: #e57373;\">SOC</span></span> » муниципальной программы городского округа Долгопрудный « <span style=\"padding: 2px; border-radius: 4px; border: 1px solid #ffcdd2; background: #ffebee\">Образование<span style=\"vertical-align: middle; margin-left: 2px; font-size: 0.7em; color: #e57373;\">SOC</span></span> городского округа Долгопрудный на 2017 – 2021 годы » . \n",
       "( в редакции от 21.06.2018 № 371-ПА/н ) \n",
       "Приложение № 1 \n",
       "к подпрограмме « <span style=\"padding: 2px; border-radius: 4px; border: 1px solid #ffcdd2; background: #ffebee\">Дошкольное образование<span style=\"vertical-align: middle; margin-left: 2px; font-size: 0.7em; color: #e57373;\">SOC</span></span> » муниципальной программы городского округа Долгопрудный « Образование городского округа Долгопрудный на 2017 – 2021 годы » \n",
       "Перечень мероприятий подпрограммы « Дошкольное образование » муниципальной программы городского округа Долгопрудный « <span style=\"padding: 2px; border-radius: 4px; border: 1px solid #ffcdd2; background: #ffebee\">Образование<span style=\"vertical-align: middle; margin-left: 2px; font-size: 0.7em; color: #e57373;\">SOC</span></span> городского округа Долгопрудный на 2017 – 2021 годы » \n",
       "Приложение № 2 \n",
       "к подпрограмме « <span style=\"padding: 2px; border-radius: 4px; border: 1px solid #ffcdd2; background: #ffebee\">Дошкольное образование<span style=\"vertical-align: middle; margin-left: 2px; font-size: 0.7em; color: #e57373;\">SOC</span></span> » муниципальной программы городского округа Долгопрудный « <span style=\"padding: 2px; border-radius: 4px; border: 1px solid #ffcdd2; background: #ffebee\">Образование<span style=\"vertical-align: middle; margin-left: 2px; font-size: 0.7em; color: #e57373;\">SOC</span></span> городского округа Долгопрудный на 2017 – 2021 годы » \n",
       "Адресный перечень , предусматривающий <span style=\"padding: 2px; border-radius: 4px; border: 1px solid #bbdefb; background: #e3f2fd\">капитальные вложения<span style=\"vertical-align: middle; margin-left: 2px; font-size: 0.7em; color: #64b5f6;\">ECO</span></span> в <span style=\"padding: 2px; border-radius: 4px; border: 1px solid #bbdefb; background: #e3f2fd\">объекты общественной инфраструктуры<span style=\"vertical-align: middle; margin-left: 2px; font-size: 0.7em; color: #64b5f6;\">ECO</span></span> ( <span style=\"padding: 2px; border-radius: 4px; border: 1px solid #bbdefb; background: #e3f2fd\">строительство<span style=\"vertical-align: middle; margin-left: 2px; font-size: 0.7em; color: #64b5f6;\">BIN</span></span> , <span style=\"padding: 2px; border-radius: 4px; border: 1px solid #bbdefb; background: #e3f2fd\">реконструкция<span style=\"vertical-align: middle; margin-left: 2px; font-size: 0.7em; color: #64b5f6;\">ACT</span></span> , <span style=\"padding: 2px; border-radius: 4px; border: 1px solid #bbdefb; background: #e3f2fd\">капитальный ремонт<span style=\"vertical-align: middle; margin-left: 2px; font-size: 0.7em; color: #64b5f6;\">ACT</span></span> ) , <span style=\"padding: 2px; border-radius: 4px; border: 1px solid #bbdefb; background: #e3f2fd\">финансирование<span style=\"vertical-align: middle; margin-left: 2px; font-size: 0.7em; color: #64b5f6;\">BIN</span></span> которых предусмотрено мероприятиями подпрограммы « <span style=\"padding: 2px; border-radius: 4px; border: 1px solid #ffcdd2; background: #ffebee\">Дошкольное образование<span style=\"vertical-align: middle; margin-left: 2px; font-size: 0.7em; color: #e57373;\">SOC</span></span> » муниципальной программы городского округа Долгопрудный \n",
       "« <span style=\"padding: 2px; border-radius: 4px; border: 1px solid #ffcdd2; background: #ffebee\">Образование<span style=\"vertical-align: middle; margin-left: 2px; font-size: 0.7em; color: #e57373;\">SOC</span></span> городского округа Долгопрудный на 2017 – 2021 годы » \n",
       "( в редакции от 21.06.2018 № 371-ПА/н ) \n",
       "Приложение № 4 к Программе \n",
       "ПОДПРОГРАММА \n",
       "« <span style=\"padding: 2px; border-radius: 4px; border: 1px solid #ffcdd2; background: #ffebee\">Общее образование<span style=\"vertical-align: middle; margin-left: 2px; font-size: 0.7em; color: #e57373;\">SOC</span></span> » муниципальной программы городского округа Долгопрудный « <span style=\"padding: 2px; border-radius: 4px; border: 1px solid #ffcdd2; background: #ffebee\">Образование<span style=\"vertical-align: middle; margin-left: 2px; font-size: 0.7em; color: #e57373;\">SOC</span></span> городского округа Долгопрудный на 2017 – 2021 годы » \n",
       "ПАСПОРТ \n",
       "подпрограммы « <span style=\"padding: 2px; border-radius: 4px; border: 1px solid #ffcdd2; background: #ffebee\">Общее образование<span style=\"vertical-align: middle; margin-left: 2px; font-size: 0.7em; color: #e57373;\">SOC</span></span> » муниципальной программы городского округа Долгопрудный « <span style=\"padding: 2px; border-radius: 4px; border: 1px solid #ffcdd2; background: #ffebee\">Образование<span style=\"vertical-align: middle; margin-left: 2px; font-size: 0.7em; color: #e57373;\">SOC</span></span> городского округа Долгопрудный на 2017 – 2021 годы » \n",
       "Описание задач подпрограммы « <span style=\"padding: 2px; border-radius: 4px; border: 1px solid #ffcdd2; background: #ffebee\">Общее образование<span style=\"vertical-align: middle; margin-left: 2px; font-size: 0.7em; color: #e57373;\">SOC</span></span> » Программы \n",
       "Для <span style=\"padding: 2px; border-radius: 4px; border: 1px solid #bbdefb; background: #e3f2fd\">достижения<span style=\"vertical-align: middle; margin-left: 2px; font-size: 0.7em; color: #64b5f6;\">BIN</span></span> поставленной цели Программы в рамках подпрограммы предусмотрено решение следующих задач : \n",
       "<span style=\"padding: 2px; border-radius: 4px; border: 1px solid #c8e6c9; background: #e8f5e9\">увеличение<span style=\"vertical-align: middle; margin-left: 2px; font-size: 0.7em; color: #66bb6a;\">CMP</span></span> <span style=\"padding: 2px; border-radius: 4px; border: 1px solid #ffcdd2; background: #ffebee\">доли обучающихся по федеральным государственным образовательным стандартам<span style=\"vertical-align: middle; margin-left: 2px; font-size: 0.7em; color: #e57373;\">MET</span></span> ; \n",
       "<span style=\"padding: 2px; border-radius: 4px; border: 1px solid #c8e6c9; background: #e8f5e9\">снижение<span style=\"vertical-align: middle; margin-left: 2px; font-size: 0.7em; color: #66bb6a;\">CMP</span></span> <span style=\"padding: 2px; border-radius: 4px; border: 1px solid #ffcdd2; background: #ffebee\">доли обучающихся в государственных ( муниципальных ) общеобразовательных организациях , занимающихся во вторую смену<span style=\"vertical-align: middle; margin-left: 2px; font-size: 0.7em; color: #e57373;\">MET</span></span> . \n",
       "Характеристика проблем и <span style=\"padding: 2px; border-radius: 4px; border: 1px solid #bbdefb; background: #e3f2fd\">мероприятий<span style=\"vertical-align: middle; margin-left: 2px; font-size: 0.7em; color: #64b5f6;\">ACT</span></span> подпрограммы « <span style=\"padding: 2px; border-radius: 4px; border: 1px solid #ffcdd2; background: #ffebee\">Общее образование<span style=\"vertical-align: middle; margin-left: 2px; font-size: 0.7em; color: #e57373;\">SOC</span></span> » Программы \n",
       "Подпрограмма « <span style=\"padding: 2px; border-radius: 4px; border: 1px solid #ffcdd2; background: #ffebee\">Общее образование<span style=\"vertical-align: middle; margin-left: 2px; font-size: 0.7em; color: #e57373;\">SOC</span></span> » Программы <span style=\"padding: 2px; border-radius: 4px; border: 1px solid #bbdefb; background: #e3f2fd\">предусматривает<span style=\"vertical-align: middle; margin-left: 2px; font-size: 0.7em; color: #64b5f6;\">BIN</span></span> : \n",
       "а) \n",
       "<span style=\"padding: 2px; border-radius: 4px; border: 1px solid #bbdefb; background: #e3f2fd\">мероприятия<span style=\"vertical-align: middle; margin-left: 2px; font-size: 0.7em; color: #64b5f6;\">ACT</span></span> , направленные на <span style=\"padding: 2px; border-radius: 4px; border: 1px solid #c8e6c9; background: #e8f5e9\">увеличение<span style=\"vertical-align: middle; margin-left: 2px; font-size: 0.7em; color: #66bb6a;\">CMP</span></span> <span style=\"padding: 2px; border-radius: 4px; border: 1px solid #ffcdd2; background: #ffebee\">доли обучающихся по федеральным государственным образовательным стандартам<span style=\"vertical-align: middle; margin-left: 2px; font-size: 0.7em; color: #e57373;\">MET</span></span> : \n",
       "<span style=\"padding: 2px; border-radius: 4px; border: 1px solid #bbdefb; background: #e3f2fd\">финансовое обеспечение деятельности<span style=\"vertical-align: middle; margin-left: 2px; font-size: 0.7em; color: #64b5f6;\">ECO</span></span> <span style=\"padding: 2px; border-radius: 4px; border: 1px solid #c8e6c9; background: #e8f5e9\">образовательных организаций<span style=\"vertical-align: middle; margin-left: 2px; font-size: 0.7em; color: #66bb6a;\">INST</span></span> ; \n",
       "б) \n",
       "<span style=\"padding: 2px; border-radius: 4px; border: 1px solid #bbdefb; background: #e3f2fd\">мероприятия<span style=\"vertical-align: middle; margin-left: 2px; font-size: 0.7em; color: #64b5f6;\">ACT</span></span> , направленные на <span style=\"padding: 2px; border-radius: 4px; border: 1px solid #c8e6c9; background: #e8f5e9\">снижение<span style=\"vertical-align: middle; margin-left: 2px; font-size: 0.7em; color: #66bb6a;\">CMP</span></span> <span style=\"padding: 2px; border-radius: 4px; border: 1px solid #ffcdd2; background: #ffebee\">доли обучающихся в государственных ( муниципальных ) общеобразовательных организациях , занимающихся во вторую смену<span style=\"vertical-align: middle; margin-left: 2px; font-size: 0.7em; color: #e57373;\">MET</span></span> : \n",
       "<span style=\"padding: 2px; border-radius: 4px; border: 1px solid #bbdefb; background: #e3f2fd\">создание<span style=\"vertical-align: middle; margin-left: 2px; font-size: 0.7em; color: #64b5f6;\">BIN</span></span> и <span style=\"padding: 2px; border-radius: 4px; border: 1px solid #c8e6c9; background: #e8f5e9\">развитие<span style=\"vertical-align: middle; margin-left: 2px; font-size: 0.7em; color: #66bb6a;\">CMP</span></span> в <span style=\"padding: 2px; border-radius: 4px; border: 1px solid #c8e6c9; background: #e8f5e9\">общеобразовательных организациях<span style=\"vertical-align: middle; margin-left: 2px; font-size: 0.7em; color: #66bb6a;\">INST</span></span> Московской области условий для <span style=\"padding: 2px; border-radius: 4px; border: 1px solid #bbdefb; background: #e3f2fd\">ликвидации<span style=\"vertical-align: middle; margin-left: 2px; font-size: 0.7em; color: #64b5f6;\">BIN</span></span> второй смены . \n",
       "Перечень <span style=\"padding: 2px; border-radius: 4px; border: 1px solid #bbdefb; background: #e3f2fd\">мероприятий<span style=\"vertical-align: middle; margin-left: 2px; font-size: 0.7em; color: #64b5f6;\">ACT</span></span> подпрограммы « <span style=\"padding: 2px; border-radius: 4px; border: 1px solid #ffcdd2; background: #ffebee\">Общее образование<span style=\"vertical-align: middle; margin-left: 2px; font-size: 0.7em; color: #e57373;\">SOC</span></span> » муниципальной программы городского округа Долгопрудный « <span style=\"padding: 2px; border-radius: 4px; border: 1px solid #ffcdd2; background: #ffebee\">Образование<span style=\"vertical-align: middle; margin-left: 2px; font-size: 0.7em; color: #e57373;\">SOC</span></span> городского округа Долгопрудный на 2017 – 2021 годы » с указанием сроков <span style=\"padding: 2px; border-radius: 4px; border: 1px solid #bbdefb; background: #e3f2fd\">исполнения<span style=\"vertical-align: middle; margin-left: 2px; font-size: 0.7em; color: #64b5f6;\">BIN</span></span> и <span style=\"padding: 2px; border-radius: 4px; border: 1px solid #ffcdd2; background: #ffebee\">объемов финансирования<span style=\"vertical-align: middle; margin-left: 2px; font-size: 0.7em; color: #e57373;\">MET</span></span> представлен в Приложении № 1 к подпрограмме « <span style=\"padding: 2px; border-radius: 4px; border: 1px solid #ffcdd2; background: #ffebee\">Общее образование<span style=\"vertical-align: middle; margin-left: 2px; font-size: 0.7em; color: #e57373;\">SOC</span></span> » муниципальной программы городского округа Долгопрудный « Образование городского округа Долгопрудный на 2017 – 2021 годы » . \n",
       "Адресный перечень , предусматривающий <span style=\"padding: 2px; border-radius: 4px; border: 1px solid #bbdefb; background: #e3f2fd\">капитальные вложения<span style=\"vertical-align: middle; margin-left: 2px; font-size: 0.7em; color: #64b5f6;\">ECO</span></span> в <span style=\"padding: 2px; border-radius: 4px; border: 1px solid #bbdefb; background: #e3f2fd\">объекты общественной инфраструктуры<span style=\"vertical-align: middle; margin-left: 2px; font-size: 0.7em; color: #64b5f6;\">ECO</span></span> ( <span style=\"padding: 2px; border-radius: 4px; border: 1px solid #bbdefb; background: #e3f2fd\">строительство<span style=\"vertical-align: middle; margin-left: 2px; font-size: 0.7em; color: #64b5f6;\">BIN</span></span> , <span style=\"padding: 2px; border-radius: 4px; border: 1px solid #bbdefb; background: #e3f2fd\">реконструкция<span style=\"vertical-align: middle; margin-left: 2px; font-size: 0.7em; color: #64b5f6;\">ACT</span></span> , <span style=\"padding: 2px; border-radius: 4px; border: 1px solid #bbdefb; background: #e3f2fd\">капитальный ремонт<span style=\"vertical-align: middle; margin-left: 2px; font-size: 0.7em; color: #64b5f6;\">ACT</span></span> ) , <span style=\"padding: 2px; border-radius: 4px; border: 1px solid #bbdefb; background: #e3f2fd\">финансирование<span style=\"vertical-align: middle; margin-left: 2px; font-size: 0.7em; color: #64b5f6;\">BIN</span></span> которых предусмотрено мероприятиями подпрограммы « <span style=\"padding: 2px; border-radius: 4px; border: 1px solid #ffcdd2; background: #ffebee\">Общее образование<span style=\"vertical-align: middle; margin-left: 2px; font-size: 0.7em; color: #e57373;\">SOC</span></span> » муниципальной программы городского округа Долгопрудный « <span style=\"padding: 2px; border-radius: 4px; border: 1px solid #ffcdd2; background: #ffebee\">Образование<span style=\"vertical-align: middle; margin-left: 2px; font-size: 0.7em; color: #e57373;\">SOC</span></span> городского округа Долгопрудный на 2017 – 2021 годы » представлен в Приложении № 2 к подпрограмме « <span style=\"padding: 2px; border-radius: 4px; border: 1px solid #ffcdd2; background: #ffebee\">Общее образование<span style=\"vertical-align: middle; margin-left: 2px; font-size: 0.7em; color: #e57373;\">SOC</span></span> » муниципальной программы городского округа Долгопрудный « <span style=\"padding: 2px; border-radius: 4px; border: 1px solid #ffcdd2; background: #ffebee\">Образование<span style=\"vertical-align: middle; margin-left: 2px; font-size: 0.7em; color: #e57373;\">SOC</span></span> городского округа Долгопрудный на 2017 – 2021 годы » . \n",
       "( в редакции от 21.06.2018 № 371-ПА/н ) \n",
       "Приложение № 1 \n",
       "к подпрограмме « <span style=\"padding: 2px; border-radius: 4px; border: 1px solid #ffcdd2; background: #ffebee\">Общее образование<span style=\"vertical-align: middle; margin-left: 2px; font-size: 0.7em; color: #e57373;\">SOC</span></span> » муниципальной программы городского округа Долгопрудный « <span style=\"padding: 2px; border-radius: 4px; border: 1px solid #ffcdd2; background: #ffebee\">Образование<span style=\"vertical-align: middle; margin-left: 2px; font-size: 0.7em; color: #e57373;\">SOC</span></span> городского округа Долгопрудный на 2017 – 2021 годы » \n",
       "Перечень <span style=\"padding: 2px; border-radius: 4px; border: 1px solid #bbdefb; background: #e3f2fd\">мероприятий<span style=\"vertical-align: middle; margin-left: 2px; font-size: 0.7em; color: #64b5f6;\">ACT</span></span> подпрограммы « <span style=\"padding: 2px; border-radius: 4px; border: 1px solid #ffcdd2; background: #ffebee\">Общее образование<span style=\"vertical-align: middle; margin-left: 2px; font-size: 0.7em; color: #e57373;\">SOC</span></span> » муниципальной программы городского округа Долгопрудный « <span style=\"padding: 2px; border-radius: 4px; border: 1px solid #ffcdd2; background: #ffebee\">Образование<span style=\"vertical-align: middle; margin-left: 2px; font-size: 0.7em; color: #e57373;\">SOC</span></span> городского округа Долгопрудный на 2017 – 2021 годы » \n",
       "( в редакции от 21.06.2018 № 371-ПА/н ) \n",
       "Приложение № 2 \n",
       "к подпрограмме « <span style=\"padding: 2px; border-radius: 4px; border: 1px solid #ffcdd2; background: #ffebee\">Общее образование<span style=\"vertical-align: middle; margin-left: 2px; font-size: 0.7em; color: #e57373;\">SOC</span></span> » муниципальной программы городского округа Долгопрудный « <span style=\"padding: 2px; border-radius: 4px; border: 1px solid #ffcdd2; background: #ffebee\">Образование<span style=\"vertical-align: middle; margin-left: 2px; font-size: 0.7em; color: #e57373;\">SOC</span></span> городского округа Долгопрудный на 2017 – 2021 годы » \n",
       "Адресный перечень , предусматривающий капитальные вложения в <span style=\"padding: 2px; border-radius: 4px; border: 1px solid #bbdefb; background: #e3f2fd\">объекты общественной инфраструктуры<span style=\"vertical-align: middle; margin-left: 2px; font-size: 0.7em; color: #64b5f6;\">ECO</span></span> ( <span style=\"padding: 2px; border-radius: 4px; border: 1px solid #bbdefb; background: #e3f2fd\">строительство<span style=\"vertical-align: middle; margin-left: 2px; font-size: 0.7em; color: #64b5f6;\">BIN</span></span> , <span style=\"padding: 2px; border-radius: 4px; border: 1px solid #bbdefb; background: #e3f2fd\">реконструкция<span style=\"vertical-align: middle; margin-left: 2px; font-size: 0.7em; color: #64b5f6;\">ACT</span></span> , <span style=\"padding: 2px; border-radius: 4px; border: 1px solid #bbdefb; background: #e3f2fd\">капитальный ремонт<span style=\"vertical-align: middle; margin-left: 2px; font-size: 0.7em; color: #64b5f6;\">ACT</span></span> ) , <span style=\"padding: 2px; border-radius: 4px; border: 1px solid #bbdefb; background: #e3f2fd\">финансирование<span style=\"vertical-align: middle; margin-left: 2px; font-size: 0.7em; color: #64b5f6;\">BIN</span></span> которых предусмотрено <span style=\"padding: 2px; border-radius: 4px; border: 1px solid #bbdefb; background: #e3f2fd\">мероприятиями<span style=\"vertical-align: middle; margin-left: 2px; font-size: 0.7em; color: #64b5f6;\">ACT</span></span> подпрограммы « <span style=\"padding: 2px; border-radius: 4px; border: 1px solid #ffcdd2; background: #ffebee\">Общее образование<span style=\"vertical-align: middle; margin-left: 2px; font-size: 0.7em; color: #e57373;\">SOC</span></span> » муниципальной программы городского округа Долгопрудный \n",
       "« <span style=\"padding: 2px; border-radius: 4px; border: 1px solid #ffcdd2; background: #ffebee\">Образование<span style=\"vertical-align: middle; margin-left: 2px; font-size: 0.7em; color: #e57373;\">SOC</span></span> городского округа Долгопрудный на 2017 – 2021 годы » \n",
       "Приложение № 5 к Программе \n",
       "ПОДПРОГРАММА \n",
       "« <span style=\"padding: 2px; border-radius: 4px; border: 1px solid #ffcdd2; background: #ffebee\">Дополнительное образование<span style=\"vertical-align: middle; margin-left: 2px; font-size: 0.7em; color: #e57373;\">SOC</span></span> , <span style=\"padding: 2px; border-radius: 4px; border: 1px solid #ffcdd2; background: #ffebee\">воспитание и психолого - социальное сопровождение детей<span style=\"vertical-align: middle; margin-left: 2px; font-size: 0.7em; color: #e57373;\">SOC</span></span> » муниципальной программы городского округа Долгопрудный « <span style=\"padding: 2px; border-radius: 4px; border: 1px solid #ffcdd2; background: #ffebee\">Образование<span style=\"vertical-align: middle; margin-left: 2px; font-size: 0.7em; color: #e57373;\">SOC</span></span> городского округа Долгопрудный на 2017 – 2021 годы » \n",
       "ПАСПОРТ \n",
       "подпрограммы « <span style=\"padding: 2px; border-radius: 4px; border: 1px solid #ffcdd2; background: #ffebee\">Дополнительное образование<span style=\"vertical-align: middle; margin-left: 2px; font-size: 0.7em; color: #e57373;\">SOC</span></span> , <span style=\"padding: 2px; border-radius: 4px; border: 1px solid #ffcdd2; background: #ffebee\">воспитание и психолого - социальное сопровождение детей<span style=\"vertical-align: middle; margin-left: 2px; font-size: 0.7em; color: #e57373;\">SOC</span></span> » муниципальной программы городского округа Долгопрудный « <span style=\"padding: 2px; border-radius: 4px; border: 1px solid #ffcdd2; background: #ffebee\">Образование<span style=\"vertical-align: middle; margin-left: 2px; font-size: 0.7em; color: #e57373;\">SOC</span></span> городского округа Долгопрудный на 2017 – 2021 годы » \n",
       "Описание задач подпрограммы « <span style=\"padding: 2px; border-radius: 4px; border: 1px solid #ffcdd2; background: #ffebee\">Дополнительное образование<span style=\"vertical-align: middle; margin-left: 2px; font-size: 0.7em; color: #e57373;\">SOC</span></span> , <span style=\"padding: 2px; border-radius: 4px; border: 1px solid #ffcdd2; background: #ffebee\">воспитание и психолого - социальное сопровождение детей<span style=\"vertical-align: middle; margin-left: 2px; font-size: 0.7em; color: #e57373;\">SOC</span></span> » Программы \n",
       "Для <span style=\"padding: 2px; border-radius: 4px; border: 1px solid #bbdefb; background: #e3f2fd\">достижения<span style=\"vertical-align: middle; margin-left: 2px; font-size: 0.7em; color: #64b5f6;\">BIN</span></span> поставленной цели Программы в рамках подпрограммы предусмотрено решение следующих задач : \n",
       "<span style=\"padding: 2px; border-radius: 4px; border: 1px solid #c8e6c9; background: #e8f5e9\">Увеличение<span style=\"vertical-align: middle; margin-left: 2px; font-size: 0.7em; color: #66bb6a;\">CMP</span></span> <span style=\"padding: 2px; border-radius: 4px; border: 1px solid #ffcdd2; background: #ffebee\">численности детей , привлекаемых к участию в творческих мероприятиях<span style=\"vertical-align: middle; margin-left: 2px; font-size: 0.7em; color: #e57373;\">MET</span></span> . \n",
       "Характеристика проблем и <span style=\"padding: 2px; border-radius: 4px; border: 1px solid #bbdefb; background: #e3f2fd\">мероприятий<span style=\"vertical-align: middle; margin-left: 2px; font-size: 0.7em; color: #64b5f6;\">ACT</span></span> подпрограммы « <span style=\"padding: 2px; border-radius: 4px; border: 1px solid #ffcdd2; background: #ffebee\">Дополнительное образование<span style=\"vertical-align: middle; margin-left: 2px; font-size: 0.7em; color: #e57373;\">SOC</span></span> , <span style=\"padding: 2px; border-radius: 4px; border: 1px solid #ffcdd2; background: #ffebee\">воспитание и психолого - социальное сопровождение детей<span style=\"vertical-align: middle; margin-left: 2px; font-size: 0.7em; color: #e57373;\">SOC</span></span> » Программы \n",
       "Подпрограмма « <span style=\"padding: 2px; border-radius: 4px; border: 1px solid #ffcdd2; background: #ffebee\">Дополнительное образование<span style=\"vertical-align: middle; margin-left: 2px; font-size: 0.7em; color: #e57373;\">SOC</span></span> , <span style=\"padding: 2px; border-radius: 4px; border: 1px solid #ffcdd2; background: #ffebee\">воспитание и психолого - социальное сопровождение детей<span style=\"vertical-align: middle; margin-left: 2px; font-size: 0.7em; color: #e57373;\">SOC</span></span> » Программы <span style=\"padding: 2px; border-radius: 4px; border: 1px solid #bbdefb; background: #e3f2fd\">предусматривает<span style=\"vertical-align: middle; margin-left: 2px; font-size: 0.7em; color: #64b5f6;\">BIN</span></span> : \n",
       "а) \n",
       "<span style=\"padding: 2px; border-radius: 4px; border: 1px solid #bbdefb; background: #e3f2fd\">мероприятия<span style=\"vertical-align: middle; margin-left: 2px; font-size: 0.7em; color: #64b5f6;\">ACT</span></span> направленные на <span style=\"padding: 2px; border-radius: 4px; border: 1px solid #c8e6c9; background: #e8f5e9\">увеличение<span style=\"vertical-align: middle; margin-left: 2px; font-size: 0.7em; color: #66bb6a;\">CMP</span></span> <span style=\"padding: 2px; border-radius: 4px; border: 1px solid #ffcdd2; background: #ffebee\">численности детей , привлекаемых к участию в творческих мероприятиях<span style=\"vertical-align: middle; margin-left: 2px; font-size: 0.7em; color: #e57373;\">MET</span></span> : \n",
       "<span style=\"padding: 2px; border-radius: 4px; border: 1px solid #bbdefb; background: #e3f2fd\">реализация<span style=\"vertical-align: middle; margin-left: 2px; font-size: 0.7em; color: #64b5f6;\">BIN</span></span> комплекса <span style=\"padding: 2px; border-radius: 4px; border: 1px solid #bbdefb; background: #e3f2fd\">мер<span style=\"vertical-align: middle; margin-left: 2px; font-size: 0.7em; color: #64b5f6;\">ACT</span></span> , <span style=\"padding: 2px; border-radius: 4px; border: 1px solid #bbdefb; background: #e3f2fd\">обеспечивающих<span style=\"vertical-align: middle; margin-left: 2px; font-size: 0.7em; color: #64b5f6;\">BIN</span></span> <span style=\"padding: 2px; border-radius: 4px; border: 1px solid #c8e6c9; background: #e8f5e9\">развитие<span style=\"vertical-align: middle; margin-left: 2px; font-size: 0.7em; color: #66bb6a;\">CMP</span></span> <span style=\"padding: 2px; border-radius: 4px; border: 1px solid #bbdefb; background: #e3f2fd\">системы дополнительного образования детей<span style=\"vertical-align: middle; margin-left: 2px; font-size: 0.7em; color: #64b5f6;\">ECO</span></span> ; \n",
       "<span style=\"padding: 2px; border-radius: 4px; border: 1px solid #c8e6c9; background: #e8f5e9\">развитие<span style=\"vertical-align: middle; margin-left: 2px; font-size: 0.7em; color: #66bb6a;\">CMP</span></span> системы <span style=\"padding: 2px; border-radius: 4px; border: 1px solid #bbdefb; background: #e3f2fd\">конкурсных мероприятий<span style=\"vertical-align: middle; margin-left: 2px; font-size: 0.7em; color: #64b5f6;\">ACT</span></span> , направленных на <span style=\"padding: 2px; border-radius: 4px; border: 1px solid #bbdefb; background: #e3f2fd\">выявление и поддержку талантливой молодежи<span style=\"vertical-align: middle; margin-left: 2px; font-size: 0.7em; color: #64b5f6;\">ACT</span></span> . \n",
       "Перечень <span style=\"padding: 2px; border-radius: 4px; border: 1px solid #bbdefb; background: #e3f2fd\">мероприятий<span style=\"vertical-align: middle; margin-left: 2px; font-size: 0.7em; color: #64b5f6;\">ACT</span></span> подпрограммы &quot; <span style=\"padding: 2px; border-radius: 4px; border: 1px solid #ffcdd2; background: #ffebee\">Дополнительное образование<span style=\"vertical-align: middle; margin-left: 2px; font-size: 0.7em; color: #e57373;\">SOC</span></span> , <span style=\"padding: 2px; border-radius: 4px; border: 1px solid #ffcdd2; background: #ffebee\">воспитание и психолого - социальное сопровождение детей<span style=\"vertical-align: middle; margin-left: 2px; font-size: 0.7em; color: #e57373;\">SOC</span></span> &quot; муниципальной программы городского округа Долгопрудный « <span style=\"padding: 2px; border-radius: 4px; border: 1px solid #ffcdd2; background: #ffebee\">Образование<span style=\"vertical-align: middle; margin-left: 2px; font-size: 0.7em; color: #e57373;\">SOC</span></span> городского округа Долгопрудный на 2017 - 2021 годы » с указанием сроков <span style=\"padding: 2px; border-radius: 4px; border: 1px solid #bbdefb; background: #e3f2fd\">исполнения<span style=\"vertical-align: middle; margin-left: 2px; font-size: 0.7em; color: #64b5f6;\">BIN</span></span> и <span style=\"padding: 2px; border-radius: 4px; border: 1px solid #ffcdd2; background: #ffebee\">объемов финансирования<span style=\"vertical-align: middle; margin-left: 2px; font-size: 0.7em; color: #e57373;\">MET</span></span> представлен в Приложении № 1 к подпрограмме « <span style=\"padding: 2px; border-radius: 4px; border: 1px solid #ffcdd2; background: #ffebee\">Дополнительное образование<span style=\"vertical-align: middle; margin-left: 2px; font-size: 0.7em; color: #e57373;\">SOC</span></span> , <span style=\"padding: 2px; border-radius: 4px; border: 1px solid #ffcdd2; background: #ffebee\">воспитание и психолого - социальное сопровождение детей<span style=\"vertical-align: middle; margin-left: 2px; font-size: 0.7em; color: #e57373;\">SOC</span></span> » муниципальной программы городского округа Долгопрудный « <span style=\"padding: 2px; border-radius: 4px; border: 1px solid #ffcdd2; background: #ffebee\">Образование<span style=\"vertical-align: middle; margin-left: 2px; font-size: 0.7em; color: #e57373;\">SOC</span></span> городского округа Долгопрудный на 2017 – 2021 годы » . \n",
       "( в редакции от 21.06.2018 № 371-ПА/н ) \n",
       "Приложение № 1 \n",
       "к подпрограмме « <span style=\"padding: 2px; border-radius: 4px; border: 1px solid #ffcdd2; background: #ffebee\">Дополнительное образование<span style=\"vertical-align: middle; margin-left: 2px; font-size: 0.7em; color: #e57373;\">SOC</span></span> , <span style=\"padding: 2px; border-radius: 4px; border: 1px solid #ffcdd2; background: #ffebee\">воспитание и психолого - социальное сопровождение детей<span style=\"vertical-align: middle; margin-left: 2px; font-size: 0.7em; color: #e57373;\">SOC</span></span> » муниципальной программы городского округа Долгопрудный « <span style=\"padding: 2px; border-radius: 4px; border: 1px solid #ffcdd2; background: #ffebee\">Образование<span style=\"vertical-align: middle; margin-left: 2px; font-size: 0.7em; color: #e57373;\">SOC</span></span> городского округа Долгопрудный на 2017 – 2021 годы » \n",
       "Перечень <span style=\"padding: 2px; border-radius: 4px; border: 1px solid #bbdefb; background: #e3f2fd\">мероприятий<span style=\"vertical-align: middle; margin-left: 2px; font-size: 0.7em; color: #64b5f6;\">ACT</span></span> подпрограммы « <span style=\"padding: 2px; border-radius: 4px; border: 1px solid #ffcdd2; background: #ffebee\">Дополнительное образование<span style=\"vertical-align: middle; margin-left: 2px; font-size: 0.7em; color: #e57373;\">SOC</span></span> , <span style=\"padding: 2px; border-radius: 4px; border: 1px solid #ffcdd2; background: #ffebee\">воспитание и психолого - социальное сопровождение детей<span style=\"vertical-align: middle; margin-left: 2px; font-size: 0.7em; color: #e57373;\">SOC</span></span> » муниципальной программы городского округа Долгопрудный « <span style=\"padding: 2px; border-radius: 4px; border: 1px solid #ffcdd2; background: #ffebee\">Образование<span style=\"vertical-align: middle; margin-left: 2px; font-size: 0.7em; color: #e57373;\">SOC</span></span> городского округа Долгопрудный на 2017-2021 годы » \n",
       "( в редакции от 21.06.2018 № 371-ПА/н ) \n",
       "Приложение № 6 к Программе</div>"
      ],
      "text/plain": [
       "<IPython.core.display.HTML object>"
      ]
     },
     "metadata": {},
     "output_type": "display_data"
    }
   ],
   "source": [
    "show_box_markup(data[175][0], data[175][1], palette=palette(ACT=BLUE, CMP=GREEN, MET=RED))"
   ]
  },
  {
   "cell_type": "code",
   "execution_count": 10,
   "id": "23e08606",
   "metadata": {},
   "outputs": [
    {
     "data": {
      "text/html": [
       "<div class=\"tex2jax_ignore\" style=\"white-space: pre-wrap\">за счет <span style=\"padding: 2px; border-radius: 4px; border: 1px solid #c8e6c9; background: #e8f5e9\">средств республиканского бюджета<span style=\"vertical-align: middle; margin-left: 2px; font-size: 0.7em; color: #66bb6a;\">ECO</span></span> Республики Коми \n",
       "( с учетом <span style=\"padding: 2px; border-radius: 4px; border: 1px solid #c8e6c9; background: #e8f5e9\">средств федерального бюджета<span style=\"vertical-align: middle; margin-left: 2px; font-size: 0.7em; color: #66bb6a;\">ECO</span></span> ) \n",
       "( в ред. Постановления <span style=\"padding: 2px; border-radius: 4px; border: 1px solid #bbdefb; background: #e3f2fd\">Правительства РК<span style=\"vertical-align: middle; margin-left: 2px; font-size: 0.7em; color: #64b5f6;\">INST</span></span> от 25.01.2019 N 21 ) \n",
       "Таблица 6 \n",
       "<span style=\"padding: 2px; border-radius: 4px; border: 1px solid #c8e6c9; background: #e8f5e9\">РЕСУРСНОЕ ОБЕСПЕЧЕНИЕ<span style=\"vertical-align: middle; margin-left: 2px; font-size: 0.7em; color: #66bb6a;\">ECO</span></span> \n",
       "и прогнозная ( справочная ) оценка расходов республиканского \n",
       "бюджета Республики Коми ( с учетом средств федерального \n",
       "бюджета ) , <span style=\"padding: 2px; border-radius: 4px; border: 1px solid #c8e6c9; background: #e8f5e9\">бюджетов государственных внебюджетных фондов<span style=\"vertical-align: middle; margin-left: 2px; font-size: 0.7em; color: #66bb6a;\">ECO</span></span> \n",
       "Республики Коми , <span style=\"padding: 2px; border-radius: 4px; border: 1px solid #c8e6c9; background: #e8f5e9\">местных бюджетов<span style=\"vertical-align: middle; margin-left: 2px; font-size: 0.7em; color: #66bb6a;\">ECO</span></span> и <span style=\"padding: 2px; border-radius: 4px; border: 1px solid #c8e6c9; background: #e8f5e9\">юридических лиц<span style=\"vertical-align: middle; margin-left: 2px; font-size: 0.7em; color: #66bb6a;\">ECO</span></span> \n",
       "на <span style=\"padding: 2px; border-radius: 4px; border: 1px solid #ffcdd2; background: #ffebee\">реализацию<span style=\"vertical-align: middle; margin-left: 2px; font-size: 0.7em; color: #e57373;\">BIN</span></span> цели государственной программы \n",
       "( в ред. Постановления <span style=\"padding: 2px; border-radius: 4px; border: 1px solid #bbdefb; background: #e3f2fd\">Правительства РК<span style=\"vertical-align: middle; margin-left: 2px; font-size: 0.7em; color: #64b5f6;\">INST</span></span> от 25.01.2019 N 21 ) \n",
       "Таблица 7 \n",
       "ИНФОРМАЦИЯ \n",
       "об основных параметрах потребности в <span style=\"padding: 2px; border-radius: 4px; border: 1px solid #c8e6c9; background: #e8f5e9\">трудовых ресурсах<span style=\"vertical-align: middle; margin-left: 2px; font-size: 0.7em; color: #66bb6a;\">ECO</span></span> , \n",
       "необходимых для <span style=\"padding: 2px; border-radius: 4px; border: 1px solid #ffcdd2; background: #ffebee\">реализации<span style=\"vertical-align: middle; margin-left: 2px; font-size: 0.7em; color: #e57373;\">BIN</span></span> государственной программы \n",
       "( в ред. Постановления <span style=\"padding: 2px; border-radius: 4px; border: 1px solid #bbdefb; background: #e3f2fd\">Правительства РК<span style=\"vertical-align: middle; margin-left: 2px; font-size: 0.7em; color: #64b5f6;\">INST</span></span> от 25.01.2019 N 21 ) \n",
       "Таблица 8 \n",
       "<span style=\"padding: 2px; border-radius: 4px; border: 1px solid #c8e6c9; background: #e8f5e9\">ФИНАНСОВОЕ ОБЕСПЕЧЕНИЕ<span style=\"vertical-align: middle; margin-left: 2px; font-size: 0.7em; color: #66bb6a;\">ECO</span></span> \n",
       "основных мероприятий иных государственных программ , \n",
       "<span style=\"padding: 2px; border-radius: 4px; border: 1px solid #ffcdd2; background: #ffebee\">оказывающих<span style=\"vertical-align: middle; margin-left: 2px; font-size: 0.7em; color: #e57373;\">BIN</span></span> влияние на <span style=\"padding: 2px; border-radius: 4px; border: 1px solid #ffcdd2; background: #ffebee\">достижение<span style=\"vertical-align: middle; margin-left: 2px; font-size: 0.7em; color: #e57373;\">BIN</span></span> целей и решение \n",
       "задач государственной программы \n",
       "( в ред. Постановления <span style=\"padding: 2px; border-radius: 4px; border: 1px solid #bbdefb; background: #e3f2fd\">Правительства РК<span style=\"vertical-align: middle; margin-left: 2px; font-size: 0.7em; color: #64b5f6;\">INST</span></span> от 10.06.2019 N 286 ) \n",
       "Приложение 2 \n",
       "к Государственной программе \n",
       "Республики Коми \n",
       "&quot; <span style=\"padding: 2px; border-radius: 4px; border: 1px solid #bbdefb; background: #e3f2fd\">Юстиция<span style=\"vertical-align: middle; margin-left: 2px; font-size: 0.7em; color: #64b5f6;\">SOC</span></span> и <span style=\"padding: 2px; border-radius: 4px; border: 1px solid #ffcdd2; background: #ffebee\">обеспечение<span style=\"vertical-align: middle; margin-left: 2px; font-size: 0.7em; color: #e57373;\">BIN</span></span> <span style=\"padding: 2px; border-radius: 4px; border: 1px solid #bbdefb; background: #e3f2fd\">правопорядка<span style=\"vertical-align: middle; margin-left: 2px; font-size: 0.7em; color: #64b5f6;\">SOC</span></span> \n",
       "в Республике Коми &quot; \n",
       "ПРАВИЛА \n",
       "<span style=\"padding: 2px; border-radius: 4px; border: 1px solid #ffcdd2; background: #ffebee\">ПРЕДОСТАВЛЕНИЯ<span style=\"vertical-align: middle; margin-left: 2px; font-size: 0.7em; color: #e57373;\">BIN</span></span> ИЗ <span style=\"padding: 2px; border-radius: 4px; border: 1px solid #c8e6c9; background: #e8f5e9\">РЕСПУБЛИКАНСКОГО БЮДЖЕТА<span style=\"vertical-align: middle; margin-left: 2px; font-size: 0.7em; color: #66bb6a;\">ECO</span></span> РЕСПУБЛИКИ КОМИ \n",
       "<span style=\"padding: 2px; border-radius: 4px; border: 1px solid #c8e6c9; background: #e8f5e9\">СУБВЕНЦИЙ<span style=\"vertical-align: middle; margin-left: 2px; font-size: 0.7em; color: #66bb6a;\">ECO</span></span> НА <span style=\"padding: 2px; border-radius: 4px; border: 1px solid #ffcdd2; background: #ffebee\">ОСУЩЕСТВЛЕНИЕ<span style=\"vertical-align: middle; margin-left: 2px; font-size: 0.7em; color: #e57373;\">BIN</span></span> ГОСУДАРСТВЕННОГО ПОЛНОМОЧИЯ \n",
       "РЕСПУБЛИКИ КОМИ , ПРЕДУСМОТРЕННОГО СТАТЬЕЙ 2 ЗАКОНА \n",
       "РЕСПУБЛИКИ КОМИ &quot; О НАДЕЛЕНИИ ОРГАНОВ МЕСТНОГО \n",
       "САМОУПРАВЛЕНИЯ В РЕСПУБЛИКЕ КОМИ ОТДЕЛЬНЫМИ \n",
       "ГОСУДАРСТВЕННЫМИ ПОЛНОМОЧИЯМИ В СФЕРЕ ГОСУДАРСТВЕННОЙ \n",
       "РЕГИСТРАЦИИ АКТОВ ГРАЖДАНСКОГО СОСТОЯНИЯ &quot; \n",
       "1. \n",
       "<span style=\"padding: 2px; border-radius: 4px; border: 1px solid #ffcdd2; background: #ffebee\">Предоставление<span style=\"vertical-align: middle; margin-left: 2px; font-size: 0.7em; color: #e57373;\">BIN</span></span> из <span style=\"padding: 2px; border-radius: 4px; border: 1px solid #c8e6c9; background: #e8f5e9\">республиканского бюджета<span style=\"vertical-align: middle; margin-left: 2px; font-size: 0.7em; color: #66bb6a;\">ECO</span></span> Республики Коми <span style=\"padding: 2px; border-radius: 4px; border: 1px solid #c8e6c9; background: #e8f5e9\">бюджетам муниципальных районов<span style=\"vertical-align: middle; margin-left: 2px; font-size: 0.7em; color: #66bb6a;\">ECO</span></span> <span style=\"padding: 2px; border-radius: 4px; border: 1px solid #c8e6c9; background: #e8f5e9\">субвенций<span style=\"vertical-align: middle; margin-left: 2px; font-size: 0.7em; color: #66bb6a;\">ECO</span></span> на <span style=\"padding: 2px; border-radius: 4px; border: 1px solid #ffcdd2; background: #ffebee\">осуществление<span style=\"vertical-align: middle; margin-left: 2px; font-size: 0.7em; color: #e57373;\">BIN</span></span> государственного полномочия Республики Коми , предусмотренного статьей 2 Закона Республики Коми &quot; О наделении <span style=\"padding: 2px; border-radius: 4px; border: 1px solid #bbdefb; background: #e3f2fd\">органов местного самоуправления<span style=\"vertical-align: middle; margin-left: 2px; font-size: 0.7em; color: #64b5f6;\">INST</span></span> в Республике Коми отдельными государственными полномочиями в сфере государственной регистрации актов гражданского состояния &quot; , ( далее - <span style=\"padding: 2px; border-radius: 4px; border: 1px solid #c8e6c9; background: #e8f5e9\">субвенции<span style=\"vertical-align: middle; margin-left: 2px; font-size: 0.7em; color: #66bb6a;\">ECO</span></span> ) <span style=\"padding: 2px; border-radius: 4px; border: 1px solid #ffcdd2; background: #ffebee\">осуществляется<span style=\"vertical-align: middle; margin-left: 2px; font-size: 0.7em; color: #e57373;\">BIN</span></span> <span style=\"padding: 2px; border-radius: 4px; border: 1px solid #bbdefb; background: #e3f2fd\">Министерством юстиции Республики Коми<span style=\"vertical-align: middle; margin-left: 2px; font-size: 0.7em; color: #64b5f6;\">INST</span></span> ( далее - <span style=\"padding: 2px; border-radius: 4px; border: 1px solid #bbdefb; background: #e3f2fd\">Министерство<span style=\"vertical-align: middle; margin-left: 2px; font-size: 0.7em; color: #64b5f6;\">INST</span></span> ) в соответствии со <span style=\"padding: 2px; border-radius: 4px; border: 1px solid #c8e6c9; background: #e8f5e9\">сводной бюджетной росписью республиканского бюджета<span style=\"vertical-align: middle; margin-left: 2px; font-size: 0.7em; color: #66bb6a;\">ECO</span></span> Республики Коми и <span style=\"padding: 2px; border-radius: 4px; border: 1px solid #c8e6c9; background: #e8f5e9\">кассовым планом республиканского бюджета<span style=\"vertical-align: middle; margin-left: 2px; font-size: 0.7em; color: #66bb6a;\">ECO</span></span> Республики Коми \n",
       "в пределах <span style=\"padding: 2px; border-radius: 4px; border: 1px solid #c8e6c9; background: #e8f5e9\">бюджетных ассигнований<span style=\"vertical-align: middle; margin-left: 2px; font-size: 0.7em; color: #66bb6a;\">ECO</span></span> и <span style=\"padding: 2px; border-radius: 4px; border: 1px solid #c8e6c9; background: #e8f5e9\">лимитов бюджетных обязательств<span style=\"vertical-align: middle; margin-left: 2px; font-size: 0.7em; color: #66bb6a;\">ECO</span></span> , предусмотренных <span style=\"padding: 2px; border-radius: 4px; border: 1px solid #bbdefb; background: #e3f2fd\">Министерству<span style=\"vertical-align: middle; margin-left: 2px; font-size: 0.7em; color: #64b5f6;\">INST</span></span> , и в соответствии с распределением , установленным таблицей 15 приложения 11 к Закону Республики Коми &quot; О <span style=\"padding: 2px; border-radius: 4px; border: 1px solid #c8e6c9; background: #e8f5e9\">республиканском бюджете<span style=\"vertical-align: middle; margin-left: 2px; font-size: 0.7em; color: #66bb6a;\">ECO</span></span> Республики Коми на 2019 год и плановый период 2020 и 2021 годов &quot; . \n",
       "( в ред. Постановлений <span style=\"padding: 2px; border-radius: 4px; border: 1px solid #bbdefb; background: #e3f2fd\">Правительства РК<span style=\"vertical-align: middle; margin-left: 2px; font-size: 0.7em; color: #64b5f6;\">INST</span></span> от 12.03.2018 N 127 , от 25.01.2019 N 21 ) \n",
       "2. \n",
       "<span style=\"padding: 2px; border-radius: 4px; border: 1px solid #ffcdd2; background: #ffebee\">Перечисление<span style=\"vertical-align: middle; margin-left: 2px; font-size: 0.7em; color: #e57373;\">BIN</span></span> <span style=\"padding: 2px; border-radius: 4px; border: 1px solid #c8e6c9; background: #e8f5e9\">субвенции<span style=\"vertical-align: middle; margin-left: 2px; font-size: 0.7em; color: #66bb6a;\">ECO</span></span> осуществляется в размере <span style=\"padding: 2px; border-radius: 4px; border: 1px solid #ffcdd2; background: #ffebee\">годового объема<span style=\"vertical-align: middle; margin-left: 2px; font-size: 0.7em; color: #e57373;\">MET</span></span> в срок до 1 февраля 2019 года . \n",
       "( в ред. Постановления <span style=\"padding: 2px; border-radius: 4px; border: 1px solid #bbdefb; background: #e3f2fd\">Правительства РК<span style=\"vertical-align: middle; margin-left: 2px; font-size: 0.7em; color: #64b5f6;\">INST</span></span> от 25.01.2019 N 21 ) \n",
       "3. \n",
       "Ежеквартально , до 5 - го числа месяца , следующего за отчетным кварталом , <span style=\"padding: 2px; border-radius: 4px; border: 1px solid #bbdefb; background: #e3f2fd\">органы местного самоуправления муниципальных районов<span style=\"vertical-align: middle; margin-left: 2px; font-size: 0.7em; color: #64b5f6;\">INST</span></span> ( далее - <span style=\"padding: 2px; border-radius: 4px; border: 1px solid #bbdefb; background: #e3f2fd\">органы местного самоуправления<span style=\"vertical-align: middle; margin-left: 2px; font-size: 0.7em; color: #64b5f6;\">INST</span></span> ) представляют в <span style=\"padding: 2px; border-radius: 4px; border: 1px solid #bbdefb; background: #e3f2fd\">Министерство<span style=\"vertical-align: middle; margin-left: 2px; font-size: 0.7em; color: #64b5f6;\">INST</span></span> отчет о <span style=\"padding: 2px; border-radius: 4px; border: 1px solid #ffcdd2; background: #ffebee\">расходовании<span style=\"vertical-align: middle; margin-left: 2px; font-size: 0.7em; color: #e57373;\">BIN</span></span> <span style=\"padding: 2px; border-radius: 4px; border: 1px solid #c8e6c9; background: #e8f5e9\">средств субвенции республиканского бюджета<span style=\"vertical-align: middle; margin-left: 2px; font-size: 0.7em; color: #66bb6a;\">ECO</span></span> Республики Коми по форме , утвержденной <span style=\"padding: 2px; border-radius: 4px; border: 1px solid #bbdefb; background: #e3f2fd\">Министерством<span style=\"vertical-align: middle; margin-left: 2px; font-size: 0.7em; color: #64b5f6;\">INST</span></span> и размещенной на официальном сайте <span style=\"padding: 2px; border-radius: 4px; border: 1px solid #bbdefb; background: #e3f2fd\">Министерства<span style=\"vertical-align: middle; margin-left: 2px; font-size: 0.7em; color: #64b5f6;\">INST</span></span> в <span style=\"padding: 2px; border-radius: 4px; border: 1px solid #c8e6c9; background: #e8f5e9\">информационно - телекоммуникационной сети &quot; Интернет &quot;<span style=\"vertical-align: middle; margin-left: 2px; font-size: 0.7em; color: #66bb6a;\">ECO</span></span> в течение 7 дней со дня ее утверждения . \n",
       "Ответственность за <span style=\"padding: 2px; border-radius: 4px; border: 1px solid #c8e6c9; background: #e8f5e9\">достоверность<span style=\"vertical-align: middle; margin-left: 2px; font-size: 0.7em; color: #66bb6a;\">QUA</span></span> представляемых в <span style=\"padding: 2px; border-radius: 4px; border: 1px solid #bbdefb; background: #e3f2fd\">Министерство<span style=\"vertical-align: middle; margin-left: 2px; font-size: 0.7em; color: #64b5f6;\">INST</span></span> сведений и отчетов возлагается на <span style=\"padding: 2px; border-radius: 4px; border: 1px solid #bbdefb; background: #e3f2fd\">органы местного самоуправления<span style=\"vertical-align: middle; margin-left: 2px; font-size: 0.7em; color: #64b5f6;\">INST</span></span> . \n",
       "4. \n",
       "<span style=\"padding: 2px; border-radius: 4px; border: 1px solid #c8e6c9; background: #e8f5e9\">Средства субвенций<span style=\"vertical-align: middle; margin-left: 2px; font-size: 0.7em; color: #66bb6a;\">ECO</span></span> являются <span style=\"padding: 2px; border-radius: 4px; border: 1px solid #c8e6c9; background: #e8f5e9\">целевыми<span style=\"vertical-align: middle; margin-left: 2px; font-size: 0.7em; color: #66bb6a;\">QUA</span></span> и не могут быть использованы по иному назначению . \n",
       "<span style=\"padding: 2px; border-radius: 4px; border: 1px solid #c8e6c9; background: #e8f5e9\">Не  целевое<span style=\"vertical-align: middle; margin-left: 2px; font-size: 0.7em; color: #66bb6a;\">QUA</span></span> использование <span style=\"padding: 2px; border-radius: 4px; border: 1px solid #c8e6c9; background: #e8f5e9\">средств субвенций<span style=\"vertical-align: middle; margin-left: 2px; font-size: 0.7em; color: #66bb6a;\">ECO</span></span> влечет <span style=\"padding: 2px; border-radius: 4px; border: 1px solid #ffcdd2; background: #ffebee\">применение<span style=\"vertical-align: middle; margin-left: 2px; font-size: 0.7em; color: #e57373;\">BIN</span></span> <span style=\"padding: 2px; border-radius: 4px; border: 1px solid #bbdefb; background: #e3f2fd\">мер ответственности<span style=\"vertical-align: middle; margin-left: 2px; font-size: 0.7em; color: #64b5f6;\">ACT</span></span> в соответствии с законодательством Российской Федерации . \n",
       "5. \n",
       "<span style=\"padding: 2px; border-radius: 4px; border: 1px solid #bbdefb; background: #e3f2fd\">Контроль за целевым использованием субвенций<span style=\"vertical-align: middle; margin-left: 2px; font-size: 0.7em; color: #64b5f6;\">ACT</span></span> <span style=\"padding: 2px; border-radius: 4px; border: 1px solid #ffcdd2; background: #ffebee\">осуществляется<span style=\"vertical-align: middle; margin-left: 2px; font-size: 0.7em; color: #e57373;\">BIN</span></span> в установленном порядке <span style=\"padding: 2px; border-radius: 4px; border: 1px solid #bbdefb; background: #e3f2fd\">Министерством финансов Республики Коми<span style=\"vertical-align: middle; margin-left: 2px; font-size: 0.7em; color: #64b5f6;\">INST</span></span> . \n",
       "Приложение 3 \n",
       "к Государственной программе \n",
       "Республики Коми \n",
       "&quot; <span style=\"padding: 2px; border-radius: 4px; border: 1px solid #bbdefb; background: #e3f2fd\">Юстиция<span style=\"vertical-align: middle; margin-left: 2px; font-size: 0.7em; color: #64b5f6;\">SOC</span></span> и <span style=\"padding: 2px; border-radius: 4px; border: 1px solid #ffcdd2; background: #ffebee\">обеспечение<span style=\"vertical-align: middle; margin-left: 2px; font-size: 0.7em; color: #e57373;\">BIN</span></span> <span style=\"padding: 2px; border-radius: 4px; border: 1px solid #bbdefb; background: #e3f2fd\">правопорядка<span style=\"vertical-align: middle; margin-left: 2px; font-size: 0.7em; color: #64b5f6;\">SOC</span></span> \n",
       "в Республике Коми &quot; \n",
       "ПРАВИЛА \n",
       "<span style=\"padding: 2px; border-radius: 4px; border: 1px solid #ffcdd2; background: #ffebee\">ПРЕДОСТАВЛЕНИЯ<span style=\"vertical-align: middle; margin-left: 2px; font-size: 0.7em; color: #e57373;\">BIN</span></span> ИЗ <span style=\"padding: 2px; border-radius: 4px; border: 1px solid #c8e6c9; background: #e8f5e9\">РЕСПУБЛИКАНСКОГО БЮДЖЕТА<span style=\"vertical-align: middle; margin-left: 2px; font-size: 0.7em; color: #66bb6a;\">ECO</span></span> РЕСПУБЛИКИ КОМИ \n",
       "<span style=\"padding: 2px; border-radius: 4px; border: 1px solid #c8e6c9; background: #e8f5e9\">СУБВЕНЦИЙ<span style=\"vertical-align: middle; margin-left: 2px; font-size: 0.7em; color: #66bb6a;\">ECO</span></span> НА <span style=\"padding: 2px; border-radius: 4px; border: 1px solid #ffcdd2; background: #ffebee\">ОСУЩЕСТВЛЕНИЕ<span style=\"vertical-align: middle; margin-left: 2px; font-size: 0.7em; color: #e57373;\">BIN</span></span> ГОСУДАРСТВЕННЫХ ПОЛНОМОЧИЙ \n",
       "РЕСПУБЛИКИ КОМИ , ПРЕДУСМОТРЕННЫХ ПУНКТОМ 6 СТАТЬИ 1 , \n",
       "СТАТЬЕЙ 3 ЗАКОНА РЕСПУБЛИКИ КОМИ &quot; О НАДЕЛЕНИИ ОРГАНОВ \n",
       "МЕСТНОГО САМОУПРАВЛЕНИЯ В РЕСПУБЛИКЕ КОМИ ОТДЕЛЬНЫМИ \n",
       "ГОСУДАРСТВЕННЫМИ ПОЛНОМОЧИЯМИ РЕСПУБЛИКИ КОМИ &quot; \n",
       "1. \n",
       "<span style=\"padding: 2px; border-radius: 4px; border: 1px solid #ffcdd2; background: #ffebee\">Предоставление<span style=\"vertical-align: middle; margin-left: 2px; font-size: 0.7em; color: #e57373;\">BIN</span></span> из <span style=\"padding: 2px; border-radius: 4px; border: 1px solid #c8e6c9; background: #e8f5e9\">республиканского бюджета<span style=\"vertical-align: middle; margin-left: 2px; font-size: 0.7em; color: #66bb6a;\">ECO</span></span> Республики Коми <span style=\"padding: 2px; border-radius: 4px; border: 1px solid #c8e6c9; background: #e8f5e9\">местным бюджетам<span style=\"vertical-align: middle; margin-left: 2px; font-size: 0.7em; color: #66bb6a;\">ECO</span></span> <span style=\"padding: 2px; border-radius: 4px; border: 1px solid #c8e6c9; background: #e8f5e9\">субвенций<span style=\"vertical-align: middle; margin-left: 2px; font-size: 0.7em; color: #66bb6a;\">ECO</span></span> на <span style=\"padding: 2px; border-radius: 4px; border: 1px solid #ffcdd2; background: #ffebee\">осуществление<span style=\"vertical-align: middle; margin-left: 2px; font-size: 0.7em; color: #e57373;\">BIN</span></span> государственных полномочий Республики Коми , предусмотренных пунктом 6 статьи 1 , статьей 3 Закона Республики Коми &quot; О наделении <span style=\"padding: 2px; border-radius: 4px; border: 1px solid #bbdefb; background: #e3f2fd\">органов местного самоуправления<span style=\"vertical-align: middle; margin-left: 2px; font-size: 0.7em; color: #64b5f6;\">INST</span></span> в Республике Коми отдельными государственными полномочиями Республики Коми &quot; , ( далее - <span style=\"padding: 2px; border-radius: 4px; border: 1px solid #c8e6c9; background: #e8f5e9\">субвенции<span style=\"vertical-align: middle; margin-left: 2px; font-size: 0.7em; color: #66bb6a;\">ECO</span></span> ) осуществляется <span style=\"padding: 2px; border-radius: 4px; border: 1px solid #bbdefb; background: #e3f2fd\">Министерством юстиции Республики Коми<span style=\"vertical-align: middle; margin-left: 2px; font-size: 0.7em; color: #64b5f6;\">INST</span></span> ( далее - <span style=\"padding: 2px; border-radius: 4px; border: 1px solid #bbdefb; background: #e3f2fd\">Министерство<span style=\"vertical-align: middle; margin-left: 2px; font-size: 0.7em; color: #64b5f6;\">INST</span></span> ) в соответствии со <span style=\"padding: 2px; border-radius: 4px; border: 1px solid #c8e6c9; background: #e8f5e9\">сводной бюджетной росписью республиканского бюджета<span style=\"vertical-align: middle; margin-left: 2px; font-size: 0.7em; color: #66bb6a;\">ECO</span></span> Республики Коми и <span style=\"padding: 2px; border-radius: 4px; border: 1px solid #c8e6c9; background: #e8f5e9\">кассовым планом республиканского бюджета<span style=\"vertical-align: middle; margin-left: 2px; font-size: 0.7em; color: #66bb6a;\">ECO</span></span> Республики Коми в пределах <span style=\"padding: 2px; border-radius: 4px; border: 1px solid #c8e6c9; background: #e8f5e9\">бюджетных ассигнований<span style=\"vertical-align: middle; margin-left: 2px; font-size: 0.7em; color: #66bb6a;\">ECO</span></span> и <span style=\"padding: 2px; border-radius: 4px; border: 1px solid #c8e6c9; background: #e8f5e9\">лимитов бюджетных обязательств<span style=\"vertical-align: middle; margin-left: 2px; font-size: 0.7em; color: #66bb6a;\">ECO</span></span> \n",
       ", предусмотренных <span style=\"padding: 2px; border-radius: 4px; border: 1px solid #bbdefb; background: #e3f2fd\">Министерству<span style=\"vertical-align: middle; margin-left: 2px; font-size: 0.7em; color: #64b5f6;\">INST</span></span> , и в соответствии с распределением , установленным таблицей 17 приложения 11 к Закону Республики Коми &quot; О <span style=\"padding: 2px; border-radius: 4px; border: 1px solid #c8e6c9; background: #e8f5e9\">республиканском бюджете<span style=\"vertical-align: middle; margin-left: 2px; font-size: 0.7em; color: #66bb6a;\">ECO</span></span> Республики Коми на 2019 год и плановый период 2020 и 2021 годов &quot; . \n",
       "( в ред. Постановлений <span style=\"padding: 2px; border-radius: 4px; border: 1px solid #bbdefb; background: #e3f2fd\">Правительства РК<span style=\"vertical-align: middle; margin-left: 2px; font-size: 0.7em; color: #64b5f6;\">INST</span></span> от 12.03.2018 N 127 , от 25.01.2019 N 21 ) \n",
       "2. \n",
       "<span style=\"padding: 2px; border-radius: 4px; border: 1px solid #ffcdd2; background: #ffebee\">Перечисление<span style=\"vertical-align: middle; margin-left: 2px; font-size: 0.7em; color: #e57373;\">BIN</span></span> <span style=\"padding: 2px; border-radius: 4px; border: 1px solid #c8e6c9; background: #e8f5e9\">субвенции<span style=\"vertical-align: middle; margin-left: 2px; font-size: 0.7em; color: #66bb6a;\">ECO</span></span> <span style=\"padding: 2px; border-radius: 4px; border: 1px solid #ffcdd2; background: #ffebee\">осуществляется<span style=\"vertical-align: middle; margin-left: 2px; font-size: 0.7em; color: #e57373;\">BIN</span></span> в размере <span style=\"padding: 2px; border-radius: 4px; border: 1px solid #ffcdd2; background: #ffebee\">годового объема<span style=\"vertical-align: middle; margin-left: 2px; font-size: 0.7em; color: #e57373;\">MET</span></span> в срок до 1 февраля 2019 года . \n",
       "( в ред. Постановления <span style=\"padding: 2px; border-radius: 4px; border: 1px solid #bbdefb; background: #e3f2fd\">Правительства РК<span style=\"vertical-align: middle; margin-left: 2px; font-size: 0.7em; color: #64b5f6;\">INST</span></span> от 25.01.2019 N 21 ) \n",
       "3. \n",
       "<span style=\"padding: 2px; border-radius: 4px; border: 1px solid #bbdefb; background: #e3f2fd\">Органы местного самоуправления<span style=\"vertical-align: middle; margin-left: 2px; font-size: 0.7em; color: #64b5f6;\">INST</span></span> в Республике Коми ( далее - <span style=\"padding: 2px; border-radius: 4px; border: 1px solid #bbdefb; background: #e3f2fd\">органы местного самоуправления<span style=\"vertical-align: middle; margin-left: 2px; font-size: 0.7em; color: #64b5f6;\">INST</span></span> ) в срок до 15 июля ( за I полугодие отчетного года ) , до 15 января ( за отчетный год ) представляют в <span style=\"padding: 2px; border-radius: 4px; border: 1px solid #bbdefb; background: #e3f2fd\">Министерство<span style=\"vertical-align: middle; margin-left: 2px; font-size: 0.7em; color: #64b5f6;\">INST</span></span> отчет о <span style=\"padding: 2px; border-radius: 4px; border: 1px solid #ffcdd2; background: #ffebee\">расходовании<span style=\"vertical-align: middle; margin-left: 2px; font-size: 0.7em; color: #e57373;\">BIN</span></span> <span style=\"padding: 2px; border-radius: 4px; border: 1px solid #c8e6c9; background: #e8f5e9\">средств субвенции республиканского бюджета<span style=\"vertical-align: middle; margin-left: 2px; font-size: 0.7em; color: #66bb6a;\">ECO</span></span> Республики Коми по форме , утвержденной <span style=\"padding: 2px; border-radius: 4px; border: 1px solid #bbdefb; background: #e3f2fd\">Министерством<span style=\"vertical-align: middle; margin-left: 2px; font-size: 0.7em; color: #64b5f6;\">INST</span></span> и размещенной на официальном сайте <span style=\"padding: 2px; border-radius: 4px; border: 1px solid #bbdefb; background: #e3f2fd\">Министерства<span style=\"vertical-align: middle; margin-left: 2px; font-size: 0.7em; color: #64b5f6;\">INST</span></span> в <span style=\"padding: 2px; border-radius: 4px; border: 1px solid #c8e6c9; background: #e8f5e9\">информационно - телекоммуникационной сети &quot; Интернет<span style=\"vertical-align: middle; margin-left: 2px; font-size: 0.7em; color: #66bb6a;\">ECO</span></span> &quot; в течение 7 дней со дня ее <span style=\"padding: 2px; border-radius: 4px; border: 1px solid #ffcdd2; background: #ffebee\">утверждения<span style=\"vertical-align: middle; margin-left: 2px; font-size: 0.7em; color: #e57373;\">BIN</span></span> . \n",
       "Ответственность за <span style=\"padding: 2px; border-radius: 4px; border: 1px solid #c8e6c9; background: #e8f5e9\">достоверность<span style=\"vertical-align: middle; margin-left: 2px; font-size: 0.7em; color: #66bb6a;\">QUA</span></span> представляемых в <span style=\"padding: 2px; border-radius: 4px; border: 1px solid #bbdefb; background: #e3f2fd\">Министерство<span style=\"vertical-align: middle; margin-left: 2px; font-size: 0.7em; color: #64b5f6;\">INST</span></span> сведений и отчетов возлагается на <span style=\"padding: 2px; border-radius: 4px; border: 1px solid #bbdefb; background: #e3f2fd\">органы местного самоуправления<span style=\"vertical-align: middle; margin-left: 2px; font-size: 0.7em; color: #64b5f6;\">INST</span></span> . \n",
       "4. \n",
       "<span style=\"padding: 2px; border-radius: 4px; border: 1px solid #c8e6c9; background: #e8f5e9\">Средства субвенций<span style=\"vertical-align: middle; margin-left: 2px; font-size: 0.7em; color: #66bb6a;\">ECO</span></span> являются <span style=\"padding: 2px; border-radius: 4px; border: 1px solid #c8e6c9; background: #e8f5e9\">целевыми<span style=\"vertical-align: middle; margin-left: 2px; font-size: 0.7em; color: #66bb6a;\">QUA</span></span> и не могут быть использованы по иному назначению . \n",
       "<span style=\"padding: 2px; border-radius: 4px; border: 1px solid #c8e6c9; background: #e8f5e9\">Не  целевое<span style=\"vertical-align: middle; margin-left: 2px; font-size: 0.7em; color: #66bb6a;\">QUA</span></span> использование <span style=\"padding: 2px; border-radius: 4px; border: 1px solid #c8e6c9; background: #e8f5e9\">средств субвенций<span style=\"vertical-align: middle; margin-left: 2px; font-size: 0.7em; color: #66bb6a;\">ECO</span></span> влечет <span style=\"padding: 2px; border-radius: 4px; border: 1px solid #ffcdd2; background: #ffebee\">применение<span style=\"vertical-align: middle; margin-left: 2px; font-size: 0.7em; color: #e57373;\">BIN</span></span> <span style=\"padding: 2px; border-radius: 4px; border: 1px solid #bbdefb; background: #e3f2fd\">мер ответственности<span style=\"vertical-align: middle; margin-left: 2px; font-size: 0.7em; color: #64b5f6;\">ACT</span></span> в соответствии с законодательством Российской Федерации . \n",
       "5. \n",
       "<span style=\"padding: 2px; border-radius: 4px; border: 1px solid #bbdefb; background: #e3f2fd\">Контроль за целевым использованием субвенций<span style=\"vertical-align: middle; margin-left: 2px; font-size: 0.7em; color: #64b5f6;\">ACT</span></span> <span style=\"padding: 2px; border-radius: 4px; border: 1px solid #ffcdd2; background: #ffebee\">осуществляется<span style=\"vertical-align: middle; margin-left: 2px; font-size: 0.7em; color: #e57373;\">BIN</span></span> в установленном порядке <span style=\"padding: 2px; border-radius: 4px; border: 1px solid #bbdefb; background: #e3f2fd\">Министерством<span style=\"vertical-align: middle; margin-left: 2px; font-size: 0.7em; color: #64b5f6;\">INST</span></span> и <span style=\"padding: 2px; border-radius: 4px; border: 1px solid #bbdefb; background: #e3f2fd\">Министерством финансов Республики Коми<span style=\"vertical-align: middle; margin-left: 2px; font-size: 0.7em; color: #64b5f6;\">INST</span></span> . \n",
       "Приложение 4 \n",
       "к Государственной программе \n",
       "Республики Коми \n",
       "&quot; <span style=\"padding: 2px; border-radius: 4px; border: 1px solid #bbdefb; background: #e3f2fd\">Юстиция<span style=\"vertical-align: middle; margin-left: 2px; font-size: 0.7em; color: #64b5f6;\">SOC</span></span> и <span style=\"padding: 2px; border-radius: 4px; border: 1px solid #ffcdd2; background: #ffebee\">обеспечение<span style=\"vertical-align: middle; margin-left: 2px; font-size: 0.7em; color: #e57373;\">BIN</span></span> <span style=\"padding: 2px; border-radius: 4px; border: 1px solid #bbdefb; background: #e3f2fd\">правопорядка<span style=\"vertical-align: middle; margin-left: 2px; font-size: 0.7em; color: #64b5f6;\">SOC</span></span> \n",
       "в Республике Коми &quot; \n",
       "ПРАВИЛА \n",
       "<span style=\"padding: 2px; border-radius: 4px; border: 1px solid #ffcdd2; background: #ffebee\">ПРЕДОСТАВЛЕНИЯ<span style=\"vertical-align: middle; margin-left: 2px; font-size: 0.7em; color: #e57373;\">BIN</span></span> ИЗ <span style=\"padding: 2px; border-radius: 4px; border: 1px solid #c8e6c9; background: #e8f5e9\">РЕСПУБЛИКАНСКОГО БЮДЖЕТА<span style=\"vertical-align: middle; margin-left: 2px; font-size: 0.7em; color: #66bb6a;\">ECO</span></span> РЕСПУБЛИКИ КОМИ \n",
       "<span style=\"padding: 2px; border-radius: 4px; border: 1px solid #c8e6c9; background: #e8f5e9\">СУБВЕНЦИЙ<span style=\"vertical-align: middle; margin-left: 2px; font-size: 0.7em; color: #66bb6a;\">ECO</span></span> НА <span style=\"padding: 2px; border-radius: 4px; border: 1px solid #ffcdd2; background: #ffebee\">ОСУЩЕСТВЛЕНИЕ<span style=\"vertical-align: middle; margin-left: 2px; font-size: 0.7em; color: #e57373;\">BIN</span></span> ГОСУДАРСТВЕННЫХ ПОЛНОМОЧИЙ \n",
       "РЕСПУБЛИКИ КОМИ ПО РАСЧЕТУ И <span style=\"padding: 2px; border-radius: 4px; border: 1px solid #ffcdd2; background: #ffebee\">ПРЕДОСТАВЛЕНИЮ<span style=\"vertical-align: middle; margin-left: 2px; font-size: 0.7em; color: #e57373;\">BIN</span></span> <span style=\"padding: 2px; border-radius: 4px; border: 1px solid #c8e6c9; background: #e8f5e9\">СУБВЕНЦИЙ<span style=\"vertical-align: middle; margin-left: 2px; font-size: 0.7em; color: #66bb6a;\">ECO</span></span> \n",
       "<span style=\"padding: 2px; border-radius: 4px; border: 1px solid #c8e6c9; background: #e8f5e9\">БЮДЖЕТАМ ПОСЕЛЕНИЙ<span style=\"vertical-align: middle; margin-left: 2px; font-size: 0.7em; color: #66bb6a;\">ECO</span></span> НА <span style=\"padding: 2px; border-radius: 4px; border: 1px solid #ffcdd2; background: #ffebee\">ОСУЩЕСТВЛЕНИЕ<span style=\"vertical-align: middle; margin-left: 2px; font-size: 0.7em; color: #e57373;\">BIN</span></span> ГОСУДАРСТВЕННОГО \n",
       "ПОЛНОМОЧИЯ РЕСПУБЛИКИ КОМИ , ПРЕДУСМОТРЕННОГО СТАТЬЕЙ 3 \n",
       "ЗАКОНА РЕСПУБЛИКИ КОМИ &quot; О НАДЕЛЕНИИ ОРГАНОВ МЕСТНОГО \n",
       "САМОУПРАВЛЕНИЯ В РЕСПУБЛИКЕ КОМИ ОТДЕЛЬНЫМИ \n",
       "ГОСУДАРСТВЕННЫМИ ПОЛНОМОЧИЯМИ РЕСПУБЛИКИ КОМИ &quot; \n",
       "1. \n",
       "<span style=\"padding: 2px; border-radius: 4px; border: 1px solid #ffcdd2; background: #ffebee\">Предоставление<span style=\"vertical-align: middle; margin-left: 2px; font-size: 0.7em; color: #e57373;\">BIN</span></span> из <span style=\"padding: 2px; border-radius: 4px; border: 1px solid #c8e6c9; background: #e8f5e9\">республиканского бюджета<span style=\"vertical-align: middle; margin-left: 2px; font-size: 0.7em; color: #66bb6a;\">ECO</span></span> Республики Коми <span style=\"padding: 2px; border-radius: 4px; border: 1px solid #c8e6c9; background: #e8f5e9\">бюджетам муниципальных районов<span style=\"vertical-align: middle; margin-left: 2px; font-size: 0.7em; color: #66bb6a;\">ECO</span></span> <span style=\"padding: 2px; border-radius: 4px; border: 1px solid #c8e6c9; background: #e8f5e9\">субвенций<span style=\"vertical-align: middle; margin-left: 2px; font-size: 0.7em; color: #66bb6a;\">ECO</span></span> на <span style=\"padding: 2px; border-radius: 4px; border: 1px solid #ffcdd2; background: #ffebee\">осуществление<span style=\"vertical-align: middle; margin-left: 2px; font-size: 0.7em; color: #e57373;\">BIN</span></span> государственного полномочия Республики Коми по расчету и <span style=\"padding: 2px; border-radius: 4px; border: 1px solid #ffcdd2; background: #ffebee\">предоставлению<span style=\"vertical-align: middle; margin-left: 2px; font-size: 0.7em; color: #e57373;\">BIN</span></span> <span style=\"padding: 2px; border-radius: 4px; border: 1px solid #c8e6c9; background: #e8f5e9\">субвенций<span style=\"vertical-align: middle; margin-left: 2px; font-size: 0.7em; color: #66bb6a;\">ECO</span></span> <span style=\"padding: 2px; border-radius: 4px; border: 1px solid #c8e6c9; background: #e8f5e9\">бюджетам поселений<span style=\"vertical-align: middle; margin-left: 2px; font-size: 0.7em; color: #66bb6a;\">ECO</span></span> на <span style=\"padding: 2px; border-radius: 4px; border: 1px solid #ffcdd2; background: #ffebee\">осуществление<span style=\"vertical-align: middle; margin-left: 2px; font-size: 0.7em; color: #e57373;\">BIN</span></span> государственного полномочия Республики Коми , предусмотренного статьей 3 Закона Республики Коми &quot; О наделении <span style=\"padding: 2px; border-radius: 4px; border: 1px solid #bbdefb; background: #e3f2fd\">органов местного самоуправления<span style=\"vertical-align: middle; margin-left: 2px; font-size: 0.7em; color: #64b5f6;\">INST</span></span> в Республике Коми отдельными государственными полномочиями Республики Коми &quot; , ( далее - <span style=\"padding: 2px; border-radius: 4px; border: 1px solid #c8e6c9; background: #e8f5e9\">субвенции<span style=\"vertical-align: middle; margin-left: 2px; font-size: 0.7em; color: #66bb6a;\">ECO</span></span> ) <span style=\"padding: 2px; border-radius: 4px; border: 1px solid #ffcdd2; background: #ffebee\">осуществляется<span style=\"vertical-align: middle; margin-left: 2px; font-size: 0.7em; color: #e57373;\">BIN</span></span> <span style=\"padding: 2px; border-radius: 4px; border: 1px solid #bbdefb; background: #e3f2fd\">Министерством юстиции Республики Коми<span style=\"vertical-align: middle; margin-left: 2px; font-size: 0.7em; color: #64b5f6;\">INST</span></span> ( далее - <span style=\"padding: 2px; border-radius: 4px; border: 1px solid #bbdefb; background: #e3f2fd\">Министерство<span style=\"vertical-align: middle; margin-left: 2px; font-size: 0.7em; color: #64b5f6;\">INST</span></span> ) в соответствии со <span style=\"padding: 2px; border-radius: 4px; border: 1px solid #c8e6c9; background: #e8f5e9\">сводной бюджетной росписью республиканского бюджета<span style=\"vertical-align: middle; margin-left: 2px; font-size: 0.7em; color: #66bb6a;\">ECO</span></span> Республики Коми и <span style=\"padding: 2px; border-radius: 4px; border: 1px solid #c8e6c9; background: #e8f5e9\">кассовым планом республиканского бюджета<span style=\"vertical-align: middle; margin-left: 2px; font-size: 0.7em; color: #66bb6a;\">ECO</span></span> Республики Коми в пределах <span style=\"padding: 2px; border-radius: 4px; border: 1px solid #c8e6c9; background: #e8f5e9\">бюджетных ассигнований<span style=\"vertical-align: middle; margin-left: 2px; font-size: 0.7em; color: #66bb6a;\">ECO</span></span> и <span style=\"padding: 2px; border-radius: 4px; border: 1px solid #c8e6c9; background: #e8f5e9\">лимитов бюджетных обязательств<span style=\"vertical-align: middle; margin-left: 2px; font-size: 0.7em; color: #66bb6a;\">ECO</span></span> \n",
       ", предусмотренных <span style=\"padding: 2px; border-radius: 4px; border: 1px solid #bbdefb; background: #e3f2fd\">Министерству<span style=\"vertical-align: middle; margin-left: 2px; font-size: 0.7em; color: #64b5f6;\">INST</span></span> , и в соответствии с распределением , установленным таблицей 18 приложения 11 к Закону Республики Коми &quot; О <span style=\"padding: 2px; border-radius: 4px; border: 1px solid #c8e6c9; background: #e8f5e9\">республиканском бюджете<span style=\"vertical-align: middle; margin-left: 2px; font-size: 0.7em; color: #66bb6a;\">ECO</span></span> Республики Коми на 2019 год и плановый период 2020 и 2021 годов &quot; . \n",
       "( в ред. Постановлений <span style=\"padding: 2px; border-radius: 4px; border: 1px solid #bbdefb; background: #e3f2fd\">Правительства РК<span style=\"vertical-align: middle; margin-left: 2px; font-size: 0.7em; color: #64b5f6;\">INST</span></span> от 12.03.2018 N 127 , от 25.01.2019 N 21 ) \n",
       "2. \n",
       "<span style=\"padding: 2px; border-radius: 4px; border: 1px solid #ffcdd2; background: #ffebee\">Перечисление<span style=\"vertical-align: middle; margin-left: 2px; font-size: 0.7em; color: #e57373;\">BIN</span></span> <span style=\"padding: 2px; border-radius: 4px; border: 1px solid #c8e6c9; background: #e8f5e9\">субвенции<span style=\"vertical-align: middle; margin-left: 2px; font-size: 0.7em; color: #66bb6a;\">ECO</span></span> <span style=\"padding: 2px; border-radius: 4px; border: 1px solid #ffcdd2; background: #ffebee\">осуществляется<span style=\"vertical-align: middle; margin-left: 2px; font-size: 0.7em; color: #e57373;\">BIN</span></span> в размере <span style=\"padding: 2px; border-radius: 4px; border: 1px solid #ffcdd2; background: #ffebee\">годового объема<span style=\"vertical-align: middle; margin-left: 2px; font-size: 0.7em; color: #e57373;\">MET</span></span> в срок до 1 февраля 2019 года . \n",
       "( в ред. Постановления <span style=\"padding: 2px; border-radius: 4px; border: 1px solid #bbdefb; background: #e3f2fd\">Правительства РК<span style=\"vertical-align: middle; margin-left: 2px; font-size: 0.7em; color: #64b5f6;\">INST</span></span> от 25.01.2019 N 21 ) \n",
       "3. \n",
       "<span style=\"padding: 2px; border-radius: 4px; border: 1px solid #bbdefb; background: #e3f2fd\">Органы местного самоуправления<span style=\"vertical-align: middle; margin-left: 2px; font-size: 0.7em; color: #64b5f6;\">INST</span></span> в Республике Коми ( далее - <span style=\"padding: 2px; border-radius: 4px; border: 1px solid #bbdefb; background: #e3f2fd\">органы местного самоуправления<span style=\"vertical-align: middle; margin-left: 2px; font-size: 0.7em; color: #64b5f6;\">INST</span></span> ) в срок до 15 июля ( за I полугодие отчетного года ) , до 15 января ( за отчетный год ) представляют в <span style=\"padding: 2px; border-radius: 4px; border: 1px solid #bbdefb; background: #e3f2fd\">Министерство<span style=\"vertical-align: middle; margin-left: 2px; font-size: 0.7em; color: #64b5f6;\">INST</span></span> отчет о <span style=\"padding: 2px; border-radius: 4px; border: 1px solid #ffcdd2; background: #ffebee\">расходовании<span style=\"vertical-align: middle; margin-left: 2px; font-size: 0.7em; color: #e57373;\">BIN</span></span> <span style=\"padding: 2px; border-radius: 4px; border: 1px solid #c8e6c9; background: #e8f5e9\">средств субвенции республиканского бюджета<span style=\"vertical-align: middle; margin-left: 2px; font-size: 0.7em; color: #66bb6a;\">ECO</span></span> Республики Коми по форме , утвержденной <span style=\"padding: 2px; border-radius: 4px; border: 1px solid #bbdefb; background: #e3f2fd\">Министерством<span style=\"vertical-align: middle; margin-left: 2px; font-size: 0.7em; color: #64b5f6;\">INST</span></span> и размещенной на официальном сайте <span style=\"padding: 2px; border-radius: 4px; border: 1px solid #bbdefb; background: #e3f2fd\">Министерства<span style=\"vertical-align: middle; margin-left: 2px; font-size: 0.7em; color: #64b5f6;\">INST</span></span> в <span style=\"padding: 2px; border-radius: 4px; border: 1px solid #c8e6c9; background: #e8f5e9\">информационно - телекоммуникационной сети &quot; Интернет &quot;<span style=\"vertical-align: middle; margin-left: 2px; font-size: 0.7em; color: #66bb6a;\">ECO</span></span> в течение 7 дней со дня ее <span style=\"padding: 2px; border-radius: 4px; border: 1px solid #ffcdd2; background: #ffebee\">утверждения<span style=\"vertical-align: middle; margin-left: 2px; font-size: 0.7em; color: #e57373;\">BIN</span></span> .</div>"
      ],
      "text/plain": [
       "<IPython.core.display.HTML object>"
      ]
     },
     "metadata": {},
     "output_type": "display_data"
    },
    {
     "name": "stdout",
     "output_type": "stream",
     "text": [
      "[<Label.OUTER: 0>, <Label.OUTER: 0>, <Label.BEGIN: 1>, <Label.INNER: 2>, <Label.INNER: 2>, <Label.OUTER: 0>, <Label.OUTER: 0>, <Label.OUTER: 0>, <Label.OUTER: 0>, <Label.OUTER: 0>, <Label.BEGIN: 1>, <Label.INNER: 2>, <Label.INNER: 2>, <Label.OUTER: 0>, <Label.OUTER: 0>, <Label.OUTER: 0>, <Label.OUTER: 0>, <Label.OUTER: 0>, <Label.OUTER: 0>, <Label.BEGIN: 1>, <Label.INNER: 2>, <Label.OUTER: 0>, <Label.OUTER: 0>, <Label.OUTER: 0>, <Label.OUTER: 0>, <Label.OUTER: 0>, <Label.OUTER: 0>, <Label.OUTER: 0>, <Label.BEGIN: 1>, <Label.INNER: 2>, <Label.OUTER: 0>, <Label.OUTER: 0>, <Label.OUTER: 0>, <Label.OUTER: 0>, <Label.OUTER: 0>, <Label.OUTER: 0>, <Label.OUTER: 0>, <Label.OUTER: 0>, <Label.OUTER: 0>, <Label.OUTER: 0>, <Label.OUTER: 0>, <Label.OUTER: 0>, <Label.OUTER: 0>, <Label.OUTER: 0>, <Label.OUTER: 0>, <Label.OUTER: 0>, <Label.OUTER: 0>, <Label.OUTER: 0>, <Label.OUTER: 0>, <Label.BEGIN: 1>, <Label.INNER: 2>, <Label.INNER: 2>, <Label.INNER: 2>, <Label.OUTER: 0>, <Label.OUTER: 0>, <Label.OUTER: 0>, <Label.BEGIN: 1>, <Label.INNER: 2>, <Label.OUTER: 0>, <Label.BEGIN: 1>, <Label.INNER: 2>, <Label.OUTER: 0>, <Label.BEGIN: 1>, <Label.OUTER: 0>, <Label.OUTER: 0>, <Label.OUTER: 0>, <Label.OUTER: 0>, <Label.OUTER: 0>, <Label.OUTER: 0>, <Label.OUTER: 0>, <Label.OUTER: 0>, <Label.BEGIN: 1>, <Label.INNER: 2>, <Label.OUTER: 0>, <Label.OUTER: 0>, <Label.OUTER: 0>, <Label.OUTER: 0>, <Label.OUTER: 0>, <Label.OUTER: 0>, <Label.OUTER: 0>, <Label.OUTER: 0>, <Label.OUTER: 0>, <Label.OUTER: 0>, <Label.OUTER: 0>, <Label.OUTER: 0>, <Label.OUTER: 0>, <Label.BEGIN: 1>, <Label.INNER: 2>, <Label.OUTER: 0>, <Label.OUTER: 0>, <Label.OUTER: 0>, <Label.BEGIN: 1>, <Label.OUTER: 0>, <Label.OUTER: 0>, <Label.OUTER: 0>, <Label.OUTER: 0>, <Label.OUTER: 0>, <Label.OUTER: 0>, <Label.OUTER: 0>, <Label.BEGIN: 1>, <Label.INNER: 2>, <Label.OUTER: 0>, <Label.OUTER: 0>, <Label.OUTER: 0>, <Label.OUTER: 0>, <Label.OUTER: 0>, <Label.OUTER: 0>, <Label.OUTER: 0>, <Label.BEGIN: 1>, <Label.INNER: 2>, <Label.OUTER: 0>, <Label.OUTER: 0>, <Label.OUTER: 0>, <Label.OUTER: 0>, <Label.OUTER: 0>, <Label.OUTER: 0>, <Label.BEGIN: 1>, <Label.OUTER: 0>, <Label.OUTER: 0>, <Label.BEGIN: 1>, <Label.OUTER: 0>, <Label.OUTER: 0>, <Label.OUTER: 0>, <Label.OUTER: 0>, <Label.OUTER: 0>, <Label.OUTER: 0>, <Label.OUTER: 0>, <Label.OUTER: 0>, <Label.OUTER: 0>, <Label.OUTER: 0>, <Label.OUTER: 0>, <Label.BEGIN: 1>, <Label.INNER: 2>, <Label.OUTER: 0>, <Label.OUTER: 0>, <Label.OUTER: 0>, <Label.OUTER: 0>, <Label.OUTER: 0>, <Label.OUTER: 0>, <Label.OUTER: 0>, <Label.OUTER: 0>, <Label.OUTER: 0>, <Label.OUTER: 0>, <Label.OUTER: 0>, <Label.OUTER: 0>, <Label.OUTER: 0>, <Label.BEGIN: 1>, <Label.OUTER: 0>, <Label.BEGIN: 1>, <Label.BEGIN: 1>, <Label.OUTER: 0>, <Label.OUTER: 0>, <Label.OUTER: 0>, <Label.OUTER: 0>, <Label.OUTER: 0>, <Label.BEGIN: 1>, <Label.OUTER: 0>, <Label.BEGIN: 1>, <Label.INNER: 2>, <Label.OUTER: 0>, <Label.OUTER: 0>, <Label.BEGIN: 1>, <Label.OUTER: 0>, <Label.BEGIN: 1>, <Label.OUTER: 0>, <Label.OUTER: 0>, <Label.OUTER: 0>, <Label.OUTER: 0>, <Label.OUTER: 0>, <Label.OUTER: 0>, <Label.OUTER: 0>, <Label.OUTER: 0>, <Label.OUTER: 0>, <Label.OUTER: 0>, <Label.OUTER: 0>, <Label.OUTER: 0>, <Label.OUTER: 0>, <Label.OUTER: 0>, <Label.OUTER: 0>, <Label.OUTER: 0>, <Label.OUTER: 0>, <Label.OUTER: 0>, <Label.OUTER: 0>, <Label.OUTER: 0>, <Label.OUTER: 0>, <Label.OUTER: 0>, <Label.OUTER: 0>, <Label.OUTER: 0>, <Label.OUTER: 0>, <Label.OUTER: 0>, <Label.OUTER: 0>, <Label.OUTER: 0>, <Label.OUTER: 0>, <Label.OUTER: 0>, <Label.OUTER: 0>, <Label.OUTER: 0>, <Label.OUTER: 0>, <Label.BEGIN: 1>, <Label.OUTER: 0>, <Label.BEGIN: 1>, <Label.INNER: 2>, <Label.OUTER: 0>, <Label.OUTER: 0>, <Label.BEGIN: 1>, <Label.INNER: 2>, <Label.INNER: 2>, <Label.BEGIN: 1>, <Label.OUTER: 0>, <Label.BEGIN: 1>, <Label.OUTER: 0>, <Label.OUTER: 0>, <Label.OUTER: 0>, <Label.OUTER: 0>, <Label.OUTER: 0>, <Label.OUTER: 0>, <Label.OUTER: 0>, <Label.OUTER: 0>, <Label.OUTER: 0>, <Label.OUTER: 0>, <Label.OUTER: 0>, <Label.OUTER: 0>, <Label.OUTER: 0>, <Label.OUTER: 0>, <Label.BEGIN: 1>, <Label.INNER: 2>, <Label.INNER: 2>, <Label.OUTER: 0>, <Label.OUTER: 0>, <Label.OUTER: 0>, <Label.OUTER: 0>, <Label.OUTER: 0>, <Label.OUTER: 0>, <Label.OUTER: 0>, <Label.OUTER: 0>, <Label.OUTER: 0>, <Label.OUTER: 0>, <Label.OUTER: 0>, <Label.OUTER: 0>, <Label.OUTER: 0>, <Label.OUTER: 0>, <Label.OUTER: 0>, <Label.OUTER: 0>, <Label.OUTER: 0>, <Label.OUTER: 0>, <Label.BEGIN: 1>, <Label.OUTER: 0>, <Label.BEGIN: 1>, <Label.BEGIN: 1>, <Label.INNER: 2>, <Label.INNER: 2>, <Label.INNER: 2>, <Label.OUTER: 0>, <Label.OUTER: 0>, <Label.OUTER: 0>, <Label.BEGIN: 1>, <Label.OUTER: 0>, <Label.OUTER: 0>, <Label.OUTER: 0>, <Label.OUTER: 0>, <Label.BEGIN: 1>, <Label.INNER: 2>, <Label.INNER: 2>, <Label.INNER: 2>, <Label.INNER: 2>, <Label.OUTER: 0>, <Label.OUTER: 0>, <Label.OUTER: 0>, <Label.BEGIN: 1>, <Label.INNER: 2>, <Label.INNER: 2>, <Label.INNER: 2>, <Label.OUTER: 0>, <Label.OUTER: 0>, <Label.OUTER: 0>, <Label.OUTER: 0>, <Label.BEGIN: 1>, <Label.INNER: 2>, <Label.OUTER: 0>, <Label.BEGIN: 1>, <Label.INNER: 2>, <Label.INNER: 2>, <Label.OUTER: 0>, <Label.OUTER: 0>, <Label.BEGIN: 1>, <Label.OUTER: 0>, <Label.OUTER: 0>, <Label.OUTER: 0>, <Label.OUTER: 0>, <Label.OUTER: 0>, <Label.OUTER: 0>, <Label.OUTER: 0>, <Label.OUTER: 0>, <Label.OUTER: 0>, <Label.OUTER: 0>, <Label.OUTER: 0>, <Label.OUTER: 0>, <Label.OUTER: 0>, <Label.OUTER: 0>, <Label.OUTER: 0>, <Label.OUTER: 0>, <Label.OUTER: 0>, <Label.OUTER: 0>, <Label.BEGIN: 1>, <Label.INNER: 2>, <Label.OUTER: 0>, <Label.OUTER: 0>, <Label.OUTER: 0>, <Label.OUTER: 0>, <Label.OUTER: 0>, <Label.OUTER: 0>, <Label.OUTER: 0>, <Label.OUTER: 0>, <Label.OUTER: 0>, <Label.OUTER: 0>, <Label.OUTER: 0>, <Label.OUTER: 0>, <Label.OUTER: 0>, <Label.OUTER: 0>, <Label.OUTER: 0>, <Label.OUTER: 0>, <Label.OUTER: 0>, <Label.OUTER: 0>, <Label.OUTER: 0>, <Label.BEGIN: 1>, <Label.INNER: 2>, <Label.OUTER: 0>, <Label.OUTER: 0>, <Label.OUTER: 0>, <Label.OUTER: 0>, <Label.OUTER: 0>, <Label.OUTER: 0>, <Label.OUTER: 0>, <Label.OUTER: 0>, <Label.OUTER: 0>, <Label.OUTER: 0>, <Label.OUTER: 0>, <Label.OUTER: 0>, <Label.BEGIN: 1>, <Label.BEGIN: 1>, <Label.OUTER: 0>, <Label.OUTER: 0>, <Label.OUTER: 0>, <Label.BEGIN: 1>, <Label.INNER: 2>, <Label.OUTER: 0>, <Label.OUTER: 0>, <Label.OUTER: 0>, <Label.OUTER: 0>, <Label.OUTER: 0>, <Label.OUTER: 0>, <Label.OUTER: 0>, <Label.OUTER: 0>, <Label.OUTER: 0>, <Label.OUTER: 0>, <Label.OUTER: 0>, <Label.OUTER: 0>, <Label.OUTER: 0>, <Label.BEGIN: 1>, <Label.INNER: 2>, <Label.OUTER: 0>, <Label.OUTER: 0>, <Label.OUTER: 0>, <Label.OUTER: 0>, <Label.OUTER: 0>, <Label.OUTER: 0>, <Label.OUTER: 0>, <Label.OUTER: 0>, <Label.OUTER: 0>, <Label.OUTER: 0>, <Label.OUTER: 0>, <Label.OUTER: 0>, <Label.OUTER: 0>, <Label.OUTER: 0>, <Label.OUTER: 0>, <Label.OUTER: 0>, <Label.OUTER: 0>, <Label.OUTER: 0>, <Label.OUTER: 0>, <Label.OUTER: 0>, <Label.OUTER: 0>, <Label.BEGIN: 1>, <Label.INNER: 2>, <Label.INNER: 2>, <Label.INNER: 2>, <Label.INNER: 2>, <Label.OUTER: 0>, <Label.OUTER: 0>, <Label.OUTER: 0>, <Label.BEGIN: 1>, <Label.INNER: 2>, <Label.INNER: 2>, <Label.OUTER: 0>, <Label.OUTER: 0>, <Label.OUTER: 0>, <Label.BEGIN: 1>, <Label.OUTER: 0>, <Label.OUTER: 0>, <Label.BEGIN: 1>, <Label.BEGIN: 1>, <Label.INNER: 2>, <Label.INNER: 2>, <Label.INNER: 2>, <Label.OUTER: 0>, <Label.OUTER: 0>, <Label.OUTER: 0>, <Label.OUTER: 0>, <Label.OUTER: 0>, <Label.OUTER: 0>, <Label.BEGIN: 1>, <Label.OUTER: 0>, <Label.OUTER: 0>, <Label.OUTER: 0>, <Label.OUTER: 0>, <Label.OUTER: 0>, <Label.BEGIN: 1>, <Label.OUTER: 0>, <Label.BEGIN: 1>, <Label.INNER: 2>, <Label.INNER: 2>, <Label.INNER: 2>, <Label.INNER: 2>, <Label.INNER: 2>, <Label.INNER: 2>, <Label.OUTER: 0>, <Label.OUTER: 0>, <Label.OUTER: 0>, <Label.OUTER: 0>, <Label.OUTER: 0>, <Label.OUTER: 0>, <Label.OUTER: 0>, <Label.OUTER: 0>, <Label.OUTER: 0>, <Label.OUTER: 0>, <Label.OUTER: 0>, <Label.BEGIN: 1>, <Label.OUTER: 0>, <Label.OUTER: 0>, <Label.BEGIN: 1>, <Label.OUTER: 0>, <Label.OUTER: 0>, <Label.OUTER: 0>, <Label.OUTER: 0>, <Label.OUTER: 0>, <Label.BEGIN: 1>, <Label.INNER: 2>, <Label.INNER: 2>, <Label.OUTER: 0>, <Label.OUTER: 0>, <Label.OUTER: 0>, <Label.BEGIN: 1>, <Label.INNER: 2>, <Label.OUTER: 0>, <Label.BEGIN: 1>, <Label.OUTER: 0>, <Label.OUTER: 0>, <Label.OUTER: 0>, <Label.OUTER: 0>, <Label.OUTER: 0>, <Label.OUTER: 0>, <Label.OUTER: 0>, <Label.OUTER: 0>, <Label.OUTER: 0>, <Label.BEGIN: 1>, <Label.INNER: 2>, <Label.OUTER: 0>, <Label.BEGIN: 1>, <Label.INNER: 2>, <Label.OUTER: 0>, <Label.BEGIN: 1>, <Label.BEGIN: 1>, <Label.INNER: 2>, <Label.OUTER: 0>, <Label.OUTER: 0>, <Label.OUTER: 0>, <Label.OUTER: 0>, <Label.OUTER: 0>, <Label.OUTER: 0>, <Label.OUTER: 0>, <Label.OUTER: 0>, <Label.OUTER: 0>, <Label.BEGIN: 1>, <Label.INNER: 2>, <Label.INNER: 2>, <Label.INNER: 2>, <Label.INNER: 2>, <Label.BEGIN: 1>, <Label.OUTER: 0>, <Label.OUTER: 0>, <Label.OUTER: 0>, <Label.BEGIN: 1>, <Label.INNER: 2>, <Label.INNER: 2>, <Label.INNER: 2>, <Label.OUTER: 0>, <Label.OUTER: 0>, <Label.OUTER: 0>, <Label.OUTER: 0>, <Label.OUTER: 0>, <Label.OUTER: 0>, <Label.OUTER: 0>, <Label.OUTER: 0>, <Label.OUTER: 0>, <Label.BEGIN: 1>, <Label.OUTER: 0>, <Label.BEGIN: 1>, <Label.BEGIN: 1>, <Label.OUTER: 0>, <Label.OUTER: 0>, <Label.OUTER: 0>, <Label.OUTER: 0>, <Label.OUTER: 0>, <Label.BEGIN: 1>, <Label.OUTER: 0>, <Label.BEGIN: 1>, <Label.INNER: 2>, <Label.OUTER: 0>, <Label.OUTER: 0>, <Label.BEGIN: 1>, <Label.OUTER: 0>, <Label.BEGIN: 1>, <Label.OUTER: 0>, <Label.OUTER: 0>, <Label.OUTER: 0>, <Label.OUTER: 0>, <Label.OUTER: 0>, <Label.OUTER: 0>, <Label.OUTER: 0>, <Label.OUTER: 0>, <Label.OUTER: 0>, <Label.OUTER: 0>, <Label.OUTER: 0>, <Label.OUTER: 0>, <Label.OUTER: 0>, <Label.OUTER: 0>, <Label.OUTER: 0>, <Label.OUTER: 0>, <Label.OUTER: 0>, <Label.OUTER: 0>, <Label.OUTER: 0>, <Label.OUTER: 0>, <Label.OUTER: 0>, <Label.OUTER: 0>, <Label.OUTER: 0>, <Label.OUTER: 0>, <Label.OUTER: 0>, <Label.OUTER: 0>, <Label.OUTER: 0>, <Label.OUTER: 0>, <Label.OUTER: 0>, <Label.OUTER: 0>, <Label.OUTER: 0>, <Label.OUTER: 0>, <Label.OUTER: 0>, <Label.BEGIN: 1>, <Label.OUTER: 0>, <Label.BEGIN: 1>, <Label.INNER: 2>, <Label.OUTER: 0>, <Label.OUTER: 0>, <Label.BEGIN: 1>, <Label.INNER: 2>, <Label.BEGIN: 1>, <Label.OUTER: 0>, <Label.BEGIN: 1>, <Label.OUTER: 0>, <Label.OUTER: 0>, <Label.OUTER: 0>, <Label.OUTER: 0>, <Label.OUTER: 0>, <Label.OUTER: 0>, <Label.OUTER: 0>, <Label.OUTER: 0>, <Label.OUTER: 0>, <Label.OUTER: 0>, <Label.OUTER: 0>, <Label.OUTER: 0>, <Label.OUTER: 0>, <Label.OUTER: 0>, <Label.OUTER: 0>, <Label.OUTER: 0>, <Label.OUTER: 0>, <Label.OUTER: 0>, <Label.OUTER: 0>, <Label.BEGIN: 1>, <Label.INNER: 2>, <Label.INNER: 2>, <Label.OUTER: 0>, <Label.OUTER: 0>, <Label.OUTER: 0>, <Label.OUTER: 0>, <Label.OUTER: 0>, <Label.OUTER: 0>, <Label.OUTER: 0>, <Label.OUTER: 0>, <Label.OUTER: 0>, <Label.OUTER: 0>, <Label.OUTER: 0>, <Label.OUTER: 0>, <Label.OUTER: 0>, <Label.BEGIN: 1>, <Label.OUTER: 0>, <Label.OUTER: 0>, <Label.BEGIN: 1>, <Label.INNER: 2>, <Label.INNER: 2>, <Label.INNER: 2>, <Label.OUTER: 0>, <Label.OUTER: 0>, <Label.OUTER: 0>, <Label.BEGIN: 1>, <Label.OUTER: 0>, <Label.OUTER: 0>, <Label.OUTER: 0>, <Label.OUTER: 0>, <Label.BEGIN: 1>, <Label.INNER: 2>, <Label.INNER: 2>, <Label.INNER: 2>, <Label.INNER: 2>, <Label.OUTER: 0>, <Label.OUTER: 0>, <Label.OUTER: 0>, <Label.BEGIN: 1>, <Label.INNER: 2>, <Label.INNER: 2>, <Label.INNER: 2>, <Label.OUTER: 0>, <Label.OUTER: 0>, <Label.OUTER: 0>, <Label.OUTER: 0>, <Label.BEGIN: 1>, <Label.INNER: 2>, <Label.OUTER: 0>, <Label.BEGIN: 1>, <Label.INNER: 2>, <Label.INNER: 2>, <Label.OUTER: 0>, <Label.OUTER: 0>, <Label.BEGIN: 1>, <Label.OUTER: 0>, <Label.OUTER: 0>, <Label.OUTER: 0>, <Label.OUTER: 0>, <Label.OUTER: 0>, <Label.OUTER: 0>, <Label.OUTER: 0>, <Label.OUTER: 0>, <Label.OUTER: 0>, <Label.OUTER: 0>, <Label.OUTER: 0>, <Label.OUTER: 0>, <Label.OUTER: 0>, <Label.OUTER: 0>, <Label.OUTER: 0>, <Label.OUTER: 0>, <Label.OUTER: 0>, <Label.OUTER: 0>, <Label.BEGIN: 1>, <Label.INNER: 2>, <Label.OUTER: 0>, <Label.OUTER: 0>, <Label.OUTER: 0>, <Label.OUTER: 0>, <Label.OUTER: 0>, <Label.OUTER: 0>, <Label.OUTER: 0>, <Label.OUTER: 0>, <Label.OUTER: 0>, <Label.OUTER: 0>, <Label.OUTER: 0>, <Label.OUTER: 0>, <Label.OUTER: 0>, <Label.OUTER: 0>, <Label.OUTER: 0>, <Label.OUTER: 0>, <Label.OUTER: 0>, <Label.OUTER: 0>, <Label.OUTER: 0>, <Label.BEGIN: 1>, <Label.INNER: 2>, <Label.OUTER: 0>, <Label.OUTER: 0>, <Label.OUTER: 0>, <Label.OUTER: 0>, <Label.OUTER: 0>, <Label.OUTER: 0>, <Label.OUTER: 0>, <Label.OUTER: 0>, <Label.OUTER: 0>, <Label.OUTER: 0>, <Label.OUTER: 0>, <Label.OUTER: 0>, <Label.BEGIN: 1>, <Label.BEGIN: 1>, <Label.BEGIN: 1>, <Label.OUTER: 0>, <Label.OUTER: 0>, <Label.BEGIN: 1>, <Label.INNER: 2>, <Label.OUTER: 0>, <Label.OUTER: 0>, <Label.OUTER: 0>, <Label.OUTER: 0>, <Label.OUTER: 0>, <Label.OUTER: 0>, <Label.OUTER: 0>, <Label.OUTER: 0>, <Label.OUTER: 0>, <Label.OUTER: 0>, <Label.OUTER: 0>, <Label.OUTER: 0>, <Label.OUTER: 0>, <Label.BEGIN: 1>, <Label.INNER: 2>, <Label.OUTER: 0>, <Label.OUTER: 0>, <Label.OUTER: 0>, <Label.OUTER: 0>, <Label.OUTER: 0>, <Label.OUTER: 0>, <Label.OUTER: 0>, <Label.BEGIN: 1>, <Label.INNER: 2>, <Label.INNER: 2>, <Label.OUTER: 0>, <Label.OUTER: 0>, <Label.OUTER: 0>, <Label.OUTER: 0>, <Label.OUTER: 0>, <Label.OUTER: 0>, <Label.BEGIN: 1>, <Label.INNER: 2>, <Label.INNER: 2>, <Label.OUTER: 0>, <Label.OUTER: 0>, <Label.OUTER: 0>, <Label.OUTER: 0>, <Label.OUTER: 0>, <Label.OUTER: 0>, <Label.OUTER: 0>, <Label.OUTER: 0>, <Label.OUTER: 0>, <Label.OUTER: 0>, <Label.OUTER: 0>, <Label.OUTER: 0>, <Label.OUTER: 0>, <Label.OUTER: 0>, <Label.OUTER: 0>, <Label.OUTER: 0>, <Label.OUTER: 0>, <Label.OUTER: 0>, <Label.OUTER: 0>, <Label.OUTER: 0>, <Label.OUTER: 0>, <Label.OUTER: 0>, <Label.OUTER: 0>, <Label.OUTER: 0>, <Label.BEGIN: 1>, <Label.OUTER: 0>, <Label.OUTER: 0>, <Label.BEGIN: 1>, <Label.BEGIN: 1>, <Label.INNER: 2>, <Label.INNER: 2>, <Label.INNER: 2>, <Label.OUTER: 0>, <Label.OUTER: 0>, <Label.OUTER: 0>, <Label.OUTER: 0>, <Label.OUTER: 0>, <Label.OUTER: 0>, <Label.BEGIN: 1>, <Label.OUTER: 0>, <Label.OUTER: 0>, <Label.OUTER: 0>, <Label.OUTER: 0>, <Label.OUTER: 0>, <Label.BEGIN: 1>, <Label.OUTER: 0>, <Label.BEGIN: 1>, <Label.INNER: 2>, <Label.INNER: 2>, <Label.INNER: 2>, <Label.INNER: 2>, <Label.INNER: 2>, <Label.OUTER: 0>, <Label.OUTER: 0>, <Label.OUTER: 0>, <Label.OUTER: 0>, <Label.OUTER: 0>, <Label.OUTER: 0>, <Label.OUTER: 0>, <Label.OUTER: 0>, <Label.BEGIN: 1>, <Label.OUTER: 0>, <Label.OUTER: 0>, <Label.OUTER: 0>, <Label.BEGIN: 1>, <Label.OUTER: 0>, <Label.OUTER: 0>, <Label.BEGIN: 1>, <Label.OUTER: 0>, <Label.OUTER: 0>, <Label.OUTER: 0>, <Label.OUTER: 0>, <Label.OUTER: 0>, <Label.BEGIN: 1>, <Label.INNER: 2>, <Label.INNER: 2>, <Label.OUTER: 0>, <Label.OUTER: 0>, <Label.OUTER: 0>, <Label.BEGIN: 1>, <Label.INNER: 2>, <Label.OUTER: 0>, <Label.BEGIN: 1>, <Label.OUTER: 0>, <Label.OUTER: 0>, <Label.OUTER: 0>, <Label.OUTER: 0>, <Label.OUTER: 0>, <Label.OUTER: 0>, <Label.OUTER: 0>, <Label.OUTER: 0>, <Label.OUTER: 0>, <Label.BEGIN: 1>, <Label.INNER: 2>, <Label.OUTER: 0>, <Label.BEGIN: 1>, <Label.INNER: 2>, <Label.OUTER: 0>, <Label.BEGIN: 1>, <Label.BEGIN: 1>, <Label.INNER: 2>, <Label.OUTER: 0>, <Label.OUTER: 0>, <Label.OUTER: 0>, <Label.OUTER: 0>, <Label.OUTER: 0>, <Label.OUTER: 0>, <Label.OUTER: 0>, <Label.OUTER: 0>, <Label.OUTER: 0>, <Label.BEGIN: 1>, <Label.INNER: 2>, <Label.INNER: 2>, <Label.INNER: 2>, <Label.INNER: 2>, <Label.BEGIN: 1>, <Label.OUTER: 0>, <Label.OUTER: 0>, <Label.OUTER: 0>, <Label.BEGIN: 1>, <Label.OUTER: 0>, <Label.BEGIN: 1>, <Label.INNER: 2>, <Label.INNER: 2>, <Label.INNER: 2>, <Label.OUTER: 0>, <Label.OUTER: 0>, <Label.OUTER: 0>, <Label.OUTER: 0>, <Label.OUTER: 0>, <Label.OUTER: 0>, <Label.OUTER: 0>, <Label.OUTER: 0>, <Label.OUTER: 0>, <Label.BEGIN: 1>, <Label.OUTER: 0>, <Label.BEGIN: 1>, <Label.BEGIN: 1>, <Label.OUTER: 0>, <Label.OUTER: 0>, <Label.OUTER: 0>, <Label.OUTER: 0>, <Label.OUTER: 0>, <Label.BEGIN: 1>, <Label.OUTER: 0>, <Label.BEGIN: 1>, <Label.INNER: 2>, <Label.OUTER: 0>, <Label.OUTER: 0>, <Label.BEGIN: 1>, <Label.OUTER: 0>, <Label.BEGIN: 1>, <Label.OUTER: 0>, <Label.OUTER: 0>, <Label.OUTER: 0>, <Label.OUTER: 0>, <Label.OUTER: 0>, <Label.OUTER: 0>, <Label.OUTER: 0>, <Label.BEGIN: 1>, <Label.BEGIN: 1>, <Label.BEGIN: 1>, <Label.INNER: 2>, <Label.OUTER: 0>, <Label.BEGIN: 1>, <Label.OUTER: 0>, <Label.OUTER: 0>, <Label.OUTER: 0>, <Label.OUTER: 0>, <Label.OUTER: 0>, <Label.OUTER: 0>, <Label.OUTER: 0>, <Label.OUTER: 0>, <Label.OUTER: 0>, <Label.OUTER: 0>, <Label.OUTER: 0>, <Label.OUTER: 0>, <Label.OUTER: 0>, <Label.OUTER: 0>, <Label.OUTER: 0>, <Label.OUTER: 0>, <Label.OUTER: 0>, <Label.OUTER: 0>, <Label.OUTER: 0>, <Label.OUTER: 0>, <Label.OUTER: 0>, <Label.OUTER: 0>, <Label.OUTER: 0>, <Label.OUTER: 0>, <Label.OUTER: 0>, <Label.OUTER: 0>, <Label.OUTER: 0>, <Label.OUTER: 0>, <Label.BEGIN: 1>, <Label.OUTER: 0>, <Label.BEGIN: 1>, <Label.INNER: 2>, <Label.OUTER: 0>, <Label.OUTER: 0>, <Label.BEGIN: 1>, <Label.INNER: 2>, <Label.INNER: 2>, <Label.BEGIN: 1>, <Label.OUTER: 0>, <Label.BEGIN: 1>, <Label.OUTER: 0>, <Label.OUTER: 0>, <Label.OUTER: 0>, <Label.OUTER: 0>, <Label.OUTER: 0>, <Label.OUTER: 0>, <Label.OUTER: 0>, <Label.BEGIN: 1>, <Label.BEGIN: 1>, <Label.BEGIN: 1>, <Label.INNER: 2>, <Label.OUTER: 0>, <Label.BEGIN: 1>, <Label.OUTER: 0>, <Label.OUTER: 0>, <Label.OUTER: 0>, <Label.OUTER: 0>, <Label.OUTER: 0>, <Label.OUTER: 0>, <Label.OUTER: 0>, <Label.OUTER: 0>, <Label.OUTER: 0>, <Label.OUTER: 0>, <Label.OUTER: 0>, <Label.OUTER: 0>, <Label.OUTER: 0>, <Label.OUTER: 0>, <Label.BEGIN: 1>, <Label.INNER: 2>, <Label.INNER: 2>, <Label.OUTER: 0>, <Label.OUTER: 0>, <Label.OUTER: 0>, <Label.OUTER: 0>, <Label.OUTER: 0>, <Label.OUTER: 0>, <Label.OUTER: 0>, <Label.OUTER: 0>, <Label.OUTER: 0>, <Label.OUTER: 0>, <Label.OUTER: 0>, <Label.OUTER: 0>, <Label.OUTER: 0>, <Label.BEGIN: 1>, <Label.OUTER: 0>, <Label.BEGIN: 1>, <Label.BEGIN: 1>, <Label.INNER: 2>, <Label.INNER: 2>, <Label.INNER: 2>, <Label.OUTER: 0>, <Label.OUTER: 0>, <Label.OUTER: 0>, <Label.BEGIN: 1>, <Label.OUTER: 0>, <Label.OUTER: 0>, <Label.OUTER: 0>, <Label.OUTER: 0>, <Label.BEGIN: 1>, <Label.INNER: 2>, <Label.INNER: 2>, <Label.INNER: 2>, <Label.INNER: 2>, <Label.OUTER: 0>, <Label.OUTER: 0>, <Label.OUTER: 0>, <Label.BEGIN: 1>, <Label.INNER: 2>, <Label.INNER: 2>, <Label.INNER: 2>, <Label.OUTER: 0>, <Label.OUTER: 0>, <Label.OUTER: 0>, <Label.OUTER: 0>, <Label.BEGIN: 1>, <Label.INNER: 2>, <Label.OUTER: 0>, <Label.BEGIN: 1>, <Label.INNER: 2>, <Label.INNER: 2>, <Label.OUTER: 0>, <Label.OUTER: 0>, <Label.BEGIN: 1>, <Label.OUTER: 0>, <Label.OUTER: 0>, <Label.OUTER: 0>, <Label.OUTER: 0>, <Label.OUTER: 0>, <Label.OUTER: 0>, <Label.OUTER: 0>, <Label.OUTER: 0>, <Label.OUTER: 0>, <Label.OUTER: 0>, <Label.OUTER: 0>, <Label.OUTER: 0>, <Label.OUTER: 0>, <Label.OUTER: 0>, <Label.OUTER: 0>, <Label.OUTER: 0>, <Label.OUTER: 0>, <Label.OUTER: 0>, <Label.BEGIN: 1>, <Label.INNER: 2>, <Label.OUTER: 0>, <Label.OUTER: 0>, <Label.OUTER: 0>, <Label.OUTER: 0>, <Label.OUTER: 0>, <Label.OUTER: 0>, <Label.OUTER: 0>, <Label.OUTER: 0>, <Label.OUTER: 0>, <Label.OUTER: 0>, <Label.OUTER: 0>, <Label.OUTER: 0>, <Label.OUTER: 0>, <Label.OUTER: 0>, <Label.OUTER: 0>, <Label.OUTER: 0>, <Label.OUTER: 0>, <Label.OUTER: 0>, <Label.OUTER: 0>, <Label.BEGIN: 1>, <Label.INNER: 2>, <Label.OUTER: 0>, <Label.OUTER: 0>, <Label.OUTER: 0>, <Label.OUTER: 0>, <Label.OUTER: 0>, <Label.OUTER: 0>, <Label.OUTER: 0>, <Label.OUTER: 0>, <Label.OUTER: 0>, <Label.OUTER: 0>, <Label.OUTER: 0>, <Label.OUTER: 0>, <Label.BEGIN: 1>, <Label.BEGIN: 1>, <Label.BEGIN: 1>, <Label.OUTER: 0>, <Label.OUTER: 0>, <Label.BEGIN: 1>, <Label.INNER: 2>, <Label.OUTER: 0>, <Label.OUTER: 0>, <Label.OUTER: 0>, <Label.OUTER: 0>, <Label.OUTER: 0>, <Label.OUTER: 0>, <Label.OUTER: 0>, <Label.OUTER: 0>, <Label.OUTER: 0>, <Label.OUTER: 0>, <Label.OUTER: 0>, <Label.OUTER: 0>, <Label.OUTER: 0>, <Label.BEGIN: 1>, <Label.INNER: 2>, <Label.OUTER: 0>, <Label.OUTER: 0>, <Label.OUTER: 0>, <Label.OUTER: 0>, <Label.OUTER: 0>, <Label.OUTER: 0>, <Label.OUTER: 0>, <Label.BEGIN: 1>, <Label.INNER: 2>, <Label.INNER: 2>, <Label.OUTER: 0>, <Label.OUTER: 0>, <Label.OUTER: 0>, <Label.OUTER: 0>, <Label.OUTER: 0>, <Label.OUTER: 0>, <Label.BEGIN: 1>, <Label.INNER: 2>, <Label.INNER: 2>, <Label.OUTER: 0>, <Label.OUTER: 0>, <Label.OUTER: 0>, <Label.OUTER: 0>, <Label.OUTER: 0>, <Label.OUTER: 0>, <Label.OUTER: 0>, <Label.OUTER: 0>, <Label.OUTER: 0>, <Label.OUTER: 0>, <Label.OUTER: 0>, <Label.OUTER: 0>, <Label.OUTER: 0>, <Label.OUTER: 0>, <Label.OUTER: 0>, <Label.OUTER: 0>, <Label.OUTER: 0>, <Label.OUTER: 0>, <Label.OUTER: 0>, <Label.OUTER: 0>, <Label.OUTER: 0>, <Label.OUTER: 0>, <Label.OUTER: 0>, <Label.OUTER: 0>, <Label.BEGIN: 1>, <Label.OUTER: 0>, <Label.OUTER: 0>, <Label.BEGIN: 1>, <Label.BEGIN: 1>, <Label.INNER: 2>, <Label.INNER: 2>, <Label.INNER: 2>, <Label.OUTER: 0>, <Label.OUTER: 0>, <Label.OUTER: 0>, <Label.OUTER: 0>, <Label.OUTER: 0>, <Label.OUTER: 0>, <Label.BEGIN: 1>, <Label.OUTER: 0>, <Label.OUTER: 0>, <Label.OUTER: 0>, <Label.OUTER: 0>, <Label.OUTER: 0>, <Label.BEGIN: 1>, <Label.OUTER: 0>, <Label.BEGIN: 1>, <Label.INNER: 2>, <Label.INNER: 2>, <Label.INNER: 2>, <Label.INNER: 2>, <Label.INNER: 2>, <Label.INNER: 2>, <Label.OUTER: 0>, <Label.OUTER: 0>, <Label.OUTER: 0>, <Label.OUTER: 0>, <Label.OUTER: 0>, <Label.OUTER: 0>, <Label.OUTER: 0>, <Label.BEGIN: 1>, <Label.OUTER: 0>]\n",
      "187\n"
     ]
    }
   ],
   "source": [
    "from enum import IntEnum\n",
    "from collections import namedtuple\n",
    "\n",
    "\n",
    "from razdel import tokenize\n",
    "\n",
    "class Label(IntEnum):\n",
    "    OUTER = 0\n",
    "    BEGIN = 1\n",
    "    INNER = 2\n",
    "    \n",
    "Sample = namedtuple(\"Sample\", \"text,tokens,spans,labels\")\n",
    "\n",
    "def text_span_to_sample(text, spans):\n",
    "    labels = []\n",
    "    tokens = list(tokenize(text))\n",
    "    for token in tokens:\n",
    "        label = Label.OUTER\n",
    "        for span in spans:\n",
    "            span_begin, span_end, tag = span\n",
    "            if token.start == span_begin:\n",
    "                label = Label.BEGIN\n",
    "            elif token.start > span_begin and token.stop <= span_end:\n",
    "                label = Label.INNER\n",
    "        labels.append(label)\n",
    "    # Проверяем инвариант отсутствия последовательных пар (0, 2)\n",
    "    assert len([1 for i in range(len(labels) - 1) if (labels[i], labels[i+1]) == (0, 2)]) == 0\n",
    "    return Sample(text, tokens, spans, labels)\n",
    "\n",
    "samples = []\n",
    "for text, spans in data:\n",
    "    samples.append(text_span_to_sample(text, spans))\n",
    "\n",
    "show_box_markup(samples[0].text, samples[0].spans, palette=palette(INST=BLUE, BIN=RED, ECO=GREEN))\n",
    "print(samples[0].labels)\n",
    "print(len(samples))"
   ]
  },
  {
   "cell_type": "code",
   "execution_count": 11,
   "id": "744256e8",
   "metadata": {},
   "outputs": [
    {
     "name": "stdout",
     "output_type": "stream",
     "text": [
      "130 28 29\n"
     ]
    }
   ],
   "source": [
    "import random\n",
    "random.shuffle(samples)\n",
    "\n",
    "sample_len = len(samples)\n",
    "perc70 = sample_len * 0.7\n",
    "perc85 = sample_len * 0.85\n",
    "train = samples[:int(perc70)]\n",
    "val = samples[int(perc70):int(perc85)]\n",
    "test = samples[int(perc85):]\n",
    "print(len(train), len(val), len(test))"
   ]
  },
  {
   "cell_type": "code",
   "execution_count": 12,
   "id": "9b8a53b6",
   "metadata": {},
   "outputs": [
    {
     "name": "stdout",
     "output_type": "stream",
     "text": [
      "['<pad>', '<unk>', 'ц', 'u', 'm', '\"', 'o', 'к', 'M', 'K', 'I', '»', 'с', 'Е', 'Д', 'п', 'Ф', 'Т', 'ч', 'Ц', 'a', 'ф', 'V', ';', 'h', 'в', 'Щ', '4', '*', 'Х', 'С', 'l', 'Э', '=', 'е', '_', '£', '┘', '│', '─', 'w', 's', 'т', '5', '>', 'H', '0', 'Л', ']', 'X', 'ш', 'Г', 'д', 'җ', 'О', 'd', 'Ч', 'y', 'ь', '«', 'Р', '├', 'T', '{', 'щ', 'ё', ':', 'ю', 'e', 'k', 'н', 'Ж', 'Ь', '┤', 'g', 'Ъ', 'я', '<', 'O', 'б', 'ъ', 'E', 'г', 'v', 'C', '/', 'К', '!', 'М', '1', '7', 'G', 'Ы', 'З', '.', 'i', '}', '”', 'n', '+', 'Ш', 'ж', ',', 'A', '@', 'И', '“', '(', 'D', 'Й', 'А', '3', 'F', ')', 'R', 'І', 'у', '┌', 'л', '–', 'f', 'P', 'r', 'о', 'П', 'c', 'У', 'Н', 'р', 'Ю', 'z', 'b', 'Ә', 'й', 'м', '2', 'Я', '—', '№', 'В', 'B', '┐', 'а', 'Б', 'p', '%', '×', 'W', '9', 'S', 'x', '-', '\\uf0b7', 'N', '[', 'Z', 'э', 'L', 't', '∑', '6', '…', 'ы', 'х', 'Σ', 'j', 'и', 'Ё', '■', 'ә', '8', 'з', 'U', '└']\n"
     ]
    }
   ],
   "source": [
    "char_set = [\"<pad>\", \"<unk>\"] + list({ch for sample in train for token in sample.tokens for ch in token.text})\n",
    "print(char_set)"
   ]
  },
  {
   "cell_type": "code",
   "execution_count": 13,
   "id": "18b2a0ee",
   "metadata": {},
   "outputs": [],
   "source": [
    "import torch\n",
    "from torch.utils.data import Dataset\n",
    "from torch.utils.data import DataLoader, RandomSampler\n",
    "\n",
    "class NerCharsDataset(Dataset):\n",
    "    def __init__(self, samples, char_set, max_seq_len=500, max_char_seq_len=50):\n",
    "        assert len(samples) != 0\n",
    "        self.samples = []\n",
    "        self.tokens = []\n",
    "        self.texts = []\n",
    "        for sample in samples:\n",
    "            inputs = torch.zeros((max_seq_len, max_char_seq_len), dtype=torch.long)\n",
    "            for token_num, token in enumerate(sample.tokens[:max_seq_len]):\n",
    "                for ch_num, ch in enumerate(token.text[:max_char_seq_len]):\n",
    "                    char_index = char_set.index(ch) if ch in char_set else char_set.index(\"<unk>\")\n",
    "                    inputs[token_num][ch_num] = char_index\n",
    "            labels = torch.zeros((max_seq_len,), dtype=torch.long)\n",
    "            input_labels = [int(i) for i in sample.labels[:max_seq_len]]\n",
    "            labels[:len(input_labels)] = torch.LongTensor(input_labels)\n",
    "            self.samples.append((torch.LongTensor(inputs), torch.LongTensor(labels)))\n",
    "            self.tokens.append(sample.tokens[:max_seq_len])\n",
    "            self.texts.append(sample.text)\n",
    "    \n",
    "    def __len__(self):\n",
    "        return len(self.samples)\n",
    "    \n",
    "    def __getitem__(self, index):\n",
    "        return self.samples[index]\n",
    "\n",
    "    def get_tokens(self, index):\n",
    "        return self.tokens[index]\n",
    "    \n",
    "    def get_text(self, index):\n",
    "        return self.texts[index]\n",
    "\n",
    "\n",
    "BATCH_SIZE = 32\n",
    "\n",
    "train_data = NerCharsDataset(train, char_set)\n",
    "train_sampler = RandomSampler(train_data)\n",
    "train_loader = DataLoader(train_data, batch_size=BATCH_SIZE, sampler=train_sampler)\n",
    "\n",
    "val_data = NerCharsDataset(val, char_set)\n",
    "val_loader = DataLoader(val_data, batch_size=BATCH_SIZE)\n",
    "\n",
    "test_data = NerCharsDataset(test, char_set)\n",
    "test_loader = DataLoader(test_data, batch_size=BATCH_SIZE)"
   ]
  },
  {
   "cell_type": "code",
   "execution_count": 14,
   "id": "da9c2e48",
   "metadata": {},
   "outputs": [
    {
     "name": "stdout",
     "output_type": "stream",
     "text": [
      "(tensor([[126,  42,  25,  ...,   0,   0,   0],\n",
      "        [124, 123,  12,  ...,   0,   0,   0],\n",
      "        [110,  52, 134,  ...,   0,   0,   0],\n",
      "        ...,\n",
      "        [ 17, 142,   7,  ...,   0,   0,   0],\n",
      "        [ 42, 128, 116,  ...,   0,   0,   0],\n",
      "        [ 15, 123,   0,  ...,   0,   0,   0]]), tensor([0, 0, 0, 0, 0, 0, 0, 0, 0, 0, 0, 0, 0, 0, 0, 0, 0, 0, 0, 0, 0, 0, 0, 0,\n",
      "        0, 0, 0, 0, 0, 0, 0, 0, 0, 0, 0, 0, 0, 0, 0, 0, 0, 0, 0, 1, 0, 0, 0, 0,\n",
      "        0, 0, 0, 1, 0, 0, 0, 0, 0, 0, 0, 0, 0, 0, 0, 0, 0, 0, 1, 2, 0, 0, 0, 0,\n",
      "        0, 0, 0, 0, 0, 0, 0, 0, 1, 1, 2, 0, 0, 0, 1, 2, 2, 2, 2, 2, 2, 2, 0, 1,\n",
      "        0, 1, 2, 1, 0, 0, 0, 0, 0, 0, 1, 2, 2, 0, 1, 2, 2, 2, 0, 1, 2, 2, 2, 2,\n",
      "        0, 1, 2, 1, 2, 2, 2, 2, 0, 1, 2, 2, 0, 1, 2, 2, 2, 2, 0, 1, 2, 0, 0, 0,\n",
      "        0, 0, 0, 0, 0, 0, 1, 0, 1, 2, 2, 0, 0, 0, 1, 2, 0, 1, 2, 2, 2, 0, 0, 0,\n",
      "        0, 0, 0, 1, 2, 2, 0, 1, 1, 1, 2, 2, 0, 1, 1, 2, 2, 0, 1, 2, 0, 0, 0, 0,\n",
      "        0, 0, 1, 1, 1, 2, 1, 0, 0, 0, 1, 1, 0, 0, 1, 2, 0, 1, 2, 0, 1, 2, 0, 0,\n",
      "        0, 1, 2, 2, 2, 2, 2, 2, 0, 1, 0, 0, 0, 0, 0, 0, 1, 0, 1, 0, 1, 1, 0, 0,\n",
      "        0, 1, 0, 1, 2, 0, 0, 1, 0, 0, 0, 1, 2, 0, 0, 0, 0, 0, 1, 2, 0, 0, 0, 0,\n",
      "        0, 1, 1, 2, 0, 0, 0, 1, 1, 1, 1, 2, 2, 2, 2, 0, 0, 0, 1, 0, 1, 1, 2, 2,\n",
      "        0, 0, 0, 0, 0, 0, 0, 0, 0, 0, 0, 1, 0, 0, 0, 0, 0, 0, 1, 0, 0, 1, 0, 0,\n",
      "        0, 0, 1, 0, 1, 2, 2, 2, 0, 0, 0, 0, 1, 2, 2, 2, 2, 0, 0, 0, 0, 0, 0, 0,\n",
      "        1, 0, 0, 0, 0, 0, 0, 0, 1, 0, 0, 0, 1, 2, 2, 0, 1, 0, 0, 0, 0, 1, 0, 0,\n",
      "        0, 0, 0, 0, 0, 0, 0, 0, 0, 0, 0, 0, 0, 0, 0, 0, 0, 0, 0, 0, 0, 0, 0, 0,\n",
      "        0, 0, 0, 0, 0, 0, 0, 0, 0, 0, 1, 2, 2, 0, 0, 0, 0, 0, 0, 0, 1, 0, 1, 0,\n",
      "        0, 0, 0, 0, 0, 0, 1, 2, 0, 0, 1, 2, 0, 1, 2, 2, 2, 0, 0, 0, 0, 0, 0, 0,\n",
      "        0, 1, 1, 2, 0, 0, 0, 1, 2, 2, 0, 0, 0, 0, 0, 0, 0, 0, 0, 0, 0, 0, 1, 2,\n",
      "        0, 0, 1, 2, 0, 0, 0, 0, 0, 0, 0, 0, 0, 0, 0, 0, 1, 2, 2, 2, 2, 2, 2, 0,\n",
      "        0, 1, 2, 2, 2, 2, 2, 0, 0, 0, 0, 0, 0, 0, 0, 0, 0, 0, 1, 2]))\n",
      "torch.Size([32, 500, 50])\n",
      "torch.Size([32, 500])\n"
     ]
    }
   ],
   "source": [
    "print(test_data[0])\n",
    "for sample in train_loader:\n",
    "    inputs, labels = sample\n",
    "    print(inputs.size())\n",
    "    print(labels.size())\n",
    "    break"
   ]
  },
  {
   "cell_type": "code",
   "execution_count": 15,
   "id": "c8cb8910",
   "metadata": {},
   "outputs": [],
   "source": [
    "import torch\n",
    "import torch.nn as nn\n",
    "from pytorch_lightning import LightningModule\n",
    "from pytorch_lightning.metrics import Accuracy\n",
    " \n",
    "\n",
    "class TemplateModel(LightningModule):\n",
    "    def __init__(self):\n",
    "        super().__init__()\n",
    "        \n",
    "        self.loss = nn.CrossEntropyLoss()\n",
    "        self.valid_accuracy = Accuracy()\n",
    "        self.test_accuracy = Accuracy()\n",
    "    \n",
    "    def forward(self, inputs, labels):\n",
    "        raise NotImplementedError(\"forward not implemented\")\n",
    "    \n",
    "    def configure_optimizers(self):\n",
    "        optimizer = torch.optim.Adam(self.parameters(), lr=1e-3)\n",
    "        return [optimizer]\n",
    "    \n",
    "    def training_step(self, batch, _):\n",
    "        inputs, labels = batch\n",
    "        loss, logits = self(inputs, labels)\n",
    "        return loss\n",
    "    \n",
    "    def validation_step(self, batch, _):\n",
    "        inputs, labels = batch\n",
    "        val_loss, logits = self(inputs, labels)\n",
    "        self.valid_accuracy.update(logits, labels)\n",
    "        self.log(\"val_loss\", val_loss, prog_bar=True)\n",
    "        self.log(\"val_acc\", self.valid_accuracy)\n",
    "\n",
    "    def validation_epoch_end(self, outs):\n",
    "        self.log(\"val_acc_epoch\", self.valid_accuracy.compute(), prog_bar=True)\n",
    "\n",
    "    def test_step(self, batch, _):\n",
    "        inputs, labels = batch\n",
    "        test_loss, logits = self(inputs, labels)\n",
    "        self.test_accuracy.update(logits, labels)\n",
    "        self.log(\"test_loss\", test_loss, prog_bar=True)\n",
    "        self.log(\"test_acc\", self.test_accuracy)\n",
    "\n",
    "    def test_epoch_end(self, outs):\n",
    "        self.log(\"test_acc_epoch\", self.test_accuracy.compute(), prog_bar=True)"
   ]
  },
  {
   "cell_type": "code",
   "execution_count": 16,
   "id": "7d9a7a39",
   "metadata": {},
   "outputs": [
    {
     "name": "stderr",
     "output_type": "stream",
     "text": [
      "/Users/a19028558/Desktop/sber_NLP_learning/fastText-0.9.2/newvenv/lib/python3.7/site-packages/deprecate/deprecation.py:115: LightningDeprecationWarning: The `Accuracy` was deprecated since v1.3.0 in favor of `torchmetrics.classification.accuracy.Accuracy`. It will be removed in v1.5.0.\n",
      "  stream(template_mgs % msg_args)\n",
      "GPU available: False, used: False\n",
      "TPU available: False, using: 0 TPU cores\n",
      "\n",
      "  | Name             | Type             | Params\n",
      "------------------------------------------------------\n",
      "0 | loss             | CrossEntropyLoss | 0     \n",
      "1 | valid_accuracy   | Accuracy         | 0     \n",
      "2 | test_accuracy    | Accuracy         | 0     \n",
      "3 | embeddings_layer | Embedding        | 5.6 K \n",
      "4 | out_layer        | Linear           | 4.8 K \n",
      "------------------------------------------------------\n",
      "10.4 K    Trainable params\n",
      "0         Non-trainable params\n",
      "10.4 K    Total params\n",
      "0.041     Total estimated model params size (MB)\n"
     ]
    },
    {
     "name": "stdout",
     "output_type": "stream",
     "text": [
      "Epoch 0:   0%|                                                                                                | 0/6 [00:00<?, ?it/s]"
     ]
    },
    {
     "name": "stderr",
     "output_type": "stream",
     "text": [
      "/Users/a19028558/Desktop/sber_NLP_learning/fastText-0.9.2/newvenv/lib/python3.7/site-packages/pytorch_lightning/trainer/data_loading.py:103: UserWarning: The dataloader, val dataloader 0, does not have many workers which may be a bottleneck. Consider increasing the value of the `num_workers` argument` (try 12 which is the number of cpus on this machine) in the `DataLoader` init to improve performance.\n",
      "  f'The dataloader, {name}, does not have many workers which may be a bottleneck.'\n",
      "/Users/a19028558/Desktop/sber_NLP_learning/fastText-0.9.2/newvenv/lib/python3.7/site-packages/pytorch_lightning/trainer/data_loading.py:103: UserWarning: The dataloader, train dataloader, does not have many workers which may be a bottleneck. Consider increasing the value of the `num_workers` argument` (try 12 which is the number of cpus on this machine) in the `DataLoader` init to improve performance.\n",
      "  f'The dataloader, {name}, does not have many workers which may be a bottleneck.'\n"
     ]
    },
    {
     "name": "stdout",
     "output_type": "stream",
     "text": [
      "Epoch 0: 100%|████████████████████████████████████████████████████████████████████████████████████████| 6/6 [00:03<00:00,  1.76it/s]\n",
      "Validating: 0it [00:00, ?it/s]\u001b[A\n",
      "Validating:   0%|                                                                                             | 0/1 [00:00<?, ?it/s]\u001b[A"
     ]
    },
    {
     "name": "stderr",
     "output_type": "stream",
     "text": [
      "Metric val_loss improved. New best score: 0.936\n"
     ]
    },
    {
     "name": "stdout",
     "output_type": "stream",
     "text": [
      "Epoch 0: 100%|█████████████████████████████| 6/6 [00:03<00:00,  1.73it/s, loss=0.996, v_num=18, val_loss=0.936, val_acc_epoch=0.552]\n",
      "Epoch 1: 100%|█████████████████████████████| 6/6 [00:03<00:00,  1.80it/s, loss=0.996, v_num=18, val_loss=0.936, val_acc_epoch=0.552]\u001b[A\n",
      "Validating: 0it [00:00, ?it/s]\u001b[A\n",
      "Validating:   0%|                                                                                             | 0/1 [00:00<?, ?it/s]\u001b[A"
     ]
    },
    {
     "name": "stderr",
     "output_type": "stream",
     "text": [
      "Metric val_loss improved by 0.087 >= min_delta = 0.0. New best score: 0.849\n"
     ]
    },
    {
     "name": "stdout",
     "output_type": "stream",
     "text": [
      "Epoch 1: 100%|█████████████████████████████| 6/6 [00:03<00:00,  1.76it/s, loss=0.925, v_num=18, val_loss=0.849, val_acc_epoch=0.633]\n",
      "Epoch 2: 100%|█████████████████████████████| 6/6 [00:03<00:00,  1.76it/s, loss=0.925, v_num=18, val_loss=0.849, val_acc_epoch=0.633]\u001b[A\n",
      "Validating: 0it [00:00, ?it/s]\u001b[A\n",
      "Validating:   0%|                                                                                             | 0/1 [00:00<?, ?it/s]\u001b[A"
     ]
    },
    {
     "name": "stderr",
     "output_type": "stream",
     "text": [
      "Metric val_loss improved by 0.045 >= min_delta = 0.0. New best score: 0.805\n"
     ]
    },
    {
     "name": "stdout",
     "output_type": "stream",
     "text": [
      "Epoch 2: 100%|█████████████████████████████| 6/6 [00:03<00:00,  1.73it/s, loss=0.884, v_num=18, val_loss=0.805, val_acc_epoch=0.613]\n",
      "Epoch 3: 100%|█████████████████████████████| 6/6 [00:03<00:00,  1.64it/s, loss=0.884, v_num=18, val_loss=0.805, val_acc_epoch=0.613]\u001b[A\n",
      "Validating: 0it [00:00, ?it/s]\u001b[A\n",
      "Validating:   0%|                                                                                             | 0/1 [00:00<?, ?it/s]\u001b[A"
     ]
    },
    {
     "name": "stderr",
     "output_type": "stream",
     "text": [
      "Metric val_loss improved by 0.026 >= min_delta = 0.0. New best score: 0.779\n"
     ]
    },
    {
     "name": "stdout",
     "output_type": "stream",
     "text": [
      "Epoch 3: 100%|█████████████████████████████| 6/6 [00:03<00:00,  1.62it/s, loss=0.863, v_num=18, val_loss=0.779, val_acc_epoch=0.640]\n",
      "Epoch 4: 100%|█████████████████████████████| 6/6 [00:03<00:00,  1.75it/s, loss=0.863, v_num=18, val_loss=0.779, val_acc_epoch=0.640]\u001b[A\n",
      "Validating: 0it [00:00, ?it/s]\u001b[A\n",
      "Validating:   0%|                                                                                             | 0/1 [00:00<?, ?it/s]\u001b[A"
     ]
    },
    {
     "name": "stderr",
     "output_type": "stream",
     "text": [
      "Metric val_loss improved by 0.014 >= min_delta = 0.0. New best score: 0.765\n"
     ]
    },
    {
     "name": "stdout",
     "output_type": "stream",
     "text": [
      "Epoch 4: 100%|█████████████████████████████| 6/6 [00:03<00:00,  1.72it/s, loss=0.797, v_num=18, val_loss=0.765, val_acc_epoch=0.647]\n",
      "Epoch 5: 100%|█████████████████████████████| 6/6 [00:03<00:00,  1.73it/s, loss=0.797, v_num=18, val_loss=0.765, val_acc_epoch=0.647]\u001b[A\n",
      "Validating: 0it [00:00, ?it/s]\u001b[A\n",
      "Validating:   0%|                                                                                             | 0/1 [00:00<?, ?it/s]\u001b[A"
     ]
    },
    {
     "name": "stderr",
     "output_type": "stream",
     "text": [
      "Metric val_loss improved by 0.002 >= min_delta = 0.0. New best score: 0.763\n"
     ]
    },
    {
     "name": "stdout",
     "output_type": "stream",
     "text": [
      "Epoch 5: 100%|█████████████████████████████| 6/6 [00:03<00:00,  1.71it/s, loss=0.778, v_num=18, val_loss=0.763, val_acc_epoch=0.657]\n",
      "Epoch 6: 100%|█████████████████████████████| 6/6 [00:03<00:00,  1.72it/s, loss=0.778, v_num=18, val_loss=0.763, val_acc_epoch=0.657]\u001b[A\n",
      "Validating: 0it [00:00, ?it/s]\u001b[A\n",
      "Validating:   0%|                                                                                             | 0/1 [00:00<?, ?it/s]\u001b[A"
     ]
    },
    {
     "name": "stderr",
     "output_type": "stream",
     "text": [
      "Metric val_loss improved by 0.004 >= min_delta = 0.0. New best score: 0.759\n"
     ]
    },
    {
     "name": "stdout",
     "output_type": "stream",
     "text": [
      "Epoch 6: 100%|██████████████████████████████| 6/6 [00:03<00:00,  1.69it/s, loss=0.77, v_num=18, val_loss=0.759, val_acc_epoch=0.649]\n",
      "Epoch 7: 100%|██████████████████████████████| 6/6 [00:03<00:00,  1.77it/s, loss=0.77, v_num=18, val_loss=0.759, val_acc_epoch=0.649]\u001b[A\n",
      "Validating: 0it [00:00, ?it/s]\u001b[A\n",
      "Validating:   0%|                                                                                             | 0/1 [00:00<?, ?it/s]\u001b[A"
     ]
    },
    {
     "name": "stderr",
     "output_type": "stream",
     "text": [
      "Metric val_loss improved by 0.000 >= min_delta = 0.0. New best score: 0.759\n"
     ]
    },
    {
     "name": "stdout",
     "output_type": "stream",
     "text": [
      "Epoch 7: 100%|█████████████████████████████| 6/6 [00:03<00:00,  1.74it/s, loss=0.762, v_num=18, val_loss=0.759, val_acc_epoch=0.662]\n",
      "Epoch 8: 100%|█████████████████████████████| 6/6 [00:03<00:00,  1.74it/s, loss=0.762, v_num=18, val_loss=0.759, val_acc_epoch=0.662]\u001b[A\n",
      "Validating: 0it [00:00, ?it/s]\u001b[A\n",
      "Epoch 8: 100%|█████████████████████████████| 6/6 [00:03<00:00,  1.72it/s, loss=0.744, v_num=18, val_loss=0.766, val_acc_epoch=0.665]\u001b[A\n",
      "Epoch 9: 100%|█████████████████████████████| 6/6 [00:03<00:00,  1.71it/s, loss=0.744, v_num=18, val_loss=0.766, val_acc_epoch=0.665]\u001b[A\n",
      "Validating: 0it [00:00, ?it/s]\u001b[A\n",
      "Epoch 9: 100%|█████████████████████████████| 6/6 [00:03<00:00,  1.69it/s, loss=0.745, v_num=18, val_loss=0.770, val_acc_epoch=0.633]\u001b[A\n",
      "Epoch 10: 100%|████████████████████████████| 6/6 [00:03<00:00,  1.77it/s, loss=0.745, v_num=18, val_loss=0.770, val_acc_epoch=0.633]\u001b[A\n",
      "Validating: 0it [00:00, ?it/s]\u001b[A\n",
      "Validating:   0%|                                                                                             | 0/1 [00:00<?, ?it/s]\u001b[A"
     ]
    },
    {
     "name": "stderr",
     "output_type": "stream",
     "text": [
      "Metric val_loss improved by 0.014 >= min_delta = 0.0. New best score: 0.745\n"
     ]
    },
    {
     "name": "stdout",
     "output_type": "stream",
     "text": [
      "Epoch 10: 100%|█████████████████████████████| 6/6 [00:03<00:00,  1.74it/s, loss=0.75, v_num=18, val_loss=0.745, val_acc_epoch=0.666]\n",
      "Epoch 11: 100%|█████████████████████████████| 6/6 [00:03<00:00,  1.76it/s, loss=0.75, v_num=18, val_loss=0.745, val_acc_epoch=0.666]\u001b[A\n",
      "Validating: 0it [00:00, ?it/s]\u001b[A\n",
      "Validating:   0%|                                                                                             | 0/1 [00:00<?, ?it/s]\u001b[A"
     ]
    },
    {
     "name": "stderr",
     "output_type": "stream",
     "text": [
      "Metric val_loss improved by 0.005 >= min_delta = 0.0. New best score: 0.740\n"
     ]
    },
    {
     "name": "stdout",
     "output_type": "stream",
     "text": [
      "Epoch 11: 100%|████████████████████████████| 6/6 [00:03<00:00,  1.73it/s, loss=0.742, v_num=18, val_loss=0.740, val_acc_epoch=0.672]\n",
      "Epoch 12: 100%|████████████████████████████| 6/6 [00:03<00:00,  1.76it/s, loss=0.742, v_num=18, val_loss=0.740, val_acc_epoch=0.672]\u001b[A\n",
      "Validating: 0it [00:00, ?it/s]\u001b[A\n",
      "Epoch 12: 100%|████████████████████████████| 6/6 [00:03<00:00,  1.74it/s, loss=0.756, v_num=18, val_loss=0.744, val_acc_epoch=0.667]\u001b[A\n",
      "Epoch 13: 100%|████████████████████████████| 6/6 [00:03<00:00,  1.73it/s, loss=0.756, v_num=18, val_loss=0.744, val_acc_epoch=0.667]\u001b[A\n",
      "Validating: 0it [00:00, ?it/s]\u001b[A\n",
      "Epoch 13: 100%|████████████████████████████| 6/6 [00:03<00:00,  1.71it/s, loss=0.752, v_num=18, val_loss=0.778, val_acc_epoch=0.642]\u001b[A\n",
      "Epoch 14: 100%|████████████████████████████| 6/6 [00:03<00:00,  1.75it/s, loss=0.752, v_num=18, val_loss=0.778, val_acc_epoch=0.642]\u001b[A\n",
      "Validating: 0it [00:00, ?it/s]\u001b[A\n",
      "Epoch 14: 100%|████████████████████████████| 6/6 [00:03<00:00,  1.72it/s, loss=0.741, v_num=18, val_loss=0.758, val_acc_epoch=0.667]\u001b[A\n",
      "Epoch 15: 100%|████████████████████████████| 6/6 [00:03<00:00,  1.75it/s, loss=0.741, v_num=18, val_loss=0.758, val_acc_epoch=0.667]\u001b[A\n",
      "Validating: 0it [00:00, ?it/s]\u001b[A\n",
      "Epoch 15: 100%|████████████████████████████| 6/6 [00:03<00:00,  1.73it/s, loss=0.745, v_num=18, val_loss=0.745, val_acc_epoch=0.664]\u001b[A\n",
      "Epoch 16: 100%|████████████████████████████| 6/6 [00:03<00:00,  1.80it/s, loss=0.745, v_num=18, val_loss=0.745, val_acc_epoch=0.664]\u001b[A\n",
      "Validating: 0it [00:00, ?it/s]\u001b[A\n",
      "Validating:   0%|                                                                                             | 0/1 [00:00<?, ?it/s]\u001b[A"
     ]
    },
    {
     "name": "stderr",
     "output_type": "stream",
     "text": [
      "Metric val_loss improved by 0.013 >= min_delta = 0.0. New best score: 0.727\n"
     ]
    },
    {
     "name": "stdout",
     "output_type": "stream",
     "text": [
      "Epoch 16: 100%|████████████████████████████| 6/6 [00:03<00:00,  1.78it/s, loss=0.757, v_num=18, val_loss=0.727, val_acc_epoch=0.677]\n",
      "Epoch 17: 100%|████████████████████████████| 6/6 [00:03<00:00,  1.66it/s, loss=0.757, v_num=18, val_loss=0.727, val_acc_epoch=0.677]\u001b[A\n",
      "Validating: 0it [00:00, ?it/s]\u001b[A\n",
      "Validating:   0%|                                                                                             | 0/1 [00:00<?, ?it/s]\u001b[A"
     ]
    },
    {
     "name": "stderr",
     "output_type": "stream",
     "text": [
      "Metric val_loss improved by 0.002 >= min_delta = 0.0. New best score: 0.725\n"
     ]
    },
    {
     "name": "stdout",
     "output_type": "stream",
     "text": [
      "Epoch 17: 100%|█████████████████████████████| 6/6 [00:03<00:00,  1.63it/s, loss=0.75, v_num=18, val_loss=0.725, val_acc_epoch=0.677]\n",
      "Epoch 18: 100%|█████████████████████████████| 6/6 [00:03<00:00,  1.71it/s, loss=0.75, v_num=18, val_loss=0.725, val_acc_epoch=0.677]\u001b[A\n",
      "Validating: 0it [00:00, ?it/s]\u001b[A\n",
      "Epoch 18: 100%|████████████████████████████| 6/6 [00:03<00:00,  1.69it/s, loss=0.744, v_num=18, val_loss=0.726, val_acc_epoch=0.681]\u001b[A\n",
      "Epoch 19: 100%|████████████████████████████| 6/6 [00:03<00:00,  1.66it/s, loss=0.744, v_num=18, val_loss=0.726, val_acc_epoch=0.681]\u001b[A\n",
      "Validating: 0it [00:00, ?it/s]\u001b[A\n",
      "Epoch 19: 100%|████████████████████████████| 6/6 [00:03<00:00,  1.63it/s, loss=0.743, v_num=18, val_loss=0.733, val_acc_epoch=0.672]\u001b[A\n",
      "Epoch 20: 100%|████████████████████████████| 6/6 [00:03<00:00,  1.67it/s, loss=0.743, v_num=18, val_loss=0.733, val_acc_epoch=0.672]\u001b[A\n",
      "Validating: 0it [00:00, ?it/s]\u001b[A\n",
      "Validating:   0%|                                                                                             | 0/1 [00:00<?, ?it/s]\u001b[A"
     ]
    },
    {
     "name": "stderr",
     "output_type": "stream",
     "text": [
      "Metric val_loss improved by 0.003 >= min_delta = 0.0. New best score: 0.722\n"
     ]
    },
    {
     "name": "stdout",
     "output_type": "stream",
     "text": [
      "Epoch 20: 100%|████████████████████████████| 6/6 [00:03<00:00,  1.65it/s, loss=0.732, v_num=18, val_loss=0.722, val_acc_epoch=0.683]\n",
      "Epoch 21: 100%|████████████████████████████| 6/6 [00:03<00:00,  1.72it/s, loss=0.732, v_num=18, val_loss=0.722, val_acc_epoch=0.683]\u001b[A\n",
      "Validating: 0it [00:00, ?it/s]\u001b[A\n",
      "Epoch 21: 100%|████████████████████████████| 6/6 [00:03<00:00,  1.69it/s, loss=0.728, v_num=18, val_loss=0.726, val_acc_epoch=0.683]\u001b[A\n",
      "Epoch 22: 100%|████████████████████████████| 6/6 [00:03<00:00,  1.74it/s, loss=0.728, v_num=18, val_loss=0.726, val_acc_epoch=0.683]\u001b[A\n",
      "Validating: 0it [00:00, ?it/s]\u001b[A\n",
      "Validating:   0%|                                                                                             | 0/1 [00:00<?, ?it/s]\u001b[A"
     ]
    },
    {
     "name": "stderr",
     "output_type": "stream",
     "text": [
      "Metric val_loss improved by 0.002 >= min_delta = 0.0. New best score: 0.720\n"
     ]
    },
    {
     "name": "stdout",
     "output_type": "stream",
     "text": [
      "Epoch 22: 100%|████████████████████████████| 6/6 [00:03<00:00,  1.71it/s, loss=0.728, v_num=18, val_loss=0.720, val_acc_epoch=0.682]\n",
      "Epoch 23: 100%|████████████████████████████| 6/6 [00:03<00:00,  1.79it/s, loss=0.728, v_num=18, val_loss=0.720, val_acc_epoch=0.682]\u001b[A\n",
      "Validating: 0it [00:00, ?it/s]\u001b[A\n",
      "Validating:   0%|                                                                                             | 0/1 [00:00<?, ?it/s]\u001b[A"
     ]
    },
    {
     "name": "stderr",
     "output_type": "stream",
     "text": [
      "Metric val_loss improved by 0.002 >= min_delta = 0.0. New best score: 0.718\n"
     ]
    },
    {
     "name": "stdout",
     "output_type": "stream",
     "text": [
      "Epoch 23: 100%|█████████████████████████████| 6/6 [00:03<00:00,  1.76it/s, loss=0.71, v_num=18, val_loss=0.718, val_acc_epoch=0.686]\n",
      "Epoch 24: 100%|█████████████████████████████| 6/6 [00:03<00:00,  1.78it/s, loss=0.71, v_num=18, val_loss=0.718, val_acc_epoch=0.686]\u001b[A\n",
      "Validating: 0it [00:00, ?it/s]\u001b[A\n",
      "Validating:   0%|                                                                                             | 0/1 [00:00<?, ?it/s]\u001b[A"
     ]
    },
    {
     "name": "stderr",
     "output_type": "stream",
     "text": [
      "Metric val_loss improved by 0.002 >= min_delta = 0.0. New best score: 0.716\n"
     ]
    },
    {
     "name": "stdout",
     "output_type": "stream",
     "text": [
      "Epoch 24: 100%|████████████████████████████| 6/6 [00:03<00:00,  1.75it/s, loss=0.697, v_num=18, val_loss=0.716, val_acc_epoch=0.682]\n",
      "Epoch 25: 100%|████████████████████████████| 6/6 [00:03<00:00,  1.80it/s, loss=0.697, v_num=18, val_loss=0.716, val_acc_epoch=0.682]\u001b[A\n",
      "Validating: 0it [00:00, ?it/s]\u001b[A\n",
      "Epoch 25: 100%|████████████████████████████| 6/6 [00:03<00:00,  1.78it/s, loss=0.696, v_num=18, val_loss=0.719, val_acc_epoch=0.686]\u001b[A\n",
      "Epoch 26: 100%|████████████████████████████| 6/6 [00:03<00:00,  1.80it/s, loss=0.696, v_num=18, val_loss=0.719, val_acc_epoch=0.686]\u001b[A\n",
      "Validating: 0it [00:00, ?it/s]\u001b[A\n",
      "Epoch 26: 100%|████████████████████████████| 6/6 [00:03<00:00,  1.77it/s, loss=0.689, v_num=18, val_loss=0.720, val_acc_epoch=0.685]\u001b[A\n",
      "Epoch 27: 100%|████████████████████████████| 6/6 [00:03<00:00,  1.77it/s, loss=0.689, v_num=18, val_loss=0.720, val_acc_epoch=0.685]\u001b[A\n",
      "Validating: 0it [00:00, ?it/s]\u001b[A\n",
      "Epoch 27: 100%|████████████████████████████| 6/6 [00:03<00:00,  1.74it/s, loss=0.703, v_num=18, val_loss=0.739, val_acc_epoch=0.674]\u001b[A\n",
      "Epoch 28: 100%|████████████████████████████| 6/6 [00:03<00:00,  1.71it/s, loss=0.703, v_num=18, val_loss=0.739, val_acc_epoch=0.674]\u001b[A\n",
      "Validating: 0it [00:00, ?it/s]\u001b[A\n",
      "Epoch 28: 100%|████████████████████████████| 6/6 [00:03<00:00,  1.68it/s, loss=0.694, v_num=18, val_loss=0.765, val_acc_epoch=0.676]\u001b[A\n",
      "Epoch 29: 100%|████████████████████████████| 6/6 [00:03<00:00,  1.75it/s, loss=0.694, v_num=18, val_loss=0.765, val_acc_epoch=0.676]\u001b[A\n",
      "Validating: 0it [00:00, ?it/s]\u001b[A\n",
      "Validating:   0%|                                                                                             | 0/1 [00:00<?, ?it/s]\u001b[A"
     ]
    },
    {
     "name": "stderr",
     "output_type": "stream",
     "text": [
      "Monitored metric val_loss did not improve in the last 5 records. Best score: 0.716. Signaling Trainer to stop.\n"
     ]
    },
    {
     "name": "stdout",
     "output_type": "stream",
     "text": [
      "Epoch 29: 100%|████████████████████████████| 6/6 [00:03<00:00,  1.72it/s, loss=0.702, v_num=18, val_loss=0.762, val_acc_epoch=0.657]\n",
      "Epoch 29: 100%|████████████████████████████| 6/6 [00:03<00:00,  1.72it/s, loss=0.702, v_num=18, val_loss=0.762, val_acc_epoch=0.657]\u001b[A\n",
      "Testing: 100%|████████████████████████████████████████████████████████████████████████████████████████| 1/1 [00:00<00:00, 19.04it/s]\n",
      "--------------------------------------------------------------------------------\n",
      "DATALOADER:0 TEST RESULTS\n",
      "{'test_acc': 0.6932413578033447,\n",
      " 'test_acc_epoch': 0.6932413578033447,\n",
      " 'test_loss': 0.6971759796142578}\n",
      "--------------------------------------------------------------------------------\n"
     ]
    },
    {
     "name": "stderr",
     "output_type": "stream",
     "text": [
      "/Users/a19028558/Desktop/sber_NLP_learning/fastText-0.9.2/newvenv/lib/python3.7/site-packages/pytorch_lightning/trainer/data_loading.py:103: UserWarning: The dataloader, test dataloader 0, does not have many workers which may be a bottleneck. Consider increasing the value of the `num_workers` argument` (try 12 which is the number of cpus on this machine) in the `DataLoader` init to improve performance.\n",
      "  f'The dataloader, {name}, does not have many workers which may be a bottleneck.'\n"
     ]
    },
    {
     "data": {
      "text/plain": [
       "[{'test_loss': 0.6971759796142578,\n",
       "  'test_acc': 0.6932413578033447,\n",
       "  'test_acc_epoch': 0.6932413578033447}]"
      ]
     },
     "execution_count": 16,
     "metadata": {},
     "output_type": "execute_result"
    }
   ],
   "source": [
    "import torch\n",
    "from torch import nn\n",
    "from pytorch_lightning import Trainer\n",
    "from pytorch_lightning.callbacks import EarlyStopping\n",
    "\n",
    "class SuperSimpleModel(TemplateModel):\n",
    "    def __init__(self, char_set_size, char_embedding_dim=32, classes_count=3, char_max_seq_len=50):\n",
    "        super().__init__()\n",
    "        \n",
    "        self.embeddings_layer = nn.Embedding(char_set_size, char_embedding_dim) # а -> [0.1, ... 0.3]\n",
    "        self.out_layer = nn.Linear(char_max_seq_len * char_embedding_dim, classes_count)\n",
    "\n",
    "    def forward(self, inputs, labels):\n",
    "        projections = self.embeddings_layer.forward(inputs)\n",
    "        projections = projections.reshape(projections.size(0), projections.size(1), -1) # <-\n",
    "        logits = self.out_layer.forward(projections)\n",
    "        logits = logits.transpose(1, 2)\n",
    "        loss = self.loss(logits, labels)\n",
    "        return loss, logits\n",
    "\n",
    "\n",
    "super_simple_model = SuperSimpleModel(len(char_set))\n",
    "early_stop_callback = EarlyStopping(\n",
    "    monitor=\"val_loss\",\n",
    "    min_delta=0.0,\n",
    "    patience=5,\n",
    "    verbose=True,\n",
    "    mode=\"min\" \n",
    ")\n",
    "trainer = Trainer(\n",
    "    gpus=0,\n",
    "    checkpoint_callback=False,\n",
    "    accumulate_grad_batches=1,\n",
    "    max_epochs=150,\n",
    "    progress_bar_refresh_rate=10,\n",
    "    callbacks=[early_stop_callback])\n",
    "trainer.fit(super_simple_model, train_loader, val_loader)\n",
    "trainer.test(super_simple_model, test_loader)"
   ]
  },
  {
   "cell_type": "markdown",
   "id": "600546b3",
   "metadata": {},
   "source": [
    "## Бесконтекстная модель"
   ]
  },
  {
   "cell_type": "code",
   "execution_count": 17,
   "id": "5a54907a",
   "metadata": {
    "scrolled": true
   },
   "outputs": [
    {
     "name": "stderr",
     "output_type": "stream",
     "text": [
      "GPU available: False, used: False\n",
      "TPU available: False, using: 0 TPU cores\n",
      "\n",
      "  | Name             | Type             | Params\n",
      "------------------------------------------------------\n",
      "0 | loss             | CrossEntropyLoss | 0     \n",
      "1 | valid_accuracy   | Accuracy         | 0     \n",
      "2 | test_accuracy    | Accuracy         | 0     \n",
      "3 | embeddings_layer | Embedding        | 5.6 K \n",
      "4 | out_layer        | Linear           | 4.8 K \n",
      "------------------------------------------------------\n",
      "10.4 K    Trainable params\n",
      "0         Non-trainable params\n",
      "10.4 K    Total params\n",
      "0.041     Total estimated model params size (MB)\n"
     ]
    },
    {
     "name": "stdout",
     "output_type": "stream",
     "text": [
      "Epoch 0: 100%|████████████████████████████████████████████████████████████████████████████████████████| 6/6 [00:03<00:00,  1.65it/s]\n",
      "Validating: 0it [00:00, ?it/s]\u001b[A\n",
      "Validating:   0%|                                                                                             | 0/1 [00:00<?, ?it/s]\u001b[A"
     ]
    },
    {
     "name": "stderr",
     "output_type": "stream",
     "text": [
      "Metric val_loss improved. New best score: 1.075\n"
     ]
    },
    {
     "name": "stdout",
     "output_type": "stream",
     "text": [
      "Epoch 0: 100%|██████████████████████████████| 6/6 [00:03<00:00,  1.62it/s, loss=1.17, v_num=19, val_loss=1.080, val_acc_epoch=0.643]\n",
      "Epoch 1: 100%|██████████████████████████████| 6/6 [00:03<00:00,  1.65it/s, loss=1.17, v_num=19, val_loss=1.080, val_acc_epoch=0.643]\u001b[A\n",
      "Validating: 0it [00:00, ?it/s]\u001b[A\n",
      "Validating:   0%|                                                                                             | 0/1 [00:00<?, ?it/s]\u001b[A"
     ]
    },
    {
     "name": "stderr",
     "output_type": "stream",
     "text": [
      "Metric val_loss improved by 0.232 >= min_delta = 0.0. New best score: 0.843\n"
     ]
    },
    {
     "name": "stdout",
     "output_type": "stream",
     "text": [
      "Epoch 1: 100%|██████████████████████████████| 6/6 [00:03<00:00,  1.63it/s, loss=1.07, v_num=19, val_loss=0.843, val_acc_epoch=0.571]\n",
      "Epoch 2: 100%|██████████████████████████████| 6/6 [00:03<00:00,  1.77it/s, loss=1.07, v_num=19, val_loss=0.843, val_acc_epoch=0.571]\u001b[A\n",
      "Validating: 0it [00:00, ?it/s]\u001b[A\n",
      "Validating:   0%|                                                                                             | 0/1 [00:00<?, ?it/s]\u001b[A"
     ]
    },
    {
     "name": "stderr",
     "output_type": "stream",
     "text": [
      "Metric val_loss improved by 0.016 >= min_delta = 0.0. New best score: 0.827\n"
     ]
    },
    {
     "name": "stdout",
     "output_type": "stream",
     "text": [
      "Epoch 2: 100%|██████████████████████████████| 6/6 [00:03<00:00,  1.75it/s, loss=1.01, v_num=19, val_loss=0.827, val_acc_epoch=0.641]\n",
      "Epoch 3: 100%|██████████████████████████████| 6/6 [00:03<00:00,  1.81it/s, loss=1.01, v_num=19, val_loss=0.827, val_acc_epoch=0.641]\u001b[A\n",
      "Validating: 0it [00:00, ?it/s]\u001b[A\n",
      "Epoch 3: 100%|█████████████████████████████| 6/6 [00:03<00:00,  1.78it/s, loss=0.969, v_num=19, val_loss=0.867, val_acc_epoch=0.606]\u001b[A\n",
      "Epoch 4: 100%|█████████████████████████████| 6/6 [00:03<00:00,  1.78it/s, loss=0.969, v_num=19, val_loss=0.867, val_acc_epoch=0.606]\u001b[A\n",
      "Validating: 0it [00:00, ?it/s]\u001b[A\n",
      "Validating:   0%|                                                                                             | 0/1 [00:00<?, ?it/s]\u001b[A"
     ]
    },
    {
     "name": "stderr",
     "output_type": "stream",
     "text": [
      "Metric val_loss improved by 0.046 >= min_delta = 0.0. New best score: 0.781\n"
     ]
    },
    {
     "name": "stdout",
     "output_type": "stream",
     "text": [
      "Epoch 4: 100%|█████████████████████████████| 6/6 [00:03<00:00,  1.76it/s, loss=0.868, v_num=19, val_loss=0.781, val_acc_epoch=0.619]\n",
      "Epoch 5: 100%|█████████████████████████████| 6/6 [00:03<00:00,  1.78it/s, loss=0.868, v_num=19, val_loss=0.781, val_acc_epoch=0.619]\u001b[A\n",
      "Validating: 0it [00:00, ?it/s]\u001b[A\n",
      "Epoch 5: 100%|█████████████████████████████| 6/6 [00:03<00:00,  1.75it/s, loss=0.815, v_num=19, val_loss=0.815, val_acc_epoch=0.652]\u001b[A\n",
      "Epoch 6: 100%|█████████████████████████████| 6/6 [00:03<00:00,  1.63it/s, loss=0.815, v_num=19, val_loss=0.815, val_acc_epoch=0.652]\u001b[A\n",
      "Validating: 0it [00:00, ?it/s]\u001b[A\n",
      "Validating:   0%|                                                                                             | 0/1 [00:00<?, ?it/s]\u001b[A"
     ]
    },
    {
     "name": "stderr",
     "output_type": "stream",
     "text": [
      "Metric val_loss improved by 0.012 >= min_delta = 0.0. New best score: 0.769\n"
     ]
    },
    {
     "name": "stdout",
     "output_type": "stream",
     "text": [
      "Epoch 6: 100%|█████████████████████████████| 6/6 [00:03<00:00,  1.60it/s, loss=0.787, v_num=19, val_loss=0.769, val_acc_epoch=0.647]\n",
      "Epoch 7: 100%|█████████████████████████████| 6/6 [00:03<00:00,  1.74it/s, loss=0.787, v_num=19, val_loss=0.769, val_acc_epoch=0.647]\u001b[A\n",
      "Validating: 0it [00:00, ?it/s]\u001b[A\n",
      "Validating:   0%|                                                                                             | 0/1 [00:00<?, ?it/s]\u001b[A"
     ]
    },
    {
     "name": "stderr",
     "output_type": "stream",
     "text": [
      "Metric val_loss improved by 0.012 >= min_delta = 0.0. New best score: 0.757\n"
     ]
    },
    {
     "name": "stdout",
     "output_type": "stream",
     "text": [
      "Epoch 7: 100%|██████████████████████████████| 6/6 [00:03<00:00,  1.72it/s, loss=0.76, v_num=19, val_loss=0.757, val_acc_epoch=0.653]\n",
      "Epoch 8: 100%|██████████████████████████████| 6/6 [00:03<00:00,  1.78it/s, loss=0.76, v_num=19, val_loss=0.757, val_acc_epoch=0.653]\u001b[A\n",
      "Validating: 0it [00:00, ?it/s]\u001b[A\n",
      "Epoch 8: 100%|█████████████████████████████| 6/6 [00:03<00:00,  1.75it/s, loss=0.753, v_num=19, val_loss=0.768, val_acc_epoch=0.656]\u001b[A\n",
      "Epoch 9: 100%|█████████████████████████████| 6/6 [00:04<00:00,  1.46it/s, loss=0.753, v_num=19, val_loss=0.768, val_acc_epoch=0.656]\u001b[A\n",
      "Validating: 0it [00:00, ?it/s]\u001b[A\n",
      "Epoch 9: 100%|█████████████████████████████| 6/6 [00:04<00:00,  1.44it/s, loss=0.756, v_num=19, val_loss=0.762, val_acc_epoch=0.649]\u001b[A\n",
      "Epoch 10: 100%|████████████████████████████| 6/6 [00:03<00:00,  1.64it/s, loss=0.756, v_num=19, val_loss=0.762, val_acc_epoch=0.649]\u001b[A\n",
      "Validating: 0it [00:00, ?it/s]\u001b[A\n",
      "Validating:   0%|                                                                                             | 0/1 [00:00<?, ?it/s]\u001b[A"
     ]
    },
    {
     "name": "stderr",
     "output_type": "stream",
     "text": [
      "Metric val_loss improved by 0.008 >= min_delta = 0.0. New best score: 0.749\n"
     ]
    },
    {
     "name": "stdout",
     "output_type": "stream",
     "text": [
      "Epoch 10: 100%|████████████████████████████| 6/6 [00:03<00:00,  1.62it/s, loss=0.742, v_num=19, val_loss=0.749, val_acc_epoch=0.663]\n",
      "Epoch 11: 100%|████████████████████████████| 6/6 [00:04<00:00,  1.42it/s, loss=0.742, v_num=19, val_loss=0.749, val_acc_epoch=0.663]\u001b[A\n",
      "Validating: 0it [00:00, ?it/s]\u001b[A\n",
      "Validating:   0%|                                                                                             | 0/1 [00:00<?, ?it/s]\u001b[A"
     ]
    },
    {
     "name": "stderr",
     "output_type": "stream",
     "text": [
      "Metric val_loss improved by 0.006 >= min_delta = 0.0. New best score: 0.743\n"
     ]
    },
    {
     "name": "stdout",
     "output_type": "stream",
     "text": [
      "Epoch 11: 100%|████████████████████████████| 6/6 [00:04<00:00,  1.40it/s, loss=0.748, v_num=19, val_loss=0.743, val_acc_epoch=0.668]\n",
      "Epoch 12: 100%|████████████████████████████| 6/6 [00:03<00:00,  1.55it/s, loss=0.748, v_num=19, val_loss=0.743, val_acc_epoch=0.668]\u001b[A\n",
      "Validating: 0it [00:00, ?it/s]\u001b[A\n",
      "Epoch 12: 100%|████████████████████████████| 6/6 [00:03<00:00,  1.53it/s, loss=0.748, v_num=19, val_loss=0.744, val_acc_epoch=0.658]\u001b[A\n",
      "Epoch 13: 100%|████████████████████████████| 6/6 [00:03<00:00,  1.72it/s, loss=0.748, v_num=19, val_loss=0.744, val_acc_epoch=0.658]\u001b[A\n",
      "Validating: 0it [00:00, ?it/s]\u001b[A\n",
      "Validating:   0%|                                                                                             | 0/1 [00:00<?, ?it/s]\u001b[A"
     ]
    },
    {
     "name": "stderr",
     "output_type": "stream",
     "text": [
      "Metric val_loss improved by 0.005 >= min_delta = 0.0. New best score: 0.738\n"
     ]
    },
    {
     "name": "stdout",
     "output_type": "stream",
     "text": [
      "Epoch 13: 100%|████████████████████████████| 6/6 [00:03<00:00,  1.69it/s, loss=0.743, v_num=19, val_loss=0.738, val_acc_epoch=0.668]\n",
      "Epoch 14: 100%|████████████████████████████| 6/6 [00:03<00:00,  1.54it/s, loss=0.743, v_num=19, val_loss=0.738, val_acc_epoch=0.668]\u001b[A\n",
      "Validating: 0it [00:00, ?it/s]\u001b[A\n",
      "Validating:   0%|                                                                                             | 0/1 [00:00<?, ?it/s]\u001b[A"
     ]
    },
    {
     "name": "stderr",
     "output_type": "stream",
     "text": [
      "Metric val_loss improved by 0.003 >= min_delta = 0.0. New best score: 0.735\n"
     ]
    },
    {
     "name": "stdout",
     "output_type": "stream",
     "text": [
      "Epoch 14: 100%|████████████████████████████| 6/6 [00:03<00:00,  1.51it/s, loss=0.744, v_num=19, val_loss=0.735, val_acc_epoch=0.669]\n",
      "Epoch 15: 100%|████████████████████████████| 6/6 [00:03<00:00,  1.50it/s, loss=0.744, v_num=19, val_loss=0.735, val_acc_epoch=0.669]\u001b[A\n",
      "Validating: 0it [00:00, ?it/s]\u001b[A\n",
      "Epoch 15: 100%|████████████████████████████| 6/6 [00:04<00:00,  1.48it/s, loss=0.732, v_num=19, val_loss=0.735, val_acc_epoch=0.672]\u001b[A\n",
      "Epoch 16: 100%|████████████████████████████| 6/6 [00:03<00:00,  1.64it/s, loss=0.732, v_num=19, val_loss=0.735, val_acc_epoch=0.672]\u001b[A\n",
      "Validating: 0it [00:00, ?it/s]\u001b[A\n",
      "Validating:   0%|                                                                                             | 0/1 [00:00<?, ?it/s]\u001b[A"
     ]
    },
    {
     "name": "stderr",
     "output_type": "stream",
     "text": [
      "Metric val_loss improved by 0.004 >= min_delta = 0.0. New best score: 0.731\n"
     ]
    },
    {
     "name": "stdout",
     "output_type": "stream",
     "text": [
      "Epoch 16: 100%|████████████████████████████| 6/6 [00:03<00:00,  1.62it/s, loss=0.728, v_num=19, val_loss=0.731, val_acc_epoch=0.669]\n",
      "Epoch 17: 100%|████████████████████████████| 6/6 [00:03<00:00,  1.67it/s, loss=0.728, v_num=19, val_loss=0.731, val_acc_epoch=0.669]\u001b[A\n",
      "Validating: 0it [00:00, ?it/s]\u001b[A\n",
      "Validating:   0%|                                                                                             | 0/1 [00:00<?, ?it/s]\u001b[A"
     ]
    },
    {
     "name": "stderr",
     "output_type": "stream",
     "text": [
      "Metric val_loss improved by 0.003 >= min_delta = 0.0. New best score: 0.727\n"
     ]
    },
    {
     "name": "stdout",
     "output_type": "stream",
     "text": [
      "Epoch 17: 100%|████████████████████████████| 6/6 [00:03<00:00,  1.64it/s, loss=0.722, v_num=19, val_loss=0.727, val_acc_epoch=0.677]\n",
      "Epoch 18: 100%|████████████████████████████| 6/6 [00:03<00:00,  1.63it/s, loss=0.722, v_num=19, val_loss=0.727, val_acc_epoch=0.677]\u001b[A\n",
      "Validating: 0it [00:00, ?it/s]\u001b[A\n",
      "Validating:   0%|                                                                                             | 0/1 [00:00<?, ?it/s]\u001b[A"
     ]
    },
    {
     "name": "stderr",
     "output_type": "stream",
     "text": [
      "Metric val_loss improved by 0.002 >= min_delta = 0.0. New best score: 0.726\n"
     ]
    },
    {
     "name": "stdout",
     "output_type": "stream",
     "text": [
      "Epoch 18: 100%|████████████████████████████| 6/6 [00:03<00:00,  1.61it/s, loss=0.717, v_num=19, val_loss=0.726, val_acc_epoch=0.675]\n",
      "Epoch 19: 100%|████████████████████████████| 6/6 [00:03<00:00,  1.57it/s, loss=0.717, v_num=19, val_loss=0.726, val_acc_epoch=0.675]\u001b[A\n",
      "Validating: 0it [00:00, ?it/s]\u001b[A\n",
      "Validating:   0%|                                                                                             | 0/1 [00:00<?, ?it/s]\u001b[A"
     ]
    },
    {
     "name": "stderr",
     "output_type": "stream",
     "text": [
      "Metric val_loss improved by 0.001 >= min_delta = 0.0. New best score: 0.724\n"
     ]
    },
    {
     "name": "stdout",
     "output_type": "stream",
     "text": [
      "Epoch 19: 100%|████████████████████████████| 6/6 [00:03<00:00,  1.54it/s, loss=0.717, v_num=19, val_loss=0.724, val_acc_epoch=0.678]\n",
      "Epoch 20: 100%|████████████████████████████| 6/6 [00:03<00:00,  1.64it/s, loss=0.717, v_num=19, val_loss=0.724, val_acc_epoch=0.678]\u001b[A\n",
      "Validating: 0it [00:00, ?it/s]\u001b[A\n",
      "Validating:   0%|                                                                                             | 0/1 [00:00<?, ?it/s]\u001b[A"
     ]
    },
    {
     "name": "stderr",
     "output_type": "stream",
     "text": [
      "Metric val_loss improved by 0.001 >= min_delta = 0.0. New best score: 0.723\n"
     ]
    },
    {
     "name": "stdout",
     "output_type": "stream",
     "text": [
      "Epoch 20: 100%|████████████████████████████| 6/6 [00:03<00:00,  1.61it/s, loss=0.718, v_num=19, val_loss=0.723, val_acc_epoch=0.678]\n",
      "Epoch 21: 100%|████████████████████████████| 6/6 [00:03<00:00,  1.62it/s, loss=0.718, v_num=19, val_loss=0.723, val_acc_epoch=0.678]\u001b[A\n",
      "Validating: 0it [00:00, ?it/s]\u001b[A\n",
      "Epoch 21: 100%|████████████████████████████| 6/6 [00:03<00:00,  1.59it/s, loss=0.721, v_num=19, val_loss=0.726, val_acc_epoch=0.677]\u001b[A\n",
      "Epoch 22: 100%|████████████████████████████| 6/6 [00:04<00:00,  1.50it/s, loss=0.721, v_num=19, val_loss=0.726, val_acc_epoch=0.677]\u001b[A\n",
      "Validating: 0it [00:00, ?it/s]\u001b[A\n",
      "Epoch 22: 100%|████████████████████████████| 6/6 [00:04<00:00,  1.48it/s, loss=0.717, v_num=19, val_loss=0.728, val_acc_epoch=0.680]\u001b[A\n",
      "Epoch 23: 100%|████████████████████████████| 6/6 [00:03<00:00,  1.63it/s, loss=0.717, v_num=19, val_loss=0.728, val_acc_epoch=0.680]\u001b[A\n",
      "Validating: 0it [00:00, ?it/s]\u001b[A\n",
      "Epoch 23: 100%|████████████████████████████| 6/6 [00:03<00:00,  1.60it/s, loss=0.726, v_num=19, val_loss=0.727, val_acc_epoch=0.670]\u001b[A\n",
      "Epoch 24: 100%|████████████████████████████| 6/6 [00:03<00:00,  1.65it/s, loss=0.726, v_num=19, val_loss=0.727, val_acc_epoch=0.670]\u001b[A\n",
      "Validating: 0it [00:00, ?it/s]\u001b[A\n",
      "Epoch 24: 100%|████████████████████████████| 6/6 [00:03<00:00,  1.62it/s, loss=0.727, v_num=19, val_loss=0.726, val_acc_epoch=0.683]\u001b[A\n",
      "Epoch 25: 100%|████████████████████████████| 6/6 [00:03<00:00,  1.70it/s, loss=0.727, v_num=19, val_loss=0.726, val_acc_epoch=0.683]\u001b[A\n",
      "Validating: 0it [00:00, ?it/s]\u001b[A\n",
      "Validating:   0%|                                                                                             | 0/1 [00:00<?, ?it/s]\u001b[A"
     ]
    },
    {
     "name": "stderr",
     "output_type": "stream",
     "text": [
      "Metric val_loss improved by 0.007 >= min_delta = 0.0. New best score: 0.717\n"
     ]
    },
    {
     "name": "stdout",
     "output_type": "stream",
     "text": [
      "Epoch 25: 100%|████████████████████████████| 6/6 [00:03<00:00,  1.68it/s, loss=0.721, v_num=19, val_loss=0.717, val_acc_epoch=0.684]\n",
      "Epoch 26: 100%|████████████████████████████| 6/6 [00:03<00:00,  1.68it/s, loss=0.721, v_num=19, val_loss=0.717, val_acc_epoch=0.684]\u001b[A\n",
      "Validating: 0it [00:00, ?it/s]\u001b[A\n",
      "Validating:   0%|                                                                                             | 0/1 [00:00<?, ?it/s]\u001b[A"
     ]
    },
    {
     "name": "stderr",
     "output_type": "stream",
     "text": [
      "Metric val_loss improved by 0.002 >= min_delta = 0.0. New best score: 0.715\n"
     ]
    },
    {
     "name": "stdout",
     "output_type": "stream",
     "text": [
      "Epoch 26: 100%|█████████████████████████████| 6/6 [00:03<00:00,  1.65it/s, loss=0.72, v_num=19, val_loss=0.715, val_acc_epoch=0.684]\n",
      "Epoch 27: 100%|█████████████████████████████| 6/6 [00:03<00:00,  1.65it/s, loss=0.72, v_num=19, val_loss=0.715, val_acc_epoch=0.684]\u001b[A\n",
      "Validating: 0it [00:00, ?it/s]\u001b[A\n",
      "Validating:   0%|                                                                                             | 0/1 [00:00<?, ?it/s]\u001b[A"
     ]
    },
    {
     "name": "stderr",
     "output_type": "stream",
     "text": [
      "Metric val_loss improved by 0.001 >= min_delta = 0.0. New best score: 0.714\n"
     ]
    },
    {
     "name": "stdout",
     "output_type": "stream",
     "text": [
      "Epoch 27: 100%|████████████████████████████| 6/6 [00:03<00:00,  1.63it/s, loss=0.706, v_num=19, val_loss=0.714, val_acc_epoch=0.687]\n",
      "Epoch 28: 100%|████████████████████████████| 6/6 [00:03<00:00,  1.60it/s, loss=0.706, v_num=19, val_loss=0.714, val_acc_epoch=0.687]\u001b[A\n",
      "Validating: 0it [00:00, ?it/s]\u001b[A\n",
      "Epoch 28: 100%|████████████████████████████| 6/6 [00:03<00:00,  1.57it/s, loss=0.701, v_num=19, val_loss=0.721, val_acc_epoch=0.675]\u001b[A\n",
      "Epoch 29: 100%|████████████████████████████| 6/6 [00:03<00:00,  1.65it/s, loss=0.701, v_num=19, val_loss=0.721, val_acc_epoch=0.675]\u001b[A\n",
      "Validating: 0it [00:00, ?it/s]\u001b[A\n",
      "Epoch 29: 100%|████████████████████████████| 6/6 [00:03<00:00,  1.62it/s, loss=0.694, v_num=19, val_loss=0.715, val_acc_epoch=0.689]\u001b[A\n",
      "Epoch 30: 100%|████████████████████████████| 6/6 [00:03<00:00,  1.63it/s, loss=0.694, v_num=19, val_loss=0.715, val_acc_epoch=0.689]\u001b[A\n",
      "Validating: 0it [00:00, ?it/s]\u001b[A\n",
      "Epoch 30: 100%|████████████████████████████| 6/6 [00:03<00:00,  1.60it/s, loss=0.699, v_num=19, val_loss=0.732, val_acc_epoch=0.673]\u001b[A\n",
      "Epoch 31: 100%|████████████████████████████| 6/6 [00:03<00:00,  1.66it/s, loss=0.699, v_num=19, val_loss=0.732, val_acc_epoch=0.673]\u001b[A\n",
      "Validating: 0it [00:00, ?it/s]\u001b[A\n",
      "Epoch 31: 100%|████████████████████████████| 6/6 [00:03<00:00,  1.64it/s, loss=0.698, v_num=19, val_loss=0.728, val_acc_epoch=0.682]\u001b[A\n",
      "Epoch 32: 100%|████████████████████████████| 6/6 [00:03<00:00,  1.63it/s, loss=0.698, v_num=19, val_loss=0.728, val_acc_epoch=0.682]\u001b[A\n",
      "Validating: 0it [00:00, ?it/s]\u001b[A\n",
      "Validating:   0%|                                                                                             | 0/1 [00:00<?, ?it/s]\u001b[A"
     ]
    },
    {
     "name": "stderr",
     "output_type": "stream",
     "text": [
      "Monitored metric val_loss did not improve in the last 5 records. Best score: 0.714. Signaling Trainer to stop.\n"
     ]
    },
    {
     "name": "stdout",
     "output_type": "stream",
     "text": [
      "Epoch 32: 100%|████████████████████████████| 6/6 [00:03<00:00,  1.61it/s, loss=0.705, v_num=19, val_loss=0.732, val_acc_epoch=0.666]\n",
      "Epoch 32: 100%|████████████████████████████| 6/6 [00:03<00:00,  1.60it/s, loss=0.705, v_num=19, val_loss=0.732, val_acc_epoch=0.666]\u001b[A\n",
      "Testing: 100%|████████████████████████████████████████████████████████████████████████████████████████| 1/1 [00:00<00:00, 16.93it/s]\n",
      "--------------------------------------------------------------------------------\n",
      "DATALOADER:0 TEST RESULTS\n",
      "{'test_acc': 0.707793116569519,\n",
      " 'test_acc_epoch': 0.707793116569519,\n",
      " 'test_loss': 0.667972207069397}\n",
      "--------------------------------------------------------------------------------\n"
     ]
    },
    {
     "data": {
      "text/plain": [
       "[{'test_loss': 0.667972207069397,\n",
       "  'test_acc': 0.707793116569519,\n",
       "  'test_acc_epoch': 0.707793116569519}]"
      ]
     },
     "execution_count": 17,
     "metadata": {},
     "output_type": "execute_result"
    }
   ],
   "source": [
    "import torch\n",
    "from torch import nn\n",
    "from pytorch_lightning import Trainer\n",
    "from pytorch_lightning.callbacks import EarlyStopping\n",
    "\n",
    "class SuperSimpleModel(TemplateModel):\n",
    "    def __init__(self, char_set_size, char_embedding_dim=32, classes_count=3, char_max_seq_len=50):\n",
    "        super().__init__()\n",
    "        \n",
    "        self.embeddings_layer = nn.Embedding(char_set_size, char_embedding_dim) # а -> [0.1, ... 0.3]\n",
    "        self.out_layer = nn.Linear(char_max_seq_len * char_embedding_dim, classes_count)\n",
    "\n",
    "    def forward(self, inputs, labels):\n",
    "        projections = self.embeddings_layer.forward(inputs)\n",
    "        projections = projections.reshape(projections.size(0), projections.size(1), -1) # <-\n",
    "        logits = self.out_layer.forward(projections)\n",
    "        logits = logits.transpose(1, 2)\n",
    "        loss = self.loss(logits, labels)\n",
    "        return loss, logits\n",
    "\n",
    "\n",
    "super_simple_model = SuperSimpleModel(len(char_set))\n",
    "early_stop_callback = EarlyStopping(\n",
    "    monitor=\"val_loss\",\n",
    "    min_delta=0.0,\n",
    "    patience=5,\n",
    "    verbose=True,\n",
    "    mode=\"min\" \n",
    ")\n",
    "trainer = Trainer(\n",
    "    gpus=0,\n",
    "    checkpoint_callback=False,\n",
    "    accumulate_grad_batches=1,\n",
    "    max_epochs=150,\n",
    "    progress_bar_refresh_rate=10,\n",
    "    callbacks=[early_stop_callback])\n",
    "trainer.fit(super_simple_model, train_loader, val_loader)\n",
    "trainer.test(super_simple_model, test_loader)"
   ]
  },
  {
   "cell_type": "markdown",
   "id": "68e610e3",
   "metadata": {},
   "source": [
    "## Метрики\n",
    "\n",
    "Можно использовать как классические мультиклассификационнные метрики, так и метрики специально для NER.\n",
    "\n",
    "Например, число точных и частичных совпадений спанов, пропущенных и лишних спанов."
   ]
  },
  {
   "cell_type": "code",
   "execution_count": 22,
   "id": "50a495e4",
   "metadata": {},
   "outputs": [],
   "source": [
    "def get_spans(labels, tokens):\n",
    "    spans = []\n",
    "    for i, (label, token) in enumerate(zip(labels, tokens)):\n",
    "        if label == 1:\n",
    "            spans.append((token.start, token.stop, \"INST\"))\n",
    "        elif label == 2:\n",
    "            assert len(spans) != 0, \"Incorrect label sequence: {}\".format(labels)\n",
    "            old_begin, _, old_tag = spans[-1]\n",
    "            spans[-1] = (old_begin, token.stop, old_tag)\n",
    "    return spans\n",
    "\n",
    "\n",
    "def compare_span_sets(left_spans, right_spans):\n",
    "    exact, partial, missing = 0, 0, 0\n",
    "    for left_span in left_spans:\n",
    "        is_missing = True\n",
    "        for right_span in right_spans:\n",
    "            if left_span == right_span:\n",
    "                exact += 1\n",
    "                is_missing = False\n",
    "                break\n",
    "            ls, le, _ = left_span\n",
    "            rs, re, _ = right_span\n",
    "            # [ls le] [rs re]\n",
    "            # [rs re] [ls le]\n",
    "            if not (ls <= le <= rs <= re or rs <= re <= ls <= le):\n",
    "                is_missing = False\n",
    "                partial += 1\n",
    "                break            \n",
    "        if is_missing:\n",
    "            missing += 1\n",
    "    return exact, partial, missing\n",
    "\n",
    "\n",
    "def calc_metrics(true_labels, predicted_labels, tokens):\n",
    "    # Метрики классификации\n",
    "    one_tp, one_fp, one_fn = 0, 0, 0\n",
    "    for true, predicted in zip(true_labels, predicted_labels):\n",
    "        for l1, l2 in zip(true, predicted):\n",
    "            if l1 == 1 and l2 == 1:\n",
    "                one_tp += 1\n",
    "            elif l1 != 1 and l2 == 1:\n",
    "                one_fp += 1\n",
    "            elif l1 == 1 and l2 !=1:\n",
    "                one_fn += 1\n",
    "    if one_tp + one_fp == 0:\n",
    "        print(\"No positives!\")\n",
    "    else:\n",
    "        print(\"1 Precision: {}, 1 Recall: {}\".format(float(one_tp)/(one_tp + one_fp), float(one_tp)/(one_tp + one_fn)))\n",
    "\n",
    "    # Специализированные метрики\n",
    "    e, p, m, s = 0, 0, 0, 0\n",
    "    for (true, predicted), sample_tokens in zip(zip(true_labels, predicted_labels), tokens):\n",
    "        true_spans = get_spans(true, sample_tokens)\n",
    "        predicted_spans = get_spans(predicted, sample_tokens)\n",
    "        exact, partial, missing = compare_span_sets(true_spans, predicted_spans)\n",
    "        _, _, spurius = compare_span_sets(predicted_spans, true_spans)\n",
    "        e += exact\n",
    "        p += partial\n",
    "        m += missing\n",
    "        s += spurius\n",
    "    print(\"Exact: {}, partial: {}, missing: {}, spurius: {}\".format(e, p, m, s))\n",
    "            \n",
    "\n",
    "\n",
    "def predict(model, test_loader, show_sample_index=2):\n",
    "    model.eval()\n",
    "    all_true_labels, all_predicted_labels, all_tokens, all_texts = [], [], [], []\n",
    "    for batch_index, batch in enumerate(test_loader):\n",
    "        inputs, true_labels = batch\n",
    "        batch_size = inputs.size(0)\n",
    "        _, logits = model(inputs.to(\"cpu\"), true_labels.to(\"cpu\"))\n",
    "        predicted_labels = logits.max(dim=1)[1].detach().cpu()\n",
    "\n",
    "        # Убираем неконсистентность BIO\n",
    "        for sample_num, sample in enumerate(predicted_labels):\n",
    "            for token_num, label in enumerate(sample):\n",
    "                if token_num == 0 and label == 2:\n",
    "                    predicted_labels[sample_num][0] = 1\n",
    "                    continue\n",
    "                prev_label = sample[token_num - 1]\n",
    "                if label == 2 and prev_label == 0:\n",
    "                    predicted_labels[sample_num][token_num] = 1\n",
    "\n",
    "        all_true_labels.extend(true_labels)\n",
    "        all_predicted_labels.extend(predicted_labels)\n",
    "        for i in range(batch_size):\n",
    "            all_tokens.append(test_data.get_tokens(batch_index * batch_size + i))\n",
    "            all_texts.append(test_data.get_text(batch_index * batch_size + i))\n",
    "\n",
    "    calc_metrics(all_true_labels, all_predicted_labels, all_tokens)\n",
    "    print(\"PREDICTED:\")\n",
    "    show_box_markup(all_texts[show_sample_index],\n",
    "                    get_spans(all_predicted_labels[show_sample_index], all_tokens[show_sample_index]),\n",
    "                    palette=palette(PER=BLUE, ORG=RED, LOC=GREEN))"
   ]
  },
  {
   "cell_type": "code",
   "execution_count": 19,
   "id": "eab7a0e1",
   "metadata": {},
   "outputs": [
    {
     "name": "stdout",
     "output_type": "stream",
     "text": [
      "1 Precision: 0.3917841814837523, 1 Recall: 0.6240234375\n",
      "Exact: 745, partial: 1021, missing: 282, spurius: 1016\n",
      "PREDICTED:\n"
     ]
    },
    {
     "data": {
      "text/html": [
       "<div class=\"tex2jax_ignore\" style=\"white-space: pre-wrap\">Приложение \n",
       "к постановлению <span style=\"padding: 2px; border-radius: 4px; border: 1px solid #bbdefb; background: #e3f2fd\">администрации<span style=\"vertical-align: middle; margin-left: 2px; font-size: 0.7em; color: #64b5f6;\">INST</span></span> \n",
       "МО « Судогодский район » \n",
       "от 01.06.2018 г . \n",
       "№ 841 \n",
       "Муниципальная программа \n",
       "« Благоустройство города Судогда на 2016-2020 год » \n",
       "ПАСПОРТ \n",
       "1. \n",
       "Характеристика <span style=\"padding: 2px; border-radius: 4px; border: 1px solid #bbdefb; background: #e3f2fd\">проблемы<span style=\"vertical-align: middle; margin-left: 2px; font-size: 0.7em; color: #64b5f6;\">INST</span></span> и <span style=\"padding: 2px; border-radius: 4px; border: 1px solid #bbdefb; background: #e3f2fd\">обоснование<span style=\"vertical-align: middle; margin-left: 2px; font-size: 0.7em; color: #64b5f6;\">INST</span></span> \n",
       "<span style=\"padding: 2px; border-radius: 4px; border: 1px solid #bbdefb; background: #e3f2fd\">необходимости<span style=\"vertical-align: middle; margin-left: 2px; font-size: 0.7em; color: #64b5f6;\">INST</span></span> ее решения программными <span style=\"padding: 2px; border-radius: 4px; border: 1px solid #bbdefb; background: #e3f2fd\">методами<span style=\"vertical-align: middle; margin-left: 2px; font-size: 0.7em; color: #64b5f6;\">INST</span></span> \n",
       "Одним из главных <span style=\"padding: 2px; border-radius: 4px; border: 1px solid #bbdefb; background: #e3f2fd\">направлений<span style=\"vertical-align: middle; margin-left: 2px; font-size: 0.7em; color: #64b5f6;\">INST</span></span> в <span style=\"padding: 2px; border-radius: 4px; border: 1px solid #bbdefb; background: #e3f2fd\">области<span style=\"vertical-align: middle; margin-left: 2px; font-size: 0.7em; color: #64b5f6;\">INST</span></span> <span style=\"padding: 2px; border-radius: 4px; border: 1px solid #bbdefb; background: #e3f2fd\">обеспечения социально<span style=\"vertical-align: middle; margin-left: 2px; font-size: 0.7em; color: #64b5f6;\">INST</span></span> - экономического <span style=\"padding: 2px; border-radius: 4px; border: 1px solid #bbdefb; background: #e3f2fd\">развития<span style=\"vertical-align: middle; margin-left: 2px; font-size: 0.7em; color: #64b5f6;\">INST</span></span> страны , определенным <span style=\"padding: 2px; border-radius: 4px; border: 1px solid #bbdefb; background: #e3f2fd\">Правительством<span style=\"vertical-align: middle; margin-left: 2px; font-size: 0.7em; color: #64b5f6;\">INST</span></span> Российской Федерации , является - <span style=\"padding: 2px; border-radius: 4px; border: 1px solid #bbdefb; background: #e3f2fd\">улучшение<span style=\"vertical-align: middle; margin-left: 2px; font-size: 0.7em; color: #64b5f6;\">INST</span></span> <span style=\"padding: 2px; border-radius: 4px; border: 1px solid #bbdefb; background: #e3f2fd\">уровня<span style=\"vertical-align: middle; margin-left: 2px; font-size: 0.7em; color: #64b5f6;\">INST</span></span> и <span style=\"padding: 2px; border-radius: 4px; border: 1px solid #bbdefb; background: #e3f2fd\">качества жизни<span style=\"vertical-align: middle; margin-left: 2px; font-size: 0.7em; color: #64b5f6;\">INST</span></span> населения . \n",
       "Важнейшим аспектом в <span style=\"padding: 2px; border-radius: 4px; border: 1px solid #bbdefb; background: #e3f2fd\">реализации данного проекта<span style=\"vertical-align: middle; margin-left: 2px; font-size: 0.7em; color: #64b5f6;\">INST</span></span> является <span style=\"padding: 2px; border-radius: 4px; border: 1px solid #bbdefb; background: #e3f2fd\">создание органами местного самоуправления<span style=\"vertical-align: middle; margin-left: 2px; font-size: 0.7em; color: #64b5f6;\">INST</span></span> условий <span style=\"padding: 2px; border-radius: 4px; border: 1px solid #bbdefb; background: #e3f2fd\">комфортного<span style=\"vertical-align: middle; margin-left: 2px; font-size: 0.7em; color: #64b5f6;\">INST</span></span> и <span style=\"padding: 2px; border-radius: 4px; border: 1px solid #bbdefb; background: #e3f2fd\">безопасного проживания граждан<span style=\"vertical-align: middle; margin-left: 2px; font-size: 0.7em; color: #64b5f6;\">INST</span></span> , <span style=\"padding: 2px; border-radius: 4px; border: 1px solid #bbdefb; background: #e3f2fd\">формирование<span style=\"vertical-align: middle; margin-left: 2px; font-size: 0.7em; color: #64b5f6;\">INST</span></span> <span style=\"padding: 2px; border-radius: 4px; border: 1px solid #bbdefb; background: #e3f2fd\">современной<span style=\"vertical-align: middle; margin-left: 2px; font-size: 0.7em; color: #64b5f6;\">INST</span></span> городской <span style=\"padding: 2px; border-radius: 4px; border: 1px solid #bbdefb; background: #e3f2fd\">инфраструктуры<span style=\"vertical-align: middle; margin-left: 2px; font-size: 0.7em; color: #64b5f6;\">INST</span></span> и <span style=\"padding: 2px; border-radius: 4px; border: 1px solid #bbdefb; background: #e3f2fd\">благоустройство<span style=\"vertical-align: middle; margin-left: 2px; font-size: 0.7em; color: #64b5f6;\">INST</span></span> мест <span style=\"padding: 2px; border-radius: 4px; border: 1px solid #bbdefb; background: #e3f2fd\">общего пользования территории<span style=\"vertical-align: middle; margin-left: 2px; font-size: 0.7em; color: #64b5f6;\">INST</span></span> города . \n",
       "Благоустройство и <span style=\"padding: 2px; border-radius: 4px; border: 1px solid #bbdefb; background: #e3f2fd\">озеленение территории<span style=\"vertical-align: middle; margin-left: 2px; font-size: 0.7em; color: #64b5f6;\">INST</span></span> <span style=\"padding: 2px; border-radius: 4px; border: 1px solid #bbdefb; background: #e3f2fd\">приобретает<span style=\"vertical-align: middle; margin-left: 2px; font-size: 0.7em; color: #64b5f6;\">INST</span></span> особое <span style=\"padding: 2px; border-radius: 4px; border: 1px solid #bbdefb; background: #e3f2fd\">значение<span style=\"vertical-align: middle; margin-left: 2px; font-size: 0.7em; color: #64b5f6;\">INST</span></span> в <span style=\"padding: 2px; border-radius: 4px; border: 1px solid #bbdefb; background: #e3f2fd\">условиях<span style=\"vertical-align: middle; margin-left: 2px; font-size: 0.7em; color: #64b5f6;\">INST</span></span> <span style=\"padding: 2px; border-radius: 4px; border: 1px solid #bbdefb; background: #e3f2fd\">повышенных антропогенных нагрузок<span style=\"vertical-align: middle; margin-left: 2px; font-size: 0.7em; color: #64b5f6;\">INST</span></span> , <span style=\"padding: 2px; border-radius: 4px; border: 1px solid #bbdefb; background: #e3f2fd\">дискомфорта<span style=\"vertical-align: middle; margin-left: 2px; font-size: 0.7em; color: #64b5f6;\">INST</span></span> городской среды <span style=\"padding: 2px; border-radius: 4px; border: 1px solid #bbdefb; background: #e3f2fd\">из-за загрязнения воздушной<span style=\"vertical-align: middle; margin-left: 2px; font-size: 0.7em; color: #64b5f6;\">INST</span></span> среды выбросами <span style=\"padding: 2px; border-radius: 4px; border: 1px solid #bbdefb; background: #e3f2fd\">автотранспорта<span style=\"vertical-align: middle; margin-left: 2px; font-size: 0.7em; color: #64b5f6;\">INST</span></span> и <span style=\"padding: 2px; border-radius: 4px; border: 1px solid #bbdefb; background: #e3f2fd\">промышленных<span style=\"vertical-align: middle; margin-left: 2px; font-size: 0.7em; color: #64b5f6;\">INST</span></span> <span style=\"padding: 2px; border-radius: 4px; border: 1px solid #bbdefb; background: #e3f2fd\">предприятий<span style=\"vertical-align: middle; margin-left: 2px; font-size: 0.7em; color: #64b5f6;\">INST</span></span> . \n",
       "При <span style=\"padding: 2px; border-radius: 4px; border: 1px solid #bbdefb; background: #e3f2fd\">выполнении<span style=\"vertical-align: middle; margin-left: 2px; font-size: 0.7em; color: #64b5f6;\">INST</span></span> комплекса <span style=\"padding: 2px; border-radius: 4px; border: 1px solid #bbdefb; background: #e3f2fd\">мероприятий<span style=\"vertical-align: middle; margin-left: 2px; font-size: 0.7em; color: #64b5f6;\">INST</span></span> , <span style=\"padding: 2px; border-radius: 4px; border: 1px solid #bbdefb; background: #e3f2fd\">направленных<span style=\"vertical-align: middle; margin-left: 2px; font-size: 0.7em; color: #64b5f6;\">INST</span></span> на <span style=\"padding: 2px; border-radius: 4px; border: 1px solid #bbdefb; background: #e3f2fd\">благоустройство<span style=\"vertical-align: middle; margin-left: 2px; font-size: 0.7em; color: #64b5f6;\">INST</span></span> и <span style=\"padding: 2px; border-radius: 4px; border: 1px solid #bbdefb; background: #e3f2fd\">озеленение<span style=\"vertical-align: middle; margin-left: 2px; font-size: 0.7em; color: #64b5f6;\">INST</span></span> можно <span style=\"padding: 2px; border-radius: 4px; border: 1px solid #bbdefb; background: #e3f2fd\">значительно<span style=\"vertical-align: middle; margin-left: 2px; font-size: 0.7em; color: #64b5f6;\">INST</span></span> <span style=\"padding: 2px; border-radius: 4px; border: 1px solid #bbdefb; background: #e3f2fd\">улучшить<span style=\"vertical-align: middle; margin-left: 2px; font-size: 0.7em; color: #64b5f6;\">INST</span></span> <span style=\"padding: 2px; border-radius: 4px; border: 1px solid #bbdefb; background: #e3f2fd\">экологическое состояние<span style=\"vertical-align: middle; margin-left: 2px; font-size: 0.7em; color: #64b5f6;\">INST</span></span> и внешний <span style=\"padding: 2px; border-radius: 4px; border: 1px solid #bbdefb; background: #e3f2fd\">облик<span style=\"vertical-align: middle; margin-left: 2px; font-size: 0.7em; color: #64b5f6;\">INST</span></span> городского <span style=\"padding: 2px; border-radius: 4px; border: 1px solid #bbdefb; background: #e3f2fd\">поселения<span style=\"vertical-align: middle; margin-left: 2px; font-size: 0.7em; color: #64b5f6;\">INST</span></span> <span style=\"padding: 2px; border-radius: 4px; border: 1px solid #bbdefb; background: #e3f2fd\">создать более<span style=\"vertical-align: middle; margin-left: 2px; font-size: 0.7em; color: #64b5f6;\">INST</span></span> <span style=\"padding: 2px; border-radius: 4px; border: 1px solid #bbdefb; background: #e3f2fd\">комфортные микро<span style=\"vertical-align: middle; margin-left: 2px; font-size: 0.7em; color: #64b5f6;\">INST</span></span>  климатические , <span style=\"padding: 2px; border-radius: 4px; border: 1px solid #bbdefb; background: #e3f2fd\">санитарно<span style=\"vertical-align: middle; margin-left: 2px; font-size: 0.7em; color: #64b5f6;\">INST</span></span> - <span style=\"padding: 2px; border-radius: 4px; border: 1px solid #bbdefb; background: #e3f2fd\">гигиенические<span style=\"vertical-align: middle; margin-left: 2px; font-size: 0.7em; color: #64b5f6;\">INST</span></span> и <span style=\"padding: 2px; border-radius: 4px; border: 1px solid #bbdefb; background: #e3f2fd\">эстетические<span style=\"vertical-align: middle; margin-left: 2px; font-size: 0.7em; color: #64b5f6;\">INST</span></span> условия на <span style=\"padding: 2px; border-radius: 4px; border: 1px solid #bbdefb; background: #e3f2fd\">улицах<span style=\"vertical-align: middle; margin-left: 2px; font-size: 0.7em; color: #64b5f6;\">INST</span></span> , в <span style=\"padding: 2px; border-radius: 4px; border: 1px solid #bbdefb; background: #e3f2fd\">жилых кварталах<span style=\"vertical-align: middle; margin-left: 2px; font-size: 0.7em; color: #64b5f6;\">INST</span></span> , <span style=\"padding: 2px; border-radius: 4px; border: 1px solid #bbdefb; background: #e3f2fd\">общественных местах<span style=\"vertical-align: middle; margin-left: 2px; font-size: 0.7em; color: #64b5f6;\">INST</span></span> ( парках , скверах и т.д. ) . \n",
       "В <span style=\"padding: 2px; border-radius: 4px; border: 1px solid #bbdefb; background: #e3f2fd\">области<span style=\"vertical-align: middle; margin-left: 2px; font-size: 0.7em; color: #64b5f6;\">INST</span></span> текущего <span style=\"padding: 2px; border-radius: 4px; border: 1px solid #bbdefb; background: #e3f2fd\">содержания территории<span style=\"vertical-align: middle; margin-left: 2px; font-size: 0.7em; color: #64b5f6;\">INST</span></span> городского <span style=\"padding: 2px; border-radius: 4px; border: 1px solid #bbdefb; background: #e3f2fd\">поселения<span style=\"vertical-align: middle; margin-left: 2px; font-size: 0.7em; color: #64b5f6;\">INST</span></span> можно <span style=\"padding: 2px; border-radius: 4px; border: 1px solid #bbdefb; background: #e3f2fd\">выделить<span style=\"vertical-align: middle; margin-left: 2px; font-size: 0.7em; color: #64b5f6;\">INST</span></span> следующие <span style=\"padding: 2px; border-radius: 4px; border: 1px solid #bbdefb; background: #e3f2fd\">проблемы<span style=\"vertical-align: middle; margin-left: 2px; font-size: 0.7em; color: #64b5f6;\">INST</span></span> : \n",
       "Уличное <span style=\"padding: 2px; border-radius: 4px; border: 1px solid #bbdefb; background: #e3f2fd\">освещение<span style=\"vertical-align: middle; margin-left: 2px; font-size: 0.7em; color: #64b5f6;\">INST</span></span> \n",
       "В период 2016 г <span style=\"padding: 2px; border-radius: 4px; border: 1px solid #bbdefb; background: #e3f2fd\">администрацией<span style=\"vertical-align: middle; margin-left: 2px; font-size: 0.7em; color: #64b5f6;\">INST</span></span> города Судогда <span style=\"padding: 2px; border-radius: 4px; border: 1px solid #bbdefb; background: #e3f2fd\">были<span style=\"vertical-align: middle; margin-left: 2px; font-size: 0.7em; color: #64b5f6;\">INST</span></span> организованы <span style=\"padding: 2px; border-radius: 4px; border: 1px solid #bbdefb; background: #e3f2fd\">мероприятия<span style=\"vertical-align: middle; margin-left: 2px; font-size: 0.7em; color: #64b5f6;\">INST</span></span> по замене старых <span style=\"padding: 2px; border-radius: 4px; border: 1px solid #bbdefb; background: #e3f2fd\">уличных<span style=\"vertical-align: middle; margin-left: 2px; font-size: 0.7em; color: #64b5f6;\">INST</span></span> <span style=\"padding: 2px; border-radius: 4px; border: 1px solid #bbdefb; background: #e3f2fd\">светильников<span style=\"vertical-align: middle; margin-left: 2px; font-size: 0.7em; color: #64b5f6;\">INST</span></span> , на центральных <span style=\"padding: 2px; border-radius: 4px; border: 1px solid #bbdefb; background: #e3f2fd\">улицах<span style=\"vertical-align: middle; margin-left: 2px; font-size: 0.7em; color: #64b5f6;\">INST</span></span> города , на <span style=\"padding: 2px; border-radius: 4px; border: 1px solid #bbdefb; background: #e3f2fd\">современные<span style=\"vertical-align: middle; margin-left: 2px; font-size: 0.7em; color: #64b5f6;\">INST</span></span> , светодиодные . \n",
       "В ходе <span style=\"padding: 2px; border-radius: 4px; border: 1px solid #bbdefb; background: #e3f2fd\">проведения данных мероприятий<span style=\"vertical-align: middle; margin-left: 2px; font-size: 0.7em; color: #64b5f6;\">INST</span></span> была <span style=\"padding: 2px; border-radius: 4px; border: 1px solid #bbdefb; background: #e3f2fd\">осуществлена<span style=\"vertical-align: middle; margin-left: 2px; font-size: 0.7em; color: #64b5f6;\">INST</span></span> замена 10 <span style=\"padding: 2px; border-radius: 4px; border: 1px solid #bbdefb; background: #e3f2fd\">светильников<span style=\"vertical-align: middle; margin-left: 2px; font-size: 0.7em; color: #64b5f6;\">INST</span></span> . \n",
       "Однако полностью <span style=\"padding: 2px; border-radius: 4px; border: 1px solid #bbdefb; background: #e3f2fd\">решить проблему уличного<span style=\"vertical-align: middle; margin-left: 2px; font-size: 0.7em; color: #64b5f6;\">INST</span></span> <span style=\"padding: 2px; border-radius: 4px; border: 1px solid #bbdefb; background: #e3f2fd\">освещения<span style=\"vertical-align: middle; margin-left: 2px; font-size: 0.7em; color: #64b5f6;\">INST</span></span> городского <span style=\"padding: 2px; border-radius: 4px; border: 1px solid #bbdefb; background: #e3f2fd\">поселения<span style=\"vertical-align: middle; margin-left: 2px; font-size: 0.7em; color: #64b5f6;\">INST</span></span> на <span style=\"padding: 2px; border-radius: 4px; border: 1px solid #bbdefb; background: #e3f2fd\">сегодняшний<span style=\"vertical-align: middle; margin-left: 2px; font-size: 0.7em; color: #64b5f6;\">INST</span></span> день пока не <span style=\"padding: 2px; border-radius: 4px; border: 1px solid #bbdefb; background: #e3f2fd\">удалось<span style=\"vertical-align: middle; margin-left: 2px; font-size: 0.7em; color: #64b5f6;\">INST</span></span> и <span style=\"padding: 2px; border-radius: 4px; border: 1px solid #bbdefb; background: #e3f2fd\">проблемы<span style=\"vertical-align: middle; margin-left: 2px; font-size: 0.7em; color: #64b5f6;\">INST</span></span> еще <span style=\"padding: 2px; border-radius: 4px; border: 1px solid #bbdefb; background: #e3f2fd\">существуют<span style=\"vertical-align: middle; margin-left: 2px; font-size: 0.7em; color: #64b5f6;\">INST</span></span> . \n",
       "Основными <span style=\"padding: 2px; border-radius: 4px; border: 1px solid #bbdefb; background: #e3f2fd\">проблемами данного направления<span style=\"vertical-align: middle; margin-left: 2px; font-size: 0.7em; color: #64b5f6;\">INST</span></span> <span style=\"padding: 2px; border-radius: 4px; border: 1px solid #bbdefb; background: #e3f2fd\">благоустройства<span style=\"vertical-align: middle; margin-left: 2px; font-size: 0.7em; color: #64b5f6;\">INST</span></span> являются : \n",
       "- <span style=\"padding: 2px; border-radius: 4px; border: 1px solid #bbdefb; background: #e3f2fd\">недостаточное<span style=\"vertical-align: middle; margin-left: 2px; font-size: 0.7em; color: #64b5f6;\">INST</span></span> количество <span style=\"padding: 2px; border-radius: 4px; border: 1px solid #bbdefb; background: #e3f2fd\">уличных<span style=\"vertical-align: middle; margin-left: 2px; font-size: 0.7em; color: #64b5f6;\">INST</span></span> <span style=\"padding: 2px; border-radius: 4px; border: 1px solid #bbdefb; background: #e3f2fd\">светильников<span style=\"vertical-align: middle; margin-left: 2px; font-size: 0.7em; color: #64b5f6;\">INST</span></span> на <span style=\"padding: 2px; border-radius: 4px; border: 1px solid #bbdefb; background: #e3f2fd\">второстепенных улицах<span style=\"vertical-align: middle; margin-left: 2px; font-size: 0.7em; color: #64b5f6;\">INST</span></span> городского <span style=\"padding: 2px; border-radius: 4px; border: 1px solid #bbdefb; background: #e3f2fd\">поселения<span style=\"vertical-align: middle; margin-left: 2px; font-size: 0.7em; color: #64b5f6;\">INST</span></span> ; \n",
       "- <span style=\"padding: 2px; border-radius: 4px; border: 1px solid #bbdefb; background: #e3f2fd\">естественное<span style=\"vertical-align: middle; margin-left: 2px; font-size: 0.7em; color: #64b5f6;\">INST</span></span> <span style=\"padding: 2px; border-radius: 4px; border: 1px solid #bbdefb; background: #e3f2fd\">старение сетей<span style=\"vertical-align: middle; margin-left: 2px; font-size: 0.7em; color: #64b5f6;\">INST</span></span> и <span style=\"padding: 2px; border-radius: 4px; border: 1px solid #bbdefb; background: #e3f2fd\">оборудования систем уличного<span style=\"vertical-align: middle; margin-left: 2px; font-size: 0.7em; color: #64b5f6;\">INST</span></span> <span style=\"padding: 2px; border-radius: 4px; border: 1px solid #bbdefb; background: #e3f2fd\">освещения<span style=\"vertical-align: middle; margin-left: 2px; font-size: 0.7em; color: #64b5f6;\">INST</span></span> городского <span style=\"padding: 2px; border-radius: 4px; border: 1px solid #bbdefb; background: #e3f2fd\">поселения<span style=\"vertical-align: middle; margin-left: 2px; font-size: 0.7em; color: #64b5f6;\">INST</span></span> ; \n",
       "- <span style=\"padding: 2px; border-radius: 4px; border: 1px solid #bbdefb; background: #e3f2fd\">отсутствие<span style=\"vertical-align: middle; margin-left: 2px; font-size: 0.7em; color: #64b5f6;\">INST</span></span> <span style=\"padding: 2px; border-radius: 4px; border: 1px solid #bbdefb; background: #e3f2fd\">современной<span style=\"vertical-align: middle; margin-left: 2px; font-size: 0.7em; color: #64b5f6;\">INST</span></span> <span style=\"padding: 2px; border-radius: 4px; border: 1px solid #bbdefb; background: #e3f2fd\">системы мониторинга работы электрической<span style=\"vertical-align: middle; margin-left: 2px; font-size: 0.7em; color: #64b5f6;\">INST</span></span> <span style=\"padding: 2px; border-radius: 4px; border: 1px solid #bbdefb; background: #e3f2fd\">системы<span style=\"vertical-align: middle; margin-left: 2px; font-size: 0.7em; color: #64b5f6;\">INST</span></span> и ее <span style=\"padding: 2px; border-radius: 4px; border: 1px solid #bbdefb; background: #e3f2fd\">управления<span style=\"vertical-align: middle; margin-left: 2px; font-size: 0.7em; color: #64b5f6;\">INST</span></span> . \n",
       "Решение <span style=\"padding: 2px; border-radius: 4px; border: 1px solid #bbdefb; background: #e3f2fd\">проблемы<span style=\"vertical-align: middle; margin-left: 2px; font-size: 0.7em; color: #64b5f6;\">INST</span></span> этого раздела <span style=\"padding: 2px; border-radius: 4px; border: 1px solid #bbdefb; background: #e3f2fd\">лежит<span style=\"vertical-align: middle; margin-left: 2px; font-size: 0.7em; color: #64b5f6;\">INST</span></span> в плоскости <span style=\"padding: 2px; border-radius: 4px; border: 1px solid #bbdefb; background: #e3f2fd\">строительства<span style=\"vertical-align: middle; margin-left: 2px; font-size: 0.7em; color: #64b5f6;\">INST</span></span> и реконструкции <span style=\"padding: 2px; border-radius: 4px; border: 1px solid #bbdefb; background: #e3f2fd\">линий уличного<span style=\"vertical-align: middle; margin-left: 2px; font-size: 0.7em; color: #64b5f6;\">INST</span></span> <span style=\"padding: 2px; border-radius: 4px; border: 1px solid #bbdefb; background: #e3f2fd\">освещения<span style=\"vertical-align: middle; margin-left: 2px; font-size: 0.7em; color: #64b5f6;\">INST</span></span> , <span style=\"padding: 2px; border-radius: 4px; border: 1px solid #bbdefb; background: #e3f2fd\">увеличения<span style=\"vertical-align: middle; margin-left: 2px; font-size: 0.7em; color: #64b5f6;\">INST</span></span> <span style=\"padding: 2px; border-radius: 4px; border: 1px solid #bbdefb; background: #e3f2fd\">количества<span style=\"vertical-align: middle; margin-left: 2px; font-size: 0.7em; color: #64b5f6;\">INST</span></span> <span style=\"padding: 2px; border-radius: 4px; border: 1px solid #bbdefb; background: #e3f2fd\">осветительных приборов<span style=\"vertical-align: middle; margin-left: 2px; font-size: 0.7em; color: #64b5f6;\">INST</span></span> и <span style=\"padding: 2px; border-radius: 4px; border: 1px solid #bbdefb; background: #e3f2fd\">внедрения<span style=\"vertical-align: middle; margin-left: 2px; font-size: 0.7em; color: #64b5f6;\">INST</span></span> <span style=\"padding: 2px; border-radius: 4px; border: 1px solid #bbdefb; background: #e3f2fd\">системы мониторинга<span style=\"vertical-align: middle; margin-left: 2px; font-size: 0.7em; color: #64b5f6;\">INST</span></span> и <span style=\"padding: 2px; border-radius: 4px; border: 1px solid #bbdefb; background: #e3f2fd\">управления<span style=\"vertical-align: middle; margin-left: 2px; font-size: 0.7em; color: #64b5f6;\">INST</span></span> . \n",
       "<span style=\"padding: 2px; border-radius: 4px; border: 1px solid #bbdefb; background: #e3f2fd\">Озеленение<span style=\"vertical-align: middle; margin-left: 2px; font-size: 0.7em; color: #64b5f6;\">INST</span></span> \n",
       "Состояние <span style=\"padding: 2px; border-radius: 4px; border: 1px solid #bbdefb; background: #e3f2fd\">зеленых насаждений<span style=\"vertical-align: middle; margin-left: 2px; font-size: 0.7em; color: #64b5f6;\">INST</span></span> на <span style=\"padding: 2px; border-radius: 4px; border: 1px solid #bbdefb; background: #e3f2fd\">территории<span style=\"vertical-align: middle; margin-left: 2px; font-size: 0.7em; color: #64b5f6;\">INST</span></span> городского <span style=\"padding: 2px; border-radius: 4px; border: 1px solid #bbdefb; background: #e3f2fd\">поселения<span style=\"vertical-align: middle; margin-left: 2px; font-size: 0.7em; color: #64b5f6;\">INST</span></span> <span style=\"padding: 2px; border-radius: 4px; border: 1px solid #bbdefb; background: #e3f2fd\">ухудшается<span style=\"vertical-align: middle; margin-left: 2px; font-size: 0.7em; color: #64b5f6;\">INST</span></span> , <span style=\"padding: 2px; border-radius: 4px; border: 1px solid #bbdefb; background: #e3f2fd\">значительная<span style=\"vertical-align: middle; margin-left: 2px; font-size: 0.7em; color: #64b5f6;\">INST</span></span> часть <span style=\"padding: 2px; border-radius: 4px; border: 1px solid #bbdefb; background: #e3f2fd\">зеленых насаждений посажена<span style=\"vertical-align: middle; margin-left: 2px; font-size: 0.7em; color: #64b5f6;\">INST</span></span> в 60  х - 70  х годах <span style=\"padding: 2px; border-radius: 4px; border: 1px solid #bbdefb; background: #e3f2fd\">прошлого<span style=\"vertical-align: middle; margin-left: 2px; font-size: 0.7em; color: #64b5f6;\">INST</span></span> <span style=\"padding: 2px; border-radius: 4px; border: 1px solid #bbdefb; background: #e3f2fd\">столетия достигла состояния<span style=\"vertical-align: middle; margin-left: 2px; font-size: 0.7em; color: #64b5f6;\">INST</span></span> <span style=\"padding: 2px; border-radius: 4px; border: 1px solid #bbdefb; background: #e3f2fd\">естественного<span style=\"vertical-align: middle; margin-left: 2px; font-size: 0.7em; color: #64b5f6;\">INST</span></span> <span style=\"padding: 2px; border-radius: 4px; border: 1px solid #bbdefb; background: #e3f2fd\">старения<span style=\"vertical-align: middle; margin-left: 2px; font-size: 0.7em; color: #64b5f6;\">INST</span></span> . \n",
       "В <span style=\"padding: 2px; border-radius: 4px; border: 1px solid #bbdefb; background: #e3f2fd\">области<span style=\"vertical-align: middle; margin-left: 2px; font-size: 0.7em; color: #64b5f6;\">INST</span></span> <span style=\"padding: 2px; border-radius: 4px; border: 1px solid #bbdefb; background: #e3f2fd\">озеленения территории<span style=\"vertical-align: middle; margin-left: 2px; font-size: 0.7em; color: #64b5f6;\">INST</span></span> городского <span style=\"padding: 2px; border-radius: 4px; border: 1px solid #bbdefb; background: #e3f2fd\">поселения<span style=\"vertical-align: middle; margin-left: 2px; font-size: 0.7em; color: #64b5f6;\">INST</span></span> можно <span style=\"padding: 2px; border-radius: 4px; border: 1px solid #bbdefb; background: #e3f2fd\">выделить<span style=\"vertical-align: middle; margin-left: 2px; font-size: 0.7em; color: #64b5f6;\">INST</span></span> следующие основные <span style=\"padding: 2px; border-radius: 4px; border: 1px solid #bbdefb; background: #e3f2fd\">проблемы<span style=\"vertical-align: middle; margin-left: 2px; font-size: 0.7em; color: #64b5f6;\">INST</span></span> : \n",
       "- <span style=\"padding: 2px; border-radius: 4px; border: 1px solid #bbdefb; background: #e3f2fd\">недостаточный<span style=\"vertical-align: middle; margin-left: 2px; font-size: 0.7em; color: #64b5f6;\">INST</span></span> <span style=\"padding: 2px; border-radius: 4px; border: 1px solid #bbdefb; background: #e3f2fd\">уровень<span style=\"vertical-align: middle; margin-left: 2px; font-size: 0.7em; color: #64b5f6;\">INST</span></span> <span style=\"padding: 2px; border-radius: 4px; border: 1px solid #bbdefb; background: #e3f2fd\">озеленения территории<span style=\"vertical-align: middle; margin-left: 2px; font-size: 0.7em; color: #64b5f6;\">INST</span></span> городского <span style=\"padding: 2px; border-radius: 4px; border: 1px solid #bbdefb; background: #e3f2fd\">поселения<span style=\"vertical-align: middle; margin-left: 2px; font-size: 0.7em; color: #64b5f6;\">INST</span></span> ; \n",
       "- <span style=\"padding: 2px; border-radius: 4px; border: 1px solid #bbdefb; background: #e3f2fd\">старовозрастность<span style=\"vertical-align: middle; margin-left: 2px; font-size: 0.7em; color: #64b5f6;\">INST</span></span> <span style=\"padding: 2px; border-radius: 4px; border: 1px solid #bbdefb; background: #e3f2fd\">существующих зеленых насаждений<span style=\"vertical-align: middle; margin-left: 2px; font-size: 0.7em; color: #64b5f6;\">INST</span></span> ; \n",
       "- <span style=\"padding: 2px; border-radius: 4px; border: 1px solid #bbdefb; background: #e3f2fd\">наличие<span style=\"vertical-align: middle; margin-left: 2px; font-size: 0.7em; color: #64b5f6;\">INST</span></span> <span style=\"padding: 2px; border-radius: 4px; border: 1px solid #bbdefb; background: #e3f2fd\">большого<span style=\"vertical-align: middle; margin-left: 2px; font-size: 0.7em; color: #64b5f6;\">INST</span></span> <span style=\"padding: 2px; border-radius: 4px; border: 1px solid #bbdefb; background: #e3f2fd\">количества<span style=\"vertical-align: middle; margin-left: 2px; font-size: 0.7em; color: #64b5f6;\">INST</span></span> <span style=\"padding: 2px; border-radius: 4px; border: 1px solid #bbdefb; background: #e3f2fd\">старовозрастных опасных деревьев<span style=\"vertical-align: middle; margin-left: 2px; font-size: 0.7em; color: #64b5f6;\">INST</span></span> ; \n",
       "- <span style=\"padding: 2px; border-radius: 4px; border: 1px solid #bbdefb; background: #e3f2fd\">хаотичность зеленых посадок<span style=\"vertical-align: middle; margin-left: 2px; font-size: 0.7em; color: #64b5f6;\">INST</span></span> <span style=\"padding: 2px; border-radius: 4px; border: 1px solid #bbdefb; background: #e3f2fd\">осуществляемых<span style=\"vertical-align: middle; margin-left: 2px; font-size: 0.7em; color: #64b5f6;\">INST</span></span> населением ; \n",
       "- <span style=\"padding: 2px; border-radius: 4px; border: 1px solid #bbdefb; background: #e3f2fd\">отсутствие<span style=\"vertical-align: middle; margin-left: 2px; font-size: 0.7em; color: #64b5f6;\">INST</span></span> <span style=\"padding: 2px; border-radius: 4px; border: 1px solid #bbdefb; background: #e3f2fd\">системного ухода<span style=\"vertical-align: middle; margin-left: 2px; font-size: 0.7em; color: #64b5f6;\">INST</span></span> за <span style=\"padding: 2px; border-radius: 4px; border: 1px solid #bbdefb; background: #e3f2fd\">большей<span style=\"vertical-align: middle; margin-left: 2px; font-size: 0.7em; color: #64b5f6;\">INST</span></span> частью <span style=\"padding: 2px; border-radius: 4px; border: 1px solid #bbdefb; background: #e3f2fd\">насаждений<span style=\"vertical-align: middle; margin-left: 2px; font-size: 0.7em; color: #64b5f6;\">INST</span></span> ; \n",
       "- малое количество <span style=\"padding: 2px; border-radius: 4px; border: 1px solid #bbdefb; background: #e3f2fd\">кустарниковой декоративной<span style=\"vertical-align: middle; margin-left: 2px; font-size: 0.7em; color: #64b5f6;\">INST</span></span> <span style=\"padding: 2px; border-radius: 4px; border: 1px solid #bbdefb; background: #e3f2fd\">растительности<span style=\"vertical-align: middle; margin-left: 2px; font-size: 0.7em; color: #64b5f6;\">INST</span></span> ; \n",
       "- малое количество <span style=\"padding: 2px; border-radius: 4px; border: 1px solid #bbdefb; background: #e3f2fd\">обустроенных<span style=\"vertical-align: middle; margin-left: 2px; font-size: 0.7em; color: #64b5f6;\">INST</span></span> надлежащим <span style=\"padding: 2px; border-radius: 4px; border: 1px solid #bbdefb; background: #e3f2fd\">образом<span style=\"vertical-align: middle; margin-left: 2px; font-size: 0.7em; color: #64b5f6;\">INST</span></span> газонов и цветников ; \n",
       "- <span style=\"padding: 2px; border-radius: 4px; border: 1px solid #bbdefb; background: #e3f2fd\">бурная<span style=\"vertical-align: middle; margin-left: 2px; font-size: 0.7em; color: #64b5f6;\">INST</span></span> , сорная <span style=\"padding: 2px; border-radius: 4px; border: 1px solid #bbdefb; background: #e3f2fd\">кустарниковая<span style=\"vertical-align: middle; margin-left: 2px; font-size: 0.7em; color: #64b5f6;\">INST</span></span> <span style=\"padding: 2px; border-radius: 4px; border: 1px solid #bbdefb; background: #e3f2fd\">растительность<span style=\"vertical-align: middle; margin-left: 2px; font-size: 0.7em; color: #64b5f6;\">INST</span></span> вдоль <span style=\"padding: 2px; border-radius: 4px; border: 1px solid #bbdefb; background: #e3f2fd\">обочин дорог улично<span style=\"vertical-align: middle; margin-left: 2px; font-size: 0.7em; color: #64b5f6;\">INST</span></span> - <span style=\"padding: 2px; border-radius: 4px; border: 1px solid #bbdefb; background: #e3f2fd\">дорожной<span style=\"vertical-align: middle; margin-left: 2px; font-size: 0.7em; color: #64b5f6;\">INST</span></span> сети городского <span style=\"padding: 2px; border-radius: 4px; border: 1px solid #bbdefb; background: #e3f2fd\">поселения<span style=\"vertical-align: middle; margin-left: 2px; font-size: 0.7em; color: #64b5f6;\">INST</span></span> . \n",
       "Для <span style=\"padding: 2px; border-radius: 4px; border: 1px solid #bbdefb; background: #e3f2fd\">улучшения<span style=\"vertical-align: middle; margin-left: 2px; font-size: 0.7em; color: #64b5f6;\">INST</span></span> и <span style=\"padding: 2px; border-radius: 4px; border: 1px solid #bbdefb; background: #e3f2fd\">поддержания состояния зеленых насаждений<span style=\"vertical-align: middle; margin-left: 2px; font-size: 0.7em; color: #64b5f6;\">INST</span></span> в <span style=\"padding: 2px; border-radius: 4px; border: 1px solid #bbdefb; background: #e3f2fd\">условиях<span style=\"vertical-align: middle; margin-left: 2px; font-size: 0.7em; color: #64b5f6;\">INST</span></span> городской среды , <span style=\"padding: 2px; border-radius: 4px; border: 1px solid #bbdefb; background: #e3f2fd\">устранения<span style=\"vertical-align: middle; margin-left: 2px; font-size: 0.7em; color: #64b5f6;\">INST</span></span> аварийной <span style=\"padding: 2px; border-radius: 4px; border: 1px solid #bbdefb; background: #e3f2fd\">ситуации<span style=\"vertical-align: middle; margin-left: 2px; font-size: 0.7em; color: #64b5f6;\">INST</span></span> , соответствия <span style=\"padding: 2px; border-radius: 4px; border: 1px solid #bbdefb; background: #e3f2fd\">эксплуатационным требованиям<span style=\"vertical-align: middle; margin-left: 2px; font-size: 0.7em; color: #64b5f6;\">INST</span></span> к <span style=\"padding: 2px; border-radius: 4px; border: 1px solid #bbdefb; background: #e3f2fd\">объектам<span style=\"vertical-align: middle; margin-left: 2px; font-size: 0.7em; color: #64b5f6;\">INST</span></span> городского <span style=\"padding: 2px; border-radius: 4px; border: 1px solid #bbdefb; background: #e3f2fd\">коммунального хозяйства<span style=\"vertical-align: middle; margin-left: 2px; font-size: 0.7em; color: #64b5f6;\">INST</span></span> , придания <span style=\"padding: 2px; border-radius: 4px; border: 1px solid #bbdefb; background: #e3f2fd\">зеленым<span style=\"vertical-align: middle; margin-left: 2px; font-size: 0.7em; color: #64b5f6;\">INST</span></span> <span style=\"padding: 2px; border-radius: 4px; border: 1px solid #bbdefb; background: #e3f2fd\">насаждениям<span style=\"vertical-align: middle; margin-left: 2px; font-size: 0.7em; color: #64b5f6;\">INST</span></span> надлежащего <span style=\"padding: 2px; border-radius: 4px; border: 1px solid #bbdefb; background: #e3f2fd\">декоративного облика<span style=\"vertical-align: middle; margin-left: 2px; font-size: 0.7em; color: #64b5f6;\">INST</span></span> требуется своевременное <span style=\"padding: 2px; border-radius: 4px; border: 1px solid #bbdefb; background: #e3f2fd\">проведение<span style=\"vertical-align: middle; margin-left: 2px; font-size: 0.7em; color: #64b5f6;\">INST</span></span> работ по <span style=\"padding: 2px; border-radius: 4px; border: 1px solid #bbdefb; background: #e3f2fd\">ремонту<span style=\"vertical-align: middle; margin-left: 2px; font-size: 0.7em; color: #64b5f6;\">INST</span></span> и содержанию <span style=\"padding: 2px; border-radius: 4px; border: 1px solid #bbdefb; background: #e3f2fd\">зеленых насаждений<span style=\"vertical-align: middle; margin-left: 2px; font-size: 0.7em; color: #64b5f6;\">INST</span></span> на <span style=\"padding: 2px; border-radius: 4px; border: 1px solid #bbdefb; background: #e3f2fd\">территории<span style=\"vertical-align: middle; margin-left: 2px; font-size: 0.7em; color: #64b5f6;\">INST</span></span> городского <span style=\"padding: 2px; border-radius: 4px; border: 1px solid #bbdefb; background: #e3f2fd\">поселения<span style=\"vertical-align: middle; margin-left: 2px; font-size: 0.7em; color: #64b5f6;\">INST</span></span> . \n",
       "Особое <span style=\"padding: 2px; border-radius: 4px; border: 1px solid #bbdefb; background: #e3f2fd\">внимание<span style=\"vertical-align: middle; margin-left: 2px; font-size: 0.7em; color: #64b5f6;\">INST</span></span> <span style=\"padding: 2px; border-radius: 4px; border: 1px solid #bbdefb; background: #e3f2fd\">следует<span style=\"vertical-align: middle; margin-left: 2px; font-size: 0.7em; color: #64b5f6;\">INST</span></span> <span style=\"padding: 2px; border-radius: 4px; border: 1px solid #bbdefb; background: #e3f2fd\">уделять восстановлению зеленого<span style=\"vertical-align: middle; margin-left: 2px; font-size: 0.7em; color: #64b5f6;\">INST</span></span> фонда путем планомерной <span style=\"padding: 2px; border-radius: 4px; border: 1px solid #bbdefb; background: #e3f2fd\">замены<span style=\"vertical-align: middle; margin-left: 2px; font-size: 0.7em; color: #64b5f6;\">INST</span></span> <span style=\"padding: 2px; border-radius: 4px; border: 1px solid #bbdefb; background: #e3f2fd\">старовозрастных<span style=\"vertical-align: middle; margin-left: 2px; font-size: 0.7em; color: #64b5f6;\">INST</span></span> и <span style=\"padding: 2px; border-radius: 4px; border: 1px solid #bbdefb; background: #e3f2fd\">аварийных насаждений<span style=\"vertical-align: middle; margin-left: 2px; font-size: 0.7em; color: #64b5f6;\">INST</span></span> , <span style=\"padding: 2px; border-radius: 4px; border: 1px solid #bbdefb; background: #e3f2fd\">используя крупномерный посадочный материал саженцев деревьев ценных<span style=\"vertical-align: middle; margin-left: 2px; font-size: 0.7em; color: #64b5f6;\">INST</span></span> пород и <span style=\"padding: 2px; border-radius: 4px; border: 1px solid #bbdefb; background: #e3f2fd\">декоративных кустарников<span style=\"vertical-align: middle; margin-left: 2px; font-size: 0.7em; color: #64b5f6;\">INST</span></span> . \n",
       "Так же для решения <span style=\"padding: 2px; border-radius: 4px; border: 1px solid #bbdefb; background: #e3f2fd\">проблем данного<span style=\"vertical-align: middle; margin-left: 2px; font-size: 0.7em; color: #64b5f6;\">INST</span></span> раздела требуется проведение мероприятий по своевременному скосу имеющихся газонов , увеличению цветников и клумб на территории города . \n",
       "Отлов безнадзорных животных \n",
       "Основной проблемой большого количества на территории городского поселения безнадзорных животных ( в основном собак ) является : \n",
       "- низкая культура населения в области содержания домашних животных ; \n",
       "- не применение механизма привлечения к ответственности хозяев животных нарушающих правила их содержания ; \n",
       "- недостаточная пропагандистская работа среди населения по содержанию домашних животных . \n",
       "Решением проблемы является применение мер административного воздействия к лицам , нарушающим правила содержания домашних животных , а так же меры по принудительному отлову бесхозяйных животных . \n",
       "Содержание ливневых водоотводных канав \n",
       "Основными проблемами не качественной работы данной системы являются : \n",
       "- многолетняя запущенность и захламленность городских водоотводных канав ; \n",
       "- отсутствие укрепительных элементов ( откосов ) ливневых водоотводных канав , что препятствует организации нормального водостока ; \n",
       "- нежелание жителей осуществлять очистку данных канав проходящих по земельным участкам , закрепленных за их домовладениями ; \n",
       "Решением данной проблемы станет : \n",
       "- поэтапное восстановление общей ливневой водоотводной системы городского поселения , а именно очистка открытых участков ливневой водоотводной канавы от мусора и поросли вручную и с помощью спец  техники ; \n",
       "- проведение работ по перекладке труб и лотков под дорогами , с соблюдением необходимых уклонов для качественной работы системы ; \n",
       "- работа с населением через предупредительные меры о необходимости своевременной очистки , не захламления ливневых канав проходящих по земельным участкам , закрепленных за их домовладениями ; \n",
       "- публикация информационных материалов по данной проблематике в средствах массовой информации . \n",
       "Не  санкционированные свалки \n",
       "За период действия программы , число не  санкционированных свалок на территории городского поселения сократилось в 3 раза . \n",
       "Между тем , их формирование продолжается . \n",
       "Причиной этого является отсутствие достаточного количества оборудованных мест для складирования мусора , отсутствие системного подхода к вывозу мусора с территории частного сектора городского поселения . \n",
       "Реестр не  санкционированных свалок приведен в таблице 1 . \n",
       "Таблица 1 \n",
       "Реестр \n",
       "не  санкционированных свалок на территории г. Судогда \n",
       "Пути решения данной проблемы : \n",
       "- регулярная ликвидация не  санкционированных свалок ; \n",
       "- увеличение количества площадок для сбора ТБО ; \n",
       "- контроль за соблюдением правил обращения с ТБО , правил благоустройства ; \n",
       "- разъяснительная работа в СМИ и др . \n",
       "Внешнее благоустройство \n",
       "Одна из задач внешнего благоустройства – повышение разнообразия и художественной выразительности застройки и открытых озелененных пространств . \n",
       "Современные жилые территории без малых архитектурных форм являются безликими и невыразительными . \n",
       "Содержание малых архитектурных форм должно предусматривать их нормальную эксплуатацию . \n",
       "Садово - парковая мебель , малые архитектурные формы и оборудование должны иметь хороший внешний вид : окрашены , содержаться в чистоте , и находится в исправном состоянии . \n",
       "Их цветовое решение должно вносить в городскую застройку жизнерадостный колорит и разнообразие . \n",
       "Для решения данной задачи необходимо разработка концепции наполнения городских улиц малыми архитектурными формами с ее последующей реализацией . \n",
       "Места общественного отдыха населения \n",
       "В настоящее время в городском поселении назрела необходимость в увеличении количества обустроенных мест общественного отдыха населения . \n",
       "Возможные пути решения это : \n",
       "- реконструкция существующих мест общественного отдыха ; \n",
       "- обустройство мест для отдыха в отдаленных от центра микрорайонах ; \n",
       "- создание обустроенных зон отдыха в городских парках , скверах , прибрежных зонах . \n",
       "Для решения этой проблемы необходимо разработать и реализовать проект обустройства мест общественного отдыха . \n",
       "Содержание автомобильных дорог и безопасность дорожного движения \n",
       "Одной из важнейших задач благоустройства городского поселения является содержание автомобильных дорог в летний и зимний периоды , а также организация безопасности дорожного движения . \n",
       "Основными проблемами являются : высокий износ пешеходных тротуаров , автомобильных дорог общего пользования , дорожных знаков , горизонтальной дорожной разметки , парковочных карманов , наличие снежных навалов на центральных улицах городского поселения и гололедица в зимний период . \n",
       "Возможные пути решения : \n",
       "- щебеночный ремонт дорожного покрытия ; \n",
       "- ремонт тротуарной сети ; \n",
       "- увеличение доли бордюрного оформления дорог и тротуаров ; \n",
       "- оборудование пешеходных переходов ограждениями ; \n",
       "- оформление дорог дорожными знаками и горизонтальной дорожной разметкой ; \n",
       "- ремонт парковочных карманов ; \n",
       "- своевременная очистка от снега улиц и тротуаров , а также подсыпка противогололедными материалами . \n",
       "Основные цели и задачи реализации Программы \n",
       "Основной целью Программы является комплексное решение проблем благоустройства , осуществление мероприятий по улучшению санитарного и эстетичного вида территории городского поселения и повышению комфортности проживания граждан . \n",
       "Основными задачами Программы являются : \n",
       "- обеспечение бесперебойной работы уличного освещения городского поселения ; \n",
       "- увеличение наружных линий уличного освещения ; уменьшение количества опасных деревьев ; \n",
       "- уменьшение количества бесхозных , бродячих животных ; обеспечение нормального функционирования ливневых водоотводных канав ; сокращение не  санкционированных свалок на территории городского поселения ; \n",
       "- установкой дополнительных мусорных урн на территории городского поселения ;</div>"
      ],
      "text/plain": [
       "<IPython.core.display.HTML object>"
      ]
     },
     "metadata": {},
     "output_type": "display_data"
    }
   ],
   "source": [
    "predict(super_simple_model, test_loader)"
   ]
  },
  {
   "cell_type": "markdown",
   "id": "57caf49e",
   "metadata": {},
   "source": [
    "## Контекстная модель: LSTM над конкатенацией"
   ]
  },
  {
   "cell_type": "code",
   "execution_count": 23,
   "id": "737e8ae0",
   "metadata": {},
   "outputs": [
    {
     "name": "stderr",
     "output_type": "stream",
     "text": [
      "GPU available: False, used: False\n",
      "TPU available: False, using: 0 TPU cores\n",
      "\n",
      "  | Name             | Type             | Params\n",
      "------------------------------------------------------\n",
      "0 | loss             | CrossEntropyLoss | 0     \n",
      "1 | valid_accuracy   | Accuracy         | 0     \n",
      "2 | test_accuracy    | Accuracy         | 0     \n",
      "3 | embeddings_layer | Embedding        | 696   \n",
      "4 | dropout          | Dropout          | 0     \n",
      "5 | lstm_layer       | LSTM             | 6.6 K \n",
      "6 | out_layer        | Linear           | 27    \n",
      "------------------------------------------------------\n",
      "7.3 K     Trainable params\n",
      "0         Non-trainable params\n",
      "7.3 K     Total params\n",
      "0.029     Total estimated model params size (MB)\n"
     ]
    },
    {
     "name": "stdout",
     "output_type": "stream",
     "text": [
      "Epoch 0: 100%|████████████████████████████████████████████████████████████████████████████████████████| 6/6 [00:04<00:00,  1.49it/s]\n",
      "Validating: 0it [00:00, ?it/s]\u001b[A\n",
      "Validating:   0%|                                                                                             | 0/1 [00:00<?, ?it/s]\u001b[A"
     ]
    },
    {
     "name": "stderr",
     "output_type": "stream",
     "text": [
      "Metric val_loss improved. New best score: 1.170\n"
     ]
    },
    {
     "name": "stdout",
     "output_type": "stream",
     "text": [
      "Epoch 0: 100%|██████████████████████████████| 6/6 [00:04<00:00,  1.46it/s, loss=1.23, v_num=21, val_loss=1.170, val_acc_epoch=0.158]\n",
      "Epoch 1: 100%|██████████████████████████████| 6/6 [00:04<00:00,  1.39it/s, loss=1.23, v_num=21, val_loss=1.170, val_acc_epoch=0.158]\u001b[A\n",
      "Validating: 0it [00:00, ?it/s]\u001b[A\n",
      "Validating:   0%|                                                                                             | 0/1 [00:00<?, ?it/s]\u001b[A"
     ]
    },
    {
     "name": "stderr",
     "output_type": "stream",
     "text": [
      "Metric val_loss improved by 0.096 >= min_delta = 0.0. New best score: 1.074\n"
     ]
    },
    {
     "name": "stdout",
     "output_type": "stream",
     "text": [
      "Epoch 1: 100%|██████████████████████████████| 6/6 [00:04<00:00,  1.36it/s, loss=1.18, v_num=21, val_loss=1.070, val_acc_epoch=0.374]\n",
      "Epoch 2: 100%|██████████████████████████████| 6/6 [00:04<00:00,  1.37it/s, loss=1.18, v_num=21, val_loss=1.070, val_acc_epoch=0.374]\u001b[A\n",
      "Validating: 0it [00:00, ?it/s]\u001b[A\n",
      "Validating:   0%|                                                                                             | 0/1 [00:00<?, ?it/s]\u001b[A"
     ]
    },
    {
     "name": "stderr",
     "output_type": "stream",
     "text": [
      "Metric val_loss improved by 0.076 >= min_delta = 0.0. New best score: 0.998\n"
     ]
    },
    {
     "name": "stdout",
     "output_type": "stream",
     "text": [
      "Epoch 2: 100%|██████████████████████████████| 6/6 [00:04<00:00,  1.35it/s, loss=1.14, v_num=21, val_loss=0.998, val_acc_epoch=0.638]\n",
      "Epoch 3: 100%|██████████████████████████████| 6/6 [00:04<00:00,  1.36it/s, loss=1.14, v_num=21, val_loss=0.998, val_acc_epoch=0.638]\u001b[A\n",
      "Validating: 0it [00:00, ?it/s]\u001b[A\n",
      "Validating:   0%|                                                                                             | 0/1 [00:00<?, ?it/s]\u001b[A"
     ]
    },
    {
     "name": "stderr",
     "output_type": "stream",
     "text": [
      "Metric val_loss improved by 0.046 >= min_delta = 0.0. New best score: 0.952\n"
     ]
    },
    {
     "name": "stdout",
     "output_type": "stream",
     "text": [
      "Epoch 3: 100%|██████████████████████████████| 6/6 [00:04<00:00,  1.33it/s, loss=1.11, v_num=21, val_loss=0.952, val_acc_epoch=0.652]\n",
      "Epoch 4: 100%|██████████████████████████████| 6/6 [00:04<00:00,  1.35it/s, loss=1.11, v_num=21, val_loss=0.952, val_acc_epoch=0.652]\u001b[A\n",
      "Validating: 0it [00:00, ?it/s]\u001b[A\n",
      "Validating:   0%|                                                                                             | 0/1 [00:00<?, ?it/s]\u001b[A"
     ]
    },
    {
     "name": "stderr",
     "output_type": "stream",
     "text": [
      "Metric val_loss improved by 0.022 >= min_delta = 0.0. New best score: 0.930\n"
     ]
    },
    {
     "name": "stdout",
     "output_type": "stream",
     "text": [
      "Epoch 4: 100%|██████████████████████████████| 6/6 [00:04<00:00,  1.33it/s, loss=1.05, v_num=21, val_loss=0.930, val_acc_epoch=0.652]\n",
      "Epoch 5: 100%|██████████████████████████████| 6/6 [00:04<00:00,  1.31it/s, loss=1.05, v_num=21, val_loss=0.930, val_acc_epoch=0.652]\u001b[A\n",
      "Validating: 0it [00:00, ?it/s]\u001b[A\n",
      "Validating:   0%|                                                                                             | 0/1 [00:00<?, ?it/s]\u001b[A"
     ]
    },
    {
     "name": "stderr",
     "output_type": "stream",
     "text": [
      "Metric val_loss improved by 0.011 >= min_delta = 0.0. New best score: 0.920\n"
     ]
    },
    {
     "name": "stdout",
     "output_type": "stream",
     "text": [
      "Epoch 5: 100%|█████████████████████████████████| 6/6 [00:04<00:00,  1.29it/s, loss=1, v_num=21, val_loss=0.920, val_acc_epoch=0.653]\n",
      "Epoch 6: 100%|█████████████████████████████████| 6/6 [00:04<00:00,  1.32it/s, loss=1, v_num=21, val_loss=0.920, val_acc_epoch=0.653]\u001b[A\n",
      "Validating: 0it [00:00, ?it/s]\u001b[A\n",
      "Validating:   0%|                                                                                             | 0/1 [00:00<?, ?it/s]\u001b[A"
     ]
    },
    {
     "name": "stderr",
     "output_type": "stream",
     "text": [
      "Metric val_loss improved by 0.007 >= min_delta = 0.0. New best score: 0.913\n"
     ]
    },
    {
     "name": "stdout",
     "output_type": "stream",
     "text": [
      "Epoch 6: 100%|█████████████████████████████| 6/6 [00:04<00:00,  1.30it/s, loss=0.978, v_num=21, val_loss=0.913, val_acc_epoch=0.653]\n",
      "Epoch 7: 100%|█████████████████████████████| 6/6 [00:04<00:00,  1.31it/s, loss=0.978, v_num=21, val_loss=0.913, val_acc_epoch=0.653]\u001b[A\n",
      "Validating: 0it [00:00, ?it/s]\u001b[A\n",
      "Validating:   0%|                                                                                             | 0/1 [00:00<?, ?it/s]\u001b[A"
     ]
    },
    {
     "name": "stderr",
     "output_type": "stream",
     "text": [
      "Metric val_loss improved by 0.005 >= min_delta = 0.0. New best score: 0.907\n"
     ]
    },
    {
     "name": "stdout",
     "output_type": "stream",
     "text": [
      "Epoch 7: 100%|█████████████████████████████| 6/6 [00:04<00:00,  1.29it/s, loss=0.968, v_num=21, val_loss=0.907, val_acc_epoch=0.653]\n",
      "Epoch 8: 100%|█████████████████████████████| 6/6 [00:04<00:00,  1.32it/s, loss=0.968, v_num=21, val_loss=0.907, val_acc_epoch=0.653]\u001b[A\n",
      "Validating: 0it [00:00, ?it/s]\u001b[A\n",
      "Validating:   0%|                                                                                             | 0/1 [00:00<?, ?it/s]\u001b[A"
     ]
    },
    {
     "name": "stderr",
     "output_type": "stream",
     "text": [
      "Metric val_loss improved by 0.005 >= min_delta = 0.0. New best score: 0.902\n"
     ]
    },
    {
     "name": "stdout",
     "output_type": "stream",
     "text": [
      "Epoch 8: 100%|██████████████████████████████| 6/6 [00:04<00:00,  1.30it/s, loss=0.96, v_num=21, val_loss=0.902, val_acc_epoch=0.653]\n",
      "Epoch 9: 100%|██████████████████████████████| 6/6 [00:04<00:00,  1.32it/s, loss=0.96, v_num=21, val_loss=0.902, val_acc_epoch=0.653]\u001b[A\n",
      "Validating: 0it [00:00, ?it/s]\u001b[A\n",
      "Validating:   0%|                                                                                             | 0/1 [00:00<?, ?it/s]\u001b[A"
     ]
    },
    {
     "name": "stderr",
     "output_type": "stream",
     "text": [
      "Metric val_loss improved by 0.004 >= min_delta = 0.0. New best score: 0.898\n"
     ]
    },
    {
     "name": "stdout",
     "output_type": "stream",
     "text": [
      "Epoch 9: 100%|█████████████████████████████| 6/6 [00:04<00:00,  1.30it/s, loss=0.952, v_num=21, val_loss=0.898, val_acc_epoch=0.653]\n",
      "Epoch 10: 100%|████████████████████████████| 6/6 [00:04<00:00,  1.30it/s, loss=0.952, v_num=21, val_loss=0.898, val_acc_epoch=0.653]\u001b[A\n",
      "Validating: 0it [00:00, ?it/s]\u001b[A\n",
      "Validating:   0%|                                                                                             | 0/1 [00:00<?, ?it/s]\u001b[A"
     ]
    },
    {
     "name": "stderr",
     "output_type": "stream",
     "text": [
      "Metric val_loss improved by 0.004 >= min_delta = 0.0. New best score: 0.894\n"
     ]
    },
    {
     "name": "stdout",
     "output_type": "stream",
     "text": [
      "Epoch 10: 100%|████████████████████████████| 6/6 [00:04<00:00,  1.28it/s, loss=0.938, v_num=21, val_loss=0.894, val_acc_epoch=0.653]\n",
      "Epoch 11: 100%|████████████████████████████| 6/6 [00:04<00:00,  1.29it/s, loss=0.938, v_num=21, val_loss=0.894, val_acc_epoch=0.653]\u001b[A\n",
      "Validating: 0it [00:00, ?it/s]\u001b[A\n",
      "Validating:   0%|                                                                                             | 0/1 [00:00<?, ?it/s]\u001b[A"
     ]
    },
    {
     "name": "stderr",
     "output_type": "stream",
     "text": [
      "Metric val_loss improved by 0.003 >= min_delta = 0.0. New best score: 0.891\n"
     ]
    },
    {
     "name": "stdout",
     "output_type": "stream",
     "text": [
      "Epoch 11: 100%|████████████████████████████| 6/6 [00:04<00:00,  1.28it/s, loss=0.937, v_num=21, val_loss=0.891, val_acc_epoch=0.653]\n",
      "Epoch 12: 100%|████████████████████████████| 6/6 [00:04<00:00,  1.33it/s, loss=0.937, v_num=21, val_loss=0.891, val_acc_epoch=0.653]\u001b[A\n",
      "Validating: 0it [00:00, ?it/s]\u001b[A\n",
      "Validating:   0%|                                                                                             | 0/1 [00:00<?, ?it/s]\u001b[A"
     ]
    },
    {
     "name": "stderr",
     "output_type": "stream",
     "text": [
      "Metric val_loss improved by 0.002 >= min_delta = 0.0. New best score: 0.889\n"
     ]
    },
    {
     "name": "stdout",
     "output_type": "stream",
     "text": [
      "Epoch 12: 100%|████████████████████████████| 6/6 [00:04<00:00,  1.31it/s, loss=0.939, v_num=21, val_loss=0.889, val_acc_epoch=0.653]\n",
      "Epoch 13: 100%|████████████████████████████| 6/6 [00:04<00:00,  1.32it/s, loss=0.939, v_num=21, val_loss=0.889, val_acc_epoch=0.653]\u001b[A\n",
      "Validating: 0it [00:00, ?it/s]\u001b[A\n",
      "Validating:   0%|                                                                                             | 0/1 [00:00<?, ?it/s]\u001b[A"
     ]
    },
    {
     "name": "stderr",
     "output_type": "stream",
     "text": [
      "Metric val_loss improved by 0.002 >= min_delta = 0.0. New best score: 0.887\n"
     ]
    },
    {
     "name": "stdout",
     "output_type": "stream",
     "text": [
      "Epoch 13: 100%|████████████████████████████| 6/6 [00:04<00:00,  1.30it/s, loss=0.941, v_num=21, val_loss=0.887, val_acc_epoch=0.653]\n",
      "Epoch 14: 100%|████████████████████████████| 6/6 [00:04<00:00,  1.34it/s, loss=0.941, v_num=21, val_loss=0.887, val_acc_epoch=0.653]\u001b[A\n",
      "Validating: 0it [00:00, ?it/s]\u001b[A\n",
      "Validating:   0%|                                                                                             | 0/1 [00:00<?, ?it/s]\u001b[A"
     ]
    },
    {
     "name": "stderr",
     "output_type": "stream",
     "text": [
      "Metric val_loss improved by 0.004 >= min_delta = 0.0. New best score: 0.884\n"
     ]
    },
    {
     "name": "stdout",
     "output_type": "stream",
     "text": [
      "Epoch 14: 100%|████████████████████████████| 6/6 [00:04<00:00,  1.32it/s, loss=0.943, v_num=21, val_loss=0.884, val_acc_epoch=0.653]\n",
      "Epoch 15: 100%|████████████████████████████| 6/6 [00:04<00:00,  1.31it/s, loss=0.943, v_num=21, val_loss=0.884, val_acc_epoch=0.653]\u001b[A\n",
      "Validating: 0it [00:00, ?it/s]\u001b[A\n",
      "Validating:   0%|                                                                                             | 0/1 [00:00<?, ?it/s]\u001b[A"
     ]
    },
    {
     "name": "stderr",
     "output_type": "stream",
     "text": [
      "Metric val_loss improved by 0.004 >= min_delta = 0.0. New best score: 0.879\n"
     ]
    },
    {
     "name": "stdout",
     "output_type": "stream",
     "text": [
      "Epoch 15: 100%|████████████████████████████| 6/6 [00:04<00:00,  1.29it/s, loss=0.936, v_num=21, val_loss=0.879, val_acc_epoch=0.653]\n",
      "Epoch 16: 100%|████████████████████████████| 6/6 [00:04<00:00,  1.33it/s, loss=0.936, v_num=21, val_loss=0.879, val_acc_epoch=0.653]\u001b[A\n",
      "Validating: 0it [00:00, ?it/s]\u001b[A\n",
      "Validating:   0%|                                                                                             | 0/1 [00:00<?, ?it/s]\u001b[A"
     ]
    },
    {
     "name": "stderr",
     "output_type": "stream",
     "text": [
      "Metric val_loss improved by 0.004 >= min_delta = 0.0. New best score: 0.876\n"
     ]
    },
    {
     "name": "stdout",
     "output_type": "stream",
     "text": [
      "Epoch 16: 100%|████████████████████████████| 6/6 [00:04<00:00,  1.31it/s, loss=0.926, v_num=21, val_loss=0.876, val_acc_epoch=0.653]\n",
      "Epoch 17: 100%|████████████████████████████| 6/6 [00:04<00:00,  1.34it/s, loss=0.926, v_num=21, val_loss=0.876, val_acc_epoch=0.653]\u001b[A\n",
      "Validating: 0it [00:00, ?it/s]\u001b[A\n",
      "Validating:   0%|                                                                                             | 0/1 [00:00<?, ?it/s]\u001b[A"
     ]
    },
    {
     "name": "stderr",
     "output_type": "stream",
     "text": [
      "Metric val_loss improved by 0.003 >= min_delta = 0.0. New best score: 0.873\n"
     ]
    },
    {
     "name": "stdout",
     "output_type": "stream",
     "text": [
      "Epoch 17: 100%|████████████████████████████| 6/6 [00:04<00:00,  1.32it/s, loss=0.928, v_num=21, val_loss=0.873, val_acc_epoch=0.653]\n",
      "Epoch 18: 100%|████████████████████████████| 6/6 [00:04<00:00,  1.46it/s, loss=0.928, v_num=21, val_loss=0.873, val_acc_epoch=0.653]\u001b[A\n",
      "Validating: 0it [00:00, ?it/s]\u001b[A\n",
      "Validating:   0%|                                                                                             | 0/1 [00:00<?, ?it/s]\u001b[A"
     ]
    },
    {
     "name": "stderr",
     "output_type": "stream",
     "text": [
      "Metric val_loss improved by 0.002 >= min_delta = 0.0. New best score: 0.870\n"
     ]
    },
    {
     "name": "stdout",
     "output_type": "stream",
     "text": [
      "Epoch 18: 100%|████████████████████████████| 6/6 [00:04<00:00,  1.43it/s, loss=0.922, v_num=21, val_loss=0.870, val_acc_epoch=0.653]\n",
      "Epoch 19: 100%|████████████████████████████| 6/6 [00:04<00:00,  1.42it/s, loss=0.922, v_num=21, val_loss=0.870, val_acc_epoch=0.653]\u001b[A\n",
      "Validating: 0it [00:00, ?it/s]\u001b[A\n",
      "Validating:   0%|                                                                                             | 0/1 [00:00<?, ?it/s]\u001b[A"
     ]
    },
    {
     "name": "stderr",
     "output_type": "stream",
     "text": [
      "Metric val_loss improved by 0.003 >= min_delta = 0.0. New best score: 0.867\n"
     ]
    },
    {
     "name": "stdout",
     "output_type": "stream",
     "text": [
      "Epoch 19: 100%|████████████████████████████| 6/6 [00:04<00:00,  1.40it/s, loss=0.916, v_num=21, val_loss=0.867, val_acc_epoch=0.653]\n",
      "Epoch 20: 100%|████████████████████████████| 6/6 [00:04<00:00,  1.46it/s, loss=0.916, v_num=21, val_loss=0.867, val_acc_epoch=0.653]\u001b[A\n",
      "Validating: 0it [00:00, ?it/s]\u001b[A\n",
      "Validating:   0%|                                                                                             | 0/1 [00:00<?, ?it/s]\u001b[A"
     ]
    },
    {
     "name": "stderr",
     "output_type": "stream",
     "text": [
      "Metric val_loss improved by 0.004 >= min_delta = 0.0. New best score: 0.863\n"
     ]
    },
    {
     "name": "stdout",
     "output_type": "stream",
     "text": [
      "Epoch 20: 100%|████████████████████████████| 6/6 [00:04<00:00,  1.44it/s, loss=0.916, v_num=21, val_loss=0.863, val_acc_epoch=0.653]\n",
      "Epoch 21: 100%|████████████████████████████| 6/6 [00:04<00:00,  1.47it/s, loss=0.916, v_num=21, val_loss=0.863, val_acc_epoch=0.653]\u001b[A\n",
      "Validating: 0it [00:00, ?it/s]\u001b[A\n",
      "Validating:   0%|                                                                                             | 0/1 [00:00<?, ?it/s]\u001b[A"
     ]
    },
    {
     "name": "stderr",
     "output_type": "stream",
     "text": [
      "Metric val_loss improved by 0.004 >= min_delta = 0.0. New best score: 0.860\n"
     ]
    },
    {
     "name": "stdout",
     "output_type": "stream",
     "text": [
      "Epoch 21: 100%|████████████████████████████| 6/6 [00:04<00:00,  1.44it/s, loss=0.898, v_num=21, val_loss=0.860, val_acc_epoch=0.653]\n",
      "Epoch 22: 100%|████████████████████████████| 6/6 [00:04<00:00,  1.47it/s, loss=0.898, v_num=21, val_loss=0.860, val_acc_epoch=0.653]\u001b[A\n",
      "Validating: 0it [00:00, ?it/s]\u001b[A\n",
      "Validating:   0%|                                                                                             | 0/1 [00:00<?, ?it/s]\u001b[A"
     ]
    },
    {
     "name": "stderr",
     "output_type": "stream",
     "text": [
      "Metric val_loss improved by 0.004 >= min_delta = 0.0. New best score: 0.855\n"
     ]
    },
    {
     "name": "stdout",
     "output_type": "stream",
     "text": [
      "Epoch 22: 100%|██████████████████████████████| 6/6 [00:04<00:00,  1.45it/s, loss=0.9, v_num=21, val_loss=0.855, val_acc_epoch=0.653]\n",
      "Epoch 23: 100%|██████████████████████████████| 6/6 [00:04<00:00,  1.33it/s, loss=0.9, v_num=21, val_loss=0.855, val_acc_epoch=0.653]\u001b[A\n",
      "Validating: 0it [00:00, ?it/s]\u001b[A\n",
      "Validating:   0%|                                                                                             | 0/1 [00:00<?, ?it/s]\u001b[A"
     ]
    },
    {
     "name": "stderr",
     "output_type": "stream",
     "text": [
      "Metric val_loss improved by 0.004 >= min_delta = 0.0. New best score: 0.851\n"
     ]
    },
    {
     "name": "stdout",
     "output_type": "stream",
     "text": [
      "Epoch 23: 100%|████████████████████████████| 6/6 [00:04<00:00,  1.31it/s, loss=0.896, v_num=21, val_loss=0.851, val_acc_epoch=0.653]\n",
      "Epoch 24: 100%|████████████████████████████| 6/6 [00:04<00:00,  1.32it/s, loss=0.896, v_num=21, val_loss=0.851, val_acc_epoch=0.653]\u001b[A\n",
      "Validating: 0it [00:00, ?it/s]\u001b[A\n",
      "Validating:   0%|                                                                                             | 0/1 [00:00<?, ?it/s]\u001b[A"
     ]
    },
    {
     "name": "stderr",
     "output_type": "stream",
     "text": [
      "Metric val_loss improved by 0.005 >= min_delta = 0.0. New best score: 0.846\n"
     ]
    },
    {
     "name": "stdout",
     "output_type": "stream",
     "text": [
      "Epoch 24: 100%|████████████████████████████| 6/6 [00:04<00:00,  1.30it/s, loss=0.888, v_num=21, val_loss=0.846, val_acc_epoch=0.654]\n",
      "Epoch 25: 100%|████████████████████████████| 6/6 [00:04<00:00,  1.34it/s, loss=0.888, v_num=21, val_loss=0.846, val_acc_epoch=0.654]\u001b[A\n",
      "Validating: 0it [00:00, ?it/s]\u001b[A\n",
      "Validating:   0%|                                                                                             | 0/1 [00:00<?, ?it/s]\u001b[A"
     ]
    },
    {
     "name": "stderr",
     "output_type": "stream",
     "text": [
      "Metric val_loss improved by 0.005 >= min_delta = 0.0. New best score: 0.842\n"
     ]
    },
    {
     "name": "stdout",
     "output_type": "stream",
     "text": [
      "Epoch 25: 100%|████████████████████████████| 6/6 [00:04<00:00,  1.32it/s, loss=0.895, v_num=21, val_loss=0.842, val_acc_epoch=0.654]\n",
      "Epoch 26: 100%|████████████████████████████| 6/6 [00:04<00:00,  1.37it/s, loss=0.895, v_num=21, val_loss=0.842, val_acc_epoch=0.654]\u001b[A\n",
      "Validating: 0it [00:00, ?it/s]\u001b[A\n",
      "Validating:   0%|                                                                                             | 0/1 [00:00<?, ?it/s]\u001b[A"
     ]
    },
    {
     "name": "stderr",
     "output_type": "stream",
     "text": [
      "Metric val_loss improved by 0.003 >= min_delta = 0.0. New best score: 0.838\n"
     ]
    },
    {
     "name": "stdout",
     "output_type": "stream",
     "text": [
      "Epoch 26: 100%|████████████████████████████| 6/6 [00:04<00:00,  1.35it/s, loss=0.886, v_num=21, val_loss=0.838, val_acc_epoch=0.655]\n",
      "Epoch 27: 100%|████████████████████████████| 6/6 [00:04<00:00,  1.27it/s, loss=0.886, v_num=21, val_loss=0.838, val_acc_epoch=0.655]\u001b[A\n",
      "Validating: 0it [00:00, ?it/s]\u001b[A\n",
      "Validating:   0%|                                                                                             | 0/1 [00:00<?, ?it/s]\u001b[A"
     ]
    },
    {
     "name": "stderr",
     "output_type": "stream",
     "text": [
      "Metric val_loss improved by 0.006 >= min_delta = 0.0. New best score: 0.833\n"
     ]
    },
    {
     "name": "stdout",
     "output_type": "stream",
     "text": [
      "Epoch 27: 100%|████████████████████████████| 6/6 [00:04<00:00,  1.24it/s, loss=0.882, v_num=21, val_loss=0.833, val_acc_epoch=0.655]\n",
      "Epoch 28: 100%|████████████████████████████| 6/6 [00:05<00:00,  1.07it/s, loss=0.882, v_num=21, val_loss=0.833, val_acc_epoch=0.655]\u001b[A\n",
      "Validating: 0it [00:00, ?it/s]\u001b[A\n",
      "Validating:   0%|                                                                                             | 0/1 [00:00<?, ?it/s]\u001b[A"
     ]
    },
    {
     "name": "stderr",
     "output_type": "stream",
     "text": [
      "Metric val_loss improved by 0.007 >= min_delta = 0.0. New best score: 0.826\n"
     ]
    },
    {
     "name": "stdout",
     "output_type": "stream",
     "text": [
      "Epoch 28: 100%|████████████████████████████| 6/6 [00:05<00:00,  1.05it/s, loss=0.869, v_num=21, val_loss=0.826, val_acc_epoch=0.655]\n",
      "Epoch 29: 100%|████████████████████████████| 6/6 [00:05<00:00,  1.00it/s, loss=0.869, v_num=21, val_loss=0.826, val_acc_epoch=0.655]\u001b[A\n",
      "Validating: 0it [00:00, ?it/s]\u001b[A\n",
      "Validating:   0%|                                                                                             | 0/1 [00:00<?, ?it/s]\u001b[A"
     ]
    },
    {
     "name": "stderr",
     "output_type": "stream",
     "text": [
      "Metric val_loss improved by 0.007 >= min_delta = 0.0. New best score: 0.819\n"
     ]
    },
    {
     "name": "stdout",
     "output_type": "stream",
     "text": [
      "Epoch 29: 100%|████████████████████████████| 6/6 [00:06<00:00,  1.01s/it, loss=0.846, v_num=21, val_loss=0.819, val_acc_epoch=0.655]\n",
      "Epoch 30: 100%|████████████████████████████| 6/6 [00:04<00:00,  1.34it/s, loss=0.846, v_num=21, val_loss=0.819, val_acc_epoch=0.655]\u001b[A\n",
      "Validating: 0it [00:00, ?it/s]\u001b[A\n",
      "Validating:   0%|                                                                                             | 0/1 [00:00<?, ?it/s]\u001b[A"
     ]
    },
    {
     "name": "stderr",
     "output_type": "stream",
     "text": [
      "Metric val_loss improved by 0.005 >= min_delta = 0.0. New best score: 0.814\n"
     ]
    },
    {
     "name": "stdout",
     "output_type": "stream",
     "text": [
      "Epoch 30: 100%|████████████████████████████| 6/6 [00:04<00:00,  1.32it/s, loss=0.839, v_num=21, val_loss=0.814, val_acc_epoch=0.655]\n",
      "Epoch 31: 100%|████████████████████████████| 6/6 [00:04<00:00,  1.43it/s, loss=0.839, v_num=21, val_loss=0.814, val_acc_epoch=0.655]\u001b[A\n",
      "Validating: 0it [00:00, ?it/s]\u001b[A\n",
      "Validating:   0%|                                                                                             | 0/1 [00:00<?, ?it/s]\u001b[A"
     ]
    },
    {
     "name": "stderr",
     "output_type": "stream",
     "text": [
      "Metric val_loss improved by 0.004 >= min_delta = 0.0. New best score: 0.809\n"
     ]
    },
    {
     "name": "stdout",
     "output_type": "stream",
     "text": [
      "Epoch 31: 100%|████████████████████████████| 6/6 [00:04<00:00,  1.40it/s, loss=0.835, v_num=21, val_loss=0.809, val_acc_epoch=0.655]\n",
      "Epoch 32: 100%|████████████████████████████| 6/6 [00:04<00:00,  1.36it/s, loss=0.835, v_num=21, val_loss=0.809, val_acc_epoch=0.655]\u001b[A\n",
      "Validating: 0it [00:00, ?it/s]\u001b[A\n",
      "Validating:   0%|                                                                                             | 0/1 [00:00<?, ?it/s]\u001b[A"
     ]
    },
    {
     "name": "stderr",
     "output_type": "stream",
     "text": [
      "Metric val_loss improved by 0.002 >= min_delta = 0.0. New best score: 0.807\n"
     ]
    },
    {
     "name": "stdout",
     "output_type": "stream",
     "text": [
      "Epoch 32: 100%|████████████████████████████| 6/6 [00:04<00:00,  1.34it/s, loss=0.841, v_num=21, val_loss=0.807, val_acc_epoch=0.654]\n",
      "Epoch 33: 100%|████████████████████████████| 6/6 [00:04<00:00,  1.41it/s, loss=0.841, v_num=21, val_loss=0.807, val_acc_epoch=0.654]\u001b[A\n",
      "Validating: 0it [00:00, ?it/s]\u001b[A\n",
      "Validating:   0%|                                                                                             | 0/1 [00:00<?, ?it/s]\u001b[A"
     ]
    },
    {
     "name": "stderr",
     "output_type": "stream",
     "text": [
      "Metric val_loss improved by 0.005 >= min_delta = 0.0. New best score: 0.801\n"
     ]
    },
    {
     "name": "stdout",
     "output_type": "stream",
     "text": [
      "Epoch 33: 100%|████████████████████████████| 6/6 [00:04<00:00,  1.39it/s, loss=0.834, v_num=21, val_loss=0.801, val_acc_epoch=0.654]\n",
      "Epoch 34: 100%|████████████████████████████| 6/6 [00:04<00:00,  1.43it/s, loss=0.834, v_num=21, val_loss=0.801, val_acc_epoch=0.654]\u001b[A\n",
      "Validating: 0it [00:00, ?it/s]\u001b[A\n",
      "Validating:   0%|                                                                                             | 0/1 [00:00<?, ?it/s]\u001b[A"
     ]
    },
    {
     "name": "stderr",
     "output_type": "stream",
     "text": [
      "Metric val_loss improved by 0.004 >= min_delta = 0.0. New best score: 0.797\n"
     ]
    },
    {
     "name": "stdout",
     "output_type": "stream",
     "text": [
      "Epoch 34: 100%|████████████████████████████| 6/6 [00:04<00:00,  1.40it/s, loss=0.838, v_num=21, val_loss=0.797, val_acc_epoch=0.655]\n",
      "Epoch 35: 100%|████████████████████████████| 6/6 [00:04<00:00,  1.43it/s, loss=0.838, v_num=21, val_loss=0.797, val_acc_epoch=0.655]\u001b[A\n",
      "Validating: 0it [00:00, ?it/s]\u001b[A\n",
      "Validating:   0%|                                                                                             | 0/1 [00:00<?, ?it/s]\u001b[A"
     ]
    },
    {
     "name": "stderr",
     "output_type": "stream",
     "text": [
      "Metric val_loss improved by 0.002 >= min_delta = 0.0. New best score: 0.795\n"
     ]
    },
    {
     "name": "stdout",
     "output_type": "stream",
     "text": [
      "Epoch 35: 100%|████████████████████████████| 6/6 [00:04<00:00,  1.40it/s, loss=0.829, v_num=21, val_loss=0.795, val_acc_epoch=0.654]\n",
      "Epoch 36: 100%|████████████████████████████| 6/6 [00:04<00:00,  1.43it/s, loss=0.829, v_num=21, val_loss=0.795, val_acc_epoch=0.654]\u001b[A\n",
      "Validating: 0it [00:00, ?it/s]\u001b[A\n",
      "Validating:   0%|                                                                                             | 0/1 [00:00<?, ?it/s]\u001b[A"
     ]
    },
    {
     "name": "stderr",
     "output_type": "stream",
     "text": [
      "Metric val_loss improved by 0.002 >= min_delta = 0.0. New best score: 0.793\n"
     ]
    },
    {
     "name": "stdout",
     "output_type": "stream",
     "text": [
      "Epoch 36: 100%|████████████████████████████| 6/6 [00:04<00:00,  1.41it/s, loss=0.825, v_num=21, val_loss=0.793, val_acc_epoch=0.655]\n",
      "Epoch 37: 100%|████████████████████████████| 6/6 [00:05<00:00,  1.11it/s, loss=0.825, v_num=21, val_loss=0.793, val_acc_epoch=0.655]\u001b[A\n",
      "Validating: 0it [00:00, ?it/s]\u001b[A\n",
      "Validating:   0%|                                                                                             | 0/1 [00:00<?, ?it/s]\u001b[A"
     ]
    },
    {
     "name": "stderr",
     "output_type": "stream",
     "text": [
      "Metric val_loss improved by 0.003 >= min_delta = 0.0. New best score: 0.790\n"
     ]
    },
    {
     "name": "stdout",
     "output_type": "stream",
     "text": [
      "Epoch 37: 100%|████████████████████████████| 6/6 [00:05<00:00,  1.09it/s, loss=0.843, v_num=21, val_loss=0.790, val_acc_epoch=0.656]\n",
      "Epoch 38: 100%|████████████████████████████| 6/6 [00:05<00:00,  1.08it/s, loss=0.843, v_num=21, val_loss=0.790, val_acc_epoch=0.656]\u001b[A\n",
      "Validating: 0it [00:00, ?it/s]\u001b[A\n",
      "Validating:   0%|                                                                                             | 0/1 [00:00<?, ?it/s]\u001b[A"
     ]
    },
    {
     "name": "stderr",
     "output_type": "stream",
     "text": [
      "Metric val_loss improved by 0.002 >= min_delta = 0.0. New best score: 0.788\n"
     ]
    },
    {
     "name": "stdout",
     "output_type": "stream",
     "text": [
      "Epoch 38: 100%|████████████████████████████| 6/6 [00:05<00:00,  1.06it/s, loss=0.836, v_num=21, val_loss=0.788, val_acc_epoch=0.656]\n",
      "Epoch 39: 100%|████████████████████████████| 6/6 [00:04<00:00,  1.27it/s, loss=0.836, v_num=21, val_loss=0.788, val_acc_epoch=0.656]\u001b[A\n",
      "Validating: 0it [00:00, ?it/s]\u001b[A\n",
      "Validating:   0%|                                                                                             | 0/1 [00:00<?, ?it/s]\u001b[A"
     ]
    },
    {
     "name": "stderr",
     "output_type": "stream",
     "text": [
      "Metric val_loss improved by 0.006 >= min_delta = 0.0. New best score: 0.782\n"
     ]
    },
    {
     "name": "stdout",
     "output_type": "stream",
     "text": [
      "Epoch 39: 100%|████████████████████████████| 6/6 [00:04<00:00,  1.25it/s, loss=0.818, v_num=21, val_loss=0.782, val_acc_epoch=0.655]\n",
      "Epoch 40: 100%|████████████████████████████| 6/6 [00:04<00:00,  1.47it/s, loss=0.818, v_num=21, val_loss=0.782, val_acc_epoch=0.655]\u001b[A\n",
      "Validating: 0it [00:00, ?it/s]\u001b[A\n",
      "Validating:   0%|                                                                                             | 0/1 [00:00<?, ?it/s]\u001b[A"
     ]
    },
    {
     "name": "stderr",
     "output_type": "stream",
     "text": [
      "Metric val_loss improved by 0.004 >= min_delta = 0.0. New best score: 0.778\n"
     ]
    },
    {
     "name": "stdout",
     "output_type": "stream",
     "text": [
      "Epoch 40: 100%|████████████████████████████| 6/6 [00:04<00:00,  1.44it/s, loss=0.799, v_num=21, val_loss=0.778, val_acc_epoch=0.655]\n",
      "Epoch 41: 100%|████████████████████████████| 6/6 [00:04<00:00,  1.45it/s, loss=0.799, v_num=21, val_loss=0.778, val_acc_epoch=0.655]\u001b[A\n",
      "Validating: 0it [00:00, ?it/s]\u001b[A\n",
      "Validating:   0%|                                                                                             | 0/1 [00:00<?, ?it/s]\u001b[A"
     ]
    },
    {
     "name": "stderr",
     "output_type": "stream",
     "text": [
      "Metric val_loss improved by 0.003 >= min_delta = 0.0. New best score: 0.775\n"
     ]
    },
    {
     "name": "stdout",
     "output_type": "stream",
     "text": [
      "Epoch 41: 100%|████████████████████████████| 6/6 [00:04<00:00,  1.43it/s, loss=0.782, v_num=21, val_loss=0.775, val_acc_epoch=0.655]\n",
      "Epoch 42: 100%|████████████████████████████| 6/6 [00:04<00:00,  1.45it/s, loss=0.782, v_num=21, val_loss=0.775, val_acc_epoch=0.655]\u001b[A\n",
      "Validating: 0it [00:00, ?it/s]\u001b[A\n",
      "Validating:   0%|                                                                                             | 0/1 [00:00<?, ?it/s]\u001b[A"
     ]
    },
    {
     "name": "stderr",
     "output_type": "stream",
     "text": [
      "Metric val_loss improved by 0.003 >= min_delta = 0.0. New best score: 0.773\n"
     ]
    },
    {
     "name": "stdout",
     "output_type": "stream",
     "text": [
      "Epoch 42: 100%|████████████████████████████| 6/6 [00:04<00:00,  1.43it/s, loss=0.778, v_num=21, val_loss=0.773, val_acc_epoch=0.656]\n",
      "Epoch 43: 100%|████████████████████████████| 6/6 [00:04<00:00,  1.39it/s, loss=0.778, v_num=21, val_loss=0.773, val_acc_epoch=0.656]\u001b[A\n",
      "Validating: 0it [00:00, ?it/s]\u001b[A\n",
      "Validating:   0%|                                                                                             | 0/1 [00:00<?, ?it/s]\u001b[A"
     ]
    },
    {
     "name": "stderr",
     "output_type": "stream",
     "text": [
      "Metric val_loss improved by 0.002 >= min_delta = 0.0. New best score: 0.771\n"
     ]
    },
    {
     "name": "stdout",
     "output_type": "stream",
     "text": [
      "Epoch 43: 100%|████████████████████████████| 6/6 [00:04<00:00,  1.37it/s, loss=0.788, v_num=21, val_loss=0.771, val_acc_epoch=0.658]\n",
      "Epoch 44: 100%|████████████████████████████| 6/6 [00:04<00:00,  1.40it/s, loss=0.788, v_num=21, val_loss=0.771, val_acc_epoch=0.658]\u001b[A\n",
      "Validating: 0it [00:00, ?it/s]\u001b[A\n",
      "Validating:   0%|                                                                                             | 0/1 [00:00<?, ?it/s]\u001b[A"
     ]
    },
    {
     "name": "stderr",
     "output_type": "stream",
     "text": [
      "Metric val_loss improved by 0.002 >= min_delta = 0.0. New best score: 0.769\n"
     ]
    },
    {
     "name": "stdout",
     "output_type": "stream",
     "text": [
      "Epoch 44: 100%|██████████████████████████████| 6/6 [00:04<00:00,  1.37it/s, loss=0.8, v_num=21, val_loss=0.769, val_acc_epoch=0.660]\n",
      "Epoch 45: 100%|██████████████████████████████| 6/6 [00:04<00:00,  1.41it/s, loss=0.8, v_num=21, val_loss=0.769, val_acc_epoch=0.660]\u001b[A\n",
      "Validating: 0it [00:00, ?it/s]\u001b[A\n",
      "Validating:   0%|                                                                                             | 0/1 [00:00<?, ?it/s]\u001b[A"
     ]
    },
    {
     "name": "stderr",
     "output_type": "stream",
     "text": [
      "Metric val_loss improved by 0.001 >= min_delta = 0.0. New best score: 0.768\n"
     ]
    },
    {
     "name": "stdout",
     "output_type": "stream",
     "text": [
      "Epoch 45: 100%|█████████████████████████████| 6/6 [00:04<00:00,  1.38it/s, loss=0.81, v_num=21, val_loss=0.768, val_acc_epoch=0.660]\n",
      "Epoch 46: 100%|█████████████████████████████| 6/6 [00:04<00:00,  1.40it/s, loss=0.81, v_num=21, val_loss=0.768, val_acc_epoch=0.660]\u001b[A\n",
      "Validating: 0it [00:00, ?it/s]\u001b[A\n",
      "Validating:   0%|                                                                                             | 0/1 [00:00<?, ?it/s]\u001b[A"
     ]
    },
    {
     "name": "stderr",
     "output_type": "stream",
     "text": [
      "Metric val_loss improved by 0.000 >= min_delta = 0.0. New best score: 0.768\n"
     ]
    },
    {
     "name": "stdout",
     "output_type": "stream",
     "text": [
      "Epoch 46: 100%|████████████████████████████| 6/6 [00:04<00:00,  1.38it/s, loss=0.813, v_num=21, val_loss=0.768, val_acc_epoch=0.661]\n",
      "Epoch 47: 100%|████████████████████████████| 6/6 [00:04<00:00,  1.37it/s, loss=0.813, v_num=21, val_loss=0.768, val_acc_epoch=0.661]\u001b[A\n",
      "Validating: 0it [00:00, ?it/s]\u001b[A\n",
      "Validating:   0%|                                                                                             | 0/1 [00:00<?, ?it/s]\u001b[A"
     ]
    },
    {
     "name": "stderr",
     "output_type": "stream",
     "text": [
      "Metric val_loss improved by 0.004 >= min_delta = 0.0. New best score: 0.764\n"
     ]
    },
    {
     "name": "stdout",
     "output_type": "stream",
     "text": [
      "Epoch 47: 100%|████████████████████████████| 6/6 [00:04<00:00,  1.35it/s, loss=0.789, v_num=21, val_loss=0.764, val_acc_epoch=0.661]\n",
      "Epoch 48: 100%|████████████████████████████| 6/6 [00:04<00:00,  1.34it/s, loss=0.789, v_num=21, val_loss=0.764, val_acc_epoch=0.661]\u001b[A\n",
      "Validating: 0it [00:00, ?it/s]\u001b[A\n",
      "Validating:   0%|                                                                                             | 0/1 [00:00<?, ?it/s]\u001b[A"
     ]
    },
    {
     "name": "stderr",
     "output_type": "stream",
     "text": [
      "Metric val_loss improved by 0.002 >= min_delta = 0.0. New best score: 0.762\n"
     ]
    },
    {
     "name": "stdout",
     "output_type": "stream",
     "text": [
      "Epoch 48: 100%|████████████████████████████| 6/6 [00:04<00:00,  1.32it/s, loss=0.782, v_num=21, val_loss=0.762, val_acc_epoch=0.660]\n",
      "Epoch 49: 100%|████████████████████████████| 6/6 [00:04<00:00,  1.35it/s, loss=0.782, v_num=21, val_loss=0.762, val_acc_epoch=0.660]\u001b[A\n",
      "Validating: 0it [00:00, ?it/s]\u001b[A\n",
      "Validating:   0%|                                                                                             | 0/1 [00:00<?, ?it/s]\u001b[A"
     ]
    },
    {
     "name": "stderr",
     "output_type": "stream",
     "text": [
      "Metric val_loss improved by 0.002 >= min_delta = 0.0. New best score: 0.760\n"
     ]
    },
    {
     "name": "stdout",
     "output_type": "stream",
     "text": [
      "Epoch 49: 100%|████████████████████████████| 6/6 [00:04<00:00,  1.32it/s, loss=0.769, v_num=21, val_loss=0.760, val_acc_epoch=0.661]\n",
      "Epoch 50: 100%|████████████████████████████| 6/6 [00:04<00:00,  1.41it/s, loss=0.769, v_num=21, val_loss=0.760, val_acc_epoch=0.661]\u001b[A\n",
      "Validating: 0it [00:00, ?it/s]\u001b[A\n",
      "Validating:   0%|                                                                                             | 0/1 [00:00<?, ?it/s]\u001b[A"
     ]
    },
    {
     "name": "stderr",
     "output_type": "stream",
     "text": [
      "Metric val_loss improved by 0.002 >= min_delta = 0.0. New best score: 0.758\n"
     ]
    },
    {
     "name": "stdout",
     "output_type": "stream",
     "text": [
      "Epoch 50: 100%|████████████████████████████| 6/6 [00:04<00:00,  1.38it/s, loss=0.767, v_num=21, val_loss=0.758, val_acc_epoch=0.661]\n",
      "Epoch 51: 100%|████████████████████████████| 6/6 [00:05<00:00,  1.12it/s, loss=0.767, v_num=21, val_loss=0.758, val_acc_epoch=0.661]\u001b[A\n",
      "Validating: 0it [00:00, ?it/s]\u001b[A\n",
      "Epoch 51: 100%|████████████████████████████| 6/6 [00:05<00:00,  1.11it/s, loss=0.796, v_num=21, val_loss=0.758, val_acc_epoch=0.662]\u001b[A\n",
      "Epoch 52: 100%|████████████████████████████| 6/6 [00:05<00:00,  1.02it/s, loss=0.796, v_num=21, val_loss=0.758, val_acc_epoch=0.662]\u001b[A\n",
      "Validating: 0it [00:00, ?it/s]\u001b[A\n",
      "Validating:   0%|                                                                                             | 0/1 [00:00<?, ?it/s]\u001b[A"
     ]
    },
    {
     "name": "stderr",
     "output_type": "stream",
     "text": [
      "Metric val_loss improved by 0.001 >= min_delta = 0.0. New best score: 0.757\n"
     ]
    },
    {
     "name": "stdout",
     "output_type": "stream",
     "text": [
      "Epoch 52: 100%|████████████████████████████| 6/6 [00:05<00:00,  1.00it/s, loss=0.802, v_num=21, val_loss=0.757, val_acc_epoch=0.664]\n",
      "Epoch 53: 100%|████████████████████████████| 6/6 [00:04<00:00,  1.20it/s, loss=0.802, v_num=21, val_loss=0.757, val_acc_epoch=0.664]\u001b[A\n",
      "Validating: 0it [00:00, ?it/s]\u001b[A\n",
      "Validating:   0%|                                                                                             | 0/1 [00:00<?, ?it/s]\u001b[A"
     ]
    },
    {
     "name": "stderr",
     "output_type": "stream",
     "text": [
      "Metric val_loss improved by 0.002 >= min_delta = 0.0. New best score: 0.754\n"
     ]
    },
    {
     "name": "stdout",
     "output_type": "stream",
     "text": [
      "Epoch 53: 100%|█████████████████████████████| 6/6 [00:05<00:00,  1.19it/s, loss=0.81, v_num=21, val_loss=0.754, val_acc_epoch=0.664]\n",
      "Epoch 54: 100%|█████████████████████████████| 6/6 [00:04<00:00,  1.32it/s, loss=0.81, v_num=21, val_loss=0.754, val_acc_epoch=0.664]\u001b[A\n",
      "Validating: 0it [00:00, ?it/s]\u001b[A\n",
      "Validating:   0%|                                                                                             | 0/1 [00:00<?, ?it/s]\u001b[A"
     ]
    },
    {
     "name": "stderr",
     "output_type": "stream",
     "text": [
      "Metric val_loss improved by 0.001 >= min_delta = 0.0. New best score: 0.753\n"
     ]
    },
    {
     "name": "stdout",
     "output_type": "stream",
     "text": [
      "Epoch 54: 100%|████████████████████████████| 6/6 [00:04<00:00,  1.30it/s, loss=0.809, v_num=21, val_loss=0.753, val_acc_epoch=0.664]\n",
      "Epoch 55: 100%|████████████████████████████| 6/6 [00:04<00:00,  1.34it/s, loss=0.809, v_num=21, val_loss=0.753, val_acc_epoch=0.664]\u001b[A\n",
      "Validating: 0it [00:00, ?it/s]\u001b[A\n",
      "Epoch 55: 100%|████████████████████████████| 6/6 [00:04<00:00,  1.32it/s, loss=0.803, v_num=21, val_loss=0.753, val_acc_epoch=0.667]\u001b[A\n",
      "Epoch 56: 100%|████████████████████████████| 6/6 [00:04<00:00,  1.39it/s, loss=0.803, v_num=21, val_loss=0.753, val_acc_epoch=0.667]\u001b[A\n",
      "Validating: 0it [00:00, ?it/s]\u001b[A\n",
      "Validating:   0%|                                                                                             | 0/1 [00:00<?, ?it/s]\u001b[A"
     ]
    },
    {
     "name": "stderr",
     "output_type": "stream",
     "text": [
      "Metric val_loss improved by 0.001 >= min_delta = 0.0. New best score: 0.751\n"
     ]
    },
    {
     "name": "stdout",
     "output_type": "stream",
     "text": [
      "Epoch 56: 100%|████████████████████████████| 6/6 [00:04<00:00,  1.36it/s, loss=0.797, v_num=21, val_loss=0.751, val_acc_epoch=0.668]\n",
      "Epoch 57: 100%|████████████████████████████| 6/6 [00:04<00:00,  1.40it/s, loss=0.797, v_num=21, val_loss=0.751, val_acc_epoch=0.668]\u001b[A\n",
      "Validating: 0it [00:00, ?it/s]\u001b[A\n",
      "Validating:   0%|                                                                                             | 0/1 [00:00<?, ?it/s]\u001b[A"
     ]
    },
    {
     "name": "stderr",
     "output_type": "stream",
     "text": [
      "Metric val_loss improved by 0.003 >= min_delta = 0.0. New best score: 0.748\n"
     ]
    },
    {
     "name": "stdout",
     "output_type": "stream",
     "text": [
      "Epoch 57: 100%|█████████████████████████████| 6/6 [00:04<00:00,  1.38it/s, loss=0.79, v_num=21, val_loss=0.748, val_acc_epoch=0.666]\n",
      "Epoch 58: 100%|█████████████████████████████| 6/6 [00:04<00:00,  1.46it/s, loss=0.79, v_num=21, val_loss=0.748, val_acc_epoch=0.666]\u001b[A\n",
      "Validating: 0it [00:00, ?it/s]\u001b[A\n",
      "Validating:   0%|                                                                                             | 0/1 [00:00<?, ?it/s]\u001b[A"
     ]
    },
    {
     "name": "stderr",
     "output_type": "stream",
     "text": [
      "Metric val_loss improved by 0.001 >= min_delta = 0.0. New best score: 0.747\n"
     ]
    },
    {
     "name": "stdout",
     "output_type": "stream",
     "text": [
      "Epoch 58: 100%|████████████████████████████| 6/6 [00:04<00:00,  1.43it/s, loss=0.781, v_num=21, val_loss=0.747, val_acc_epoch=0.667]\n",
      "Epoch 59: 100%|████████████████████████████| 6/6 [00:04<00:00,  1.34it/s, loss=0.781, v_num=21, val_loss=0.747, val_acc_epoch=0.667]\u001b[A\n",
      "Validating: 0it [00:00, ?it/s]\u001b[A\n",
      "Validating:   0%|                                                                                             | 0/1 [00:00<?, ?it/s]\u001b[A"
     ]
    },
    {
     "name": "stderr",
     "output_type": "stream",
     "text": [
      "Metric val_loss improved by 0.001 >= min_delta = 0.0. New best score: 0.746\n"
     ]
    },
    {
     "name": "stdout",
     "output_type": "stream",
     "text": [
      "Epoch 59: 100%|████████████████████████████| 6/6 [00:04<00:00,  1.32it/s, loss=0.769, v_num=21, val_loss=0.746, val_acc_epoch=0.666]\n",
      "Epoch 60: 100%|████████████████████████████| 6/6 [00:04<00:00,  1.35it/s, loss=0.769, v_num=21, val_loss=0.746, val_acc_epoch=0.666]\u001b[A\n",
      "Validating: 0it [00:00, ?it/s]\u001b[A\n",
      "Validating:   0%|                                                                                             | 0/1 [00:00<?, ?it/s]\u001b[A"
     ]
    },
    {
     "name": "stderr",
     "output_type": "stream",
     "text": [
      "Metric val_loss improved by 0.001 >= min_delta = 0.0. New best score: 0.745\n"
     ]
    },
    {
     "name": "stdout",
     "output_type": "stream",
     "text": [
      "Epoch 60: 100%|████████████████████████████| 6/6 [00:04<00:00,  1.32it/s, loss=0.775, v_num=21, val_loss=0.745, val_acc_epoch=0.665]\n",
      "Epoch 61: 100%|████████████████████████████| 6/6 [00:04<00:00,  1.36it/s, loss=0.775, v_num=21, val_loss=0.745, val_acc_epoch=0.665]\u001b[A\n",
      "Validating: 0it [00:00, ?it/s]\u001b[A\n",
      "Validating:   0%|                                                                                             | 0/1 [00:00<?, ?it/s]\u001b[A"
     ]
    },
    {
     "name": "stderr",
     "output_type": "stream",
     "text": [
      "Metric val_loss improved by 0.000 >= min_delta = 0.0. New best score: 0.745\n"
     ]
    },
    {
     "name": "stdout",
     "output_type": "stream",
     "text": [
      "Epoch 61: 100%|████████████████████████████| 6/6 [00:04<00:00,  1.34it/s, loss=0.772, v_num=21, val_loss=0.745, val_acc_epoch=0.669]\n",
      "Epoch 62: 100%|████████████████████████████| 6/6 [00:04<00:00,  1.40it/s, loss=0.772, v_num=21, val_loss=0.745, val_acc_epoch=0.669]\u001b[A\n",
      "Validating: 0it [00:00, ?it/s]\u001b[A\n",
      "Validating:   0%|                                                                                             | 0/1 [00:00<?, ?it/s]\u001b[A"
     ]
    },
    {
     "name": "stderr",
     "output_type": "stream",
     "text": [
      "Metric val_loss improved by 0.002 >= min_delta = 0.0. New best score: 0.743\n"
     ]
    },
    {
     "name": "stdout",
     "output_type": "stream",
     "text": [
      "Epoch 62: 100%|████████████████████████████| 6/6 [00:04<00:00,  1.37it/s, loss=0.759, v_num=21, val_loss=0.743, val_acc_epoch=0.668]\n",
      "Epoch 63: 100%|████████████████████████████| 6/6 [00:04<00:00,  1.37it/s, loss=0.759, v_num=21, val_loss=0.743, val_acc_epoch=0.668]\u001b[A\n",
      "Validating: 0it [00:00, ?it/s]\u001b[A\n",
      "Validating:   0%|                                                                                             | 0/1 [00:00<?, ?it/s]\u001b[A"
     ]
    },
    {
     "name": "stderr",
     "output_type": "stream",
     "text": [
      "Metric val_loss improved by 0.002 >= min_delta = 0.0. New best score: 0.741\n"
     ]
    },
    {
     "name": "stdout",
     "output_type": "stream",
     "text": [
      "Epoch 63: 100%|████████████████████████████| 6/6 [00:04<00:00,  1.35it/s, loss=0.765, v_num=21, val_loss=0.741, val_acc_epoch=0.668]\n",
      "Epoch 64: 100%|████████████████████████████| 6/6 [00:04<00:00,  1.37it/s, loss=0.765, v_num=21, val_loss=0.741, val_acc_epoch=0.668]\u001b[A\n",
      "Validating: 0it [00:00, ?it/s]\u001b[A\n",
      "Validating:   0%|                                                                                             | 0/1 [00:00<?, ?it/s]\u001b[A"
     ]
    },
    {
     "name": "stderr",
     "output_type": "stream",
     "text": [
      "Metric val_loss improved by 0.001 >= min_delta = 0.0. New best score: 0.741\n"
     ]
    },
    {
     "name": "stdout",
     "output_type": "stream",
     "text": [
      "Epoch 64: 100%|█████████████████████████████| 6/6 [00:04<00:00,  1.34it/s, loss=0.76, v_num=21, val_loss=0.741, val_acc_epoch=0.670]\n",
      "Epoch 65: 100%|█████████████████████████████| 6/6 [00:04<00:00,  1.37it/s, loss=0.76, v_num=21, val_loss=0.741, val_acc_epoch=0.670]\u001b[A\n",
      "Validating: 0it [00:00, ?it/s]\u001b[A\n",
      "Validating:   0%|                                                                                             | 0/1 [00:00<?, ?it/s]\u001b[A"
     ]
    },
    {
     "name": "stderr",
     "output_type": "stream",
     "text": [
      "Metric val_loss improved by 0.001 >= min_delta = 0.0. New best score: 0.740\n"
     ]
    },
    {
     "name": "stdout",
     "output_type": "stream",
     "text": [
      "Epoch 65: 100%|█████████████████████████████| 6/6 [00:04<00:00,  1.35it/s, loss=0.76, v_num=21, val_loss=0.740, val_acc_epoch=0.673]\n",
      "Epoch 66: 100%|█████████████████████████████| 6/6 [00:04<00:00,  1.35it/s, loss=0.76, v_num=21, val_loss=0.740, val_acc_epoch=0.673]\u001b[A\n",
      "Validating: 0it [00:00, ?it/s]\u001b[A\n",
      "Validating:   0%|                                                                                             | 0/1 [00:00<?, ?it/s]\u001b[A"
     ]
    },
    {
     "name": "stderr",
     "output_type": "stream",
     "text": [
      "Metric val_loss improved by 0.002 >= min_delta = 0.0. New best score: 0.738\n"
     ]
    },
    {
     "name": "stdout",
     "output_type": "stream",
     "text": [
      "Epoch 66: 100%|████████████████████████████| 6/6 [00:04<00:00,  1.32it/s, loss=0.772, v_num=21, val_loss=0.738, val_acc_epoch=0.670]\n",
      "Epoch 67: 100%|████████████████████████████| 6/6 [00:04<00:00,  1.33it/s, loss=0.772, v_num=21, val_loss=0.738, val_acc_epoch=0.670]\u001b[A\n",
      "Validating: 0it [00:00, ?it/s]\u001b[A\n",
      "Validating:   0%|                                                                                             | 0/1 [00:00<?, ?it/s]\u001b[A"
     ]
    },
    {
     "name": "stderr",
     "output_type": "stream",
     "text": [
      "Metric val_loss improved by 0.000 >= min_delta = 0.0. New best score: 0.737\n"
     ]
    },
    {
     "name": "stdout",
     "output_type": "stream",
     "text": [
      "Epoch 67: 100%|████████████████████████████| 6/6 [00:04<00:00,  1.31it/s, loss=0.773, v_num=21, val_loss=0.737, val_acc_epoch=0.669]\n",
      "Epoch 68: 100%|████████████████████████████| 6/6 [00:04<00:00,  1.33it/s, loss=0.773, v_num=21, val_loss=0.737, val_acc_epoch=0.669]\u001b[A\n",
      "Validating: 0it [00:00, ?it/s]\u001b[A\n",
      "Validating:   0%|                                                                                             | 0/1 [00:00<?, ?it/s]\u001b[A"
     ]
    },
    {
     "name": "stderr",
     "output_type": "stream",
     "text": [
      "Metric val_loss improved by 0.001 >= min_delta = 0.0. New best score: 0.736\n"
     ]
    },
    {
     "name": "stdout",
     "output_type": "stream",
     "text": [
      "Epoch 68: 100%|████████████████████████████| 6/6 [00:04<00:00,  1.31it/s, loss=0.767, v_num=21, val_loss=0.736, val_acc_epoch=0.672]\n",
      "Epoch 69: 100%|████████████████████████████| 6/6 [00:04<00:00,  1.39it/s, loss=0.767, v_num=21, val_loss=0.736, val_acc_epoch=0.672]\u001b[A\n",
      "Validating: 0it [00:00, ?it/s]\u001b[A\n",
      "Epoch 69: 100%|█████████████████████████████| 6/6 [00:04<00:00,  1.37it/s, loss=0.76, v_num=21, val_loss=0.736, val_acc_epoch=0.674]\u001b[A\n",
      "Epoch 70: 100%|█████████████████████████████| 6/6 [00:04<00:00,  1.35it/s, loss=0.76, v_num=21, val_loss=0.736, val_acc_epoch=0.674]\u001b[A\n",
      "Validating: 0it [00:00, ?it/s]\u001b[A\n",
      "Validating:   0%|                                                                                             | 0/1 [00:00<?, ?it/s]\u001b[A"
     ]
    },
    {
     "name": "stderr",
     "output_type": "stream",
     "text": [
      "Metric val_loss improved by 0.002 >= min_delta = 0.0. New best score: 0.734\n"
     ]
    },
    {
     "name": "stdout",
     "output_type": "stream",
     "text": [
      "Epoch 70: 100%|████████████████████████████| 6/6 [00:04<00:00,  1.33it/s, loss=0.753, v_num=21, val_loss=0.734, val_acc_epoch=0.672]\n",
      "Epoch 71: 100%|████████████████████████████| 6/6 [00:04<00:00,  1.40it/s, loss=0.753, v_num=21, val_loss=0.734, val_acc_epoch=0.672]\u001b[A\n",
      "Validating: 0it [00:00, ?it/s]\u001b[A\n",
      "Validating:   0%|                                                                                             | 0/1 [00:00<?, ?it/s]\u001b[A"
     ]
    },
    {
     "name": "stderr",
     "output_type": "stream",
     "text": [
      "Metric val_loss improved by 0.001 >= min_delta = 0.0. New best score: 0.733\n"
     ]
    },
    {
     "name": "stdout",
     "output_type": "stream",
     "text": [
      "Epoch 71: 100%|████████████████████████████| 6/6 [00:04<00:00,  1.38it/s, loss=0.758, v_num=21, val_loss=0.733, val_acc_epoch=0.674]\n",
      "Epoch 72: 100%|████████████████████████████| 6/6 [00:04<00:00,  1.36it/s, loss=0.758, v_num=21, val_loss=0.733, val_acc_epoch=0.674]\u001b[A\n",
      "Validating: 0it [00:00, ?it/s]\u001b[A\n",
      "Epoch 72: 100%|█████████████████████████████| 6/6 [00:04<00:00,  1.34it/s, loss=0.76, v_num=21, val_loss=0.735, val_acc_epoch=0.677]\u001b[A\n",
      "Epoch 73: 100%|█████████████████████████████| 6/6 [00:04<00:00,  1.43it/s, loss=0.76, v_num=21, val_loss=0.735, val_acc_epoch=0.677]\u001b[A\n",
      "Validating: 0it [00:00, ?it/s]\u001b[A\n",
      "Validating:   0%|                                                                                             | 0/1 [00:00<?, ?it/s]\u001b[A"
     ]
    },
    {
     "name": "stderr",
     "output_type": "stream",
     "text": [
      "Metric val_loss improved by 0.001 >= min_delta = 0.0. New best score: 0.732\n"
     ]
    },
    {
     "name": "stdout",
     "output_type": "stream",
     "text": [
      "Epoch 73: 100%|████████████████████████████| 6/6 [00:04<00:00,  1.41it/s, loss=0.756, v_num=21, val_loss=0.732, val_acc_epoch=0.677]\n",
      "Epoch 74: 100%|████████████████████████████| 6/6 [00:04<00:00,  1.35it/s, loss=0.756, v_num=21, val_loss=0.732, val_acc_epoch=0.677]\u001b[A\n",
      "Validating: 0it [00:00, ?it/s]\u001b[A\n",
      "Epoch 74: 100%|████████████████████████████| 6/6 [00:04<00:00,  1.33it/s, loss=0.762, v_num=21, val_loss=0.732, val_acc_epoch=0.674]\u001b[A\n",
      "Epoch 75: 100%|████████████████████████████| 6/6 [00:04<00:00,  1.36it/s, loss=0.762, v_num=21, val_loss=0.732, val_acc_epoch=0.674]\u001b[A\n",
      "Validating: 0it [00:00, ?it/s]\u001b[A\n",
      "Validating:   0%|                                                                                             | 0/1 [00:00<?, ?it/s]\u001b[A"
     ]
    },
    {
     "name": "stderr",
     "output_type": "stream",
     "text": [
      "Metric val_loss improved by 0.001 >= min_delta = 0.0. New best score: 0.731\n"
     ]
    },
    {
     "name": "stdout",
     "output_type": "stream",
     "text": [
      "Epoch 75: 100%|████████████████████████████| 6/6 [00:04<00:00,  1.34it/s, loss=0.757, v_num=21, val_loss=0.731, val_acc_epoch=0.675]\n",
      "Epoch 76: 100%|████████████████████████████| 6/6 [00:04<00:00,  1.33it/s, loss=0.757, v_num=21, val_loss=0.731, val_acc_epoch=0.675]\u001b[A\n",
      "Validating: 0it [00:00, ?it/s]\u001b[A\n",
      "Validating:   0%|                                                                                             | 0/1 [00:00<?, ?it/s]\u001b[A"
     ]
    },
    {
     "name": "stderr",
     "output_type": "stream",
     "text": [
      "Metric val_loss improved by 0.001 >= min_delta = 0.0. New best score: 0.730\n"
     ]
    },
    {
     "name": "stdout",
     "output_type": "stream",
     "text": [
      "Epoch 76: 100%|█████████████████████████████| 6/6 [00:04<00:00,  1.31it/s, loss=0.75, v_num=21, val_loss=0.730, val_acc_epoch=0.677]\n",
      "Epoch 77: 100%|█████████████████████████████| 6/6 [00:04<00:00,  1.35it/s, loss=0.75, v_num=21, val_loss=0.730, val_acc_epoch=0.677]\u001b[A\n",
      "Validating: 0it [00:00, ?it/s]\u001b[A\n",
      "Validating:   0%|                                                                                             | 0/1 [00:00<?, ?it/s]\u001b[A"
     ]
    },
    {
     "name": "stderr",
     "output_type": "stream",
     "text": [
      "Metric val_loss improved by 0.001 >= min_delta = 0.0. New best score: 0.729\n"
     ]
    },
    {
     "name": "stdout",
     "output_type": "stream",
     "text": [
      "Epoch 77: 100%|████████████████████████████| 6/6 [00:04<00:00,  1.33it/s, loss=0.755, v_num=21, val_loss=0.729, val_acc_epoch=0.678]\n",
      "Epoch 78: 100%|████████████████████████████| 6/6 [00:04<00:00,  1.37it/s, loss=0.755, v_num=21, val_loss=0.729, val_acc_epoch=0.678]\u001b[A\n",
      "Validating: 0it [00:00, ?it/s]\u001b[A\n",
      "Validating:   0%|                                                                                             | 0/1 [00:00<?, ?it/s]\u001b[A"
     ]
    },
    {
     "name": "stderr",
     "output_type": "stream",
     "text": [
      "Metric val_loss improved by 0.002 >= min_delta = 0.0. New best score: 0.727\n"
     ]
    },
    {
     "name": "stdout",
     "output_type": "stream",
     "text": [
      "Epoch 78: 100%|████████████████████████████| 6/6 [00:04<00:00,  1.34it/s, loss=0.745, v_num=21, val_loss=0.727, val_acc_epoch=0.679]\n",
      "Epoch 79: 100%|████████████████████████████| 6/6 [00:04<00:00,  1.33it/s, loss=0.745, v_num=21, val_loss=0.727, val_acc_epoch=0.679]\u001b[A\n",
      "Validating: 0it [00:00, ?it/s]\u001b[A\n",
      "Validating:   0%|                                                                                             | 0/1 [00:00<?, ?it/s]\u001b[A"
     ]
    },
    {
     "name": "stderr",
     "output_type": "stream",
     "text": [
      "Metric val_loss improved by 0.001 >= min_delta = 0.0. New best score: 0.726\n"
     ]
    },
    {
     "name": "stdout",
     "output_type": "stream",
     "text": [
      "Epoch 79: 100%|████████████████████████████| 6/6 [00:04<00:00,  1.31it/s, loss=0.734, v_num=21, val_loss=0.726, val_acc_epoch=0.680]\n",
      "Epoch 80: 100%|████████████████████████████| 6/6 [00:04<00:00,  1.35it/s, loss=0.734, v_num=21, val_loss=0.726, val_acc_epoch=0.680]\u001b[A\n",
      "Validating: 0it [00:00, ?it/s]\u001b[A\n",
      "Validating:   0%|                                                                                             | 0/1 [00:00<?, ?it/s]\u001b[A"
     ]
    },
    {
     "name": "stderr",
     "output_type": "stream",
     "text": [
      "Metric val_loss improved by 0.001 >= min_delta = 0.0. New best score: 0.725\n"
     ]
    },
    {
     "name": "stdout",
     "output_type": "stream",
     "text": [
      "Epoch 80: 100%|████████████████████████████| 6/6 [00:04<00:00,  1.33it/s, loss=0.737, v_num=21, val_loss=0.725, val_acc_epoch=0.679]\n",
      "Epoch 81: 100%|████████████████████████████| 6/6 [00:04<00:00,  1.40it/s, loss=0.737, v_num=21, val_loss=0.725, val_acc_epoch=0.679]\u001b[A\n",
      "Validating: 0it [00:00, ?it/s]\u001b[A\n",
      "Validating:   0%|                                                                                             | 0/1 [00:00<?, ?it/s]\u001b[A"
     ]
    },
    {
     "name": "stderr",
     "output_type": "stream",
     "text": [
      "Metric val_loss improved by 0.001 >= min_delta = 0.0. New best score: 0.724\n"
     ]
    },
    {
     "name": "stdout",
     "output_type": "stream",
     "text": [
      "Epoch 81: 100%|████████████████████████████| 6/6 [00:04<00:00,  1.38it/s, loss=0.741, v_num=21, val_loss=0.724, val_acc_epoch=0.682]\n",
      "Epoch 82: 100%|████████████████████████████| 6/6 [00:04<00:00,  1.43it/s, loss=0.741, v_num=21, val_loss=0.724, val_acc_epoch=0.682]\u001b[A\n",
      "Validating: 0it [00:00, ?it/s]\u001b[A\n",
      "Validating:   0%|                                                                                             | 0/1 [00:00<?, ?it/s]\u001b[A"
     ]
    },
    {
     "name": "stderr",
     "output_type": "stream",
     "text": [
      "Metric val_loss improved by 0.001 >= min_delta = 0.0. New best score: 0.723\n"
     ]
    },
    {
     "name": "stdout",
     "output_type": "stream",
     "text": [
      "Epoch 82: 100%|█████████████████████████████| 6/6 [00:04<00:00,  1.40it/s, loss=0.75, v_num=21, val_loss=0.723, val_acc_epoch=0.682]\n",
      "Epoch 83: 100%|█████████████████████████████| 6/6 [00:04<00:00,  1.43it/s, loss=0.75, v_num=21, val_loss=0.723, val_acc_epoch=0.682]\u001b[A\n",
      "Validating: 0it [00:00, ?it/s]\u001b[A\n",
      "Validating:   0%|                                                                                             | 0/1 [00:00<?, ?it/s]\u001b[A"
     ]
    },
    {
     "name": "stderr",
     "output_type": "stream",
     "text": [
      "Metric val_loss improved by 0.001 >= min_delta = 0.0. New best score: 0.723\n"
     ]
    },
    {
     "name": "stdout",
     "output_type": "stream",
     "text": [
      "Epoch 83: 100%|████████████████████████████| 6/6 [00:04<00:00,  1.40it/s, loss=0.762, v_num=21, val_loss=0.723, val_acc_epoch=0.682]\n",
      "Epoch 84: 100%|████████████████████████████| 6/6 [00:04<00:00,  1.36it/s, loss=0.762, v_num=21, val_loss=0.723, val_acc_epoch=0.682]\u001b[A\n",
      "Validating: 0it [00:00, ?it/s]\u001b[A\n",
      "Epoch 84: 100%|████████████████████████████| 6/6 [00:04<00:00,  1.34it/s, loss=0.765, v_num=21, val_loss=0.723, val_acc_epoch=0.683]\u001b[A\n",
      "Epoch 85: 100%|████████████████████████████| 6/6 [00:04<00:00,  1.32it/s, loss=0.765, v_num=21, val_loss=0.723, val_acc_epoch=0.683]\u001b[A\n",
      "Validating: 0it [00:00, ?it/s]\u001b[A\n",
      "Validating:   0%|                                                                                             | 0/1 [00:00<?, ?it/s]\u001b[A"
     ]
    },
    {
     "name": "stderr",
     "output_type": "stream",
     "text": [
      "Metric val_loss improved by 0.000 >= min_delta = 0.0. New best score: 0.723\n"
     ]
    },
    {
     "name": "stdout",
     "output_type": "stream",
     "text": [
      "Epoch 85: 100%|████████████████████████████| 6/6 [00:04<00:00,  1.30it/s, loss=0.762, v_num=21, val_loss=0.723, val_acc_epoch=0.684]\n",
      "Epoch 86: 100%|████████████████████████████| 6/6 [00:04<00:00,  1.34it/s, loss=0.762, v_num=21, val_loss=0.723, val_acc_epoch=0.684]\u001b[A\n",
      "Validating: 0it [00:00, ?it/s]\u001b[A\n",
      "Validating:   0%|                                                                                             | 0/1 [00:00<?, ?it/s]\u001b[A"
     ]
    },
    {
     "name": "stderr",
     "output_type": "stream",
     "text": [
      "Metric val_loss improved by 0.002 >= min_delta = 0.0. New best score: 0.720\n"
     ]
    },
    {
     "name": "stdout",
     "output_type": "stream",
     "text": [
      "Epoch 86: 100%|████████████████████████████| 6/6 [00:04<00:00,  1.32it/s, loss=0.761, v_num=21, val_loss=0.720, val_acc_epoch=0.683]\n",
      "Epoch 87: 100%|████████████████████████████| 6/6 [00:04<00:00,  1.20it/s, loss=0.761, v_num=21, val_loss=0.720, val_acc_epoch=0.683]\u001b[A\n",
      "Validating: 0it [00:00, ?it/s]\u001b[A\n",
      "Validating:   0%|                                                                                             | 0/1 [00:00<?, ?it/s]\u001b[A"
     ]
    },
    {
     "name": "stderr",
     "output_type": "stream",
     "text": [
      "Metric val_loss improved by 0.001 >= min_delta = 0.0. New best score: 0.720\n"
     ]
    },
    {
     "name": "stdout",
     "output_type": "stream",
     "text": [
      "Epoch 87: 100%|████████████████████████████| 6/6 [00:05<00:00,  1.18it/s, loss=0.754, v_num=21, val_loss=0.720, val_acc_epoch=0.683]\n",
      "Epoch 88: 100%|████████████████████████████| 6/6 [00:05<00:00,  1.06it/s, loss=0.754, v_num=21, val_loss=0.720, val_acc_epoch=0.683]\u001b[A\n",
      "Validating: 0it [00:00, ?it/s]\u001b[A\n",
      "Validating:   0%|                                                                                             | 0/1 [00:00<?, ?it/s]\u001b[A\n",
      "Validating: 100%|█████████████████████████████████████████████████████████████████████████████████████| 1/1 [00:00<00:00,  9.34it/s]\u001b[A"
     ]
    },
    {
     "name": "stderr",
     "output_type": "stream",
     "text": [
      "Metric val_loss improved by 0.000 >= min_delta = 0.0. New best score: 0.720\n"
     ]
    },
    {
     "name": "stdout",
     "output_type": "stream",
     "text": [
      "Epoch 88: 100%|████████████████████████████| 6/6 [00:05<00:00,  1.04it/s, loss=0.763, v_num=21, val_loss=0.720, val_acc_epoch=0.683]\n",
      "Epoch 89: 100%|████████████████████████████| 6/6 [00:05<00:00,  1.16it/s, loss=0.763, v_num=21, val_loss=0.720, val_acc_epoch=0.683]\u001b[A\n",
      "Validating: 0it [00:00, ?it/s]\u001b[A\n",
      "Epoch 89: 100%|████████████████████████████| 6/6 [00:05<00:00,  1.14it/s, loss=0.768, v_num=21, val_loss=0.728, val_acc_epoch=0.684]\u001b[A\n",
      "Epoch 90: 100%|████████████████████████████| 6/6 [00:04<00:00,  1.44it/s, loss=0.768, v_num=21, val_loss=0.728, val_acc_epoch=0.684]\u001b[A\n",
      "Validating: 0it [00:00, ?it/s]\u001b[A\n",
      "Validating:   0%|                                                                                             | 0/1 [00:00<?, ?it/s]\u001b[A"
     ]
    },
    {
     "name": "stderr",
     "output_type": "stream",
     "text": [
      "Metric val_loss improved by 0.001 >= min_delta = 0.0. New best score: 0.719\n"
     ]
    },
    {
     "name": "stdout",
     "output_type": "stream",
     "text": [
      "Epoch 90: 100%|████████████████████████████| 6/6 [00:04<00:00,  1.42it/s, loss=0.767, v_num=21, val_loss=0.719, val_acc_epoch=0.686]\n",
      "Epoch 91: 100%|████████████████████████████| 6/6 [00:04<00:00,  1.46it/s, loss=0.767, v_num=21, val_loss=0.719, val_acc_epoch=0.686]\u001b[A\n",
      "Validating: 0it [00:00, ?it/s]\u001b[A\n",
      "Validating:   0%|                                                                                             | 0/1 [00:00<?, ?it/s]\u001b[A"
     ]
    },
    {
     "name": "stderr",
     "output_type": "stream",
     "text": [
      "Metric val_loss improved by 0.001 >= min_delta = 0.0. New best score: 0.718\n"
     ]
    },
    {
     "name": "stdout",
     "output_type": "stream",
     "text": [
      "Epoch 91: 100%|████████████████████████████| 6/6 [00:04<00:00,  1.44it/s, loss=0.773, v_num=21, val_loss=0.718, val_acc_epoch=0.685]\n",
      "Epoch 92: 100%|████████████████████████████| 6/6 [00:04<00:00,  1.43it/s, loss=0.773, v_num=21, val_loss=0.718, val_acc_epoch=0.685]\u001b[A\n",
      "Validating: 0it [00:00, ?it/s]\u001b[A\n",
      "Validating:   0%|                                                                                             | 0/1 [00:00<?, ?it/s]\u001b[A"
     ]
    },
    {
     "name": "stderr",
     "output_type": "stream",
     "text": [
      "Metric val_loss improved by 0.002 >= min_delta = 0.0. New best score: 0.716\n"
     ]
    },
    {
     "name": "stdout",
     "output_type": "stream",
     "text": [
      "Epoch 92: 100%|████████████████████████████| 6/6 [00:04<00:00,  1.40it/s, loss=0.754, v_num=21, val_loss=0.716, val_acc_epoch=0.686]\n",
      "Epoch 93: 100%|████████████████████████████| 6/6 [00:04<00:00,  1.37it/s, loss=0.754, v_num=21, val_loss=0.716, val_acc_epoch=0.686]\u001b[A\n",
      "Validating: 0it [00:00, ?it/s]\u001b[A\n",
      "Validating:   0%|                                                                                             | 0/1 [00:00<?, ?it/s]\u001b[A"
     ]
    },
    {
     "name": "stderr",
     "output_type": "stream",
     "text": [
      "Metric val_loss improved by 0.001 >= min_delta = 0.0. New best score: 0.715\n"
     ]
    },
    {
     "name": "stdout",
     "output_type": "stream",
     "text": [
      "Epoch 93: 100%|████████████████████████████| 6/6 [00:04<00:00,  1.35it/s, loss=0.752, v_num=21, val_loss=0.715, val_acc_epoch=0.686]\n",
      "Epoch 94: 100%|████████████████████████████| 6/6 [00:04<00:00,  1.33it/s, loss=0.752, v_num=21, val_loss=0.715, val_acc_epoch=0.686]\u001b[A\n",
      "Validating: 0it [00:00, ?it/s]\u001b[A\n",
      "Validating:   0%|                                                                                             | 0/1 [00:00<?, ?it/s]\u001b[A"
     ]
    },
    {
     "name": "stderr",
     "output_type": "stream",
     "text": [
      "Metric val_loss improved by 0.000 >= min_delta = 0.0. New best score: 0.715\n"
     ]
    },
    {
     "name": "stdout",
     "output_type": "stream",
     "text": [
      "Epoch 94: 100%|████████████████████████████| 6/6 [00:04<00:00,  1.31it/s, loss=0.745, v_num=21, val_loss=0.715, val_acc_epoch=0.686]\n",
      "Epoch 95: 100%|████████████████████████████| 6/6 [00:04<00:00,  1.36it/s, loss=0.745, v_num=21, val_loss=0.715, val_acc_epoch=0.686]\u001b[A\n",
      "Validating: 0it [00:00, ?it/s]\u001b[A\n",
      "Validating:   0%|                                                                                             | 0/1 [00:00<?, ?it/s]\u001b[A"
     ]
    },
    {
     "name": "stderr",
     "output_type": "stream",
     "text": [
      "Metric val_loss improved by 0.002 >= min_delta = 0.0. New best score: 0.714\n"
     ]
    },
    {
     "name": "stdout",
     "output_type": "stream",
     "text": [
      "Epoch 95: 100%|████████████████████████████| 6/6 [00:04<00:00,  1.34it/s, loss=0.747, v_num=21, val_loss=0.714, val_acc_epoch=0.686]\n",
      "Epoch 96: 100%|████████████████████████████| 6/6 [00:04<00:00,  1.38it/s, loss=0.747, v_num=21, val_loss=0.714, val_acc_epoch=0.686]\u001b[A\n",
      "Validating: 0it [00:00, ?it/s]\u001b[A\n",
      "Validating:   0%|                                                                                             | 0/1 [00:00<?, ?it/s]\u001b[A"
     ]
    },
    {
     "name": "stderr",
     "output_type": "stream",
     "text": [
      "Metric val_loss improved by 0.000 >= min_delta = 0.0. New best score: 0.713\n"
     ]
    },
    {
     "name": "stdout",
     "output_type": "stream",
     "text": [
      "Epoch 96: 100%|████████████████████████████| 6/6 [00:04<00:00,  1.35it/s, loss=0.748, v_num=21, val_loss=0.713, val_acc_epoch=0.687]\n",
      "Epoch 97: 100%|████████████████████████████| 6/6 [00:04<00:00,  1.36it/s, loss=0.748, v_num=21, val_loss=0.713, val_acc_epoch=0.687]\u001b[A\n",
      "Validating: 0it [00:00, ?it/s]\u001b[A\n",
      "Validating:   0%|                                                                                             | 0/1 [00:00<?, ?it/s]\u001b[A"
     ]
    },
    {
     "name": "stderr",
     "output_type": "stream",
     "text": [
      "Metric val_loss improved by 0.001 >= min_delta = 0.0. New best score: 0.712\n"
     ]
    },
    {
     "name": "stdout",
     "output_type": "stream",
     "text": [
      "Epoch 97: 100%|█████████████████████████████| 6/6 [00:04<00:00,  1.34it/s, loss=0.74, v_num=21, val_loss=0.712, val_acc_epoch=0.686]\n",
      "Epoch 98: 100%|█████████████████████████████| 6/6 [00:04<00:00,  1.34it/s, loss=0.74, v_num=21, val_loss=0.712, val_acc_epoch=0.686]\u001b[A\n",
      "Validating: 0it [00:00, ?it/s]\u001b[A\n",
      "Validating:   0%|                                                                                             | 0/1 [00:00<?, ?it/s]\u001b[A"
     ]
    },
    {
     "name": "stderr",
     "output_type": "stream",
     "text": [
      "Metric val_loss improved by 0.000 >= min_delta = 0.0. New best score: 0.712\n"
     ]
    },
    {
     "name": "stdout",
     "output_type": "stream",
     "text": [
      "Epoch 98: 100%|█████████████████████████████| 6/6 [00:04<00:00,  1.32it/s, loss=0.75, v_num=21, val_loss=0.712, val_acc_epoch=0.688]\n",
      "Epoch 99: 100%|█████████████████████████████| 6/6 [00:04<00:00,  1.32it/s, loss=0.75, v_num=21, val_loss=0.712, val_acc_epoch=0.688]\u001b[A\n",
      "Validating: 0it [00:00, ?it/s]\u001b[A\n",
      "Validating:   0%|                                                                                             | 0/1 [00:00<?, ?it/s]\u001b[A"
     ]
    },
    {
     "name": "stderr",
     "output_type": "stream",
     "text": [
      "Metric val_loss improved by 0.001 >= min_delta = 0.0. New best score: 0.711\n"
     ]
    },
    {
     "name": "stdout",
     "output_type": "stream",
     "text": [
      "Epoch 99: 100%|████████████████████████████| 6/6 [00:04<00:00,  1.30it/s, loss=0.746, v_num=21, val_loss=0.711, val_acc_epoch=0.688]\n",
      "Epoch 100: 100%|███████████████████████████| 6/6 [00:04<00:00,  1.32it/s, loss=0.746, v_num=21, val_loss=0.711, val_acc_epoch=0.688]\u001b[A\n",
      "Validating: 0it [00:00, ?it/s]\u001b[A\n",
      "Epoch 100: 100%|███████████████████████████| 6/6 [00:04<00:00,  1.30it/s, loss=0.752, v_num=21, val_loss=0.711, val_acc_epoch=0.690]\u001b[A\n",
      "Epoch 101: 100%|███████████████████████████| 6/6 [00:04<00:00,  1.32it/s, loss=0.752, v_num=21, val_loss=0.711, val_acc_epoch=0.690]\u001b[A\n",
      "Validating: 0it [00:00, ?it/s]\u001b[A\n",
      "Validating:   0%|                                                                                             | 0/1 [00:00<?, ?it/s]\u001b[A"
     ]
    },
    {
     "name": "stderr",
     "output_type": "stream",
     "text": [
      "Metric val_loss improved by 0.001 >= min_delta = 0.0. New best score: 0.710\n"
     ]
    },
    {
     "name": "stdout",
     "output_type": "stream",
     "text": [
      "Epoch 101: 100%|███████████████████████████| 6/6 [00:04<00:00,  1.30it/s, loss=0.752, v_num=21, val_loss=0.710, val_acc_epoch=0.690]\n",
      "Epoch 102: 100%|███████████████████████████| 6/6 [00:04<00:00,  1.35it/s, loss=0.752, v_num=21, val_loss=0.710, val_acc_epoch=0.690]\u001b[A\n",
      "Validating: 0it [00:00, ?it/s]\u001b[A\n",
      "Validating:   0%|                                                                                             | 0/1 [00:00<?, ?it/s]\u001b[A"
     ]
    },
    {
     "name": "stderr",
     "output_type": "stream",
     "text": [
      "Metric val_loss improved by 0.002 >= min_delta = 0.0. New best score: 0.708\n"
     ]
    },
    {
     "name": "stdout",
     "output_type": "stream",
     "text": [
      "Epoch 102: 100%|███████████████████████████| 6/6 [00:04<00:00,  1.33it/s, loss=0.749, v_num=21, val_loss=0.708, val_acc_epoch=0.688]\n",
      "Epoch 103: 100%|███████████████████████████| 6/6 [00:04<00:00,  1.36it/s, loss=0.749, v_num=21, val_loss=0.708, val_acc_epoch=0.688]\u001b[A\n",
      "Validating: 0it [00:00, ?it/s]\u001b[A\n",
      "Validating:   0%|                                                                                             | 0/1 [00:00<?, ?it/s]\u001b[A"
     ]
    },
    {
     "name": "stderr",
     "output_type": "stream",
     "text": [
      "Metric val_loss improved by 0.001 >= min_delta = 0.0. New best score: 0.708\n"
     ]
    },
    {
     "name": "stdout",
     "output_type": "stream",
     "text": [
      "Epoch 103: 100%|███████████████████████████| 6/6 [00:04<00:00,  1.34it/s, loss=0.748, v_num=21, val_loss=0.708, val_acc_epoch=0.689]\n",
      "Epoch 104: 100%|███████████████████████████| 6/6 [00:04<00:00,  1.37it/s, loss=0.748, v_num=21, val_loss=0.708, val_acc_epoch=0.689]\u001b[A\n",
      "Validating: 0it [00:00, ?it/s]\u001b[A\n",
      "Epoch 104: 100%|███████████████████████████| 6/6 [00:04<00:00,  1.35it/s, loss=0.749, v_num=21, val_loss=0.708, val_acc_epoch=0.691]\u001b[A\n",
      "Epoch 105: 100%|███████████████████████████| 6/6 [00:04<00:00,  1.40it/s, loss=0.749, v_num=21, val_loss=0.708, val_acc_epoch=0.691]\u001b[A\n",
      "Validating: 0it [00:00, ?it/s]\u001b[A\n",
      "Epoch 105: 100%|███████████████████████████| 6/6 [00:04<00:00,  1.38it/s, loss=0.753, v_num=21, val_loss=0.709, val_acc_epoch=0.691]\u001b[A\n",
      "Epoch 106: 100%|███████████████████████████| 6/6 [00:04<00:00,  1.44it/s, loss=0.753, v_num=21, val_loss=0.709, val_acc_epoch=0.691]\u001b[A\n",
      "Validating: 0it [00:00, ?it/s]\u001b[A\n",
      "Validating:   0%|                                                                                             | 0/1 [00:00<?, ?it/s]\u001b[A"
     ]
    },
    {
     "name": "stderr",
     "output_type": "stream",
     "text": [
      "Metric val_loss improved by 0.001 >= min_delta = 0.0. New best score: 0.706\n"
     ]
    },
    {
     "name": "stdout",
     "output_type": "stream",
     "text": [
      "Epoch 106: 100%|███████████████████████████| 6/6 [00:04<00:00,  1.41it/s, loss=0.752, v_num=21, val_loss=0.706, val_acc_epoch=0.690]\n",
      "Epoch 107: 100%|███████████████████████████| 6/6 [00:04<00:00,  1.42it/s, loss=0.752, v_num=21, val_loss=0.706, val_acc_epoch=0.690]\u001b[A\n",
      "Validating: 0it [00:00, ?it/s]\u001b[A\n",
      "Validating:   0%|                                                                                             | 0/1 [00:00<?, ?it/s]\u001b[A"
     ]
    },
    {
     "name": "stderr",
     "output_type": "stream",
     "text": [
      "Metric val_loss improved by 0.001 >= min_delta = 0.0. New best score: 0.705\n"
     ]
    },
    {
     "name": "stdout",
     "output_type": "stream",
     "text": [
      "Epoch 107: 100%|███████████████████████████| 6/6 [00:04<00:00,  1.40it/s, loss=0.745, v_num=21, val_loss=0.705, val_acc_epoch=0.689]\n",
      "Epoch 108: 100%|███████████████████████████| 6/6 [00:04<00:00,  1.39it/s, loss=0.745, v_num=21, val_loss=0.705, val_acc_epoch=0.689]\u001b[A\n",
      "Validating: 0it [00:00, ?it/s]\u001b[A\n",
      "Validating:   0%|                                                                                             | 0/1 [00:00<?, ?it/s]\u001b[A"
     ]
    },
    {
     "name": "stderr",
     "output_type": "stream",
     "text": [
      "Metric val_loss improved by 0.000 >= min_delta = 0.0. New best score: 0.705\n"
     ]
    },
    {
     "name": "stdout",
     "output_type": "stream",
     "text": [
      "Epoch 108: 100%|███████████████████████████| 6/6 [00:04<00:00,  1.37it/s, loss=0.738, v_num=21, val_loss=0.705, val_acc_epoch=0.689]\n",
      "Epoch 109: 100%|███████████████████████████| 6/6 [00:04<00:00,  1.39it/s, loss=0.738, v_num=21, val_loss=0.705, val_acc_epoch=0.689]\u001b[A\n",
      "Validating: 0it [00:00, ?it/s]\u001b[A\n",
      "Validating:   0%|                                                                                             | 0/1 [00:00<?, ?it/s]\u001b[A"
     ]
    },
    {
     "name": "stderr",
     "output_type": "stream",
     "text": [
      "Metric val_loss improved by 0.000 >= min_delta = 0.0. New best score: 0.705\n"
     ]
    },
    {
     "name": "stdout",
     "output_type": "stream",
     "text": [
      "Epoch 109: 100%|███████████████████████████| 6/6 [00:04<00:00,  1.37it/s, loss=0.727, v_num=21, val_loss=0.705, val_acc_epoch=0.691]\n",
      "Epoch 110: 100%|███████████████████████████| 6/6 [00:04<00:00,  1.37it/s, loss=0.727, v_num=21, val_loss=0.705, val_acc_epoch=0.691]\u001b[A\n",
      "Validating: 0it [00:00, ?it/s]\u001b[A\n",
      "Epoch 110: 100%|███████████████████████████| 6/6 [00:04<00:00,  1.34it/s, loss=0.723, v_num=21, val_loss=0.707, val_acc_epoch=0.693]\u001b[A\n",
      "Epoch 111: 100%|███████████████████████████| 6/6 [00:04<00:00,  1.39it/s, loss=0.723, v_num=21, val_loss=0.707, val_acc_epoch=0.693]\u001b[A\n",
      "Validating: 0it [00:00, ?it/s]\u001b[A\n",
      "Validating:   0%|                                                                                             | 0/1 [00:00<?, ?it/s]\u001b[A"
     ]
    },
    {
     "name": "stderr",
     "output_type": "stream",
     "text": [
      "Metric val_loss improved by 0.002 >= min_delta = 0.0. New best score: 0.703\n"
     ]
    },
    {
     "name": "stdout",
     "output_type": "stream",
     "text": [
      "Epoch 111: 100%|███████████████████████████| 6/6 [00:04<00:00,  1.36it/s, loss=0.733, v_num=21, val_loss=0.703, val_acc_epoch=0.692]\n",
      "Epoch 112: 100%|███████████████████████████| 6/6 [00:04<00:00,  1.34it/s, loss=0.733, v_num=21, val_loss=0.703, val_acc_epoch=0.692]\u001b[A\n",
      "Validating: 0it [00:00, ?it/s]\u001b[A\n",
      "Validating:   0%|                                                                                             | 0/1 [00:00<?, ?it/s]\u001b[A"
     ]
    },
    {
     "name": "stderr",
     "output_type": "stream",
     "text": [
      "Metric val_loss improved by 0.000 >= min_delta = 0.0. New best score: 0.703\n"
     ]
    },
    {
     "name": "stdout",
     "output_type": "stream",
     "text": [
      "Epoch 112: 100%|███████████████████████████| 6/6 [00:04<00:00,  1.31it/s, loss=0.733, v_num=21, val_loss=0.703, val_acc_epoch=0.691]\n",
      "Epoch 113: 100%|███████████████████████████| 6/6 [00:04<00:00,  1.29it/s, loss=0.733, v_num=21, val_loss=0.703, val_acc_epoch=0.691]\u001b[A\n",
      "Validating: 0it [00:00, ?it/s]\u001b[A\n",
      "Validating:   0%|                                                                                             | 0/1 [00:00<?, ?it/s]\u001b[A"
     ]
    },
    {
     "name": "stderr",
     "output_type": "stream",
     "text": [
      "Metric val_loss improved by 0.001 >= min_delta = 0.0. New best score: 0.702\n"
     ]
    },
    {
     "name": "stdout",
     "output_type": "stream",
     "text": [
      "Epoch 113: 100%|███████████████████████████| 6/6 [00:04<00:00,  1.27it/s, loss=0.745, v_num=21, val_loss=0.702, val_acc_epoch=0.692]\n",
      "Epoch 114: 100%|███████████████████████████| 6/6 [00:04<00:00,  1.33it/s, loss=0.745, v_num=21, val_loss=0.702, val_acc_epoch=0.692]\u001b[A\n",
      "Validating: 0it [00:00, ?it/s]\u001b[A\n",
      "Epoch 114: 100%|███████████████████████████| 6/6 [00:04<00:00,  1.31it/s, loss=0.745, v_num=21, val_loss=0.704, val_acc_epoch=0.694]\u001b[A\n",
      "Epoch 115: 100%|███████████████████████████| 6/6 [00:04<00:00,  1.34it/s, loss=0.745, v_num=21, val_loss=0.704, val_acc_epoch=0.694]\u001b[A\n",
      "Validating: 0it [00:00, ?it/s]\u001b[A\n",
      "Validating:   0%|                                                                                             | 0/1 [00:00<?, ?it/s]\u001b[A"
     ]
    },
    {
     "name": "stderr",
     "output_type": "stream",
     "text": [
      "Metric val_loss improved by 0.000 >= min_delta = 0.0. New best score: 0.702\n"
     ]
    },
    {
     "name": "stdout",
     "output_type": "stream",
     "text": [
      "Epoch 115: 100%|███████████████████████████| 6/6 [00:04<00:00,  1.32it/s, loss=0.736, v_num=21, val_loss=0.702, val_acc_epoch=0.692]\n",
      "Epoch 116: 100%|███████████████████████████| 6/6 [00:04<00:00,  1.36it/s, loss=0.736, v_num=21, val_loss=0.702, val_acc_epoch=0.692]\u001b[A\n",
      "Validating: 0it [00:00, ?it/s]\u001b[A\n",
      "Validating:   0%|                                                                                             | 0/1 [00:00<?, ?it/s]\u001b[A"
     ]
    },
    {
     "name": "stderr",
     "output_type": "stream",
     "text": [
      "Metric val_loss improved by 0.001 >= min_delta = 0.0. New best score: 0.701\n"
     ]
    },
    {
     "name": "stdout",
     "output_type": "stream",
     "text": [
      "Epoch 116: 100%|███████████████████████████| 6/6 [00:04<00:00,  1.34it/s, loss=0.721, v_num=21, val_loss=0.701, val_acc_epoch=0.691]\n",
      "Epoch 117: 100%|███████████████████████████| 6/6 [00:04<00:00,  1.35it/s, loss=0.721, v_num=21, val_loss=0.701, val_acc_epoch=0.691]\u001b[A\n",
      "Validating: 0it [00:00, ?it/s]\u001b[A\n",
      "Validating:   0%|                                                                                             | 0/1 [00:00<?, ?it/s]\u001b[A"
     ]
    },
    {
     "name": "stderr",
     "output_type": "stream",
     "text": [
      "Metric val_loss improved by 0.001 >= min_delta = 0.0. New best score: 0.700\n"
     ]
    },
    {
     "name": "stdout",
     "output_type": "stream",
     "text": [
      "Epoch 117: 100%|███████████████████████████| 6/6 [00:04<00:00,  1.32it/s, loss=0.715, v_num=21, val_loss=0.700, val_acc_epoch=0.692]\n",
      "Epoch 118: 100%|███████████████████████████| 6/6 [00:04<00:00,  1.32it/s, loss=0.715, v_num=21, val_loss=0.700, val_acc_epoch=0.692]\u001b[A\n",
      "Validating: 0it [00:00, ?it/s]\u001b[A\n",
      "Validating:   0%|                                                                                             | 0/1 [00:00<?, ?it/s]\u001b[A"
     ]
    },
    {
     "name": "stderr",
     "output_type": "stream",
     "text": [
      "Metric val_loss improved by 0.001 >= min_delta = 0.0. New best score: 0.699\n"
     ]
    },
    {
     "name": "stdout",
     "output_type": "stream",
     "text": [
      "Epoch 118: 100%|███████████████████████████| 6/6 [00:04<00:00,  1.30it/s, loss=0.723, v_num=21, val_loss=0.699, val_acc_epoch=0.694]\n",
      "Epoch 119: 100%|███████████████████████████| 6/6 [00:04<00:00,  1.40it/s, loss=0.723, v_num=21, val_loss=0.699, val_acc_epoch=0.694]\u001b[A\n",
      "Validating: 0it [00:00, ?it/s]\u001b[A\n",
      "Epoch 119: 100%|███████████████████████████| 6/6 [00:04<00:00,  1.38it/s, loss=0.728, v_num=21, val_loss=0.705, val_acc_epoch=0.695]\u001b[A\n",
      "Epoch 120: 100%|███████████████████████████| 6/6 [00:04<00:00,  1.29it/s, loss=0.728, v_num=21, val_loss=0.705, val_acc_epoch=0.695]\u001b[A\n",
      "Validating: 0it [00:00, ?it/s]\u001b[A\n",
      "Validating:   0%|                                                                                             | 0/1 [00:00<?, ?it/s]\u001b[A"
     ]
    },
    {
     "name": "stderr",
     "output_type": "stream",
     "text": [
      "Metric val_loss improved by 0.000 >= min_delta = 0.0. New best score: 0.699\n"
     ]
    },
    {
     "name": "stdout",
     "output_type": "stream",
     "text": [
      "Epoch 120: 100%|███████████████████████████| 6/6 [00:04<00:00,  1.27it/s, loss=0.738, v_num=21, val_loss=0.699, val_acc_epoch=0.694]\n",
      "Epoch 121: 100%|███████████████████████████| 6/6 [00:04<00:00,  1.44it/s, loss=0.738, v_num=21, val_loss=0.699, val_acc_epoch=0.694]\u001b[A\n",
      "Validating: 0it [00:00, ?it/s]\u001b[A\n",
      "Validating:   0%|                                                                                             | 0/1 [00:00<?, ?it/s]\u001b[A"
     ]
    },
    {
     "name": "stderr",
     "output_type": "stream",
     "text": [
      "Metric val_loss improved by 0.000 >= min_delta = 0.0. New best score: 0.699\n"
     ]
    },
    {
     "name": "stdout",
     "output_type": "stream",
     "text": [
      "Epoch 121: 100%|███████████████████████████| 6/6 [00:04<00:00,  1.42it/s, loss=0.741, v_num=21, val_loss=0.699, val_acc_epoch=0.693]\n",
      "Epoch 122: 100%|███████████████████████████| 6/6 [00:04<00:00,  1.40it/s, loss=0.741, v_num=21, val_loss=0.699, val_acc_epoch=0.693]\u001b[A\n",
      "Validating: 0it [00:00, ?it/s]\u001b[A\n",
      "Validating:   0%|                                                                                             | 0/1 [00:00<?, ?it/s]\u001b[A"
     ]
    },
    {
     "name": "stderr",
     "output_type": "stream",
     "text": [
      "Metric val_loss improved by 0.001 >= min_delta = 0.0. New best score: 0.698\n"
     ]
    },
    {
     "name": "stdout",
     "output_type": "stream",
     "text": [
      "Epoch 122: 100%|████████████████████████████| 6/6 [00:04<00:00,  1.38it/s, loss=0.73, v_num=21, val_loss=0.698, val_acc_epoch=0.695]\n",
      "Epoch 123: 100%|████████████████████████████| 6/6 [00:04<00:00,  1.36it/s, loss=0.73, v_num=21, val_loss=0.698, val_acc_epoch=0.695]\u001b[A\n",
      "Validating: 0it [00:00, ?it/s]\u001b[A\n",
      "Validating:   0%|                                                                                             | 0/1 [00:00<?, ?it/s]\u001b[A"
     ]
    },
    {
     "name": "stderr",
     "output_type": "stream",
     "text": [
      "Metric val_loss improved by 0.000 >= min_delta = 0.0. New best score: 0.698\n"
     ]
    },
    {
     "name": "stdout",
     "output_type": "stream",
     "text": [
      "Epoch 123: 100%|███████████████████████████| 6/6 [00:04<00:00,  1.34it/s, loss=0.728, v_num=21, val_loss=0.698, val_acc_epoch=0.697]\n",
      "Epoch 124: 100%|███████████████████████████| 6/6 [00:04<00:00,  1.34it/s, loss=0.728, v_num=21, val_loss=0.698, val_acc_epoch=0.697]\u001b[A\n",
      "Validating: 0it [00:00, ?it/s]\u001b[A\n",
      "Validating:   0%|                                                                                             | 0/1 [00:00<?, ?it/s]\u001b[A"
     ]
    },
    {
     "name": "stderr",
     "output_type": "stream",
     "text": [
      "Metric val_loss improved by 0.002 >= min_delta = 0.0. New best score: 0.696\n"
     ]
    },
    {
     "name": "stdout",
     "output_type": "stream",
     "text": [
      "Epoch 124: 100%|███████████████████████████| 6/6 [00:04<00:00,  1.32it/s, loss=0.718, v_num=21, val_loss=0.696, val_acc_epoch=0.697]\n",
      "Epoch 125: 100%|███████████████████████████| 6/6 [00:04<00:00,  1.43it/s, loss=0.718, v_num=21, val_loss=0.696, val_acc_epoch=0.697]\u001b[A\n",
      "Validating: 0it [00:00, ?it/s]\u001b[A\n",
      "Validating:   0%|                                                                                             | 0/1 [00:00<?, ?it/s]\u001b[A"
     ]
    },
    {
     "name": "stderr",
     "output_type": "stream",
     "text": [
      "Metric val_loss improved by 0.000 >= min_delta = 0.0. New best score: 0.695\n"
     ]
    },
    {
     "name": "stdout",
     "output_type": "stream",
     "text": [
      "Epoch 125: 100%|███████████████████████████| 6/6 [00:04<00:00,  1.41it/s, loss=0.723, v_num=21, val_loss=0.695, val_acc_epoch=0.696]\n",
      "Epoch 126: 100%|███████████████████████████| 6/6 [00:04<00:00,  1.41it/s, loss=0.723, v_num=21, val_loss=0.695, val_acc_epoch=0.696]\u001b[A\n",
      "Validating: 0it [00:00, ?it/s]\u001b[A\n",
      "Epoch 126: 100%|███████████████████████████| 6/6 [00:04<00:00,  1.39it/s, loss=0.724, v_num=21, val_loss=0.696, val_acc_epoch=0.697]\u001b[A\n",
      "Epoch 127: 100%|███████████████████████████| 6/6 [00:04<00:00,  1.37it/s, loss=0.724, v_num=21, val_loss=0.696, val_acc_epoch=0.697]\u001b[A\n",
      "Validating: 0it [00:00, ?it/s]\u001b[A\n",
      "Validating:   0%|                                                                                             | 0/1 [00:00<?, ?it/s]\u001b[A"
     ]
    },
    {
     "name": "stderr",
     "output_type": "stream",
     "text": [
      "Metric val_loss improved by 0.001 >= min_delta = 0.0. New best score: 0.695\n"
     ]
    },
    {
     "name": "stdout",
     "output_type": "stream",
     "text": [
      "Epoch 127: 100%|███████████████████████████| 6/6 [00:04<00:00,  1.35it/s, loss=0.721, v_num=21, val_loss=0.695, val_acc_epoch=0.696]\n",
      "Epoch 128: 100%|███████████████████████████| 6/6 [00:04<00:00,  1.38it/s, loss=0.721, v_num=21, val_loss=0.695, val_acc_epoch=0.696]\u001b[A\n",
      "Validating: 0it [00:00, ?it/s]\u001b[A\n",
      "Validating:   0%|                                                                                             | 0/1 [00:00<?, ?it/s]\u001b[A"
     ]
    },
    {
     "name": "stderr",
     "output_type": "stream",
     "text": [
      "Metric val_loss improved by 0.000 >= min_delta = 0.0. New best score: 0.694\n"
     ]
    },
    {
     "name": "stdout",
     "output_type": "stream",
     "text": [
      "Epoch 128: 100%|███████████████████████████| 6/6 [00:04<00:00,  1.36it/s, loss=0.728, v_num=21, val_loss=0.694, val_acc_epoch=0.695]\n",
      "Epoch 129: 100%|███████████████████████████| 6/6 [00:04<00:00,  1.43it/s, loss=0.728, v_num=21, val_loss=0.694, val_acc_epoch=0.695]\u001b[A\n",
      "Validating: 0it [00:00, ?it/s]\u001b[A\n",
      "Validating:   0%|                                                                                             | 0/1 [00:00<?, ?it/s]\u001b[A"
     ]
    },
    {
     "name": "stderr",
     "output_type": "stream",
     "text": [
      "Metric val_loss improved by 0.001 >= min_delta = 0.0. New best score: 0.694\n"
     ]
    },
    {
     "name": "stdout",
     "output_type": "stream",
     "text": [
      "Epoch 129: 100%|███████████████████████████| 6/6 [00:04<00:00,  1.41it/s, loss=0.719, v_num=21, val_loss=0.694, val_acc_epoch=0.696]\n",
      "Epoch 130: 100%|███████████████████████████| 6/6 [00:04<00:00,  1.35it/s, loss=0.719, v_num=21, val_loss=0.694, val_acc_epoch=0.696]\u001b[A\n",
      "Validating: 0it [00:00, ?it/s]\u001b[A\n",
      "Validating:   0%|                                                                                             | 0/1 [00:00<?, ?it/s]\u001b[A"
     ]
    },
    {
     "name": "stderr",
     "output_type": "stream",
     "text": [
      "Metric val_loss improved by 0.001 >= min_delta = 0.0. New best score: 0.693\n"
     ]
    },
    {
     "name": "stdout",
     "output_type": "stream",
     "text": [
      "Epoch 130: 100%|███████████████████████████| 6/6 [00:04<00:00,  1.33it/s, loss=0.712, v_num=21, val_loss=0.693, val_acc_epoch=0.697]\n",
      "Epoch 131: 100%|███████████████████████████| 6/6 [00:04<00:00,  1.41it/s, loss=0.712, v_num=21, val_loss=0.693, val_acc_epoch=0.697]\u001b[A\n",
      "Validating: 0it [00:00, ?it/s]\u001b[A\n",
      "Validating:   0%|                                                                                             | 0/1 [00:00<?, ?it/s]\u001b[A"
     ]
    },
    {
     "name": "stderr",
     "output_type": "stream",
     "text": [
      "Metric val_loss improved by 0.000 >= min_delta = 0.0. New best score: 0.693\n"
     ]
    },
    {
     "name": "stdout",
     "output_type": "stream",
     "text": [
      "Epoch 131: 100%|███████████████████████████| 6/6 [00:04<00:00,  1.39it/s, loss=0.715, v_num=21, val_loss=0.693, val_acc_epoch=0.699]\n",
      "Epoch 132: 100%|███████████████████████████| 6/6 [00:04<00:00,  1.36it/s, loss=0.715, v_num=21, val_loss=0.693, val_acc_epoch=0.699]\u001b[A\n",
      "Validating: 0it [00:00, ?it/s]\u001b[A\n",
      "Validating:   0%|                                                                                             | 0/1 [00:00<?, ?it/s]\u001b[A"
     ]
    },
    {
     "name": "stderr",
     "output_type": "stream",
     "text": [
      "Metric val_loss improved by 0.001 >= min_delta = 0.0. New best score: 0.692\n"
     ]
    },
    {
     "name": "stdout",
     "output_type": "stream",
     "text": [
      "Epoch 132: 100%|███████████████████████████| 6/6 [00:04<00:00,  1.34it/s, loss=0.711, v_num=21, val_loss=0.692, val_acc_epoch=0.698]\n",
      "Epoch 133: 100%|███████████████████████████| 6/6 [00:04<00:00,  1.35it/s, loss=0.711, v_num=21, val_loss=0.692, val_acc_epoch=0.698]\u001b[A\n",
      "Validating: 0it [00:00, ?it/s]\u001b[A\n",
      "Validating:   0%|                                                                                             | 0/1 [00:00<?, ?it/s]\u001b[A"
     ]
    },
    {
     "name": "stderr",
     "output_type": "stream",
     "text": [
      "Metric val_loss improved by 0.001 >= min_delta = 0.0. New best score: 0.691\n"
     ]
    },
    {
     "name": "stdout",
     "output_type": "stream",
     "text": [
      "Epoch 133: 100%|███████████████████████████| 6/6 [00:04<00:00,  1.33it/s, loss=0.709, v_num=21, val_loss=0.691, val_acc_epoch=0.698]\n",
      "Epoch 134: 100%|███████████████████████████| 6/6 [00:04<00:00,  1.37it/s, loss=0.709, v_num=21, val_loss=0.691, val_acc_epoch=0.698]\u001b[A\n",
      "Validating: 0it [00:00, ?it/s]\u001b[A\n",
      "Validating:   0%|                                                                                             | 0/1 [00:00<?, ?it/s]\u001b[A"
     ]
    },
    {
     "name": "stderr",
     "output_type": "stream",
     "text": [
      "Metric val_loss improved by 0.001 >= min_delta = 0.0. New best score: 0.690\n"
     ]
    },
    {
     "name": "stdout",
     "output_type": "stream",
     "text": [
      "Epoch 134: 100%|███████████████████████████| 6/6 [00:04<00:00,  1.35it/s, loss=0.715, v_num=21, val_loss=0.690, val_acc_epoch=0.698]\n",
      "Epoch 135: 100%|███████████████████████████| 6/6 [00:04<00:00,  1.40it/s, loss=0.715, v_num=21, val_loss=0.690, val_acc_epoch=0.698]\u001b[A\n",
      "Validating: 0it [00:00, ?it/s]\u001b[A\n",
      "Validating:   0%|                                                                                             | 0/1 [00:00<?, ?it/s]\u001b[A"
     ]
    },
    {
     "name": "stderr",
     "output_type": "stream",
     "text": [
      "Metric val_loss improved by 0.001 >= min_delta = 0.0. New best score: 0.690\n"
     ]
    },
    {
     "name": "stdout",
     "output_type": "stream",
     "text": [
      "Epoch 135: 100%|███████████████████████████| 6/6 [00:04<00:00,  1.38it/s, loss=0.707, v_num=21, val_loss=0.690, val_acc_epoch=0.701]\n",
      "Epoch 136: 100%|███████████████████████████| 6/6 [00:04<00:00,  1.32it/s, loss=0.707, v_num=21, val_loss=0.690, val_acc_epoch=0.701]\u001b[A\n",
      "Validating: 0it [00:00, ?it/s]\u001b[A\n",
      "Validating:   0%|                                                                                             | 0/1 [00:00<?, ?it/s]\u001b[A"
     ]
    },
    {
     "name": "stderr",
     "output_type": "stream",
     "text": [
      "Metric val_loss improved by 0.000 >= min_delta = 0.0. New best score: 0.689\n"
     ]
    },
    {
     "name": "stdout",
     "output_type": "stream",
     "text": [
      "Epoch 136: 100%|███████████████████████████| 6/6 [00:04<00:00,  1.30it/s, loss=0.695, v_num=21, val_loss=0.689, val_acc_epoch=0.700]\n",
      "Epoch 137: 100%|███████████████████████████| 6/6 [00:04<00:00,  1.44it/s, loss=0.695, v_num=21, val_loss=0.689, val_acc_epoch=0.700]\u001b[A\n",
      "Validating: 0it [00:00, ?it/s]\u001b[A\n",
      "Validating:   0%|                                                                                             | 0/1 [00:00<?, ?it/s]\u001b[A"
     ]
    },
    {
     "name": "stderr",
     "output_type": "stream",
     "text": [
      "Metric val_loss improved by 0.000 >= min_delta = 0.0. New best score: 0.689\n"
     ]
    },
    {
     "name": "stdout",
     "output_type": "stream",
     "text": [
      "Epoch 137: 100%|███████████████████████████| 6/6 [00:04<00:00,  1.41it/s, loss=0.697, v_num=21, val_loss=0.689, val_acc_epoch=0.698]\n",
      "Epoch 138: 100%|███████████████████████████| 6/6 [00:04<00:00,  1.40it/s, loss=0.697, v_num=21, val_loss=0.689, val_acc_epoch=0.698]\u001b[A\n",
      "Validating: 0it [00:00, ?it/s]\u001b[A\n",
      "Validating:   0%|                                                                                             | 0/1 [00:00<?, ?it/s]\u001b[A"
     ]
    },
    {
     "name": "stderr",
     "output_type": "stream",
     "text": [
      "Metric val_loss improved by 0.000 >= min_delta = 0.0. New best score: 0.689\n"
     ]
    },
    {
     "name": "stdout",
     "output_type": "stream",
     "text": [
      "Epoch 138: 100%|███████████████████████████| 6/6 [00:04<00:00,  1.38it/s, loss=0.685, v_num=21, val_loss=0.689, val_acc_epoch=0.701]\n",
      "Epoch 139: 100%|███████████████████████████| 6/6 [00:04<00:00,  1.35it/s, loss=0.685, v_num=21, val_loss=0.689, val_acc_epoch=0.701]\u001b[A\n",
      "Validating: 0it [00:00, ?it/s]\u001b[A\n",
      "Validating:   0%|                                                                                             | 0/1 [00:00<?, ?it/s]\u001b[A"
     ]
    },
    {
     "name": "stderr",
     "output_type": "stream",
     "text": [
      "Metric val_loss improved by 0.000 >= min_delta = 0.0. New best score: 0.689\n"
     ]
    },
    {
     "name": "stdout",
     "output_type": "stream",
     "text": [
      "Epoch 139: 100%|███████████████████████████| 6/6 [00:04<00:00,  1.33it/s, loss=0.691, v_num=21, val_loss=0.689, val_acc_epoch=0.700]\n",
      "Epoch 140: 100%|███████████████████████████| 6/6 [00:04<00:00,  1.35it/s, loss=0.691, v_num=21, val_loss=0.689, val_acc_epoch=0.700]\u001b[A\n",
      "Validating: 0it [00:00, ?it/s]\u001b[A\n",
      "Validating:   0%|                                                                                             | 0/1 [00:00<?, ?it/s]\u001b[A"
     ]
    },
    {
     "name": "stderr",
     "output_type": "stream",
     "text": [
      "Metric val_loss improved by 0.001 >= min_delta = 0.0. New best score: 0.688\n"
     ]
    },
    {
     "name": "stdout",
     "output_type": "stream",
     "text": [
      "Epoch 140: 100%|███████████████████████████| 6/6 [00:04<00:00,  1.33it/s, loss=0.702, v_num=21, val_loss=0.688, val_acc_epoch=0.699]\n",
      "Epoch 141: 100%|███████████████████████████| 6/6 [00:04<00:00,  1.35it/s, loss=0.702, v_num=21, val_loss=0.688, val_acc_epoch=0.699]\u001b[A\n",
      "Validating: 0it [00:00, ?it/s]\u001b[A\n",
      "Validating:   0%|                                                                                             | 0/1 [00:00<?, ?it/s]\u001b[A"
     ]
    },
    {
     "name": "stderr",
     "output_type": "stream",
     "text": [
      "Metric val_loss improved by 0.000 >= min_delta = 0.0. New best score: 0.688\n"
     ]
    },
    {
     "name": "stdout",
     "output_type": "stream",
     "text": [
      "Epoch 141: 100%|███████████████████████████| 6/6 [00:04<00:00,  1.33it/s, loss=0.703, v_num=21, val_loss=0.688, val_acc_epoch=0.696]\n",
      "Epoch 142: 100%|███████████████████████████| 6/6 [00:04<00:00,  1.35it/s, loss=0.703, v_num=21, val_loss=0.688, val_acc_epoch=0.696]\u001b[A\n",
      "Validating: 0it [00:00, ?it/s]\u001b[A\n",
      "Validating:   0%|                                                                                             | 0/1 [00:00<?, ?it/s]\u001b[A"
     ]
    },
    {
     "name": "stderr",
     "output_type": "stream",
     "text": [
      "Metric val_loss improved by 0.001 >= min_delta = 0.0. New best score: 0.686\n"
     ]
    },
    {
     "name": "stdout",
     "output_type": "stream",
     "text": [
      "Epoch 142: 100%|███████████████████████████| 6/6 [00:04<00:00,  1.32it/s, loss=0.711, v_num=21, val_loss=0.686, val_acc_epoch=0.702]\n",
      "Epoch 143: 100%|███████████████████████████| 6/6 [00:04<00:00,  1.36it/s, loss=0.711, v_num=21, val_loss=0.686, val_acc_epoch=0.702]\u001b[A\n",
      "Validating: 0it [00:00, ?it/s]\u001b[A\n",
      "Epoch 143: 100%|███████████████████████████| 6/6 [00:04<00:00,  1.34it/s, loss=0.714, v_num=21, val_loss=0.688, val_acc_epoch=0.702]\u001b[A\n",
      "Epoch 144: 100%|███████████████████████████| 6/6 [00:04<00:00,  1.35it/s, loss=0.714, v_num=21, val_loss=0.688, val_acc_epoch=0.702]\u001b[A\n",
      "Validating: 0it [00:00, ?it/s]\u001b[A\n",
      "Epoch 144: 100%|███████████████████████████| 6/6 [00:04<00:00,  1.33it/s, loss=0.726, v_num=21, val_loss=0.686, val_acc_epoch=0.704]\u001b[A\n",
      "Epoch 145: 100%|███████████████████████████| 6/6 [00:04<00:00,  1.38it/s, loss=0.726, v_num=21, val_loss=0.686, val_acc_epoch=0.704]\u001b[A\n",
      "Validating: 0it [00:00, ?it/s]\u001b[A\n",
      "Validating:   0%|                                                                                             | 0/1 [00:00<?, ?it/s]\u001b[A"
     ]
    },
    {
     "name": "stderr",
     "output_type": "stream",
     "text": [
      "Metric val_loss improved by 0.002 >= min_delta = 0.0. New best score: 0.685\n"
     ]
    },
    {
     "name": "stdout",
     "output_type": "stream",
     "text": [
      "Epoch 145: 100%|███████████████████████████| 6/6 [00:04<00:00,  1.36it/s, loss=0.718, v_num=21, val_loss=0.685, val_acc_epoch=0.704]\n",
      "Epoch 146: 100%|███████████████████████████| 6/6 [00:04<00:00,  1.32it/s, loss=0.718, v_num=21, val_loss=0.685, val_acc_epoch=0.704]\u001b[A\n",
      "Validating: 0it [00:00, ?it/s]\u001b[A\n",
      "Validating:   0%|                                                                                             | 0/1 [00:00<?, ?it/s]\u001b[A"
     ]
    },
    {
     "name": "stderr",
     "output_type": "stream",
     "text": [
      "Metric val_loss improved by 0.001 >= min_delta = 0.0. New best score: 0.684\n"
     ]
    },
    {
     "name": "stdout",
     "output_type": "stream",
     "text": [
      "Epoch 146: 100%|███████████████████████████| 6/6 [00:04<00:00,  1.30it/s, loss=0.719, v_num=21, val_loss=0.684, val_acc_epoch=0.701]\n",
      "Epoch 147: 100%|███████████████████████████| 6/6 [00:04<00:00,  1.40it/s, loss=0.719, v_num=21, val_loss=0.684, val_acc_epoch=0.701]\u001b[A\n",
      "Validating: 0it [00:00, ?it/s]\u001b[A\n",
      "Validating:   0%|                                                                                             | 0/1 [00:00<?, ?it/s]\u001b[A"
     ]
    },
    {
     "name": "stderr",
     "output_type": "stream",
     "text": [
      "Metric val_loss improved by 0.001 >= min_delta = 0.0. New best score: 0.683\n"
     ]
    },
    {
     "name": "stdout",
     "output_type": "stream",
     "text": [
      "Epoch 147: 100%|███████████████████████████| 6/6 [00:04<00:00,  1.38it/s, loss=0.714, v_num=21, val_loss=0.683, val_acc_epoch=0.703]\n",
      "Epoch 148: 100%|███████████████████████████| 6/6 [00:04<00:00,  1.30it/s, loss=0.714, v_num=21, val_loss=0.683, val_acc_epoch=0.703]\u001b[A\n",
      "Validating: 0it [00:00, ?it/s]\u001b[A\n",
      "Validating:   0%|                                                                                             | 0/1 [00:00<?, ?it/s]\u001b[A"
     ]
    },
    {
     "name": "stderr",
     "output_type": "stream",
     "text": [
      "Metric val_loss improved by 0.000 >= min_delta = 0.0. New best score: 0.683\n"
     ]
    },
    {
     "name": "stdout",
     "output_type": "stream",
     "text": [
      "Epoch 148: 100%|███████████████████████████| 6/6 [00:04<00:00,  1.29it/s, loss=0.712, v_num=21, val_loss=0.683, val_acc_epoch=0.703]\n",
      "Epoch 149: 100%|███████████████████████████| 6/6 [00:04<00:00,  1.42it/s, loss=0.712, v_num=21, val_loss=0.683, val_acc_epoch=0.703]\u001b[A\n",
      "Validating: 0it [00:00, ?it/s]\u001b[A\n",
      "Epoch 149: 100%|███████████████████████████| 6/6 [00:04<00:00,  1.39it/s, loss=0.716, v_num=21, val_loss=0.683, val_acc_epoch=0.703]\u001b[A\n",
      "Epoch 150: 100%|███████████████████████████| 6/6 [00:04<00:00,  1.31it/s, loss=0.716, v_num=21, val_loss=0.683, val_acc_epoch=0.703]\u001b[A\n",
      "Validating: 0it [00:00, ?it/s]\u001b[A\n",
      "Validating:   0%|                                                                                             | 0/1 [00:00<?, ?it/s]\u001b[A"
     ]
    },
    {
     "name": "stderr",
     "output_type": "stream",
     "text": [
      "Metric val_loss improved by 0.001 >= min_delta = 0.0. New best score: 0.682\n"
     ]
    },
    {
     "name": "stdout",
     "output_type": "stream",
     "text": [
      "Epoch 150: 100%|███████████████████████████| 6/6 [00:04<00:00,  1.29it/s, loss=0.712, v_num=21, val_loss=0.682, val_acc_epoch=0.703]\n",
      "Epoch 151: 100%|███████████████████████████| 6/6 [00:04<00:00,  1.32it/s, loss=0.712, v_num=21, val_loss=0.682, val_acc_epoch=0.703]\u001b[A\n",
      "Validating: 0it [00:00, ?it/s]\u001b[A\n",
      "Epoch 151: 100%|███████████████████████████| 6/6 [00:04<00:00,  1.30it/s, loss=0.709, v_num=21, val_loss=0.683, val_acc_epoch=0.701]\u001b[A\n",
      "Epoch 152: 100%|███████████████████████████| 6/6 [00:04<00:00,  1.44it/s, loss=0.709, v_num=21, val_loss=0.683, val_acc_epoch=0.701]\u001b[A\n",
      "Validating: 0it [00:00, ?it/s]\u001b[A\n",
      "Epoch 152: 100%|█████████████████████████████| 6/6 [00:04<00:00,  1.41it/s, loss=0.7, v_num=21, val_loss=0.682, val_acc_epoch=0.703]\u001b[A\n",
      "Epoch 153: 100%|█████████████████████████████| 6/6 [00:04<00:00,  1.33it/s, loss=0.7, v_num=21, val_loss=0.682, val_acc_epoch=0.703]\u001b[A\n",
      "Validating: 0it [00:00, ?it/s]\u001b[A\n",
      "Validating:   0%|                                                                                             | 0/1 [00:00<?, ?it/s]\u001b[A"
     ]
    },
    {
     "name": "stderr",
     "output_type": "stream",
     "text": [
      "Metric val_loss improved by 0.001 >= min_delta = 0.0. New best score: 0.681\n"
     ]
    },
    {
     "name": "stdout",
     "output_type": "stream",
     "text": [
      "Epoch 153: 100%|███████████████████████████| 6/6 [00:04<00:00,  1.31it/s, loss=0.695, v_num=21, val_loss=0.681, val_acc_epoch=0.703]\n",
      "Epoch 154: 100%|███████████████████████████| 6/6 [00:04<00:00,  1.42it/s, loss=0.695, v_num=21, val_loss=0.681, val_acc_epoch=0.703]\u001b[A\n",
      "Validating: 0it [00:00, ?it/s]\u001b[A\n",
      "Validating:   0%|                                                                                             | 0/1 [00:00<?, ?it/s]\u001b[A"
     ]
    },
    {
     "name": "stderr",
     "output_type": "stream",
     "text": [
      "Metric val_loss improved by 0.001 >= min_delta = 0.0. New best score: 0.680\n"
     ]
    },
    {
     "name": "stdout",
     "output_type": "stream",
     "text": [
      "Epoch 154: 100%|███████████████████████████| 6/6 [00:04<00:00,  1.39it/s, loss=0.698, v_num=21, val_loss=0.680, val_acc_epoch=0.706]\n",
      "Epoch 155: 100%|███████████████████████████| 6/6 [00:04<00:00,  1.32it/s, loss=0.698, v_num=21, val_loss=0.680, val_acc_epoch=0.706]\u001b[A\n",
      "Validating: 0it [00:00, ?it/s]\u001b[A\n",
      "Epoch 155: 100%|███████████████████████████| 6/6 [00:04<00:00,  1.30it/s, loss=0.696, v_num=21, val_loss=0.681, val_acc_epoch=0.706]\u001b[A\n",
      "Epoch 156: 100%|███████████████████████████| 6/6 [00:04<00:00,  1.38it/s, loss=0.696, v_num=21, val_loss=0.681, val_acc_epoch=0.706]\u001b[A\n",
      "Validating: 0it [00:00, ?it/s]\u001b[A\n",
      "Epoch 156: 100%|█████████████████████████████| 6/6 [00:04<00:00,  1.36it/s, loss=0.7, v_num=21, val_loss=0.681, val_acc_epoch=0.702]\u001b[A\n",
      "Epoch 157: 100%|█████████████████████████████| 6/6 [00:04<00:00,  1.34it/s, loss=0.7, v_num=21, val_loss=0.681, val_acc_epoch=0.702]\u001b[A\n",
      "Validating: 0it [00:00, ?it/s]\u001b[A\n",
      "Validating:   0%|                                                                                             | 0/1 [00:00<?, ?it/s]\u001b[A"
     ]
    },
    {
     "name": "stderr",
     "output_type": "stream",
     "text": [
      "Metric val_loss improved by 0.000 >= min_delta = 0.0. New best score: 0.680\n"
     ]
    },
    {
     "name": "stdout",
     "output_type": "stream",
     "text": [
      "Epoch 157: 100%|███████████████████████████| 6/6 [00:04<00:00,  1.32it/s, loss=0.715, v_num=21, val_loss=0.680, val_acc_epoch=0.704]\n",
      "Epoch 158: 100%|███████████████████████████| 6/6 [00:04<00:00,  1.37it/s, loss=0.715, v_num=21, val_loss=0.680, val_acc_epoch=0.704]\u001b[A\n",
      "Validating: 0it [00:00, ?it/s]\u001b[A\n",
      "Epoch 158: 100%|████████████████████████████| 6/6 [00:04<00:00,  1.35it/s, loss=0.69, v_num=21, val_loss=0.683, val_acc_epoch=0.707]\u001b[A\n",
      "Epoch 159: 100%|████████████████████████████| 6/6 [00:04<00:00,  1.34it/s, loss=0.69, v_num=21, val_loss=0.683, val_acc_epoch=0.707]\u001b[A\n",
      "Validating: 0it [00:00, ?it/s]\u001b[A\n",
      "Validating:   0%|                                                                                             | 0/1 [00:00<?, ?it/s]\u001b[A"
     ]
    },
    {
     "name": "stderr",
     "output_type": "stream",
     "text": [
      "Metric val_loss improved by 0.001 >= min_delta = 0.0. New best score: 0.679\n"
     ]
    },
    {
     "name": "stdout",
     "output_type": "stream",
     "text": [
      "Epoch 159: 100%|███████████████████████████| 6/6 [00:04<00:00,  1.32it/s, loss=0.683, v_num=21, val_loss=0.679, val_acc_epoch=0.706]\n",
      "Epoch 160: 100%|███████████████████████████| 6/6 [00:04<00:00,  1.38it/s, loss=0.683, v_num=21, val_loss=0.679, val_acc_epoch=0.706]\u001b[A\n",
      "Validating: 0it [00:00, ?it/s]\u001b[A\n",
      "Epoch 160: 100%|███████████████████████████| 6/6 [00:04<00:00,  1.35it/s, loss=0.675, v_num=21, val_loss=0.679, val_acc_epoch=0.703]\u001b[A\n",
      "Epoch 161: 100%|███████████████████████████| 6/6 [00:04<00:00,  1.39it/s, loss=0.675, v_num=21, val_loss=0.679, val_acc_epoch=0.703]\u001b[A\n",
      "Validating: 0it [00:00, ?it/s]\u001b[A\n",
      "Validating:   0%|                                                                                             | 0/1 [00:00<?, ?it/s]\u001b[A"
     ]
    },
    {
     "name": "stderr",
     "output_type": "stream",
     "text": [
      "Metric val_loss improved by 0.000 >= min_delta = 0.0. New best score: 0.678\n"
     ]
    },
    {
     "name": "stdout",
     "output_type": "stream",
     "text": [
      "Epoch 161: 100%|███████████████████████████| 6/6 [00:04<00:00,  1.37it/s, loss=0.665, v_num=21, val_loss=0.678, val_acc_epoch=0.706]\n",
      "Epoch 162: 100%|███████████████████████████| 6/6 [00:04<00:00,  1.33it/s, loss=0.665, v_num=21, val_loss=0.678, val_acc_epoch=0.706]\u001b[A\n",
      "Validating: 0it [00:00, ?it/s]\u001b[A\n",
      "Validating:   0%|                                                                                             | 0/1 [00:00<?, ?it/s]\u001b[A"
     ]
    },
    {
     "name": "stderr",
     "output_type": "stream",
     "text": [
      "Metric val_loss improved by 0.001 >= min_delta = 0.0. New best score: 0.677\n"
     ]
    },
    {
     "name": "stdout",
     "output_type": "stream",
     "text": [
      "Epoch 162: 100%|███████████████████████████| 6/6 [00:04<00:00,  1.31it/s, loss=0.691, v_num=21, val_loss=0.677, val_acc_epoch=0.707]\n",
      "Epoch 163: 100%|███████████████████████████| 6/6 [00:04<00:00,  1.39it/s, loss=0.691, v_num=21, val_loss=0.677, val_acc_epoch=0.707]\u001b[A\n",
      "Validating: 0it [00:00, ?it/s]\u001b[A\n",
      "Validating:   0%|                                                                                             | 0/1 [00:00<?, ?it/s]\u001b[A"
     ]
    },
    {
     "name": "stderr",
     "output_type": "stream",
     "text": [
      "Metric val_loss improved by 0.000 >= min_delta = 0.0. New best score: 0.677\n"
     ]
    },
    {
     "name": "stdout",
     "output_type": "stream",
     "text": [
      "Epoch 163: 100%|███████████████████████████| 6/6 [00:04<00:00,  1.37it/s, loss=0.697, v_num=21, val_loss=0.677, val_acc_epoch=0.707]\n",
      "Epoch 164: 100%|███████████████████████████| 6/6 [00:04<00:00,  1.35it/s, loss=0.697, v_num=21, val_loss=0.677, val_acc_epoch=0.707]\u001b[A\n",
      "Validating: 0it [00:00, ?it/s]\u001b[A\n",
      "Validating:   0%|                                                                                             | 0/1 [00:00<?, ?it/s]\u001b[A"
     ]
    },
    {
     "name": "stderr",
     "output_type": "stream",
     "text": [
      "Metric val_loss improved by 0.001 >= min_delta = 0.0. New best score: 0.676\n"
     ]
    },
    {
     "name": "stdout",
     "output_type": "stream",
     "text": [
      "Epoch 164: 100%|█████████████████████████████| 6/6 [00:04<00:00,  1.32it/s, loss=0.7, v_num=21, val_loss=0.676, val_acc_epoch=0.705]\n",
      "Epoch 165: 100%|█████████████████████████████| 6/6 [00:04<00:00,  1.39it/s, loss=0.7, v_num=21, val_loss=0.676, val_acc_epoch=0.705]\u001b[A\n",
      "Validating: 0it [00:00, ?it/s]\u001b[A\n",
      "Epoch 165: 100%|███████████████████████████| 6/6 [00:04<00:00,  1.37it/s, loss=0.699, v_num=21, val_loss=0.677, val_acc_epoch=0.704]\u001b[A\n",
      "Epoch 166: 100%|███████████████████████████| 6/6 [00:04<00:00,  1.33it/s, loss=0.699, v_num=21, val_loss=0.677, val_acc_epoch=0.704]\u001b[A\n",
      "Validating: 0it [00:00, ?it/s]\u001b[A\n",
      "Validating:   0%|                                                                                             | 0/1 [00:00<?, ?it/s]\u001b[A"
     ]
    },
    {
     "name": "stderr",
     "output_type": "stream",
     "text": [
      "Metric val_loss improved by 0.000 >= min_delta = 0.0. New best score: 0.676\n"
     ]
    },
    {
     "name": "stdout",
     "output_type": "stream",
     "text": [
      "Epoch 166: 100%|███████████████████████████| 6/6 [00:04<00:00,  1.31it/s, loss=0.703, v_num=21, val_loss=0.676, val_acc_epoch=0.707]\n",
      "Epoch 167: 100%|███████████████████████████| 6/6 [00:04<00:00,  1.33it/s, loss=0.703, v_num=21, val_loss=0.676, val_acc_epoch=0.707]\u001b[A\n",
      "Validating: 0it [00:00, ?it/s]\u001b[A\n",
      "Epoch 167: 100%|███████████████████████████| 6/6 [00:04<00:00,  1.31it/s, loss=0.715, v_num=21, val_loss=0.682, val_acc_epoch=0.708]\u001b[A\n",
      "Epoch 168: 100%|███████████████████████████| 6/6 [00:04<00:00,  1.37it/s, loss=0.715, v_num=21, val_loss=0.682, val_acc_epoch=0.708]\u001b[A\n",
      "Validating: 0it [00:00, ?it/s]\u001b[A\n",
      "Epoch 168: 100%|███████████████████████████| 6/6 [00:04<00:00,  1.34it/s, loss=0.714, v_num=21, val_loss=0.679, val_acc_epoch=0.709]\u001b[A\n",
      "Epoch 169: 100%|███████████████████████████| 6/6 [00:04<00:00,  1.35it/s, loss=0.714, v_num=21, val_loss=0.679, val_acc_epoch=0.709]\u001b[A\n",
      "Validating: 0it [00:00, ?it/s]\u001b[A\n",
      "Validating:   0%|                                                                                             | 0/1 [00:00<?, ?it/s]\u001b[A"
     ]
    },
    {
     "name": "stderr",
     "output_type": "stream",
     "text": [
      "Metric val_loss improved by 0.000 >= min_delta = 0.0. New best score: 0.675\n"
     ]
    },
    {
     "name": "stdout",
     "output_type": "stream",
     "text": [
      "Epoch 169: 100%|███████████████████████████| 6/6 [00:04<00:00,  1.33it/s, loss=0.726, v_num=21, val_loss=0.675, val_acc_epoch=0.706]\n",
      "Epoch 170: 100%|███████████████████████████| 6/6 [00:04<00:00,  1.35it/s, loss=0.726, v_num=21, val_loss=0.675, val_acc_epoch=0.706]\u001b[A\n",
      "Validating: 0it [00:00, ?it/s]\u001b[A\n",
      "Epoch 170: 100%|███████████████████████████| 6/6 [00:04<00:00,  1.33it/s, loss=0.729, v_num=21, val_loss=0.678, val_acc_epoch=0.707]\u001b[A\n",
      "Epoch 171: 100%|███████████████████████████| 6/6 [00:04<00:00,  1.42it/s, loss=0.729, v_num=21, val_loss=0.678, val_acc_epoch=0.707]\u001b[A\n",
      "Validating: 0it [00:00, ?it/s]\u001b[A\n",
      "Epoch 171: 100%|███████████████████████████| 6/6 [00:04<00:00,  1.40it/s, loss=0.726, v_num=21, val_loss=0.682, val_acc_epoch=0.706]\u001b[A\n",
      "Epoch 172: 100%|███████████████████████████| 6/6 [00:04<00:00,  1.39it/s, loss=0.726, v_num=21, val_loss=0.682, val_acc_epoch=0.706]\u001b[A\n",
      "Validating: 0it [00:00, ?it/s]\u001b[A\n",
      "Validating:   0%|                                                                                             | 0/1 [00:00<?, ?it/s]\u001b[A"
     ]
    },
    {
     "name": "stderr",
     "output_type": "stream",
     "text": [
      "Metric val_loss improved by 0.003 >= min_delta = 0.0. New best score: 0.673\n"
     ]
    },
    {
     "name": "stdout",
     "output_type": "stream",
     "text": [
      "Epoch 172: 100%|███████████████████████████| 6/6 [00:04<00:00,  1.37it/s, loss=0.735, v_num=21, val_loss=0.673, val_acc_epoch=0.709]\n",
      "Epoch 173: 100%|███████████████████████████| 6/6 [00:04<00:00,  1.44it/s, loss=0.735, v_num=21, val_loss=0.673, val_acc_epoch=0.709]\u001b[A\n",
      "Validating: 0it [00:00, ?it/s]\u001b[A\n",
      "Epoch 173: 100%|███████████████████████████| 6/6 [00:04<00:00,  1.42it/s, loss=0.717, v_num=21, val_loss=0.673, val_acc_epoch=0.706]\u001b[A\n",
      "Epoch 174: 100%|███████████████████████████| 6/6 [00:04<00:00,  1.36it/s, loss=0.717, v_num=21, val_loss=0.673, val_acc_epoch=0.706]\u001b[A\n",
      "Validating: 0it [00:00, ?it/s]\u001b[A\n",
      "Epoch 174: 100%|█████████████████████████████| 6/6 [00:04<00:00,  1.34it/s, loss=0.7, v_num=21, val_loss=0.673, val_acc_epoch=0.708]\u001b[A\n",
      "Epoch 175: 100%|█████████████████████████████| 6/6 [00:04<00:00,  1.44it/s, loss=0.7, v_num=21, val_loss=0.673, val_acc_epoch=0.708]\u001b[A\n",
      "Validating: 0it [00:00, ?it/s]\u001b[A\n",
      "Epoch 175: 100%|███████████████████████████| 6/6 [00:04<00:00,  1.42it/s, loss=0.701, v_num=21, val_loss=0.674, val_acc_epoch=0.711]\u001b[A\n",
      "Epoch 176: 100%|███████████████████████████| 6/6 [00:05<00:00,  1.11it/s, loss=0.701, v_num=21, val_loss=0.674, val_acc_epoch=0.711]\u001b[A\n",
      "Validating: 0it [00:00, ?it/s]\u001b[A\n",
      "Epoch 176: 100%|███████████████████████████| 6/6 [00:05<00:00,  1.09it/s, loss=0.692, v_num=21, val_loss=0.675, val_acc_epoch=0.710]\u001b[A\n",
      "Epoch 177: 100%|███████████████████████████| 6/6 [00:03<00:00,  1.55it/s, loss=0.692, v_num=21, val_loss=0.675, val_acc_epoch=0.710]\u001b[A\n",
      "Validating: 0it [00:00, ?it/s]\u001b[A\n",
      "Validating:   0%|                                                                                             | 0/1 [00:00<?, ?it/s]\u001b[A"
     ]
    },
    {
     "name": "stderr",
     "output_type": "stream",
     "text": [
      "Metric val_loss improved by 0.001 >= min_delta = 0.0. New best score: 0.671\n"
     ]
    },
    {
     "name": "stdout",
     "output_type": "stream",
     "text": [
      "Epoch 177: 100%|███████████████████████████| 6/6 [00:03<00:00,  1.52it/s, loss=0.691, v_num=21, val_loss=0.671, val_acc_epoch=0.707]\n",
      "Epoch 178: 100%|███████████████████████████| 6/6 [00:04<00:00,  1.28it/s, loss=0.691, v_num=21, val_loss=0.671, val_acc_epoch=0.707]\u001b[A\n",
      "Validating: 0it [00:00, ?it/s]\u001b[A\n",
      "Epoch 178: 100%|███████████████████████████| 6/6 [00:04<00:00,  1.26it/s, loss=0.699, v_num=21, val_loss=0.673, val_acc_epoch=0.706]\u001b[A\n",
      "Epoch 179: 100%|███████████████████████████| 6/6 [00:05<00:00,  1.14it/s, loss=0.699, v_num=21, val_loss=0.673, val_acc_epoch=0.706]\u001b[A\n",
      "Validating: 0it [00:00, ?it/s]\u001b[A\n",
      "Validating:   0%|                                                                                             | 0/1 [00:00<?, ?it/s]\u001b[A"
     ]
    },
    {
     "name": "stderr",
     "output_type": "stream",
     "text": [
      "Metric val_loss improved by 0.000 >= min_delta = 0.0. New best score: 0.671\n"
     ]
    },
    {
     "name": "stdout",
     "output_type": "stream",
     "text": [
      "Epoch 179: 100%|███████████████████████████| 6/6 [00:05<00:00,  1.12it/s, loss=0.693, v_num=21, val_loss=0.671, val_acc_epoch=0.709]\n",
      "Epoch 180: 100%|███████████████████████████| 6/6 [00:04<00:00,  1.31it/s, loss=0.693, v_num=21, val_loss=0.671, val_acc_epoch=0.709]\u001b[A\n",
      "Validating: 0it [00:00, ?it/s]\u001b[A\n",
      "Epoch 180: 100%|███████████████████████████| 6/6 [00:04<00:00,  1.29it/s, loss=0.698, v_num=21, val_loss=0.673, val_acc_epoch=0.711]\u001b[A\n",
      "Epoch 181: 100%|███████████████████████████| 6/6 [00:03<00:00,  1.55it/s, loss=0.698, v_num=21, val_loss=0.673, val_acc_epoch=0.711]\u001b[A\n",
      "Validating: 0it [00:00, ?it/s]\u001b[A\n",
      "Validating:   0%|                                                                                             | 0/1 [00:00<?, ?it/s]\u001b[A"
     ]
    },
    {
     "name": "stderr",
     "output_type": "stream",
     "text": [
      "Metric val_loss improved by 0.000 >= min_delta = 0.0. New best score: 0.671\n"
     ]
    },
    {
     "name": "stdout",
     "output_type": "stream",
     "text": [
      "Epoch 181: 100%|███████████████████████████| 6/6 [00:03<00:00,  1.53it/s, loss=0.705, v_num=21, val_loss=0.671, val_acc_epoch=0.711]\n",
      "Epoch 182: 100%|███████████████████████████| 6/6 [00:03<00:00,  1.56it/s, loss=0.705, v_num=21, val_loss=0.671, val_acc_epoch=0.711]\u001b[A\n",
      "Validating: 0it [00:00, ?it/s]\u001b[A\n",
      "Validating:   0%|                                                                                             | 0/1 [00:00<?, ?it/s]\u001b[A"
     ]
    },
    {
     "name": "stderr",
     "output_type": "stream",
     "text": [
      "Metric val_loss improved by 0.001 >= min_delta = 0.0. New best score: 0.670\n"
     ]
    },
    {
     "name": "stdout",
     "output_type": "stream",
     "text": [
      "Epoch 182: 100%|███████████████████████████| 6/6 [00:03<00:00,  1.54it/s, loss=0.699, v_num=21, val_loss=0.670, val_acc_epoch=0.709]\n",
      "Epoch 183: 100%|███████████████████████████| 6/6 [00:03<00:00,  1.57it/s, loss=0.699, v_num=21, val_loss=0.670, val_acc_epoch=0.709]\u001b[A\n",
      "Validating: 0it [00:00, ?it/s]\u001b[A\n",
      "Validating:   0%|                                                                                             | 0/1 [00:00<?, ?it/s]\u001b[A"
     ]
    },
    {
     "name": "stderr",
     "output_type": "stream",
     "text": [
      "Metric val_loss improved by 0.000 >= min_delta = 0.0. New best score: 0.670\n"
     ]
    },
    {
     "name": "stdout",
     "output_type": "stream",
     "text": [
      "Epoch 183: 100%|███████████████████████████| 6/6 [00:03<00:00,  1.55it/s, loss=0.698, v_num=21, val_loss=0.670, val_acc_epoch=0.709]\n",
      "Epoch 184: 100%|███████████████████████████| 6/6 [00:03<00:00,  1.52it/s, loss=0.698, v_num=21, val_loss=0.670, val_acc_epoch=0.709]\u001b[A\n",
      "Validating: 0it [00:00, ?it/s]\u001b[A\n",
      "Validating:   0%|                                                                                             | 0/1 [00:00<?, ?it/s]\u001b[A"
     ]
    },
    {
     "name": "stderr",
     "output_type": "stream",
     "text": [
      "Metric val_loss improved by 0.000 >= min_delta = 0.0. New best score: 0.669\n"
     ]
    },
    {
     "name": "stdout",
     "output_type": "stream",
     "text": [
      "Epoch 184: 100%|███████████████████████████| 6/6 [00:04<00:00,  1.49it/s, loss=0.694, v_num=21, val_loss=0.669, val_acc_epoch=0.710]\n",
      "Epoch 185: 100%|███████████████████████████| 6/6 [00:04<00:00,  1.37it/s, loss=0.694, v_num=21, val_loss=0.669, val_acc_epoch=0.710]\u001b[A\n",
      "Validating: 0it [00:00, ?it/s]\u001b[A\n",
      "Validating:   0%|                                                                                             | 0/1 [00:00<?, ?it/s]\u001b[A"
     ]
    },
    {
     "name": "stderr",
     "output_type": "stream",
     "text": [
      "Metric val_loss improved by 0.000 >= min_delta = 0.0. New best score: 0.669\n"
     ]
    },
    {
     "name": "stdout",
     "output_type": "stream",
     "text": [
      "Epoch 185: 100%|███████████████████████████| 6/6 [00:04<00:00,  1.34it/s, loss=0.691, v_num=21, val_loss=0.669, val_acc_epoch=0.710]\n",
      "Epoch 186: 100%|███████████████████████████| 6/6 [00:04<00:00,  1.43it/s, loss=0.691, v_num=21, val_loss=0.669, val_acc_epoch=0.710]\u001b[A\n",
      "Validating: 0it [00:00, ?it/s]\u001b[A\n",
      "Validating:   0%|                                                                                             | 0/1 [00:00<?, ?it/s]\u001b[A"
     ]
    },
    {
     "name": "stderr",
     "output_type": "stream",
     "text": [
      "Metric val_loss improved by 0.001 >= min_delta = 0.0. New best score: 0.668\n"
     ]
    },
    {
     "name": "stdout",
     "output_type": "stream",
     "text": [
      "Epoch 186: 100%|███████████████████████████| 6/6 [00:04<00:00,  1.40it/s, loss=0.689, v_num=21, val_loss=0.668, val_acc_epoch=0.710]\n",
      "Epoch 187: 100%|███████████████████████████| 6/6 [00:04<00:00,  1.33it/s, loss=0.689, v_num=21, val_loss=0.668, val_acc_epoch=0.710]\u001b[A\n",
      "Validating: 0it [00:00, ?it/s]\u001b[A\n",
      "Validating:   0%|                                                                                             | 0/1 [00:00<?, ?it/s]\u001b[A"
     ]
    },
    {
     "name": "stderr",
     "output_type": "stream",
     "text": [
      "Metric val_loss improved by 0.000 >= min_delta = 0.0. New best score: 0.668\n"
     ]
    },
    {
     "name": "stdout",
     "output_type": "stream",
     "text": [
      "Epoch 187: 100%|███████████████████████████| 6/6 [00:04<00:00,  1.31it/s, loss=0.683, v_num=21, val_loss=0.668, val_acc_epoch=0.710]\n",
      "Epoch 188: 100%|███████████████████████████| 6/6 [00:04<00:00,  1.34it/s, loss=0.683, v_num=21, val_loss=0.668, val_acc_epoch=0.710]\u001b[A\n",
      "Validating: 0it [00:00, ?it/s]\u001b[A\n",
      "Validating:   0%|                                                                                             | 0/1 [00:00<?, ?it/s]\u001b[A"
     ]
    },
    {
     "name": "stderr",
     "output_type": "stream",
     "text": [
      "Metric val_loss improved by 0.001 >= min_delta = 0.0. New best score: 0.667\n"
     ]
    },
    {
     "name": "stdout",
     "output_type": "stream",
     "text": [
      "Epoch 188: 100%|████████████████████████████| 6/6 [00:04<00:00,  1.32it/s, loss=0.69, v_num=21, val_loss=0.667, val_acc_epoch=0.710]\n",
      "Epoch 189: 100%|████████████████████████████| 6/6 [00:04<00:00,  1.36it/s, loss=0.69, v_num=21, val_loss=0.667, val_acc_epoch=0.710]\u001b[A\n",
      "Validating: 0it [00:00, ?it/s]\u001b[A\n",
      "Epoch 189: 100%|███████████████████████████| 6/6 [00:04<00:00,  1.33it/s, loss=0.691, v_num=21, val_loss=0.667, val_acc_epoch=0.711]\u001b[A\n",
      "Epoch 190: 100%|███████████████████████████| 6/6 [00:04<00:00,  1.35it/s, loss=0.691, v_num=21, val_loss=0.667, val_acc_epoch=0.711]\u001b[A\n",
      "Validating: 0it [00:00, ?it/s]\u001b[A\n",
      "Validating:   0%|                                                                                             | 0/1 [00:00<?, ?it/s]\u001b[A"
     ]
    },
    {
     "name": "stderr",
     "output_type": "stream",
     "text": [
      "Metric val_loss improved by 0.000 >= min_delta = 0.0. New best score: 0.667\n"
     ]
    },
    {
     "name": "stdout",
     "output_type": "stream",
     "text": [
      "Epoch 190: 100%|███████████████████████████| 6/6 [00:04<00:00,  1.33it/s, loss=0.698, v_num=21, val_loss=0.667, val_acc_epoch=0.710]\n",
      "Epoch 191: 100%|███████████████████████████| 6/6 [00:04<00:00,  1.37it/s, loss=0.698, v_num=21, val_loss=0.667, val_acc_epoch=0.710]\u001b[A\n",
      "Validating: 0it [00:00, ?it/s]\u001b[A\n",
      "Epoch 191: 100%|█████████████████████████████| 6/6 [00:04<00:00,  1.35it/s, loss=0.7, v_num=21, val_loss=0.667, val_acc_epoch=0.711]\u001b[A\n",
      "Epoch 192: 100%|█████████████████████████████| 6/6 [00:04<00:00,  1.38it/s, loss=0.7, v_num=21, val_loss=0.667, val_acc_epoch=0.711]\u001b[A\n",
      "Validating: 0it [00:00, ?it/s]\u001b[A\n",
      "Validating:   0%|                                                                                             | 0/1 [00:00<?, ?it/s]\u001b[A"
     ]
    },
    {
     "name": "stderr",
     "output_type": "stream",
     "text": [
      "Metric val_loss improved by 0.000 >= min_delta = 0.0. New best score: 0.667\n"
     ]
    },
    {
     "name": "stdout",
     "output_type": "stream",
     "text": [
      "Epoch 192: 100%|███████████████████████████| 6/6 [00:04<00:00,  1.36it/s, loss=0.688, v_num=21, val_loss=0.667, val_acc_epoch=0.711]\n",
      "Epoch 193: 100%|███████████████████████████| 6/6 [00:04<00:00,  1.36it/s, loss=0.688, v_num=21, val_loss=0.667, val_acc_epoch=0.711]\u001b[A\n",
      "Validating: 0it [00:00, ?it/s]\u001b[A\n",
      "Validating:   0%|                                                                                             | 0/1 [00:00<?, ?it/s]\u001b[A"
     ]
    },
    {
     "name": "stderr",
     "output_type": "stream",
     "text": [
      "Metric val_loss improved by 0.000 >= min_delta = 0.0. New best score: 0.666\n"
     ]
    },
    {
     "name": "stdout",
     "output_type": "stream",
     "text": [
      "Epoch 193: 100%|███████████████████████████| 6/6 [00:04<00:00,  1.34it/s, loss=0.685, v_num=21, val_loss=0.666, val_acc_epoch=0.711]\n",
      "Epoch 194: 100%|███████████████████████████| 6/6 [00:04<00:00,  1.34it/s, loss=0.685, v_num=21, val_loss=0.666, val_acc_epoch=0.711]\u001b[A\n",
      "Validating: 0it [00:00, ?it/s]\u001b[A\n",
      "Validating:   0%|                                                                                             | 0/1 [00:00<?, ?it/s]\u001b[A"
     ]
    },
    {
     "name": "stderr",
     "output_type": "stream",
     "text": [
      "Metric val_loss improved by 0.000 >= min_delta = 0.0. New best score: 0.666\n"
     ]
    },
    {
     "name": "stdout",
     "output_type": "stream",
     "text": [
      "Epoch 194: 100%|███████████████████████████| 6/6 [00:04<00:00,  1.32it/s, loss=0.683, v_num=21, val_loss=0.666, val_acc_epoch=0.712]\n",
      "Epoch 195: 100%|███████████████████████████| 6/6 [00:04<00:00,  1.33it/s, loss=0.683, v_num=21, val_loss=0.666, val_acc_epoch=0.712]\u001b[A\n",
      "Validating: 0it [00:00, ?it/s]\u001b[A\n",
      "Epoch 195: 100%|███████████████████████████| 6/6 [00:04<00:00,  1.31it/s, loss=0.678, v_num=21, val_loss=0.667, val_acc_epoch=0.713]\u001b[A\n",
      "Epoch 196: 100%|███████████████████████████| 6/6 [00:04<00:00,  1.38it/s, loss=0.678, v_num=21, val_loss=0.667, val_acc_epoch=0.713]\u001b[A\n",
      "Validating: 0it [00:00, ?it/s]\u001b[A\n",
      "Epoch 196: 100%|███████████████████████████| 6/6 [00:04<00:00,  1.35it/s, loss=0.685, v_num=21, val_loss=0.666, val_acc_epoch=0.713]\u001b[A\n",
      "Epoch 197: 100%|███████████████████████████| 6/6 [00:04<00:00,  1.48it/s, loss=0.685, v_num=21, val_loss=0.666, val_acc_epoch=0.713]\u001b[A\n",
      "Validating: 0it [00:00, ?it/s]\u001b[A\n",
      "Validating:   0%|                                                                                             | 0/1 [00:00<?, ?it/s]\u001b[A"
     ]
    },
    {
     "name": "stderr",
     "output_type": "stream",
     "text": [
      "Metric val_loss improved by 0.001 >= min_delta = 0.0. New best score: 0.665\n"
     ]
    },
    {
     "name": "stdout",
     "output_type": "stream",
     "text": [
      "Epoch 197: 100%|███████████████████████████| 6/6 [00:04<00:00,  1.46it/s, loss=0.684, v_num=21, val_loss=0.665, val_acc_epoch=0.712]\n",
      "Epoch 198: 100%|███████████████████████████| 6/6 [00:04<00:00,  1.48it/s, loss=0.684, v_num=21, val_loss=0.665, val_acc_epoch=0.712]\u001b[A\n",
      "Validating: 0it [00:00, ?it/s]\u001b[A\n",
      "Validating:   0%|                                                                                             | 0/1 [00:00<?, ?it/s]\u001b[A"
     ]
    },
    {
     "name": "stderr",
     "output_type": "stream",
     "text": [
      "Metric val_loss improved by 0.001 >= min_delta = 0.0. New best score: 0.664\n"
     ]
    },
    {
     "name": "stdout",
     "output_type": "stream",
     "text": [
      "Epoch 198: 100%|███████████████████████████| 6/6 [00:04<00:00,  1.46it/s, loss=0.686, v_num=21, val_loss=0.664, val_acc_epoch=0.713]\n",
      "Epoch 199: 100%|███████████████████████████| 6/6 [00:04<00:00,  1.42it/s, loss=0.686, v_num=21, val_loss=0.664, val_acc_epoch=0.713]\u001b[A\n",
      "Validating: 0it [00:00, ?it/s]\u001b[A\n",
      "Epoch 199: 100%|███████████████████████████| 6/6 [00:04<00:00,  1.40it/s, loss=0.697, v_num=21, val_loss=0.666, val_acc_epoch=0.713]\u001b[A\n",
      "Epoch 199: 100%|███████████████████████████| 6/6 [00:04<00:00,  1.39it/s, loss=0.697, v_num=21, val_loss=0.666, val_acc_epoch=0.713]\u001b[A\n",
      "Testing: 100%|████████████████████████████████████████████████████████████████████████████████████████| 1/1 [00:00<00:00, 15.27it/s]\n",
      "--------------------------------------------------------------------------------\n",
      "DATALOADER:0 TEST RESULTS\n",
      "{'test_acc': 0.7302069067955017,\n",
      " 'test_acc_epoch': 0.7302069067955017,\n",
      " 'test_loss': 0.6225737929344177}\n",
      "--------------------------------------------------------------------------------\n"
     ]
    },
    {
     "data": {
      "text/plain": [
       "[{'test_loss': 0.6225737929344177,\n",
       "  'test_acc': 0.7302069067955017,\n",
       "  'test_acc_epoch': 0.7302069067955017}]"
      ]
     },
     "execution_count": 23,
     "metadata": {},
     "output_type": "execute_result"
    }
   ],
   "source": [
    "import torch\n",
    "from torch import nn\n",
    "from pytorch_lightning import Trainer\n",
    "from pytorch_lightning.callbacks import EarlyStopping\n",
    "\n",
    "class LstmModel(TemplateModel):\n",
    "    def __init__(self, char_set_size, char_embedding_dim=4, classes_count=3,\n",
    "                 lstm_embedding_dim=8, char_max_seq_len=50):\n",
    "        super().__init__()\n",
    "        \n",
    "        self.embeddings_layer = nn.Embedding(char_set_size, char_embedding_dim)\n",
    "        self.dropout = nn.Dropout(0.4)\n",
    "        self.lstm_layer = nn.LSTM(char_embedding_dim * char_max_seq_len, lstm_embedding_dim // 2,\n",
    "                                  batch_first=True, bidirectional=True)\n",
    "        self.out_layer = nn.Linear(lstm_embedding_dim, classes_count)\n",
    "\n",
    "    def forward(self, inputs, labels):\n",
    "        batch_size = inputs.size(0)\n",
    "        seq_len = inputs.size(1)\n",
    "        projections = self.embeddings_layer.forward(inputs)\n",
    "        projections = projections.reshape(projections.size(0), projections.size(1), -1)\n",
    "        output, _= self.lstm_layer(projections)\n",
    "        output = self.dropout(output)\n",
    "        logits = self.out_layer.forward(output)\n",
    "        logits = logits.transpose(1, 2)\n",
    "        loss = self.loss(logits, labels)\n",
    "        return loss, logits\n",
    "\n",
    "\n",
    "lstm_model = LstmModel(len(char_set))\n",
    "early_stop_callback = EarlyStopping(\n",
    "    monitor=\"val_loss\",\n",
    "    min_delta=0.0,\n",
    "    patience=5,\n",
    "    verbose=True,\n",
    "    mode=\"min\" \n",
    ")\n",
    "trainer = Trainer(\n",
    "    gpus=0,\n",
    "    checkpoint_callback=False,\n",
    "    accumulate_grad_batches=1,\n",
    "    max_epochs=200,\n",
    "    progress_bar_refresh_rate=10,\n",
    "    callbacks=[early_stop_callback])\n",
    "trainer.fit(lstm_model, train_loader, val_loader)\n",
    "trainer.test(lstm_model, test_loader)"
   ]
  },
  {
   "cell_type": "code",
   "execution_count": 24,
   "id": "f37c993d",
   "metadata": {},
   "outputs": [
    {
     "name": "stdout",
     "output_type": "stream",
     "text": [
      "1 Precision: 0.47035573122529645, 1 Recall: 0.46484375\n",
      "Exact: 502, partial: 900, missing: 646, spurius: 439\n",
      "PREDICTED:\n"
     ]
    },
    {
     "data": {
      "text/html": [
       "<div class=\"tex2jax_ignore\" style=\"white-space: pre-wrap\">Приложение \n",
       "к постановлению администрации \n",
       "МО « Судогодский район » \n",
       "от 01.06.2018 г . \n",
       "№ 841 \n",
       "Муниципальная программа \n",
       "« Благоустройство города Судогда на 2016-2020 год » \n",
       "ПАСПОРТ \n",
       "1. \n",
       "Характеристика проблемы и обоснование \n",
       "необходимости ее решения программными методами \n",
       "Одним из главных направлений в области <span style=\"padding: 2px; border-radius: 4px; border: 1px solid #bbdefb; background: #e3f2fd\">обеспечения социально<span style=\"vertical-align: middle; margin-left: 2px; font-size: 0.7em; color: #64b5f6;\">INST</span></span> - <span style=\"padding: 2px; border-radius: 4px; border: 1px solid #bbdefb; background: #e3f2fd\">экономического<span style=\"vertical-align: middle; margin-left: 2px; font-size: 0.7em; color: #64b5f6;\">INST</span></span> <span style=\"padding: 2px; border-radius: 4px; border: 1px solid #bbdefb; background: #e3f2fd\">развития страны<span style=\"vertical-align: middle; margin-left: 2px; font-size: 0.7em; color: #64b5f6;\">INST</span></span> , <span style=\"padding: 2px; border-radius: 4px; border: 1px solid #bbdefb; background: #e3f2fd\">определенным Правительством<span style=\"vertical-align: middle; margin-left: 2px; font-size: 0.7em; color: #64b5f6;\">INST</span></span> Российской Федерации , является - улучшение <span style=\"padding: 2px; border-radius: 4px; border: 1px solid #bbdefb; background: #e3f2fd\">уровня<span style=\"vertical-align: middle; margin-left: 2px; font-size: 0.7em; color: #64b5f6;\">INST</span></span> и <span style=\"padding: 2px; border-radius: 4px; border: 1px solid #bbdefb; background: #e3f2fd\">качества<span style=\"vertical-align: middle; margin-left: 2px; font-size: 0.7em; color: #64b5f6;\">INST</span></span> <span style=\"padding: 2px; border-radius: 4px; border: 1px solid #bbdefb; background: #e3f2fd\">жизни<span style=\"vertical-align: middle; margin-left: 2px; font-size: 0.7em; color: #64b5f6;\">INST</span></span> населения . \n",
       "Важнейшим аспектом в <span style=\"padding: 2px; border-radius: 4px; border: 1px solid #bbdefb; background: #e3f2fd\">реализации данного<span style=\"vertical-align: middle; margin-left: 2px; font-size: 0.7em; color: #64b5f6;\">INST</span></span> <span style=\"padding: 2px; border-radius: 4px; border: 1px solid #bbdefb; background: #e3f2fd\">проекта<span style=\"vertical-align: middle; margin-left: 2px; font-size: 0.7em; color: #64b5f6;\">INST</span></span> является <span style=\"padding: 2px; border-radius: 4px; border: 1px solid #bbdefb; background: #e3f2fd\">создание<span style=\"vertical-align: middle; margin-left: 2px; font-size: 0.7em; color: #64b5f6;\">INST</span></span> <span style=\"padding: 2px; border-radius: 4px; border: 1px solid #bbdefb; background: #e3f2fd\">органами местного самоуправления условий комфортного<span style=\"vertical-align: middle; margin-left: 2px; font-size: 0.7em; color: #64b5f6;\">INST</span></span> и <span style=\"padding: 2px; border-radius: 4px; border: 1px solid #bbdefb; background: #e3f2fd\">безопасного проживания граждан<span style=\"vertical-align: middle; margin-left: 2px; font-size: 0.7em; color: #64b5f6;\">INST</span></span> , <span style=\"padding: 2px; border-radius: 4px; border: 1px solid #bbdefb; background: #e3f2fd\">формирование современной<span style=\"vertical-align: middle; margin-left: 2px; font-size: 0.7em; color: #64b5f6;\">INST</span></span> городской <span style=\"padding: 2px; border-radius: 4px; border: 1px solid #bbdefb; background: #e3f2fd\">инфраструктуры<span style=\"vertical-align: middle; margin-left: 2px; font-size: 0.7em; color: #64b5f6;\">INST</span></span> и <span style=\"padding: 2px; border-radius: 4px; border: 1px solid #bbdefb; background: #e3f2fd\">благоустройство мест общего пользования территории<span style=\"vertical-align: middle; margin-left: 2px; font-size: 0.7em; color: #64b5f6;\">INST</span></span> города . \n",
       "Благоустройство и <span style=\"padding: 2px; border-radius: 4px; border: 1px solid #bbdefb; background: #e3f2fd\">озеленение<span style=\"vertical-align: middle; margin-left: 2px; font-size: 0.7em; color: #64b5f6;\">INST</span></span> территории <span style=\"padding: 2px; border-radius: 4px; border: 1px solid #bbdefb; background: #e3f2fd\">приобретает<span style=\"vertical-align: middle; margin-left: 2px; font-size: 0.7em; color: #64b5f6;\">INST</span></span> особое <span style=\"padding: 2px; border-radius: 4px; border: 1px solid #bbdefb; background: #e3f2fd\">значение<span style=\"vertical-align: middle; margin-left: 2px; font-size: 0.7em; color: #64b5f6;\">INST</span></span> в условиях повышенных <span style=\"padding: 2px; border-radius: 4px; border: 1px solid #bbdefb; background: #e3f2fd\">антропогенных нагрузок<span style=\"vertical-align: middle; margin-left: 2px; font-size: 0.7em; color: #64b5f6;\">INST</span></span> , дискомфорта городской среды из-за <span style=\"padding: 2px; border-radius: 4px; border: 1px solid #bbdefb; background: #e3f2fd\">загрязнения<span style=\"vertical-align: middle; margin-left: 2px; font-size: 0.7em; color: #64b5f6;\">INST</span></span> <span style=\"padding: 2px; border-radius: 4px; border: 1px solid #bbdefb; background: #e3f2fd\">воздушной<span style=\"vertical-align: middle; margin-left: 2px; font-size: 0.7em; color: #64b5f6;\">INST</span></span> среды <span style=\"padding: 2px; border-radius: 4px; border: 1px solid #bbdefb; background: #e3f2fd\">выбросами автотранспорта<span style=\"vertical-align: middle; margin-left: 2px; font-size: 0.7em; color: #64b5f6;\">INST</span></span> и промышленных предприятий . \n",
       "При выполнении комплекса мероприятий , направленных на <span style=\"padding: 2px; border-radius: 4px; border: 1px solid #bbdefb; background: #e3f2fd\">благоустройство<span style=\"vertical-align: middle; margin-left: 2px; font-size: 0.7em; color: #64b5f6;\">INST</span></span> и <span style=\"padding: 2px; border-radius: 4px; border: 1px solid #bbdefb; background: #e3f2fd\">озеленение можно<span style=\"vertical-align: middle; margin-left: 2px; font-size: 0.7em; color: #64b5f6;\">INST</span></span> <span style=\"padding: 2px; border-radius: 4px; border: 1px solid #bbdefb; background: #e3f2fd\">значительно улучшить экологическое состояние<span style=\"vertical-align: middle; margin-left: 2px; font-size: 0.7em; color: #64b5f6;\">INST</span></span> и <span style=\"padding: 2px; border-radius: 4px; border: 1px solid #bbdefb; background: #e3f2fd\">внешний облик<span style=\"vertical-align: middle; margin-left: 2px; font-size: 0.7em; color: #64b5f6;\">INST</span></span> городского <span style=\"padding: 2px; border-radius: 4px; border: 1px solid #bbdefb; background: #e3f2fd\">поселения<span style=\"vertical-align: middle; margin-left: 2px; font-size: 0.7em; color: #64b5f6;\">INST</span></span> <span style=\"padding: 2px; border-radius: 4px; border: 1px solid #bbdefb; background: #e3f2fd\">создать более комфортные микро  климатические<span style=\"vertical-align: middle; margin-left: 2px; font-size: 0.7em; color: #64b5f6;\">INST</span></span> , <span style=\"padding: 2px; border-radius: 4px; border: 1px solid #bbdefb; background: #e3f2fd\">санитарно<span style=\"vertical-align: middle; margin-left: 2px; font-size: 0.7em; color: #64b5f6;\">INST</span></span> - <span style=\"padding: 2px; border-radius: 4px; border: 1px solid #bbdefb; background: #e3f2fd\">гигиенические<span style=\"vertical-align: middle; margin-left: 2px; font-size: 0.7em; color: #64b5f6;\">INST</span></span> и <span style=\"padding: 2px; border-radius: 4px; border: 1px solid #bbdefb; background: #e3f2fd\">эстетические<span style=\"vertical-align: middle; margin-left: 2px; font-size: 0.7em; color: #64b5f6;\">INST</span></span> условия на улицах , в жилых <span style=\"padding: 2px; border-radius: 4px; border: 1px solid #bbdefb; background: #e3f2fd\">кварталах<span style=\"vertical-align: middle; margin-left: 2px; font-size: 0.7em; color: #64b5f6;\">INST</span></span> , <span style=\"padding: 2px; border-radius: 4px; border: 1px solid #bbdefb; background: #e3f2fd\">общественных<span style=\"vertical-align: middle; margin-left: 2px; font-size: 0.7em; color: #64b5f6;\">INST</span></span> местах ( парках , скверах и т.д. ) . \n",
       "В области <span style=\"padding: 2px; border-radius: 4px; border: 1px solid #bbdefb; background: #e3f2fd\">текущего<span style=\"vertical-align: middle; margin-left: 2px; font-size: 0.7em; color: #64b5f6;\">INST</span></span> <span style=\"padding: 2px; border-radius: 4px; border: 1px solid #bbdefb; background: #e3f2fd\">содержания<span style=\"vertical-align: middle; margin-left: 2px; font-size: 0.7em; color: #64b5f6;\">INST</span></span> территории городского поселения можно <span style=\"padding: 2px; border-radius: 4px; border: 1px solid #bbdefb; background: #e3f2fd\">выделить<span style=\"vertical-align: middle; margin-left: 2px; font-size: 0.7em; color: #64b5f6;\">INST</span></span> следующие проблемы : \n",
       "Уличное освещение \n",
       "В период 2016 г администрацией города Судогда были <span style=\"padding: 2px; border-radius: 4px; border: 1px solid #bbdefb; background: #e3f2fd\">организованы<span style=\"vertical-align: middle; margin-left: 2px; font-size: 0.7em; color: #64b5f6;\">INST</span></span> мероприятия по <span style=\"padding: 2px; border-radius: 4px; border: 1px solid #bbdefb; background: #e3f2fd\">замене старых<span style=\"vertical-align: middle; margin-left: 2px; font-size: 0.7em; color: #64b5f6;\">INST</span></span> уличных <span style=\"padding: 2px; border-radius: 4px; border: 1px solid #bbdefb; background: #e3f2fd\">светильников<span style=\"vertical-align: middle; margin-left: 2px; font-size: 0.7em; color: #64b5f6;\">INST</span></span> , на центральных улицах города , на современные , светодиодные . \n",
       "В ходе <span style=\"padding: 2px; border-radius: 4px; border: 1px solid #bbdefb; background: #e3f2fd\">проведения<span style=\"vertical-align: middle; margin-left: 2px; font-size: 0.7em; color: #64b5f6;\">INST</span></span> данных мероприятий была <span style=\"padding: 2px; border-radius: 4px; border: 1px solid #bbdefb; background: #e3f2fd\">осуществлена<span style=\"vertical-align: middle; margin-left: 2px; font-size: 0.7em; color: #64b5f6;\">INST</span></span> замена 10 <span style=\"padding: 2px; border-radius: 4px; border: 1px solid #bbdefb; background: #e3f2fd\">светильников<span style=\"vertical-align: middle; margin-left: 2px; font-size: 0.7em; color: #64b5f6;\">INST</span></span> . \n",
       "<span style=\"padding: 2px; border-radius: 4px; border: 1px solid #bbdefb; background: #e3f2fd\">Однако<span style=\"vertical-align: middle; margin-left: 2px; font-size: 0.7em; color: #64b5f6;\">INST</span></span> <span style=\"padding: 2px; border-radius: 4px; border: 1px solid #bbdefb; background: #e3f2fd\">полностью<span style=\"vertical-align: middle; margin-left: 2px; font-size: 0.7em; color: #64b5f6;\">INST</span></span> решить проблему <span style=\"padding: 2px; border-radius: 4px; border: 1px solid #bbdefb; background: #e3f2fd\">уличного освещения<span style=\"vertical-align: middle; margin-left: 2px; font-size: 0.7em; color: #64b5f6;\">INST</span></span> городского поселения на сегодняшний <span style=\"padding: 2px; border-radius: 4px; border: 1px solid #bbdefb; background: #e3f2fd\">день пока<span style=\"vertical-align: middle; margin-left: 2px; font-size: 0.7em; color: #64b5f6;\">INST</span></span> не <span style=\"padding: 2px; border-radius: 4px; border: 1px solid #bbdefb; background: #e3f2fd\">удалось<span style=\"vertical-align: middle; margin-left: 2px; font-size: 0.7em; color: #64b5f6;\">INST</span></span> и проблемы еще <span style=\"padding: 2px; border-radius: 4px; border: 1px solid #bbdefb; background: #e3f2fd\">существуют<span style=\"vertical-align: middle; margin-left: 2px; font-size: 0.7em; color: #64b5f6;\">INST</span></span> . \n",
       "Основными проблемами данного направления <span style=\"padding: 2px; border-radius: 4px; border: 1px solid #bbdefb; background: #e3f2fd\">благоустройства<span style=\"vertical-align: middle; margin-left: 2px; font-size: 0.7em; color: #64b5f6;\">INST</span></span> являются : \n",
       "- <span style=\"padding: 2px; border-radius: 4px; border: 1px solid #bbdefb; background: #e3f2fd\">недостаточное<span style=\"vertical-align: middle; margin-left: 2px; font-size: 0.7em; color: #64b5f6;\">INST</span></span> <span style=\"padding: 2px; border-radius: 4px; border: 1px solid #bbdefb; background: #e3f2fd\">количество<span style=\"vertical-align: middle; margin-left: 2px; font-size: 0.7em; color: #64b5f6;\">INST</span></span> уличных <span style=\"padding: 2px; border-radius: 4px; border: 1px solid #bbdefb; background: #e3f2fd\">светильников<span style=\"vertical-align: middle; margin-left: 2px; font-size: 0.7em; color: #64b5f6;\">INST</span></span> на <span style=\"padding: 2px; border-radius: 4px; border: 1px solid #bbdefb; background: #e3f2fd\">второстепенных<span style=\"vertical-align: middle; margin-left: 2px; font-size: 0.7em; color: #64b5f6;\">INST</span></span> улицах городского поселения ; \n",
       "- <span style=\"padding: 2px; border-radius: 4px; border: 1px solid #bbdefb; background: #e3f2fd\">естественное<span style=\"vertical-align: middle; margin-left: 2px; font-size: 0.7em; color: #64b5f6;\">INST</span></span> <span style=\"padding: 2px; border-radius: 4px; border: 1px solid #bbdefb; background: #e3f2fd\">старение сетей и оборудования систем уличного освещения<span style=\"vertical-align: middle; margin-left: 2px; font-size: 0.7em; color: #64b5f6;\">INST</span></span> городского поселения ; \n",
       "- <span style=\"padding: 2px; border-radius: 4px; border: 1px solid #bbdefb; background: #e3f2fd\">отсутствие<span style=\"vertical-align: middle; margin-left: 2px; font-size: 0.7em; color: #64b5f6;\">INST</span></span> <span style=\"padding: 2px; border-radius: 4px; border: 1px solid #bbdefb; background: #e3f2fd\">современной<span style=\"vertical-align: middle; margin-left: 2px; font-size: 0.7em; color: #64b5f6;\">INST</span></span> системы <span style=\"padding: 2px; border-radius: 4px; border: 1px solid #bbdefb; background: #e3f2fd\">мониторинга работы<span style=\"vertical-align: middle; margin-left: 2px; font-size: 0.7em; color: #64b5f6;\">INST</span></span> <span style=\"padding: 2px; border-radius: 4px; border: 1px solid #bbdefb; background: #e3f2fd\">электрической системы<span style=\"vertical-align: middle; margin-left: 2px; font-size: 0.7em; color: #64b5f6;\">INST</span></span> и ее <span style=\"padding: 2px; border-radius: 4px; border: 1px solid #bbdefb; background: #e3f2fd\">управления<span style=\"vertical-align: middle; margin-left: 2px; font-size: 0.7em; color: #64b5f6;\">INST</span></span> . \n",
       "Решение проблемы этого <span style=\"padding: 2px; border-radius: 4px; border: 1px solid #bbdefb; background: #e3f2fd\">раздела<span style=\"vertical-align: middle; margin-left: 2px; font-size: 0.7em; color: #64b5f6;\">INST</span></span> лежит в <span style=\"padding: 2px; border-radius: 4px; border: 1px solid #bbdefb; background: #e3f2fd\">плоскости строительства<span style=\"vertical-align: middle; margin-left: 2px; font-size: 0.7em; color: #64b5f6;\">INST</span></span> и <span style=\"padding: 2px; border-radius: 4px; border: 1px solid #bbdefb; background: #e3f2fd\">реконструкции<span style=\"vertical-align: middle; margin-left: 2px; font-size: 0.7em; color: #64b5f6;\">INST</span></span> линий <span style=\"padding: 2px; border-radius: 4px; border: 1px solid #bbdefb; background: #e3f2fd\">уличного освещения<span style=\"vertical-align: middle; margin-left: 2px; font-size: 0.7em; color: #64b5f6;\">INST</span></span> , <span style=\"padding: 2px; border-radius: 4px; border: 1px solid #bbdefb; background: #e3f2fd\">увеличения<span style=\"vertical-align: middle; margin-left: 2px; font-size: 0.7em; color: #64b5f6;\">INST</span></span> <span style=\"padding: 2px; border-radius: 4px; border: 1px solid #bbdefb; background: #e3f2fd\">количества осветительных приборов<span style=\"vertical-align: middle; margin-left: 2px; font-size: 0.7em; color: #64b5f6;\">INST</span></span> и внедрения <span style=\"padding: 2px; border-radius: 4px; border: 1px solid #bbdefb; background: #e3f2fd\">системы<span style=\"vertical-align: middle; margin-left: 2px; font-size: 0.7em; color: #64b5f6;\">INST</span></span> мониторинга <span style=\"padding: 2px; border-radius: 4px; border: 1px solid #bbdefb; background: #e3f2fd\">и управления<span style=\"vertical-align: middle; margin-left: 2px; font-size: 0.7em; color: #64b5f6;\">INST</span></span> . \n",
       "<span style=\"padding: 2px; border-radius: 4px; border: 1px solid #bbdefb; background: #e3f2fd\">Озеленение<span style=\"vertical-align: middle; margin-left: 2px; font-size: 0.7em; color: #64b5f6;\">INST</span></span> \n",
       "Состояние <span style=\"padding: 2px; border-radius: 4px; border: 1px solid #bbdefb; background: #e3f2fd\">зеленых насаждений<span style=\"vertical-align: middle; margin-left: 2px; font-size: 0.7em; color: #64b5f6;\">INST</span></span> на территории городского поселения <span style=\"padding: 2px; border-radius: 4px; border: 1px solid #bbdefb; background: #e3f2fd\">ухудшается<span style=\"vertical-align: middle; margin-left: 2px; font-size: 0.7em; color: #64b5f6;\">INST</span></span> , <span style=\"padding: 2px; border-radius: 4px; border: 1px solid #bbdefb; background: #e3f2fd\">значительная<span style=\"vertical-align: middle; margin-left: 2px; font-size: 0.7em; color: #64b5f6;\">INST</span></span> часть <span style=\"padding: 2px; border-radius: 4px; border: 1px solid #bbdefb; background: #e3f2fd\">зеленых насаждений<span style=\"vertical-align: middle; margin-left: 2px; font-size: 0.7em; color: #64b5f6;\">INST</span></span> посажена в 60  х - 70  х годах <span style=\"padding: 2px; border-radius: 4px; border: 1px solid #bbdefb; background: #e3f2fd\">прошлого столетия<span style=\"vertical-align: middle; margin-left: 2px; font-size: 0.7em; color: #64b5f6;\">INST</span></span> <span style=\"padding: 2px; border-radius: 4px; border: 1px solid #bbdefb; background: #e3f2fd\">достигла состояния естественного<span style=\"vertical-align: middle; margin-left: 2px; font-size: 0.7em; color: #64b5f6;\">INST</span></span> старения . \n",
       "В области <span style=\"padding: 2px; border-radius: 4px; border: 1px solid #bbdefb; background: #e3f2fd\">озеленения<span style=\"vertical-align: middle; margin-left: 2px; font-size: 0.7em; color: #64b5f6;\">INST</span></span> территории городского поселения можно <span style=\"padding: 2px; border-radius: 4px; border: 1px solid #bbdefb; background: #e3f2fd\">выделить<span style=\"vertical-align: middle; margin-left: 2px; font-size: 0.7em; color: #64b5f6;\">INST</span></span> следующие основные проблемы : \n",
       "- <span style=\"padding: 2px; border-radius: 4px; border: 1px solid #bbdefb; background: #e3f2fd\">недостаточный<span style=\"vertical-align: middle; margin-left: 2px; font-size: 0.7em; color: #64b5f6;\">INST</span></span> <span style=\"padding: 2px; border-radius: 4px; border: 1px solid #bbdefb; background: #e3f2fd\">уровень озеленения<span style=\"vertical-align: middle; margin-left: 2px; font-size: 0.7em; color: #64b5f6;\">INST</span></span> территории городского поселения ; \n",
       "- старовозрастность существующих <span style=\"padding: 2px; border-radius: 4px; border: 1px solid #bbdefb; background: #e3f2fd\">зеленых насаждений<span style=\"vertical-align: middle; margin-left: 2px; font-size: 0.7em; color: #64b5f6;\">INST</span></span> ; \n",
       "- <span style=\"padding: 2px; border-radius: 4px; border: 1px solid #bbdefb; background: #e3f2fd\">наличие большого<span style=\"vertical-align: middle; margin-left: 2px; font-size: 0.7em; color: #64b5f6;\">INST</span></span> <span style=\"padding: 2px; border-radius: 4px; border: 1px solid #bbdefb; background: #e3f2fd\">количества старовозрастных опасных деревьев<span style=\"vertical-align: middle; margin-left: 2px; font-size: 0.7em; color: #64b5f6;\">INST</span></span> ; \n",
       "- <span style=\"padding: 2px; border-radius: 4px; border: 1px solid #bbdefb; background: #e3f2fd\">хаотичность зеленых<span style=\"vertical-align: middle; margin-left: 2px; font-size: 0.7em; color: #64b5f6;\">INST</span></span> посадок <span style=\"padding: 2px; border-radius: 4px; border: 1px solid #bbdefb; background: #e3f2fd\">осуществляемых<span style=\"vertical-align: middle; margin-left: 2px; font-size: 0.7em; color: #64b5f6;\">INST</span></span> населением ; \n",
       "- <span style=\"padding: 2px; border-radius: 4px; border: 1px solid #bbdefb; background: #e3f2fd\">отсутствие<span style=\"vertical-align: middle; margin-left: 2px; font-size: 0.7em; color: #64b5f6;\">INST</span></span> системного ухода за <span style=\"padding: 2px; border-radius: 4px; border: 1px solid #bbdefb; background: #e3f2fd\">большей частью насаждений<span style=\"vertical-align: middle; margin-left: 2px; font-size: 0.7em; color: #64b5f6;\">INST</span></span> ; \n",
       "- малое <span style=\"padding: 2px; border-radius: 4px; border: 1px solid #bbdefb; background: #e3f2fd\">количество<span style=\"vertical-align: middle; margin-left: 2px; font-size: 0.7em; color: #64b5f6;\">INST</span></span> кустарниковой декоративной растительности ; \n",
       "- малое <span style=\"padding: 2px; border-radius: 4px; border: 1px solid #bbdefb; background: #e3f2fd\">количество обустроенных надлежащим образом газонов<span style=\"vertical-align: middle; margin-left: 2px; font-size: 0.7em; color: #64b5f6;\">INST</span></span> и <span style=\"padding: 2px; border-radius: 4px; border: 1px solid #bbdefb; background: #e3f2fd\">цветников<span style=\"vertical-align: middle; margin-left: 2px; font-size: 0.7em; color: #64b5f6;\">INST</span></span> ; \n",
       "- бурная , сорная кустарниковая растительность вдоль обочин <span style=\"padding: 2px; border-radius: 4px; border: 1px solid #bbdefb; background: #e3f2fd\">дорог<span style=\"vertical-align: middle; margin-left: 2px; font-size: 0.7em; color: #64b5f6;\">INST</span></span> улично - <span style=\"padding: 2px; border-radius: 4px; border: 1px solid #bbdefb; background: #e3f2fd\">дорожной<span style=\"vertical-align: middle; margin-left: 2px; font-size: 0.7em; color: #64b5f6;\">INST</span></span> сети городского поселения . \n",
       "Для улучшения и <span style=\"padding: 2px; border-radius: 4px; border: 1px solid #bbdefb; background: #e3f2fd\">поддержания<span style=\"vertical-align: middle; margin-left: 2px; font-size: 0.7em; color: #64b5f6;\">INST</span></span> состояния <span style=\"padding: 2px; border-radius: 4px; border: 1px solid #bbdefb; background: #e3f2fd\">зеленых насаждений<span style=\"vertical-align: middle; margin-left: 2px; font-size: 0.7em; color: #64b5f6;\">INST</span></span> в условиях городской среды , <span style=\"padding: 2px; border-radius: 4px; border: 1px solid #bbdefb; background: #e3f2fd\">устранения<span style=\"vertical-align: middle; margin-left: 2px; font-size: 0.7em; color: #64b5f6;\">INST</span></span> аварийной ситуации , соответствия <span style=\"padding: 2px; border-radius: 4px; border: 1px solid #bbdefb; background: #e3f2fd\">эксплуатационным<span style=\"vertical-align: middle; margin-left: 2px; font-size: 0.7em; color: #64b5f6;\">INST</span></span> требованиям к <span style=\"padding: 2px; border-radius: 4px; border: 1px solid #bbdefb; background: #e3f2fd\">объектам<span style=\"vertical-align: middle; margin-left: 2px; font-size: 0.7em; color: #64b5f6;\">INST</span></span> городского <span style=\"padding: 2px; border-radius: 4px; border: 1px solid #bbdefb; background: #e3f2fd\">коммунального<span style=\"vertical-align: middle; margin-left: 2px; font-size: 0.7em; color: #64b5f6;\">INST</span></span> хозяйства , придания <span style=\"padding: 2px; border-radius: 4px; border: 1px solid #bbdefb; background: #e3f2fd\">зеленым насаждениям надлежащего декоративного облика требуется<span style=\"vertical-align: middle; margin-left: 2px; font-size: 0.7em; color: #64b5f6;\">INST</span></span> <span style=\"padding: 2px; border-radius: 4px; border: 1px solid #bbdefb; background: #e3f2fd\">своевременное<span style=\"vertical-align: middle; margin-left: 2px; font-size: 0.7em; color: #64b5f6;\">INST</span></span> <span style=\"padding: 2px; border-radius: 4px; border: 1px solid #bbdefb; background: #e3f2fd\">проведение работ<span style=\"vertical-align: middle; margin-left: 2px; font-size: 0.7em; color: #64b5f6;\">INST</span></span> по <span style=\"padding: 2px; border-radius: 4px; border: 1px solid #bbdefb; background: #e3f2fd\">ремонту<span style=\"vertical-align: middle; margin-left: 2px; font-size: 0.7em; color: #64b5f6;\">INST</span></span> и <span style=\"padding: 2px; border-radius: 4px; border: 1px solid #bbdefb; background: #e3f2fd\">содержанию зеленых насаждений<span style=\"vertical-align: middle; margin-left: 2px; font-size: 0.7em; color: #64b5f6;\">INST</span></span> на территории городского поселения . \n",
       "Особое <span style=\"padding: 2px; border-radius: 4px; border: 1px solid #bbdefb; background: #e3f2fd\">внимание<span style=\"vertical-align: middle; margin-left: 2px; font-size: 0.7em; color: #64b5f6;\">INST</span></span> следует <span style=\"padding: 2px; border-radius: 4px; border: 1px solid #bbdefb; background: #e3f2fd\">уделять восстановлению зеленого фонда путем планомерной замены старовозрастных<span style=\"vertical-align: middle; margin-left: 2px; font-size: 0.7em; color: #64b5f6;\">INST</span></span> и аварийных <span style=\"padding: 2px; border-radius: 4px; border: 1px solid #bbdefb; background: #e3f2fd\">насаждений<span style=\"vertical-align: middle; margin-left: 2px; font-size: 0.7em; color: #64b5f6;\">INST</span></span> , используя <span style=\"padding: 2px; border-radius: 4px; border: 1px solid #bbdefb; background: #e3f2fd\">крупномерный<span style=\"vertical-align: middle; margin-left: 2px; font-size: 0.7em; color: #64b5f6;\">INST</span></span> <span style=\"padding: 2px; border-radius: 4px; border: 1px solid #bbdefb; background: #e3f2fd\">посадочный<span style=\"vertical-align: middle; margin-left: 2px; font-size: 0.7em; color: #64b5f6;\">INST</span></span> <span style=\"padding: 2px; border-radius: 4px; border: 1px solid #bbdefb; background: #e3f2fd\">материал<span style=\"vertical-align: middle; margin-left: 2px; font-size: 0.7em; color: #64b5f6;\">INST</span></span> <span style=\"padding: 2px; border-radius: 4px; border: 1px solid #bbdefb; background: #e3f2fd\">саженцев деревьев ценных пород<span style=\"vertical-align: middle; margin-left: 2px; font-size: 0.7em; color: #64b5f6;\">INST</span></span> и декоративных <span style=\"padding: 2px; border-radius: 4px; border: 1px solid #bbdefb; background: #e3f2fd\">кустарников<span style=\"vertical-align: middle; margin-left: 2px; font-size: 0.7em; color: #64b5f6;\">INST</span></span> . \n",
       "Так же для решения проблем данного раздела требуется проведение мероприятий по своевременному скосу имеющихся газонов , увеличению цветников и клумб на территории города . \n",
       "Отлов безнадзорных животных \n",
       "Основной проблемой большого количества на территории городского поселения безнадзорных животных ( в основном собак ) является : \n",
       "- низкая культура населения в области содержания домашних животных ; \n",
       "- не применение механизма привлечения к ответственности хозяев животных нарушающих правила их содержания ; \n",
       "- недостаточная пропагандистская работа среди населения по содержанию домашних животных . \n",
       "Решением проблемы является применение мер административного воздействия к лицам , нарушающим правила содержания домашних животных , а так же меры по принудительному отлову бесхозяйных животных . \n",
       "Содержание ливневых водоотводных канав \n",
       "Основными проблемами не качественной работы данной системы являются : \n",
       "- многолетняя запущенность и захламленность городских водоотводных канав ; \n",
       "- отсутствие укрепительных элементов ( откосов ) ливневых водоотводных канав , что препятствует организации нормального водостока ; \n",
       "- нежелание жителей осуществлять очистку данных канав проходящих по земельным участкам , закрепленных за их домовладениями ; \n",
       "Решением данной проблемы станет : \n",
       "- поэтапное восстановление общей ливневой водоотводной системы городского поселения , а именно очистка открытых участков ливневой водоотводной канавы от мусора и поросли вручную и с помощью спец  техники ; \n",
       "- проведение работ по перекладке труб и лотков под дорогами , с соблюдением необходимых уклонов для качественной работы системы ; \n",
       "- работа с населением через предупредительные меры о необходимости своевременной очистки , не захламления ливневых канав проходящих по земельным участкам , закрепленных за их домовладениями ; \n",
       "- публикация информационных материалов по данной проблематике в средствах массовой информации . \n",
       "Не  санкционированные свалки \n",
       "За период действия программы , число не  санкционированных свалок на территории городского поселения сократилось в 3 раза . \n",
       "Между тем , их формирование продолжается . \n",
       "Причиной этого является отсутствие достаточного количества оборудованных мест для складирования мусора , отсутствие системного подхода к вывозу мусора с территории частного сектора городского поселения . \n",
       "Реестр не  санкционированных свалок приведен в таблице 1 . \n",
       "Таблица 1 \n",
       "Реестр \n",
       "не  санкционированных свалок на территории г. Судогда \n",
       "Пути решения данной проблемы : \n",
       "- регулярная ликвидация не  санкционированных свалок ; \n",
       "- увеличение количества площадок для сбора ТБО ; \n",
       "- контроль за соблюдением правил обращения с ТБО , правил благоустройства ; \n",
       "- разъяснительная работа в СМИ и др . \n",
       "Внешнее благоустройство \n",
       "Одна из задач внешнего благоустройства – повышение разнообразия и художественной выразительности застройки и открытых озелененных пространств . \n",
       "Современные жилые территории без малых архитектурных форм являются безликими и невыразительными . \n",
       "Содержание малых архитектурных форм должно предусматривать их нормальную эксплуатацию . \n",
       "Садово - парковая мебель , малые архитектурные формы и оборудование должны иметь хороший внешний вид : окрашены , содержаться в чистоте , и находится в исправном состоянии . \n",
       "Их цветовое решение должно вносить в городскую застройку жизнерадостный колорит и разнообразие . \n",
       "Для решения данной задачи необходимо разработка концепции наполнения городских улиц малыми архитектурными формами с ее последующей реализацией . \n",
       "Места общественного отдыха населения \n",
       "В настоящее время в городском поселении назрела необходимость в увеличении количества обустроенных мест общественного отдыха населения . \n",
       "Возможные пути решения это : \n",
       "- реконструкция существующих мест общественного отдыха ; \n",
       "- обустройство мест для отдыха в отдаленных от центра микрорайонах ; \n",
       "- создание обустроенных зон отдыха в городских парках , скверах , прибрежных зонах . \n",
       "Для решения этой проблемы необходимо разработать и реализовать проект обустройства мест общественного отдыха . \n",
       "Содержание автомобильных дорог и безопасность дорожного движения \n",
       "Одной из важнейших задач благоустройства городского поселения является содержание автомобильных дорог в летний и зимний периоды , а также организация безопасности дорожного движения . \n",
       "Основными проблемами являются : высокий износ пешеходных тротуаров , автомобильных дорог общего пользования , дорожных знаков , горизонтальной дорожной разметки , парковочных карманов , наличие снежных навалов на центральных улицах городского поселения и гололедица в зимний период . \n",
       "Возможные пути решения : \n",
       "- щебеночный ремонт дорожного покрытия ; \n",
       "- ремонт тротуарной сети ; \n",
       "- увеличение доли бордюрного оформления дорог и тротуаров ; \n",
       "- оборудование пешеходных переходов ограждениями ; \n",
       "- оформление дорог дорожными знаками и горизонтальной дорожной разметкой ; \n",
       "- ремонт парковочных карманов ; \n",
       "- своевременная очистка от снега улиц и тротуаров , а также подсыпка противогололедными материалами . \n",
       "Основные цели и задачи реализации Программы \n",
       "Основной целью Программы является комплексное решение проблем благоустройства , осуществление мероприятий по улучшению санитарного и эстетичного вида территории городского поселения и повышению комфортности проживания граждан . \n",
       "Основными задачами Программы являются : \n",
       "- обеспечение бесперебойной работы уличного освещения городского поселения ; \n",
       "- увеличение наружных линий уличного освещения ; уменьшение количества опасных деревьев ; \n",
       "- уменьшение количества бесхозных , бродячих животных ; обеспечение нормального функционирования ливневых водоотводных канав ; сокращение не  санкционированных свалок на территории городского поселения ; \n",
       "- установкой дополнительных мусорных урн на территории городского поселения ;</div>"
      ],
      "text/plain": [
       "<IPython.core.display.HTML object>"
      ]
     },
     "metadata": {},
     "output_type": "display_data"
    }
   ],
   "source": [
    "predict(lstm_model, test_loader)"
   ]
  },
  {
   "cell_type": "markdown",
   "id": "5317c03f",
   "metadata": {},
   "source": [
    "## Контекстная модель: LSTM над CharFF"
   ]
  },
  {
   "cell_type": "code",
   "execution_count": 25,
   "id": "f7e5a77b",
   "metadata": {},
   "outputs": [
    {
     "name": "stderr",
     "output_type": "stream",
     "text": [
      "GPU available: False, used: False\n",
      "TPU available: False, using: 0 TPU cores\n",
      "\n",
      "  | Name             | Type             | Params\n",
      "------------------------------------------------------\n",
      "0 | loss             | CrossEntropyLoss | 0     \n",
      "1 | valid_accuracy   | Accuracy         | 0     \n",
      "2 | test_accuracy    | Accuracy         | 0     \n",
      "3 | embeddings_layer | Embedding        | 696   \n",
      "4 | dropout          | Dropout          | 0     \n",
      "5 | linear           | Linear           | 3.2 K \n",
      "6 | relu             | ReLU             | 0     \n",
      "7 | lstm_layer       | LSTM             | 1.7 K \n",
      "8 | out_layer        | Linear           | 51    \n",
      "------------------------------------------------------\n",
      "5.6 K     Trainable params\n",
      "0         Non-trainable params\n",
      "5.6 K     Total params\n",
      "0.023     Total estimated model params size (MB)\n"
     ]
    },
    {
     "name": "stdout",
     "output_type": "stream",
     "text": [
      "Epoch 0: 100%|████████████████████████████████████████████████████████████████████████████████████████| 6/6 [00:04<00:00,  1.49it/s]\n",
      "Validating: 0it [00:00, ?it/s]\u001b[A\n",
      "Validating:   0%|                                                                                             | 0/1 [00:00<?, ?it/s]\u001b[A"
     ]
    },
    {
     "name": "stderr",
     "output_type": "stream",
     "text": [
      "Metric val_loss improved. New best score: 0.981\n"
     ]
    },
    {
     "name": "stdout",
     "output_type": "stream",
     "text": [
      "Epoch 0: 100%|██████████████████████████████| 6/6 [00:04<00:00,  1.46it/s, loss=1.04, v_num=22, val_loss=0.981, val_acc_epoch=0.653]\n",
      "Epoch 1: 100%|██████████████████████████████| 6/6 [00:03<00:00,  1.55it/s, loss=1.04, v_num=22, val_loss=0.981, val_acc_epoch=0.653]\u001b[A\n",
      "Validating: 0it [00:00, ?it/s]\u001b[A\n",
      "Validating:   0%|                                                                                             | 0/1 [00:00<?, ?it/s]\u001b[A"
     ]
    },
    {
     "name": "stderr",
     "output_type": "stream",
     "text": [
      "Metric val_loss improved by 0.034 >= min_delta = 0.0. New best score: 0.947\n"
     ]
    },
    {
     "name": "stdout",
     "output_type": "stream",
     "text": [
      "Epoch 1: 100%|██████████████████████████████| 6/6 [00:03<00:00,  1.52it/s, loss=1.01, v_num=22, val_loss=0.947, val_acc_epoch=0.653]\n",
      "Epoch 2: 100%|██████████████████████████████| 6/6 [00:04<00:00,  1.50it/s, loss=1.01, v_num=22, val_loss=0.947, val_acc_epoch=0.653]\u001b[A\n",
      "Validating: 0it [00:00, ?it/s]\u001b[A\n",
      "Validating:   0%|                                                                                             | 0/1 [00:00<?, ?it/s]\u001b[A"
     ]
    },
    {
     "name": "stderr",
     "output_type": "stream",
     "text": [
      "Metric val_loss improved by 0.027 >= min_delta = 0.0. New best score: 0.920\n"
     ]
    },
    {
     "name": "stdout",
     "output_type": "stream",
     "text": [
      "Epoch 2: 100%|█████████████████████████████| 6/6 [00:04<00:00,  1.47it/s, loss=0.997, v_num=22, val_loss=0.920, val_acc_epoch=0.653]\n",
      "Epoch 3: 100%|█████████████████████████████| 6/6 [00:03<00:00,  1.55it/s, loss=0.997, v_num=22, val_loss=0.920, val_acc_epoch=0.653]\u001b[A\n",
      "Validating: 0it [00:00, ?it/s]\u001b[A\n",
      "Validating:   0%|                                                                                             | 0/1 [00:00<?, ?it/s]\u001b[A"
     ]
    },
    {
     "name": "stderr",
     "output_type": "stream",
     "text": [
      "Metric val_loss improved by 0.016 >= min_delta = 0.0. New best score: 0.904\n"
     ]
    },
    {
     "name": "stdout",
     "output_type": "stream",
     "text": [
      "Epoch 3: 100%|█████████████████████████████| 6/6 [00:03<00:00,  1.53it/s, loss=0.983, v_num=22, val_loss=0.904, val_acc_epoch=0.653]\n",
      "Epoch 4: 100%|█████████████████████████████| 6/6 [00:03<00:00,  1.51it/s, loss=0.983, v_num=22, val_loss=0.904, val_acc_epoch=0.653]\u001b[A\n",
      "Validating: 0it [00:00, ?it/s]\u001b[A\n",
      "Validating:   0%|                                                                                             | 0/1 [00:00<?, ?it/s]\u001b[A"
     ]
    },
    {
     "name": "stderr",
     "output_type": "stream",
     "text": [
      "Metric val_loss improved by 0.010 >= min_delta = 0.0. New best score: 0.894\n"
     ]
    },
    {
     "name": "stdout",
     "output_type": "stream",
     "text": [
      "Epoch 4: 100%|█████████████████████████████| 6/6 [00:04<00:00,  1.48it/s, loss=0.954, v_num=22, val_loss=0.894, val_acc_epoch=0.653]\n",
      "Epoch 5: 100%|█████████████████████████████| 6/6 [00:04<00:00,  1.48it/s, loss=0.954, v_num=22, val_loss=0.894, val_acc_epoch=0.653]\u001b[A\n",
      "Validating: 0it [00:00, ?it/s]\u001b[A\n",
      "Validating:   0%|                                                                                             | 0/1 [00:00<?, ?it/s]\u001b[A"
     ]
    },
    {
     "name": "stderr",
     "output_type": "stream",
     "text": [
      "Metric val_loss improved by 0.008 >= min_delta = 0.0. New best score: 0.886\n"
     ]
    },
    {
     "name": "stdout",
     "output_type": "stream",
     "text": [
      "Epoch 5: 100%|█████████████████████████████| 6/6 [00:04<00:00,  1.46it/s, loss=0.938, v_num=22, val_loss=0.886, val_acc_epoch=0.653]\n",
      "Epoch 6: 100%|█████████████████████████████| 6/6 [00:04<00:00,  1.47it/s, loss=0.938, v_num=22, val_loss=0.886, val_acc_epoch=0.653]\u001b[A\n",
      "Validating: 0it [00:00, ?it/s]\u001b[A\n",
      "Validating:   0%|                                                                                             | 0/1 [00:00<?, ?it/s]\u001b[A"
     ]
    },
    {
     "name": "stderr",
     "output_type": "stream",
     "text": [
      "Metric val_loss improved by 0.007 >= min_delta = 0.0. New best score: 0.880\n"
     ]
    },
    {
     "name": "stdout",
     "output_type": "stream",
     "text": [
      "Epoch 6: 100%|█████████████████████████████| 6/6 [00:04<00:00,  1.45it/s, loss=0.922, v_num=22, val_loss=0.880, val_acc_epoch=0.653]\n",
      "Epoch 7: 100%|█████████████████████████████| 6/6 [00:04<00:00,  1.49it/s, loss=0.922, v_num=22, val_loss=0.880, val_acc_epoch=0.653]\u001b[A\n",
      "Validating: 0it [00:00, ?it/s]\u001b[A\n",
      "Validating:   0%|                                                                                             | 0/1 [00:00<?, ?it/s]\u001b[A"
     ]
    },
    {
     "name": "stderr",
     "output_type": "stream",
     "text": [
      "Metric val_loss improved by 0.002 >= min_delta = 0.0. New best score: 0.877\n"
     ]
    },
    {
     "name": "stdout",
     "output_type": "stream",
     "text": [
      "Epoch 7: 100%|█████████████████████████████| 6/6 [00:04<00:00,  1.46it/s, loss=0.906, v_num=22, val_loss=0.877, val_acc_epoch=0.653]\n",
      "Epoch 8: 100%|█████████████████████████████| 6/6 [00:04<00:00,  1.49it/s, loss=0.906, v_num=22, val_loss=0.877, val_acc_epoch=0.653]\u001b[A\n",
      "Validating: 0it [00:00, ?it/s]\u001b[A\n",
      "Validating:   0%|                                                                                             | 0/1 [00:00<?, ?it/s]\u001b[A"
     ]
    },
    {
     "name": "stderr",
     "output_type": "stream",
     "text": [
      "Metric val_loss improved by 0.001 >= min_delta = 0.0. New best score: 0.876\n"
     ]
    },
    {
     "name": "stdout",
     "output_type": "stream",
     "text": [
      "Epoch 8: 100%|█████████████████████████████| 6/6 [00:04<00:00,  1.47it/s, loss=0.898, v_num=22, val_loss=0.876, val_acc_epoch=0.653]\n",
      "Epoch 9: 100%|█████████████████████████████| 6/6 [00:04<00:00,  1.50it/s, loss=0.898, v_num=22, val_loss=0.876, val_acc_epoch=0.653]\u001b[A\n",
      "Validating: 0it [00:00, ?it/s]\u001b[A\n",
      "Validating:   0%|                                                                                             | 0/1 [00:00<?, ?it/s]\u001b[A"
     ]
    },
    {
     "name": "stderr",
     "output_type": "stream",
     "text": [
      "Metric val_loss improved by 0.001 >= min_delta = 0.0. New best score: 0.875\n"
     ]
    },
    {
     "name": "stdout",
     "output_type": "stream",
     "text": [
      "Epoch 9: 100%|█████████████████████████████| 6/6 [00:04<00:00,  1.48it/s, loss=0.896, v_num=22, val_loss=0.875, val_acc_epoch=0.653]\n",
      "Epoch 10: 100%|████████████████████████████| 6/6 [00:03<00:00,  1.55it/s, loss=0.896, v_num=22, val_loss=0.875, val_acc_epoch=0.653]\u001b[A\n",
      "Validating: 0it [00:00, ?it/s]\u001b[A\n",
      "Validating:   0%|                                                                                             | 0/1 [00:00<?, ?it/s]\u001b[A"
     ]
    },
    {
     "name": "stderr",
     "output_type": "stream",
     "text": [
      "Metric val_loss improved by 0.003 >= min_delta = 0.0. New best score: 0.872\n"
     ]
    },
    {
     "name": "stdout",
     "output_type": "stream",
     "text": [
      "Epoch 10: 100%|████████████████████████████| 6/6 [00:03<00:00,  1.53it/s, loss=0.895, v_num=22, val_loss=0.872, val_acc_epoch=0.653]\n",
      "Epoch 11: 100%|████████████████████████████| 6/6 [00:04<00:00,  1.48it/s, loss=0.895, v_num=22, val_loss=0.872, val_acc_epoch=0.653]\u001b[A\n",
      "Validating: 0it [00:00, ?it/s]\u001b[A\n",
      "Validating:   0%|                                                                                             | 0/1 [00:00<?, ?it/s]\u001b[A"
     ]
    },
    {
     "name": "stderr",
     "output_type": "stream",
     "text": [
      "Metric val_loss improved by 0.004 >= min_delta = 0.0. New best score: 0.868\n"
     ]
    },
    {
     "name": "stdout",
     "output_type": "stream",
     "text": [
      "Epoch 11: 100%|████████████████████████████| 6/6 [00:04<00:00,  1.45it/s, loss=0.896, v_num=22, val_loss=0.868, val_acc_epoch=0.653]\n",
      "Epoch 12: 100%|████████████████████████████| 6/6 [00:04<00:00,  1.48it/s, loss=0.896, v_num=22, val_loss=0.868, val_acc_epoch=0.653]\u001b[A\n",
      "Validating: 0it [00:00, ?it/s]\u001b[A\n",
      "Validating:   0%|                                                                                             | 0/1 [00:00<?, ?it/s]\u001b[A"
     ]
    },
    {
     "name": "stderr",
     "output_type": "stream",
     "text": [
      "Metric val_loss improved by 0.005 >= min_delta = 0.0. New best score: 0.863\n"
     ]
    },
    {
     "name": "stdout",
     "output_type": "stream",
     "text": [
      "Epoch 12: 100%|████████████████████████████| 6/6 [00:04<00:00,  1.45it/s, loss=0.895, v_num=22, val_loss=0.863, val_acc_epoch=0.653]\n",
      "Epoch 13: 100%|████████████████████████████| 6/6 [00:03<00:00,  1.51it/s, loss=0.895, v_num=22, val_loss=0.863, val_acc_epoch=0.653]\u001b[A\n",
      "Validating: 0it [00:00, ?it/s]\u001b[A\n",
      "Validating:   0%|                                                                                             | 0/1 [00:00<?, ?it/s]\u001b[A"
     ]
    },
    {
     "name": "stderr",
     "output_type": "stream",
     "text": [
      "Metric val_loss improved by 0.005 >= min_delta = 0.0. New best score: 0.857\n"
     ]
    },
    {
     "name": "stdout",
     "output_type": "stream",
     "text": [
      "Epoch 13: 100%|████████████████████████████| 6/6 [00:04<00:00,  1.48it/s, loss=0.893, v_num=22, val_loss=0.857, val_acc_epoch=0.653]\n",
      "Epoch 14: 100%|████████████████████████████| 6/6 [00:04<00:00,  1.47it/s, loss=0.893, v_num=22, val_loss=0.857, val_acc_epoch=0.653]\u001b[A\n",
      "Validating: 0it [00:00, ?it/s]\u001b[A\n",
      "Validating:   0%|                                                                                             | 0/1 [00:00<?, ?it/s]\u001b[A"
     ]
    },
    {
     "name": "stderr",
     "output_type": "stream",
     "text": [
      "Metric val_loss improved by 0.007 >= min_delta = 0.0. New best score: 0.850\n"
     ]
    },
    {
     "name": "stdout",
     "output_type": "stream",
     "text": [
      "Epoch 14: 100%|████████████████████████████| 6/6 [00:04<00:00,  1.44it/s, loss=0.881, v_num=22, val_loss=0.850, val_acc_epoch=0.653]\n",
      "Epoch 15: 100%|████████████████████████████| 6/6 [00:04<00:00,  1.46it/s, loss=0.881, v_num=22, val_loss=0.850, val_acc_epoch=0.653]\u001b[A\n",
      "Validating: 0it [00:00, ?it/s]\u001b[A\n",
      "Validating:   0%|                                                                                             | 0/1 [00:00<?, ?it/s]\u001b[A"
     ]
    },
    {
     "name": "stderr",
     "output_type": "stream",
     "text": [
      "Metric val_loss improved by 0.011 >= min_delta = 0.0. New best score: 0.840\n"
     ]
    },
    {
     "name": "stdout",
     "output_type": "stream",
     "text": [
      "Epoch 15: 100%|█████████████████████████████| 6/6 [00:04<00:00,  1.44it/s, loss=0.88, v_num=22, val_loss=0.840, val_acc_epoch=0.653]\n",
      "Epoch 16: 100%|█████████████████████████████| 6/6 [00:05<00:00,  1.06it/s, loss=0.88, v_num=22, val_loss=0.840, val_acc_epoch=0.653]\u001b[A\n",
      "Validating: 0it [00:00, ?it/s]\u001b[A\n",
      "Validating:   0%|                                                                                             | 0/1 [00:00<?, ?it/s]\u001b[A\n",
      "Validating: 100%|█████████████████████████████████████████████████████████████████████████████████████| 1/1 [00:00<00:00,  8.44it/s]\u001b[A"
     ]
    },
    {
     "name": "stderr",
     "output_type": "stream",
     "text": [
      "Metric val_loss improved by 0.010 >= min_delta = 0.0. New best score: 0.830\n"
     ]
    },
    {
     "name": "stdout",
     "output_type": "stream",
     "text": [
      "Epoch 16: 100%|████████████████████████████| 6/6 [00:05<00:00,  1.03it/s, loss=0.877, v_num=22, val_loss=0.830, val_acc_epoch=0.653]\n",
      "Epoch 17: 100%|████████████████████████████| 6/6 [00:08<00:00,  1.42s/it, loss=0.877, v_num=22, val_loss=0.830, val_acc_epoch=0.653]\u001b[A\n",
      "Validating: 0it [00:00, ?it/s]\u001b[A\n",
      "Validating:   0%|                                                                                             | 0/1 [00:00<?, ?it/s]\u001b[A\n",
      "Validating: 100%|█████████████████████████████████████████████████████████████████████████████████████| 1/1 [00:00<00:00,  8.24it/s]\u001b[A"
     ]
    },
    {
     "name": "stderr",
     "output_type": "stream",
     "text": [
      "Metric val_loss improved by 0.010 >= min_delta = 0.0. New best score: 0.820\n"
     ]
    },
    {
     "name": "stdout",
     "output_type": "stream",
     "text": [
      "Epoch 17: 100%|████████████████████████████| 6/6 [00:08<00:00,  1.44s/it, loss=0.866, v_num=22, val_loss=0.820, val_acc_epoch=0.653]\n",
      "Epoch 18: 100%|████████████████████████████| 6/6 [00:06<00:00,  1.08s/it, loss=0.866, v_num=22, val_loss=0.820, val_acc_epoch=0.653]\u001b[A\n",
      "Validating: 0it [00:00, ?it/s]\u001b[A\n",
      "Validating:   0%|                                                                                             | 0/1 [00:00<?, ?it/s]\u001b[A"
     ]
    },
    {
     "name": "stderr",
     "output_type": "stream",
     "text": [
      "Metric val_loss improved by 0.008 >= min_delta = 0.0. New best score: 0.812\n"
     ]
    },
    {
     "name": "stdout",
     "output_type": "stream",
     "text": [
      "Epoch 18: 100%|████████████████████████████| 6/6 [00:06<00:00,  1.09s/it, loss=0.859, v_num=22, val_loss=0.812, val_acc_epoch=0.653]\n",
      "Epoch 19: 100%|████████████████████████████| 6/6 [00:03<00:00,  1.53it/s, loss=0.859, v_num=22, val_loss=0.812, val_acc_epoch=0.653]\u001b[A\n",
      "Validating: 0it [00:00, ?it/s]\u001b[A\n",
      "Validating:   0%|                                                                                             | 0/1 [00:00<?, ?it/s]\u001b[A"
     ]
    },
    {
     "name": "stderr",
     "output_type": "stream",
     "text": [
      "Metric val_loss improved by 0.011 >= min_delta = 0.0. New best score: 0.801\n"
     ]
    },
    {
     "name": "stdout",
     "output_type": "stream",
     "text": [
      "Epoch 19: 100%|████████████████████████████| 6/6 [00:03<00:00,  1.51it/s, loss=0.852, v_num=22, val_loss=0.801, val_acc_epoch=0.653]\n",
      "Epoch 20: 100%|████████████████████████████| 6/6 [00:04<00:00,  1.49it/s, loss=0.852, v_num=22, val_loss=0.801, val_acc_epoch=0.653]\u001b[A\n",
      "Validating: 0it [00:00, ?it/s]\u001b[A\n",
      "Validating:   0%|                                                                                             | 0/1 [00:00<?, ?it/s]\u001b[A"
     ]
    },
    {
     "name": "stderr",
     "output_type": "stream",
     "text": [
      "Metric val_loss improved by 0.008 >= min_delta = 0.0. New best score: 0.793\n"
     ]
    },
    {
     "name": "stdout",
     "output_type": "stream",
     "text": [
      "Epoch 20: 100%|████████████████████████████| 6/6 [00:04<00:00,  1.46it/s, loss=0.838, v_num=22, val_loss=0.793, val_acc_epoch=0.653]\n",
      "Epoch 21: 100%|████████████████████████████| 6/6 [00:03<00:00,  1.51it/s, loss=0.838, v_num=22, val_loss=0.793, val_acc_epoch=0.653]\u001b[A\n",
      "Validating: 0it [00:00, ?it/s]\u001b[A\n",
      "Validating:   0%|                                                                                             | 0/1 [00:00<?, ?it/s]\u001b[A"
     ]
    },
    {
     "name": "stderr",
     "output_type": "stream",
     "text": [
      "Metric val_loss improved by 0.003 >= min_delta = 0.0. New best score: 0.790\n"
     ]
    },
    {
     "name": "stdout",
     "output_type": "stream",
     "text": [
      "Epoch 21: 100%|████████████████████████████| 6/6 [00:04<00:00,  1.49it/s, loss=0.832, v_num=22, val_loss=0.790, val_acc_epoch=0.653]\n",
      "Epoch 22: 100%|████████████████████████████| 6/6 [00:04<00:00,  1.46it/s, loss=0.832, v_num=22, val_loss=0.790, val_acc_epoch=0.653]\u001b[A\n",
      "Validating: 0it [00:00, ?it/s]\u001b[A\n",
      "Validating:   0%|                                                                                             | 0/1 [00:00<?, ?it/s]\u001b[A"
     ]
    },
    {
     "name": "stderr",
     "output_type": "stream",
     "text": [
      "Metric val_loss improved by 0.008 >= min_delta = 0.0. New best score: 0.782\n"
     ]
    },
    {
     "name": "stdout",
     "output_type": "stream",
     "text": [
      "Epoch 22: 100%|████████████████████████████| 6/6 [00:04<00:00,  1.44it/s, loss=0.815, v_num=22, val_loss=0.782, val_acc_epoch=0.653]\n",
      "Epoch 23: 100%|████████████████████████████| 6/6 [00:04<00:00,  1.47it/s, loss=0.815, v_num=22, val_loss=0.782, val_acc_epoch=0.653]\u001b[A\n",
      "Validating: 0it [00:00, ?it/s]\u001b[A\n",
      "Validating:   0%|                                                                                             | 0/1 [00:00<?, ?it/s]\u001b[A"
     ]
    },
    {
     "name": "stderr",
     "output_type": "stream",
     "text": [
      "Metric val_loss improved by 0.005 >= min_delta = 0.0. New best score: 0.777\n"
     ]
    },
    {
     "name": "stdout",
     "output_type": "stream",
     "text": [
      "Epoch 23: 100%|█████████████████████████████| 6/6 [00:04<00:00,  1.44it/s, loss=0.81, v_num=22, val_loss=0.777, val_acc_epoch=0.653]\n",
      "Epoch 24: 100%|█████████████████████████████| 6/6 [00:04<00:00,  1.48it/s, loss=0.81, v_num=22, val_loss=0.777, val_acc_epoch=0.653]\u001b[A\n",
      "Validating: 0it [00:00, ?it/s]\u001b[A\n",
      "Validating:   0%|                                                                                             | 0/1 [00:00<?, ?it/s]\u001b[A"
     ]
    },
    {
     "name": "stderr",
     "output_type": "stream",
     "text": [
      "Metric val_loss improved by 0.004 >= min_delta = 0.0. New best score: 0.773\n"
     ]
    },
    {
     "name": "stdout",
     "output_type": "stream",
     "text": [
      "Epoch 24: 100%|████████████████████████████| 6/6 [00:04<00:00,  1.45it/s, loss=0.805, v_num=22, val_loss=0.773, val_acc_epoch=0.653]\n",
      "Epoch 25: 100%|████████████████████████████| 6/6 [00:04<00:00,  1.43it/s, loss=0.805, v_num=22, val_loss=0.773, val_acc_epoch=0.653]\u001b[A\n",
      "Validating: 0it [00:00, ?it/s]\u001b[A\n",
      "Epoch 25: 100%|████████████████████████████| 6/6 [00:04<00:00,  1.40it/s, loss=0.795, v_num=22, val_loss=0.775, val_acc_epoch=0.653]\u001b[A\n",
      "Epoch 26: 100%|████████████████████████████| 6/6 [00:04<00:00,  1.47it/s, loss=0.795, v_num=22, val_loss=0.775, val_acc_epoch=0.653]\u001b[A\n",
      "Validating: 0it [00:00, ?it/s]\u001b[A\n",
      "Validating:   0%|                                                                                             | 0/1 [00:00<?, ?it/s]\u001b[A"
     ]
    },
    {
     "name": "stderr",
     "output_type": "stream",
     "text": [
      "Metric val_loss improved by 0.003 >= min_delta = 0.0. New best score: 0.770\n"
     ]
    },
    {
     "name": "stdout",
     "output_type": "stream",
     "text": [
      "Epoch 26: 100%|████████████████████████████| 6/6 [00:04<00:00,  1.45it/s, loss=0.803, v_num=22, val_loss=0.770, val_acc_epoch=0.653]\n",
      "Epoch 27: 100%|████████████████████████████| 6/6 [00:04<00:00,  1.45it/s, loss=0.803, v_num=22, val_loss=0.770, val_acc_epoch=0.653]\u001b[A\n",
      "Validating: 0it [00:00, ?it/s]\u001b[A\n",
      "Validating:   0%|                                                                                             | 0/1 [00:00<?, ?it/s]\u001b[A"
     ]
    },
    {
     "name": "stderr",
     "output_type": "stream",
     "text": [
      "Metric val_loss improved by 0.004 >= min_delta = 0.0. New best score: 0.766\n"
     ]
    },
    {
     "name": "stdout",
     "output_type": "stream",
     "text": [
      "Epoch 27: 100%|████████████████████████████| 6/6 [00:04<00:00,  1.43it/s, loss=0.798, v_num=22, val_loss=0.766, val_acc_epoch=0.653]\n",
      "Epoch 28: 100%|████████████████████████████| 6/6 [00:03<00:00,  1.52it/s, loss=0.798, v_num=22, val_loss=0.766, val_acc_epoch=0.653]\u001b[A\n",
      "Validating: 0it [00:00, ?it/s]\u001b[A\n",
      "Validating:   0%|                                                                                             | 0/1 [00:00<?, ?it/s]\u001b[A"
     ]
    },
    {
     "name": "stderr",
     "output_type": "stream",
     "text": [
      "Metric val_loss improved by 0.001 >= min_delta = 0.0. New best score: 0.765\n"
     ]
    },
    {
     "name": "stdout",
     "output_type": "stream",
     "text": [
      "Epoch 28: 100%|████████████████████████████| 6/6 [00:04<00:00,  1.50it/s, loss=0.796, v_num=22, val_loss=0.765, val_acc_epoch=0.653]\n",
      "Epoch 29: 100%|████████████████████████████| 6/6 [00:03<00:00,  1.50it/s, loss=0.796, v_num=22, val_loss=0.765, val_acc_epoch=0.653]\u001b[A\n",
      "Validating: 0it [00:00, ?it/s]\u001b[A\n",
      "Validating:   0%|                                                                                             | 0/1 [00:00<?, ?it/s]\u001b[A"
     ]
    },
    {
     "name": "stderr",
     "output_type": "stream",
     "text": [
      "Metric val_loss improved by 0.001 >= min_delta = 0.0. New best score: 0.764\n"
     ]
    },
    {
     "name": "stdout",
     "output_type": "stream",
     "text": [
      "Epoch 29: 100%|████████████████████████████| 6/6 [00:04<00:00,  1.48it/s, loss=0.801, v_num=22, val_loss=0.764, val_acc_epoch=0.653]\n",
      "Epoch 30: 100%|████████████████████████████| 6/6 [00:03<00:00,  1.51it/s, loss=0.801, v_num=22, val_loss=0.764, val_acc_epoch=0.653]\u001b[A\n",
      "Validating: 0it [00:00, ?it/s]\u001b[A\n",
      "Validating:   0%|                                                                                             | 0/1 [00:00<?, ?it/s]\u001b[A"
     ]
    },
    {
     "name": "stderr",
     "output_type": "stream",
     "text": [
      "Metric val_loss improved by 0.003 >= min_delta = 0.0. New best score: 0.761\n"
     ]
    },
    {
     "name": "stdout",
     "output_type": "stream",
     "text": [
      "Epoch 30: 100%|████████████████████████████| 6/6 [00:04<00:00,  1.48it/s, loss=0.806, v_num=22, val_loss=0.761, val_acc_epoch=0.652]\n",
      "Epoch 31: 100%|████████████████████████████| 6/6 [00:03<00:00,  1.56it/s, loss=0.806, v_num=22, val_loss=0.761, val_acc_epoch=0.652]\u001b[A\n",
      "Validating: 0it [00:00, ?it/s]\u001b[A\n",
      "Validating:   0%|                                                                                             | 0/1 [00:00<?, ?it/s]\u001b[A"
     ]
    },
    {
     "name": "stderr",
     "output_type": "stream",
     "text": [
      "Metric val_loss improved by 0.001 >= min_delta = 0.0. New best score: 0.760\n"
     ]
    },
    {
     "name": "stdout",
     "output_type": "stream",
     "text": [
      "Epoch 31: 100%|████████████████████████████| 6/6 [00:03<00:00,  1.54it/s, loss=0.803, v_num=22, val_loss=0.760, val_acc_epoch=0.653]\n",
      "Epoch 32: 100%|████████████████████████████| 6/6 [00:03<00:00,  1.54it/s, loss=0.803, v_num=22, val_loss=0.760, val_acc_epoch=0.653]\u001b[A\n",
      "Validating: 0it [00:00, ?it/s]\u001b[A\n",
      "Epoch 32: 100%|████████████████████████████| 6/6 [00:03<00:00,  1.52it/s, loss=0.786, v_num=22, val_loss=0.764, val_acc_epoch=0.653]\u001b[A\n",
      "Epoch 33: 100%|████████████████████████████| 6/6 [00:03<00:00,  1.59it/s, loss=0.786, v_num=22, val_loss=0.764, val_acc_epoch=0.653]\u001b[A\n",
      "Validating: 0it [00:00, ?it/s]\u001b[A\n",
      "Epoch 33: 100%|████████████████████████████| 6/6 [00:03<00:00,  1.57it/s, loss=0.785, v_num=22, val_loss=0.761, val_acc_epoch=0.653]\u001b[A\n",
      "Epoch 34: 100%|████████████████████████████| 6/6 [00:04<00:00,  1.50it/s, loss=0.785, v_num=22, val_loss=0.761, val_acc_epoch=0.653]\u001b[A\n",
      "Validating: 0it [00:00, ?it/s]\u001b[A\n",
      "Validating:   0%|                                                                                             | 0/1 [00:00<?, ?it/s]\u001b[A"
     ]
    },
    {
     "name": "stderr",
     "output_type": "stream",
     "text": [
      "Metric val_loss improved by 0.001 >= min_delta = 0.0. New best score: 0.759\n"
     ]
    },
    {
     "name": "stdout",
     "output_type": "stream",
     "text": [
      "Epoch 34: 100%|████████████████████████████| 6/6 [00:04<00:00,  1.47it/s, loss=0.773, v_num=22, val_loss=0.759, val_acc_epoch=0.653]\n",
      "Epoch 35: 100%|████████████████████████████| 6/6 [00:04<00:00,  1.46it/s, loss=0.773, v_num=22, val_loss=0.759, val_acc_epoch=0.653]\u001b[A\n",
      "Validating: 0it [00:00, ?it/s]\u001b[A\n",
      "Validating:   0%|                                                                                             | 0/1 [00:00<?, ?it/s]\u001b[A"
     ]
    },
    {
     "name": "stderr",
     "output_type": "stream",
     "text": [
      "Metric val_loss improved by 0.003 >= min_delta = 0.0. New best score: 0.756\n"
     ]
    },
    {
     "name": "stdout",
     "output_type": "stream",
     "text": [
      "Epoch 35: 100%|████████████████████████████| 6/6 [00:04<00:00,  1.42it/s, loss=0.766, v_num=22, val_loss=0.756, val_acc_epoch=0.653]\n",
      "Epoch 36: 100%|████████████████████████████| 6/6 [00:03<00:00,  1.52it/s, loss=0.766, v_num=22, val_loss=0.756, val_acc_epoch=0.653]\u001b[A\n",
      "Validating: 0it [00:00, ?it/s]\u001b[A\n",
      "Epoch 36: 100%|████████████████████████████| 6/6 [00:04<00:00,  1.49it/s, loss=0.781, v_num=22, val_loss=0.766, val_acc_epoch=0.653]\u001b[A\n",
      "Epoch 37: 100%|████████████████████████████| 6/6 [00:03<00:00,  1.56it/s, loss=0.781, v_num=22, val_loss=0.766, val_acc_epoch=0.653]\u001b[A\n",
      "Validating: 0it [00:00, ?it/s]\u001b[A\n",
      "Epoch 37: 100%|████████████████████████████| 6/6 [00:03<00:00,  1.54it/s, loss=0.779, v_num=22, val_loss=0.757, val_acc_epoch=0.653]\u001b[A\n",
      "Epoch 38: 100%|████████████████████████████| 6/6 [00:03<00:00,  1.59it/s, loss=0.779, v_num=22, val_loss=0.757, val_acc_epoch=0.653]\u001b[A\n",
      "Validating: 0it [00:00, ?it/s]\u001b[A\n",
      "Validating:   0%|                                                                                             | 0/1 [00:00<?, ?it/s]\u001b[A"
     ]
    },
    {
     "name": "stderr",
     "output_type": "stream",
     "text": [
      "Metric val_loss improved by 0.002 >= min_delta = 0.0. New best score: 0.754\n"
     ]
    },
    {
     "name": "stdout",
     "output_type": "stream",
     "text": [
      "Epoch 38: 100%|████████████████████████████| 6/6 [00:03<00:00,  1.56it/s, loss=0.777, v_num=22, val_loss=0.754, val_acc_epoch=0.652]\n",
      "Epoch 39: 100%|████████████████████████████| 6/6 [00:03<00:00,  1.51it/s, loss=0.777, v_num=22, val_loss=0.754, val_acc_epoch=0.652]\u001b[A\n",
      "Validating: 0it [00:00, ?it/s]\u001b[A\n",
      "Epoch 39: 100%|████████████████████████████| 6/6 [00:04<00:00,  1.48it/s, loss=0.779, v_num=22, val_loss=0.755, val_acc_epoch=0.653]\u001b[A\n",
      "Epoch 40: 100%|████████████████████████████| 6/6 [00:04<00:00,  1.42it/s, loss=0.779, v_num=22, val_loss=0.755, val_acc_epoch=0.653]\u001b[A\n",
      "Validating: 0it [00:00, ?it/s]\u001b[A\n",
      "Validating:   0%|                                                                                             | 0/1 [00:00<?, ?it/s]\u001b[A"
     ]
    },
    {
     "name": "stderr",
     "output_type": "stream",
     "text": [
      "Metric val_loss improved by 0.000 >= min_delta = 0.0. New best score: 0.754\n"
     ]
    },
    {
     "name": "stdout",
     "output_type": "stream",
     "text": [
      "Epoch 40: 100%|████████████████████████████| 6/6 [00:04<00:00,  1.40it/s, loss=0.784, v_num=22, val_loss=0.754, val_acc_epoch=0.652]\n",
      "Epoch 41: 100%|████████████████████████████| 6/6 [00:04<00:00,  1.42it/s, loss=0.784, v_num=22, val_loss=0.754, val_acc_epoch=0.652]\u001b[A\n",
      "Validating: 0it [00:00, ?it/s]\u001b[A\n",
      "Validating:   0%|                                                                                             | 0/1 [00:00<?, ?it/s]\u001b[A"
     ]
    },
    {
     "name": "stderr",
     "output_type": "stream",
     "text": [
      "Metric val_loss improved by 0.001 >= min_delta = 0.0. New best score: 0.753\n"
     ]
    },
    {
     "name": "stdout",
     "output_type": "stream",
     "text": [
      "Epoch 41: 100%|████████████████████████████| 6/6 [00:04<00:00,  1.40it/s, loss=0.774, v_num=22, val_loss=0.753, val_acc_epoch=0.651]\n",
      "Epoch 42: 100%|████████████████████████████| 6/6 [00:04<00:00,  1.45it/s, loss=0.774, v_num=22, val_loss=0.753, val_acc_epoch=0.651]\u001b[A\n",
      "Validating: 0it [00:00, ?it/s]\u001b[A\n",
      "Epoch 42: 100%|████████████████████████████| 6/6 [00:04<00:00,  1.43it/s, loss=0.773, v_num=22, val_loss=0.757, val_acc_epoch=0.652]\u001b[A\n",
      "Epoch 43: 100%|████████████████████████████| 6/6 [00:04<00:00,  1.50it/s, loss=0.773, v_num=22, val_loss=0.757, val_acc_epoch=0.652]\u001b[A\n",
      "Validating: 0it [00:00, ?it/s]\u001b[A\n",
      "Epoch 43: 100%|████████████████████████████| 6/6 [00:04<00:00,  1.47it/s, loss=0.763, v_num=22, val_loss=0.757, val_acc_epoch=0.653]\u001b[A\n",
      "Epoch 44: 100%|████████████████████████████| 6/6 [00:04<00:00,  1.49it/s, loss=0.763, v_num=22, val_loss=0.757, val_acc_epoch=0.653]\u001b[A\n",
      "Validating: 0it [00:00, ?it/s]\u001b[A\n",
      "Validating:   0%|                                                                                             | 0/1 [00:00<?, ?it/s]\u001b[A"
     ]
    },
    {
     "name": "stderr",
     "output_type": "stream",
     "text": [
      "Metric val_loss improved by 0.002 >= min_delta = 0.0. New best score: 0.751\n"
     ]
    },
    {
     "name": "stdout",
     "output_type": "stream",
     "text": [
      "Epoch 44: 100%|█████████████████████████████| 6/6 [00:04<00:00,  1.47it/s, loss=0.75, v_num=22, val_loss=0.751, val_acc_epoch=0.652]\n",
      "Epoch 45: 100%|█████████████████████████████| 6/6 [00:04<00:00,  1.47it/s, loss=0.75, v_num=22, val_loss=0.751, val_acc_epoch=0.652]\u001b[A\n",
      "Validating: 0it [00:00, ?it/s]\u001b[A\n",
      "Validating:   0%|                                                                                             | 0/1 [00:00<?, ?it/s]\u001b[A"
     ]
    },
    {
     "name": "stderr",
     "output_type": "stream",
     "text": [
      "Metric val_loss improved by 0.001 >= min_delta = 0.0. New best score: 0.750\n"
     ]
    },
    {
     "name": "stdout",
     "output_type": "stream",
     "text": [
      "Epoch 45: 100%|█████████████████████████████| 6/6 [00:04<00:00,  1.45it/s, loss=0.74, v_num=22, val_loss=0.750, val_acc_epoch=0.653]\n",
      "Epoch 46: 100%|█████████████████████████████| 6/6 [00:04<00:00,  1.47it/s, loss=0.74, v_num=22, val_loss=0.750, val_acc_epoch=0.653]\u001b[A\n",
      "Validating: 0it [00:00, ?it/s]\u001b[A\n",
      "Epoch 46: 100%|████████████████████████████| 6/6 [00:04<00:00,  1.45it/s, loss=0.744, v_num=22, val_loss=0.755, val_acc_epoch=0.653]\u001b[A\n",
      "Epoch 47: 100%|████████████████████████████| 6/6 [00:04<00:00,  1.48it/s, loss=0.744, v_num=22, val_loss=0.755, val_acc_epoch=0.653]\u001b[A\n",
      "Validating: 0it [00:00, ?it/s]\u001b[A\n",
      "Epoch 47: 100%|████████████████████████████| 6/6 [00:04<00:00,  1.46it/s, loss=0.751, v_num=22, val_loss=0.751, val_acc_epoch=0.652]\u001b[A\n",
      "Epoch 48: 100%|████████████████████████████| 6/6 [00:04<00:00,  1.48it/s, loss=0.751, v_num=22, val_loss=0.751, val_acc_epoch=0.652]\u001b[A\n",
      "Validating: 0it [00:00, ?it/s]\u001b[A\n",
      "Validating:   0%|                                                                                             | 0/1 [00:00<?, ?it/s]\u001b[A"
     ]
    },
    {
     "name": "stderr",
     "output_type": "stream",
     "text": [
      "Metric val_loss improved by 0.001 >= min_delta = 0.0. New best score: 0.749\n"
     ]
    },
    {
     "name": "stdout",
     "output_type": "stream",
     "text": [
      "Epoch 48: 100%|████████████████████████████| 6/6 [00:04<00:00,  1.45it/s, loss=0.757, v_num=22, val_loss=0.749, val_acc_epoch=0.652]\n",
      "Epoch 49: 100%|████████████████████████████| 6/6 [00:04<00:00,  1.48it/s, loss=0.757, v_num=22, val_loss=0.749, val_acc_epoch=0.652]\u001b[A\n",
      "Validating: 0it [00:00, ?it/s]\u001b[A\n",
      "Epoch 49: 100%|████████████████████████████| 6/6 [00:04<00:00,  1.46it/s, loss=0.771, v_num=22, val_loss=0.750, val_acc_epoch=0.653]\u001b[A\n",
      "Epoch 50: 100%|████████████████████████████| 6/6 [00:04<00:00,  1.47it/s, loss=0.771, v_num=22, val_loss=0.750, val_acc_epoch=0.653]\u001b[A\n",
      "Validating: 0it [00:00, ?it/s]\u001b[A\n",
      "Validating:   0%|                                                                                             | 0/1 [00:00<?, ?it/s]\u001b[A"
     ]
    },
    {
     "name": "stderr",
     "output_type": "stream",
     "text": [
      "Metric val_loss improved by 0.001 >= min_delta = 0.0. New best score: 0.748\n"
     ]
    },
    {
     "name": "stdout",
     "output_type": "stream",
     "text": [
      "Epoch 50: 100%|████████████████████████████| 6/6 [00:04<00:00,  1.45it/s, loss=0.752, v_num=22, val_loss=0.748, val_acc_epoch=0.654]\n",
      "Epoch 51: 100%|████████████████████████████| 6/6 [00:04<00:00,  1.48it/s, loss=0.752, v_num=22, val_loss=0.748, val_acc_epoch=0.654]\u001b[A\n",
      "Validating: 0it [00:00, ?it/s]\u001b[A\n",
      "Epoch 51: 100%|████████████████████████████| 6/6 [00:04<00:00,  1.46it/s, loss=0.752, v_num=22, val_loss=0.749, val_acc_epoch=0.654]\u001b[A\n",
      "Epoch 52: 100%|████████████████████████████| 6/6 [00:04<00:00,  1.47it/s, loss=0.752, v_num=22, val_loss=0.749, val_acc_epoch=0.654]\u001b[A\n",
      "Validating: 0it [00:00, ?it/s]\u001b[A\n",
      "Epoch 52: 100%|████████████████████████████| 6/6 [00:04<00:00,  1.45it/s, loss=0.745, v_num=22, val_loss=0.752, val_acc_epoch=0.654]\u001b[A\n",
      "Epoch 53: 100%|████████████████████████████| 6/6 [00:03<00:00,  1.51it/s, loss=0.745, v_num=22, val_loss=0.752, val_acc_epoch=0.654]\u001b[A\n",
      "Validating: 0it [00:00, ?it/s]\u001b[A\n",
      "Validating:   0%|                                                                                             | 0/1 [00:00<?, ?it/s]\u001b[A"
     ]
    },
    {
     "name": "stderr",
     "output_type": "stream",
     "text": [
      "Metric val_loss improved by 0.001 >= min_delta = 0.0. New best score: 0.747\n"
     ]
    },
    {
     "name": "stdout",
     "output_type": "stream",
     "text": [
      "Epoch 53: 100%|████████████████████████████| 6/6 [00:04<00:00,  1.49it/s, loss=0.739, v_num=22, val_loss=0.747, val_acc_epoch=0.659]\n",
      "Epoch 54: 100%|████████████████████████████| 6/6 [00:04<00:00,  1.37it/s, loss=0.739, v_num=22, val_loss=0.747, val_acc_epoch=0.659]\u001b[A\n",
      "Validating: 0it [00:00, ?it/s]\u001b[A\n",
      "Epoch 54: 100%|████████████████████████████| 6/6 [00:04<00:00,  1.35it/s, loss=0.754, v_num=22, val_loss=0.747, val_acc_epoch=0.657]\u001b[A\n",
      "Epoch 55: 100%|████████████████████████████| 6/6 [00:04<00:00,  1.48it/s, loss=0.754, v_num=22, val_loss=0.747, val_acc_epoch=0.657]\u001b[A\n",
      "Validating: 0it [00:00, ?it/s]\u001b[A\n",
      "Epoch 55: 100%|████████████████████████████| 6/6 [00:04<00:00,  1.46it/s, loss=0.752, v_num=22, val_loss=0.750, val_acc_epoch=0.655]\u001b[A\n",
      "Epoch 56: 100%|████████████████████████████| 6/6 [00:04<00:00,  1.45it/s, loss=0.752, v_num=22, val_loss=0.750, val_acc_epoch=0.655]\u001b[A\n",
      "Validating: 0it [00:00, ?it/s]\u001b[A\n",
      "Validating:   0%|                                                                                             | 0/1 [00:00<?, ?it/s]\u001b[A"
     ]
    },
    {
     "name": "stderr",
     "output_type": "stream",
     "text": [
      "Metric val_loss improved by 0.005 >= min_delta = 0.0. New best score: 0.743\n"
     ]
    },
    {
     "name": "stdout",
     "output_type": "stream",
     "text": [
      "Epoch 56: 100%|█████████████████████████████| 6/6 [00:04<00:00,  1.43it/s, loss=0.76, v_num=22, val_loss=0.743, val_acc_epoch=0.661]\n",
      "Epoch 57: 100%|█████████████████████████████| 6/6 [00:03<00:00,  1.58it/s, loss=0.76, v_num=22, val_loss=0.743, val_acc_epoch=0.661]\u001b[A\n",
      "Validating: 0it [00:00, ?it/s]\u001b[A\n",
      "Validating:   0%|                                                                                             | 0/1 [00:00<?, ?it/s]\u001b[A"
     ]
    },
    {
     "name": "stderr",
     "output_type": "stream",
     "text": [
      "Metric val_loss improved by 0.000 >= min_delta = 0.0. New best score: 0.742\n"
     ]
    },
    {
     "name": "stdout",
     "output_type": "stream",
     "text": [
      "Epoch 57: 100%|████████████████████████████| 6/6 [00:03<00:00,  1.55it/s, loss=0.758, v_num=22, val_loss=0.742, val_acc_epoch=0.662]\n",
      "Epoch 58: 100%|████████████████████████████| 6/6 [00:03<00:00,  1.60it/s, loss=0.758, v_num=22, val_loss=0.742, val_acc_epoch=0.662]\u001b[A\n",
      "Validating: 0it [00:00, ?it/s]\u001b[A\n",
      "Epoch 58: 100%|████████████████████████████| 6/6 [00:03<00:00,  1.58it/s, loss=0.744, v_num=22, val_loss=0.752, val_acc_epoch=0.655]\u001b[A\n",
      "Epoch 59: 100%|████████████████████████████| 6/6 [00:03<00:00,  1.53it/s, loss=0.744, v_num=22, val_loss=0.752, val_acc_epoch=0.655]\u001b[A\n",
      "Validating: 0it [00:00, ?it/s]\u001b[A\n",
      "Epoch 59: 100%|████████████████████████████| 6/6 [00:03<00:00,  1.51it/s, loss=0.737, v_num=22, val_loss=0.745, val_acc_epoch=0.661]\u001b[A\n",
      "Epoch 60: 100%|████████████████████████████| 6/6 [00:03<00:00,  1.51it/s, loss=0.737, v_num=22, val_loss=0.745, val_acc_epoch=0.661]\u001b[A\n",
      "Validating: 0it [00:00, ?it/s]\u001b[A\n",
      "Validating:   0%|                                                                                             | 0/1 [00:00<?, ?it/s]\u001b[A"
     ]
    },
    {
     "name": "stderr",
     "output_type": "stream",
     "text": [
      "Metric val_loss improved by 0.001 >= min_delta = 0.0. New best score: 0.741\n"
     ]
    },
    {
     "name": "stdout",
     "output_type": "stream",
     "text": [
      "Epoch 60: 100%|████████████████████████████| 6/6 [00:04<00:00,  1.49it/s, loss=0.731, v_num=22, val_loss=0.741, val_acc_epoch=0.664]\n",
      "Epoch 61: 100%|████████████████████████████| 6/6 [00:03<00:00,  1.54it/s, loss=0.731, v_num=22, val_loss=0.741, val_acc_epoch=0.664]\u001b[A\n",
      "Validating: 0it [00:00, ?it/s]\u001b[A\n",
      "Epoch 61: 100%|████████████████████████████| 6/6 [00:03<00:00,  1.52it/s, loss=0.724, v_num=22, val_loss=0.743, val_acc_epoch=0.661]\u001b[A\n",
      "Epoch 62: 100%|████████████████████████████| 6/6 [00:03<00:00,  1.53it/s, loss=0.724, v_num=22, val_loss=0.743, val_acc_epoch=0.661]\u001b[A\n",
      "Validating: 0it [00:00, ?it/s]\u001b[A\n",
      "Epoch 62: 100%|████████████████████████████| 6/6 [00:03<00:00,  1.50it/s, loss=0.745, v_num=22, val_loss=0.741, val_acc_epoch=0.664]\u001b[A\n",
      "Epoch 63: 100%|████████████████████████████| 6/6 [00:03<00:00,  1.53it/s, loss=0.745, v_num=22, val_loss=0.741, val_acc_epoch=0.664]\u001b[A\n",
      "Validating: 0it [00:00, ?it/s]\u001b[A\n",
      "Validating:   0%|                                                                                             | 0/1 [00:00<?, ?it/s]\u001b[A"
     ]
    },
    {
     "name": "stderr",
     "output_type": "stream",
     "text": [
      "Metric val_loss improved by 0.003 >= min_delta = 0.0. New best score: 0.738\n"
     ]
    },
    {
     "name": "stdout",
     "output_type": "stream",
     "text": [
      "Epoch 63: 100%|████████████████████████████| 6/6 [00:03<00:00,  1.51it/s, loss=0.748, v_num=22, val_loss=0.738, val_acc_epoch=0.666]\n",
      "Epoch 64: 100%|████████████████████████████| 6/6 [00:03<00:00,  1.52it/s, loss=0.748, v_num=22, val_loss=0.738, val_acc_epoch=0.666]\u001b[A\n",
      "Validating: 0it [00:00, ?it/s]\u001b[A\n",
      "Epoch 64: 100%|████████████████████████████| 6/6 [00:03<00:00,  1.50it/s, loss=0.746, v_num=22, val_loss=0.743, val_acc_epoch=0.665]\u001b[A\n",
      "Epoch 65: 100%|████████████████████████████| 6/6 [00:03<00:00,  1.53it/s, loss=0.746, v_num=22, val_loss=0.743, val_acc_epoch=0.665]\u001b[A\n",
      "Validating: 0it [00:00, ?it/s]\u001b[A\n",
      "Epoch 65: 100%|████████████████████████████| 6/6 [00:03<00:00,  1.51it/s, loss=0.754, v_num=22, val_loss=0.743, val_acc_epoch=0.665]\u001b[A\n",
      "Epoch 66: 100%|████████████████████████████| 6/6 [00:03<00:00,  1.54it/s, loss=0.754, v_num=22, val_loss=0.743, val_acc_epoch=0.665]\u001b[A\n",
      "Validating: 0it [00:00, ?it/s]\u001b[A\n",
      "Epoch 66: 100%|████████████████████████████| 6/6 [00:03<00:00,  1.51it/s, loss=0.745, v_num=22, val_loss=0.739, val_acc_epoch=0.668]\u001b[A\n",
      "Epoch 67: 100%|████████████████████████████| 6/6 [00:03<00:00,  1.53it/s, loss=0.745, v_num=22, val_loss=0.739, val_acc_epoch=0.668]\u001b[A\n",
      "Validating: 0it [00:00, ?it/s]\u001b[A\n",
      "Epoch 67: 100%|█████████████████████████████| 6/6 [00:03<00:00,  1.51it/s, loss=0.74, v_num=22, val_loss=0.742, val_acc_epoch=0.667]\u001b[A\n",
      "Epoch 68: 100%|█████████████████████████████| 6/6 [00:03<00:00,  1.52it/s, loss=0.74, v_num=22, val_loss=0.742, val_acc_epoch=0.667]\u001b[A\n",
      "Validating: 0it [00:00, ?it/s]\u001b[A\n",
      "Epoch 68: 100%|████████████████████████████| 6/6 [00:04<00:00,  1.49it/s, loss=0.729, v_num=22, val_loss=0.740, val_acc_epoch=0.669]\u001b[A\n",
      "Epoch 69: 100%|████████████████████████████| 6/6 [00:03<00:00,  1.52it/s, loss=0.729, v_num=22, val_loss=0.740, val_acc_epoch=0.669]\u001b[A\n",
      "Validating: 0it [00:00, ?it/s]\u001b[A\n",
      "Validating:   0%|                                                                                             | 0/1 [00:00<?, ?it/s]\u001b[A"
     ]
    },
    {
     "name": "stderr",
     "output_type": "stream",
     "text": [
      "Metric val_loss improved by 0.002 >= min_delta = 0.0. New best score: 0.736\n"
     ]
    },
    {
     "name": "stdout",
     "output_type": "stream",
     "text": [
      "Epoch 69: 100%|████████████████████████████| 6/6 [00:04<00:00,  1.50it/s, loss=0.725, v_num=22, val_loss=0.736, val_acc_epoch=0.670]\n",
      "Epoch 70: 100%|████████████████████████████| 6/6 [00:03<00:00,  1.53it/s, loss=0.725, v_num=22, val_loss=0.736, val_acc_epoch=0.670]\u001b[A\n",
      "Validating: 0it [00:00, ?it/s]\u001b[A\n",
      "Epoch 70: 100%|█████████████████████████████| 6/6 [00:03<00:00,  1.51it/s, loss=0.72, v_num=22, val_loss=0.748, val_acc_epoch=0.665]\u001b[A\n",
      "Epoch 71: 100%|█████████████████████████████| 6/6 [00:03<00:00,  1.60it/s, loss=0.72, v_num=22, val_loss=0.748, val_acc_epoch=0.665]\u001b[A\n",
      "Validating: 0it [00:00, ?it/s]\u001b[A\n",
      "Epoch 71: 100%|████████████████████████████| 6/6 [00:03<00:00,  1.58it/s, loss=0.712, v_num=22, val_loss=0.737, val_acc_epoch=0.670]\u001b[A\n",
      "Epoch 72: 100%|████████████████████████████| 6/6 [00:03<00:00,  1.61it/s, loss=0.712, v_num=22, val_loss=0.737, val_acc_epoch=0.670]\u001b[A\n",
      "Validating: 0it [00:00, ?it/s]\u001b[A\n",
      "Validating:   0%|                                                                                             | 0/1 [00:00<?, ?it/s]\u001b[A"
     ]
    },
    {
     "name": "stderr",
     "output_type": "stream",
     "text": [
      "Metric val_loss improved by 0.004 >= min_delta = 0.0. New best score: 0.733\n"
     ]
    },
    {
     "name": "stdout",
     "output_type": "stream",
     "text": [
      "Epoch 72: 100%|████████████████████████████| 6/6 [00:03<00:00,  1.58it/s, loss=0.721, v_num=22, val_loss=0.733, val_acc_epoch=0.672]\n",
      "Epoch 73: 100%|████████████████████████████| 6/6 [00:03<00:00,  1.59it/s, loss=0.721, v_num=22, val_loss=0.733, val_acc_epoch=0.672]\u001b[A\n",
      "Validating: 0it [00:00, ?it/s]\u001b[A\n",
      "Epoch 73: 100%|████████████████████████████| 6/6 [00:03<00:00,  1.57it/s, loss=0.721, v_num=22, val_loss=0.737, val_acc_epoch=0.670]\u001b[A\n",
      "Epoch 74: 100%|████████████████████████████| 6/6 [00:03<00:00,  1.59it/s, loss=0.721, v_num=22, val_loss=0.737, val_acc_epoch=0.670]\u001b[A\n",
      "Validating: 0it [00:00, ?it/s]\u001b[A\n",
      "Epoch 74: 100%|████████████████████████████| 6/6 [00:03<00:00,  1.57it/s, loss=0.728, v_num=22, val_loss=0.737, val_acc_epoch=0.672]\u001b[A\n",
      "Epoch 75: 100%|████████████████████████████| 6/6 [00:03<00:00,  1.60it/s, loss=0.728, v_num=22, val_loss=0.737, val_acc_epoch=0.672]\u001b[A\n",
      "Validating: 0it [00:00, ?it/s]\u001b[A\n",
      "Validating:   0%|                                                                                             | 0/1 [00:00<?, ?it/s]\u001b[A"
     ]
    },
    {
     "name": "stderr",
     "output_type": "stream",
     "text": [
      "Metric val_loss improved by 0.002 >= min_delta = 0.0. New best score: 0.730\n"
     ]
    },
    {
     "name": "stdout",
     "output_type": "stream",
     "text": [
      "Epoch 75: 100%|████████████████████████████| 6/6 [00:03<00:00,  1.58it/s, loss=0.734, v_num=22, val_loss=0.730, val_acc_epoch=0.674]\n",
      "Epoch 76: 100%|████████████████████████████| 6/6 [00:03<00:00,  1.59it/s, loss=0.734, v_num=22, val_loss=0.730, val_acc_epoch=0.674]\u001b[A\n",
      "Validating: 0it [00:00, ?it/s]\u001b[A\n",
      "Epoch 76: 100%|████████████████████████████| 6/6 [00:03<00:00,  1.57it/s, loss=0.745, v_num=22, val_loss=0.732, val_acc_epoch=0.675]\u001b[A\n",
      "Epoch 77: 100%|████████████████████████████| 6/6 [00:03<00:00,  1.59it/s, loss=0.745, v_num=22, val_loss=0.732, val_acc_epoch=0.675]\u001b[A\n",
      "Validating: 0it [00:00, ?it/s]\u001b[A\n",
      "Validating:   0%|                                                                                             | 0/1 [00:00<?, ?it/s]\u001b[A"
     ]
    },
    {
     "name": "stderr",
     "output_type": "stream",
     "text": [
      "Metric val_loss improved by 0.001 >= min_delta = 0.0. New best score: 0.730\n"
     ]
    },
    {
     "name": "stdout",
     "output_type": "stream",
     "text": [
      "Epoch 77: 100%|████████████████████████████| 6/6 [00:03<00:00,  1.57it/s, loss=0.744, v_num=22, val_loss=0.730, val_acc_epoch=0.678]\n",
      "Epoch 78: 100%|████████████████████████████| 6/6 [00:03<00:00,  1.59it/s, loss=0.744, v_num=22, val_loss=0.730, val_acc_epoch=0.678]\u001b[A\n",
      "Validating: 0it [00:00, ?it/s]\u001b[A\n",
      "Epoch 78: 100%|████████████████████████████| 6/6 [00:03<00:00,  1.56it/s, loss=0.737, v_num=22, val_loss=0.732, val_acc_epoch=0.674]\u001b[A\n",
      "Epoch 79: 100%|████████████████████████████| 6/6 [00:03<00:00,  1.58it/s, loss=0.737, v_num=22, val_loss=0.732, val_acc_epoch=0.674]\u001b[A\n",
      "Validating: 0it [00:00, ?it/s]\u001b[A\n",
      "Epoch 79: 100%|████████████████████████████| 6/6 [00:03<00:00,  1.56it/s, loss=0.737, v_num=22, val_loss=0.736, val_acc_epoch=0.673]\u001b[A\n",
      "Epoch 80: 100%|████████████████████████████| 6/6 [00:03<00:00,  1.58it/s, loss=0.737, v_num=22, val_loss=0.736, val_acc_epoch=0.673]\u001b[A\n",
      "Validating: 0it [00:00, ?it/s]\u001b[A\n",
      "Epoch 80: 100%|████████████████████████████| 6/6 [00:03<00:00,  1.56it/s, loss=0.723, v_num=22, val_loss=0.732, val_acc_epoch=0.676]\u001b[A\n",
      "Epoch 81: 100%|████████████████████████████| 6/6 [00:03<00:00,  1.61it/s, loss=0.723, v_num=22, val_loss=0.732, val_acc_epoch=0.676]\u001b[A\n",
      "Validating: 0it [00:00, ?it/s]\u001b[A\n",
      "Validating:   0%|                                                                                             | 0/1 [00:00<?, ?it/s]\u001b[A"
     ]
    },
    {
     "name": "stderr",
     "output_type": "stream",
     "text": [
      "Metric val_loss improved by 0.001 >= min_delta = 0.0. New best score: 0.729\n"
     ]
    },
    {
     "name": "stdout",
     "output_type": "stream",
     "text": [
      "Epoch 81: 100%|████████████████████████████| 6/6 [00:03<00:00,  1.58it/s, loss=0.715, v_num=22, val_loss=0.729, val_acc_epoch=0.677]\n",
      "Epoch 82: 100%|████████████████████████████| 6/6 [00:03<00:00,  1.60it/s, loss=0.715, v_num=22, val_loss=0.729, val_acc_epoch=0.677]\u001b[A\n",
      "Validating: 0it [00:00, ?it/s]\u001b[A\n",
      "Epoch 82: 100%|████████████████████████████| 6/6 [00:03<00:00,  1.58it/s, loss=0.713, v_num=22, val_loss=0.735, val_acc_epoch=0.674]\u001b[A\n",
      "Epoch 83: 100%|████████████████████████████| 6/6 [00:03<00:00,  1.59it/s, loss=0.713, v_num=22, val_loss=0.735, val_acc_epoch=0.674]\u001b[A\n",
      "Validating: 0it [00:00, ?it/s]\u001b[A\n",
      "Validating:   0%|                                                                                             | 0/1 [00:00<?, ?it/s]\u001b[A"
     ]
    },
    {
     "name": "stderr",
     "output_type": "stream",
     "text": [
      "Metric val_loss improved by 0.000 >= min_delta = 0.0. New best score: 0.729\n"
     ]
    },
    {
     "name": "stdout",
     "output_type": "stream",
     "text": [
      "Epoch 83: 100%|████████████████████████████| 6/6 [00:03<00:00,  1.57it/s, loss=0.728, v_num=22, val_loss=0.729, val_acc_epoch=0.678]\n",
      "Epoch 84: 100%|████████████████████████████| 6/6 [00:03<00:00,  1.61it/s, loss=0.728, v_num=22, val_loss=0.729, val_acc_epoch=0.678]\u001b[A\n",
      "Validating: 0it [00:00, ?it/s]\u001b[A\n",
      "Validating:   0%|                                                                                             | 0/1 [00:00<?, ?it/s]\u001b[A"
     ]
    },
    {
     "name": "stderr",
     "output_type": "stream",
     "text": [
      "Metric val_loss improved by 0.002 >= min_delta = 0.0. New best score: 0.727\n"
     ]
    },
    {
     "name": "stdout",
     "output_type": "stream",
     "text": [
      "Epoch 84: 100%|█████████████████████████████| 6/6 [00:03<00:00,  1.59it/s, loss=0.73, v_num=22, val_loss=0.727, val_acc_epoch=0.675]\n",
      "Epoch 85: 100%|█████████████████████████████| 6/6 [00:03<00:00,  1.55it/s, loss=0.73, v_num=22, val_loss=0.727, val_acc_epoch=0.675]\u001b[A\n",
      "Validating: 0it [00:00, ?it/s]\u001b[A\n",
      "Epoch 85: 100%|████████████████████████████| 6/6 [00:03<00:00,  1.53it/s, loss=0.743, v_num=22, val_loss=0.735, val_acc_epoch=0.670]\u001b[A\n",
      "Epoch 86: 100%|████████████████████████████| 6/6 [00:03<00:00,  1.54it/s, loss=0.743, v_num=22, val_loss=0.735, val_acc_epoch=0.670]\u001b[A\n",
      "Validating: 0it [00:00, ?it/s]\u001b[A\n",
      "Epoch 86: 100%|████████████████████████████| 6/6 [00:03<00:00,  1.52it/s, loss=0.748, v_num=22, val_loss=0.735, val_acc_epoch=0.671]\u001b[A\n",
      "Epoch 87: 100%|████████████████████████████| 6/6 [00:04<00:00,  1.50it/s, loss=0.748, v_num=22, val_loss=0.735, val_acc_epoch=0.671]\u001b[A\n",
      "Validating: 0it [00:00, ?it/s]\u001b[A\n",
      "Validating:   0%|                                                                                             | 0/1 [00:00<?, ?it/s]\u001b[A"
     ]
    },
    {
     "name": "stderr",
     "output_type": "stream",
     "text": [
      "Metric val_loss improved by 0.001 >= min_delta = 0.0. New best score: 0.726\n"
     ]
    },
    {
     "name": "stdout",
     "output_type": "stream",
     "text": [
      "Epoch 87: 100%|████████████████████████████| 6/6 [00:04<00:00,  1.47it/s, loss=0.738, v_num=22, val_loss=0.726, val_acc_epoch=0.678]\n",
      "Epoch 88: 100%|████████████████████████████| 6/6 [00:03<00:00,  1.59it/s, loss=0.738, v_num=22, val_loss=0.726, val_acc_epoch=0.678]\u001b[A\n",
      "Validating: 0it [00:00, ?it/s]\u001b[A\n",
      "Validating:   0%|                                                                                             | 0/1 [00:00<?, ?it/s]\u001b[A"
     ]
    },
    {
     "name": "stderr",
     "output_type": "stream",
     "text": [
      "Metric val_loss improved by 0.000 >= min_delta = 0.0. New best score: 0.726\n"
     ]
    },
    {
     "name": "stdout",
     "output_type": "stream",
     "text": [
      "Epoch 88: 100%|████████████████████████████| 6/6 [00:03<00:00,  1.56it/s, loss=0.718, v_num=22, val_loss=0.726, val_acc_epoch=0.678]\n",
      "Epoch 89: 100%|████████████████████████████| 6/6 [00:03<00:00,  1.61it/s, loss=0.718, v_num=22, val_loss=0.726, val_acc_epoch=0.678]\u001b[A\n",
      "Validating: 0it [00:00, ?it/s]\u001b[A\n",
      "Epoch 89: 100%|████████████████████████████| 6/6 [00:03<00:00,  1.58it/s, loss=0.722, v_num=22, val_loss=0.736, val_acc_epoch=0.675]\u001b[A\n",
      "Epoch 90: 100%|████████████████████████████| 6/6 [00:03<00:00,  1.59it/s, loss=0.722, v_num=22, val_loss=0.736, val_acc_epoch=0.675]\u001b[A\n",
      "Validating: 0it [00:00, ?it/s]\u001b[A\n",
      "Validating:   0%|                                                                                             | 0/1 [00:00<?, ?it/s]\u001b[A"
     ]
    },
    {
     "name": "stderr",
     "output_type": "stream",
     "text": [
      "Metric val_loss improved by 0.000 >= min_delta = 0.0. New best score: 0.725\n"
     ]
    },
    {
     "name": "stdout",
     "output_type": "stream",
     "text": [
      "Epoch 90: 100%|████████████████████████████| 6/6 [00:03<00:00,  1.57it/s, loss=0.715, v_num=22, val_loss=0.725, val_acc_epoch=0.678]\n",
      "Epoch 91: 100%|████████████████████████████| 6/6 [00:03<00:00,  1.61it/s, loss=0.715, v_num=22, val_loss=0.725, val_acc_epoch=0.678]\u001b[A\n",
      "Validating: 0it [00:00, ?it/s]\u001b[A\n",
      "Validating:   0%|                                                                                             | 0/1 [00:00<?, ?it/s]\u001b[A"
     ]
    },
    {
     "name": "stderr",
     "output_type": "stream",
     "text": [
      "Metric val_loss improved by 0.001 >= min_delta = 0.0. New best score: 0.725\n"
     ]
    },
    {
     "name": "stdout",
     "output_type": "stream",
     "text": [
      "Epoch 91: 100%|████████████████████████████| 6/6 [00:03<00:00,  1.58it/s, loss=0.711, v_num=22, val_loss=0.725, val_acc_epoch=0.678]\n",
      "Epoch 92: 100%|████████████████████████████| 6/6 [00:03<00:00,  1.60it/s, loss=0.711, v_num=22, val_loss=0.725, val_acc_epoch=0.678]\u001b[A\n",
      "Validating: 0it [00:00, ?it/s]\u001b[A\n",
      "Epoch 92: 100%|████████████████████████████| 6/6 [00:03<00:00,  1.58it/s, loss=0.732, v_num=22, val_loss=0.730, val_acc_epoch=0.677]\u001b[A\n",
      "Epoch 93: 100%|████████████████████████████| 6/6 [00:03<00:00,  1.61it/s, loss=0.732, v_num=22, val_loss=0.730, val_acc_epoch=0.677]\u001b[A\n",
      "Validating: 0it [00:00, ?it/s]\u001b[A\n",
      "Validating:   0%|                                                                                             | 0/1 [00:00<?, ?it/s]\u001b[A"
     ]
    },
    {
     "name": "stderr",
     "output_type": "stream",
     "text": [
      "Metric val_loss improved by 0.001 >= min_delta = 0.0. New best score: 0.724\n"
     ]
    },
    {
     "name": "stdout",
     "output_type": "stream",
     "text": [
      "Epoch 93: 100%|█████████████████████████████| 6/6 [00:03<00:00,  1.58it/s, loss=0.73, v_num=22, val_loss=0.724, val_acc_epoch=0.678]\n",
      "Epoch 94: 100%|█████████████████████████████| 6/6 [00:03<00:00,  1.58it/s, loss=0.73, v_num=22, val_loss=0.724, val_acc_epoch=0.678]\u001b[A\n",
      "Validating: 0it [00:00, ?it/s]\u001b[A\n",
      "Validating:   0%|                                                                                             | 0/1 [00:00<?, ?it/s]\u001b[A"
     ]
    },
    {
     "name": "stderr",
     "output_type": "stream",
     "text": [
      "Metric val_loss improved by 0.002 >= min_delta = 0.0. New best score: 0.722\n"
     ]
    },
    {
     "name": "stdout",
     "output_type": "stream",
     "text": [
      "Epoch 94: 100%|████████████████████████████| 6/6 [00:03<00:00,  1.56it/s, loss=0.738, v_num=22, val_loss=0.722, val_acc_epoch=0.678]\n",
      "Epoch 95: 100%|████████████████████████████| 6/6 [00:03<00:00,  1.62it/s, loss=0.738, v_num=22, val_loss=0.722, val_acc_epoch=0.678]\u001b[A\n",
      "Validating: 0it [00:00, ?it/s]\u001b[A\n",
      "Epoch 95: 100%|████████████████████████████| 6/6 [00:03<00:00,  1.59it/s, loss=0.738, v_num=22, val_loss=0.724, val_acc_epoch=0.679]\u001b[A\n",
      "Epoch 96: 100%|████████████████████████████| 6/6 [00:03<00:00,  1.59it/s, loss=0.738, v_num=22, val_loss=0.724, val_acc_epoch=0.679]\u001b[A\n",
      "Validating: 0it [00:00, ?it/s]\u001b[A\n",
      "Epoch 96: 100%|████████████████████████████| 6/6 [00:03<00:00,  1.57it/s, loss=0.726, v_num=22, val_loss=0.724, val_acc_epoch=0.679]\u001b[A\n",
      "Epoch 97: 100%|████████████████████████████| 6/6 [00:03<00:00,  1.60it/s, loss=0.726, v_num=22, val_loss=0.724, val_acc_epoch=0.679]\u001b[A\n",
      "Validating: 0it [00:00, ?it/s]\u001b[A\n",
      "Validating:   0%|                                                                                             | 0/1 [00:00<?, ?it/s]\u001b[A"
     ]
    },
    {
     "name": "stderr",
     "output_type": "stream",
     "text": [
      "Metric val_loss improved by 0.002 >= min_delta = 0.0. New best score: 0.720\n"
     ]
    },
    {
     "name": "stdout",
     "output_type": "stream",
     "text": [
      "Epoch 97: 100%|████████████████████████████| 6/6 [00:03<00:00,  1.58it/s, loss=0.714, v_num=22, val_loss=0.720, val_acc_epoch=0.678]\n",
      "Epoch 98: 100%|████████████████████████████| 6/6 [00:03<00:00,  1.61it/s, loss=0.714, v_num=22, val_loss=0.720, val_acc_epoch=0.678]\u001b[A\n",
      "Validating: 0it [00:00, ?it/s]\u001b[A\n",
      "Validating:   0%|                                                                                             | 0/1 [00:00<?, ?it/s]\u001b[A"
     ]
    },
    {
     "name": "stderr",
     "output_type": "stream",
     "text": [
      "Metric val_loss improved by 0.000 >= min_delta = 0.0. New best score: 0.719\n"
     ]
    },
    {
     "name": "stdout",
     "output_type": "stream",
     "text": [
      "Epoch 98: 100%|████████████████████████████| 6/6 [00:03<00:00,  1.58it/s, loss=0.714, v_num=22, val_loss=0.719, val_acc_epoch=0.681]\n",
      "Epoch 99: 100%|████████████████████████████| 6/6 [00:03<00:00,  1.61it/s, loss=0.714, v_num=22, val_loss=0.719, val_acc_epoch=0.681]\u001b[A\n",
      "Validating: 0it [00:00, ?it/s]\u001b[A\n",
      "Epoch 99: 100%|████████████████████████████| 6/6 [00:03<00:00,  1.59it/s, loss=0.715, v_num=22, val_loss=0.720, val_acc_epoch=0.681]\u001b[A\n",
      "Epoch 100: 100%|███████████████████████████| 6/6 [00:03<00:00,  1.61it/s, loss=0.715, v_num=22, val_loss=0.720, val_acc_epoch=0.681]\u001b[A\n",
      "Validating: 0it [00:00, ?it/s]\u001b[A\n",
      "Epoch 100: 100%|███████████████████████████| 6/6 [00:03<00:00,  1.59it/s, loss=0.726, v_num=22, val_loss=0.721, val_acc_epoch=0.681]\u001b[A\n",
      "Epoch 101: 100%|███████████████████████████| 6/6 [00:03<00:00,  1.58it/s, loss=0.726, v_num=22, val_loss=0.721, val_acc_epoch=0.681]\u001b[A\n",
      "Validating: 0it [00:00, ?it/s]\u001b[A\n",
      "Validating:   0%|                                                                                             | 0/1 [00:00<?, ?it/s]\u001b[A"
     ]
    },
    {
     "name": "stderr",
     "output_type": "stream",
     "text": [
      "Metric val_loss improved by 0.002 >= min_delta = 0.0. New best score: 0.717\n"
     ]
    },
    {
     "name": "stdout",
     "output_type": "stream",
     "text": [
      "Epoch 101: 100%|███████████████████████████| 6/6 [00:03<00:00,  1.56it/s, loss=0.728, v_num=22, val_loss=0.717, val_acc_epoch=0.683]\n",
      "Epoch 102: 100%|███████████████████████████| 6/6 [00:03<00:00,  1.59it/s, loss=0.728, v_num=22, val_loss=0.717, val_acc_epoch=0.683]\u001b[A\n",
      "Validating: 0it [00:00, ?it/s]\u001b[A\n",
      "Epoch 102: 100%|███████████████████████████| 6/6 [00:03<00:00,  1.56it/s, loss=0.715, v_num=22, val_loss=0.720, val_acc_epoch=0.682]\u001b[A\n",
      "Epoch 103: 100%|███████████████████████████| 6/6 [00:03<00:00,  1.61it/s, loss=0.715, v_num=22, val_loss=0.720, val_acc_epoch=0.682]\u001b[A\n",
      "Validating: 0it [00:00, ?it/s]\u001b[A\n",
      "Epoch 103: 100%|███████████████████████████| 6/6 [00:03<00:00,  1.59it/s, loss=0.718, v_num=22, val_loss=0.721, val_acc_epoch=0.683]\u001b[A\n",
      "Epoch 104: 100%|███████████████████████████| 6/6 [00:03<00:00,  1.60it/s, loss=0.718, v_num=22, val_loss=0.721, val_acc_epoch=0.683]\u001b[A\n",
      "Validating: 0it [00:00, ?it/s]\u001b[A\n",
      "Validating:   0%|                                                                                             | 0/1 [00:00<?, ?it/s]\u001b[A"
     ]
    },
    {
     "name": "stderr",
     "output_type": "stream",
     "text": [
      "Metric val_loss improved by 0.001 >= min_delta = 0.0. New best score: 0.716\n"
     ]
    },
    {
     "name": "stdout",
     "output_type": "stream",
     "text": [
      "Epoch 104: 100%|███████████████████████████| 6/6 [00:03<00:00,  1.57it/s, loss=0.722, v_num=22, val_loss=0.716, val_acc_epoch=0.683]\n",
      "Epoch 105: 100%|███████████████████████████| 6/6 [00:03<00:00,  1.60it/s, loss=0.722, v_num=22, val_loss=0.716, val_acc_epoch=0.683]\u001b[A\n",
      "Validating: 0it [00:00, ?it/s]\u001b[A\n",
      "Validating:   0%|                                                                                             | 0/1 [00:00<?, ?it/s]\u001b[A"
     ]
    },
    {
     "name": "stderr",
     "output_type": "stream",
     "text": [
      "Metric val_loss improved by 0.000 >= min_delta = 0.0. New best score: 0.716\n"
     ]
    },
    {
     "name": "stdout",
     "output_type": "stream",
     "text": [
      "Epoch 105: 100%|███████████████████████████| 6/6 [00:03<00:00,  1.58it/s, loss=0.727, v_num=22, val_loss=0.716, val_acc_epoch=0.682]\n",
      "Epoch 106: 100%|███████████████████████████| 6/6 [00:03<00:00,  1.60it/s, loss=0.727, v_num=22, val_loss=0.716, val_acc_epoch=0.682]\u001b[A\n",
      "Validating: 0it [00:00, ?it/s]\u001b[A\n",
      "Epoch 106: 100%|███████████████████████████| 6/6 [00:03<00:00,  1.58it/s, loss=0.733, v_num=22, val_loss=0.722, val_acc_epoch=0.683]\u001b[A\n",
      "Epoch 107: 100%|███████████████████████████| 6/6 [00:03<00:00,  1.61it/s, loss=0.733, v_num=22, val_loss=0.722, val_acc_epoch=0.683]\u001b[A\n",
      "Validating: 0it [00:00, ?it/s]\u001b[A\n",
      "Epoch 107: 100%|███████████████████████████| 6/6 [00:03<00:00,  1.59it/s, loss=0.726, v_num=22, val_loss=0.717, val_acc_epoch=0.684]\u001b[A\n",
      "Epoch 108: 100%|███████████████████████████| 6/6 [00:03<00:00,  1.62it/s, loss=0.726, v_num=22, val_loss=0.717, val_acc_epoch=0.684]\u001b[A\n",
      "Validating: 0it [00:00, ?it/s]\u001b[A\n",
      "Validating:   0%|                                                                                             | 0/1 [00:00<?, ?it/s]\u001b[A"
     ]
    },
    {
     "name": "stderr",
     "output_type": "stream",
     "text": [
      "Metric val_loss improved by 0.002 >= min_delta = 0.0. New best score: 0.713\n"
     ]
    },
    {
     "name": "stdout",
     "output_type": "stream",
     "text": [
      "Epoch 108: 100%|███████████████████████████| 6/6 [00:03<00:00,  1.60it/s, loss=0.714, v_num=22, val_loss=0.713, val_acc_epoch=0.686]\n",
      "Epoch 109: 100%|███████████████████████████| 6/6 [00:03<00:00,  1.60it/s, loss=0.714, v_num=22, val_loss=0.713, val_acc_epoch=0.686]\u001b[A\n",
      "Validating: 0it [00:00, ?it/s]\u001b[A\n",
      "Epoch 109: 100%|███████████████████████████| 6/6 [00:03<00:00,  1.58it/s, loss=0.715, v_num=22, val_loss=0.715, val_acc_epoch=0.686]\u001b[A\n",
      "Epoch 110: 100%|███████████████████████████| 6/6 [00:03<00:00,  1.61it/s, loss=0.715, v_num=22, val_loss=0.715, val_acc_epoch=0.686]\u001b[A\n",
      "Validating: 0it [00:00, ?it/s]\u001b[A\n",
      "Epoch 110: 100%|███████████████████████████| 6/6 [00:03<00:00,  1.59it/s, loss=0.711, v_num=22, val_loss=0.714, val_acc_epoch=0.685]\u001b[A\n",
      "Epoch 111: 100%|███████████████████████████| 6/6 [00:03<00:00,  1.61it/s, loss=0.711, v_num=22, val_loss=0.714, val_acc_epoch=0.685]\u001b[A\n",
      "Validating: 0it [00:00, ?it/s]\u001b[A\n",
      "Validating:   0%|                                                                                             | 0/1 [00:00<?, ?it/s]\u001b[A"
     ]
    },
    {
     "name": "stderr",
     "output_type": "stream",
     "text": [
      "Metric val_loss improved by 0.001 >= min_delta = 0.0. New best score: 0.713\n"
     ]
    },
    {
     "name": "stdout",
     "output_type": "stream",
     "text": [
      "Epoch 111: 100%|███████████████████████████| 6/6 [00:03<00:00,  1.58it/s, loss=0.704, v_num=22, val_loss=0.713, val_acc_epoch=0.688]\n",
      "Epoch 112: 100%|███████████████████████████| 6/6 [00:03<00:00,  1.61it/s, loss=0.704, v_num=22, val_loss=0.713, val_acc_epoch=0.688]\u001b[A\n",
      "Validating: 0it [00:00, ?it/s]\u001b[A\n",
      "Validating:   0%|                                                                                             | 0/1 [00:00<?, ?it/s]\u001b[A"
     ]
    },
    {
     "name": "stderr",
     "output_type": "stream",
     "text": [
      "Metric val_loss improved by 0.001 >= min_delta = 0.0. New best score: 0.712\n"
     ]
    },
    {
     "name": "stdout",
     "output_type": "stream",
     "text": [
      "Epoch 112: 100%|███████████████████████████| 6/6 [00:03<00:00,  1.58it/s, loss=0.708, v_num=22, val_loss=0.712, val_acc_epoch=0.687]\n",
      "Epoch 113: 100%|███████████████████████████| 6/6 [00:03<00:00,  1.60it/s, loss=0.708, v_num=22, val_loss=0.712, val_acc_epoch=0.687]\u001b[A\n",
      "Validating: 0it [00:00, ?it/s]\u001b[A\n",
      "Epoch 113: 100%|███████████████████████████| 6/6 [00:03<00:00,  1.57it/s, loss=0.702, v_num=22, val_loss=0.717, val_acc_epoch=0.686]\u001b[A\n",
      "Epoch 114: 100%|███████████████████████████| 6/6 [00:03<00:00,  1.59it/s, loss=0.702, v_num=22, val_loss=0.717, val_acc_epoch=0.686]\u001b[A\n",
      "Validating: 0it [00:00, ?it/s]\u001b[A\n",
      "Validating:   0%|                                                                                             | 0/1 [00:00<?, ?it/s]\u001b[A"
     ]
    },
    {
     "name": "stderr",
     "output_type": "stream",
     "text": [
      "Metric val_loss improved by 0.000 >= min_delta = 0.0. New best score: 0.712\n"
     ]
    },
    {
     "name": "stdout",
     "output_type": "stream",
     "text": [
      "Epoch 114: 100%|███████████████████████████| 6/6 [00:03<00:00,  1.57it/s, loss=0.706, v_num=22, val_loss=0.712, val_acc_epoch=0.687]\n",
      "Epoch 115: 100%|███████████████████████████| 6/6 [00:03<00:00,  1.60it/s, loss=0.706, v_num=22, val_loss=0.712, val_acc_epoch=0.687]\u001b[A\n",
      "Validating: 0it [00:00, ?it/s]\u001b[A\n",
      "Validating:   0%|                                                                                             | 0/1 [00:00<?, ?it/s]\u001b[A"
     ]
    },
    {
     "name": "stderr",
     "output_type": "stream",
     "text": [
      "Metric val_loss improved by 0.003 >= min_delta = 0.0. New best score: 0.708\n"
     ]
    },
    {
     "name": "stdout",
     "output_type": "stream",
     "text": [
      "Epoch 115: 100%|███████████████████████████| 6/6 [00:03<00:00,  1.58it/s, loss=0.713, v_num=22, val_loss=0.708, val_acc_epoch=0.688]\n",
      "Epoch 116: 100%|███████████████████████████| 6/6 [00:03<00:00,  1.62it/s, loss=0.713, v_num=22, val_loss=0.708, val_acc_epoch=0.688]\u001b[A\n",
      "Validating: 0it [00:00, ?it/s]\u001b[A\n",
      "Epoch 116: 100%|███████████████████████████| 6/6 [00:03<00:00,  1.59it/s, loss=0.701, v_num=22, val_loss=0.710, val_acc_epoch=0.688]\u001b[A\n",
      "Epoch 117: 100%|███████████████████████████| 6/6 [00:03<00:00,  1.60it/s, loss=0.701, v_num=22, val_loss=0.710, val_acc_epoch=0.688]\u001b[A\n",
      "Validating: 0it [00:00, ?it/s]\u001b[A\n",
      "Epoch 117: 100%|█████████████████████████████| 6/6 [00:03<00:00,  1.58it/s, loss=0.7, v_num=22, val_loss=0.713, val_acc_epoch=0.687]\u001b[A\n",
      "Epoch 118: 100%|█████████████████████████████| 6/6 [00:03<00:00,  1.59it/s, loss=0.7, v_num=22, val_loss=0.713, val_acc_epoch=0.687]\u001b[A\n",
      "Validating: 0it [00:00, ?it/s]\u001b[A\n",
      "Epoch 118: 100%|███████████████████████████| 6/6 [00:03<00:00,  1.57it/s, loss=0.698, v_num=22, val_loss=0.709, val_acc_epoch=0.690]\u001b[A\n",
      "Epoch 119: 100%|███████████████████████████| 6/6 [00:03<00:00,  1.60it/s, loss=0.698, v_num=22, val_loss=0.709, val_acc_epoch=0.690]\u001b[A\n",
      "Validating: 0it [00:00, ?it/s]\u001b[A\n",
      "Validating:   0%|                                                                                             | 0/1 [00:00<?, ?it/s]\u001b[A"
     ]
    },
    {
     "name": "stderr",
     "output_type": "stream",
     "text": [
      "Metric val_loss improved by 0.002 >= min_delta = 0.0. New best score: 0.706\n"
     ]
    },
    {
     "name": "stdout",
     "output_type": "stream",
     "text": [
      "Epoch 119: 100%|███████████████████████████| 6/6 [00:03<00:00,  1.58it/s, loss=0.696, v_num=22, val_loss=0.706, val_acc_epoch=0.691]\n",
      "Epoch 120: 100%|███████████████████████████| 6/6 [00:03<00:00,  1.62it/s, loss=0.696, v_num=22, val_loss=0.706, val_acc_epoch=0.691]\u001b[A\n",
      "Validating: 0it [00:00, ?it/s]\u001b[A\n",
      "Epoch 120: 100%|███████████████████████████| 6/6 [00:03<00:00,  1.60it/s, loss=0.707, v_num=22, val_loss=0.706, val_acc_epoch=0.690]\u001b[A\n",
      "Epoch 121: 100%|███████████████████████████| 6/6 [00:03<00:00,  1.61it/s, loss=0.707, v_num=22, val_loss=0.706, val_acc_epoch=0.690]\u001b[A\n",
      "Validating: 0it [00:00, ?it/s]\u001b[A\n",
      "Epoch 121: 100%|███████████████████████████| 6/6 [00:03<00:00,  1.58it/s, loss=0.694, v_num=22, val_loss=0.709, val_acc_epoch=0.692]\u001b[A\n",
      "Epoch 122: 100%|███████████████████████████| 6/6 [00:03<00:00,  1.60it/s, loss=0.694, v_num=22, val_loss=0.709, val_acc_epoch=0.692]\u001b[A\n",
      "Validating: 0it [00:00, ?it/s]\u001b[A\n",
      "Epoch 122: 100%|████████████████████████████| 6/6 [00:03<00:00,  1.57it/s, loss=0.69, v_num=22, val_loss=0.711, val_acc_epoch=0.690]\u001b[A\n",
      "Epoch 123: 100%|████████████████████████████| 6/6 [00:03<00:00,  1.61it/s, loss=0.69, v_num=22, val_loss=0.711, val_acc_epoch=0.690]\u001b[A\n",
      "Validating: 0it [00:00, ?it/s]\u001b[A\n",
      "Validating:   0%|                                                                                             | 0/1 [00:00<?, ?it/s]\u001b[A"
     ]
    },
    {
     "name": "stderr",
     "output_type": "stream",
     "text": [
      "Metric val_loss improved by 0.001 >= min_delta = 0.0. New best score: 0.705\n"
     ]
    },
    {
     "name": "stdout",
     "output_type": "stream",
     "text": [
      "Epoch 123: 100%|████████████████████████████| 6/6 [00:03<00:00,  1.59it/s, loss=0.69, v_num=22, val_loss=0.705, val_acc_epoch=0.692]\n",
      "Epoch 124: 100%|████████████████████████████| 6/6 [00:03<00:00,  1.61it/s, loss=0.69, v_num=22, val_loss=0.705, val_acc_epoch=0.692]\u001b[A\n",
      "Validating: 0it [00:00, ?it/s]\u001b[A\n",
      "Epoch 124: 100%|███████████████████████████| 6/6 [00:03<00:00,  1.59it/s, loss=0.685, v_num=22, val_loss=0.708, val_acc_epoch=0.692]\u001b[A\n",
      "Epoch 125: 100%|███████████████████████████| 6/6 [00:03<00:00,  1.59it/s, loss=0.685, v_num=22, val_loss=0.708, val_acc_epoch=0.692]\u001b[A\n",
      "Validating: 0it [00:00, ?it/s]\u001b[A\n",
      "Epoch 125: 100%|███████████████████████████| 6/6 [00:03<00:00,  1.57it/s, loss=0.696, v_num=22, val_loss=0.707, val_acc_epoch=0.690]\u001b[A\n",
      "Epoch 126: 100%|███████████████████████████| 6/6 [00:03<00:00,  1.60it/s, loss=0.696, v_num=22, val_loss=0.707, val_acc_epoch=0.690]\u001b[A\n",
      "Validating: 0it [00:00, ?it/s]\u001b[A\n",
      "Validating:   0%|                                                                                             | 0/1 [00:00<?, ?it/s]\u001b[A"
     ]
    },
    {
     "name": "stderr",
     "output_type": "stream",
     "text": [
      "Metric val_loss improved by 0.003 >= min_delta = 0.0. New best score: 0.703\n"
     ]
    },
    {
     "name": "stdout",
     "output_type": "stream",
     "text": [
      "Epoch 126: 100%|████████████████████████████| 6/6 [00:03<00:00,  1.57it/s, loss=0.68, v_num=22, val_loss=0.703, val_acc_epoch=0.692]\n",
      "Epoch 127: 100%|████████████████████████████| 6/6 [00:03<00:00,  1.62it/s, loss=0.68, v_num=22, val_loss=0.703, val_acc_epoch=0.692]\u001b[A\n",
      "Validating: 0it [00:00, ?it/s]\u001b[A\n",
      "Epoch 127: 100%|███████████████████████████| 6/6 [00:03<00:00,  1.59it/s, loss=0.687, v_num=22, val_loss=0.705, val_acc_epoch=0.693]\u001b[A\n",
      "Epoch 128: 100%|███████████████████████████| 6/6 [00:03<00:00,  1.61it/s, loss=0.687, v_num=22, val_loss=0.705, val_acc_epoch=0.693]\u001b[A\n",
      "Validating: 0it [00:00, ?it/s]\u001b[A\n",
      "Validating:   0%|                                                                                             | 0/1 [00:00<?, ?it/s]\u001b[A"
     ]
    },
    {
     "name": "stderr",
     "output_type": "stream",
     "text": [
      "Metric val_loss improved by 0.000 >= min_delta = 0.0. New best score: 0.703\n"
     ]
    },
    {
     "name": "stdout",
     "output_type": "stream",
     "text": [
      "Epoch 128: 100%|███████████████████████████| 6/6 [00:03<00:00,  1.59it/s, loss=0.696, v_num=22, val_loss=0.703, val_acc_epoch=0.692]\n",
      "Epoch 129: 100%|███████████████████████████| 6/6 [00:03<00:00,  1.62it/s, loss=0.696, v_num=22, val_loss=0.703, val_acc_epoch=0.692]\u001b[A\n",
      "Validating: 0it [00:00, ?it/s]\u001b[A\n",
      "Epoch 129: 100%|███████████████████████████| 6/6 [00:03<00:00,  1.59it/s, loss=0.697, v_num=22, val_loss=0.705, val_acc_epoch=0.693]\u001b[A\n",
      "Epoch 130: 100%|███████████████████████████| 6/6 [00:03<00:00,  1.60it/s, loss=0.697, v_num=22, val_loss=0.705, val_acc_epoch=0.693]\u001b[A\n",
      "Validating: 0it [00:00, ?it/s]\u001b[A\n",
      "Epoch 130: 100%|███████████████████████████| 6/6 [00:03<00:00,  1.57it/s, loss=0.696, v_num=22, val_loss=0.714, val_acc_epoch=0.691]\u001b[A\n",
      "Epoch 131: 100%|███████████████████████████| 6/6 [00:04<00:00,  1.24it/s, loss=0.696, v_num=22, val_loss=0.714, val_acc_epoch=0.691]\u001b[A\n",
      "Validating: 0it [00:00, ?it/s]\u001b[A\n",
      "Validating:   0%|                                                                                             | 0/1 [00:00<?, ?it/s]\u001b[A"
     ]
    },
    {
     "name": "stderr",
     "output_type": "stream",
     "text": [
      "Metric val_loss improved by 0.004 >= min_delta = 0.0. New best score: 0.699\n"
     ]
    },
    {
     "name": "stdout",
     "output_type": "stream",
     "text": [
      "Epoch 131: 100%|███████████████████████████| 6/6 [00:04<00:00,  1.23it/s, loss=0.689, v_num=22, val_loss=0.699, val_acc_epoch=0.697]\n",
      "Epoch 132: 100%|███████████████████████████| 6/6 [00:04<00:00,  1.39it/s, loss=0.689, v_num=22, val_loss=0.699, val_acc_epoch=0.697]\u001b[A\n",
      "Validating: 0it [00:00, ?it/s]\u001b[A\n",
      "Epoch 132: 100%|███████████████████████████| 6/6 [00:04<00:00,  1.37it/s, loss=0.654, v_num=22, val_loss=0.699, val_acc_epoch=0.698]\u001b[A\n",
      "Epoch 133: 100%|███████████████████████████| 6/6 [00:03<00:00,  1.52it/s, loss=0.654, v_num=22, val_loss=0.699, val_acc_epoch=0.698]\u001b[A\n",
      "Validating: 0it [00:00, ?it/s]\u001b[A\n",
      "Epoch 133: 100%|███████████████████████████| 6/6 [00:04<00:00,  1.49it/s, loss=0.658, v_num=22, val_loss=0.702, val_acc_epoch=0.696]\u001b[A\n",
      "Epoch 134: 100%|███████████████████████████| 6/6 [00:04<00:00,  1.38it/s, loss=0.658, v_num=22, val_loss=0.702, val_acc_epoch=0.696]\u001b[A\n",
      "Validating: 0it [00:00, ?it/s]\u001b[A\n",
      "Epoch 134: 100%|███████████████████████████| 6/6 [00:04<00:00,  1.35it/s, loss=0.656, v_num=22, val_loss=0.699, val_acc_epoch=0.697]\u001b[A\n",
      "Epoch 135: 100%|███████████████████████████| 6/6 [00:04<00:00,  1.48it/s, loss=0.656, v_num=22, val_loss=0.699, val_acc_epoch=0.697]\u001b[A\n",
      "Validating: 0it [00:00, ?it/s]\u001b[A\n",
      "Epoch 135: 100%|███████████████████████████| 6/6 [00:04<00:00,  1.46it/s, loss=0.652, v_num=22, val_loss=0.700, val_acc_epoch=0.698]\u001b[A\n",
      "Epoch 136: 100%|███████████████████████████| 6/6 [00:03<00:00,  1.59it/s, loss=0.652, v_num=22, val_loss=0.700, val_acc_epoch=0.698]\u001b[A\n",
      "Validating: 0it [00:00, ?it/s]\u001b[A\n",
      "Validating:   0%|                                                                                             | 0/1 [00:00<?, ?it/s]\u001b[A"
     ]
    },
    {
     "name": "stderr",
     "output_type": "stream",
     "text": [
      "Metric val_loss improved by 0.000 >= min_delta = 0.0. New best score: 0.698\n"
     ]
    },
    {
     "name": "stdout",
     "output_type": "stream",
     "text": [
      "Epoch 136: 100%|███████████████████████████| 6/6 [00:03<00:00,  1.56it/s, loss=0.678, v_num=22, val_loss=0.698, val_acc_epoch=0.700]\n",
      "Epoch 137: 100%|███████████████████████████| 6/6 [00:03<00:00,  1.59it/s, loss=0.678, v_num=22, val_loss=0.698, val_acc_epoch=0.700]\u001b[A\n",
      "Validating: 0it [00:00, ?it/s]\u001b[A\n",
      "Validating:   0%|                                                                                             | 0/1 [00:00<?, ?it/s]\u001b[A"
     ]
    },
    {
     "name": "stderr",
     "output_type": "stream",
     "text": [
      "Metric val_loss improved by 0.003 >= min_delta = 0.0. New best score: 0.695\n"
     ]
    },
    {
     "name": "stdout",
     "output_type": "stream",
     "text": [
      "Epoch 137: 100%|███████████████████████████| 6/6 [00:03<00:00,  1.56it/s, loss=0.671, v_num=22, val_loss=0.695, val_acc_epoch=0.700]\n",
      "Epoch 138: 100%|███████████████████████████| 6/6 [00:03<00:00,  1.59it/s, loss=0.671, v_num=22, val_loss=0.695, val_acc_epoch=0.700]\u001b[A\n",
      "Validating: 0it [00:00, ?it/s]\u001b[A\n",
      "Validating:   0%|                                                                                             | 0/1 [00:00<?, ?it/s]\u001b[A"
     ]
    },
    {
     "name": "stderr",
     "output_type": "stream",
     "text": [
      "Metric val_loss improved by 0.000 >= min_delta = 0.0. New best score: 0.695\n"
     ]
    },
    {
     "name": "stdout",
     "output_type": "stream",
     "text": [
      "Epoch 138: 100%|███████████████████████████| 6/6 [00:03<00:00,  1.57it/s, loss=0.694, v_num=22, val_loss=0.695, val_acc_epoch=0.698]\n",
      "Epoch 139: 100%|███████████████████████████| 6/6 [00:03<00:00,  1.56it/s, loss=0.694, v_num=22, val_loss=0.695, val_acc_epoch=0.698]\u001b[A\n",
      "Validating: 0it [00:00, ?it/s]\u001b[A\n",
      "Epoch 139: 100%|███████████████████████████| 6/6 [00:03<00:00,  1.54it/s, loss=0.687, v_num=22, val_loss=0.695, val_acc_epoch=0.700]\u001b[A\n",
      "Epoch 140: 100%|███████████████████████████| 6/6 [00:03<00:00,  1.60it/s, loss=0.687, v_num=22, val_loss=0.695, val_acc_epoch=0.700]\u001b[A\n",
      "Validating: 0it [00:00, ?it/s]\u001b[A\n",
      "Epoch 140: 100%|███████████████████████████| 6/6 [00:03<00:00,  1.57it/s, loss=0.671, v_num=22, val_loss=0.703, val_acc_epoch=0.699]\u001b[A\n",
      "Epoch 141: 100%|███████████████████████████| 6/6 [00:03<00:00,  1.60it/s, loss=0.671, v_num=22, val_loss=0.703, val_acc_epoch=0.699]\u001b[A\n",
      "Validating: 0it [00:00, ?it/s]\u001b[A\n",
      "Validating:   0%|                                                                                             | 0/1 [00:00<?, ?it/s]\u001b[A"
     ]
    },
    {
     "name": "stderr",
     "output_type": "stream",
     "text": [
      "Metric val_loss improved by 0.001 >= min_delta = 0.0. New best score: 0.694\n"
     ]
    },
    {
     "name": "stdout",
     "output_type": "stream",
     "text": [
      "Epoch 141: 100%|███████████████████████████| 6/6 [00:03<00:00,  1.58it/s, loss=0.677, v_num=22, val_loss=0.694, val_acc_epoch=0.702]\n",
      "Epoch 142: 100%|███████████████████████████| 6/6 [00:03<00:00,  1.59it/s, loss=0.677, v_num=22, val_loss=0.694, val_acc_epoch=0.702]\u001b[A\n",
      "Validating: 0it [00:00, ?it/s]\u001b[A\n",
      "Validating:   0%|                                                                                             | 0/1 [00:00<?, ?it/s]\u001b[A"
     ]
    },
    {
     "name": "stderr",
     "output_type": "stream",
     "text": [
      "Metric val_loss improved by 0.002 >= min_delta = 0.0. New best score: 0.692\n"
     ]
    },
    {
     "name": "stdout",
     "output_type": "stream",
     "text": [
      "Epoch 142: 100%|███████████████████████████| 6/6 [00:03<00:00,  1.57it/s, loss=0.676, v_num=22, val_loss=0.692, val_acc_epoch=0.701]\n",
      "Epoch 143: 100%|███████████████████████████| 6/6 [00:03<00:00,  1.61it/s, loss=0.676, v_num=22, val_loss=0.692, val_acc_epoch=0.701]\u001b[A\n",
      "Validating: 0it [00:00, ?it/s]\u001b[A\n",
      "Validating:   0%|                                                                                             | 0/1 [00:00<?, ?it/s]\u001b[A"
     ]
    },
    {
     "name": "stderr",
     "output_type": "stream",
     "text": [
      "Metric val_loss improved by 0.001 >= min_delta = 0.0. New best score: 0.691\n"
     ]
    },
    {
     "name": "stdout",
     "output_type": "stream",
     "text": [
      "Epoch 143: 100%|███████████████████████████| 6/6 [00:03<00:00,  1.59it/s, loss=0.688, v_num=22, val_loss=0.691, val_acc_epoch=0.700]\n",
      "Epoch 144: 100%|███████████████████████████| 6/6 [00:03<00:00,  1.59it/s, loss=0.688, v_num=22, val_loss=0.691, val_acc_epoch=0.700]\u001b[A\n",
      "Validating: 0it [00:00, ?it/s]\u001b[A\n",
      "Epoch 144: 100%|███████████████████████████| 6/6 [00:03<00:00,  1.57it/s, loss=0.695, v_num=22, val_loss=0.695, val_acc_epoch=0.702]\u001b[A\n",
      "Epoch 145: 100%|███████████████████████████| 6/6 [00:03<00:00,  1.61it/s, loss=0.695, v_num=22, val_loss=0.695, val_acc_epoch=0.702]\u001b[A\n",
      "Validating: 0it [00:00, ?it/s]\u001b[A\n",
      "Epoch 145: 100%|███████████████████████████| 6/6 [00:03<00:00,  1.58it/s, loss=0.695, v_num=22, val_loss=0.700, val_acc_epoch=0.702]\u001b[A\n",
      "Epoch 146: 100%|███████████████████████████| 6/6 [00:03<00:00,  1.61it/s, loss=0.695, v_num=22, val_loss=0.700, val_acc_epoch=0.702]\u001b[A\n",
      "Validating: 0it [00:00, ?it/s]\u001b[A\n",
      "Epoch 146: 100%|███████████████████████████| 6/6 [00:03<00:00,  1.59it/s, loss=0.689, v_num=22, val_loss=0.693, val_acc_epoch=0.699]\u001b[A\n",
      "Epoch 147: 100%|███████████████████████████| 6/6 [00:03<00:00,  1.60it/s, loss=0.689, v_num=22, val_loss=0.693, val_acc_epoch=0.699]\u001b[A\n",
      "Validating: 0it [00:00, ?it/s]\u001b[A\n",
      "Epoch 147: 100%|███████████████████████████| 6/6 [00:03<00:00,  1.58it/s, loss=0.688, v_num=22, val_loss=0.692, val_acc_epoch=0.703]\u001b[A\n",
      "Epoch 148: 100%|███████████████████████████| 6/6 [00:03<00:00,  1.58it/s, loss=0.688, v_num=22, val_loss=0.692, val_acc_epoch=0.703]\u001b[A\n",
      "Validating: 0it [00:00, ?it/s]\u001b[A\n",
      "Validating:   0%|                                                                                             | 0/1 [00:00<?, ?it/s]\u001b[A"
     ]
    },
    {
     "name": "stderr",
     "output_type": "stream",
     "text": [
      "Metric val_loss improved by 0.002 >= min_delta = 0.0. New best score: 0.689\n"
     ]
    },
    {
     "name": "stdout",
     "output_type": "stream",
     "text": [
      "Epoch 148: 100%|███████████████████████████| 6/6 [00:03<00:00,  1.56it/s, loss=0.697, v_num=22, val_loss=0.689, val_acc_epoch=0.703]\n",
      "Epoch 149: 100%|███████████████████████████| 6/6 [00:03<00:00,  1.63it/s, loss=0.697, v_num=22, val_loss=0.689, val_acc_epoch=0.703]\u001b[A\n",
      "Validating: 0it [00:00, ?it/s]\u001b[A\n",
      "Epoch 149: 100%|███████████████████████████| 6/6 [00:03<00:00,  1.60it/s, loss=0.697, v_num=22, val_loss=0.691, val_acc_epoch=0.703]\u001b[A\n",
      "Epoch 149: 100%|███████████████████████████| 6/6 [00:03<00:00,  1.60it/s, loss=0.697, v_num=22, val_loss=0.691, val_acc_epoch=0.703]\u001b[A\n",
      "Testing: 100%|████████████████████████████████████████████████████████████████████████████████████████| 1/1 [00:00<00:00, 17.48it/s]\n",
      "--------------------------------------------------------------------------------\n",
      "DATALOADER:0 TEST RESULTS\n",
      "{'test_acc': 0.7229655385017395,\n",
      " 'test_acc_epoch': 0.7229655385017395,\n",
      " 'test_loss': 0.6334162354469299}\n",
      "--------------------------------------------------------------------------------\n"
     ]
    },
    {
     "data": {
      "text/plain": [
       "[{'test_loss': 0.6334162354469299,\n",
       "  'test_acc': 0.7229655385017395,\n",
       "  'test_acc_epoch': 0.7229655385017395}]"
      ]
     },
     "execution_count": 25,
     "metadata": {},
     "output_type": "execute_result"
    }
   ],
   "source": [
    "import torch\n",
    "from torch import nn\n",
    "from pytorch_lightning import Trainer\n",
    "from pytorch_lightning.callbacks import EarlyStopping\n",
    "\n",
    "class CharFFLstmModel(TemplateModel):\n",
    "    def __init__(self, char_set_size, char_embedding_dim=4, classes_count=3,\n",
    "                 word_embedding_dim=16, lstm_embedding_dim=16, char_max_seq_len=50):\n",
    "        super().__init__()\n",
    "        \n",
    "        self.embeddings_layer = nn.Embedding(char_set_size, char_embedding_dim)\n",
    "        self.dropout = nn.Dropout(0.3)\n",
    "        self.linear = nn.Linear(char_embedding_dim * char_max_seq_len, word_embedding_dim)\n",
    "        self.relu = nn.ReLU()\n",
    "        self.lstm_layer = nn.LSTM(word_embedding_dim, lstm_embedding_dim // 2, batch_first=True, bidirectional=True)\n",
    "        self.out_layer = nn.Linear(lstm_embedding_dim, classes_count)\n",
    "\n",
    "    def forward(self, inputs, labels):\n",
    "        projections = self.embeddings_layer.forward(inputs)\n",
    "        projections = projections.reshape(projections.size(0), projections.size(1), -1)\n",
    "        projections = self.relu(self.linear(projections))\n",
    "        projections = self.dropout(projections)\n",
    "        output, _= self.lstm_layer(projections)\n",
    "        output = self.dropout(output)\n",
    "        logits = self.out_layer.forward(output)\n",
    "        logits = logits.transpose(1, 2)\n",
    "        loss = self.loss(logits, labels)\n",
    "        return loss, logits\n",
    "\n",
    "\n",
    "char_ff_lstm_model = CharFFLstmModel(len(char_set))\n",
    "early_stop_callback = EarlyStopping(\n",
    "    monitor=\"val_loss\",\n",
    "    min_delta=0.0,\n",
    "    patience=8,\n",
    "    verbose=True,\n",
    "    mode=\"min\" \n",
    ")\n",
    "trainer = Trainer(\n",
    "    gpus=0,\n",
    "    checkpoint_callback=False,\n",
    "    accumulate_grad_batches=1,\n",
    "    max_epochs=150,\n",
    "    progress_bar_refresh_rate=10,\n",
    "    callbacks=[early_stop_callback])\n",
    "trainer.fit(char_ff_lstm_model, train_loader, val_loader)\n",
    "trainer.test(char_ff_lstm_model, test_loader)"
   ]
  },
  {
   "cell_type": "code",
   "execution_count": 26,
   "id": "3ed0f8cc",
   "metadata": {},
   "outputs": [
    {
     "name": "stdout",
     "output_type": "stream",
     "text": [
      "1 Precision: 0.4488734835355286, 1 Recall: 0.37939453125\n",
      "Exact: 425, partial: 901, missing: 722, spurius: 362\n",
      "PREDICTED:\n"
     ]
    },
    {
     "data": {
      "text/html": [
       "<div class=\"tex2jax_ignore\" style=\"white-space: pre-wrap\">Приложение \n",
       "к постановлению администрации \n",
       "МО « Судогодский район » \n",
       "от 01.06.2018 г . \n",
       "№ 841 \n",
       "Муниципальная программа \n",
       "« Благоустройство города Судогда на 2016-2020 год » \n",
       "ПАСПОРТ \n",
       "1. \n",
       "Характеристика проблемы и обоснование \n",
       "необходимости ее решения программными методами \n",
       "Одним из главных направлений в области <span style=\"padding: 2px; border-radius: 4px; border: 1px solid #bbdefb; background: #e3f2fd\">обеспечения социально<span style=\"vertical-align: middle; margin-left: 2px; font-size: 0.7em; color: #64b5f6;\">INST</span></span> - <span style=\"padding: 2px; border-radius: 4px; border: 1px solid #bbdefb; background: #e3f2fd\">экономического<span style=\"vertical-align: middle; margin-left: 2px; font-size: 0.7em; color: #64b5f6;\">INST</span></span> <span style=\"padding: 2px; border-radius: 4px; border: 1px solid #bbdefb; background: #e3f2fd\">развития страны<span style=\"vertical-align: middle; margin-left: 2px; font-size: 0.7em; color: #64b5f6;\">INST</span></span> , <span style=\"padding: 2px; border-radius: 4px; border: 1px solid #bbdefb; background: #e3f2fd\">определенным Правительством Российской<span style=\"vertical-align: middle; margin-left: 2px; font-size: 0.7em; color: #64b5f6;\">INST</span></span> Федерации , является - <span style=\"padding: 2px; border-radius: 4px; border: 1px solid #bbdefb; background: #e3f2fd\">улучшение уровня<span style=\"vertical-align: middle; margin-left: 2px; font-size: 0.7em; color: #64b5f6;\">INST</span></span> и качества <span style=\"padding: 2px; border-radius: 4px; border: 1px solid #bbdefb; background: #e3f2fd\">жизни населения<span style=\"vertical-align: middle; margin-left: 2px; font-size: 0.7em; color: #64b5f6;\">INST</span></span> . \n",
       "Важнейшим аспектом в <span style=\"padding: 2px; border-radius: 4px; border: 1px solid #bbdefb; background: #e3f2fd\">реализации<span style=\"vertical-align: middle; margin-left: 2px; font-size: 0.7em; color: #64b5f6;\">INST</span></span> данного проекта является <span style=\"padding: 2px; border-radius: 4px; border: 1px solid #bbdefb; background: #e3f2fd\">создание органами местного самоуправления условий комфортного<span style=\"vertical-align: middle; margin-left: 2px; font-size: 0.7em; color: #64b5f6;\">INST</span></span> и <span style=\"padding: 2px; border-radius: 4px; border: 1px solid #bbdefb; background: #e3f2fd\">безопасного проживания граждан<span style=\"vertical-align: middle; margin-left: 2px; font-size: 0.7em; color: #64b5f6;\">INST</span></span> , <span style=\"padding: 2px; border-radius: 4px; border: 1px solid #bbdefb; background: #e3f2fd\">формирование современной<span style=\"vertical-align: middle; margin-left: 2px; font-size: 0.7em; color: #64b5f6;\">INST</span></span> городской инфраструктуры и благоустройство мест общего <span style=\"padding: 2px; border-radius: 4px; border: 1px solid #bbdefb; background: #e3f2fd\">пользования<span style=\"vertical-align: middle; margin-left: 2px; font-size: 0.7em; color: #64b5f6;\">INST</span></span> территории города . \n",
       "Благоустройство и озеленение территории <span style=\"padding: 2px; border-radius: 4px; border: 1px solid #bbdefb; background: #e3f2fd\">приобретает<span style=\"vertical-align: middle; margin-left: 2px; font-size: 0.7em; color: #64b5f6;\">INST</span></span> особое <span style=\"padding: 2px; border-radius: 4px; border: 1px solid #bbdefb; background: #e3f2fd\">значение<span style=\"vertical-align: middle; margin-left: 2px; font-size: 0.7em; color: #64b5f6;\">INST</span></span> в условиях <span style=\"padding: 2px; border-radius: 4px; border: 1px solid #bbdefb; background: #e3f2fd\">повышенных антропогенных нагрузок<span style=\"vertical-align: middle; margin-left: 2px; font-size: 0.7em; color: #64b5f6;\">INST</span></span> , дискомфорта городской среды из-за <span style=\"padding: 2px; border-radius: 4px; border: 1px solid #bbdefb; background: #e3f2fd\">загрязнения<span style=\"vertical-align: middle; margin-left: 2px; font-size: 0.7em; color: #64b5f6;\">INST</span></span> <span style=\"padding: 2px; border-radius: 4px; border: 1px solid #bbdefb; background: #e3f2fd\">воздушной среды выбросами автотранспорта<span style=\"vertical-align: middle; margin-left: 2px; font-size: 0.7em; color: #64b5f6;\">INST</span></span> и <span style=\"padding: 2px; border-radius: 4px; border: 1px solid #bbdefb; background: #e3f2fd\">промышленных предприятий<span style=\"vertical-align: middle; margin-left: 2px; font-size: 0.7em; color: #64b5f6;\">INST</span></span> . \n",
       "При выполнении комплекса мероприятий , направленных на благоустройство и <span style=\"padding: 2px; border-radius: 4px; border: 1px solid #bbdefb; background: #e3f2fd\">озеленение<span style=\"vertical-align: middle; margin-left: 2px; font-size: 0.7em; color: #64b5f6;\">INST</span></span> можно <span style=\"padding: 2px; border-radius: 4px; border: 1px solid #bbdefb; background: #e3f2fd\">значительно улучшить экологическое состояние<span style=\"vertical-align: middle; margin-left: 2px; font-size: 0.7em; color: #64b5f6;\">INST</span></span> и внешний облик городского поселения <span style=\"padding: 2px; border-radius: 4px; border: 1px solid #bbdefb; background: #e3f2fd\">создать более комфортные микро  климатические<span style=\"vertical-align: middle; margin-left: 2px; font-size: 0.7em; color: #64b5f6;\">INST</span></span> , <span style=\"padding: 2px; border-radius: 4px; border: 1px solid #bbdefb; background: #e3f2fd\">санитарно<span style=\"vertical-align: middle; margin-left: 2px; font-size: 0.7em; color: #64b5f6;\">INST</span></span> - <span style=\"padding: 2px; border-radius: 4px; border: 1px solid #bbdefb; background: #e3f2fd\">гигиенические<span style=\"vertical-align: middle; margin-left: 2px; font-size: 0.7em; color: #64b5f6;\">INST</span></span> и <span style=\"padding: 2px; border-radius: 4px; border: 1px solid #bbdefb; background: #e3f2fd\">эстетические условия<span style=\"vertical-align: middle; margin-left: 2px; font-size: 0.7em; color: #64b5f6;\">INST</span></span> на улицах , в жилых кварталах , общественных местах ( парках , скверах и т.д. ) . \n",
       "В области текущего содержания территории городского поселения можно выделить следующие проблемы : \n",
       "Уличное освещение \n",
       "В период 2016 г администрацией города Судогда были организованы мероприятия по замене старых уличных <span style=\"padding: 2px; border-radius: 4px; border: 1px solid #bbdefb; background: #e3f2fd\">светильников<span style=\"vertical-align: middle; margin-left: 2px; font-size: 0.7em; color: #64b5f6;\">INST</span></span> , на центральных улицах города , на современные , светодиодные . \n",
       "В ходе <span style=\"padding: 2px; border-radius: 4px; border: 1px solid #bbdefb; background: #e3f2fd\">проведения данных<span style=\"vertical-align: middle; margin-left: 2px; font-size: 0.7em; color: #64b5f6;\">INST</span></span> мероприятий <span style=\"padding: 2px; border-radius: 4px; border: 1px solid #bbdefb; background: #e3f2fd\">была осуществлена замена<span style=\"vertical-align: middle; margin-left: 2px; font-size: 0.7em; color: #64b5f6;\">INST</span></span> 10 <span style=\"padding: 2px; border-radius: 4px; border: 1px solid #bbdefb; background: #e3f2fd\">светильников<span style=\"vertical-align: middle; margin-left: 2px; font-size: 0.7em; color: #64b5f6;\">INST</span></span> . \n",
       "Однако <span style=\"padding: 2px; border-radius: 4px; border: 1px solid #bbdefb; background: #e3f2fd\">полностью решить<span style=\"vertical-align: middle; margin-left: 2px; font-size: 0.7em; color: #64b5f6;\">INST</span></span> проблему уличного <span style=\"padding: 2px; border-radius: 4px; border: 1px solid #bbdefb; background: #e3f2fd\">освещения<span style=\"vertical-align: middle; margin-left: 2px; font-size: 0.7em; color: #64b5f6;\">INST</span></span> городского поселения на сегодняшний день пока не удалось и проблемы еще существуют . \n",
       "Основными проблемами данного направления благоустройства являются : \n",
       "- недостаточное <span style=\"padding: 2px; border-radius: 4px; border: 1px solid #bbdefb; background: #e3f2fd\">количество<span style=\"vertical-align: middle; margin-left: 2px; font-size: 0.7em; color: #64b5f6;\">INST</span></span> уличных <span style=\"padding: 2px; border-radius: 4px; border: 1px solid #bbdefb; background: #e3f2fd\">светильников<span style=\"vertical-align: middle; margin-left: 2px; font-size: 0.7em; color: #64b5f6;\">INST</span></span> на <span style=\"padding: 2px; border-radius: 4px; border: 1px solid #bbdefb; background: #e3f2fd\">второстепенных<span style=\"vertical-align: middle; margin-left: 2px; font-size: 0.7em; color: #64b5f6;\">INST</span></span> улицах городского поселения ; \n",
       "- естественное <span style=\"padding: 2px; border-radius: 4px; border: 1px solid #bbdefb; background: #e3f2fd\">старение сетей<span style=\"vertical-align: middle; margin-left: 2px; font-size: 0.7em; color: #64b5f6;\">INST</span></span> и оборудования <span style=\"padding: 2px; border-radius: 4px; border: 1px solid #bbdefb; background: #e3f2fd\">систем<span style=\"vertical-align: middle; margin-left: 2px; font-size: 0.7em; color: #64b5f6;\">INST</span></span> уличного <span style=\"padding: 2px; border-radius: 4px; border: 1px solid #bbdefb; background: #e3f2fd\">освещения<span style=\"vertical-align: middle; margin-left: 2px; font-size: 0.7em; color: #64b5f6;\">INST</span></span> городского поселения ; \n",
       "- <span style=\"padding: 2px; border-radius: 4px; border: 1px solid #bbdefb; background: #e3f2fd\">отсутствие<span style=\"vertical-align: middle; margin-left: 2px; font-size: 0.7em; color: #64b5f6;\">INST</span></span> <span style=\"padding: 2px; border-radius: 4px; border: 1px solid #bbdefb; background: #e3f2fd\">современной системы мониторинга работы электрической системы<span style=\"vertical-align: middle; margin-left: 2px; font-size: 0.7em; color: #64b5f6;\">INST</span></span> и ее <span style=\"padding: 2px; border-radius: 4px; border: 1px solid #bbdefb; background: #e3f2fd\">управления<span style=\"vertical-align: middle; margin-left: 2px; font-size: 0.7em; color: #64b5f6;\">INST</span></span> . \n",
       "Решение проблемы этого <span style=\"padding: 2px; border-radius: 4px; border: 1px solid #bbdefb; background: #e3f2fd\">раздела лежит<span style=\"vertical-align: middle; margin-left: 2px; font-size: 0.7em; color: #64b5f6;\">INST</span></span> в плоскости <span style=\"padding: 2px; border-radius: 4px; border: 1px solid #bbdefb; background: #e3f2fd\">строительства<span style=\"vertical-align: middle; margin-left: 2px; font-size: 0.7em; color: #64b5f6;\">INST</span></span> и <span style=\"padding: 2px; border-radius: 4px; border: 1px solid #bbdefb; background: #e3f2fd\">реконструкции линий уличного освещения<span style=\"vertical-align: middle; margin-left: 2px; font-size: 0.7em; color: #64b5f6;\">INST</span></span> , <span style=\"padding: 2px; border-radius: 4px; border: 1px solid #bbdefb; background: #e3f2fd\">увеличения количества осветительных<span style=\"vertical-align: middle; margin-left: 2px; font-size: 0.7em; color: #64b5f6;\">INST</span></span> приборов и внедрения <span style=\"padding: 2px; border-radius: 4px; border: 1px solid #bbdefb; background: #e3f2fd\">системы мониторинга<span style=\"vertical-align: middle; margin-left: 2px; font-size: 0.7em; color: #64b5f6;\">INST</span></span> и <span style=\"padding: 2px; border-radius: 4px; border: 1px solid #bbdefb; background: #e3f2fd\">управления<span style=\"vertical-align: middle; margin-left: 2px; font-size: 0.7em; color: #64b5f6;\">INST</span></span> . \n",
       "<span style=\"padding: 2px; border-radius: 4px; border: 1px solid #bbdefb; background: #e3f2fd\">Озеленение<span style=\"vertical-align: middle; margin-left: 2px; font-size: 0.7em; color: #64b5f6;\">INST</span></span> \n",
       "Состояние <span style=\"padding: 2px; border-radius: 4px; border: 1px solid #bbdefb; background: #e3f2fd\">зеленых насаждений<span style=\"vertical-align: middle; margin-left: 2px; font-size: 0.7em; color: #64b5f6;\">INST</span></span> на территории городского поселения <span style=\"padding: 2px; border-radius: 4px; border: 1px solid #bbdefb; background: #e3f2fd\">ухудшается<span style=\"vertical-align: middle; margin-left: 2px; font-size: 0.7em; color: #64b5f6;\">INST</span></span> , <span style=\"padding: 2px; border-radius: 4px; border: 1px solid #bbdefb; background: #e3f2fd\">значительная часть зеленых насаждений посажена<span style=\"vertical-align: middle; margin-left: 2px; font-size: 0.7em; color: #64b5f6;\">INST</span></span> в 60  х - 70  х годах прошлого столетия достигла <span style=\"padding: 2px; border-radius: 4px; border: 1px solid #bbdefb; background: #e3f2fd\">состояния естественного старения<span style=\"vertical-align: middle; margin-left: 2px; font-size: 0.7em; color: #64b5f6;\">INST</span></span> . \n",
       "В области озеленения территории городского поселения можно выделить следующие основные проблемы : \n",
       "- недостаточный <span style=\"padding: 2px; border-radius: 4px; border: 1px solid #bbdefb; background: #e3f2fd\">уровень<span style=\"vertical-align: middle; margin-left: 2px; font-size: 0.7em; color: #64b5f6;\">INST</span></span> озеленения территории городского поселения ; \n",
       "- <span style=\"padding: 2px; border-radius: 4px; border: 1px solid #bbdefb; background: #e3f2fd\">старовозрастность существующих зеленых насаждений<span style=\"vertical-align: middle; margin-left: 2px; font-size: 0.7em; color: #64b5f6;\">INST</span></span> ; \n",
       "- наличие <span style=\"padding: 2px; border-radius: 4px; border: 1px solid #bbdefb; background: #e3f2fd\">большого количества старовозрастных опасных деревьев<span style=\"vertical-align: middle; margin-left: 2px; font-size: 0.7em; color: #64b5f6;\">INST</span></span> ; \n",
       "- <span style=\"padding: 2px; border-radius: 4px; border: 1px solid #bbdefb; background: #e3f2fd\">хаотичность зеленых<span style=\"vertical-align: middle; margin-left: 2px; font-size: 0.7em; color: #64b5f6;\">INST</span></span> посадок <span style=\"padding: 2px; border-radius: 4px; border: 1px solid #bbdefb; background: #e3f2fd\">осуществляемых населением<span style=\"vertical-align: middle; margin-left: 2px; font-size: 0.7em; color: #64b5f6;\">INST</span></span> ; \n",
       "- <span style=\"padding: 2px; border-radius: 4px; border: 1px solid #bbdefb; background: #e3f2fd\">отсутствие<span style=\"vertical-align: middle; margin-left: 2px; font-size: 0.7em; color: #64b5f6;\">INST</span></span> <span style=\"padding: 2px; border-radius: 4px; border: 1px solid #bbdefb; background: #e3f2fd\">системного ухода<span style=\"vertical-align: middle; margin-left: 2px; font-size: 0.7em; color: #64b5f6;\">INST</span></span> за <span style=\"padding: 2px; border-radius: 4px; border: 1px solid #bbdefb; background: #e3f2fd\">большей частью насаждений<span style=\"vertical-align: middle; margin-left: 2px; font-size: 0.7em; color: #64b5f6;\">INST</span></span> ; \n",
       "- малое <span style=\"padding: 2px; border-radius: 4px; border: 1px solid #bbdefb; background: #e3f2fd\">количество кустарниковой декоративной растительности<span style=\"vertical-align: middle; margin-left: 2px; font-size: 0.7em; color: #64b5f6;\">INST</span></span> ; \n",
       "- малое <span style=\"padding: 2px; border-radius: 4px; border: 1px solid #bbdefb; background: #e3f2fd\">количество обустроенных надлежащим образом газонов<span style=\"vertical-align: middle; margin-left: 2px; font-size: 0.7em; color: #64b5f6;\">INST</span></span> и цветников ; \n",
       "- бурная , сорная кустарниковая <span style=\"padding: 2px; border-radius: 4px; border: 1px solid #bbdefb; background: #e3f2fd\">растительность вдоль обочин<span style=\"vertical-align: middle; margin-left: 2px; font-size: 0.7em; color: #64b5f6;\">INST</span></span> дорог улично - дорожной сети городского поселения . \n",
       "Для улучшения и <span style=\"padding: 2px; border-radius: 4px; border: 1px solid #bbdefb; background: #e3f2fd\">поддержания состояния зеленых насаждений<span style=\"vertical-align: middle; margin-left: 2px; font-size: 0.7em; color: #64b5f6;\">INST</span></span> в условиях городской среды , <span style=\"padding: 2px; border-radius: 4px; border: 1px solid #bbdefb; background: #e3f2fd\">устранения<span style=\"vertical-align: middle; margin-left: 2px; font-size: 0.7em; color: #64b5f6;\">INST</span></span> аварийной ситуации , соответствия <span style=\"padding: 2px; border-radius: 4px; border: 1px solid #bbdefb; background: #e3f2fd\">эксплуатационным требованиям<span style=\"vertical-align: middle; margin-left: 2px; font-size: 0.7em; color: #64b5f6;\">INST</span></span> к объектам городского коммунального <span style=\"padding: 2px; border-radius: 4px; border: 1px solid #bbdefb; background: #e3f2fd\">хозяйства<span style=\"vertical-align: middle; margin-left: 2px; font-size: 0.7em; color: #64b5f6;\">INST</span></span> , придания <span style=\"padding: 2px; border-radius: 4px; border: 1px solid #bbdefb; background: #e3f2fd\">зеленым насаждениям надлежащего декоративного облика требуется своевременное проведение работ<span style=\"vertical-align: middle; margin-left: 2px; font-size: 0.7em; color: #64b5f6;\">INST</span></span> по ремонту и содержанию <span style=\"padding: 2px; border-radius: 4px; border: 1px solid #bbdefb; background: #e3f2fd\">зеленых насаждений<span style=\"vertical-align: middle; margin-left: 2px; font-size: 0.7em; color: #64b5f6;\">INST</span></span> на территории городского поселения . \n",
       "Особое внимание следует уделять <span style=\"padding: 2px; border-radius: 4px; border: 1px solid #bbdefb; background: #e3f2fd\">восстановлению зеленого<span style=\"vertical-align: middle; margin-left: 2px; font-size: 0.7em; color: #64b5f6;\">INST</span></span> фонда путем планомерной <span style=\"padding: 2px; border-radius: 4px; border: 1px solid #bbdefb; background: #e3f2fd\">замены старовозрастных<span style=\"vertical-align: middle; margin-left: 2px; font-size: 0.7em; color: #64b5f6;\">INST</span></span> и аварийных <span style=\"padding: 2px; border-radius: 4px; border: 1px solid #bbdefb; background: #e3f2fd\">насаждений<span style=\"vertical-align: middle; margin-left: 2px; font-size: 0.7em; color: #64b5f6;\">INST</span></span> , используя <span style=\"padding: 2px; border-radius: 4px; border: 1px solid #bbdefb; background: #e3f2fd\">крупномерный посадочный материал саженцев деревьев ценных<span style=\"vertical-align: middle; margin-left: 2px; font-size: 0.7em; color: #64b5f6;\">INST</span></span> пород и декоративных кустарников . \n",
       "Так же для решения проблем данного раздела требуется проведение мероприятий по своевременному скосу имеющихся газонов , увеличению цветников и клумб на территории города . \n",
       "Отлов безнадзорных животных \n",
       "Основной проблемой большого количества на территории городского поселения безнадзорных животных ( в основном собак ) является : \n",
       "- низкая культура населения в области содержания домашних животных ; \n",
       "- не применение механизма привлечения к ответственности хозяев животных нарушающих правила их содержания ; \n",
       "- недостаточная пропагандистская работа среди населения по содержанию домашних животных . \n",
       "Решением проблемы является применение мер административного воздействия к лицам , нарушающим правила содержания домашних животных , а так же меры по принудительному отлову бесхозяйных животных . \n",
       "Содержание ливневых водоотводных канав \n",
       "Основными проблемами не качественной работы данной системы являются : \n",
       "- многолетняя запущенность и захламленность городских водоотводных канав ; \n",
       "- отсутствие укрепительных элементов ( откосов ) ливневых водоотводных канав , что препятствует организации нормального водостока ; \n",
       "- нежелание жителей осуществлять очистку данных канав проходящих по земельным участкам , закрепленных за их домовладениями ; \n",
       "Решением данной проблемы станет : \n",
       "- поэтапное восстановление общей ливневой водоотводной системы городского поселения , а именно очистка открытых участков ливневой водоотводной канавы от мусора и поросли вручную и с помощью спец  техники ; \n",
       "- проведение работ по перекладке труб и лотков под дорогами , с соблюдением необходимых уклонов для качественной работы системы ; \n",
       "- работа с населением через предупредительные меры о необходимости своевременной очистки , не захламления ливневых канав проходящих по земельным участкам , закрепленных за их домовладениями ; \n",
       "- публикация информационных материалов по данной проблематике в средствах массовой информации . \n",
       "Не  санкционированные свалки \n",
       "За период действия программы , число не  санкционированных свалок на территории городского поселения сократилось в 3 раза . \n",
       "Между тем , их формирование продолжается . \n",
       "Причиной этого является отсутствие достаточного количества оборудованных мест для складирования мусора , отсутствие системного подхода к вывозу мусора с территории частного сектора городского поселения . \n",
       "Реестр не  санкционированных свалок приведен в таблице 1 . \n",
       "Таблица 1 \n",
       "Реестр \n",
       "не  санкционированных свалок на территории г. Судогда \n",
       "Пути решения данной проблемы : \n",
       "- регулярная ликвидация не  санкционированных свалок ; \n",
       "- увеличение количества площадок для сбора ТБО ; \n",
       "- контроль за соблюдением правил обращения с ТБО , правил благоустройства ; \n",
       "- разъяснительная работа в СМИ и др . \n",
       "Внешнее благоустройство \n",
       "Одна из задач внешнего благоустройства – повышение разнообразия и художественной выразительности застройки и открытых озелененных пространств . \n",
       "Современные жилые территории без малых архитектурных форм являются безликими и невыразительными . \n",
       "Содержание малых архитектурных форм должно предусматривать их нормальную эксплуатацию . \n",
       "Садово - парковая мебель , малые архитектурные формы и оборудование должны иметь хороший внешний вид : окрашены , содержаться в чистоте , и находится в исправном состоянии . \n",
       "Их цветовое решение должно вносить в городскую застройку жизнерадостный колорит и разнообразие . \n",
       "Для решения данной задачи необходимо разработка концепции наполнения городских улиц малыми архитектурными формами с ее последующей реализацией . \n",
       "Места общественного отдыха населения \n",
       "В настоящее время в городском поселении назрела необходимость в увеличении количества обустроенных мест общественного отдыха населения . \n",
       "Возможные пути решения это : \n",
       "- реконструкция существующих мест общественного отдыха ; \n",
       "- обустройство мест для отдыха в отдаленных от центра микрорайонах ; \n",
       "- создание обустроенных зон отдыха в городских парках , скверах , прибрежных зонах . \n",
       "Для решения этой проблемы необходимо разработать и реализовать проект обустройства мест общественного отдыха . \n",
       "Содержание автомобильных дорог и безопасность дорожного движения \n",
       "Одной из важнейших задач благоустройства городского поселения является содержание автомобильных дорог в летний и зимний периоды , а также организация безопасности дорожного движения . \n",
       "Основными проблемами являются : высокий износ пешеходных тротуаров , автомобильных дорог общего пользования , дорожных знаков , горизонтальной дорожной разметки , парковочных карманов , наличие снежных навалов на центральных улицах городского поселения и гололедица в зимний период . \n",
       "Возможные пути решения : \n",
       "- щебеночный ремонт дорожного покрытия ; \n",
       "- ремонт тротуарной сети ; \n",
       "- увеличение доли бордюрного оформления дорог и тротуаров ; \n",
       "- оборудование пешеходных переходов ограждениями ; \n",
       "- оформление дорог дорожными знаками и горизонтальной дорожной разметкой ; \n",
       "- ремонт парковочных карманов ; \n",
       "- своевременная очистка от снега улиц и тротуаров , а также подсыпка противогололедными материалами . \n",
       "Основные цели и задачи реализации Программы \n",
       "Основной целью Программы является комплексное решение проблем благоустройства , осуществление мероприятий по улучшению санитарного и эстетичного вида территории городского поселения и повышению комфортности проживания граждан . \n",
       "Основными задачами Программы являются : \n",
       "- обеспечение бесперебойной работы уличного освещения городского поселения ; \n",
       "- увеличение наружных линий уличного освещения ; уменьшение количества опасных деревьев ; \n",
       "- уменьшение количества бесхозных , бродячих животных ; обеспечение нормального функционирования ливневых водоотводных канав ; сокращение не  санкционированных свалок на территории городского поселения ; \n",
       "- установкой дополнительных мусорных урн на территории городского поселения ;</div>"
      ],
      "text/plain": [
       "<IPython.core.display.HTML object>"
      ]
     },
     "metadata": {},
     "output_type": "display_data"
    }
   ],
   "source": [
    "predict(char_ff_lstm_model, test_loader)"
   ]
  },
  {
   "cell_type": "markdown",
   "id": "963523d5",
   "metadata": {},
   "source": [
    "## Задание 1.1\n",
    "Сделайте то же самое, но с bidirectional LSTM на уровне символов"
   ]
  },
  {
   "cell_type": "code",
   "execution_count": 27,
   "id": "da58f240",
   "metadata": {},
   "outputs": [
    {
     "name": "stderr",
     "output_type": "stream",
     "text": [
      "GPU available: False, used: False\n",
      "TPU available: False, using: 0 TPU cores\n",
      "\n",
      "  | Name             | Type             | Params\n",
      "------------------------------------------------------\n",
      "0 | loss             | CrossEntropyLoss | 0     \n",
      "1 | valid_accuracy   | Accuracy         | 0     \n",
      "2 | test_accuracy    | Accuracy         | 0     \n",
      "3 | embeddings_layer | Embedding        | 696   \n",
      "4 | dropout          | Dropout          | 0     \n",
      "5 | lstm_layer       | LSTM             | 896   \n",
      "6 | out_layer        | Linear           | 2.4 K \n",
      "------------------------------------------------------\n",
      "4.0 K     Trainable params\n",
      "0         Non-trainable params\n",
      "4.0 K     Total params\n",
      "0.016     Total estimated model params size (MB)\n"
     ]
    },
    {
     "name": "stdout",
     "output_type": "stream",
     "text": [
      "Epoch 0: 100%|████████████████████████████████████████████████████████████████████████████████████████| 6/6 [00:52<00:00,  8.79s/it]\n",
      "Validating: 0it [00:00, ?it/s]\u001b[A\n",
      "Validating:   0%|                                                                                             | 0/1 [00:00<?, ?it/s]\u001b[A\n",
      "Validating: 100%|█████████████████████████████████████████████████████████████████████████████████████| 1/1 [00:01<00:00,  1.90s/it]\u001b[A"
     ]
    },
    {
     "name": "stderr",
     "output_type": "stream",
     "text": [
      "Metric val_loss improved. New best score: 0.867\n"
     ]
    },
    {
     "name": "stdout",
     "output_type": "stream",
     "text": [
      "Epoch 0: 100%|█████████████████████████████| 6/6 [00:54<00:00,  9.11s/it, loss=0.981, v_num=23, val_loss=0.867, val_acc_epoch=0.653]\n",
      "Epoch 1: 100%|█████████████████████████████| 6/6 [00:55<00:00,  9.26s/it, loss=0.981, v_num=23, val_loss=0.867, val_acc_epoch=0.653]\u001b[A\n",
      "Validating: 0it [00:00, ?it/s]\u001b[A\n",
      "Validating:   0%|                                                                                             | 0/1 [00:00<?, ?it/s]\u001b[A\n",
      "Epoch 1: 100%|█████████████████████████████| 6/6 [00:57<00:00,  9.59s/it, loss=0.924, v_num=23, val_loss=0.877, val_acc_epoch=0.653]\u001b[A\n",
      "Epoch 2: 100%|█████████████████████████████| 6/6 [00:55<00:00,  9.21s/it, loss=0.924, v_num=23, val_loss=0.877, val_acc_epoch=0.653]\u001b[A\n",
      "Validating: 0it [00:00, ?it/s]\u001b[A\n",
      "Validating:   0%|                                                                                             | 0/1 [00:00<?, ?it/s]\u001b[A\n",
      "Validating: 100%|█████████████████████████████████████████████████████████████████████████████████████| 1/1 [00:02<00:00,  2.09s/it]\u001b[A"
     ]
    },
    {
     "name": "stderr",
     "output_type": "stream",
     "text": [
      "Metric val_loss improved by 0.020 >= min_delta = 0.0. New best score: 0.848\n"
     ]
    },
    {
     "name": "stdout",
     "output_type": "stream",
     "text": [
      "Epoch 2: 100%|█████████████████████████████| 6/6 [00:57<00:00,  9.56s/it, loss=0.896, v_num=23, val_loss=0.848, val_acc_epoch=0.653]\n",
      "Epoch 3: 100%|█████████████████████████████| 6/6 [00:56<00:00,  9.33s/it, loss=0.896, v_num=23, val_loss=0.848, val_acc_epoch=0.653]\u001b[A\n",
      "Validating: 0it [00:00, ?it/s]\u001b[A\n",
      "Validating:   0%|                                                                                             | 0/1 [00:00<?, ?it/s]\u001b[A\n",
      "Validating: 100%|█████████████████████████████████████████████████████████████████████████████████████| 1/1 [00:02<00:00,  2.02s/it]\u001b[A"
     ]
    },
    {
     "name": "stderr",
     "output_type": "stream",
     "text": [
      "Metric val_loss improved by 0.014 >= min_delta = 0.0. New best score: 0.834\n"
     ]
    },
    {
     "name": "stdout",
     "output_type": "stream",
     "text": [
      "Epoch 3: 100%|█████████████████████████████| 6/6 [00:58<00:00,  9.67s/it, loss=0.885, v_num=23, val_loss=0.834, val_acc_epoch=0.653]\n",
      "Epoch 4: 100%|█████████████████████████████| 6/6 [00:51<00:00,  8.60s/it, loss=0.885, v_num=23, val_loss=0.834, val_acc_epoch=0.653]\u001b[A\n",
      "Validating: 0it [00:00, ?it/s]\u001b[A\n",
      "Validating:   0%|                                                                                             | 0/1 [00:00<?, ?it/s]\u001b[A\n",
      "Validating: 100%|█████████████████████████████████████████████████████████████████████████████████████| 1/1 [00:01<00:00,  1.51s/it]\u001b[A"
     ]
    },
    {
     "name": "stderr",
     "output_type": "stream",
     "text": [
      "Metric val_loss improved by 0.006 >= min_delta = 0.0. New best score: 0.828\n"
     ]
    },
    {
     "name": "stdout",
     "output_type": "stream",
     "text": [
      "Epoch 4: 100%|█████████████████████████████| 6/6 [00:53<00:00,  8.85s/it, loss=0.843, v_num=23, val_loss=0.828, val_acc_epoch=0.653]\n",
      "Epoch 5: 100%|█████████████████████████████| 6/6 [00:51<00:00,  8.60s/it, loss=0.843, v_num=23, val_loss=0.828, val_acc_epoch=0.653]\u001b[A\n",
      "Validating: 0it [00:00, ?it/s]\u001b[A\n",
      "Validating:   0%|                                                                                             | 0/1 [00:00<?, ?it/s]\u001b[A\n",
      "Validating: 100%|█████████████████████████████████████████████████████████████████████████████████████| 1/1 [00:02<00:00,  2.02s/it]\u001b[A"
     ]
    },
    {
     "name": "stderr",
     "output_type": "stream",
     "text": [
      "Metric val_loss improved by 0.011 >= min_delta = 0.0. New best score: 0.816\n"
     ]
    },
    {
     "name": "stdout",
     "output_type": "stream",
     "text": [
      "Epoch 5: 100%|█████████████████████████████| 6/6 [00:53<00:00,  8.94s/it, loss=0.832, v_num=23, val_loss=0.816, val_acc_epoch=0.653]\n",
      "Epoch 6: 100%|█████████████████████████████| 6/6 [00:51<00:00,  8.62s/it, loss=0.832, v_num=23, val_loss=0.816, val_acc_epoch=0.653]\u001b[A\n",
      "Validating: 0it [00:00, ?it/s]\u001b[A\n",
      "Validating:   0%|                                                                                             | 0/1 [00:00<?, ?it/s]\u001b[A\n",
      "Validating: 100%|█████████████████████████████████████████████████████████████████████████████████████| 1/1 [00:02<00:00,  2.73s/it]\u001b[A"
     ]
    },
    {
     "name": "stderr",
     "output_type": "stream",
     "text": [
      "Metric val_loss improved by 0.006 >= min_delta = 0.0. New best score: 0.811\n"
     ]
    },
    {
     "name": "stdout",
     "output_type": "stream",
     "text": [
      "Epoch 6: 100%|█████████████████████████████| 6/6 [00:54<00:00,  9.08s/it, loss=0.825, v_num=23, val_loss=0.811, val_acc_epoch=0.652]\n",
      "Epoch 7: 100%|█████████████████████████████| 6/6 [00:52<00:00,  8.74s/it, loss=0.825, v_num=23, val_loss=0.811, val_acc_epoch=0.652]\u001b[A\n",
      "Validating: 0it [00:00, ?it/s]\u001b[A\n",
      "Validating:   0%|                                                                                             | 0/1 [00:00<?, ?it/s]\u001b[A\n",
      "Validating: 100%|█████████████████████████████████████████████████████████████████████████████████████| 1/1 [00:02<00:00,  2.33s/it]\u001b[A"
     ]
    },
    {
     "name": "stderr",
     "output_type": "stream",
     "text": [
      "Metric val_loss improved by 0.005 >= min_delta = 0.0. New best score: 0.806\n"
     ]
    },
    {
     "name": "stdout",
     "output_type": "stream",
     "text": [
      "Epoch 7: 100%|█████████████████████████████| 6/6 [00:54<00:00,  9.13s/it, loss=0.817, v_num=23, val_loss=0.806, val_acc_epoch=0.652]\n",
      "Epoch 8: 100%|█████████████████████████████| 6/6 [00:59<00:00,  9.86s/it, loss=0.817, v_num=23, val_loss=0.806, val_acc_epoch=0.652]\u001b[A\n",
      "Validating: 0it [00:00, ?it/s]\u001b[A\n",
      "Validating:   0%|                                                                                             | 0/1 [00:00<?, ?it/s]\u001b[A\n",
      "Validating: 100%|█████████████████████████████████████████████████████████████████████████████████████| 1/1 [00:01<00:00,  1.91s/it]\u001b[A"
     ]
    },
    {
     "name": "stderr",
     "output_type": "stream",
     "text": [
      "Metric val_loss improved by 0.003 >= min_delta = 0.0. New best score: 0.803\n"
     ]
    },
    {
     "name": "stdout",
     "output_type": "stream",
     "text": [
      "Epoch 8: 100%|█████████████████████████████| 6/6 [01:01<00:00, 10.18s/it, loss=0.815, v_num=23, val_loss=0.803, val_acc_epoch=0.648]\n",
      "Epoch 9: 100%|█████████████████████████████| 6/6 [00:59<00:00,  9.87s/it, loss=0.815, v_num=23, val_loss=0.803, val_acc_epoch=0.648]\u001b[A\n",
      "Validating: 0it [00:00, ?it/s]\u001b[A\n",
      "Validating:   0%|                                                                                             | 0/1 [00:00<?, ?it/s]\u001b[A\n",
      "Validating: 100%|█████████████████████████████████████████████████████████████████████████████████████| 1/1 [00:01<00:00,  1.76s/it]\u001b[A"
     ]
    },
    {
     "name": "stderr",
     "output_type": "stream",
     "text": [
      "Metric val_loss improved by 0.003 >= min_delta = 0.0. New best score: 0.800\n"
     ]
    },
    {
     "name": "stdout",
     "output_type": "stream",
     "text": [
      "Epoch 9: 100%|█████████████████████████████| 6/6 [01:00<00:00, 10.16s/it, loss=0.798, v_num=23, val_loss=0.800, val_acc_epoch=0.648]\n",
      "Epoch 10: 100%|████████████████████████████| 6/6 [00:52<00:00,  8.79s/it, loss=0.798, v_num=23, val_loss=0.800, val_acc_epoch=0.648]\u001b[A\n",
      "Validating: 0it [00:00, ?it/s]\u001b[A\n",
      "Validating:   0%|                                                                                             | 0/1 [00:00<?, ?it/s]\u001b[A\n",
      "Validating: 100%|█████████████████████████████████████████████████████████████████████████████████████| 1/1 [00:01<00:00,  1.78s/it]\u001b[A"
     ]
    },
    {
     "name": "stderr",
     "output_type": "stream",
     "text": [
      "Metric val_loss improved by 0.002 >= min_delta = 0.0. New best score: 0.798\n"
     ]
    },
    {
     "name": "stdout",
     "output_type": "stream",
     "text": [
      "Epoch 10: 100%|████████████████████████████| 6/6 [00:54<00:00,  9.09s/it, loss=0.786, v_num=23, val_loss=0.798, val_acc_epoch=0.647]\n",
      "Epoch 11: 100%|████████████████████████████| 6/6 [00:52<00:00,  8.80s/it, loss=0.786, v_num=23, val_loss=0.798, val_acc_epoch=0.647]\u001b[A\n",
      "Validating: 0it [00:00, ?it/s]\u001b[A\n",
      "Validating:   0%|                                                                                             | 0/1 [00:00<?, ?it/s]\u001b[A\n",
      "Validating: 100%|█████████████████████████████████████████████████████████████████████████████████████| 1/1 [00:01<00:00,  1.56s/it]\u001b[A"
     ]
    },
    {
     "name": "stderr",
     "output_type": "stream",
     "text": [
      "Metric val_loss improved by 0.002 >= min_delta = 0.0. New best score: 0.796\n"
     ]
    },
    {
     "name": "stdout",
     "output_type": "stream",
     "text": [
      "Epoch 11: 100%|████████████████████████████| 6/6 [00:54<00:00,  9.06s/it, loss=0.785, v_num=23, val_loss=0.796, val_acc_epoch=0.646]\n",
      "Epoch 12: 100%|████████████████████████████| 6/6 [00:54<00:00,  9.07s/it, loss=0.785, v_num=23, val_loss=0.796, val_acc_epoch=0.646]\u001b[A\n",
      "Validating: 0it [00:00, ?it/s]\u001b[A\n",
      "Validating:   0%|                                                                                             | 0/1 [00:00<?, ?it/s]\u001b[A\n",
      "Validating: 100%|█████████████████████████████████████████████████████████████████████████████████████| 1/1 [00:02<00:00,  2.28s/it]\u001b[A"
     ]
    },
    {
     "name": "stderr",
     "output_type": "stream",
     "text": [
      "Metric val_loss improved by 0.001 >= min_delta = 0.0. New best score: 0.796\n"
     ]
    },
    {
     "name": "stdout",
     "output_type": "stream",
     "text": [
      "Epoch 12: 100%|████████████████████████████| 6/6 [00:56<00:00,  9.45s/it, loss=0.774, v_num=23, val_loss=0.796, val_acc_epoch=0.633]\n",
      "Epoch 13: 100%|████████████████████████████| 6/6 [00:54<00:00,  9.11s/it, loss=0.774, v_num=23, val_loss=0.796, val_acc_epoch=0.633]\u001b[A\n",
      "Validating: 0it [00:00, ?it/s]\u001b[A\n",
      "Validating:   0%|                                                                                             | 0/1 [00:00<?, ?it/s]\u001b[A\n",
      "Validating: 100%|█████████████████████████████████████████████████████████████████████████████████████| 1/1 [00:01<00:00,  1.75s/it]\u001b[A"
     ]
    },
    {
     "name": "stderr",
     "output_type": "stream",
     "text": [
      "Metric val_loss improved by 0.002 >= min_delta = 0.0. New best score: 0.794\n"
     ]
    },
    {
     "name": "stdout",
     "output_type": "stream",
     "text": [
      "Epoch 13: 100%|█████████████████████████████| 6/6 [00:56<00:00,  9.40s/it, loss=0.78, v_num=23, val_loss=0.794, val_acc_epoch=0.639]\n",
      "Epoch 14: 100%|█████████████████████████████| 6/6 [00:54<00:00,  9.14s/it, loss=0.78, v_num=23, val_loss=0.794, val_acc_epoch=0.639]\u001b[A\n",
      "Validating: 0it [00:00, ?it/s]\u001b[A\n",
      "Validating:   0%|                                                                                             | 0/1 [00:00<?, ?it/s]\u001b[A\n",
      "Validating: 100%|█████████████████████████████████████████████████████████████████████████████████████| 1/1 [00:01<00:00,  1.93s/it]\u001b[A"
     ]
    },
    {
     "name": "stderr",
     "output_type": "stream",
     "text": [
      "Metric val_loss improved by 0.002 >= min_delta = 0.0. New best score: 0.792\n"
     ]
    },
    {
     "name": "stdout",
     "output_type": "stream",
     "text": [
      "Epoch 14: 100%|████████████████████████████| 6/6 [00:56<00:00,  9.47s/it, loss=0.802, v_num=23, val_loss=0.792, val_acc_epoch=0.638]\n",
      "Epoch 15: 100%|████████████████████████████| 6/6 [00:53<00:00,  8.88s/it, loss=0.802, v_num=23, val_loss=0.792, val_acc_epoch=0.638]\u001b[A\n",
      "Validating: 0it [00:00, ?it/s]\u001b[A\n",
      "Validating:   0%|                                                                                             | 0/1 [00:00<?, ?it/s]\u001b[A\n",
      "Epoch 15: 100%|████████████████████████████| 6/6 [00:55<00:00,  9.28s/it, loss=0.799, v_num=23, val_loss=0.801, val_acc_epoch=0.621]\u001b[A\n",
      "Epoch 16: 100%|████████████████████████████| 6/6 [00:55<00:00,  9.21s/it, loss=0.799, v_num=23, val_loss=0.801, val_acc_epoch=0.621]\u001b[A\n",
      "Validating: 0it [00:00, ?it/s]\u001b[A\n",
      "Validating:   0%|                                                                                             | 0/1 [00:00<?, ?it/s]\u001b[A\n",
      "Validating: 100%|█████████████████████████████████████████████████████████████████████████████████████| 1/1 [00:01<00:00,  1.44s/it]\u001b[A"
     ]
    },
    {
     "name": "stderr",
     "output_type": "stream",
     "text": [
      "Metric val_loss improved by 0.002 >= min_delta = 0.0. New best score: 0.790\n"
     ]
    },
    {
     "name": "stdout",
     "output_type": "stream",
     "text": [
      "Epoch 16: 100%|████████████████████████████| 6/6 [00:56<00:00,  9.45s/it, loss=0.807, v_num=23, val_loss=0.790, val_acc_epoch=0.644]\n",
      "Epoch 17: 100%|████████████████████████████| 6/6 [00:54<00:00,  9.02s/it, loss=0.807, v_num=23, val_loss=0.790, val_acc_epoch=0.644]\u001b[A\n",
      "Validating: 0it [00:00, ?it/s]\u001b[A\n",
      "Validating:   0%|                                                                                             | 0/1 [00:00<?, ?it/s]\u001b[A\n",
      "Validating: 100%|█████████████████████████████████████████████████████████████████████████████████████| 1/1 [00:01<00:00,  1.44s/it]\u001b[A"
     ]
    },
    {
     "name": "stderr",
     "output_type": "stream",
     "text": [
      "Metric val_loss improved by 0.001 >= min_delta = 0.0. New best score: 0.789\n"
     ]
    },
    {
     "name": "stdout",
     "output_type": "stream",
     "text": [
      "Epoch 17: 100%|█████████████████████████████| 6/6 [00:55<00:00,  9.26s/it, loss=0.81, v_num=23, val_loss=0.789, val_acc_epoch=0.653]\n",
      "Epoch 18: 100%|█████████████████████████████| 6/6 [00:53<00:00,  8.85s/it, loss=0.81, v_num=23, val_loss=0.789, val_acc_epoch=0.653]\u001b[A\n",
      "Validating: 0it [00:00, ?it/s]\u001b[A\n",
      "Validating:   0%|                                                                                             | 0/1 [00:00<?, ?it/s]\u001b[A\n",
      "Validating: 100%|█████████████████████████████████████████████████████████████████████████████████████| 1/1 [00:02<00:00,  2.14s/it]\u001b[A"
     ]
    },
    {
     "name": "stderr",
     "output_type": "stream",
     "text": [
      "Metric val_loss improved by 0.003 >= min_delta = 0.0. New best score: 0.786\n"
     ]
    },
    {
     "name": "stdout",
     "output_type": "stream",
     "text": [
      "Epoch 18: 100%|████████████████████████████| 6/6 [00:55<00:00,  9.21s/it, loss=0.781, v_num=23, val_loss=0.786, val_acc_epoch=0.651]\n",
      "Epoch 19: 100%|████████████████████████████| 6/6 [00:54<00:00,  9.11s/it, loss=0.781, v_num=23, val_loss=0.786, val_acc_epoch=0.651]\u001b[A\n",
      "Validating: 0it [00:00, ?it/s]\u001b[A\n",
      "Validating:   0%|                                                                                             | 0/1 [00:00<?, ?it/s]\u001b[A\n",
      "Validating: 100%|█████████████████████████████████████████████████████████████████████████████████████| 1/1 [00:01<00:00,  1.51s/it]\u001b[A"
     ]
    },
    {
     "name": "stderr",
     "output_type": "stream",
     "text": [
      "Metric val_loss improved by 0.001 >= min_delta = 0.0. New best score: 0.785\n"
     ]
    },
    {
     "name": "stdout",
     "output_type": "stream",
     "text": [
      "Epoch 19: 100%|████████████████████████████| 6/6 [00:56<00:00,  9.36s/it, loss=0.774, v_num=23, val_loss=0.785, val_acc_epoch=0.653]\n",
      "Epoch 20: 100%|████████████████████████████| 6/6 [00:56<00:00,  9.41s/it, loss=0.774, v_num=23, val_loss=0.785, val_acc_epoch=0.653]\u001b[A\n",
      "Validating: 0it [00:00, ?it/s]\u001b[A\n",
      "Validating:   0%|                                                                                             | 0/1 [00:00<?, ?it/s]\u001b[A\n",
      "Validating: 100%|█████████████████████████████████████████████████████████████████████████████████████| 1/1 [00:01<00:00,  1.69s/it]\u001b[A"
     ]
    },
    {
     "name": "stderr",
     "output_type": "stream",
     "text": [
      "Metric val_loss improved by 0.001 >= min_delta = 0.0. New best score: 0.784\n"
     ]
    },
    {
     "name": "stdout",
     "output_type": "stream",
     "text": [
      "Epoch 20: 100%|████████████████████████████| 6/6 [00:58<00:00,  9.69s/it, loss=0.759, v_num=23, val_loss=0.784, val_acc_epoch=0.653]\n",
      "Epoch 21: 100%|████████████████████████████| 6/6 [00:55<00:00,  9.22s/it, loss=0.759, v_num=23, val_loss=0.784, val_acc_epoch=0.653]\u001b[A\n",
      "Validating: 0it [00:00, ?it/s]\u001b[A\n",
      "Validating:   0%|                                                                                             | 0/1 [00:00<?, ?it/s]\u001b[A\n",
      "Validating: 100%|█████████████████████████████████████████████████████████████████████████████████████| 1/1 [00:02<00:00,  2.15s/it]\u001b[A"
     ]
    },
    {
     "name": "stderr",
     "output_type": "stream",
     "text": [
      "Metric val_loss improved by 0.001 >= min_delta = 0.0. New best score: 0.783\n"
     ]
    },
    {
     "name": "stdout",
     "output_type": "stream",
     "text": [
      "Epoch 21: 100%|████████████████████████████| 6/6 [00:57<00:00,  9.58s/it, loss=0.761, v_num=23, val_loss=0.783, val_acc_epoch=0.654]\n",
      "Epoch 22: 100%|████████████████████████████| 6/6 [00:52<00:00,  8.67s/it, loss=0.761, v_num=23, val_loss=0.783, val_acc_epoch=0.654]\u001b[A\n",
      "Validating: 0it [00:00, ?it/s]\u001b[A\n",
      "Validating:   0%|                                                                                             | 0/1 [00:00<?, ?it/s]\u001b[A\n",
      "Epoch 22: 100%|████████████████████████████| 6/6 [00:53<00:00,  8.96s/it, loss=0.768, v_num=23, val_loss=0.783, val_acc_epoch=0.652]\u001b[A\n",
      "Epoch 23: 100%|████████████████████████████| 6/6 [00:51<00:00,  8.61s/it, loss=0.768, v_num=23, val_loss=0.783, val_acc_epoch=0.652]\u001b[A\n",
      "Validating: 0it [00:00, ?it/s]\u001b[A\n",
      "Validating:   0%|                                                                                             | 0/1 [00:00<?, ?it/s]\u001b[A\n",
      "Validating: 100%|█████████████████████████████████████████████████████████████████████████████████████| 1/1 [00:02<00:00,  2.22s/it]\u001b[A"
     ]
    },
    {
     "name": "stderr",
     "output_type": "stream",
     "text": [
      "Metric val_loss improved by 0.002 >= min_delta = 0.0. New best score: 0.781\n"
     ]
    },
    {
     "name": "stdout",
     "output_type": "stream",
     "text": [
      "Epoch 23: 100%|████████████████████████████| 6/6 [00:53<00:00,  8.98s/it, loss=0.758, v_num=23, val_loss=0.781, val_acc_epoch=0.654]\n",
      "Epoch 24: 100%|████████████████████████████| 6/6 [00:58<00:00,  9.76s/it, loss=0.758, v_num=23, val_loss=0.781, val_acc_epoch=0.654]\u001b[A\n",
      "Validating: 0it [00:00, ?it/s]\u001b[A\n",
      "Validating:   0%|                                                                                             | 0/1 [00:00<?, ?it/s]\u001b[A\n",
      "Validating: 100%|█████████████████████████████████████████████████████████████████████████████████████| 1/1 [00:02<00:00,  2.97s/it]\u001b[A"
     ]
    },
    {
     "name": "stderr",
     "output_type": "stream",
     "text": [
      "Metric val_loss improved by 0.001 >= min_delta = 0.0. New best score: 0.779\n"
     ]
    },
    {
     "name": "stdout",
     "output_type": "stream",
     "text": [
      "Epoch 24: 100%|████████████████████████████| 6/6 [01:01<00:00, 10.26s/it, loss=0.778, v_num=23, val_loss=0.779, val_acc_epoch=0.654]\n",
      "Epoch 25: 100%|████████████████████████████| 6/6 [00:54<00:00,  9.16s/it, loss=0.778, v_num=23, val_loss=0.779, val_acc_epoch=0.654]\u001b[A\n",
      "Validating: 0it [00:00, ?it/s]\u001b[A\n",
      "Validating:   0%|                                                                                             | 0/1 [00:00<?, ?it/s]\u001b[A\n",
      "Epoch 25: 100%|████████████████████████████| 6/6 [00:56<00:00,  9.50s/it, loss=0.773, v_num=23, val_loss=0.784, val_acc_epoch=0.643]\u001b[A\n",
      "Epoch 26: 100%|████████████████████████████| 6/6 [00:51<00:00,  8.59s/it, loss=0.773, v_num=23, val_loss=0.784, val_acc_epoch=0.643]\u001b[A\n",
      "Validating: 0it [00:00, ?it/s]\u001b[A\n",
      "Validating:   0%|                                                                                             | 0/1 [00:00<?, ?it/s]\u001b[A\n",
      "Validating: 100%|█████████████████████████████████████████████████████████████████████████████████████| 1/1 [00:02<00:00,  2.16s/it]\u001b[A"
     ]
    },
    {
     "name": "stderr",
     "output_type": "stream",
     "text": [
      "Metric val_loss improved by 0.000 >= min_delta = 0.0. New best score: 0.779\n"
     ]
    },
    {
     "name": "stdout",
     "output_type": "stream",
     "text": [
      "Epoch 26: 100%|████████████████████████████| 6/6 [00:53<00:00,  8.95s/it, loss=0.762, v_num=23, val_loss=0.779, val_acc_epoch=0.657]\n",
      "Epoch 27: 100%|████████████████████████████| 6/6 [00:51<00:00,  8.61s/it, loss=0.762, v_num=23, val_loss=0.779, val_acc_epoch=0.657]\u001b[A\n",
      "Validating: 0it [00:00, ?it/s]\u001b[A\n",
      "Validating:   0%|                                                                                             | 0/1 [00:00<?, ?it/s]\u001b[A\n",
      "Epoch 27: 100%|████████████████████████████| 6/6 [00:53<00:00,  8.89s/it, loss=0.774, v_num=23, val_loss=0.779, val_acc_epoch=0.656]\u001b[A\n",
      "Epoch 28: 100%|████████████████████████████| 6/6 [00:51<00:00,  8.64s/it, loss=0.774, v_num=23, val_loss=0.779, val_acc_epoch=0.656]\u001b[A\n",
      "Validating: 0it [00:00, ?it/s]\u001b[A\n",
      "Validating:   0%|                                                                                             | 0/1 [00:00<?, ?it/s]\u001b[A\n",
      "Epoch 28: 100%|████████████████████████████| 6/6 [00:53<00:00,  8.92s/it, loss=0.775, v_num=23, val_loss=0.781, val_acc_epoch=0.636]\u001b[A\n",
      "Epoch 29: 100%|████████████████████████████| 6/6 [00:51<00:00,  8.65s/it, loss=0.775, v_num=23, val_loss=0.781, val_acc_epoch=0.636]\u001b[A\n",
      "Validating: 0it [00:00, ?it/s]\u001b[A\n",
      "Validating:   0%|                                                                                             | 0/1 [00:00<?, ?it/s]\u001b[A\n",
      "Epoch 29: 100%|████████████████████████████| 6/6 [00:53<00:00,  8.92s/it, loss=0.772, v_num=23, val_loss=0.780, val_acc_epoch=0.642]\u001b[A\n",
      "Epoch 30: 100%|████████████████████████████| 6/6 [00:51<00:00,  8.65s/it, loss=0.772, v_num=23, val_loss=0.780, val_acc_epoch=0.642]\u001b[A\n",
      "Validating: 0it [00:00, ?it/s]\u001b[A\n",
      "Validating:   0%|                                                                                             | 0/1 [00:00<?, ?it/s]\u001b[A\n",
      "Epoch 30: 100%|████████████████████████████| 6/6 [00:53<00:00,  8.92s/it, loss=0.786, v_num=23, val_loss=0.783, val_acc_epoch=0.656]\u001b[A\n",
      "Epoch 31: 100%|████████████████████████████| 6/6 [00:51<00:00,  8.62s/it, loss=0.786, v_num=23, val_loss=0.783, val_acc_epoch=0.656]\u001b[A\n",
      "Validating: 0it [00:00, ?it/s]\u001b[A\n",
      "Validating:   0%|                                                                                             | 0/1 [00:00<?, ?it/s]\u001b[A\n",
      "Validating: 100%|█████████████████████████████████████████████████████████████████████████████████████| 1/1 [00:01<00:00,  1.66s/it]\u001b[A"
     ]
    },
    {
     "name": "stderr",
     "output_type": "stream",
     "text": [
      "Metric val_loss improved by 0.005 >= min_delta = 0.0. New best score: 0.774\n"
     ]
    },
    {
     "name": "stdout",
     "output_type": "stream",
     "text": [
      "Epoch 31: 100%|████████████████████████████| 6/6 [00:53<00:00,  8.90s/it, loss=0.791, v_num=23, val_loss=0.774, val_acc_epoch=0.658]\n",
      "Epoch 32: 100%|████████████████████████████| 6/6 [00:51<00:00,  8.65s/it, loss=0.791, v_num=23, val_loss=0.774, val_acc_epoch=0.658]\u001b[A\n",
      "Validating: 0it [00:00, ?it/s]\u001b[A\n",
      "Validating:   0%|                                                                                             | 0/1 [00:00<?, ?it/s]\u001b[A\n",
      "Epoch 32: 100%|█████████████████████████████| 6/6 [00:53<00:00,  8.90s/it, loss=0.78, v_num=23, val_loss=0.776, val_acc_epoch=0.642]\u001b[A\n",
      "Epoch 33: 100%|█████████████████████████████| 6/6 [00:51<00:00,  8.58s/it, loss=0.78, v_num=23, val_loss=0.776, val_acc_epoch=0.642]\u001b[A\n",
      "Validating: 0it [00:00, ?it/s]\u001b[A\n",
      "Validating:   0%|                                                                                             | 0/1 [00:00<?, ?it/s]\u001b[A\n",
      "Validating: 100%|█████████████████████████████████████████████████████████████████████████████████████| 1/1 [00:01<00:00,  1.62s/it]\u001b[A"
     ]
    },
    {
     "name": "stderr",
     "output_type": "stream",
     "text": [
      "Metric val_loss improved by 0.002 >= min_delta = 0.0. New best score: 0.773\n"
     ]
    },
    {
     "name": "stdout",
     "output_type": "stream",
     "text": [
      "Epoch 33: 100%|████████████████████████████| 6/6 [00:53<00:00,  8.85s/it, loss=0.781, v_num=23, val_loss=0.773, val_acc_epoch=0.650]\n",
      "Epoch 34: 100%|████████████████████████████| 6/6 [00:51<00:00,  8.62s/it, loss=0.781, v_num=23, val_loss=0.773, val_acc_epoch=0.650]\u001b[A\n",
      "Validating: 0it [00:00, ?it/s]\u001b[A\n",
      "Validating:   0%|                                                                                             | 0/1 [00:00<?, ?it/s]\u001b[A\n",
      "Epoch 34: 100%|████████████████████████████| 6/6 [00:53<00:00,  8.95s/it, loss=0.771, v_num=23, val_loss=0.773, val_acc_epoch=0.659]\u001b[A\n",
      "Epoch 35: 100%|████████████████████████████| 6/6 [00:52<00:00,  8.72s/it, loss=0.771, v_num=23, val_loss=0.773, val_acc_epoch=0.659]\u001b[A\n",
      "Validating: 0it [00:00, ?it/s]\u001b[A\n",
      "Validating:   0%|                                                                                             | 0/1 [00:00<?, ?it/s]\u001b[A\n",
      "Epoch 35: 100%|████████████████████████████| 6/6 [00:53<00:00,  8.98s/it, loss=0.749, v_num=23, val_loss=0.773, val_acc_epoch=0.659]\u001b[A\n",
      "Epoch 36: 100%|████████████████████████████| 6/6 [00:51<00:00,  8.64s/it, loss=0.749, v_num=23, val_loss=0.773, val_acc_epoch=0.659]\u001b[A\n",
      "Validating: 0it [00:00, ?it/s]\u001b[A\n",
      "Validating:   0%|                                                                                             | 0/1 [00:00<?, ?it/s]\u001b[A\n",
      "Validating: 100%|█████████████████████████████████████████████████████████████████████████████████████| 1/1 [00:01<00:00,  1.83s/it]\u001b[A"
     ]
    },
    {
     "name": "stderr",
     "output_type": "stream",
     "text": [
      "Metric val_loss improved by 0.000 >= min_delta = 0.0. New best score: 0.772\n"
     ]
    },
    {
     "name": "stdout",
     "output_type": "stream",
     "text": [
      "Epoch 36: 100%|████████████████████████████| 6/6 [00:53<00:00,  8.95s/it, loss=0.746, v_num=23, val_loss=0.772, val_acc_epoch=0.660]\n",
      "Epoch 37: 100%|████████████████████████████| 6/6 [00:52<00:00,  8.72s/it, loss=0.746, v_num=23, val_loss=0.772, val_acc_epoch=0.660]\u001b[A\n",
      "Validating: 0it [00:00, ?it/s]\u001b[A\n",
      "Validating:   0%|                                                                                             | 0/1 [00:00<?, ?it/s]\u001b[A\n",
      "Validating: 100%|█████████████████████████████████████████████████████████████████████████████████████| 1/1 [00:02<00:00,  2.07s/it]\u001b[A"
     ]
    },
    {
     "name": "stderr",
     "output_type": "stream",
     "text": [
      "Metric val_loss improved by 0.003 >= min_delta = 0.0. New best score: 0.769\n"
     ]
    },
    {
     "name": "stdout",
     "output_type": "stream",
     "text": [
      "Epoch 37: 100%|████████████████████████████| 6/6 [00:54<00:00,  9.06s/it, loss=0.741, v_num=23, val_loss=0.769, val_acc_epoch=0.659]\n",
      "Epoch 38: 100%|████████████████████████████| 6/6 [00:55<00:00,  9.23s/it, loss=0.741, v_num=23, val_loss=0.769, val_acc_epoch=0.659]\u001b[A\n",
      "Validating: 0it [00:00, ?it/s]\u001b[A\n",
      "Validating:   0%|                                                                                             | 0/1 [00:00<?, ?it/s]\u001b[A\n",
      "Validating: 100%|█████████████████████████████████████████████████████████████████████████████████████| 1/1 [00:02<00:00,  2.02s/it]\u001b[A"
     ]
    },
    {
     "name": "stderr",
     "output_type": "stream",
     "text": [
      "Metric val_loss improved by 0.001 >= min_delta = 0.0. New best score: 0.769\n"
     ]
    },
    {
     "name": "stdout",
     "output_type": "stream",
     "text": [
      "Epoch 38: 100%|████████████████████████████| 6/6 [00:57<00:00,  9.56s/it, loss=0.742, v_num=23, val_loss=0.769, val_acc_epoch=0.658]\n",
      "Epoch 39: 100%|████████████████████████████| 6/6 [00:58<00:00,  9.80s/it, loss=0.742, v_num=23, val_loss=0.769, val_acc_epoch=0.658]\u001b[A\n",
      "Validating: 0it [00:00, ?it/s]\u001b[A\n",
      "Validating:   0%|                                                                                             | 0/1 [00:00<?, ?it/s]\u001b[A\n",
      "Validating: 100%|█████████████████████████████████████████████████████████████████████████████████████| 1/1 [00:01<00:00,  1.51s/it]\u001b[A"
     ]
    },
    {
     "name": "stderr",
     "output_type": "stream",
     "text": [
      "Metric val_loss improved by 0.001 >= min_delta = 0.0. New best score: 0.768\n"
     ]
    },
    {
     "name": "stdout",
     "output_type": "stream",
     "text": [
      "Epoch 39: 100%|████████████████████████████| 6/6 [01:00<00:00, 10.05s/it, loss=0.757, v_num=23, val_loss=0.768, val_acc_epoch=0.660]\n",
      "Epoch 40: 100%|████████████████████████████| 6/6 [00:51<00:00,  8.64s/it, loss=0.757, v_num=23, val_loss=0.768, val_acc_epoch=0.660]\u001b[A\n",
      "Validating: 0it [00:00, ?it/s]\u001b[A\n",
      "Validating:   0%|                                                                                             | 0/1 [00:00<?, ?it/s]\u001b[A\n",
      "Validating: 100%|█████████████████████████████████████████████████████████████████████████████████████| 1/1 [00:01<00:00,  1.59s/it]\u001b[A"
     ]
    },
    {
     "name": "stderr",
     "output_type": "stream",
     "text": [
      "Metric val_loss improved by 0.001 >= min_delta = 0.0. New best score: 0.767\n"
     ]
    },
    {
     "name": "stdout",
     "output_type": "stream",
     "text": [
      "Epoch 40: 100%|████████████████████████████| 6/6 [00:53<00:00,  8.90s/it, loss=0.746, v_num=23, val_loss=0.767, val_acc_epoch=0.660]\n",
      "Epoch 41: 100%|████████████████████████████| 6/6 [00:55<00:00,  9.20s/it, loss=0.746, v_num=23, val_loss=0.767, val_acc_epoch=0.660]\u001b[A\n",
      "Validating: 0it [00:00, ?it/s]\u001b[A\n",
      "Validating:   0%|                                                                                             | 0/1 [00:00<?, ?it/s]\u001b[A\n",
      "Validating: 100%|█████████████████████████████████████████████████████████████████████████████████████| 1/1 [00:01<00:00,  1.58s/it]\u001b[A"
     ]
    },
    {
     "name": "stderr",
     "output_type": "stream",
     "text": [
      "Metric val_loss improved by 0.001 >= min_delta = 0.0. New best score: 0.766\n"
     ]
    },
    {
     "name": "stdout",
     "output_type": "stream",
     "text": [
      "Epoch 41: 100%|████████████████████████████| 6/6 [00:56<00:00,  9.46s/it, loss=0.748, v_num=23, val_loss=0.766, val_acc_epoch=0.661]\n",
      "Epoch 42: 100%|████████████████████████████| 6/6 [00:51<00:00,  8.60s/it, loss=0.748, v_num=23, val_loss=0.766, val_acc_epoch=0.661]\u001b[A\n",
      "Validating: 0it [00:00, ?it/s]\u001b[A\n",
      "Validating:   0%|                                                                                             | 0/1 [00:00<?, ?it/s]\u001b[A\n",
      "Validating: 100%|█████████████████████████████████████████████████████████████████████████████████████| 1/1 [00:01<00:00,  1.57s/it]\u001b[A"
     ]
    },
    {
     "name": "stderr",
     "output_type": "stream",
     "text": [
      "Metric val_loss improved by 0.000 >= min_delta = 0.0. New best score: 0.766\n"
     ]
    },
    {
     "name": "stdout",
     "output_type": "stream",
     "text": [
      "Epoch 42: 100%|█████████████████████████████| 6/6 [00:53<00:00,  8.86s/it, loss=0.75, v_num=23, val_loss=0.766, val_acc_epoch=0.657]\n",
      "Epoch 43: 100%|█████████████████████████████| 6/6 [00:51<00:00,  8.65s/it, loss=0.75, v_num=23, val_loss=0.766, val_acc_epoch=0.657]\u001b[A\n",
      "Validating: 0it [00:00, ?it/s]\u001b[A\n",
      "Validating:   0%|                                                                                             | 0/1 [00:00<?, ?it/s]\u001b[A\n",
      "Validating: 100%|█████████████████████████████████████████████████████████████████████████████████████| 1/1 [00:01<00:00,  1.45s/it]\u001b[A"
     ]
    },
    {
     "name": "stderr",
     "output_type": "stream",
     "text": [
      "Metric val_loss improved by 0.001 >= min_delta = 0.0. New best score: 0.765\n"
     ]
    },
    {
     "name": "stdout",
     "output_type": "stream",
     "text": [
      "Epoch 43: 100%|████████████████████████████| 6/6 [00:53<00:00,  8.89s/it, loss=0.754, v_num=23, val_loss=0.765, val_acc_epoch=0.660]\n",
      "Epoch 44: 100%|████████████████████████████| 6/6 [00:51<00:00,  8.60s/it, loss=0.754, v_num=23, val_loss=0.765, val_acc_epoch=0.660]\u001b[A\n",
      "Validating: 0it [00:00, ?it/s]\u001b[A\n",
      "Validating:   0%|                                                                                             | 0/1 [00:00<?, ?it/s]\u001b[A\n",
      "Validating: 100%|█████████████████████████████████████████████████████████████████████████████████████| 1/1 [00:01<00:00,  1.52s/it]\u001b[A"
     ]
    },
    {
     "name": "stderr",
     "output_type": "stream",
     "text": [
      "Metric val_loss improved by 0.000 >= min_delta = 0.0. New best score: 0.765\n"
     ]
    },
    {
     "name": "stdout",
     "output_type": "stream",
     "text": [
      "Epoch 44: 100%|████████████████████████████| 6/6 [00:53<00:00,  8.85s/it, loss=0.771, v_num=23, val_loss=0.765, val_acc_epoch=0.653]\n",
      "Epoch 45: 100%|████████████████████████████| 6/6 [00:51<00:00,  8.55s/it, loss=0.771, v_num=23, val_loss=0.765, val_acc_epoch=0.653]\u001b[A\n",
      "Validating: 0it [00:00, ?it/s]\u001b[A\n",
      "Validating:   0%|                                                                                             | 0/1 [00:00<?, ?it/s]\u001b[A\n",
      "Validating: 100%|█████████████████████████████████████████████████████████████████████████████████████| 1/1 [00:01<00:00,  1.49s/it]\u001b[A"
     ]
    },
    {
     "name": "stderr",
     "output_type": "stream",
     "text": [
      "Metric val_loss improved by 0.001 >= min_delta = 0.0. New best score: 0.764\n"
     ]
    },
    {
     "name": "stdout",
     "output_type": "stream",
     "text": [
      "Epoch 45: 100%|████████████████████████████| 6/6 [00:52<00:00,  8.80s/it, loss=0.769, v_num=23, val_loss=0.764, val_acc_epoch=0.653]\n",
      "Epoch 46: 100%|████████████████████████████| 6/6 [00:51<00:00,  8.62s/it, loss=0.769, v_num=23, val_loss=0.764, val_acc_epoch=0.653]\u001b[A\n",
      "Validating: 0it [00:00, ?it/s]\u001b[A\n",
      "Validating:   0%|                                                                                             | 0/1 [00:00<?, ?it/s]\u001b[A\n",
      "Epoch 46: 100%|█████████████████████████████| 6/6 [00:53<00:00,  8.88s/it, loss=0.77, v_num=23, val_loss=0.765, val_acc_epoch=0.659]\u001b[A\n",
      "Epoch 47: 100%|█████████████████████████████| 6/6 [00:51<00:00,  8.61s/it, loss=0.77, v_num=23, val_loss=0.765, val_acc_epoch=0.659]\u001b[A\n",
      "Validating: 0it [00:00, ?it/s]\u001b[A\n",
      "Validating:   0%|                                                                                             | 0/1 [00:00<?, ?it/s]\u001b[A\n",
      "Validating: 100%|█████████████████████████████████████████████████████████████████████████████████████| 1/1 [00:01<00:00,  1.68s/it]\u001b[A"
     ]
    },
    {
     "name": "stderr",
     "output_type": "stream",
     "text": [
      "Metric val_loss improved by 0.002 >= min_delta = 0.0. New best score: 0.762\n"
     ]
    },
    {
     "name": "stdout",
     "output_type": "stream",
     "text": [
      "Epoch 47: 100%|█████████████████████████████| 6/6 [00:53<00:00,  8.89s/it, loss=0.77, v_num=23, val_loss=0.762, val_acc_epoch=0.660]\n",
      "Epoch 48: 100%|█████████████████████████████| 6/6 [00:51<00:00,  8.56s/it, loss=0.77, v_num=23, val_loss=0.762, val_acc_epoch=0.660]\u001b[A\n",
      "Validating: 0it [00:00, ?it/s]\u001b[A\n",
      "Validating:   0%|                                                                                             | 0/1 [00:00<?, ?it/s]\u001b[A\n",
      "Epoch 48: 100%|████████████████████████████| 6/6 [00:52<00:00,  8.83s/it, loss=0.762, v_num=23, val_loss=0.768, val_acc_epoch=0.645]\u001b[A\n",
      "Epoch 49: 100%|████████████████████████████| 6/6 [00:51<00:00,  8.58s/it, loss=0.762, v_num=23, val_loss=0.768, val_acc_epoch=0.645]\u001b[A\n",
      "Validating: 0it [00:00, ?it/s]\u001b[A\n",
      "Validating:   0%|                                                                                             | 0/1 [00:00<?, ?it/s]\u001b[A\n",
      "Validating: 100%|█████████████████████████████████████████████████████████████████████████████████████| 1/1 [00:01<00:00,  1.50s/it]\u001b[A"
     ]
    },
    {
     "name": "stderr",
     "output_type": "stream",
     "text": [
      "Metric val_loss improved by 0.001 >= min_delta = 0.0. New best score: 0.761\n"
     ]
    },
    {
     "name": "stdout",
     "output_type": "stream",
     "text": [
      "Epoch 49: 100%|████████████████████████████| 6/6 [00:52<00:00,  8.83s/it, loss=0.765, v_num=23, val_loss=0.761, val_acc_epoch=0.660]\n",
      "Epoch 50: 100%|████████████████████████████| 6/6 [00:51<00:00,  8.60s/it, loss=0.765, v_num=23, val_loss=0.761, val_acc_epoch=0.660]\u001b[A\n",
      "Validating: 0it [00:00, ?it/s]\u001b[A\n",
      "Validating:   0%|                                                                                             | 0/1 [00:00<?, ?it/s]\u001b[A\n",
      "Validating: 100%|█████████████████████████████████████████████████████████████████████████████████████| 1/1 [00:02<00:00,  2.11s/it]\u001b[A"
     ]
    },
    {
     "name": "stderr",
     "output_type": "stream",
     "text": [
      "Metric val_loss improved by 0.001 >= min_delta = 0.0. New best score: 0.760\n"
     ]
    },
    {
     "name": "stdout",
     "output_type": "stream",
     "text": [
      "Epoch 50: 100%|████████████████████████████| 6/6 [00:53<00:00,  8.96s/it, loss=0.767, v_num=23, val_loss=0.760, val_acc_epoch=0.657]\n",
      "Epoch 51: 100%|████████████████████████████| 6/6 [00:51<00:00,  8.61s/it, loss=0.767, v_num=23, val_loss=0.760, val_acc_epoch=0.657]\u001b[A\n",
      "Validating: 0it [00:00, ?it/s]\u001b[A\n",
      "Validating:   0%|                                                                                             | 0/1 [00:00<?, ?it/s]\u001b[A\n",
      "Epoch 51: 100%|████████████████████████████| 6/6 [00:53<00:00,  8.85s/it, loss=0.761, v_num=23, val_loss=0.761, val_acc_epoch=0.651]\u001b[A\n",
      "Epoch 52: 100%|████████████████████████████| 6/6 [00:51<00:00,  8.61s/it, loss=0.761, v_num=23, val_loss=0.761, val_acc_epoch=0.651]\u001b[A\n",
      "Validating: 0it [00:00, ?it/s]\u001b[A\n",
      "Validating:   0%|                                                                                             | 0/1 [00:00<?, ?it/s]\u001b[A\n",
      "Epoch 52: 100%|████████████████████████████| 6/6 [00:53<00:00,  8.90s/it, loss=0.765, v_num=23, val_loss=0.762, val_acc_epoch=0.656]\u001b[A\n",
      "Epoch 53: 100%|████████████████████████████| 6/6 [00:55<00:00,  9.17s/it, loss=0.765, v_num=23, val_loss=0.762, val_acc_epoch=0.656]\u001b[A\n",
      "Validating: 0it [00:00, ?it/s]\u001b[A\n",
      "Validating:   0%|                                                                                             | 0/1 [00:00<?, ?it/s]\u001b[A\n",
      "Validating: 100%|█████████████████████████████████████████████████████████████████████████████████████| 1/1 [00:01<00:00,  1.71s/it]\u001b[A"
     ]
    },
    {
     "name": "stderr",
     "output_type": "stream",
     "text": [
      "Metric val_loss improved by 0.000 >= min_delta = 0.0. New best score: 0.760\n"
     ]
    },
    {
     "name": "stdout",
     "output_type": "stream",
     "text": [
      "Epoch 53: 100%|████████████████████████████| 6/6 [00:56<00:00,  9.46s/it, loss=0.752, v_num=23, val_loss=0.760, val_acc_epoch=0.660]\n",
      "Epoch 54: 100%|████████████████████████████| 6/6 [00:55<00:00,  9.29s/it, loss=0.752, v_num=23, val_loss=0.760, val_acc_epoch=0.660]\u001b[A\n",
      "Validating: 0it [00:00, ?it/s]\u001b[A\n",
      "Validating:   0%|                                                                                             | 0/1 [00:00<?, ?it/s]\u001b[A\n",
      "Validating: 100%|█████████████████████████████████████████████████████████████████████████████████████| 1/1 [00:02<00:00,  2.59s/it]\u001b[A"
     ]
    },
    {
     "name": "stderr",
     "output_type": "stream",
     "text": [
      "Metric val_loss improved by 0.001 >= min_delta = 0.0. New best score: 0.758\n"
     ]
    },
    {
     "name": "stdout",
     "output_type": "stream",
     "text": [
      "Epoch 54: 100%|████████████████████████████| 6/6 [00:58<00:00,  9.72s/it, loss=0.741, v_num=23, val_loss=0.758, val_acc_epoch=0.653]\n",
      "Epoch 55: 100%|████████████████████████████| 6/6 [00:53<00:00,  8.88s/it, loss=0.741, v_num=23, val_loss=0.758, val_acc_epoch=0.653]\u001b[A\n",
      "Validating: 0it [00:00, ?it/s]\u001b[A\n",
      "Validating:   0%|                                                                                             | 0/1 [00:00<?, ?it/s]\u001b[A\n",
      "Validating: 100%|█████████████████████████████████████████████████████████████████████████████████████| 1/1 [00:01<00:00,  1.78s/it]\u001b[A"
     ]
    },
    {
     "name": "stderr",
     "output_type": "stream",
     "text": [
      "Metric val_loss improved by 0.001 >= min_delta = 0.0. New best score: 0.757\n"
     ]
    },
    {
     "name": "stdout",
     "output_type": "stream",
     "text": [
      "Epoch 55: 100%|████████████████████████████| 6/6 [00:55<00:00,  9.17s/it, loss=0.746, v_num=23, val_loss=0.757, val_acc_epoch=0.658]\n",
      "Epoch 56: 100%|████████████████████████████| 6/6 [00:51<00:00,  8.58s/it, loss=0.746, v_num=23, val_loss=0.757, val_acc_epoch=0.658]\u001b[A\n",
      "Validating: 0it [00:00, ?it/s]\u001b[A\n",
      "Validating:   0%|                                                                                             | 0/1 [00:00<?, ?it/s]\u001b[A\n",
      "Epoch 56: 100%|████████████████████████████| 6/6 [00:53<00:00,  8.93s/it, loss=0.748, v_num=23, val_loss=0.758, val_acc_epoch=0.654]\u001b[A\n",
      "Epoch 57: 100%|████████████████████████████| 6/6 [00:51<00:00,  8.66s/it, loss=0.748, v_num=23, val_loss=0.758, val_acc_epoch=0.654]\u001b[A\n",
      "Validating: 0it [00:00, ?it/s]\u001b[A\n",
      "Validating:   0%|                                                                                             | 0/1 [00:00<?, ?it/s]\u001b[A\n",
      "Epoch 57: 100%|████████████████████████████| 6/6 [00:53<00:00,  8.98s/it, loss=0.756, v_num=23, val_loss=0.758, val_acc_epoch=0.656]\u001b[A\n",
      "Epoch 58: 100%|████████████████████████████| 6/6 [00:54<00:00,  9.11s/it, loss=0.756, v_num=23, val_loss=0.758, val_acc_epoch=0.656]\u001b[A\n",
      "Validating: 0it [00:00, ?it/s]\u001b[A\n",
      "Validating:   0%|                                                                                             | 0/1 [00:00<?, ?it/s]\u001b[A\n",
      "Validating: 100%|█████████████████████████████████████████████████████████████████████████████████████| 1/1 [00:01<00:00,  1.96s/it]\u001b[A"
     ]
    },
    {
     "name": "stderr",
     "output_type": "stream",
     "text": [
      "Metric val_loss improved by 0.001 >= min_delta = 0.0. New best score: 0.757\n"
     ]
    },
    {
     "name": "stdout",
     "output_type": "stream",
     "text": [
      "Epoch 58: 100%|████████████████████████████| 6/6 [00:56<00:00,  9.44s/it, loss=0.765, v_num=23, val_loss=0.757, val_acc_epoch=0.663]\n",
      "Epoch 59: 100%|████████████████████████████| 6/6 [00:54<00:00,  9.12s/it, loss=0.765, v_num=23, val_loss=0.757, val_acc_epoch=0.663]\u001b[A\n",
      "Validating: 0it [00:00, ?it/s]\u001b[A\n",
      "Validating:   0%|                                                                                             | 0/1 [00:00<?, ?it/s]\u001b[A\n",
      "Epoch 59: 100%|████████████████████████████| 6/6 [00:56<00:00,  9.42s/it, loss=0.765, v_num=23, val_loss=0.759, val_acc_epoch=0.653]\u001b[A\n",
      "Epoch 60: 100%|████████████████████████████| 6/6 [00:51<00:00,  8.58s/it, loss=0.765, v_num=23, val_loss=0.759, val_acc_epoch=0.653]\u001b[A\n",
      "Validating: 0it [00:00, ?it/s]\u001b[A\n",
      "Validating:   0%|                                                                                             | 0/1 [00:00<?, ?it/s]\u001b[A\n",
      "Validating: 100%|█████████████████████████████████████████████████████████████████████████████████████| 1/1 [00:01<00:00,  1.79s/it]\u001b[A"
     ]
    },
    {
     "name": "stderr",
     "output_type": "stream",
     "text": [
      "Metric val_loss improved by 0.001 >= min_delta = 0.0. New best score: 0.756\n"
     ]
    },
    {
     "name": "stdout",
     "output_type": "stream",
     "text": [
      "Epoch 60: 100%|████████████████████████████| 6/6 [00:53<00:00,  8.88s/it, loss=0.749, v_num=23, val_loss=0.756, val_acc_epoch=0.657]\n",
      "Epoch 61: 100%|████████████████████████████| 6/6 [00:51<00:00,  8.61s/it, loss=0.749, v_num=23, val_loss=0.756, val_acc_epoch=0.657]\u001b[A\n",
      "Validating: 0it [00:00, ?it/s]\u001b[A\n",
      "Validating:   0%|                                                                                             | 0/1 [00:00<?, ?it/s]\u001b[A\n",
      "Epoch 61: 100%|████████████████████████████| 6/6 [00:53<00:00,  8.95s/it, loss=0.742, v_num=23, val_loss=0.759, val_acc_epoch=0.663]\u001b[A\n",
      "Epoch 62: 100%|████████████████████████████| 6/6 [00:51<00:00,  8.57s/it, loss=0.742, v_num=23, val_loss=0.759, val_acc_epoch=0.663]\u001b[A\n",
      "Validating: 0it [00:00, ?it/s]\u001b[A\n",
      "Validating:   0%|                                                                                             | 0/1 [00:00<?, ?it/s]\u001b[A\n",
      "Validating: 100%|█████████████████████████████████████████████████████████████████████████████████████| 1/1 [00:01<00:00,  1.90s/it]\u001b[A"
     ]
    },
    {
     "name": "stderr",
     "output_type": "stream",
     "text": [
      "Metric val_loss improved by 0.003 >= min_delta = 0.0. New best score: 0.753\n"
     ]
    },
    {
     "name": "stdout",
     "output_type": "stream",
     "text": [
      "Epoch 62: 100%|█████████████████████████████| 6/6 [00:53<00:00,  8.89s/it, loss=0.74, v_num=23, val_loss=0.753, val_acc_epoch=0.661]\n",
      "Epoch 63: 100%|█████████████████████████████| 6/6 [00:51<00:00,  8.59s/it, loss=0.74, v_num=23, val_loss=0.753, val_acc_epoch=0.661]\u001b[A\n",
      "Validating: 0it [00:00, ?it/s]\u001b[A\n",
      "Validating:   0%|                                                                                             | 0/1 [00:00<?, ?it/s]\u001b[A\n",
      "Epoch 63: 100%|████████████████████████████| 6/6 [00:53<00:00,  8.87s/it, loss=0.747, v_num=23, val_loss=0.761, val_acc_epoch=0.653]\u001b[A\n",
      "Epoch 64: 100%|████████████████████████████| 6/6 [00:51<00:00,  8.58s/it, loss=0.747, v_num=23, val_loss=0.761, val_acc_epoch=0.653]\u001b[A\n",
      "Validating: 0it [00:00, ?it/s]\u001b[A\n",
      "Validating:   0%|                                                                                             | 0/1 [00:00<?, ?it/s]\u001b[A\n",
      "Epoch 64: 100%|█████████████████████████████| 6/6 [00:53<00:00,  8.88s/it, loss=0.76, v_num=23, val_loss=0.768, val_acc_epoch=0.641]\u001b[A\n",
      "Epoch 65: 100%|█████████████████████████████| 6/6 [00:51<00:00,  8.61s/it, loss=0.76, v_num=23, val_loss=0.768, val_acc_epoch=0.641]\u001b[A\n",
      "Validating: 0it [00:00, ?it/s]\u001b[A\n",
      "Validating:   0%|                                                                                             | 0/1 [00:00<?, ?it/s]\u001b[A\n",
      "Epoch 65: 100%|████████████████████████████| 6/6 [00:53<00:00,  8.95s/it, loss=0.771, v_num=23, val_loss=0.758, val_acc_epoch=0.663]\u001b[A\n",
      "Epoch 66: 100%|████████████████████████████| 6/6 [00:51<00:00,  8.59s/it, loss=0.771, v_num=23, val_loss=0.758, val_acc_epoch=0.663]\u001b[A\n",
      "Validating: 0it [00:00, ?it/s]\u001b[A\n",
      "Validating:   0%|                                                                                             | 0/1 [00:00<?, ?it/s]\u001b[A\n",
      "Validating: 100%|█████████████████████████████████████████████████████████████████████████████████████| 1/1 [00:02<00:00,  2.11s/it]\u001b[A"
     ]
    },
    {
     "name": "stderr",
     "output_type": "stream",
     "text": [
      "Metric val_loss improved by 0.003 >= min_delta = 0.0. New best score: 0.751\n"
     ]
    },
    {
     "name": "stdout",
     "output_type": "stream",
     "text": [
      "Epoch 66: 100%|████████████████████████████| 6/6 [00:53<00:00,  8.94s/it, loss=0.769, v_num=23, val_loss=0.751, val_acc_epoch=0.660]\n",
      "Epoch 67: 100%|████████████████████████████| 6/6 [01:00<00:00, 10.15s/it, loss=0.769, v_num=23, val_loss=0.751, val_acc_epoch=0.660]\u001b[A\n",
      "Validating: 0it [00:00, ?it/s]\u001b[A\n",
      "Validating:   0%|                                                                                             | 0/1 [00:00<?, ?it/s]\u001b[A\n",
      "Epoch 67: 100%|████████████████████████████| 6/6 [01:03<00:00, 10.52s/it, loss=0.753, v_num=23, val_loss=0.751, val_acc_epoch=0.661]\u001b[A\n",
      "Epoch 68: 100%|████████████████████████████| 6/6 [01:06<00:00, 11.08s/it, loss=0.753, v_num=23, val_loss=0.751, val_acc_epoch=0.661]\u001b[A\n",
      "Validating: 0it [00:00, ?it/s]\u001b[A\n",
      "Validating:   0%|                                                                                             | 0/1 [00:00<?, ?it/s]\u001b[A\n",
      "Validating: 100%|█████████████████████████████████████████████████████████████████████████████████████| 1/1 [00:03<00:00,  3.25s/it]\u001b[A"
     ]
    },
    {
     "name": "stderr",
     "output_type": "stream",
     "text": [
      "Metric val_loss improved by 0.001 >= min_delta = 0.0. New best score: 0.750\n"
     ]
    },
    {
     "name": "stdout",
     "output_type": "stream",
     "text": [
      "Epoch 68: 100%|████████████████████████████| 6/6 [01:09<00:00, 11.62s/it, loss=0.758, v_num=23, val_loss=0.750, val_acc_epoch=0.662]\n",
      "Epoch 69: 100%|████████████████████████████| 6/6 [00:57<00:00,  9.64s/it, loss=0.758, v_num=23, val_loss=0.750, val_acc_epoch=0.662]\u001b[A\n",
      "Validating: 0it [00:00, ?it/s]\u001b[A\n",
      "Validating:   0%|                                                                                             | 0/1 [00:00<?, ?it/s]\u001b[A\n",
      "Epoch 69: 100%|████████████████████████████| 6/6 [00:59<00:00,  9.89s/it, loss=0.755, v_num=23, val_loss=0.754, val_acc_epoch=0.657]\u001b[A\n",
      "Epoch 70: 100%|████████████████████████████| 6/6 [01:00<00:00, 10.02s/it, loss=0.755, v_num=23, val_loss=0.754, val_acc_epoch=0.657]\u001b[A\n",
      "Validating: 0it [00:00, ?it/s]\u001b[A\n",
      "Validating:   0%|                                                                                             | 0/1 [00:00<?, ?it/s]\u001b[A\n",
      "Validating: 100%|█████████████████████████████████████████████████████████████████████████████████████| 1/1 [00:02<00:00,  2.36s/it]\u001b[A"
     ]
    },
    {
     "name": "stderr",
     "output_type": "stream",
     "text": [
      "Metric val_loss improved by 0.002 >= min_delta = 0.0. New best score: 0.748\n"
     ]
    },
    {
     "name": "stdout",
     "output_type": "stream",
     "text": [
      "Epoch 70: 100%|████████████████████████████| 6/6 [01:02<00:00, 10.42s/it, loss=0.745, v_num=23, val_loss=0.748, val_acc_epoch=0.662]\n",
      "Epoch 71: 100%|████████████████████████████| 6/6 [00:54<00:00,  9.06s/it, loss=0.745, v_num=23, val_loss=0.748, val_acc_epoch=0.662]\u001b[A\n",
      "Validating: 0it [00:00, ?it/s]\u001b[A\n",
      "Validating:   0%|                                                                                             | 0/1 [00:00<?, ?it/s]\u001b[A\n",
      "Validating: 100%|█████████████████████████████████████████████████████████████████████████████████████| 1/1 [00:01<00:00,  1.40s/it]\u001b[A"
     ]
    },
    {
     "name": "stderr",
     "output_type": "stream",
     "text": [
      "Metric val_loss improved by 0.001 >= min_delta = 0.0. New best score: 0.747\n"
     ]
    },
    {
     "name": "stdout",
     "output_type": "stream",
     "text": [
      "Epoch 71: 100%|████████████████████████████| 6/6 [00:55<00:00,  9.30s/it, loss=0.747, v_num=23, val_loss=0.747, val_acc_epoch=0.664]\n",
      "Epoch 72: 100%|████████████████████████████| 6/6 [01:04<00:00, 10.79s/it, loss=0.747, v_num=23, val_loss=0.747, val_acc_epoch=0.664]\u001b[A\n",
      "Validating: 0it [00:00, ?it/s]\u001b[A\n",
      "Validating:   0%|                                                                                             | 0/1 [00:00<?, ?it/s]\u001b[A\n",
      "Validating: 100%|█████████████████████████████████████████████████████████████████████████████████████| 1/1 [00:02<00:00,  2.64s/it]\u001b[A"
     ]
    },
    {
     "name": "stderr",
     "output_type": "stream",
     "text": [
      "Metric val_loss improved by 0.000 >= min_delta = 0.0. New best score: 0.747\n"
     ]
    },
    {
     "name": "stdout",
     "output_type": "stream",
     "text": [
      "Epoch 72: 100%|████████████████████████████| 6/6 [01:07<00:00, 11.23s/it, loss=0.738, v_num=23, val_loss=0.747, val_acc_epoch=0.665]\n",
      "Epoch 73: 100%|████████████████████████████| 6/6 [01:13<00:00, 12.26s/it, loss=0.738, v_num=23, val_loss=0.747, val_acc_epoch=0.665]\u001b[A\n",
      "Validating: 0it [00:00, ?it/s]\u001b[A\n",
      "Validating:   0%|                                                                                             | 0/1 [00:00<?, ?it/s]\u001b[A\n",
      "Epoch 73: 100%|████████████████████████████| 6/6 [01:15<00:00, 12.61s/it, loss=0.736, v_num=23, val_loss=0.748, val_acc_epoch=0.664]\u001b[A\n",
      "Epoch 74: 100%|████████████████████████████| 6/6 [00:57<00:00,  9.60s/it, loss=0.736, v_num=23, val_loss=0.748, val_acc_epoch=0.664]\u001b[A\n",
      "Validating: 0it [00:00, ?it/s]\u001b[A\n",
      "Validating:   0%|                                                                                             | 0/1 [00:00<?, ?it/s]\u001b[A\n",
      "Epoch 74: 100%|█████████████████████████████| 6/6 [00:59<00:00,  9.93s/it, loss=0.75, v_num=23, val_loss=0.748, val_acc_epoch=0.665]\u001b[A\n",
      "Epoch 75: 100%|█████████████████████████████| 6/6 [00:53<00:00,  8.94s/it, loss=0.75, v_num=23, val_loss=0.748, val_acc_epoch=0.665]\u001b[A\n",
      "Validating: 0it [00:00, ?it/s]\u001b[A\n",
      "Validating:   0%|                                                                                             | 0/1 [00:00<?, ?it/s]\u001b[A\n",
      "Validating: 100%|█████████████████████████████████████████████████████████████████████████████████████| 1/1 [00:02<00:00,  2.46s/it]\u001b[A"
     ]
    },
    {
     "name": "stderr",
     "output_type": "stream",
     "text": [
      "Metric val_loss improved by 0.001 >= min_delta = 0.0. New best score: 0.745\n"
     ]
    },
    {
     "name": "stdout",
     "output_type": "stream",
     "text": [
      "Epoch 75: 100%|████████████████████████████| 6/6 [00:56<00:00,  9.36s/it, loss=0.746, v_num=23, val_loss=0.745, val_acc_epoch=0.665]\n",
      "Epoch 76: 100%|████████████████████████████| 6/6 [00:53<00:00,  8.87s/it, loss=0.746, v_num=23, val_loss=0.745, val_acc_epoch=0.665]\u001b[A\n",
      "Validating: 0it [00:00, ?it/s]\u001b[A\n",
      "Validating:   0%|                                                                                             | 0/1 [00:00<?, ?it/s]\u001b[A\n",
      "Validating: 100%|█████████████████████████████████████████████████████████████████████████████████████| 1/1 [00:01<00:00,  1.44s/it]\u001b[A"
     ]
    },
    {
     "name": "stderr",
     "output_type": "stream",
     "text": [
      "Metric val_loss improved by 0.001 >= min_delta = 0.0. New best score: 0.745\n"
     ]
    },
    {
     "name": "stdout",
     "output_type": "stream",
     "text": [
      "Epoch 76: 100%|████████████████████████████| 6/6 [00:54<00:00,  9.11s/it, loss=0.746, v_num=23, val_loss=0.745, val_acc_epoch=0.669]\n",
      "Epoch 77: 100%|████████████████████████████| 6/6 [00:53<00:00,  8.91s/it, loss=0.746, v_num=23, val_loss=0.745, val_acc_epoch=0.669]\u001b[A\n",
      "Validating: 0it [00:00, ?it/s]\u001b[A\n",
      "Validating:   0%|                                                                                             | 0/1 [00:00<?, ?it/s]\u001b[A\n",
      "Epoch 77: 100%|████████████████████████████| 6/6 [00:55<00:00,  9.20s/it, loss=0.733, v_num=23, val_loss=0.745, val_acc_epoch=0.665]\u001b[A\n",
      "Epoch 78: 100%|████████████████████████████| 6/6 [00:53<00:00,  8.87s/it, loss=0.733, v_num=23, val_loss=0.745, val_acc_epoch=0.665]\u001b[A\n",
      "Validating: 0it [00:00, ?it/s]\u001b[A\n",
      "Validating:   0%|                                                                                             | 0/1 [00:00<?, ?it/s]\u001b[A\n",
      "Validating: 100%|█████████████████████████████████████████████████████████████████████████████████████| 1/1 [00:01<00:00,  1.85s/it]\u001b[A"
     ]
    },
    {
     "name": "stderr",
     "output_type": "stream",
     "text": [
      "Metric val_loss improved by 0.002 >= min_delta = 0.0. New best score: 0.743\n"
     ]
    },
    {
     "name": "stdout",
     "output_type": "stream",
     "text": [
      "Epoch 78: 100%|█████████████████████████████| 6/6 [00:55<00:00,  9.18s/it, loss=0.73, v_num=23, val_loss=0.743, val_acc_epoch=0.666]\n",
      "Epoch 79: 100%|█████████████████████████████| 6/6 [00:58<00:00,  9.83s/it, loss=0.73, v_num=23, val_loss=0.743, val_acc_epoch=0.666]\u001b[A\n",
      "Validating: 0it [00:00, ?it/s]\u001b[A\n",
      "Validating:   0%|                                                                                             | 0/1 [00:00<?, ?it/s]\u001b[A\n",
      "Validating: 100%|█████████████████████████████████████████████████████████████████████████████████████| 1/1 [00:02<00:00,  2.21s/it]\u001b[A"
     ]
    },
    {
     "name": "stderr",
     "output_type": "stream",
     "text": [
      "Metric val_loss improved by 0.000 >= min_delta = 0.0. New best score: 0.743\n"
     ]
    },
    {
     "name": "stdout",
     "output_type": "stream",
     "text": [
      "Epoch 79: 100%|████████████████████████████| 6/6 [01:01<00:00, 10.20s/it, loss=0.741, v_num=23, val_loss=0.743, val_acc_epoch=0.665]\n",
      "Epoch 80: 100%|████████████████████████████| 6/6 [00:55<00:00,  9.20s/it, loss=0.741, v_num=23, val_loss=0.743, val_acc_epoch=0.665]\u001b[A\n",
      "Validating: 0it [00:00, ?it/s]\u001b[A\n",
      "Validating:   0%|                                                                                             | 0/1 [00:00<?, ?it/s]\u001b[A\n",
      "Epoch 80: 100%|████████████████████████████| 6/6 [00:57<00:00,  9.63s/it, loss=0.735, v_num=23, val_loss=0.745, val_acc_epoch=0.665]\u001b[A\n",
      "Epoch 81: 100%|████████████████████████████| 6/6 [01:00<00:00, 10.02s/it, loss=0.735, v_num=23, val_loss=0.745, val_acc_epoch=0.665]\u001b[A\n",
      "Validating: 0it [00:00, ?it/s]\u001b[A\n",
      "Validating:   0%|                                                                                             | 0/1 [00:00<?, ?it/s]\u001b[A\n",
      "Epoch 81: 100%|████████████████████████████| 6/6 [01:02<00:00, 10.41s/it, loss=0.744, v_num=23, val_loss=0.744, val_acc_epoch=0.669]\u001b[A\n",
      "Epoch 82: 100%|████████████████████████████| 6/6 [00:56<00:00,  9.41s/it, loss=0.744, v_num=23, val_loss=0.744, val_acc_epoch=0.669]\u001b[A\n",
      "Validating: 0it [00:00, ?it/s]\u001b[A\n",
      "Validating:   0%|                                                                                             | 0/1 [00:00<?, ?it/s]\u001b[A\n",
      "Validating: 100%|█████████████████████████████████████████████████████████████████████████████████████| 1/1 [00:01<00:00,  1.78s/it]\u001b[A"
     ]
    },
    {
     "name": "stderr",
     "output_type": "stream",
     "text": [
      "Metric val_loss improved by 0.002 >= min_delta = 0.0. New best score: 0.741\n"
     ]
    },
    {
     "name": "stdout",
     "output_type": "stream",
     "text": [
      "Epoch 82: 100%|████████████████████████████| 6/6 [00:58<00:00,  9.71s/it, loss=0.754, v_num=23, val_loss=0.741, val_acc_epoch=0.668]\n",
      "Epoch 83: 100%|████████████████████████████| 6/6 [00:54<00:00,  9.15s/it, loss=0.754, v_num=23, val_loss=0.741, val_acc_epoch=0.668]\u001b[A\n",
      "Validating: 0it [00:00, ?it/s]\u001b[A\n",
      "Validating:   0%|                                                                                             | 0/1 [00:00<?, ?it/s]\u001b[A\n",
      "Epoch 83: 100%|████████████████████████████| 6/6 [00:56<00:00,  9.48s/it, loss=0.748, v_num=23, val_loss=0.748, val_acc_epoch=0.661]\u001b[A\n",
      "Epoch 84: 100%|████████████████████████████| 6/6 [00:53<00:00,  8.97s/it, loss=0.748, v_num=23, val_loss=0.748, val_acc_epoch=0.661]\u001b[A\n",
      "Validating: 0it [00:00, ?it/s]\u001b[A\n",
      "Validating:   0%|                                                                                             | 0/1 [00:00<?, ?it/s]\u001b[A\n",
      "Epoch 84: 100%|████████████████████████████| 6/6 [00:55<00:00,  9.27s/it, loss=0.762, v_num=23, val_loss=0.744, val_acc_epoch=0.665]\u001b[A\n",
      "Epoch 85: 100%|████████████████████████████| 6/6 [00:53<00:00,  8.96s/it, loss=0.762, v_num=23, val_loss=0.744, val_acc_epoch=0.665]\u001b[A\n",
      "Validating: 0it [00:00, ?it/s]\u001b[A\n",
      "Validating:   0%|                                                                                             | 0/1 [00:00<?, ?it/s]\u001b[A\n",
      "Validating: 100%|█████████████████████████████████████████████████████████████████████████████████████| 1/1 [00:01<00:00,  1.80s/it]\u001b[A"
     ]
    },
    {
     "name": "stderr",
     "output_type": "stream",
     "text": [
      "Metric val_loss improved by 0.001 >= min_delta = 0.0. New best score: 0.740\n"
     ]
    },
    {
     "name": "stdout",
     "output_type": "stream",
     "text": [
      "Epoch 85: 100%|████████████████████████████| 6/6 [00:55<00:00,  9.26s/it, loss=0.756, v_num=23, val_loss=0.740, val_acc_epoch=0.670]\n",
      "Epoch 86: 100%|████████████████████████████| 6/6 [00:53<00:00,  8.90s/it, loss=0.756, v_num=23, val_loss=0.740, val_acc_epoch=0.670]\u001b[A\n",
      "Validating: 0it [00:00, ?it/s]\u001b[A\n",
      "Validating:   0%|                                                                                             | 0/1 [00:00<?, ?it/s]\u001b[A\n",
      "Validating: 100%|█████████████████████████████████████████████████████████████████████████████████████| 1/1 [00:01<00:00,  1.97s/it]\u001b[A"
     ]
    },
    {
     "name": "stderr",
     "output_type": "stream",
     "text": [
      "Metric val_loss improved by 0.002 >= min_delta = 0.0. New best score: 0.738\n"
     ]
    },
    {
     "name": "stdout",
     "output_type": "stream",
     "text": [
      "Epoch 86: 100%|████████████████████████████| 6/6 [00:55<00:00,  9.23s/it, loss=0.746, v_num=23, val_loss=0.738, val_acc_epoch=0.669]\n",
      "Epoch 87: 100%|████████████████████████████| 6/6 [00:56<00:00,  9.34s/it, loss=0.746, v_num=23, val_loss=0.738, val_acc_epoch=0.669]\u001b[A\n",
      "Validating: 0it [00:00, ?it/s]\u001b[A\n",
      "Validating:   0%|                                                                                             | 0/1 [00:00<?, ?it/s]\u001b[A\n",
      "Validating: 100%|█████████████████████████████████████████████████████████████████████████████████████| 1/1 [00:01<00:00,  1.78s/it]\u001b[A"
     ]
    },
    {
     "name": "stderr",
     "output_type": "stream",
     "text": [
      "Metric val_loss improved by 0.001 >= min_delta = 0.0. New best score: 0.738\n"
     ]
    },
    {
     "name": "stdout",
     "output_type": "stream",
     "text": [
      "Epoch 87: 100%|████████████████████████████| 6/6 [00:57<00:00,  9.64s/it, loss=0.744, v_num=23, val_loss=0.738, val_acc_epoch=0.669]\n",
      "Epoch 88: 100%|████████████████████████████| 6/6 [00:59<00:00,  9.84s/it, loss=0.744, v_num=23, val_loss=0.738, val_acc_epoch=0.669]\u001b[A\n",
      "Validating: 0it [00:00, ?it/s]\u001b[A\n",
      "Validating:   0%|                                                                                             | 0/1 [00:00<?, ?it/s]\u001b[A\n",
      "Epoch 88: 100%|████████████████████████████| 6/6 [01:00<00:00, 10.15s/it, loss=0.742, v_num=23, val_loss=0.738, val_acc_epoch=0.669]\u001b[A\n",
      "Epoch 89: 100%|████████████████████████████| 6/6 [00:54<00:00,  9.06s/it, loss=0.742, v_num=23, val_loss=0.738, val_acc_epoch=0.669]\u001b[A\n",
      "Validating: 0it [00:00, ?it/s]\u001b[A\n",
      "Validating:   0%|                                                                                             | 0/1 [00:00<?, ?it/s]\u001b[A\n",
      "Epoch 89: 100%|████████████████████████████| 6/6 [00:56<00:00,  9.37s/it, loss=0.746, v_num=23, val_loss=0.742, val_acc_epoch=0.664]\u001b[A\n",
      "Epoch 90: 100%|████████████████████████████| 6/6 [00:53<00:00,  8.95s/it, loss=0.746, v_num=23, val_loss=0.742, val_acc_epoch=0.664]\u001b[A\n",
      "Validating: 0it [00:00, ?it/s]\u001b[A\n",
      "Validating:   0%|                                                                                             | 0/1 [00:00<?, ?it/s]\u001b[A\n",
      "Epoch 90: 100%|█████████████████████████████| 6/6 [00:55<00:00,  9.31s/it, loss=0.74, v_num=23, val_loss=0.738, val_acc_epoch=0.669]\u001b[A\n",
      "Epoch 91: 100%|█████████████████████████████| 6/6 [00:54<00:00,  9.12s/it, loss=0.74, v_num=23, val_loss=0.738, val_acc_epoch=0.669]\u001b[A\n",
      "Validating: 0it [00:00, ?it/s]\u001b[A\n",
      "Validating:   0%|                                                                                             | 0/1 [00:00<?, ?it/s]\u001b[A\n",
      "Epoch 91: 100%|████████████████████████████| 6/6 [00:56<00:00,  9.41s/it, loss=0.732, v_num=23, val_loss=0.739, val_acc_epoch=0.671]\u001b[A\n",
      "Epoch 92: 100%|████████████████████████████| 6/6 [00:52<00:00,  8.80s/it, loss=0.732, v_num=23, val_loss=0.739, val_acc_epoch=0.671]\u001b[A\n",
      "Validating: 0it [00:00, ?it/s]\u001b[A\n",
      "Validating:   0%|                                                                                             | 0/1 [00:00<?, ?it/s]\u001b[A\n",
      "Validating: 100%|█████████████████████████████████████████████████████████████████████████████████████| 1/1 [00:02<00:00,  2.11s/it]\u001b[A"
     ]
    },
    {
     "name": "stderr",
     "output_type": "stream",
     "text": [
      "Metric val_loss improved by 0.003 >= min_delta = 0.0. New best score: 0.735\n"
     ]
    },
    {
     "name": "stdout",
     "output_type": "stream",
     "text": [
      "Epoch 92: 100%|████████████████████████████| 6/6 [00:54<00:00,  9.16s/it, loss=0.724, v_num=23, val_loss=0.735, val_acc_epoch=0.670]\n",
      "Epoch 93: 100%|████████████████████████████| 6/6 [00:59<00:00,  9.94s/it, loss=0.724, v_num=23, val_loss=0.735, val_acc_epoch=0.670]\u001b[A\n",
      "Validating: 0it [00:00, ?it/s]\u001b[A\n",
      "Validating:   0%|                                                                                             | 0/1 [00:00<?, ?it/s]\u001b[A\n",
      "Epoch 93: 100%|████████████████████████████| 6/6 [01:01<00:00, 10.27s/it, loss=0.724, v_num=23, val_loss=0.736, val_acc_epoch=0.669]\u001b[A\n",
      "Epoch 94: 100%|████████████████████████████| 6/6 [00:57<00:00,  9.54s/it, loss=0.724, v_num=23, val_loss=0.736, val_acc_epoch=0.669]\u001b[A\n",
      "Validating: 0it [00:00, ?it/s]\u001b[A\n",
      "Validating:   0%|                                                                                             | 0/1 [00:00<?, ?it/s]\u001b[A\n",
      "Validating: 100%|█████████████████████████████████████████████████████████████████████████████████████| 1/1 [00:01<00:00,  1.81s/it]\u001b[A"
     ]
    },
    {
     "name": "stderr",
     "output_type": "stream",
     "text": [
      "Metric val_loss improved by 0.001 >= min_delta = 0.0. New best score: 0.733\n"
     ]
    },
    {
     "name": "stdout",
     "output_type": "stream",
     "text": [
      "Epoch 94: 100%|████████████████████████████| 6/6 [00:59<00:00,  9.84s/it, loss=0.728, v_num=23, val_loss=0.733, val_acc_epoch=0.672]\n",
      "Epoch 95: 100%|████████████████████████████| 6/6 [00:58<00:00,  9.71s/it, loss=0.728, v_num=23, val_loss=0.733, val_acc_epoch=0.672]\u001b[A\n",
      "Validating: 0it [00:00, ?it/s]\u001b[A\n",
      "Validating:   0%|                                                                                             | 0/1 [00:00<?, ?it/s]\u001b[A\n",
      "Validating: 100%|█████████████████████████████████████████████████████████████████████████████████████| 1/1 [00:02<00:00,  2.29s/it]\u001b[A"
     ]
    },
    {
     "name": "stderr",
     "output_type": "stream",
     "text": [
      "Metric val_loss improved by 0.001 >= min_delta = 0.0. New best score: 0.732\n"
     ]
    },
    {
     "name": "stdout",
     "output_type": "stream",
     "text": [
      "Epoch 95: 100%|█████████████████████████████| 6/6 [01:00<00:00, 10.10s/it, loss=0.73, v_num=23, val_loss=0.732, val_acc_epoch=0.672]\n",
      "Epoch 96: 100%|█████████████████████████████| 6/6 [00:56<00:00,  9.44s/it, loss=0.73, v_num=23, val_loss=0.732, val_acc_epoch=0.672]\u001b[A\n",
      "Validating: 0it [00:00, ?it/s]\u001b[A\n",
      "Validating:   0%|                                                                                             | 0/1 [00:00<?, ?it/s]\u001b[A\n",
      "Validating: 100%|█████████████████████████████████████████████████████████████████████████████████████| 1/1 [00:02<00:00,  2.50s/it]\u001b[A"
     ]
    },
    {
     "name": "stderr",
     "output_type": "stream",
     "text": [
      "Metric val_loss improved by 0.001 >= min_delta = 0.0. New best score: 0.731\n"
     ]
    },
    {
     "name": "stdout",
     "output_type": "stream",
     "text": [
      "Epoch 96: 100%|████████████████████████████| 6/6 [00:59<00:00,  9.85s/it, loss=0.733, v_num=23, val_loss=0.731, val_acc_epoch=0.673]\n",
      "Epoch 97: 100%|████████████████████████████| 6/6 [01:05<00:00, 10.84s/it, loss=0.733, v_num=23, val_loss=0.731, val_acc_epoch=0.673]\u001b[A\n",
      "Validating: 0it [00:00, ?it/s]\u001b[A\n",
      "Validating:   0%|                                                                                             | 0/1 [00:00<?, ?it/s]\u001b[A\n",
      "Epoch 97: 100%|████████████████████████████| 6/6 [01:06<00:00, 11.08s/it, loss=0.726, v_num=23, val_loss=0.732, val_acc_epoch=0.672]\u001b[A\n",
      "Epoch 98: 100%|████████████████████████████| 6/6 [00:55<00:00,  9.26s/it, loss=0.726, v_num=23, val_loss=0.732, val_acc_epoch=0.672]\u001b[A\n",
      "Validating: 0it [00:00, ?it/s]\u001b[A\n",
      "Validating:   0%|                                                                                             | 0/1 [00:00<?, ?it/s]\u001b[A\n",
      "Epoch 98: 100%|████████████████████████████| 6/6 [00:57<00:00,  9.54s/it, loss=0.732, v_num=23, val_loss=0.734, val_acc_epoch=0.673]\u001b[A\n",
      "Epoch 99: 100%|████████████████████████████| 6/6 [00:56<00:00,  9.46s/it, loss=0.732, v_num=23, val_loss=0.734, val_acc_epoch=0.673]\u001b[A\n",
      "Validating: 0it [00:00, ?it/s]\u001b[A\n",
      "Validating:   0%|                                                                                             | 0/1 [00:00<?, ?it/s]\u001b[A\n",
      "Epoch 99: 100%|████████████████████████████| 6/6 [00:58<00:00,  9.78s/it, loss=0.737, v_num=23, val_loss=0.742, val_acc_epoch=0.660]\u001b[A\n",
      "Epoch 100: 100%|███████████████████████████| 6/6 [00:53<00:00,  8.83s/it, loss=0.737, v_num=23, val_loss=0.742, val_acc_epoch=0.660]\u001b[A\n",
      "Validating: 0it [00:00, ?it/s]\u001b[A\n",
      "Validating:   0%|                                                                                             | 0/1 [00:00<?, ?it/s]\u001b[A\n",
      "Epoch 100: 100%|███████████████████████████| 6/6 [00:54<00:00,  9.16s/it, loss=0.733, v_num=23, val_loss=0.731, val_acc_epoch=0.675]\u001b[A\n",
      "Epoch 101: 100%|███████████████████████████| 6/6 [00:53<00:00,  8.86s/it, loss=0.733, v_num=23, val_loss=0.731, val_acc_epoch=0.675]\u001b[A\n",
      "Validating: 0it [00:00, ?it/s]\u001b[A\n",
      "Validating:   0%|                                                                                             | 0/1 [00:00<?, ?it/s]\u001b[A\n",
      "Epoch 101: 100%|███████████████████████████| 6/6 [00:54<00:00,  9.14s/it, loss=0.738, v_num=23, val_loss=0.731, val_acc_epoch=0.673]\u001b[A\n",
      "Epoch 102: 100%|███████████████████████████| 6/6 [00:53<00:00,  8.84s/it, loss=0.738, v_num=23, val_loss=0.731, val_acc_epoch=0.673]\u001b[A\n",
      "Validating: 0it [00:00, ?it/s]\u001b[A\n",
      "Validating:   0%|                                                                                             | 0/1 [00:00<?, ?it/s]\u001b[A\n",
      "Epoch 102: 100%|███████████████████████████| 6/6 [00:54<00:00,  9.15s/it, loss=0.727, v_num=23, val_loss=0.733, val_acc_epoch=0.669]\u001b[A\n",
      "Epoch 103: 100%|███████████████████████████| 6/6 [00:52<00:00,  8.83s/it, loss=0.727, v_num=23, val_loss=0.733, val_acc_epoch=0.669]\u001b[A\n",
      "Validating: 0it [00:00, ?it/s]\u001b[A\n",
      "Validating:   0%|                                                                                             | 0/1 [00:00<?, ?it/s]\u001b[A\n",
      "Validating: 100%|█████████████████████████████████████████████████████████████████████████████████████| 1/1 [00:01<00:00,  1.43s/it]\u001b[A"
     ]
    },
    {
     "name": "stderr",
     "output_type": "stream",
     "text": [
      "Metric val_loss improved by 0.002 >= min_delta = 0.0. New best score: 0.728\n"
     ]
    },
    {
     "name": "stdout",
     "output_type": "stream",
     "text": [
      "Epoch 103: 100%|███████████████████████████| 6/6 [00:54<00:00,  9.07s/it, loss=0.726, v_num=23, val_loss=0.728, val_acc_epoch=0.675]\n",
      "Epoch 104: 100%|███████████████████████████| 6/6 [00:55<00:00,  9.23s/it, loss=0.726, v_num=23, val_loss=0.728, val_acc_epoch=0.675]\u001b[A\n",
      "Validating: 0it [00:00, ?it/s]\u001b[A\n",
      "Validating:   0%|                                                                                             | 0/1 [00:00<?, ?it/s]\u001b[A\n",
      "Validating: 100%|█████████████████████████████████████████████████████████████████████████████████████| 1/1 [00:02<00:00,  2.27s/it]\u001b[A"
     ]
    },
    {
     "name": "stderr",
     "output_type": "stream",
     "text": [
      "Metric val_loss improved by 0.005 >= min_delta = 0.0. New best score: 0.723\n"
     ]
    },
    {
     "name": "stdout",
     "output_type": "stream",
     "text": [
      "Epoch 104: 100%|███████████████████████████| 6/6 [00:57<00:00,  9.61s/it, loss=0.726, v_num=23, val_loss=0.723, val_acc_epoch=0.675]\n",
      "Epoch 105: 100%|███████████████████████████| 6/6 [00:58<00:00,  9.75s/it, loss=0.726, v_num=23, val_loss=0.723, val_acc_epoch=0.675]\u001b[A\n",
      "Validating: 0it [00:00, ?it/s]\u001b[A\n",
      "Validating:   0%|                                                                                             | 0/1 [00:00<?, ?it/s]\u001b[A\n",
      "Epoch 105: 100%|███████████████████████████| 6/6 [01:00<00:00, 10.12s/it, loss=0.735, v_num=23, val_loss=0.724, val_acc_epoch=0.672]\u001b[A\n",
      "Epoch 106: 100%|███████████████████████████| 6/6 [01:00<00:00, 10.00s/it, loss=0.735, v_num=23, val_loss=0.724, val_acc_epoch=0.672]\u001b[A\n",
      "Validating: 0it [00:00, ?it/s]\u001b[A\n",
      "Validating:   0%|                                                                                             | 0/1 [00:00<?, ?it/s]\u001b[A\n",
      "Epoch 106: 100%|███████████████████████████| 6/6 [01:02<00:00, 10.37s/it, loss=0.722, v_num=23, val_loss=0.723, val_acc_epoch=0.674]\u001b[A\n",
      "Epoch 107: 100%|███████████████████████████| 6/6 [00:55<00:00,  9.23s/it, loss=0.722, v_num=23, val_loss=0.723, val_acc_epoch=0.674]\u001b[A\n",
      "Validating: 0it [00:00, ?it/s]\u001b[A\n",
      "Validating:   0%|                                                                                             | 0/1 [00:00<?, ?it/s]\u001b[A\n",
      "Validating: 100%|█████████████████████████████████████████████████████████████████████████████████████| 1/1 [00:02<00:00,  2.04s/it]\u001b[A"
     ]
    },
    {
     "name": "stderr",
     "output_type": "stream",
     "text": [
      "Metric val_loss improved by 0.001 >= min_delta = 0.0. New best score: 0.722\n"
     ]
    },
    {
     "name": "stdout",
     "output_type": "stream",
     "text": [
      "Epoch 107: 100%|███████████████████████████| 6/6 [00:57<00:00,  9.58s/it, loss=0.716, v_num=23, val_loss=0.722, val_acc_epoch=0.673]\n",
      "Epoch 108: 100%|███████████████████████████| 6/6 [00:55<00:00,  9.27s/it, loss=0.716, v_num=23, val_loss=0.722, val_acc_epoch=0.673]\u001b[A\n",
      "Validating: 0it [00:00, ?it/s]\u001b[A\n",
      "Validating:   0%|                                                                                             | 0/1 [00:00<?, ?it/s]\u001b[A\n",
      "Epoch 108: 100%|███████████████████████████| 6/6 [00:57<00:00,  9.55s/it, loss=0.715, v_num=23, val_loss=0.738, val_acc_epoch=0.658]\u001b[A\n",
      "Epoch 109: 100%|███████████████████████████| 6/6 [00:55<00:00,  9.27s/it, loss=0.715, v_num=23, val_loss=0.738, val_acc_epoch=0.658]\u001b[A\n",
      "Validating: 0it [00:00, ?it/s]\u001b[A\n",
      "Validating:   0%|                                                                                             | 0/1 [00:00<?, ?it/s]\u001b[A\n",
      "Epoch 109: 100%|███████████████████████████| 6/6 [00:57<00:00,  9.65s/it, loss=0.707, v_num=23, val_loss=0.736, val_acc_epoch=0.673]\u001b[A\n",
      "Epoch 110: 100%|███████████████████████████| 6/6 [00:55<00:00,  9.21s/it, loss=0.707, v_num=23, val_loss=0.736, val_acc_epoch=0.673]\u001b[A\n",
      "Validating: 0it [00:00, ?it/s]\u001b[A\n",
      "Validating:   0%|                                                                                             | 0/1 [00:00<?, ?it/s]\u001b[A\n",
      "Validating: 100%|█████████████████████████████████████████████████████████████████████████████████████| 1/1 [00:01<00:00,  1.71s/it]\u001b[A"
     ]
    },
    {
     "name": "stderr",
     "output_type": "stream",
     "text": [
      "Metric val_loss improved by 0.001 >= min_delta = 0.0. New best score: 0.721\n"
     ]
    },
    {
     "name": "stdout",
     "output_type": "stream",
     "text": [
      "Epoch 110: 100%|███████████████████████████| 6/6 [00:56<00:00,  9.50s/it, loss=0.721, v_num=23, val_loss=0.721, val_acc_epoch=0.678]\n",
      "Epoch 111: 100%|███████████████████████████| 6/6 [00:55<00:00,  9.24s/it, loss=0.721, v_num=23, val_loss=0.721, val_acc_epoch=0.678]\u001b[A\n",
      "Validating: 0it [00:00, ?it/s]\u001b[A\n",
      "Validating:   0%|                                                                                             | 0/1 [00:00<?, ?it/s]\u001b[A\n",
      "Epoch 111: 100%|███████████████████████████| 6/6 [00:58<00:00,  9.70s/it, loss=0.726, v_num=23, val_loss=0.738, val_acc_epoch=0.664]\u001b[A\n",
      "Epoch 112: 100%|███████████████████████████| 6/6 [00:55<00:00,  9.27s/it, loss=0.726, v_num=23, val_loss=0.738, val_acc_epoch=0.664]\u001b[A\n",
      "Validating: 0it [00:00, ?it/s]\u001b[A\n",
      "Validating:   0%|                                                                                             | 0/1 [00:00<?, ?it/s]\u001b[A\n",
      "Epoch 112: 100%|███████████████████████████| 6/6 [00:57<00:00,  9.62s/it, loss=0.725, v_num=23, val_loss=0.722, val_acc_epoch=0.679]\u001b[A\n",
      "Epoch 113: 100%|███████████████████████████| 6/6 [00:55<00:00,  9.30s/it, loss=0.725, v_num=23, val_loss=0.722, val_acc_epoch=0.679]\u001b[A\n",
      "Validating: 0it [00:00, ?it/s]\u001b[A\n",
      "Validating:   0%|                                                                                             | 0/1 [00:00<?, ?it/s]\u001b[A\n",
      "Epoch 113: 100%|███████████████████████████| 6/6 [00:57<00:00,  9.59s/it, loss=0.722, v_num=23, val_loss=0.722, val_acc_epoch=0.677]\u001b[A\n",
      "Epoch 114: 100%|███████████████████████████| 6/6 [00:55<00:00,  9.30s/it, loss=0.722, v_num=23, val_loss=0.722, val_acc_epoch=0.677]\u001b[A\n",
      "Validating: 0it [00:00, ?it/s]\u001b[A\n",
      "Validating:   0%|                                                                                             | 0/1 [00:00<?, ?it/s]\u001b[A\n",
      "Validating: 100%|█████████████████████████████████████████████████████████████████████████████████████| 1/1 [00:02<00:00,  2.53s/it]\u001b[A"
     ]
    },
    {
     "name": "stderr",
     "output_type": "stream",
     "text": [
      "Metric val_loss improved by 0.004 >= min_delta = 0.0. New best score: 0.718\n"
     ]
    },
    {
     "name": "stdout",
     "output_type": "stream",
     "text": [
      "Epoch 114: 100%|███████████████████████████| 6/6 [00:58<00:00,  9.72s/it, loss=0.711, v_num=23, val_loss=0.718, val_acc_epoch=0.680]\n",
      "Epoch 115: 100%|███████████████████████████| 6/6 [00:56<00:00,  9.36s/it, loss=0.711, v_num=23, val_loss=0.718, val_acc_epoch=0.680]\u001b[A\n",
      "Validating: 0it [00:00, ?it/s]\u001b[A\n",
      "Validating:   0%|                                                                                             | 0/1 [00:00<?, ?it/s]\u001b[A\n",
      "Validating: 100%|█████████████████████████████████████████████████████████████████████████████████████| 1/1 [00:01<00:00,  1.73s/it]\u001b[A"
     ]
    },
    {
     "name": "stderr",
     "output_type": "stream",
     "text": [
      "Metric val_loss improved by 0.002 >= min_delta = 0.0. New best score: 0.715\n"
     ]
    },
    {
     "name": "stdout",
     "output_type": "stream",
     "text": [
      "Epoch 115: 100%|███████████████████████████| 6/6 [00:57<00:00,  9.64s/it, loss=0.706, v_num=23, val_loss=0.715, val_acc_epoch=0.678]\n",
      "Epoch 116: 100%|███████████████████████████| 6/6 [00:56<00:00,  9.44s/it, loss=0.706, v_num=23, val_loss=0.715, val_acc_epoch=0.678]\u001b[A\n",
      "Validating: 0it [00:00, ?it/s]\u001b[A\n",
      "Validating:   0%|                                                                                             | 0/1 [00:00<?, ?it/s]\u001b[A\n",
      "Validating: 100%|█████████████████████████████████████████████████████████████████████████████████████| 1/1 [00:02<00:00,  2.05s/it]\u001b[A"
     ]
    },
    {
     "name": "stderr",
     "output_type": "stream",
     "text": [
      "Metric val_loss improved by 0.001 >= min_delta = 0.0. New best score: 0.715\n"
     ]
    },
    {
     "name": "stdout",
     "output_type": "stream",
     "text": [
      "Epoch 116: 100%|███████████████████████████| 6/6 [00:58<00:00,  9.78s/it, loss=0.708, v_num=23, val_loss=0.715, val_acc_epoch=0.679]\n",
      "Epoch 117: 100%|███████████████████████████| 6/6 [00:56<00:00,  9.37s/it, loss=0.708, v_num=23, val_loss=0.715, val_acc_epoch=0.679]\u001b[A\n",
      "Validating: 0it [00:00, ?it/s]\u001b[A\n",
      "Validating:   0%|                                                                                             | 0/1 [00:00<?, ?it/s]\u001b[A\n",
      "Epoch 117: 100%|███████████████████████████| 6/6 [00:58<00:00,  9.78s/it, loss=0.713, v_num=23, val_loss=0.721, val_acc_epoch=0.672]\u001b[A\n",
      "Epoch 118: 100%|███████████████████████████| 6/6 [00:56<00:00,  9.34s/it, loss=0.713, v_num=23, val_loss=0.721, val_acc_epoch=0.672]\u001b[A\n",
      "Validating: 0it [00:00, ?it/s]\u001b[A\n",
      "Validating:   0%|                                                                                             | 0/1 [00:00<?, ?it/s]\u001b[A\n",
      "Epoch 118: 100%|███████████████████████████| 6/6 [00:57<00:00,  9.66s/it, loss=0.722, v_num=23, val_loss=0.717, val_acc_epoch=0.678]\u001b[A\n",
      "Epoch 119: 100%|███████████████████████████| 6/6 [00:55<00:00,  9.32s/it, loss=0.722, v_num=23, val_loss=0.717, val_acc_epoch=0.678]\u001b[A\n",
      "Validating: 0it [00:00, ?it/s]\u001b[A\n",
      "Validating:   0%|                                                                                             | 0/1 [00:00<?, ?it/s]\u001b[A\n",
      "Validating: 100%|█████████████████████████████████████████████████████████████████████████████████████| 1/1 [00:02<00:00,  2.19s/it]\u001b[A"
     ]
    },
    {
     "name": "stderr",
     "output_type": "stream",
     "text": [
      "Metric val_loss improved by 0.001 >= min_delta = 0.0. New best score: 0.714\n"
     ]
    },
    {
     "name": "stdout",
     "output_type": "stream",
     "text": [
      "Epoch 119: 100%|███████████████████████████| 6/6 [00:58<00:00,  9.68s/it, loss=0.725, v_num=23, val_loss=0.714, val_acc_epoch=0.681]\n",
      "Epoch 120: 100%|███████████████████████████| 6/6 [00:56<00:00,  9.36s/it, loss=0.725, v_num=23, val_loss=0.714, val_acc_epoch=0.681]\u001b[A\n",
      "Validating: 0it [00:00, ?it/s]\u001b[A\n",
      "Validating:   0%|                                                                                             | 0/1 [00:00<?, ?it/s]\u001b[A\n",
      "Validating: 100%|█████████████████████████████████████████████████████████████████████████████████████| 1/1 [00:02<00:00,  2.35s/it]\u001b[A"
     ]
    },
    {
     "name": "stderr",
     "output_type": "stream",
     "text": [
      "Metric val_loss improved by 0.001 >= min_delta = 0.0. New best score: 0.713\n"
     ]
    },
    {
     "name": "stdout",
     "output_type": "stream",
     "text": [
      "Epoch 120: 100%|███████████████████████████| 6/6 [00:58<00:00,  9.75s/it, loss=0.721, v_num=23, val_loss=0.713, val_acc_epoch=0.680]\n",
      "Epoch 121: 100%|███████████████████████████| 6/6 [00:56<00:00,  9.36s/it, loss=0.721, v_num=23, val_loss=0.713, val_acc_epoch=0.680]\u001b[A\n",
      "Validating: 0it [00:00, ?it/s]\u001b[A\n",
      "Validating:   0%|                                                                                             | 0/1 [00:00<?, ?it/s]\u001b[A\n",
      "Validating: 100%|█████████████████████████████████████████████████████████████████████████████████████| 1/1 [00:02<00:00,  2.39s/it]\u001b[A"
     ]
    },
    {
     "name": "stderr",
     "output_type": "stream",
     "text": [
      "Metric val_loss improved by 0.000 >= min_delta = 0.0. New best score: 0.712\n"
     ]
    },
    {
     "name": "stdout",
     "output_type": "stream",
     "text": [
      "Epoch 121: 100%|███████████████████████████| 6/6 [00:58<00:00,  9.76s/it, loss=0.715, v_num=23, val_loss=0.712, val_acc_epoch=0.681]\n",
      "Epoch 122: 100%|███████████████████████████| 6/6 [00:58<00:00,  9.82s/it, loss=0.715, v_num=23, val_loss=0.712, val_acc_epoch=0.681]\u001b[A\n",
      "Validating: 0it [00:00, ?it/s]\u001b[A\n",
      "Validating:   0%|                                                                                             | 0/1 [00:00<?, ?it/s]\u001b[A\n",
      "Epoch 122: 100%|███████████████████████████| 6/6 [01:00<00:00, 10.15s/it, loss=0.713, v_num=23, val_loss=0.713, val_acc_epoch=0.681]\u001b[A\n",
      "Epoch 123: 100%|███████████████████████████| 6/6 [00:58<00:00,  9.80s/it, loss=0.713, v_num=23, val_loss=0.713, val_acc_epoch=0.681]\u001b[A\n",
      "Validating: 0it [00:00, ?it/s]\u001b[A\n",
      "Validating:   0%|                                                                                             | 0/1 [00:00<?, ?it/s]\u001b[A\n",
      "Validating: 100%|█████████████████████████████████████████████████████████████████████████████████████| 1/1 [00:02<00:00,  2.11s/it]\u001b[A"
     ]
    },
    {
     "name": "stderr",
     "output_type": "stream",
     "text": [
      "Metric val_loss improved by 0.002 >= min_delta = 0.0. New best score: 0.710\n"
     ]
    },
    {
     "name": "stdout",
     "output_type": "stream",
     "text": [
      "Epoch 123: 100%|███████████████████████████| 6/6 [01:00<00:00, 10.15s/it, loss=0.715, v_num=23, val_loss=0.710, val_acc_epoch=0.680]\n",
      "Epoch 124: 100%|███████████████████████████| 6/6 [00:59<00:00,  9.85s/it, loss=0.715, v_num=23, val_loss=0.710, val_acc_epoch=0.680]\u001b[A\n",
      "Validating: 0it [00:00, ?it/s]\u001b[A\n",
      "Validating:   0%|                                                                                             | 0/1 [00:00<?, ?it/s]\u001b[A\n",
      "Epoch 124: 100%|███████████████████████████| 6/6 [01:01<00:00, 10.18s/it, loss=0.714, v_num=23, val_loss=0.711, val_acc_epoch=0.678]\u001b[A\n",
      "Epoch 125: 100%|███████████████████████████| 6/6 [00:55<00:00,  9.24s/it, loss=0.714, v_num=23, val_loss=0.711, val_acc_epoch=0.678]\u001b[A\n",
      "Validating: 0it [00:00, ?it/s]\u001b[A\n",
      "Validating:   0%|                                                                                             | 0/1 [00:00<?, ?it/s]\u001b[A\n",
      "Epoch 125: 100%|███████████████████████████| 6/6 [00:57<00:00,  9.59s/it, loss=0.713, v_num=23, val_loss=0.711, val_acc_epoch=0.682]\u001b[A\n",
      "Epoch 126: 100%|███████████████████████████| 6/6 [00:55<00:00,  9.29s/it, loss=0.713, v_num=23, val_loss=0.711, val_acc_epoch=0.682]\u001b[A\n",
      "Validating: 0it [00:00, ?it/s]\u001b[A\n",
      "Validating:   0%|                                                                                             | 0/1 [00:00<?, ?it/s]\u001b[A\n",
      "Epoch 126: 100%|███████████████████████████| 6/6 [00:57<00:00,  9.62s/it, loss=0.699, v_num=23, val_loss=0.712, val_acc_epoch=0.681]\u001b[A\n",
      "Epoch 127: 100%|███████████████████████████| 6/6 [00:55<00:00,  9.29s/it, loss=0.699, v_num=23, val_loss=0.712, val_acc_epoch=0.681]\u001b[A\n",
      "Validating: 0it [00:00, ?it/s]\u001b[A\n",
      "Validating:   0%|                                                                                             | 0/1 [00:00<?, ?it/s]\u001b[A\n",
      "Validating: 100%|█████████████████████████████████████████████████████████████████████████████████████| 1/1 [00:01<00:00,  1.84s/it]\u001b[A"
     ]
    },
    {
     "name": "stderr",
     "output_type": "stream",
     "text": [
      "Metric val_loss improved by 0.003 >= min_delta = 0.0. New best score: 0.707\n"
     ]
    },
    {
     "name": "stdout",
     "output_type": "stream",
     "text": [
      "Epoch 127: 100%|███████████████████████████| 6/6 [00:57<00:00,  9.60s/it, loss=0.699, v_num=23, val_loss=0.707, val_acc_epoch=0.682]\n",
      "Epoch 128: 100%|███████████████████████████| 6/6 [00:55<00:00,  9.32s/it, loss=0.699, v_num=23, val_loss=0.707, val_acc_epoch=0.682]\u001b[A\n",
      "Validating: 0it [00:00, ?it/s]\u001b[A\n",
      "Validating:   0%|                                                                                             | 0/1 [00:00<?, ?it/s]\u001b[A\n",
      "Epoch 128: 100%|███████████████████████████| 6/6 [00:58<00:00,  9.70s/it, loss=0.702, v_num=23, val_loss=0.708, val_acc_epoch=0.683]\u001b[A\n",
      "Epoch 129: 100%|███████████████████████████| 6/6 [00:58<00:00,  9.78s/it, loss=0.702, v_num=23, val_loss=0.708, val_acc_epoch=0.683]\u001b[A\n",
      "Validating: 0it [00:00, ?it/s]\u001b[A\n",
      "Validating:   0%|                                                                                             | 0/1 [00:00<?, ?it/s]\u001b[A\n",
      "Epoch 129: 100%|███████████████████████████| 6/6 [01:00<00:00, 10.11s/it, loss=0.695, v_num=23, val_loss=0.709, val_acc_epoch=0.682]\u001b[A\n",
      "Epoch 130: 100%|███████████████████████████| 6/6 [00:56<00:00,  9.44s/it, loss=0.695, v_num=23, val_loss=0.709, val_acc_epoch=0.682]\u001b[A\n",
      "Validating: 0it [00:00, ?it/s]\u001b[A\n",
      "Validating:   0%|                                                                                             | 0/1 [00:00<?, ?it/s]\u001b[A\n",
      "Epoch 130: 100%|███████████████████████████| 6/6 [00:58<00:00,  9.78s/it, loss=0.707, v_num=23, val_loss=0.715, val_acc_epoch=0.678]\u001b[A\n",
      "Epoch 131: 100%|███████████████████████████| 6/6 [00:55<00:00,  9.30s/it, loss=0.707, v_num=23, val_loss=0.715, val_acc_epoch=0.678]\u001b[A\n",
      "Validating: 0it [00:00, ?it/s]\u001b[A\n",
      "Validating:   0%|                                                                                             | 0/1 [00:00<?, ?it/s]\u001b[A\n",
      "Epoch 131: 100%|███████████████████████████| 6/6 [00:58<00:00,  9.74s/it, loss=0.701, v_num=23, val_loss=0.711, val_acc_epoch=0.684]\u001b[A\n",
      "Epoch 132: 100%|███████████████████████████| 6/6 [00:55<00:00,  9.33s/it, loss=0.701, v_num=23, val_loss=0.711, val_acc_epoch=0.684]\u001b[A\n",
      "Validating: 0it [00:00, ?it/s]\u001b[A\n",
      "Validating:   0%|                                                                                             | 0/1 [00:00<?, ?it/s]\u001b[A\n",
      "Epoch 132: 100%|███████████████████████████| 6/6 [00:58<00:00,  9.68s/it, loss=0.692, v_num=23, val_loss=0.709, val_acc_epoch=0.680]\u001b[A\n",
      "Epoch 133: 100%|███████████████████████████| 6/6 [00:56<00:00,  9.34s/it, loss=0.692, v_num=23, val_loss=0.709, val_acc_epoch=0.680]\u001b[A\n",
      "Validating: 0it [00:00, ?it/s]\u001b[A\n",
      "Validating:   0%|                                                                                             | 0/1 [00:00<?, ?it/s]\u001b[A\n",
      "Validating: 100%|█████████████████████████████████████████████████████████████████████████████████████| 1/1 [00:01<00:00,  1.75s/it]\u001b[A"
     ]
    },
    {
     "name": "stderr",
     "output_type": "stream",
     "text": [
      "Metric val_loss improved by 0.004 >= min_delta = 0.0. New best score: 0.704\n"
     ]
    },
    {
     "name": "stdout",
     "output_type": "stream",
     "text": [
      "Epoch 133: 100%|███████████████████████████| 6/6 [00:57<00:00,  9.63s/it, loss=0.703, v_num=23, val_loss=0.704, val_acc_epoch=0.683]\n",
      "Epoch 134: 100%|███████████████████████████| 6/6 [00:56<00:00,  9.45s/it, loss=0.703, v_num=23, val_loss=0.704, val_acc_epoch=0.683]\u001b[A\n",
      "Validating: 0it [00:00, ?it/s]\u001b[A\n",
      "Validating:   0%|                                                                                             | 0/1 [00:00<?, ?it/s]\u001b[A\n",
      "Epoch 134: 100%|███████████████████████████| 6/6 [00:58<00:00,  9.73s/it, loss=0.704, v_num=23, val_loss=0.704, val_acc_epoch=0.685]\u001b[A\n",
      "Epoch 135: 100%|███████████████████████████| 6/6 [00:56<00:00,  9.46s/it, loss=0.704, v_num=23, val_loss=0.704, val_acc_epoch=0.685]\u001b[A\n",
      "Validating: 0it [00:00, ?it/s]\u001b[A\n",
      "Validating:   0%|                                                                                             | 0/1 [00:00<?, ?it/s]\u001b[A\n",
      "Validating: 100%|█████████████████████████████████████████████████████████████████████████████████████| 1/1 [00:02<00:00,  2.45s/it]\u001b[A"
     ]
    },
    {
     "name": "stderr",
     "output_type": "stream",
     "text": [
      "Metric val_loss improved by 0.000 >= min_delta = 0.0. New best score: 0.704\n"
     ]
    },
    {
     "name": "stdout",
     "output_type": "stream",
     "text": [
      "Epoch 135: 100%|███████████████████████████| 6/6 [00:59<00:00,  9.87s/it, loss=0.706, v_num=23, val_loss=0.704, val_acc_epoch=0.684]\n",
      "Epoch 136: 100%|███████████████████████████| 6/6 [01:06<00:00, 11.10s/it, loss=0.706, v_num=23, val_loss=0.704, val_acc_epoch=0.684]\u001b[A\n",
      "Validating: 0it [00:00, ?it/s]\u001b[A\n",
      "Validating:   0%|                                                                                             | 0/1 [00:00<?, ?it/s]\u001b[A\n",
      "Epoch 136: 100%|███████████████████████████| 6/6 [01:08<00:00, 11.37s/it, loss=0.713, v_num=23, val_loss=0.706, val_acc_epoch=0.682]\u001b[A\n",
      "Epoch 137: 100%|███████████████████████████| 6/6 [00:59<00:00,  9.94s/it, loss=0.713, v_num=23, val_loss=0.706, val_acc_epoch=0.682]\u001b[A\n",
      "Validating: 0it [00:00, ?it/s]\u001b[A\n",
      "Validating:   0%|                                                                                             | 0/1 [00:00<?, ?it/s]\u001b[A\n",
      "Validating: 100%|█████████████████████████████████████████████████████████████████████████████████████| 1/1 [00:02<00:00,  2.19s/it]\u001b[A"
     ]
    },
    {
     "name": "stderr",
     "output_type": "stream",
     "text": [
      "Metric val_loss improved by 0.000 >= min_delta = 0.0. New best score: 0.704\n"
     ]
    },
    {
     "name": "stdout",
     "output_type": "stream",
     "text": [
      "Epoch 137: 100%|████████████████████████████| 6/6 [01:01<00:00, 10.31s/it, loss=0.71, v_num=23, val_loss=0.704, val_acc_epoch=0.683]\n",
      "Epoch 138: 100%|████████████████████████████| 6/6 [00:57<00:00,  9.59s/it, loss=0.71, v_num=23, val_loss=0.704, val_acc_epoch=0.683]\u001b[A\n",
      "Validating: 0it [00:00, ?it/s]\u001b[A\n",
      "Validating:   0%|                                                                                             | 0/1 [00:00<?, ?it/s]\u001b[A\n",
      "Validating: 100%|█████████████████████████████████████████████████████████████████████████████████████| 1/1 [00:01<00:00,  1.56s/it]\u001b[A"
     ]
    },
    {
     "name": "stderr",
     "output_type": "stream",
     "text": [
      "Metric val_loss improved by 0.000 >= min_delta = 0.0. New best score: 0.703\n"
     ]
    },
    {
     "name": "stdout",
     "output_type": "stream",
     "text": [
      "Epoch 138: 100%|███████████████████████████| 6/6 [00:59<00:00,  9.85s/it, loss=0.713, v_num=23, val_loss=0.703, val_acc_epoch=0.686]\n",
      "Epoch 139: 100%|███████████████████████████| 6/6 [00:58<00:00,  9.74s/it, loss=0.713, v_num=23, val_loss=0.703, val_acc_epoch=0.686]\u001b[A\n",
      "Validating: 0it [00:00, ?it/s]\u001b[A\n",
      "Validating:   0%|                                                                                             | 0/1 [00:00<?, ?it/s]\u001b[A\n",
      "Validating: 100%|█████████████████████████████████████████████████████████████████████████████████████| 1/1 [00:01<00:00,  1.57s/it]\u001b[A"
     ]
    },
    {
     "name": "stderr",
     "output_type": "stream",
     "text": [
      "Metric val_loss improved by 0.001 >= min_delta = 0.0. New best score: 0.702\n"
     ]
    },
    {
     "name": "stdout",
     "output_type": "stream",
     "text": [
      "Epoch 139: 100%|███████████████████████████| 6/6 [00:59<00:00, 10.00s/it, loss=0.704, v_num=23, val_loss=0.702, val_acc_epoch=0.686]\n",
      "Epoch 140: 100%|███████████████████████████| 6/6 [00:55<00:00,  9.31s/it, loss=0.704, v_num=23, val_loss=0.702, val_acc_epoch=0.686]\u001b[A\n",
      "Validating: 0it [00:00, ?it/s]\u001b[A\n",
      "Validating:   0%|                                                                                             | 0/1 [00:00<?, ?it/s]\u001b[A\n",
      "Epoch 140: 100%|███████████████████████████| 6/6 [00:57<00:00,  9.60s/it, loss=0.707, v_num=23, val_loss=0.709, val_acc_epoch=0.679]\u001b[A\n",
      "Epoch 141: 100%|███████████████████████████| 6/6 [00:57<00:00,  9.54s/it, loss=0.707, v_num=23, val_loss=0.709, val_acc_epoch=0.679]\u001b[A\n",
      "Validating: 0it [00:00, ?it/s]\u001b[A\n",
      "Validating:   0%|                                                                                             | 0/1 [00:00<?, ?it/s]\u001b[A\n",
      "Epoch 141: 100%|███████████████████████████| 6/6 [00:59<00:00,  9.87s/it, loss=0.703, v_num=23, val_loss=0.705, val_acc_epoch=0.683]\u001b[A\n",
      "Epoch 142: 100%|███████████████████████████| 6/6 [01:01<00:00, 10.31s/it, loss=0.703, v_num=23, val_loss=0.705, val_acc_epoch=0.683]\u001b[A\n",
      "Validating: 0it [00:00, ?it/s]\u001b[A\n",
      "Validating:   0%|                                                                                             | 0/1 [00:00<?, ?it/s]\u001b[A\n",
      "Epoch 142: 100%|███████████████████████████| 6/6 [01:03<00:00, 10.66s/it, loss=0.693, v_num=23, val_loss=0.706, val_acc_epoch=0.684]\u001b[A\n",
      "Epoch 143: 100%|███████████████████████████| 6/6 [01:04<00:00, 10.67s/it, loss=0.693, v_num=23, val_loss=0.706, val_acc_epoch=0.684]\u001b[A\n",
      "Validating: 0it [00:00, ?it/s]\u001b[A\n",
      "Validating:   0%|                                                                                             | 0/1 [00:00<?, ?it/s]\u001b[A\n",
      "Validating: 100%|█████████████████████████████████████████████████████████████████████████████████████| 1/1 [00:02<00:00,  2.38s/it]\u001b[A"
     ]
    },
    {
     "name": "stderr",
     "output_type": "stream",
     "text": [
      "Metric val_loss improved by 0.001 >= min_delta = 0.0. New best score: 0.701\n"
     ]
    },
    {
     "name": "stdout",
     "output_type": "stream",
     "text": [
      "Epoch 143: 100%|███████████████████████████| 6/6 [01:06<00:00, 11.07s/it, loss=0.704, v_num=23, val_loss=0.701, val_acc_epoch=0.687]\n",
      "Epoch 144: 100%|███████████████████████████| 6/6 [01:05<00:00, 10.88s/it, loss=0.704, v_num=23, val_loss=0.701, val_acc_epoch=0.687]\u001b[A\n",
      "Validating: 0it [00:00, ?it/s]\u001b[A\n",
      "Validating:   0%|                                                                                             | 0/1 [00:00<?, ?it/s]\u001b[A\n",
      "Epoch 144: 100%|███████████████████████████| 6/6 [01:07<00:00, 11.26s/it, loss=0.696, v_num=23, val_loss=0.707, val_acc_epoch=0.675]\u001b[A\n",
      "Epoch 145: 100%|███████████████████████████| 6/6 [01:02<00:00, 10.49s/it, loss=0.696, v_num=23, val_loss=0.707, val_acc_epoch=0.675]\u001b[A\n",
      "Validating: 0it [00:00, ?it/s]\u001b[A\n",
      "Validating:   0%|                                                                                             | 0/1 [00:00<?, ?it/s]\u001b[A\n",
      "Validating: 100%|█████████████████████████████████████████████████████████████████████████████████████| 1/1 [00:02<00:00,  2.29s/it]\u001b[A"
     ]
    },
    {
     "name": "stderr",
     "output_type": "stream",
     "text": [
      "Metric val_loss improved by 0.001 >= min_delta = 0.0. New best score: 0.700\n"
     ]
    },
    {
     "name": "stdout",
     "output_type": "stream",
     "text": [
      "Epoch 145: 100%|███████████████████████████| 6/6 [01:05<00:00, 10.88s/it, loss=0.688, v_num=23, val_loss=0.700, val_acc_epoch=0.687]\n",
      "Epoch 146: 100%|███████████████████████████| 6/6 [00:59<00:00,  9.85s/it, loss=0.688, v_num=23, val_loss=0.700, val_acc_epoch=0.687]\u001b[A\n",
      "Validating: 0it [00:00, ?it/s]\u001b[A\n",
      "Validating:   0%|                                                                                             | 0/1 [00:00<?, ?it/s]\u001b[A\n",
      "Epoch 146: 100%|███████████████████████████| 6/6 [01:00<00:00, 10.12s/it, loss=0.692, v_num=23, val_loss=0.702, val_acc_epoch=0.686]\u001b[A\n",
      "Epoch 147: 100%|███████████████████████████| 6/6 [00:56<00:00,  9.47s/it, loss=0.692, v_num=23, val_loss=0.702, val_acc_epoch=0.686]\u001b[A\n",
      "Validating: 0it [00:00, ?it/s]\u001b[A\n",
      "Validating:   0%|                                                                                             | 0/1 [00:00<?, ?it/s]\u001b[A\n",
      "Epoch 147: 100%|███████████████████████████| 6/6 [00:59<00:00,  9.91s/it, loss=0.698, v_num=23, val_loss=0.706, val_acc_epoch=0.682]\u001b[A\n",
      "Epoch 148: 100%|███████████████████████████| 6/6 [00:55<00:00,  9.33s/it, loss=0.698, v_num=23, val_loss=0.706, val_acc_epoch=0.682]\u001b[A\n",
      "Validating: 0it [00:00, ?it/s]\u001b[A\n",
      "Validating:   0%|                                                                                             | 0/1 [00:00<?, ?it/s]\u001b[A\n",
      "Epoch 148: 100%|████████████████████████████| 6/6 [00:58<00:00,  9.73s/it, loss=0.69, v_num=23, val_loss=0.710, val_acc_epoch=0.681]\u001b[A\n",
      "Epoch 149: 100%|████████████████████████████| 6/6 [00:58<00:00,  9.68s/it, loss=0.69, v_num=23, val_loss=0.710, val_acc_epoch=0.681]\u001b[A\n",
      "Validating: 0it [00:00, ?it/s]\u001b[A\n",
      "Validating:   0%|                                                                                             | 0/1 [00:00<?, ?it/s]\u001b[A\n",
      "Epoch 149: 100%|███████████████████████████| 6/6 [01:00<00:00, 10.00s/it, loss=0.703, v_num=23, val_loss=0.700, val_acc_epoch=0.688]\u001b[A\n",
      "Epoch 149: 100%|███████████████████████████| 6/6 [01:00<00:00, 10.00s/it, loss=0.703, v_num=23, val_loss=0.700, val_acc_epoch=0.688]\u001b[A\n",
      "Testing: 100%|████████████████████████████████████████████████████████████████████████████████████████| 1/1 [00:01<00:00,  1.49s/it]\n",
      "--------------------------------------------------------------------------------\n",
      "DATALOADER:0 TEST RESULTS\n",
      "{'test_acc': 0.7013103365898132,\n",
      " 'test_acc_epoch': 0.7013103365898132,\n",
      " 'test_loss': 0.6508675217628479}\n",
      "--------------------------------------------------------------------------------\n"
     ]
    },
    {
     "data": {
      "text/plain": [
       "[{'test_loss': 0.6508675217628479,\n",
       "  'test_acc': 0.7013103365898132,\n",
       "  'test_acc_epoch': 0.7013103365898132}]"
      ]
     },
     "execution_count": 27,
     "metadata": {},
     "output_type": "execute_result"
    }
   ],
   "source": [
    "import torch\n",
    "from torch import nn\n",
    "from pytorch_lightning import Trainer\n",
    "from pytorch_lightning.callbacks import EarlyStopping\n",
    "\n",
    "class CharLstmModel(TemplateModel):\n",
    "    def __init__(self, char_set_size, char_embedding_dim=4, classes_count=3,\n",
    "                 lstm_embedding_dim=16, char_max_seq_len=50):\n",
    "        super().__init__()\n",
    "        \n",
    "        self.embeddings_layer = nn.Embedding(char_set_size, char_embedding_dim)\n",
    "        self.dropout = nn.Dropout(0.3)\n",
    "        self.lstm_layer = nn.LSTM(char_embedding_dim, lstm_embedding_dim // 2, batch_first=True, bidirectional=True)\n",
    "        self.out_layer = nn.Linear(lstm_embedding_dim * char_max_seq_len, classes_count)\n",
    "\n",
    "    def forward(self, inputs, labels):\n",
    "        projections = self.embeddings_layer.forward(inputs)\n",
    "        char_max_seq_len = projections.size(2)\n",
    "        projections = projections.reshape(projections.size(0), -1, projections.size(3))\n",
    "        output, _= self.lstm_layer(projections)\n",
    "        output = self.dropout(output)\n",
    "        output = output.reshape(output.size(0), -1, output.size(2)*char_max_seq_len)\n",
    "        logits = self.out_layer.forward(output)\n",
    "        logits = logits.transpose(1, 2)\n",
    "        loss = self.loss(logits, labels)\n",
    "        return loss, logits\n",
    "\n",
    "\n",
    "char_lstm_model = CharLstmModel(len(char_set))\n",
    "early_stop_callback = EarlyStopping(\n",
    "    monitor=\"val_loss\",\n",
    "    min_delta=0.0,\n",
    "    patience=8,\n",
    "    verbose=True,\n",
    "    mode=\"min\" \n",
    ")\n",
    "trainer = Trainer(\n",
    "    gpus=0,\n",
    "    checkpoint_callback=False,\n",
    "    accumulate_grad_batches=1,\n",
    "    max_epochs=150,\n",
    "    progress_bar_refresh_rate=10,\n",
    "    callbacks=[early_stop_callback])\n",
    "trainer.fit(char_lstm_model, train_loader, val_loader)\n",
    "trainer.test(char_lstm_model, test_loader)"
   ]
  },
  {
   "cell_type": "code",
   "execution_count": 28,
   "id": "d0d8d079",
   "metadata": {},
   "outputs": [
    {
     "name": "stdout",
     "output_type": "stream",
     "text": [
      "1 Precision: 0.42778119237861095, 1 Recall: 0.33984375\n",
      "Exact: 396, partial: 762, missing: 890, spurius: 369\n",
      "PREDICTED:\n"
     ]
    },
    {
     "data": {
      "text/html": [
       "<div class=\"tex2jax_ignore\" style=\"white-space: pre-wrap\">Приложение \n",
       "к постановлению администрации \n",
       "МО « Судогодский район » \n",
       "от 01.06.2018 г . \n",
       "№ 841 \n",
       "Муниципальная программа \n",
       "« Благоустройство города Судогда на 2016-2020 год » \n",
       "ПАСПОРТ \n",
       "1. \n",
       "Характеристика проблемы и <span style=\"padding: 2px; border-radius: 4px; border: 1px solid #bbdefb; background: #e3f2fd\">обоснование<span style=\"vertical-align: middle; margin-left: 2px; font-size: 0.7em; color: #64b5f6;\">INST</span></span> \n",
       "необходимости ее решения программными методами \n",
       "Одним из главных направлений в области <span style=\"padding: 2px; border-radius: 4px; border: 1px solid #bbdefb; background: #e3f2fd\">обеспечения социально<span style=\"vertical-align: middle; margin-left: 2px; font-size: 0.7em; color: #64b5f6;\">INST</span></span> - <span style=\"padding: 2px; border-radius: 4px; border: 1px solid #bbdefb; background: #e3f2fd\">экономического<span style=\"vertical-align: middle; margin-left: 2px; font-size: 0.7em; color: #64b5f6;\">INST</span></span> <span style=\"padding: 2px; border-radius: 4px; border: 1px solid #bbdefb; background: #e3f2fd\">развития<span style=\"vertical-align: middle; margin-left: 2px; font-size: 0.7em; color: #64b5f6;\">INST</span></span> страны , определенным Правительством Российской Федерации , является - <span style=\"padding: 2px; border-radius: 4px; border: 1px solid #bbdefb; background: #e3f2fd\">улучшение<span style=\"vertical-align: middle; margin-left: 2px; font-size: 0.7em; color: #64b5f6;\">INST</span></span> уровня и <span style=\"padding: 2px; border-radius: 4px; border: 1px solid #bbdefb; background: #e3f2fd\">качества жизни<span style=\"vertical-align: middle; margin-left: 2px; font-size: 0.7em; color: #64b5f6;\">INST</span></span> населения . \n",
       "Важнейшим аспектом в <span style=\"padding: 2px; border-radius: 4px; border: 1px solid #bbdefb; background: #e3f2fd\">реализации<span style=\"vertical-align: middle; margin-left: 2px; font-size: 0.7em; color: #64b5f6;\">INST</span></span> данного проекта является создание органами местного <span style=\"padding: 2px; border-radius: 4px; border: 1px solid #bbdefb; background: #e3f2fd\">самоуправления<span style=\"vertical-align: middle; margin-left: 2px; font-size: 0.7em; color: #64b5f6;\">INST</span></span> условий <span style=\"padding: 2px; border-radius: 4px; border: 1px solid #bbdefb; background: #e3f2fd\">комфортного<span style=\"vertical-align: middle; margin-left: 2px; font-size: 0.7em; color: #64b5f6;\">INST</span></span> и <span style=\"padding: 2px; border-radius: 4px; border: 1px solid #bbdefb; background: #e3f2fd\">безопасного проживания<span style=\"vertical-align: middle; margin-left: 2px; font-size: 0.7em; color: #64b5f6;\">INST</span></span> граждан , <span style=\"padding: 2px; border-radius: 4px; border: 1px solid #bbdefb; background: #e3f2fd\">формирование современной<span style=\"vertical-align: middle; margin-left: 2px; font-size: 0.7em; color: #64b5f6;\">INST</span></span> городской <span style=\"padding: 2px; border-radius: 4px; border: 1px solid #bbdefb; background: #e3f2fd\">инфраструктуры<span style=\"vertical-align: middle; margin-left: 2px; font-size: 0.7em; color: #64b5f6;\">INST</span></span> и благоустройство мест общего <span style=\"padding: 2px; border-radius: 4px; border: 1px solid #bbdefb; background: #e3f2fd\">пользования<span style=\"vertical-align: middle; margin-left: 2px; font-size: 0.7em; color: #64b5f6;\">INST</span></span> территории города . \n",
       "Благоустройство и <span style=\"padding: 2px; border-radius: 4px; border: 1px solid #bbdefb; background: #e3f2fd\">озеленение<span style=\"vertical-align: middle; margin-left: 2px; font-size: 0.7em; color: #64b5f6;\">INST</span></span> территории приобретает особое <span style=\"padding: 2px; border-radius: 4px; border: 1px solid #bbdefb; background: #e3f2fd\">значение<span style=\"vertical-align: middle; margin-left: 2px; font-size: 0.7em; color: #64b5f6;\">INST</span></span> в условиях <span style=\"padding: 2px; border-radius: 4px; border: 1px solid #bbdefb; background: #e3f2fd\">повышенных<span style=\"vertical-align: middle; margin-left: 2px; font-size: 0.7em; color: #64b5f6;\">INST</span></span> антропогенных нагрузок , дискомфорта городской среды из-за загрязнения <span style=\"padding: 2px; border-radius: 4px; border: 1px solid #bbdefb; background: #e3f2fd\">воздушной<span style=\"vertical-align: middle; margin-left: 2px; font-size: 0.7em; color: #64b5f6;\">INST</span></span> среды выбросами <span style=\"padding: 2px; border-radius: 4px; border: 1px solid #bbdefb; background: #e3f2fd\">автотранспорта<span style=\"vertical-align: middle; margin-left: 2px; font-size: 0.7em; color: #64b5f6;\">INST</span></span> и промышленных предприятий . \n",
       "При выполнении комплекса мероприятий , направленных на благоустройство и <span style=\"padding: 2px; border-radius: 4px; border: 1px solid #bbdefb; background: #e3f2fd\">озеленение<span style=\"vertical-align: middle; margin-left: 2px; font-size: 0.7em; color: #64b5f6;\">INST</span></span> можно <span style=\"padding: 2px; border-radius: 4px; border: 1px solid #bbdefb; background: #e3f2fd\">значительно<span style=\"vertical-align: middle; margin-left: 2px; font-size: 0.7em; color: #64b5f6;\">INST</span></span> улучшить <span style=\"padding: 2px; border-radius: 4px; border: 1px solid #bbdefb; background: #e3f2fd\">экологическое<span style=\"vertical-align: middle; margin-left: 2px; font-size: 0.7em; color: #64b5f6;\">INST</span></span> состояние и внешний облик городского поселения <span style=\"padding: 2px; border-radius: 4px; border: 1px solid #bbdefb; background: #e3f2fd\">создать<span style=\"vertical-align: middle; margin-left: 2px; font-size: 0.7em; color: #64b5f6;\">INST</span></span> более <span style=\"padding: 2px; border-radius: 4px; border: 1px solid #bbdefb; background: #e3f2fd\">комфортные<span style=\"vertical-align: middle; margin-left: 2px; font-size: 0.7em; color: #64b5f6;\">INST</span></span> микро  <span style=\"padding: 2px; border-radius: 4px; border: 1px solid #bbdefb; background: #e3f2fd\">климатические<span style=\"vertical-align: middle; margin-left: 2px; font-size: 0.7em; color: #64b5f6;\">INST</span></span> , санитарно - гигиенические и <span style=\"padding: 2px; border-radius: 4px; border: 1px solid #bbdefb; background: #e3f2fd\">эстетические<span style=\"vertical-align: middle; margin-left: 2px; font-size: 0.7em; color: #64b5f6;\">INST</span></span> условия на улицах , в жилых <span style=\"padding: 2px; border-radius: 4px; border: 1px solid #bbdefb; background: #e3f2fd\">кварталах<span style=\"vertical-align: middle; margin-left: 2px; font-size: 0.7em; color: #64b5f6;\">INST</span></span> , <span style=\"padding: 2px; border-radius: 4px; border: 1px solid #bbdefb; background: #e3f2fd\">общественных<span style=\"vertical-align: middle; margin-left: 2px; font-size: 0.7em; color: #64b5f6;\">INST</span></span> местах ( парках , скверах и т.д. ) . \n",
       "В области текущего <span style=\"padding: 2px; border-radius: 4px; border: 1px solid #bbdefb; background: #e3f2fd\">содержания<span style=\"vertical-align: middle; margin-left: 2px; font-size: 0.7em; color: #64b5f6;\">INST</span></span> территории городского поселения можно <span style=\"padding: 2px; border-radius: 4px; border: 1px solid #bbdefb; background: #e3f2fd\">выделить следующие<span style=\"vertical-align: middle; margin-left: 2px; font-size: 0.7em; color: #64b5f6;\">INST</span></span> проблемы : \n",
       "Уличное <span style=\"padding: 2px; border-radius: 4px; border: 1px solid #bbdefb; background: #e3f2fd\">освещение<span style=\"vertical-align: middle; margin-left: 2px; font-size: 0.7em; color: #64b5f6;\">INST</span></span> \n",
       "В период 2016 г администрацией города Судогда были организованы мероприятия по замене старых уличных <span style=\"padding: 2px; border-radius: 4px; border: 1px solid #bbdefb; background: #e3f2fd\">светильников<span style=\"vertical-align: middle; margin-left: 2px; font-size: 0.7em; color: #64b5f6;\">INST</span></span> , на центральных улицах города , на современные , светодиодные . \n",
       "В ходе <span style=\"padding: 2px; border-radius: 4px; border: 1px solid #bbdefb; background: #e3f2fd\">проведения<span style=\"vertical-align: middle; margin-left: 2px; font-size: 0.7em; color: #64b5f6;\">INST</span></span> данных мероприятий была <span style=\"padding: 2px; border-radius: 4px; border: 1px solid #bbdefb; background: #e3f2fd\">осуществлена<span style=\"vertical-align: middle; margin-left: 2px; font-size: 0.7em; color: #64b5f6;\">INST</span></span> замена 10 светильников . \n",
       "Однако полностью решить проблему уличного <span style=\"padding: 2px; border-radius: 4px; border: 1px solid #bbdefb; background: #e3f2fd\">освещения<span style=\"vertical-align: middle; margin-left: 2px; font-size: 0.7em; color: #64b5f6;\">INST</span></span> городского поселения на сегодняшний день пока не удалось и проблемы еще существуют . \n",
       "Основными проблемами данного направления благоустройства являются : \n",
       "- <span style=\"padding: 2px; border-radius: 4px; border: 1px solid #bbdefb; background: #e3f2fd\">недостаточное<span style=\"vertical-align: middle; margin-left: 2px; font-size: 0.7em; color: #64b5f6;\">INST</span></span> количество уличных <span style=\"padding: 2px; border-radius: 4px; border: 1px solid #bbdefb; background: #e3f2fd\">светильников<span style=\"vertical-align: middle; margin-left: 2px; font-size: 0.7em; color: #64b5f6;\">INST</span></span> на второстепенных улицах городского поселения ; \n",
       "- <span style=\"padding: 2px; border-radius: 4px; border: 1px solid #bbdefb; background: #e3f2fd\">естественное<span style=\"vertical-align: middle; margin-left: 2px; font-size: 0.7em; color: #64b5f6;\">INST</span></span> старение <span style=\"padding: 2px; border-radius: 4px; border: 1px solid #bbdefb; background: #e3f2fd\">сетей<span style=\"vertical-align: middle; margin-left: 2px; font-size: 0.7em; color: #64b5f6;\">INST</span></span> и <span style=\"padding: 2px; border-radius: 4px; border: 1px solid #bbdefb; background: #e3f2fd\">оборудования систем<span style=\"vertical-align: middle; margin-left: 2px; font-size: 0.7em; color: #64b5f6;\">INST</span></span> уличного <span style=\"padding: 2px; border-radius: 4px; border: 1px solid #bbdefb; background: #e3f2fd\">освещения<span style=\"vertical-align: middle; margin-left: 2px; font-size: 0.7em; color: #64b5f6;\">INST</span></span> городского поселения ; \n",
       "- отсутствие <span style=\"padding: 2px; border-radius: 4px; border: 1px solid #bbdefb; background: #e3f2fd\">современной<span style=\"vertical-align: middle; margin-left: 2px; font-size: 0.7em; color: #64b5f6;\">INST</span></span> системы <span style=\"padding: 2px; border-radius: 4px; border: 1px solid #bbdefb; background: #e3f2fd\">мониторинга<span style=\"vertical-align: middle; margin-left: 2px; font-size: 0.7em; color: #64b5f6;\">INST</span></span> работы <span style=\"padding: 2px; border-radius: 4px; border: 1px solid #bbdefb; background: #e3f2fd\">электрической системы<span style=\"vertical-align: middle; margin-left: 2px; font-size: 0.7em; color: #64b5f6;\">INST</span></span> и ее управления . \n",
       "Решение проблемы этого раздела <span style=\"padding: 2px; border-radius: 4px; border: 1px solid #bbdefb; background: #e3f2fd\">лежит<span style=\"vertical-align: middle; margin-left: 2px; font-size: 0.7em; color: #64b5f6;\">INST</span></span> в плоскости <span style=\"padding: 2px; border-radius: 4px; border: 1px solid #bbdefb; background: #e3f2fd\">строительства<span style=\"vertical-align: middle; margin-left: 2px; font-size: 0.7em; color: #64b5f6;\">INST</span></span> и реконструкции линий уличного <span style=\"padding: 2px; border-radius: 4px; border: 1px solid #bbdefb; background: #e3f2fd\">освещения<span style=\"vertical-align: middle; margin-left: 2px; font-size: 0.7em; color: #64b5f6;\">INST</span></span> , <span style=\"padding: 2px; border-radius: 4px; border: 1px solid #bbdefb; background: #e3f2fd\">увеличения<span style=\"vertical-align: middle; margin-left: 2px; font-size: 0.7em; color: #64b5f6;\">INST</span></span> <span style=\"padding: 2px; border-radius: 4px; border: 1px solid #bbdefb; background: #e3f2fd\">количества<span style=\"vertical-align: middle; margin-left: 2px; font-size: 0.7em; color: #64b5f6;\">INST</span></span> <span style=\"padding: 2px; border-radius: 4px; border: 1px solid #bbdefb; background: #e3f2fd\">осветительных<span style=\"vertical-align: middle; margin-left: 2px; font-size: 0.7em; color: #64b5f6;\">INST</span></span> приборов и <span style=\"padding: 2px; border-radius: 4px; border: 1px solid #bbdefb; background: #e3f2fd\">внедрения<span style=\"vertical-align: middle; margin-left: 2px; font-size: 0.7em; color: #64b5f6;\">INST</span></span> системы <span style=\"padding: 2px; border-radius: 4px; border: 1px solid #bbdefb; background: #e3f2fd\">мониторинга<span style=\"vertical-align: middle; margin-left: 2px; font-size: 0.7em; color: #64b5f6;\">INST</span></span> и управления . \n",
       "<span style=\"padding: 2px; border-radius: 4px; border: 1px solid #bbdefb; background: #e3f2fd\">Озеленение<span style=\"vertical-align: middle; margin-left: 2px; font-size: 0.7em; color: #64b5f6;\">INST</span></span> \n",
       "Состояние <span style=\"padding: 2px; border-radius: 4px; border: 1px solid #bbdefb; background: #e3f2fd\">зеленых<span style=\"vertical-align: middle; margin-left: 2px; font-size: 0.7em; color: #64b5f6;\">INST</span></span> насаждений на территории городского поселения ухудшается , <span style=\"padding: 2px; border-radius: 4px; border: 1px solid #bbdefb; background: #e3f2fd\">значительная<span style=\"vertical-align: middle; margin-left: 2px; font-size: 0.7em; color: #64b5f6;\">INST</span></span> часть зеленых насаждений посажена в 60  х - 70  х годах прошлого <span style=\"padding: 2px; border-radius: 4px; border: 1px solid #bbdefb; background: #e3f2fd\">столетия<span style=\"vertical-align: middle; margin-left: 2px; font-size: 0.7em; color: #64b5f6;\">INST</span></span> достигла состояния <span style=\"padding: 2px; border-radius: 4px; border: 1px solid #bbdefb; background: #e3f2fd\">естественного<span style=\"vertical-align: middle; margin-left: 2px; font-size: 0.7em; color: #64b5f6;\">INST</span></span> старения . \n",
       "В области <span style=\"padding: 2px; border-radius: 4px; border: 1px solid #bbdefb; background: #e3f2fd\">озеленения<span style=\"vertical-align: middle; margin-left: 2px; font-size: 0.7em; color: #64b5f6;\">INST</span></span> территории городского поселения можно <span style=\"padding: 2px; border-radius: 4px; border: 1px solid #bbdefb; background: #e3f2fd\">выделить следующие<span style=\"vertical-align: middle; margin-left: 2px; font-size: 0.7em; color: #64b5f6;\">INST</span></span> основные проблемы : \n",
       "- <span style=\"padding: 2px; border-radius: 4px; border: 1px solid #bbdefb; background: #e3f2fd\">недостаточный уровень<span style=\"vertical-align: middle; margin-left: 2px; font-size: 0.7em; color: #64b5f6;\">INST</span></span> <span style=\"padding: 2px; border-radius: 4px; border: 1px solid #bbdefb; background: #e3f2fd\">озеленения<span style=\"vertical-align: middle; margin-left: 2px; font-size: 0.7em; color: #64b5f6;\">INST</span></span> территории городского поселения ; \n",
       "- <span style=\"padding: 2px; border-radius: 4px; border: 1px solid #bbdefb; background: #e3f2fd\">старовозрастность<span style=\"vertical-align: middle; margin-left: 2px; font-size: 0.7em; color: #64b5f6;\">INST</span></span> <span style=\"padding: 2px; border-radius: 4px; border: 1px solid #bbdefb; background: #e3f2fd\">существующих зеленых<span style=\"vertical-align: middle; margin-left: 2px; font-size: 0.7em; color: #64b5f6;\">INST</span></span> насаждений ; \n",
       "- наличие большого <span style=\"padding: 2px; border-radius: 4px; border: 1px solid #bbdefb; background: #e3f2fd\">количества старовозрастных<span style=\"vertical-align: middle; margin-left: 2px; font-size: 0.7em; color: #64b5f6;\">INST</span></span> опасных <span style=\"padding: 2px; border-radius: 4px; border: 1px solid #bbdefb; background: #e3f2fd\">деревьев<span style=\"vertical-align: middle; margin-left: 2px; font-size: 0.7em; color: #64b5f6;\">INST</span></span> ; \n",
       "- хаотичность <span style=\"padding: 2px; border-radius: 4px; border: 1px solid #bbdefb; background: #e3f2fd\">зеленых<span style=\"vertical-align: middle; margin-left: 2px; font-size: 0.7em; color: #64b5f6;\">INST</span></span> посадок <span style=\"padding: 2px; border-radius: 4px; border: 1px solid #bbdefb; background: #e3f2fd\">осуществляемых<span style=\"vertical-align: middle; margin-left: 2px; font-size: 0.7em; color: #64b5f6;\">INST</span></span> населением ; \n",
       "- отсутствие <span style=\"padding: 2px; border-radius: 4px; border: 1px solid #bbdefb; background: #e3f2fd\">системного<span style=\"vertical-align: middle; margin-left: 2px; font-size: 0.7em; color: #64b5f6;\">INST</span></span> ухода за большей частью насаждений ; \n",
       "- малое <span style=\"padding: 2px; border-radius: 4px; border: 1px solid #bbdefb; background: #e3f2fd\">количество<span style=\"vertical-align: middle; margin-left: 2px; font-size: 0.7em; color: #64b5f6;\">INST</span></span> кустарниковой декоративной растительности ; \n",
       "- малое <span style=\"padding: 2px; border-radius: 4px; border: 1px solid #bbdefb; background: #e3f2fd\">количество обустроенных надлежащим<span style=\"vertical-align: middle; margin-left: 2px; font-size: 0.7em; color: #64b5f6;\">INST</span></span> образом газонов и цветников ; \n",
       "- бурная , сорная кустарниковая растительность вдоль обочин дорог улично - дорожной сети городского поселения . \n",
       "Для улучшения и <span style=\"padding: 2px; border-radius: 4px; border: 1px solid #bbdefb; background: #e3f2fd\">поддержания<span style=\"vertical-align: middle; margin-left: 2px; font-size: 0.7em; color: #64b5f6;\">INST</span></span> состояния зеленых насаждений в условиях городской среды , устранения аварийной <span style=\"padding: 2px; border-radius: 4px; border: 1px solid #bbdefb; background: #e3f2fd\">ситуации<span style=\"vertical-align: middle; margin-left: 2px; font-size: 0.7em; color: #64b5f6;\">INST</span></span> , соответствия эксплуатационным требованиям к объектам городского коммунального хозяйства , придания зеленым насаждениям <span style=\"padding: 2px; border-radius: 4px; border: 1px solid #bbdefb; background: #e3f2fd\">надлежащего<span style=\"vertical-align: middle; margin-left: 2px; font-size: 0.7em; color: #64b5f6;\">INST</span></span> декоративного облика требуется <span style=\"padding: 2px; border-radius: 4px; border: 1px solid #bbdefb; background: #e3f2fd\">своевременное<span style=\"vertical-align: middle; margin-left: 2px; font-size: 0.7em; color: #64b5f6;\">INST</span></span> <span style=\"padding: 2px; border-radius: 4px; border: 1px solid #bbdefb; background: #e3f2fd\">проведение работ<span style=\"vertical-align: middle; margin-left: 2px; font-size: 0.7em; color: #64b5f6;\">INST</span></span> по ремонту и <span style=\"padding: 2px; border-radius: 4px; border: 1px solid #bbdefb; background: #e3f2fd\">содержанию зеленых<span style=\"vertical-align: middle; margin-left: 2px; font-size: 0.7em; color: #64b5f6;\">INST</span></span> насаждений на территории городского поселения . \n",
       "Особое <span style=\"padding: 2px; border-radius: 4px; border: 1px solid #bbdefb; background: #e3f2fd\">внимание следует<span style=\"vertical-align: middle; margin-left: 2px; font-size: 0.7em; color: #64b5f6;\">INST</span></span> уделять <span style=\"padding: 2px; border-radius: 4px; border: 1px solid #bbdefb; background: #e3f2fd\">восстановлению зеленого<span style=\"vertical-align: middle; margin-left: 2px; font-size: 0.7em; color: #64b5f6;\">INST</span></span> фонда путем планомерной замены <span style=\"padding: 2px; border-radius: 4px; border: 1px solid #bbdefb; background: #e3f2fd\">старовозрастных<span style=\"vertical-align: middle; margin-left: 2px; font-size: 0.7em; color: #64b5f6;\">INST</span></span> и аварийных насаждений , используя крупномерный посадочный материал <span style=\"padding: 2px; border-radius: 4px; border: 1px solid #bbdefb; background: #e3f2fd\">саженцев деревьев<span style=\"vertical-align: middle; margin-left: 2px; font-size: 0.7em; color: #64b5f6;\">INST</span></span> ценных пород и декоративных кустарников . \n",
       "Так же для решения проблем данного раздела требуется проведение мероприятий по своевременному скосу имеющихся газонов , увеличению цветников и клумб на территории города . \n",
       "Отлов безнадзорных животных \n",
       "Основной проблемой большого количества на территории городского поселения безнадзорных животных ( в основном собак ) является : \n",
       "- низкая культура населения в области содержания домашних животных ; \n",
       "- не применение механизма привлечения к ответственности хозяев животных нарушающих правила их содержания ; \n",
       "- недостаточная пропагандистская работа среди населения по содержанию домашних животных . \n",
       "Решением проблемы является применение мер административного воздействия к лицам , нарушающим правила содержания домашних животных , а так же меры по принудительному отлову бесхозяйных животных . \n",
       "Содержание ливневых водоотводных канав \n",
       "Основными проблемами не качественной работы данной системы являются : \n",
       "- многолетняя запущенность и захламленность городских водоотводных канав ; \n",
       "- отсутствие укрепительных элементов ( откосов ) ливневых водоотводных канав , что препятствует организации нормального водостока ; \n",
       "- нежелание жителей осуществлять очистку данных канав проходящих по земельным участкам , закрепленных за их домовладениями ; \n",
       "Решением данной проблемы станет : \n",
       "- поэтапное восстановление общей ливневой водоотводной системы городского поселения , а именно очистка открытых участков ливневой водоотводной канавы от мусора и поросли вручную и с помощью спец  техники ; \n",
       "- проведение работ по перекладке труб и лотков под дорогами , с соблюдением необходимых уклонов для качественной работы системы ; \n",
       "- работа с населением через предупредительные меры о необходимости своевременной очистки , не захламления ливневых канав проходящих по земельным участкам , закрепленных за их домовладениями ; \n",
       "- публикация информационных материалов по данной проблематике в средствах массовой информации . \n",
       "Не  санкционированные свалки \n",
       "За период действия программы , число не  санкционированных свалок на территории городского поселения сократилось в 3 раза . \n",
       "Между тем , их формирование продолжается . \n",
       "Причиной этого является отсутствие достаточного количества оборудованных мест для складирования мусора , отсутствие системного подхода к вывозу мусора с территории частного сектора городского поселения . \n",
       "Реестр не  санкционированных свалок приведен в таблице 1 . \n",
       "Таблица 1 \n",
       "Реестр \n",
       "не  санкционированных свалок на территории г. Судогда \n",
       "Пути решения данной проблемы : \n",
       "- регулярная ликвидация не  санкционированных свалок ; \n",
       "- увеличение количества площадок для сбора ТБО ; \n",
       "- контроль за соблюдением правил обращения с ТБО , правил благоустройства ; \n",
       "- разъяснительная работа в СМИ и др . \n",
       "Внешнее благоустройство \n",
       "Одна из задач внешнего благоустройства – повышение разнообразия и художественной выразительности застройки и открытых озелененных пространств . \n",
       "Современные жилые территории без малых архитектурных форм являются безликими и невыразительными . \n",
       "Содержание малых архитектурных форм должно предусматривать их нормальную эксплуатацию . \n",
       "Садово - парковая мебель , малые архитектурные формы и оборудование должны иметь хороший внешний вид : окрашены , содержаться в чистоте , и находится в исправном состоянии . \n",
       "Их цветовое решение должно вносить в городскую застройку жизнерадостный колорит и разнообразие . \n",
       "Для решения данной задачи необходимо разработка концепции наполнения городских улиц малыми архитектурными формами с ее последующей реализацией . \n",
       "Места общественного отдыха населения \n",
       "В настоящее время в городском поселении назрела необходимость в увеличении количества обустроенных мест общественного отдыха населения . \n",
       "Возможные пути решения это : \n",
       "- реконструкция существующих мест общественного отдыха ; \n",
       "- обустройство мест для отдыха в отдаленных от центра микрорайонах ; \n",
       "- создание обустроенных зон отдыха в городских парках , скверах , прибрежных зонах . \n",
       "Для решения этой проблемы необходимо разработать и реализовать проект обустройства мест общественного отдыха . \n",
       "Содержание автомобильных дорог и безопасность дорожного движения \n",
       "Одной из важнейших задач благоустройства городского поселения является содержание автомобильных дорог в летний и зимний периоды , а также организация безопасности дорожного движения . \n",
       "Основными проблемами являются : высокий износ пешеходных тротуаров , автомобильных дорог общего пользования , дорожных знаков , горизонтальной дорожной разметки , парковочных карманов , наличие снежных навалов на центральных улицах городского поселения и гололедица в зимний период . \n",
       "Возможные пути решения : \n",
       "- щебеночный ремонт дорожного покрытия ; \n",
       "- ремонт тротуарной сети ; \n",
       "- увеличение доли бордюрного оформления дорог и тротуаров ; \n",
       "- оборудование пешеходных переходов ограждениями ; \n",
       "- оформление дорог дорожными знаками и горизонтальной дорожной разметкой ; \n",
       "- ремонт парковочных карманов ; \n",
       "- своевременная очистка от снега улиц и тротуаров , а также подсыпка противогололедными материалами . \n",
       "Основные цели и задачи реализации Программы \n",
       "Основной целью Программы является комплексное решение проблем благоустройства , осуществление мероприятий по улучшению санитарного и эстетичного вида территории городского поселения и повышению комфортности проживания граждан . \n",
       "Основными задачами Программы являются : \n",
       "- обеспечение бесперебойной работы уличного освещения городского поселения ; \n",
       "- увеличение наружных линий уличного освещения ; уменьшение количества опасных деревьев ; \n",
       "- уменьшение количества бесхозных , бродячих животных ; обеспечение нормального функционирования ливневых водоотводных канав ; сокращение не  санкционированных свалок на территории городского поселения ; \n",
       "- установкой дополнительных мусорных урн на территории городского поселения ;</div>"
      ],
      "text/plain": [
       "<IPython.core.display.HTML object>"
      ]
     },
     "metadata": {},
     "output_type": "display_data"
    }
   ],
   "source": [
    "predict(char_lstm_model, test_loader)"
   ]
  },
  {
   "cell_type": "markdown",
   "id": "20af6221",
   "metadata": {},
   "source": [
    "## Задание 1.2\n",
    "Сделайте то же самое, но со свёртками на уровне символов"
   ]
  },
  {
   "cell_type": "code",
   "execution_count": 42,
   "id": "9d9e55c5",
   "metadata": {},
   "outputs": [
    {
     "name": "stderr",
     "output_type": "stream",
     "text": [
      "GPU available: False, used: False\n",
      "TPU available: False, using: 0 TPU cores\n",
      "\n",
      "  | Name           | Type             | Params\n",
      "----------------------------------------------------\n",
      "0 | loss           | CrossEntropyLoss | 0     \n",
      "1 | valid_accuracy | Accuracy         | 0     \n",
      "2 | test_accuracy  | Accuracy         | 0     \n",
      "3 | embedding      | Embedding        | 696   \n",
      "4 | cnn            | Conv1d           | 5.0 M \n",
      "5 | relu           | ReLU             | 0     \n",
      "6 | dropout        | Dropout          | 0     \n",
      "7 | out_layer      | Linear           | 546   \n",
      "----------------------------------------------------\n",
      "5.0 M     Trainable params\n",
      "0         Non-trainable params\n",
      "5.0 M     Total params\n",
      "20.007    Total estimated model params size (MB)\n"
     ]
    },
    {
     "name": "stdout",
     "output_type": "stream",
     "text": [
      "Epoch 0: 100%|████████████████████████████████████████████████████████████████████████████████████████| 6/6 [00:11<00:00,  1.99s/it]\n",
      "Validating: 0it [00:00, ?it/s]\u001b[A\n",
      "Validating:   0%|                                                                                             | 0/1 [00:00<?, ?it/s]\u001b[A\n",
      "Validating: 100%|█████████████████████████████████████████████████████████████████████████████████████| 1/1 [00:00<00:00,  1.47it/s]\u001b[A"
     ]
    },
    {
     "name": "stderr",
     "output_type": "stream",
     "text": [
      "Metric val_loss improved. New best score: 1.360\n"
     ]
    },
    {
     "name": "stdout",
     "output_type": "stream",
     "text": [
      "Epoch 0: 100%|███████████████████████████████| 6/6 [00:12<00:00,  2.11s/it, loss=2.2, v_num=24, val_loss=1.360, val_acc_epoch=0.625]\n",
      "Epoch 1: 100%|███████████████████████████████| 6/6 [00:10<00:00,  1.81s/it, loss=2.2, v_num=24, val_loss=1.360, val_acc_epoch=0.625]\u001b[A\n",
      "Validating: 0it [00:00, ?it/s]\u001b[A\n",
      "Validating:   0%|                                                                                             | 0/1 [00:00<?, ?it/s]\u001b[A\n",
      "Validating: 100%|█████████████████████████████████████████████████████████████████████████████████████| 1/1 [00:00<00:00,  2.09it/s]\u001b[A"
     ]
    },
    {
     "name": "stderr",
     "output_type": "stream",
     "text": [
      "Metric val_loss improved by 0.255 >= min_delta = 0.0. New best score: 1.105\n"
     ]
    },
    {
     "name": "stdout",
     "output_type": "stream",
     "text": [
      "Epoch 1: 100%|███████████████████████████████| 6/6 [00:11<00:00,  1.89s/it, loss=1.9, v_num=24, val_loss=1.100, val_acc_epoch=0.538]\n",
      "Epoch 2: 100%|███████████████████████████████| 6/6 [00:11<00:00,  1.84s/it, loss=1.9, v_num=24, val_loss=1.100, val_acc_epoch=0.538]\u001b[A\n",
      "Validating: 0it [00:00, ?it/s]\u001b[A\n",
      "Validating:   0%|                                                                                             | 0/1 [00:00<?, ?it/s]\u001b[A\n",
      "Validating: 100%|█████████████████████████████████████████████████████████████████████████████████████| 1/1 [00:00<00:00,  1.54it/s]\u001b[A"
     ]
    },
    {
     "name": "stderr",
     "output_type": "stream",
     "text": [
      "Metric val_loss improved by 0.081 >= min_delta = 0.0. New best score: 1.024\n"
     ]
    },
    {
     "name": "stdout",
     "output_type": "stream",
     "text": [
      "Epoch 2: 100%|██████████████████████████████| 6/6 [00:11<00:00,  1.95s/it, loss=1.73, v_num=24, val_loss=1.020, val_acc_epoch=0.646]\n",
      "Epoch 3: 100%|██████████████████████████████| 6/6 [00:12<00:00,  2.12s/it, loss=1.73, v_num=24, val_loss=1.020, val_acc_epoch=0.646]\u001b[A\n",
      "Validating: 0it [00:00, ?it/s]\u001b[A\n",
      "Validating:   0%|                                                                                             | 0/1 [00:00<?, ?it/s]\u001b[A\n",
      "Validating: 100%|█████████████████████████████████████████████████████████████████████████████████████| 1/1 [00:00<00:00,  1.54it/s]\u001b[A"
     ]
    },
    {
     "name": "stderr",
     "output_type": "stream",
     "text": [
      "Metric val_loss improved by 0.057 >= min_delta = 0.0. New best score: 0.967\n"
     ]
    },
    {
     "name": "stdout",
     "output_type": "stream",
     "text": [
      "Epoch 3: 100%|██████████████████████████████| 6/6 [00:13<00:00,  2.23s/it, loss=1.58, v_num=24, val_loss=0.967, val_acc_epoch=0.649]\n",
      "Epoch 4: 100%|██████████████████████████████| 6/6 [00:13<00:00,  2.20s/it, loss=1.58, v_num=24, val_loss=0.967, val_acc_epoch=0.649]\u001b[A\n",
      "Validating: 0it [00:00, ?it/s]\u001b[A\n",
      "Validating:   0%|                                                                                             | 0/1 [00:00<?, ?it/s]\u001b[A\n",
      "Validating: 100%|█████████████████████████████████████████████████████████████████████████████████████| 1/1 [00:00<00:00,  1.34it/s]\u001b[A"
     ]
    },
    {
     "name": "stderr",
     "output_type": "stream",
     "text": [
      "Metric val_loss improved by 0.016 >= min_delta = 0.0. New best score: 0.950\n"
     ]
    },
    {
     "name": "stdout",
     "output_type": "stream",
     "text": [
      "Epoch 4: 100%|██████████████████████████████| 6/6 [00:13<00:00,  2.32s/it, loss=1.28, v_num=24, val_loss=0.950, val_acc_epoch=0.626]\n",
      "Epoch 5: 100%|██████████████████████████████| 6/6 [00:12<00:00,  2.02s/it, loss=1.28, v_num=24, val_loss=0.950, val_acc_epoch=0.626]\u001b[A\n",
      "Validating: 0it [00:00, ?it/s]\u001b[A\n",
      "Validating:   0%|                                                                                             | 0/1 [00:00<?, ?it/s]\u001b[A\n",
      "Validating: 100%|█████████████████████████████████████████████████████████████████████████████████████| 1/1 [00:00<00:00,  1.99it/s]\u001b[A"
     ]
    },
    {
     "name": "stderr",
     "output_type": "stream",
     "text": [
      "Metric val_loss improved by 0.012 >= min_delta = 0.0. New best score: 0.939\n"
     ]
    },
    {
     "name": "stdout",
     "output_type": "stream",
     "text": [
      "Epoch 5: 100%|██████████████████████████████| 6/6 [00:12<00:00,  2.10s/it, loss=1.11, v_num=24, val_loss=0.939, val_acc_epoch=0.637]\n",
      "Epoch 6: 100%|██████████████████████████████| 6/6 [00:11<00:00,  1.97s/it, loss=1.11, v_num=24, val_loss=0.939, val_acc_epoch=0.637]\u001b[A\n",
      "Validating: 0it [00:00, ?it/s]\u001b[A\n",
      "Validating:   0%|                                                                                             | 0/1 [00:00<?, ?it/s]\u001b[A\n",
      "Validating: 100%|█████████████████████████████████████████████████████████████████████████████████████| 1/1 [00:00<00:00,  1.97it/s]\u001b[A"
     ]
    },
    {
     "name": "stderr",
     "output_type": "stream",
     "text": [
      "Metric val_loss improved by 0.000 >= min_delta = 0.0. New best score: 0.938\n"
     ]
    },
    {
     "name": "stdout",
     "output_type": "stream",
     "text": [
      "Epoch 6: 100%|█████████████████████████████| 6/6 [00:12<00:00,  2.06s/it, loss=0.964, v_num=24, val_loss=0.938, val_acc_epoch=0.637]\n",
      "Epoch 7: 100%|█████████████████████████████| 6/6 [00:11<00:00,  1.91s/it, loss=0.964, v_num=24, val_loss=0.938, val_acc_epoch=0.637]\u001b[A\n",
      "Validating: 0it [00:00, ?it/s]\u001b[A\n",
      "Validating:   0%|                                                                                             | 0/1 [00:00<?, ?it/s]\u001b[A\n",
      "Epoch 7: 100%|██████████████████████████████| 6/6 [00:11<00:00,  1.99s/it, loss=0.85, v_num=24, val_loss=0.939, val_acc_epoch=0.632]\u001b[A\n",
      "Epoch 8: 100%|██████████████████████████████| 6/6 [00:12<00:00,  2.03s/it, loss=0.85, v_num=24, val_loss=0.939, val_acc_epoch=0.632]\u001b[A\n",
      "Validating: 0it [00:00, ?it/s]\u001b[A\n",
      "Validating:   0%|                                                                                             | 0/1 [00:00<?, ?it/s]\u001b[A\n",
      "Epoch 8: 100%|█████████████████████████████| 6/6 [00:12<00:00,  2.13s/it, loss=0.762, v_num=24, val_loss=0.958, val_acc_epoch=0.623]\u001b[A\n",
      "Epoch 9: 100%|█████████████████████████████| 6/6 [00:12<00:00,  2.07s/it, loss=0.762, v_num=24, val_loss=0.958, val_acc_epoch=0.623]\u001b[A\n",
      "Validating: 0it [00:00, ?it/s]\u001b[A\n",
      "Validating:   0%|                                                                                             | 0/1 [00:00<?, ?it/s]\u001b[A\n",
      "Epoch 9: 100%|█████████████████████████████| 6/6 [00:12<00:00,  2.16s/it, loss=0.679, v_num=24, val_loss=0.965, val_acc_epoch=0.616]\u001b[A\n",
      "Epoch 10: 100%|████████████████████████████| 6/6 [00:12<00:00,  2.08s/it, loss=0.679, v_num=24, val_loss=0.965, val_acc_epoch=0.616]\u001b[A\n",
      "Validating: 0it [00:00, ?it/s]\u001b[A\n",
      "Validating:   0%|                                                                                             | 0/1 [00:00<?, ?it/s]\u001b[A\n",
      "Epoch 10: 100%|████████████████████████████| 6/6 [00:13<00:00,  2.18s/it, loss=0.607, v_num=24, val_loss=0.994, val_acc_epoch=0.607]\u001b[A\n",
      "Epoch 11: 100%|████████████████████████████| 6/6 [00:12<00:00,  2.15s/it, loss=0.607, v_num=24, val_loss=0.994, val_acc_epoch=0.607]\u001b[A\n",
      "Validating: 0it [00:00, ?it/s]\u001b[A\n",
      "Validating:   0%|                                                                                             | 0/1 [00:00<?, ?it/s]\u001b[A\n",
      "Epoch 11: 100%|████████████████████████████| 6/6 [00:13<00:00,  2.25s/it, loss=0.552, v_num=24, val_loss=1.020, val_acc_epoch=0.601]\u001b[A\n",
      "Epoch 12: 100%|████████████████████████████| 6/6 [00:13<00:00,  2.18s/it, loss=0.552, v_num=24, val_loss=1.020, val_acc_epoch=0.601]\u001b[A\n",
      "Validating: 0it [00:00, ?it/s]\u001b[A\n",
      "Validating:   0%|                                                                                             | 0/1 [00:00<?, ?it/s]\u001b[A\n",
      "Epoch 12: 100%|████████████████████████████| 6/6 [00:13<00:00,  2.26s/it, loss=0.503, v_num=24, val_loss=1.060, val_acc_epoch=0.592]\u001b[A\n",
      "Epoch 13: 100%|████████████████████████████| 6/6 [00:11<00:00,  1.96s/it, loss=0.503, v_num=24, val_loss=1.060, val_acc_epoch=0.592]\u001b[A\n",
      "Validating: 0it [00:00, ?it/s]\u001b[A\n",
      "Validating:   0%|                                                                                             | 0/1 [00:00<?, ?it/s]\u001b[A\n",
      "Epoch 13: 100%|█████████████████████████████| 6/6 [00:12<00:00,  2.05s/it, loss=0.46, v_num=24, val_loss=1.090, val_acc_epoch=0.582]\u001b[A\n",
      "Epoch 14: 100%|█████████████████████████████| 6/6 [00:11<00:00,  1.96s/it, loss=0.46, v_num=24, val_loss=1.090, val_acc_epoch=0.582]\u001b[A\n",
      "Validating: 0it [00:00, ?it/s]\u001b[A\n",
      "Validating:   0%|                                                                                             | 0/1 [00:00<?, ?it/s]\u001b[A\n",
      "Validating: 100%|█████████████████████████████████████████████████████████████████████████████████████| 1/1 [00:00<00:00,  1.75it/s]\u001b[A"
     ]
    },
    {
     "name": "stderr",
     "output_type": "stream",
     "text": [
      "Monitored metric val_loss did not improve in the last 8 records. Best score: 0.938. Signaling Trainer to stop.\n"
     ]
    },
    {
     "name": "stdout",
     "output_type": "stream",
     "text": [
      "Epoch 14: 100%|█████████████████████████████| 6/6 [00:12<00:00,  2.06s/it, loss=0.42, v_num=24, val_loss=1.140, val_acc_epoch=0.582]\n",
      "Epoch 14: 100%|█████████████████████████████| 6/6 [00:12<00:00,  2.06s/it, loss=0.42, v_num=24, val_loss=1.140, val_acc_epoch=0.582]\u001b[A\n",
      "Testing: 100%|████████████████████████████████████████████████████████████████████████████████████████| 1/1 [00:00<00:00,  1.53it/s]\n",
      "--------------------------------------------------------------------------------\n",
      "DATALOADER:0 TEST RESULTS\n",
      "{'test_acc': 0.6251034736633301,\n",
      " 'test_acc_epoch': 0.6251034736633301,\n",
      " 'test_loss': 1.041354775428772}\n",
      "--------------------------------------------------------------------------------\n"
     ]
    },
    {
     "data": {
      "text/plain": [
       "[{'test_loss': 1.041354775428772,\n",
       "  'test_acc': 0.6251034736633301,\n",
       "  'test_acc_epoch': 0.6251034736633301}]"
      ]
     },
     "execution_count": 42,
     "metadata": {},
     "output_type": "execute_result"
    }
   ],
   "source": [
    "import torch\n",
    "import torch.nn as nn\n",
    "from pytorch_lightning import Trainer\n",
    "from pytorch_lightning.callbacks import EarlyStopping  \n",
    "\n",
    "class CharCNNModel(TemplateModel):\n",
    "    def __init__(self, char_set_size, char_embedding_dim=4, classes_count=3,\n",
    "                 kernel_size=5, channels=500, char_max_seq_len=50):\n",
    "        super().__init__()\n",
    "        \n",
    "        self.embedding = nn.Embedding(char_set_size, char_embedding_dim)\n",
    "        self.cnn = nn.Conv1d(in_channels=channels, out_channels=channels, kernel_size=char_embedding_dim*kernel_size)\n",
    "        self.relu = nn.ReLU()\n",
    "        self.dropout = nn.Dropout(0.2)\n",
    "        self.out_layer = nn.Linear(char_embedding_dim*char_max_seq_len - (char_embedding_dim*kernel_size - 1), classes_count)\n",
    "    \n",
    "    def forward(self, inputs, labels):\n",
    "        projections = self.embedding.forward(inputs)\n",
    "        projections = projections.reshape(projections.size(0), projections.size(1), -1)\n",
    "        convolved = self.dropout(self.relu(self.cnn(projections)))\n",
    "        logits = self.out_layer.forward(convolved)\n",
    "        \n",
    "        logits = logits.transpose(1, 2)\n",
    "        loss = self.loss(logits, labels)\n",
    "        return loss, logits\n",
    "\n",
    "char_cnn_model = CharCNNModel(len(char_set))\n",
    "early_stop_callback = EarlyStopping(\n",
    "    monitor=\"val_loss\",\n",
    "    min_delta=0.0,\n",
    "    patience=8,\n",
    "    verbose=True,\n",
    "    mode=\"min\" \n",
    ")\n",
    "trainer = Trainer(\n",
    "    gpus=0,\n",
    "    checkpoint_callback=False,\n",
    "    accumulate_grad_batches=1,\n",
    "    max_epochs=150,\n",
    "    progress_bar_refresh_rate=10,\n",
    "    callbacks=[early_stop_callback])\n",
    "trainer.fit(char_cnn_model, train_loader, val_loader)\n",
    "trainer.test(char_cnn_model, test_loader)"
   ]
  },
  {
   "cell_type": "code",
   "execution_count": 43,
   "id": "9a15a185",
   "metadata": {},
   "outputs": [
    {
     "name": "stdout",
     "output_type": "stream",
     "text": [
      "1 Precision: 0.2627226463104326, 1 Recall: 0.20166015625\n",
      "Exact: 212, partial: 574, missing: 1262, spurius: 720\n",
      "PREDICTED:\n"
     ]
    },
    {
     "data": {
      "text/html": [
       "<div class=\"tex2jax_ignore\" style=\"white-space: pre-wrap\">Приложение \n",
       "к постановлению администрации \n",
       "МО « Судогодский район » \n",
       "от 01.06.2018 г . \n",
       "№ 841 \n",
       "Муниципальная программа \n",
       "« Благоустройство города Судогда на 2016-2020 год » \n",
       "ПАСПОРТ \n",
       "1. \n",
       "Характеристика проблемы и обоснование \n",
       "необходимости ее решения программными методами \n",
       "Одним из главных направлений в области обеспечения <span style=\"padding: 2px; border-radius: 4px; border: 1px solid #bbdefb; background: #e3f2fd\">социально<span style=\"vertical-align: middle; margin-left: 2px; font-size: 0.7em; color: #64b5f6;\">INST</span></span> - экономического <span style=\"padding: 2px; border-radius: 4px; border: 1px solid #bbdefb; background: #e3f2fd\">развития<span style=\"vertical-align: middle; margin-left: 2px; font-size: 0.7em; color: #64b5f6;\">INST</span></span> страны , определенным Правительством Российской Федерации , является - улучшение <span style=\"padding: 2px; border-radius: 4px; border: 1px solid #bbdefb; background: #e3f2fd\">уровня<span style=\"vertical-align: middle; margin-left: 2px; font-size: 0.7em; color: #64b5f6;\">INST</span></span> и качества жизни населения . \n",
       "Важнейшим аспектом в реализации данного проекта является создание органами местного самоуправления условий комфортного и безопасного проживания граждан , <span style=\"padding: 2px; border-radius: 4px; border: 1px solid #bbdefb; background: #e3f2fd\">формирование<span style=\"vertical-align: middle; margin-left: 2px; font-size: 0.7em; color: #64b5f6;\">INST</span></span> современной городской инфраструктуры и благоустройство мест общего пользования территории города . \n",
       "Благоустройство и озеленение территории приобретает особое значение в условиях повышенных антропогенных нагрузок , дискомфорта городской среды из-за загрязнения воздушной среды выбросами автотранспорта и промышленных <span style=\"padding: 2px; border-radius: 4px; border: 1px solid #bbdefb; background: #e3f2fd\">предприятий<span style=\"vertical-align: middle; margin-left: 2px; font-size: 0.7em; color: #64b5f6;\">INST</span></span> . \n",
       "При выполнении комплекса мероприятий , направленных на благоустройство и озеленение можно значительно <span style=\"padding: 2px; border-radius: 4px; border: 1px solid #bbdefb; background: #e3f2fd\">улучшить экологическое<span style=\"vertical-align: middle; margin-left: 2px; font-size: 0.7em; color: #64b5f6;\">INST</span></span> состояние и внешний облик городского поселения создать более комфортные микро  климатические , санитарно - гигиенические и эстетические условия на улицах <span style=\"padding: 2px; border-radius: 4px; border: 1px solid #bbdefb; background: #e3f2fd\">,<span style=\"vertical-align: middle; margin-left: 2px; font-size: 0.7em; color: #64b5f6;\">INST</span></span> в жилых кварталах , общественных местах ( парках , скверах и т.д. ) . \n",
       "В области текущего содержания территории городского поселения можно выделить следующие проблемы : \n",
       "<span style=\"padding: 2px; border-radius: 4px; border: 1px solid #bbdefb; background: #e3f2fd\">Уличное<span style=\"vertical-align: middle; margin-left: 2px; font-size: 0.7em; color: #64b5f6;\">INST</span></span> освещение \n",
       "В период 2016 г администрацией города Судогда были организованы мероприятия по замене <span style=\"padding: 2px; border-radius: 4px; border: 1px solid #bbdefb; background: #e3f2fd\">старых<span style=\"vertical-align: middle; margin-left: 2px; font-size: 0.7em; color: #64b5f6;\">INST</span></span> уличных светильников , на центральных улицах города , на современные , светодиодные . \n",
       "В ходе проведения <span style=\"padding: 2px; border-radius: 4px; border: 1px solid #bbdefb; background: #e3f2fd\">данных<span style=\"vertical-align: middle; margin-left: 2px; font-size: 0.7em; color: #64b5f6;\">INST</span></span> мероприятий была осуществлена замена 10 светильников . \n",
       "Однако полностью решить проблему уличного освещения городского поселения <span style=\"padding: 2px; border-radius: 4px; border: 1px solid #bbdefb; background: #e3f2fd\">на<span style=\"vertical-align: middle; margin-left: 2px; font-size: 0.7em; color: #64b5f6;\">INST</span></span> сегодняшний <span style=\"padding: 2px; border-radius: 4px; border: 1px solid #bbdefb; background: #e3f2fd\">день<span style=\"vertical-align: middle; margin-left: 2px; font-size: 0.7em; color: #64b5f6;\">INST</span></span> пока не удалось и проблемы еще существуют <span style=\"padding: 2px; border-radius: 4px; border: 1px solid #bbdefb; background: #e3f2fd\">.<span style=\"vertical-align: middle; margin-left: 2px; font-size: 0.7em; color: #64b5f6;\">INST</span></span> \n",
       "Основными проблемами данного направления благоустройства являются : \n",
       "- <span style=\"padding: 2px; border-radius: 4px; border: 1px solid #bbdefb; background: #e3f2fd\">недостаточное<span style=\"vertical-align: middle; margin-left: 2px; font-size: 0.7em; color: #64b5f6;\">INST</span></span> количество уличных <span style=\"padding: 2px; border-radius: 4px; border: 1px solid #bbdefb; background: #e3f2fd\">светильников<span style=\"vertical-align: middle; margin-left: 2px; font-size: 0.7em; color: #64b5f6;\">INST</span></span> на второстепенных улицах городского поселения ; \n",
       "<span style=\"padding: 2px; border-radius: 4px; border: 1px solid #bbdefb; background: #e3f2fd\">-<span style=\"vertical-align: middle; margin-left: 2px; font-size: 0.7em; color: #64b5f6;\">INST</span></span> естественное старение сетей и оборудования систем уличного <span style=\"padding: 2px; border-radius: 4px; border: 1px solid #bbdefb; background: #e3f2fd\">освещения городского поселения<span style=\"vertical-align: middle; margin-left: 2px; font-size: 0.7em; color: #64b5f6;\">INST</span></span> ; \n",
       "- отсутствие современной системы мониторинга работы электрической системы и ее <span style=\"padding: 2px; border-radius: 4px; border: 1px solid #bbdefb; background: #e3f2fd\">управления<span style=\"vertical-align: middle; margin-left: 2px; font-size: 0.7em; color: #64b5f6;\">INST</span></span> . \n",
       "Решение проблемы этого раздела лежит в плоскости строительства и реконструкции линий уличного освещения , увеличения количества осветительных <span style=\"padding: 2px; border-radius: 4px; border: 1px solid #bbdefb; background: #e3f2fd\">приборов<span style=\"vertical-align: middle; margin-left: 2px; font-size: 0.7em; color: #64b5f6;\">INST</span></span> и внедрения системы <span style=\"padding: 2px; border-radius: 4px; border: 1px solid #bbdefb; background: #e3f2fd\">мониторинга<span style=\"vertical-align: middle; margin-left: 2px; font-size: 0.7em; color: #64b5f6;\">INST</span></span> и <span style=\"padding: 2px; border-radius: 4px; border: 1px solid #bbdefb; background: #e3f2fd\">управления<span style=\"vertical-align: middle; margin-left: 2px; font-size: 0.7em; color: #64b5f6;\">INST</span></span> . \n",
       "Озеленение \n",
       "Состояние зеленых насаждений <span style=\"padding: 2px; border-radius: 4px; border: 1px solid #bbdefb; background: #e3f2fd\">на<span style=\"vertical-align: middle; margin-left: 2px; font-size: 0.7em; color: #64b5f6;\">INST</span></span> территории городского поселения ухудшается , <span style=\"padding: 2px; border-radius: 4px; border: 1px solid #bbdefb; background: #e3f2fd\">значительная<span style=\"vertical-align: middle; margin-left: 2px; font-size: 0.7em; color: #64b5f6;\">INST</span></span> часть зеленых насаждений посажена в 60  х - 70  х годах прошлого столетия достигла состояния <span style=\"padding: 2px; border-radius: 4px; border: 1px solid #bbdefb; background: #e3f2fd\">естественного<span style=\"vertical-align: middle; margin-left: 2px; font-size: 0.7em; color: #64b5f6;\">INST</span></span> старения . \n",
       "В области <span style=\"padding: 2px; border-radius: 4px; border: 1px solid #bbdefb; background: #e3f2fd\">озеленения территории городского<span style=\"vertical-align: middle; margin-left: 2px; font-size: 0.7em; color: #64b5f6;\">INST</span></span> поселения можно <span style=\"padding: 2px; border-radius: 4px; border: 1px solid #bbdefb; background: #e3f2fd\">выделить<span style=\"vertical-align: middle; margin-left: 2px; font-size: 0.7em; color: #64b5f6;\">INST</span></span> следующие основные проблемы : \n",
       "- недостаточный уровень озеленения территории городского поселения ; \n",
       "- старовозрастность существующих зеленых насаждений ; \n",
       "- наличие большого <span style=\"padding: 2px; border-radius: 4px; border: 1px solid #bbdefb; background: #e3f2fd\">количества<span style=\"vertical-align: middle; margin-left: 2px; font-size: 0.7em; color: #64b5f6;\">INST</span></span> старовозрастных опасных <span style=\"padding: 2px; border-radius: 4px; border: 1px solid #bbdefb; background: #e3f2fd\">деревьев<span style=\"vertical-align: middle; margin-left: 2px; font-size: 0.7em; color: #64b5f6;\">INST</span></span> ; \n",
       "- хаотичность <span style=\"padding: 2px; border-radius: 4px; border: 1px solid #bbdefb; background: #e3f2fd\">зеленых посадок<span style=\"vertical-align: middle; margin-left: 2px; font-size: 0.7em; color: #64b5f6;\">INST</span></span> осуществляемых населением ; \n",
       "- отсутствие системного ухода за большей частью насаждений ; \n",
       "- малое количество <span style=\"padding: 2px; border-radius: 4px; border: 1px solid #bbdefb; background: #e3f2fd\">кустарниковой декоративной<span style=\"vertical-align: middle; margin-left: 2px; font-size: 0.7em; color: #64b5f6;\">INST</span></span> растительности ; \n",
       "- малое <span style=\"padding: 2px; border-radius: 4px; border: 1px solid #bbdefb; background: #e3f2fd\">количество<span style=\"vertical-align: middle; margin-left: 2px; font-size: 0.7em; color: #64b5f6;\">INST</span></span> обустроенных надлежащим образом газонов и цветников ; \n",
       "- бурная , сорная кустарниковая растительность <span style=\"padding: 2px; border-radius: 4px; border: 1px solid #bbdefb; background: #e3f2fd\">вдоль<span style=\"vertical-align: middle; margin-left: 2px; font-size: 0.7em; color: #64b5f6;\">INST</span></span> обочин дорог улично - дорожной сети городского поселения . \n",
       "Для улучшения и поддержания состояния зеленых <span style=\"padding: 2px; border-radius: 4px; border: 1px solid #bbdefb; background: #e3f2fd\">насаждений в<span style=\"vertical-align: middle; margin-left: 2px; font-size: 0.7em; color: #64b5f6;\">INST</span></span> условиях городской <span style=\"padding: 2px; border-radius: 4px; border: 1px solid #bbdefb; background: #e3f2fd\">среды<span style=\"vertical-align: middle; margin-left: 2px; font-size: 0.7em; color: #64b5f6;\">INST</span></span> , устранения <span style=\"padding: 2px; border-radius: 4px; border: 1px solid #bbdefb; background: #e3f2fd\">аварийной ситуации<span style=\"vertical-align: middle; margin-left: 2px; font-size: 0.7em; color: #64b5f6;\">INST</span></span> , соответствия эксплуатационным требованиям <span style=\"padding: 2px; border-radius: 4px; border: 1px solid #bbdefb; background: #e3f2fd\">к<span style=\"vertical-align: middle; margin-left: 2px; font-size: 0.7em; color: #64b5f6;\">INST</span></span> объектам городского коммунального <span style=\"padding: 2px; border-radius: 4px; border: 1px solid #bbdefb; background: #e3f2fd\">хозяйства ,<span style=\"vertical-align: middle; margin-left: 2px; font-size: 0.7em; color: #64b5f6;\">INST</span></span> придания <span style=\"padding: 2px; border-radius: 4px; border: 1px solid #bbdefb; background: #e3f2fd\">зеленым<span style=\"vertical-align: middle; margin-left: 2px; font-size: 0.7em; color: #64b5f6;\">INST</span></span> насаждениям <span style=\"padding: 2px; border-radius: 4px; border: 1px solid #bbdefb; background: #e3f2fd\">надлежащего декоративного облика требуется<span style=\"vertical-align: middle; margin-left: 2px; font-size: 0.7em; color: #64b5f6;\">INST</span></span> своевременное проведение <span style=\"padding: 2px; border-radius: 4px; border: 1px solid #bbdefb; background: #e3f2fd\">работ<span style=\"vertical-align: middle; margin-left: 2px; font-size: 0.7em; color: #64b5f6;\">INST</span></span> по ремонту и содержанию зеленых насаждений на территории <span style=\"padding: 2px; border-radius: 4px; border: 1px solid #bbdefb; background: #e3f2fd\">городского<span style=\"vertical-align: middle; margin-left: 2px; font-size: 0.7em; color: #64b5f6;\">INST</span></span> поселения . \n",
       "Особое внимание следует уделять восстановлению зеленого <span style=\"padding: 2px; border-radius: 4px; border: 1px solid #bbdefb; background: #e3f2fd\">фонда путем<span style=\"vertical-align: middle; margin-left: 2px; font-size: 0.7em; color: #64b5f6;\">INST</span></span> планомерной замены <span style=\"padding: 2px; border-radius: 4px; border: 1px solid #bbdefb; background: #e3f2fd\">старовозрастных<span style=\"vertical-align: middle; margin-left: 2px; font-size: 0.7em; color: #64b5f6;\">INST</span></span> и аварийных насаждений , <span style=\"padding: 2px; border-radius: 4px; border: 1px solid #bbdefb; background: #e3f2fd\">используя<span style=\"vertical-align: middle; margin-left: 2px; font-size: 0.7em; color: #64b5f6;\">INST</span></span> крупномерный посадочный материал саженцев деревьев ценных пород и декоративных кустарников . \n",
       "Так же для решения проблем данного раздела требуется проведение мероприятий по своевременному скосу имеющихся газонов , увеличению цветников и клумб на территории города . \n",
       "Отлов безнадзорных животных \n",
       "Основной проблемой большого количества на территории городского поселения безнадзорных животных ( в основном собак ) является : \n",
       "- низкая культура населения в области содержания домашних животных ; \n",
       "- не применение механизма привлечения к ответственности хозяев животных нарушающих правила их содержания ; \n",
       "- недостаточная пропагандистская работа среди населения по содержанию домашних животных . \n",
       "Решением проблемы является применение мер административного воздействия к лицам , нарушающим правила содержания домашних животных , а так же меры по принудительному отлову бесхозяйных животных . \n",
       "Содержание ливневых водоотводных канав \n",
       "Основными проблемами не качественной работы данной системы являются : \n",
       "- многолетняя запущенность и захламленность городских водоотводных канав ; \n",
       "- отсутствие укрепительных элементов ( откосов ) ливневых водоотводных канав , что препятствует организации нормального водостока ; \n",
       "- нежелание жителей осуществлять очистку данных канав проходящих по земельным участкам , закрепленных за их домовладениями ; \n",
       "Решением данной проблемы станет : \n",
       "- поэтапное восстановление общей ливневой водоотводной системы городского поселения , а именно очистка открытых участков ливневой водоотводной канавы от мусора и поросли вручную и с помощью спец  техники ; \n",
       "- проведение работ по перекладке труб и лотков под дорогами , с соблюдением необходимых уклонов для качественной работы системы ; \n",
       "- работа с населением через предупредительные меры о необходимости своевременной очистки , не захламления ливневых канав проходящих по земельным участкам , закрепленных за их домовладениями ; \n",
       "- публикация информационных материалов по данной проблематике в средствах массовой информации . \n",
       "Не  санкционированные свалки \n",
       "За период действия программы , число не  санкционированных свалок на территории городского поселения сократилось в 3 раза . \n",
       "Между тем , их формирование продолжается . \n",
       "Причиной этого является отсутствие достаточного количества оборудованных мест для складирования мусора , отсутствие системного подхода к вывозу мусора с территории частного сектора городского поселения . \n",
       "Реестр не  санкционированных свалок приведен в таблице 1 . \n",
       "Таблица 1 \n",
       "Реестр \n",
       "не  санкционированных свалок на территории г. Судогда \n",
       "Пути решения данной проблемы : \n",
       "- регулярная ликвидация не  санкционированных свалок ; \n",
       "- увеличение количества площадок для сбора ТБО ; \n",
       "- контроль за соблюдением правил обращения с ТБО , правил благоустройства ; \n",
       "- разъяснительная работа в СМИ и др . \n",
       "Внешнее благоустройство \n",
       "Одна из задач внешнего благоустройства – повышение разнообразия и художественной выразительности застройки и открытых озелененных пространств . \n",
       "Современные жилые территории без малых архитектурных форм являются безликими и невыразительными . \n",
       "Содержание малых архитектурных форм должно предусматривать их нормальную эксплуатацию . \n",
       "Садово - парковая мебель , малые архитектурные формы и оборудование должны иметь хороший внешний вид : окрашены , содержаться в чистоте , и находится в исправном состоянии . \n",
       "Их цветовое решение должно вносить в городскую застройку жизнерадостный колорит и разнообразие . \n",
       "Для решения данной задачи необходимо разработка концепции наполнения городских улиц малыми архитектурными формами с ее последующей реализацией . \n",
       "Места общественного отдыха населения \n",
       "В настоящее время в городском поселении назрела необходимость в увеличении количества обустроенных мест общественного отдыха населения . \n",
       "Возможные пути решения это : \n",
       "- реконструкция существующих мест общественного отдыха ; \n",
       "- обустройство мест для отдыха в отдаленных от центра микрорайонах ; \n",
       "- создание обустроенных зон отдыха в городских парках , скверах , прибрежных зонах . \n",
       "Для решения этой проблемы необходимо разработать и реализовать проект обустройства мест общественного отдыха . \n",
       "Содержание автомобильных дорог и безопасность дорожного движения \n",
       "Одной из важнейших задач благоустройства городского поселения является содержание автомобильных дорог в летний и зимний периоды , а также организация безопасности дорожного движения . \n",
       "Основными проблемами являются : высокий износ пешеходных тротуаров , автомобильных дорог общего пользования , дорожных знаков , горизонтальной дорожной разметки , парковочных карманов , наличие снежных навалов на центральных улицах городского поселения и гололедица в зимний период . \n",
       "Возможные пути решения : \n",
       "- щебеночный ремонт дорожного покрытия ; \n",
       "- ремонт тротуарной сети ; \n",
       "- увеличение доли бордюрного оформления дорог и тротуаров ; \n",
       "- оборудование пешеходных переходов ограждениями ; \n",
       "- оформление дорог дорожными знаками и горизонтальной дорожной разметкой ; \n",
       "- ремонт парковочных карманов ; \n",
       "- своевременная очистка от снега улиц и тротуаров , а также подсыпка противогололедными материалами . \n",
       "Основные цели и задачи реализации Программы \n",
       "Основной целью Программы является комплексное решение проблем благоустройства , осуществление мероприятий по улучшению санитарного и эстетичного вида территории городского поселения и повышению комфортности проживания граждан . \n",
       "Основными задачами Программы являются : \n",
       "- обеспечение бесперебойной работы уличного освещения городского поселения ; \n",
       "- увеличение наружных линий уличного освещения ; уменьшение количества опасных деревьев ; \n",
       "- уменьшение количества бесхозных , бродячих животных ; обеспечение нормального функционирования ливневых водоотводных канав ; сокращение не  санкционированных свалок на территории городского поселения ; \n",
       "- установкой дополнительных мусорных урн на территории городского поселения ;</div>"
      ],
      "text/plain": [
       "<IPython.core.display.HTML object>"
      ]
     },
     "metadata": {},
     "output_type": "display_data"
    }
   ],
   "source": [
    "predict(char_cnn_model, test_loader)"
   ]
  },
  {
   "cell_type": "code",
   "execution_count": null,
   "id": "d6e05f4e",
   "metadata": {},
   "outputs": [],
   "source": []
  },
  {
   "cell_type": "code",
   "execution_count": null,
   "id": "5eee4c69",
   "metadata": {},
   "outputs": [],
   "source": []
  },
  {
   "cell_type": "code",
   "execution_count": null,
   "id": "f7db9837",
   "metadata": {},
   "outputs": [],
   "source": []
  },
  {
   "cell_type": "code",
   "execution_count": null,
   "id": "d7a3e5af",
   "metadata": {},
   "outputs": [],
   "source": []
  },
  {
   "cell_type": "code",
   "execution_count": null,
   "id": "3bca1860",
   "metadata": {},
   "outputs": [],
   "source": []
  },
  {
   "cell_type": "code",
   "execution_count": null,
   "id": "4fc4373a",
   "metadata": {},
   "outputs": [],
   "source": []
  },
  {
   "cell_type": "code",
   "execution_count": null,
   "id": "256d7c65",
   "metadata": {},
   "outputs": [],
   "source": []
  }
 ],
 "metadata": {
  "kernelspec": {
   "display_name": "Python 3",
   "language": "python",
   "name": "python3"
  },
  "language_info": {
   "codemirror_mode": {
    "name": "ipython",
    "version": 3
   },
   "file_extension": ".py",
   "mimetype": "text/x-python",
   "name": "python",
   "nbconvert_exporter": "python",
   "pygments_lexer": "ipython3",
   "version": "3.8.0"
  }
 },
 "nbformat": 4,
 "nbformat_minor": 5
}
