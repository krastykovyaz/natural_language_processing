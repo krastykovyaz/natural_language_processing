{
 "cells": [
  {
   "cell_type": "code",
   "execution_count": 1,
   "metadata": {
    "colab": {},
    "colab_type": "code",
    "id": "gEtGE2IftBTl",
    "nbpresent": {
     "id": "05eef96b-f205-471f-9fcb-1e60b52cfd98"
    }
   },
   "outputs": [],
   "source": [
    "from IPython.display import Image"
   ]
  },
  {
   "cell_type": "markdown",
   "metadata": {
    "colab_type": "text",
    "id": "ZOGIWakPtBTp"
   },
   "source": [
    "\n",
    "\n",
    "# Классификация текстов\n",
    "\n",
    "При подготовке использовались материалы Е. Черняк\n",
    "( echernyak@hse.ru )\n",
    "\n"
   ]
  },
  {
   "cell_type": "markdown",
   "metadata": {
    "colab_type": "text",
    "id": "t5R3xlu6tBTq",
    "nbpresent": {
     "id": "7cea36a3-6ea2-429e-9c00-67c753ce9251"
    }
   },
   "source": [
    "## Постановка задачи\n",
    "\n",
    "* $d \\in D$ – документы\n",
    "* $c \\in C$ – классы \n"
   ]
  },
  {
   "cell_type": "markdown",
   "metadata": {
    "colab_type": "text",
    "id": "zHfkvemGtBTr",
    "nbpresent": {
     "id": "eac454c4-e426-4dd3-9a4a-f6db2d8ddd01"
    }
   },
   "source": [
    "* Бинарная классификация: $C = \\{0, 1\\}$ \n",
    "* Многоклассовая классификация [multiclass classification]: $C = \\{0, ..., K\\}$\n",
    "* Многотемная классификация [multi-label classification]: $C = \\{0,1\\}^K$"
   ]
  },
  {
   "cell_type": "markdown",
   "metadata": {
    "colab_type": "text",
    "id": "Agob9wgltBTr",
    "nbpresent": {
     "id": "78bf75d7-dd04-4fb3-a265-5194ec6a7d7e"
    }
   },
   "source": [
    "## Примеры\n",
    "\n",
    "* Фильтрация спама: $C = \\{spam, ham\\}$ – бинарная классификация\n",
    "* Классификация по тональности: $C =  \\{neutral, positive, negative\\}$ – классификация с тремя классами\n",
    "* Рубрикация: $C \\in \\{религия, праздники, спорт, фестивали, ... \\}$ – классификация на несколько тем\n",
    "* Определение языка текста: $C \\in \\{Rus, Sr, Ukr, Bel, Kaz, Bul ... \\}$\n",
    "* Определение авторства:\n",
    "    * Этим ли автором написан текст: $ C = \\{0, 1\\}$?\n",
    "    * Кем из этих авторов написан текст: $ C = \\{a_1, a_2, a_3, ... \\}$?\n",
    "    * Пол автора: $ C = \\{f, m\\}$\n"
   ]
  },
  {
   "cell_type": "markdown",
   "metadata": {
    "colab_type": "text",
    "id": "x3QdhoS1tBTs",
    "nbpresent": {
     "id": "cd57eeab-63c7-4721-9623-d10632a121bd"
    }
   },
   "source": [
    "## Методы классификации\n"
   ]
  },
  {
   "cell_type": "markdown",
   "metadata": {
    "colab_type": "text",
    "id": "6bVbdwB_tBTs",
    "nbpresent": {
     "id": "2f4d3407-0eb5-4fed-85a2-268461295953"
    }
   },
   "source": [
    "### По правилам\n",
    "\n",
    "* Если в предложении встречается личное местоимение первого лица и глагол с окончанием женского рода, то пол автора = $f$.\n",
    "* Если доля положительно окрашенных прилагательтельных в отзыве больше доли отрицательно окрашенных прилагательных, то отзыв относится к классу $posititive$.\n"
   ]
  },
  {
   "cell_type": "markdown",
   "metadata": {
    "colab_type": "text",
    "id": "7rkE8JO2tBTt",
    "nbpresent": {
     "id": "40e2ced5-3192-48c7-b4ba-0a068b4f2c25"
    }
   },
   "source": [
    "### С использованием алгоритмов машинного обучения \n",
    "\n",
    "$ \\gamma : D \\rightarrow C$ - алгоритм классификации\n",
    "\n",
    "$({D^{train}, C^{train}})$ – обучающее множество \n",
    "\n",
    "$({D^{test}, C^{test}})$ – тестовое множество \n",
    "\n",
    "#### Основные методы\n",
    "* Метод наивного Байеса\n",
    "* Логистическая регрессия \n",
    "* Сверточные нейронные сети\n",
    "* FastText"
   ]
  },
  {
   "cell_type": "markdown",
   "metadata": {
    "colab_type": "text",
    "id": "EzeRtqt2tBTt",
    "nbpresent": {
     "id": "63107774-a12e-4893-af45-2353b2299d0a"
    }
   },
   "source": [
    "## Меры качества бинарной классификации \n",
    "\n",
    "<table>\n",
    "  <tr>\n",
    "    <th colspan=\"2\" rowspan=\"2\"></th>\n",
    "    <th colspan=\"2\">gold <br>standart</th>\n",
    "  </tr>\n",
    "  <tr>\n",
    "    <td>positive</td>\n",
    "    <td>negative</td>\n",
    "  </tr>\n",
    "  <tr>\n",
    "    <td rowspan=\"2\">classification <br>output</td>\n",
    "    <td>positive</td>\n",
    "    <td>$tp$</td>\n",
    "    <td>$fp$</td>\n",
    "  </tr>\n",
    "  <tr>\n",
    "    <td>negative</td>\n",
    "    <td>$fn$</td>\n",
    "    <td>$tn$</td>\n",
    "  </tr>\n",
    "</table>\n"
   ]
  },
  {
   "cell_type": "markdown",
   "metadata": {
    "colab_type": "text",
    "id": "-MeIEVS9tBTu",
    "nbpresent": {
     "id": "67e4f042-0f46-4a15-98a6-5865a35685bf"
    }
   },
   "source": [
    "$precision = Pr =  \\frac{tp}{tp+fp} $ – точность \n",
    "\n",
    "$recall = R = \\frac{tp}{tp+fn} $ – полнота \n",
    "\n",
    "$F_2 = \\frac{2 Pr * R}{Pr + R}$ – $F$-мера \n",
    "\n",
    "$accuracy = \\frac{tp + tn}{tp + fp + fn + tn}$ –  аккуратность  "
   ]
  },
  {
   "cell_type": "markdown",
   "metadata": {
    "colab_type": "text",
    "id": "38L12khPtBTu",
    "nbpresent": {
     "id": "569806ab-dc21-4f66-b0d6-3c9c9b1e9327"
    }
   },
   "source": [
    "## Меры качества многоклассовой классификации \n",
    "\n",
    "<table>\n",
    "  <tr>\n",
    "    <th></th>\n",
    "    <th></th>\n",
    "    <th colspan=\"3\">gold <br>standart</th>\n",
    "  </tr>\n",
    "  <tr>\n",
    "    <td></td>\n",
    "    <td></td>\n",
    "    <td>$class_1$</td>\n",
    "    <td>$class_2$</td>\n",
    "    <td>$class_3$</td>\n",
    "  </tr>\n",
    "  <tr>\n",
    "    <td rowspan=\"3\">classification <br>output</td>\n",
    "    <td>$class_1$</td>\n",
    "    <td>$tp_1$</td>\n",
    "    <td>$fp_{12}$</td>\n",
    "    <td>$fp_{13}$</td>\n",
    "  </tr>\n",
    "  <tr>\n",
    "    <td>$class_2$</td>\n",
    "    <td>$fn_{21}$</td>\n",
    "    <td>$tp_2$</td>\n",
    "    <td>$fp_{23}$</td>\n",
    "  </tr>\n",
    "  <tr>\n",
    "    <td>$class_3$</td>\n",
    "    <td>$fn_{31}$</td>\n",
    "    <td>$fn_{32}$</td>\n",
    "    <td>$tp_3$</td>\n",
    "  </tr>\n",
    "</table>\n"
   ]
  },
  {
   "cell_type": "markdown",
   "metadata": {
    "colab_type": "text",
    "id": "mu3OE9PXtBTv",
    "nbpresent": {
     "id": "0d46eda8-dd57-453c-bdb4-11d4ae4fc843"
    }
   },
   "source": [
    "Микро-усреднение:\n",
    "\n",
    "$micro-precision = micro-Pr =  \\frac{\\sum tp_i}{\\sum tp_i + \\sum fp_i} $ \n",
    "\n",
    "$micro-recall = micro-R = \\frac{\\sum tp_i}{\\sum tp_i+ \\sum fn_i } $\n",
    "\n",
    "Макро-усреднение:\n",
    "\n",
    "$macro-precision = macro-Pr =  \\frac{\\sum Pr_i}{|C|} $\n",
    "\n",
    "$macro-recall = macro-R = \\frac{\\sum R_i}{|C|} $ \n",
    "\n",
    "\n",
    "\n"
   ]
  },
  {
   "cell_type": "markdown",
   "metadata": {
    "colab_type": "text",
    "id": "yww4tWTgtBTv",
    "nbpresent": {
     "id": "2d544fab-6a78-4351-ab03-d6c1d2177805"
    }
   },
   "source": [
    "## Источники данных\n",
    "* IMDB \n",
    "* newsgroups 20\n",
    "* Reuters \n",
    "* Кинопоиск\n",
    "* Научные статьи\n",
    "* \n"
   ]
  },
  {
   "cell_type": "markdown",
   "metadata": {
    "colab_type": "text",
    "id": "ccjBcQx8tBTw",
    "nbpresent": {
     "id": "8ca7e36a-2a84-4f35-9f05-f341e5909b32"
    }
   },
   "source": [
    "## (Напоминание) Векторная модель: документ – вектор признаков \n",
    "\n",
    "* $d \\in D$ – документы\n",
    "* $w \\in V$ – словарь, всего слов |V|\n",
    "\n",
    "* традиционное представление: одно слово – одна размерность в векторной модели: $\\vec{d_i} = <f_1, ... , f_{|V|}> $\n",
    "* $f$ – компоненты вектора – могут быть:\n",
    "    * 0 и 1\n",
    "    * частотами\n",
    "    * $tf-idf$ весами\n",
    "* с использованием распределенных представлений слов [word embeddings]:\n",
    "    * покомпонентное среднее векторов слов, входящих в текст\n",
    "    * покомпонентный максимум векторов слов, входящих в текст\n",
    "* с использованием распределенных представлений текстов [doc embeddings]:\n",
    "    * doc2vec\n",
    "    * fastText\n",
    "    * снижение размерности в векторной модели, в т. ч. сингулярное разложение [singular value decomposition, SVD]"
   ]
  },
  {
   "cell_type": "markdown",
   "metadata": {
    "colab_type": "text",
    "id": "HCAfZW4ftBTw",
    "nbpresent": {
     "id": "b532b41e-400e-4c46-9f02-ea4bd6a2beae"
    }
   },
   "source": [
    "## (Напоминание) Вычисление расстояния / близости между документами \n",
    "\n",
    "Евклидово расстояние: $ dist( \\vec{d_i}, \\vec{d_j}) = \\sqrt { \\sum_{k} ( d_i^k - d_j^k)^2 }$\n",
    "\n",
    "Косинусная мера близости: $ sim( \\vec{d_i}, \\vec{d_j}) =  \\cos(\\theta )=  \\frac{ \\vec{d_i}\\cdot \\vec{d_j} }{\\| \\vec{d_i} \\|_{2}\\|\\vec{d_j} \\|_{2}}$"
   ]
  },
  {
   "cell_type": "markdown",
   "metadata": {
    "colab_type": "text",
    "id": "o_WdBoZEtBTx",
    "nbpresent": {
     "id": "383f1957-c8f8-4f47-902a-66a568214e58"
    }
   },
   "source": [
    "## Метод ближайшего соседа  [Nearest neighbor classifier]\n",
    "\n",
    "Найдем $k$ ближайших соседей (самых близких документов) для документа $d$. Посмотрим на то, каким классам относятся документы: выберем модальный класс – будем считать его классом $d$.\n",
    "\n",
    "\n",
    "\n"
   ]
  },
  {
   "cell_type": "code",
   "execution_count": 2,
   "metadata": {
    "colab": {
     "base_uri": "https://localhost:8080/",
     "height": 51
    },
    "colab_type": "code",
    "executionInfo": {
     "elapsed": 16367,
     "status": "ok",
     "timestamp": 1572942976830,
     "user": {
      "displayName": "Ilya Dimov",
      "photoUrl": "https://lh3.googleusercontent.com/a-/AAuE7mBc2MWyMgaR5I7S6OFfYmj9NOtDg8l7wm9svC64=s64",
      "userId": "12541252763825648848"
     },
     "user_tz": -180
    },
    "id": "dfvV1yWytBTy",
    "nbpresent": {
     "id": "b9ad985b-3687-465e-b5f1-5e5a8b0028a4"
    },
    "outputId": "b1bfa080-2101-452d-8a4f-a4fb7327dbc5"
   },
   "outputs": [],
   "source": [
    "\n",
    "from sklearn.datasets import fetch_20newsgroups\n",
    "\n",
    "categories = ['alt.atheism', 'soc.religion.christian', 'comp.graphics', 'sci.med']\n",
    "twenty_train = fetch_20newsgroups(subset='train', categories=categories, shuffle=True, random_state=42)"
   ]
  },
  {
   "cell_type": "code",
   "execution_count": 3,
   "metadata": {
    "colab": {
     "base_uri": "https://localhost:8080/",
     "height": 34
    },
    "colab_type": "code",
    "executionInfo": {
     "elapsed": 1119,
     "status": "ok",
     "timestamp": 1572942980161,
     "user": {
      "displayName": "Ilya Dimov",
      "photoUrl": "https://lh3.googleusercontent.com/a-/AAuE7mBc2MWyMgaR5I7S6OFfYmj9NOtDg8l7wm9svC64=s64",
      "userId": "12541252763825648848"
     },
     "user_tz": -180
    },
    "id": "fl3eW8nNtBT1",
    "nbpresent": {
     "id": "c61eae59-38c2-43dc-8b1a-03c2661a8aea"
    },
    "outputId": "827a7484-5f3a-4cc5-eee2-4c080250c9af"
   },
   "outputs": [
    {
     "data": {
      "text/plain": [
       "(2257, 35788)"
      ]
     },
     "execution_count": 3,
     "metadata": {},
     "output_type": "execute_result"
    }
   ],
   "source": [
    "from sklearn.feature_extraction.text import CountVectorizer\n",
    "count_vect = CountVectorizer()\n",
    "X_train_counts = count_vect.fit_transform(twenty_train.data)\n",
    "X_train_counts.shape"
   ]
  },
  {
   "cell_type": "code",
   "execution_count": 4,
   "metadata": {
    "colab": {},
    "colab_type": "code",
    "id": "7T6o13agtBT3",
    "nbpresent": {
     "id": "94e77975-2978-4bdc-a96b-2715d4c83194"
    }
   },
   "outputs": [],
   "source": [
    "from sklearn.neighbors import KNeighborsClassifier\n",
    "clf = KNeighborsClassifier().fit(X_train_counts, twenty_train.target)"
   ]
  },
  {
   "cell_type": "code",
   "execution_count": 5,
   "metadata": {
    "colab": {
     "base_uri": "https://localhost:8080/",
     "height": 34
    },
    "colab_type": "code",
    "executionInfo": {
     "elapsed": 1721,
     "status": "ok",
     "timestamp": 1572942999687,
     "user": {
      "displayName": "Ilya Dimov",
      "photoUrl": "https://lh3.googleusercontent.com/a-/AAuE7mBc2MWyMgaR5I7S6OFfYmj9NOtDg8l7wm9svC64=s64",
      "userId": "12541252763825648848"
     },
     "user_tz": -180
    },
    "id": "ELZOCmkmtBT4",
    "nbpresent": {
     "id": "98a6b75c-c890-4f8d-96fd-2fac84d824b8"
    },
    "outputId": "d312eee7-742d-4547-979f-2d4dce8373a8"
   },
   "outputs": [
    {
     "name": "stdout",
     "output_type": "stream",
     "text": [
      "(1502, 35788)\n"
     ]
    }
   ],
   "source": [
    "import numpy as np\n",
    "from sklearn.metrics import *\n",
    "twenty_test = fetch_20newsgroups(subset='test', categories=categories, \n",
    "                                 shuffle=True, random_state=0)\n",
    "X_test = count_vect.transform(twenty_test.data)\n",
    "print(X_test.shape)\n",
    "predicted = clf.predict(X_test)"
   ]
  },
  {
   "cell_type": "code",
   "execution_count": 7,
   "metadata": {
    "colab": {
     "base_uri": "https://localhost:8080/",
     "height": 85
    },
    "colab_type": "code",
    "executionInfo": {
     "elapsed": 360,
     "status": "ok",
     "timestamp": 1572943000690,
     "user": {
      "displayName": "Ilya Dimov",
      "photoUrl": "https://lh3.googleusercontent.com/a-/AAuE7mBc2MWyMgaR5I7S6OFfYmj9NOtDg8l7wm9svC64=s64",
      "userId": "12541252763825648848"
     },
     "user_tz": -180
    },
    "id": "lT8YgH84tBT8",
    "nbpresent": {
     "id": "37e726e5-36e8-40ec-ba41-74fe6e3613d2"
    },
    "outputId": "31f546f0-5815-4750-bdc1-a71653829b0d"
   },
   "outputs": [
    {
     "name": "stdout",
     "output_type": "stream",
     "text": [
      "acc=0.5599\n",
      "micro F1=0.5599, micro P=0.5599, micro R=0.5599\n",
      "macro F1=0.5507, macro P=0.5580, macro R=0.5963\n",
      "\n"
     ]
    }
   ],
   "source": [
    "acc = accuracy_score(predicted, twenty_test.target)\n",
    "micro_f1 = f1_score(predicted, twenty_test.target, average = 'micro')\n",
    "micro_p = precision_score(predicted, twenty_test.target, average = 'micro')\n",
    "micro_r = recall_score(predicted, twenty_test.target, average = 'micro')\n",
    "macro_f1 = f1_score(predicted, twenty_test.target, average = 'macro')\n",
    "macro_p = precision_score(predicted, twenty_test.target, average = 'macro')\n",
    "macro_r = recall_score(predicted, twenty_test.target, average = 'macro')\n",
    "print('acc={0:1.4f}'.format(acc))\n",
    "print('micro F1={0:1.4f}, micro P={1:1.4f}, micro R={2:1.4f}'.format(micro_f1, micro_p, micro_r))\n",
    "print('macro F1={0:1.4f}, macro P={1:1.4f}, macro R={2:1.4f}\\n'.format(macro_f1, macro_p, macro_r))"
   ]
  },
  {
   "cell_type": "code",
   "execution_count": 8,
   "metadata": {
    "colab": {
     "base_uri": "https://localhost:8080/",
     "height": 376
    },
    "colab_type": "code",
    "executionInfo": {
     "elapsed": 821,
     "status": "ok",
     "timestamp": 1572943002389,
     "user": {
      "displayName": "Ilya Dimov",
      "photoUrl": "https://lh3.googleusercontent.com/a-/AAuE7mBc2MWyMgaR5I7S6OFfYmj9NOtDg8l7wm9svC64=s64",
      "userId": "12541252763825648848"
     },
     "user_tz": -180
    },
    "id": "B7SQcH_EtBT-",
    "nbpresent": {
     "id": "c299e1d2-b14f-4cd9-89af-9ad4c3374247"
    },
    "outputId": "fee56f3b-c5dd-42ef-cd1f-8b6775aad7a0"
   },
   "outputs": [
    {
     "name": "stderr",
     "output_type": "stream",
     "text": [
      "/Users/a19028558/Desktop/transfer_accounts/akovyaz/learning_myself/env_school/lib/python3.8/site-packages/pandas/compat/__init__.py:97: UserWarning: Could not import the lzma module. Your installed Python is incomplete. Attempting to use lzma compression will result in a RuntimeError.\n",
      "  warnings.warn(msg)\n"
     ]
    },
    {
     "data": {
      "image/png": "[encoded data removed]",
      "text/plain": [
       "<Figure size 432x288 with 1 Axes>"
      ]
     },
     "metadata": {
      "needs_background": "light"
     },
     "output_type": "display_data"
    }
   ],
   "source": [
    "import seaborn as sns\n",
    "import matplotlib.pyplot as plt\n",
    "%matplotlib inline\n",
    "\n",
    "\n",
    "sns.heatmap(data=confusion_matrix(twenty_test.target, predicted), annot=True, fmt=\"d\", cbar=False, xticklabels=categories, yticklabels=categories)\n",
    "plt.title(\"Confusion matrix\")\n",
    "plt.show()"
   ]
  },
  {
   "cell_type": "code",
   "execution_count": 9,
   "metadata": {
    "colab": {
     "base_uri": "https://localhost:8080/",
     "height": 51
    },
    "colab_type": "code",
    "executionInfo": {
     "elapsed": 566,
     "status": "ok",
     "timestamp": 1572943007669,
     "user": {
      "displayName": "Ilya Dimov",
      "photoUrl": "https://lh3.googleusercontent.com/a-/AAuE7mBc2MWyMgaR5I7S6OFfYmj9NOtDg8l7wm9svC64=s64",
      "userId": "12541252763825648848"
     },
     "user_tz": -180
    },
    "id": "n8xPqcTjtBT_",
    "nbpresent": {
     "id": "3a71787c-d184-4cc2-a82e-04e6a9aed4dd"
    },
    "outputId": "78c00422-dd20-4999-f2fe-af56671aa037",
    "scrolled": true
   },
   "outputs": [
    {
     "name": "stdout",
     "output_type": "stream",
     "text": [
      "God is love => comp.graphics\n",
      "OpenGL on the GPU is fast => comp.graphics\n"
     ]
    }
   ],
   "source": [
    "docs_new = ['God is love', 'OpenGL on the GPU is fast']\n",
    "X_new_counts = count_vect.transform(docs_new)\n",
    "predicted = clf.predict(X_new_counts)\n",
    "\n",
    "for doc, category in zip(docs_new, predicted):\n",
    "    print('{} => {}'.format(doc, twenty_train.target_names[category]))"
   ]
  },
  {
   "cell_type": "markdown",
   "metadata": {
    "colab_type": "text",
    "id": "hZoukLz3tBUB",
    "nbpresent": {
     "id": "a57a22b2-3622-4645-88d6-397755d86f94"
    }
   },
   "source": [
    "## Метод наивного Байеса  [Multinomial naive Bayes classifier]\n",
    "\n",
    "Требуется оценить вероятность принадлежности документа $d \\in D$ классу $c \\in C$: $p(c|d)$. Каждый документ –  мешок слов, всего слов $|V|$.\n",
    "\t\n",
    "$p(c)$ – априорная вероятность класса $c$\n",
    "   \n",
    "$p(c|d)$ – апостериорная вероятность класса $c$\n",
    "\t\n",
    "\t\n",
    "\n",
    "\n"
   ]
  },
  {
   "cell_type": "markdown",
   "metadata": {
    "colab_type": "text",
    "id": "I3bqjM6PtBUC",
    "nbpresent": {
     "id": "e010b0dd-4e80-4e8c-8cab-8bfe7527d5f8"
    }
   },
   "source": [
    "$ p(c|d) = \\frac{p(d|c)p(c)}{p(d)} $"
   ]
  },
  {
   "cell_type": "markdown",
   "metadata": {
    "colab_type": "text",
    "id": "539LYkn3tBUC",
    "nbpresent": {
     "id": "41be767d-2bc0-4dcf-be7b-ee201f62f957"
    }
   },
   "source": [
    "Пусть документ $d$ описан признаками $f_1, \\dots, f_N$.\n",
    "\n",
    "$ c_{NB} = \\arg \\max _{c \\in C} p (c|d) = \\arg \\max_{c \\in C}  \\frac{p(d|c)p(c)}{p(d)} \\propto $\n",
    "\t\n",
    "$ \\propto \\arg \\max_{c \\in C} p(d|c)p(c)  = \\arg \\max_{c \\in C} p(f_1, f_2, \\dots, f_{N} | c)p(c)$"
   ]
  },
  {
   "cell_type": "markdown",
   "metadata": {
    "colab_type": "text",
    "id": "h1sp6miEtBUD",
    "nbpresent": {
     "id": "64003351-7dd8-4763-ab4d-51b962414d97"
    }
   },
   "source": [
    "### Предположение о независимости \n",
    "\n",
    "* Мешок слов: порядок слов не имеет значения\n",
    "* Условная независимость (наивное предположение): вероятности признаков $p(f_i|c_j)$ внутри класса $c_j$ независимы\n",
    "\n",
    "$p(f_1, f_2, \\dots, f_{N} | c) \\times  p(c) =   p(f_1|c) \\times p(f_2|c) \\times \\dots \\times p(f_{N}|c)  \\times p(c)$\n",
    "\n"
   ]
  },
  {
   "cell_type": "markdown",
   "metadata": {
    "colab_type": "text",
    "id": "Nsk7_kl8tBUD",
    "nbpresent": {
     "id": "1bc7f214-bbe0-4803-8bcf-3ed1724946c2"
    }
   },
   "source": [
    "$C_{NB}=\\arg \\max_{c \\in C} p(c) \\times \\prod_{1 \\le i \\le N} p(f_i|c) $"
   ]
  },
  {
   "cell_type": "markdown",
   "metadata": {
    "colab_type": "text",
    "id": "rBDZtlZ1tBUE",
    "nbpresent": {
     "id": "96a6ad03-e578-45c8-9a6e-9ebc04e1fd85"
    }
   },
   "source": [
    "Допустим, что признаки $f_i$ – слова $w_i$, а $\\texttt{positions}$ – все позиции слов в документе.\n",
    "\n",
    "\n",
    "$C_{NB} = p(c) \\times \\prod_{i \\in \\texttt{positions}} p(w_i|c) $"
   ]
  },
  {
   "cell_type": "markdown",
   "metadata": {
    "colab_type": "text",
    "id": "UDSipkjUtBUF",
    "nbpresent": {
     "id": "f6ef6595-a9f7-4fbf-b7a1-7708346cc056"
    }
   },
   "source": [
    "<img src=\"https://raw.githubusercontent.com/echernyak/ML-for-compling/d6b4f82e788cd7b365ea711db2ac4b0fc7a361d0/img/bow.png\" width=\"600\">"
   ]
  },
  {
   "cell_type": "markdown",
   "metadata": {
    "colab_type": "text",
    "id": "FwA9l32KtBUG",
    "nbpresent": {
     "id": "06f23774-9fe8-4692-9e28-f9c13fe5c9de"
    }
   },
   "source": [
    "### Обучение наивного Байесовского классификатора\n",
    "\n",
    "#### ММП оценки вероятностей:\n",
    "\t\n",
    "$ \\widehat{p_(c_j)} = \\frac{| \\{d| d \\in c_j\\} |}{|D|} $\n",
    "\t\n",
    "$ \\widehat{p(w_i | c_j)} = \\frac{\\texttt{count}(w_i, c_j)}{\\sum_{w \\in V} \\texttt{count}(w, c_j)} $\n",
    "\t\n",
    "Создаем $|C|$ мегадокументов: каждый документ = все документы в одном классе, склеенные в один мегадокумент и вычисляем частоты $w$ в мегадокументах.\n",
    "\t\n"
   ]
  },
  {
   "cell_type": "markdown",
   "metadata": {
    "colab_type": "text",
    "id": "ESMDHrfstBUG",
    "nbpresent": {
     "id": "3f2f1401-07ac-4916-aa1c-981945ddea05"
    }
   },
   "source": [
    "#### Проблема нулевых вероятностей:  \n",
    "\n",
    "$\\texttt{count}(w_i, c_j)$ может быть равно нулю. \n",
    "\n",
    "Допустим, что каждое слово встречается как минимум $\\alpha$ раз в мешке слов.\n",
    "\t\n",
    "Преобразование Лапласа: $ \\frac{+\\alpha}{+\\alpha |V|}$\n",
    "\t\n",
    "$ \\widehat{p(w_i | c_j)} = \\frac{\\texttt{count}(w_i, c_j) + \\alpha}{(\\sum_{w \\in V} \\texttt{count}(w, c_j)) + \\alpha |V| } $"
   ]
  },
  {
   "cell_type": "markdown",
   "metadata": {
    "colab_type": "text",
    "id": "QPkCYe1StBUH",
    "nbpresent": {
     "id": "00a881c0-c6df-4a02-8787-0d09e829ab6e"
    }
   },
   "source": [
    "### Пример. Тематическая классификация\n",
    "\t\n",
    "    \n",
    "\n",
    "\n",
    "<table>\n",
    "  <tr>\n",
    "    <th></th>\n",
    "    <th>документ</th>\n",
    "    <th>класс</th>\n",
    "  </tr>\n",
    "  <tr>\n",
    "    <td rowspan=\"4\">обучающее<br>множество</td>\n",
    "    <td>Chinese Beijing Chinese</td>\n",
    "    <td>c</td>\n",
    "  </tr>\n",
    "  <tr>\n",
    "    <td>Chinese Chinese Shanghai</td>\n",
    "    <td>c</td>\n",
    "  </tr>\n",
    "  <tr>\n",
    "    <td>Chinese Macao</td>\n",
    "    <td>c</td>\n",
    "  </tr>\n",
    "  <tr>\n",
    "    <td>Tokyo Japan Chinese</td>\n",
    "    <td>j</td>\n",
    "  </tr>\n",
    "  <tr>\n",
    "    <td>тестовое<br>множество</td>\n",
    "    <td>Chinese Chinese Chinese Tokyo Japan</td>\n",
    "    <td>?</td>\n",
    "  </tr>\n",
    "</table>\n",
    "\n"
   ]
  },
  {
   "cell_type": "markdown",
   "metadata": {
    "colab_type": "text",
    "id": "-Hwtqv7dtBUI",
    "nbpresent": {
     "id": "7b7fb3db-44ac-468d-8fb8-4eb14003f827"
    }
   },
   "source": [
    "\n",
    "$p(c) =\\frac{3}{4}$,$p(j) = \\frac{1}{4}$\n",
    "\n",
    "$p(\\texttt{Chinese|c)}= (5+1)/(8+6)=6/14=3/7$  \n",
    "\n",
    "$p(\\texttt{Chinese|j)}= (1+1)/(3+6)=2/9$  \n",
    "\n",
    "$p(\\texttt{Tokyo|c)}= (0+1)/(8+6)=1/14$  \n",
    "\n",
    "$p(\\texttt{Tokyo|j)}= (1+1)/(3+6)=2/9$  \n",
    "\n",
    "$p(\\texttt{Japan|c)}= (0+1)/(8+6)=1/14$  \n",
    "\n",
    "$p(\\texttt{Japan|j)}= (1+1)/(3+6)=2/9$\n"
   ]
  },
  {
   "cell_type": "markdown",
   "metadata": {
    "colab_type": "text",
    "id": "2eISnqz-tBUI",
    "nbpresent": {
     "id": "870573bf-e177-4f00-a7b8-349b5e61400e"
    }
   },
   "source": [
    "$p(c|d_5) = 3/4 \\times (3/7)^3 \\times 1/14 \\times 1/14 \\approx 0.0003$\n",
    "\n",
    "$p(j|d_5) = 1/4 \\times (2/9)^3 \\times 2/9 \\times 2/9 \\approx 0.0001$"
   ]
  },
  {
   "cell_type": "markdown",
   "metadata": {
    "colab_type": "text",
    "id": "s8iClw2qtBUJ",
    "nbpresent": {
     "id": "12abf228-4257-4146-889e-1275904ae78d"
    }
   },
   "source": [
    "### Мультиномиальный наивный Байсовский классификатор\n",
    "\n",
    "Слова в тексте распределены по мультиномиальному закону:\n",
    "\n",
    "$ p(d |c )={\\frac {(\\sum _{i}x_{i})!}{\\prod _{i}x_{i}!}}\\prod _{i}{p_{ki}}^{x_{i}} $\n"
   ]
  },
  {
   "cell_type": "code",
   "execution_count": 11,
   "metadata": {
    "colab": {},
    "colab_type": "code",
    "id": "tvksPrcZtBUJ",
    "nbpresent": {
     "id": "46282963-7130-438d-8098-6acffc43198c"
    }
   },
   "outputs": [],
   "source": [
    "from sklearn.naive_bayes import MultinomialNB\n",
    "clf = MultinomialNB().fit(X_train_counts, twenty_train.target)\n",
    "predicted = clf.predict(X_test)"
   ]
  },
  {
   "cell_type": "code",
   "execution_count": 12,
   "metadata": {
    "colab": {
     "base_uri": "https://localhost:8080/",
     "height": 85
    },
    "colab_type": "code",
    "executionInfo": {
     "elapsed": 355,
     "status": "ok",
     "timestamp": 1572943028684,
     "user": {
      "displayName": "Ilya Dimov",
      "photoUrl": "https://lh3.googleusercontent.com/a-/AAuE7mBc2MWyMgaR5I7S6OFfYmj9NOtDg8l7wm9svC64=s64",
      "userId": "12541252763825648848"
     },
     "user_tz": -180
    },
    "id": "QSSrgdfstBUL",
    "nbpresent": {
     "id": "2a5a0f46-caf9-4d1c-9fdb-0fa59ec89ccf"
    },
    "outputId": "e876a723-eea5-43a8-e488-1f9654da508e"
   },
   "outputs": [
    {
     "name": "stdout",
     "output_type": "stream",
     "text": [
      "acc=0.9341\n",
      "micro F1=0.9341, micro P=0.9341, micro R=0.9341\n",
      "macro F1=0.9330, macro P=0.9326, macro R=0.9341\n",
      "\n"
     ]
    }
   ],
   "source": [
    "acc = accuracy_score(predicted, twenty_test.target)\n",
    "micro_f1 = f1_score(predicted, twenty_test.target, average = 'micro')\n",
    "micro_p = precision_score(predicted, twenty_test.target, average = 'micro')\n",
    "micro_r = recall_score(predicted, twenty_test.target, average = 'micro')\n",
    "macro_f1 = f1_score(predicted, twenty_test.target, average = 'macro')\n",
    "macro_p = precision_score(predicted, twenty_test.target, average = 'macro')\n",
    "macro_r = recall_score(predicted, twenty_test.target, average = 'macro')\n",
    "print('acc={0:1.4f}'.format(acc))\n",
    "print('micro F1={0:1.4f}, micro P={1:1.4f}, micro R={2:1.4f}'.format(micro_f1, micro_p, micro_r))\n",
    "print('macro F1={0:1.4f}, macro P={1:1.4f}, macro R={2:1.4f}\\n'.format(macro_f1, macro_p, macro_r))"
   ]
  },
  {
   "cell_type": "code",
   "execution_count": 13,
   "metadata": {
    "colab": {
     "base_uri": "https://localhost:8080/",
     "height": 376
    },
    "colab_type": "code",
    "executionInfo": {
     "elapsed": 604,
     "status": "ok",
     "timestamp": 1572943029950,
     "user": {
      "displayName": "Ilya Dimov",
      "photoUrl": "https://lh3.googleusercontent.com/a-/AAuE7mBc2MWyMgaR5I7S6OFfYmj9NOtDg8l7wm9svC64=s64",
      "userId": "12541252763825648848"
     },
     "user_tz": -180
    },
    "id": "fy7d47QbtBUM",
    "nbpresent": {
     "id": "f96a9d45-88e5-4db8-8ebd-ea4e0b92c400"
    },
    "outputId": "bdeae0d4-d6a3-4db9-a570-2051426f3446"
   },
   "outputs": [
    {
     "data": {
      "image/png": "[encoded data removed]",
      "text/plain": [
       "<Figure size 432x288 with 1 Axes>"
      ]
     },
     "metadata": {
      "needs_background": "light"
     },
     "output_type": "display_data"
    }
   ],
   "source": [
    "sns.heatmap(data=confusion_matrix(twenty_test.target, predicted), annot=True, fmt=\"d\", cbar=False, xticklabels=categories, yticklabels=categories)\n",
    "plt.title(\"Confusion matrix\")\n",
    "plt.show()"
   ]
  },
  {
   "cell_type": "code",
   "execution_count": 14,
   "metadata": {
    "colab": {
     "base_uri": "https://localhost:8080/",
     "height": 51
    },
    "colab_type": "code",
    "executionInfo": {
     "elapsed": 368,
     "status": "ok",
     "timestamp": 1572943031060,
     "user": {
      "displayName": "Ilya Dimov",
      "photoUrl": "https://lh3.googleusercontent.com/a-/AAuE7mBc2MWyMgaR5I7S6OFfYmj9NOtDg8l7wm9svC64=s64",
      "userId": "12541252763825648848"
     },
     "user_tz": -180
    },
    "id": "dyUMDYIatBUP",
    "nbpresent": {
     "id": "2157c1a4-652c-4572-a7ae-69148359fb91"
    },
    "outputId": "037ca7d0-eb66-42e2-9231-ac3c308697cc"
   },
   "outputs": [
    {
     "name": "stdout",
     "output_type": "stream",
     "text": [
      "God is love => soc.religion.christian\n",
      "OpenGL on the GPU is fast => comp.graphics\n"
     ]
    }
   ],
   "source": [
    "docs_new = ['God is love', 'OpenGL on the GPU is fast']\n",
    "X_new_counts = count_vect.transform(docs_new)\n",
    "predicted = clf.predict(X_new_counts)\n",
    "\n",
    "for doc, category in zip(docs_new, predicted):\n",
    "    print('{} => {}'.format(doc, twenty_train.target_names[category]))"
   ]
  },
  {
   "cell_type": "markdown",
   "metadata": {
    "colab_type": "text",
    "id": "uAL5U2uPtBUS",
    "nbpresent": {
     "id": "e72d7033-acb7-481a-8b3f-3852c2b7dfe8"
    }
   },
   "source": [
    "## Логистическая регрессия (метод максимальной энтропии [MaxEnt])\n",
    "\n",
    "Требуется оценить вероятность принадлежности документа $d \\in D$ классу $c \\in C$: $p(c|d)$. Пусть заданы признаки  $f_i \\in F$ – множество признаков и  $w_i$ – их веса. \n",
    "\n",
    "Признаки могут зависеть от классов: $f_i(c,d)$  \n",
    "\n",
    "Линейная комбинация этих признаков: $\\sum_{i=1}^k w_i f_i(c,d)$.  "
   ]
  },
  {
   "cell_type": "markdown",
   "metadata": {
    "colab_type": "text",
    "id": "8Vy4ri00tBUS",
    "nbpresent": {
     "id": "0f5892c1-0ea1-40c2-aa22-555c79441426"
    }
   },
   "source": [
    "Как связана $\\sum_{i=1}^k w_i f_i(c,x)$ и $p(c|d)$?\n",
    "\t\n",
    "$p(c|d) = \\frac{1}{Z} e^{\\sum_{i=1}^k w_i f_i(c,d)},$\n",
    "\t\n",
    "где $\\frac{1}{Z} = \\frac{1}{\\sum_{c' \\in C} e^{\\sum_{i=1}^k w_i f_i(c',d)} }.$"
   ]
  },
  {
   "cell_type": "markdown",
   "metadata": {
    "colab_type": "text",
    "id": "2wXllIaBtBUT",
    "nbpresent": {
     "id": "8033e2c8-cd82-4893-b2a1-99a1710eee9f"
    }
   },
   "source": [
    "$ \\widehat{c} = \\texttt{argmax}_{c \\in C} p (c|d) = \\texttt{argmax}_{c \\in C} \\frac{e^{\\sum_{i=1}^k w_i f_i(c,d)}}{\\sum_{c' \\in C} e^{\\sum_{i=1}^k w_i f_i(c',d)}}  \\propto  \\texttt{argmax}_{c \\in C} e^{\\sum_{i=1}^k w_i f_i(c,d)}   \\propto  \\texttt{argmax}_{c \\in C} \\sum_{i=1}^k w_i f_i(c,d).  $\n"
   ]
  },
  {
   "cell_type": "markdown",
   "metadata": {
    "colab_type": "text",
    "id": "qOVfWJjZtBUU",
    "nbpresent": {
     "id": "6b3223ce-4331-46e4-be4e-b21d9f70b579"
    }
   },
   "source": [
    "### Пример. Классификация по тональности на $C = <+,->$\n",
    "\t\n",
    "Используем индикаторные признаки\n",
    "\t\n",
    "\n",
    "*... there are virtually no surprises, and the writing is second-rate. So why did I enjoy it so much? For one thing, the cast is great ...*\n",
    "\t \n",
    "\n",
    "<table>\n",
    "  <tr>\n",
    "    <th>признак</th>\n",
    "    <th>значение</th>\n",
    "    <th></th>\n",
    "    <th>вес</th>\n",
    "  </tr>\n",
    "  <tr>\n",
    "    <td>$f_1$</td>\n",
    "    <td>1</td>\n",
    "    <td> \"great\" $\\in d$ и $c=+$</td>\n",
    "    <td rowspan=\"2\">1.9</td>\n",
    "  </tr>\n",
    "  <tr>\n",
    "    <td></td>\n",
    "    <td>0</td>\n",
    "    <td>иначе</td>\n",
    "  </tr>\n",
    "  \n",
    "   <tr>\n",
    "    <td>$f_2$</td>\n",
    "    <td>1</td>\n",
    "    <td>\"second-rate\" $\\in d$ и $c=-$</td>\n",
    "    <td rowspan=\"2\">0.9</td>\n",
    "  </tr>\n",
    "  <tr>\n",
    "    <td></td>\n",
    "    <td>0</td>\n",
    "    <td>иначе</td>\n",
    "  </tr>\n",
    "\n",
    "   <tr>\n",
    "    <td>$f_3$</td>\n",
    "    <td>1</td>\n",
    "    <td>\"no\" $\\in d$ и $c=-$ </td>\n",
    "    <td rowspan=\"2\">0.7</td>\n",
    "  </tr>\n",
    "  <tr>\n",
    "    <td></td>\n",
    "    <td>0</td>\n",
    "    <td>иначе</td>\n",
    "  </tr>\n",
    "  \n",
    "   <tr>\n",
    "    <td>$f_4$</td>\n",
    "    <td>1</td>\n",
    "    <td>\"enjoy\" $\\in d$ и $c=-$ </td>\n",
    "    <td rowspan=\"2\">-0.8</td>\n",
    "  </tr>\n",
    "  <tr>\n",
    "    <td></td>\n",
    "    <td>0</td>\n",
    "    <td>иначе</td>\n",
    "  </tr>\n",
    "\n",
    "   <tr>\n",
    "    <td>$f_4$</td>\n",
    "    <td>1</td>\n",
    "    <td>\"great\" $\\in d$ и $c=-$ </td>\n",
    "    <td rowspan=\"2\">-0.6</td>\n",
    "  </tr>\n",
    "  <tr>\n",
    "    <td></td>\n",
    "    <td>0</td>\n",
    "    <td>иначе</td>\n",
    "  </tr>\n",
    "\n",
    "\n",
    "\n",
    "\n",
    "</table>\n",
    "\t\n",
    "\n",
    "\n",
    "\n",
    "\n"
   ]
  },
  {
   "cell_type": "markdown",
   "metadata": {
    "colab_type": "text",
    "id": "PcmbU0RFtBUU",
    "nbpresent": {
     "id": "9aec7311-fc8c-4b5c-a911-3e2a1c003ad2"
    }
   },
   "source": [
    "класс $+$:  $1.9 + 0 + 0 + 0 + 0 = 1.9$\n",
    "\t\n",
    "класс $-$: $0 + 0.9 + 0.7 - 0.8 - 0.6 =0.2$"
   ]
  },
  {
   "cell_type": "markdown",
   "metadata": {
    "colab_type": "text",
    "id": "JXucgjkdtBUV",
    "nbpresent": {
     "id": "5bdfab32-a273-4146-8ec5-efab1d30714b"
    }
   },
   "source": [
    "$p(+|d) = \\frac{e^{1.9}}{e^{1.9}+e^{0.2}}$\n",
    "\t\n",
    "$p(-|d) = \\frac{e^{0.2}}{e^{1.9}+e^{0.2}}$"
   ]
  },
  {
   "cell_type": "markdown",
   "metadata": {
    "colab_type": "text",
    "id": "VWOUbbnytBUW",
    "nbpresent": {
     "id": "6a6e191c-0beb-4e11-8ded-e285cbfa17c0"
    }
   },
   "source": [
    "### Поиск весов логистической регрессии\n",
    "\n",
    "Для каждой пары $(c,d)$: $ \\widehat{w} = \\texttt{argmax}_{w} \\log p(c|d) $\n",
    "\t\t\n",
    "Максимизация логарифмического правдоподобия: $L(w) =  \\sum_{j} \\log p(c_{j}|d) $\n",
    "\t\n",
    "При использовании индикаторных признаков, методы выпуклой оптимизации позволяют выбрать модель с максимальной энтропией."
   ]
  },
  {
   "cell_type": "code",
   "execution_count": 17,
   "metadata": {
    "colab": {
     "base_uri": "https://localhost:8080/",
     "height": 105
    },
    "colab_type": "code",
    "executionInfo": {
     "elapsed": 1947,
     "status": "ok",
     "timestamp": 1572943037268,
     "user": {
      "displayName": "Ilya Dimov",
      "photoUrl": "https://lh3.googleusercontent.com/a-/AAuE7mBc2MWyMgaR5I7S6OFfYmj9NOtDg8l7wm9svC64=s64",
      "userId": "12541252763825648848"
     },
     "user_tz": -180
    },
    "id": "-wAmHq1MtBUW",
    "nbpresent": {
     "id": "df977cc2-ab45-4767-9ed7-d00bf9a37d21"
    },
    "outputId": "3541c1e0-0685-4a91-ff08-01a15c4fb3ef",
    "scrolled": true
   },
   "outputs": [
    {
     "name": "stderr",
     "output_type": "stream",
     "text": [
      "/Users/a19028558/Desktop/transfer_accounts/akovyaz/learning_myself/env_school/lib/python3.8/site-packages/sklearn/linear_model/_logistic.py:763: ConvergenceWarning: lbfgs failed to converge (status=1):\n",
      "STOP: TOTAL NO. of ITERATIONS REACHED LIMIT.\n",
      "\n",
      "Increase the number of iterations (max_iter) or scale the data as shown in:\n",
      "    https://scikit-learn.org/stable/modules/preprocessing.html\n",
      "Please also refer to the documentation for alternative solver options:\n",
      "    https://scikit-learn.org/stable/modules/linear_model.html#logistic-regression\n",
      "  n_iter_i = _check_optimize_result(\n"
     ]
    }
   ],
   "source": [
    "from sklearn.linear_model import LogisticRegression\n",
    "clf = LogisticRegression().fit(X_train_counts, twenty_train.target)\n",
    "predicted = clf.predict(X_test)"
   ]
  },
  {
   "cell_type": "code",
   "execution_count": 18,
   "metadata": {
    "colab": {
     "base_uri": "https://localhost:8080/",
     "height": 85
    },
    "colab_type": "code",
    "executionInfo": {
     "elapsed": 1278,
     "status": "ok",
     "timestamp": 1572943037268,
     "user": {
      "displayName": "Ilya Dimov",
      "photoUrl": "https://lh3.googleusercontent.com/a-/AAuE7mBc2MWyMgaR5I7S6OFfYmj9NOtDg8l7wm9svC64=s64",
      "userId": "12541252763825648848"
     },
     "user_tz": -180
    },
    "id": "ZgCIqD9qtBUY",
    "nbpresent": {
     "id": "f554fe06-a094-4366-9dfe-4ddae5469f49"
    },
    "outputId": "ca8555df-b901-4ae5-f55b-c87216ac848a"
   },
   "outputs": [
    {
     "name": "stdout",
     "output_type": "stream",
     "text": [
      "acc=0.8928\n",
      "micro F1=0.8928, micro P=0.8928, micro R=0.8928\n",
      "macro F1=0.8900, macro P=0.8890, macro R=0.8962\n",
      "\n"
     ]
    }
   ],
   "source": [
    "acc = accuracy_score(predicted, twenty_test.target)\n",
    "micro_f1 = f1_score(predicted, twenty_test.target, average = 'micro')\n",
    "micro_p = precision_score(predicted, twenty_test.target, average = 'micro')\n",
    "micro_r = recall_score(predicted, twenty_test.target, average = 'micro')\n",
    "macro_f1 = f1_score(predicted, twenty_test.target, average = 'macro')\n",
    "macro_p = precision_score(predicted, twenty_test.target, average = 'macro')\n",
    "macro_r = recall_score(predicted, twenty_test.target, average = 'macro')\n",
    "print('acc={0:1.4f}'.format(acc))\n",
    "print('micro F1={0:1.4f}, micro P={1:1.4f}, micro R={2:1.4f}'.format(micro_f1, micro_p, micro_r))\n",
    "print('macro F1={0:1.4f}, macro P={1:1.4f}, macro R={2:1.4f}\\n'.format(macro_f1, macro_p, macro_r))"
   ]
  },
  {
   "cell_type": "code",
   "execution_count": 19,
   "metadata": {
    "colab": {
     "base_uri": "https://localhost:8080/",
     "height": 376
    },
    "colab_type": "code",
    "executionInfo": {
     "elapsed": 712,
     "status": "ok",
     "timestamp": 1572943052315,
     "user": {
      "displayName": "Ilya Dimov",
      "photoUrl": "https://lh3.googleusercontent.com/a-/AAuE7mBc2MWyMgaR5I7S6OFfYmj9NOtDg8l7wm9svC64=s64",
      "userId": "12541252763825648848"
     },
     "user_tz": -180
    },
    "id": "Vr5U-NMDtBUa",
    "nbpresent": {
     "id": "46b10c7c-bd00-4736-bda2-19a1196640d3"
    },
    "outputId": "3073c208-c97b-4355-ee0d-0b6e81571150"
   },
   "outputs": [
    {
     "data": {
      "image/png": "[encoded data removed]",
      "text/plain": [
       "<Figure size 432x288 with 1 Axes>"
      ]
     },
     "metadata": {
      "needs_background": "light"
     },
     "output_type": "display_data"
    }
   ],
   "source": [
    "\n",
    "sns.heatmap(data=confusion_matrix(twenty_test.target, predicted), annot=True, fmt=\"d\", cbar=False, xticklabels=categories, yticklabels=categories)\n",
    "plt.title(\"Confusion matrix\")\n",
    "plt.show()"
   ]
  },
  {
   "cell_type": "code",
   "execution_count": 20,
   "metadata": {
    "colab": {
     "base_uri": "https://localhost:8080/",
     "height": 51
    },
    "colab_type": "code",
    "executionInfo": {
     "elapsed": 371,
     "status": "ok",
     "timestamp": 1572943052621,
     "user": {
      "displayName": "Ilya Dimov",
      "photoUrl": "https://lh3.googleusercontent.com/a-/AAuE7mBc2MWyMgaR5I7S6OFfYmj9NOtDg8l7wm9svC64=s64",
      "userId": "12541252763825648848"
     },
     "user_tz": -180
    },
    "id": "F1wSNwNGtBUb",
    "nbpresent": {
     "id": "c7e27488-3904-48e5-83df-18e0b9cd395d"
    },
    "outputId": "eb96920f-c23d-48e9-f264-798cafa730a7"
   },
   "outputs": [
    {
     "name": "stdout",
     "output_type": "stream",
     "text": [
      "God is love => soc.religion.christian\n",
      "OpenGL on the GPU is fast => comp.graphics\n"
     ]
    }
   ],
   "source": [
    "predicted = clf.predict(X_new_counts)\n",
    "\n",
    "for doc, category in zip(docs_new, predicted):\n",
    "    print('{} => {}'.format(doc, twenty_train.target_names[category]))"
   ]
  },
  {
   "cell_type": "markdown",
   "metadata": {
    "colab_type": "text",
    "id": "pQV28tkQtBUd"
   },
   "source": [
    "## Метод опорных векторов [Support vector machine, SVM]\n",
    "\n",
    "\n",
    "<img src=\"https://raw.githubusercontent.com/echernyak/ML-for-compling/d6b4f82e788cd7b365ea711db2ac4b0fc7a361d0/img/svm_1.png\" width=\"200\" align='right'>\n",
    "\n",
    "\n",
    "$a(x) = sign(<w,x>+b)$ – классификатор, задающий разделяющую гиперплоскость\n",
    "\n",
    "$ \\min_{x \\in X} |<w,x>+b| = 1$ – нормировка параметров\n",
    "\n",
    "Требуется построить разделяющую гиперплоскость шириной $ \\frac{2}{||w||}$ (т.е. $2 ~ \\times $ расстояние от разделяющей гиперплоскости до ближайшего объекта обучающего множества, иначе отступ).\n",
    "\n",
    "\n",
    "Оптимизационная задача (если выборка линейно разделима):\n",
    "\n",
    "$ \\frac{1}{2} ||w||^2 \\rightarrow \\min_{w,b} $\n",
    "\n",
    "$ y_i(<w_i, x_i> + b) \\geq 1 $\n",
    "\n",
    "\n",
    "\n",
    "Kernel trick: $k(x ,x')=\\langle  x ,x' \\rangle $.\n",
    "\n",
    "\n",
    "\n",
    "Конспекты Е. Соколова: https://github.com/esokolov/ml-course-hse/blob/master/2016-fall/lecture-notes/lecture05-linclass.pdf\n",
    "\n",
    "Multi-class SVM: https://nlp.stanford.edu/IR-book/html/htmledition/multiclass-svms-1.html"
   ]
  },
  {
   "cell_type": "code",
   "execution_count": 10,
   "metadata": {
    "colab": {},
    "colab_type": "code",
    "id": "ZhP4gAvgtBUd",
    "nbpresent": {
     "id": "102b5b16-bdda-4cd3-ae68-816542e2f96e"
    }
   },
   "outputs": [],
   "source": [
    "from sklearn.svm import LinearSVC\n",
    "clf = LinearSVC().fit(X_train_counts, twenty_train.target)\n",
    "predicted = clf.predict(X_test)"
   ]
  },
  {
   "cell_type": "code",
   "execution_count": 11,
   "metadata": {
    "colab": {
     "base_uri": "https://localhost:8080/",
     "height": 85
    },
    "colab_type": "code",
    "executionInfo": {
     "elapsed": 353,
     "status": "ok",
     "timestamp": 1572943055401,
     "user": {
      "displayName": "Ilya Dimov",
      "photoUrl": "https://lh3.googleusercontent.com/a-/AAuE7mBc2MWyMgaR5I7S6OFfYmj9NOtDg8l7wm9svC64=s64",
      "userId": "12541252763825648848"
     },
     "user_tz": -180
    },
    "id": "w4i8D2UNtBUf",
    "nbpresent": {
     "id": "fbf0bb95-db7a-4154-ac63-841488734cd2"
    },
    "outputId": "5eaacd5c-9fe3-4a4a-f04b-d358fc6af352"
   },
   "outputs": [
    {
     "name": "stdout",
     "output_type": "stream",
     "text": [
      "acc=0.8908\n",
      "micro F1=0.8908, micro P=0.8908, micro R=0.8908\n",
      "macro F1=0.8880, macro P=0.8868, macro R=0.8936\n",
      "\n"
     ]
    }
   ],
   "source": [
    "acc = accuracy_score(predicted, twenty_test.target)\n",
    "micro_f1 = f1_score(predicted, twenty_test.target, average = 'micro')\n",
    "micro_p = precision_score(predicted, twenty_test.target, average = 'micro')\n",
    "micro_r = recall_score(predicted, twenty_test.target, average = 'micro')\n",
    "macro_f1 = f1_score(predicted, twenty_test.target, average = 'macro')\n",
    "macro_p = precision_score(predicted, twenty_test.target, average = 'macro')\n",
    "macro_r = recall_score(predicted, twenty_test.target, average = 'macro')\n",
    "print('acc={0:1.4f}'.format(acc))\n",
    "print('micro F1={0:1.4f}, micro P={1:1.4f}, micro R={2:1.4f}'.format(micro_f1, micro_p, micro_r))\n",
    "print('macro F1={0:1.4f}, macro P={1:1.4f}, macro R={2:1.4f}\\n'.format(macro_f1, macro_p, macro_r))"
   ]
  },
  {
   "cell_type": "code",
   "execution_count": 12,
   "metadata": {
    "colab": {
     "base_uri": "https://localhost:8080/",
     "height": 376
    },
    "colab_type": "code",
    "executionInfo": {
     "elapsed": 847,
     "status": "ok",
     "timestamp": 1572943056638,
     "user": {
      "displayName": "Ilya Dimov",
      "photoUrl": "https://lh3.googleusercontent.com/a-/AAuE7mBc2MWyMgaR5I7S6OFfYmj9NOtDg8l7wm9svC64=s64",
      "userId": "12541252763825648848"
     },
     "user_tz": -180
    },
    "id": "eovHXFpptBUg",
    "nbpresent": {
     "id": "33ce92b0-5a61-4a70-bcb8-2793f2309eff"
    },
    "outputId": "1d47b52d-26bb-48ad-c516-662a2cc615f6"
   },
   "outputs": [
    {
     "data": {
      "image/png": "[encoded data removed]",
      "text/plain": [
       "<Figure size 432x288 with 1 Axes>"
      ]
     },
     "metadata": {
      "needs_background": "light"
     },
     "output_type": "display_data"
    }
   ],
   "source": [
    "sns.heatmap(data=confusion_matrix(twenty_test.target, predicted), annot=True, fmt=\"d\", cbar=False, xticklabels=categories, yticklabels=categories)\n",
    "plt.title(\"Confusion matrix\")\n",
    "plt.show()"
   ]
  },
  {
   "cell_type": "code",
   "execution_count": 13,
   "metadata": {
    "colab": {
     "base_uri": "https://localhost:8080/",
     "height": 51
    },
    "colab_type": "code",
    "executionInfo": {
     "elapsed": 505,
     "status": "ok",
     "timestamp": 1572943057893,
     "user": {
      "displayName": "Ilya Dimov",
      "photoUrl": "https://lh3.googleusercontent.com/a-/AAuE7mBc2MWyMgaR5I7S6OFfYmj9NOtDg8l7wm9svC64=s64",
      "userId": "12541252763825648848"
     },
     "user_tz": -180
    },
    "id": "bB5v0LuptBUi",
    "nbpresent": {
     "id": "18f7039d-7212-4cdc-88b6-826b81d84dd6"
    },
    "outputId": "66f98002-6783-439e-dad1-dfe1b3b17c77"
   },
   "outputs": [
    {
     "name": "stdout",
     "output_type": "stream",
     "text": [
      "God is love => soc.religion.christian\n",
      "OpenGL on the GPU is fast => comp.graphics\n"
     ]
    }
   ],
   "source": [
    "predicted = clf.predict(X_new_counts)\n",
    "\n",
    "for doc, category in zip(docs_new, predicted):\n",
    "    print('{} => {}'.format(doc, twenty_train.target_names[category]))"
   ]
  },
  {
   "cell_type": "markdown",
   "metadata": {
    "colab_type": "text",
    "id": "WCruOLwftBUl"
   },
   "source": [
    "## Деревья решений \n",
    "\n",
    "\n",
    "\n",
    "<img src=\"https://raw.githubusercontent.com/echernyak/ML-for-compling/d6b4f82e788cd7b365ea711db2ac4b0fc7a361d0/img/decision-tree.png\" width=\"300\" align='center'>"
   ]
  },
  {
   "cell_type": "code",
   "execution_count": 14,
   "metadata": {
    "colab": {},
    "colab_type": "code",
    "id": "x9dRWKVctBUl",
    "nbpresent": {
     "id": "42ea0abb-e720-41f8-a400-b8ae4187d390"
    }
   },
   "outputs": [],
   "source": [
    "from sklearn.tree import DecisionTreeClassifier\n",
    "clf = DecisionTreeClassifier().fit(X_train_counts, twenty_train.target)\n",
    "predicted = clf.predict(X_test)"
   ]
  },
  {
   "cell_type": "code",
   "execution_count": 15,
   "metadata": {
    "colab": {
     "base_uri": "https://localhost:8080/",
     "height": 85
    },
    "colab_type": "code",
    "executionInfo": {
     "elapsed": 1090,
     "status": "ok",
     "timestamp": 1572943061419,
     "user": {
      "displayName": "Ilya Dimov",
      "photoUrl": "https://lh3.googleusercontent.com/a-/AAuE7mBc2MWyMgaR5I7S6OFfYmj9NOtDg8l7wm9svC64=s64",
      "userId": "12541252763825648848"
     },
     "user_tz": -180
    },
    "id": "bcIeFRiGtBUn",
    "nbpresent": {
     "id": "a411d89c-bc80-4fb3-bf18-162b8a5e7ea2"
    },
    "outputId": "e0fe3820-65a6-4814-91f8-f87480dc2a86"
   },
   "outputs": [
    {
     "name": "stdout",
     "output_type": "stream",
     "text": [
      "acc=0.7423\n",
      "micro F1=0.7423, micro P=0.7423, micro R=0.7423\n",
      "macro F1=0.7381, macro P=0.7386, macro R=0.7415\n",
      "\n"
     ]
    }
   ],
   "source": [
    "acc = accuracy_score(predicted, twenty_test.target)\n",
    "micro_f1 = f1_score(predicted, twenty_test.target, average = 'micro')\n",
    "micro_p = precision_score(predicted, twenty_test.target, average = 'micro')\n",
    "micro_r = recall_score(predicted, twenty_test.target, average = 'micro')\n",
    "macro_f1 = f1_score(predicted, twenty_test.target, average = 'macro')\n",
    "macro_p = precision_score(predicted, twenty_test.target, average = 'macro')\n",
    "macro_r = recall_score(predicted, twenty_test.target, average = 'macro')\n",
    "print('acc={0:1.4f}'.format(acc))\n",
    "print('micro F1={0:1.4f}, micro P={1:1.4f}, micro R={2:1.4f}'.format(micro_f1, micro_p, micro_r))\n",
    "print('macro F1={0:1.4f}, macro P={1:1.4f}, macro R={2:1.4f}\\n'.format(macro_f1, macro_p, macro_r))"
   ]
  },
  {
   "cell_type": "code",
   "execution_count": 16,
   "metadata": {
    "colab": {
     "base_uri": "https://localhost:8080/",
     "height": 376
    },
    "colab_type": "code",
    "executionInfo": {
     "elapsed": 621,
     "status": "ok",
     "timestamp": 1572943061680,
     "user": {
      "displayName": "Ilya Dimov",
      "photoUrl": "https://lh3.googleusercontent.com/a-/AAuE7mBc2MWyMgaR5I7S6OFfYmj9NOtDg8l7wm9svC64=s64",
      "userId": "12541252763825648848"
     },
     "user_tz": -180
    },
    "id": "MCxKPzRWtBUp",
    "nbpresent": {
     "id": "4b8a69d2-3214-4822-b254-f133d6493d96"
    },
    "outputId": "7a0c1b3f-6d6a-4b08-97db-f21e270d1fc1"
   },
   "outputs": [
    {
     "data": {
      "image/png": "[encoded data removed]",
      "text/plain": [
       "<Figure size 432x288 with 1 Axes>"
      ]
     },
     "metadata": {
      "needs_background": "light"
     },
     "output_type": "display_data"
    }
   ],
   "source": [
    "sns.heatmap(data=confusion_matrix(twenty_test.target, predicted), annot=True, fmt=\"d\", cbar=False, xticklabels=categories, yticklabels=categories)\n",
    "plt.title(\"Confusion matrix\")\n",
    "plt.show()"
   ]
  },
  {
   "cell_type": "markdown",
   "metadata": {
    "colab_type": "text",
    "id": "ExjpwVSftBUq",
    "nbpresent": {
     "id": "e29f0f93-d281-4fc0-b67e-dd916e677ef4"
    }
   },
   "source": [
    "# Другие методы классификации\n",
    "\n",
    "**Линейные методы**: \n",
    "\n",
    "\n",
    "**Деревья решений**:\n",
    "\n",
    "* Градиентный бустинг [Xgboost]\n",
    "* Случайный лес [Random forest]\n",
    "\n",
    "\n",
    "\n",
    "**Ансамбли классификаторов**\n",
    "\n",
    "Общая идея: слова или $n$-грамы (термы) – это признаки, тексты – объекты, т.е. матрица терм-документ\n",
    "\n"
   ]
  },
  {
   "cell_type": "markdown",
   "metadata": {
    "colab_type": "text",
    "id": "Cb5y2l4LtBUr"
   },
   "source": [
    "# Кроссвалидация\n",
    "\n",
    "![title](https://raw.githubusercontent.com/echernyak/ML-for-compling/d6b4f82e788cd7b365ea711db2ac4b0fc7a361d0/img/cv.png)"
   ]
  },
  {
   "cell_type": "markdown",
   "metadata": {
    "colab_type": "text",
    "id": "UfTaWepitBUs",
    "nbpresent": {
     "id": "d60add1c-397e-445d-a5ce-46336d6455fc"
    }
   },
   "source": [
    "# Отбор признаков\n",
    "\n"
   ]
  },
  {
   "cell_type": "markdown",
   "metadata": {
    "colab_type": "text",
    "id": "SjVZ-3cvtBUs",
    "nbpresent": {
     "id": "054d7362-44ff-472c-980f-f35d23ec4105"
    }
   },
   "source": [
    "** Веса **:\n",
    "* $tf-idf$, $\\chi^2$ для взвешивания слов\n",
    "* меры ассоциации биграм для отбора биграм: $(P)PMI$, $t-score$\n",
    "\n",
    "\n"
   ]
  },
  {
   "cell_type": "markdown",
   "metadata": {
    "colab_type": "text",
    "id": "FLRfJ1octBUt",
    "nbpresent": {
     "id": "4de51889-b6d1-4c6b-8a00-b84503175c9a"
    }
   },
   "source": [
    "** Уменьшение количества признаков **:\n",
    "* лемматизация\n",
    "* стемминг\n",
    "* удаление стоп-слов\n",
    "* пороги на частоту ($min\\_tf$)\n",
    "* пороги на документную частоту ($max\\_df$)\n",
    "\n",
    "\n"
   ]
  },
  {
   "cell_type": "markdown",
   "metadata": {
    "colab_type": "text",
    "id": "NoceblLBtBUt",
    "nbpresent": {
     "id": "363f75af-8741-456c-8e18-915ce6a95786"
    }
   },
   "source": [
    "** Признаки **:\n",
    "* $n$-грамы \n",
    "* символьные $n$-грамы  (подслова, subwords)\n",
    "* именованные сущности \n",
    "* термины\n",
    "* \"не\\_\" + слово \n",
    "* сохраним $N$ самых частых слов, остальные представим подсловами и символьными\n",
    "$n$-грамами\n",
    "\n"
   ]
  },
  {
   "cell_type": "markdown",
   "metadata": {
    "colab_type": "text",
    "id": "BHfYE2VBtBUu",
    "nbpresent": {
     "id": "94ab1cea-afe9-429a-b403-e29d374b27c3"
    }
   },
   "source": [
    "** Снижение размерности **:\n",
    "* скрытые темы в качестве признаков"
   ]
  },
  {
   "cell_type": "markdown",
   "metadata": {
    "colab_type": "text",
    "id": "iauqDeoutBUv"
   },
   "source": [
    "# Оптимизация гиперпараметров\n",
    "\n",
    "** Гиперпараметры **:\n",
    "* $n$ - длина $n$-грамы\n",
    "* пороги на частоту ($min\\_tf$)\n",
    "* пороги на документную частоту ($max\\_df$)\n",
    "* $\\alpha$ в преобразовании Лапласа \n",
    "* и др.\n",
    "\n",
    "\n",
    "![title](https://raw.githubusercontent.com/echernyak/ML-for-compling/d6b4f82e788cd7b365ea711db2ac4b0fc7a361d0/img/gs.png)"
   ]
  },
  {
   "cell_type": "markdown",
   "metadata": {
    "colab_type": "text",
    "id": "khpq7YDftBUv",
    "nbpresent": {
     "id": "d7ca5c0f-e3b9-4fb7-b824-0e70cb3c48b0"
    }
   },
   "source": [
    "# Конвеер в sklearn"
   ]
  },
  {
   "cell_type": "code",
   "execution_count": 28,
   "metadata": {
    "colab": {
     "base_uri": "https://localhost:8080/",
     "height": 306
    },
    "colab_type": "code",
    "executionInfo": {
     "elapsed": 546,
     "status": "ok",
     "timestamp": 1572943065518,
     "user": {
      "displayName": "Ilya Dimov",
      "photoUrl": "https://lh3.googleusercontent.com/a-/AAuE7mBc2MWyMgaR5I7S6OFfYmj9NOtDg8l7wm9svC64=s64",
      "userId": "12541252763825648848"
     },
     "user_tz": -180
    },
    "id": "2clXLgi3tBUw",
    "nbpresent": {
     "id": "b97b5e2f-fdad-43f5-abe7-a6715c42522e"
    },
    "outputId": "a71e7753-5215-4808-b12f-5fd1b9ae9eec"
   },
   "outputs": [
    {
     "data": {
      "text/plain": [
       "Pipeline(steps=[('vect', CountVectorizer(ngram_range=(2, 3))),\n",
       "                ('tfidf', TfidfTransformer()), ('clf', MultinomialNB())])"
      ]
     },
     "execution_count": 28,
     "metadata": {},
     "output_type": "execute_result"
    }
   ],
   "source": [
    "from sklearn.pipeline import Pipeline\n",
    "from sklearn.feature_extraction.text import TfidfTransformer\n",
    "\n",
    "text_clf = Pipeline([('vect', CountVectorizer(ngram_range = (2,3))), \n",
    "                     ('tfidf', TfidfTransformer()), \n",
    "                     ('clf', MultinomialNB())])\n",
    "text_clf"
   ]
  },
  {
   "cell_type": "code",
   "execution_count": 29,
   "metadata": {
    "colab": {},
    "colab_type": "code",
    "id": "YXTM3MO6tBUy",
    "nbpresent": {
     "id": "97f22335-4ecc-4c07-bf05-ec26675e09c4"
    }
   },
   "outputs": [],
   "source": [
    "text_clf.fit(twenty_train.data, twenty_train.target)  \n",
    "predicted = text_clf.predict(twenty_test.data)"
   ]
  },
  {
   "cell_type": "code",
   "execution_count": 30,
   "metadata": {
    "colab": {
     "base_uri": "https://localhost:8080/",
     "height": 85
    },
    "colab_type": "code",
    "executionInfo": {
     "elapsed": 8415,
     "status": "ok",
     "timestamp": 1572943074376,
     "user": {
      "displayName": "Ilya Dimov",
      "photoUrl": "https://lh3.googleusercontent.com/a-/AAuE7mBc2MWyMgaR5I7S6OFfYmj9NOtDg8l7wm9svC64=s64",
      "userId": "12541252763825648848"
     },
     "user_tz": -180
    },
    "id": "dblaEg44tBUz",
    "nbpresent": {
     "id": "1dec37c3-587c-4978-a60c-d4630dc6f0b2"
    },
    "outputId": "42b15597-6a78-4ef0-c5f6-dc99639cd54d",
    "scrolled": true
   },
   "outputs": [
    {
     "name": "stdout",
     "output_type": "stream",
     "text": [
      "acc=0.8216\n",
      "micro F1=0.8216, micro P=0.8216, micro R=0.8216\n",
      "macro F1=0.8222, macro P=0.8184, macro R=0.8481\n",
      "\n"
     ]
    }
   ],
   "source": [
    "acc = accuracy_score(predicted, twenty_test.target)\n",
    "micro_f1 = f1_score(predicted, twenty_test.target, average = 'micro')\n",
    "micro_p = precision_score(predicted, twenty_test.target, average = 'micro')\n",
    "micro_r = recall_score(predicted, twenty_test.target, average = 'micro')\n",
    "macro_f1 = f1_score(predicted, twenty_test.target, average = 'macro')\n",
    "macro_p = precision_score(predicted, twenty_test.target, average = 'macro')\n",
    "macro_r = recall_score(predicted, twenty_test.target, average = 'macro')\n",
    "print('acc={0:1.4f}'.format(acc))\n",
    "print('micro F1={0:1.4f}, micro P={1:1.4f}, micro R={2:1.4f}'.format(micro_f1, micro_p, micro_r))\n",
    "print('macro F1={0:1.4f}, macro P={1:1.4f}, macro R={2:1.4f}\\n'.format(macro_f1, macro_p, macro_r))"
   ]
  },
  {
   "cell_type": "code",
   "execution_count": 31,
   "metadata": {
    "colab": {
     "base_uri": "https://localhost:8080/",
     "height": 51
    },
    "colab_type": "code",
    "executionInfo": {
     "elapsed": 7834,
     "status": "ok",
     "timestamp": 1572943074377,
     "user": {
      "displayName": "Ilya Dimov",
      "photoUrl": "https://lh3.googleusercontent.com/a-/AAuE7mBc2MWyMgaR5I7S6OFfYmj9NOtDg8l7wm9svC64=s64",
      "userId": "12541252763825648848"
     },
     "user_tz": -180
    },
    "id": "AWPqKllFtBU0",
    "nbpresent": {
     "id": "27ad06c2-b547-4a20-9e63-296c54b5acc2"
    },
    "outputId": "21575cfb-e45f-4d4b-920c-533c471ec6e2"
   },
   "outputs": [
    {
     "name": "stdout",
     "output_type": "stream",
     "text": [
      "God is love => soc.religion.christian\n",
      "OpenGL on the GPU is fast => comp.graphics\n"
     ]
    }
   ],
   "source": [
    "predicted = clf.predict(X_new_counts)\n",
    "\n",
    "for doc, category in zip(docs_new, predicted):\n",
    "    print('{} => {}'.format(doc, twenty_train.target_names[category]))"
   ]
  },
  {
   "cell_type": "markdown",
   "metadata": {
    "colab_type": "text",
    "id": "qYFs0uMMtBU1"
   },
   "source": [
    "# Как на самом деле делается классификация по тональности \n",
    "\n",
    "* Классификация на уровне предложений: выражено ли в предложении отношение к чему-то?\n",
    "* Если да, то к чему – к каким аспектам?\n",
    "* Построение аггрегированной оценки\n",
    "\n",
    "![title](https://raw.githubusercontent.com/echernyak/ML-for-compling/d6b4f82e788cd7b365ea711db2ac4b0fc7a361d0/img/tonsum.png)"
   ]
  },
  {
   "cell_type": "markdown",
   "metadata": {
    "colab_type": "text",
    "id": "AXLyf0D1tBU2"
   },
   "source": [
    "# Классификация текстов"
   ]
  },
  {
   "cell_type": "markdown",
   "metadata": {
    "colab_type": "text",
    "id": "Uj8kHxjltBU2"
   },
   "source": [
    "## Сеть прямого распространения  для классификации текстов\n",
    "\n",
    "\n",
    "![title](https://raw.githubusercontent.com/echernyak/ML-for-compling/d6b4f82e788cd7b365ea711db2ac4b0fc7a361d0/img/mlp.png)"
   ]
  },
  {
   "cell_type": "markdown",
   "metadata": {
    "colab_type": "text",
    "id": "65bWmqdhtBU3"
   },
   "source": [
    "* $x$ - входное векторное представление текста\n",
    "* $h$ – скрытые слои с нелинейными функциями активации\n",
    "* $y$ – выходы, как правило, один $y$ соответствует одной метке класса \n",
    "\n",
    "$NN_{MLP2}(x) = y$\n",
    "\n",
    "$h_1 = g^1(xW^1 + b^1)$\n",
    "\n",
    "$h_2 = g^2(h^1 W^2 + b^2)$\n",
    "\n",
    "$y = h^2 W^3$"
   ]
  },
  {
   "cell_type": "markdown",
   "metadata": {
    "colab_type": "text",
    "id": "a0cs6taMtBU5"
   },
   "source": [
    "### Нелинейные функции активации\n",
    "\n",
    "![title](https://raw.githubusercontent.com/echernyak/ML-for-compling/d6b4f82e788cd7b365ea711db2ac4b0fc7a361d0/img/activation.png)"
   ]
  },
  {
   "cell_type": "markdown",
   "metadata": {
    "colab_type": "text",
    "id": "dWgMwdz1tBU5"
   },
   "source": [
    "### dropout-регуляризация\n",
    "\n",
    "$NN_{MLP2}(x) = y$\n",
    "\n",
    "$h_1 = g^1(xW^1 + b^1)$\n",
    "\n",
    "$m^1 \\sim Bernouli(r^1)$\n",
    "\n",
    "$\\hat{h^1} = m^1 \\odot h^1$\n",
    "\n",
    "$h_2 = g^2(\\hat{h^1} W^2 + b^2)$\n",
    "\n",
    "$m^2 \\sim Bernouli(r^2)$\n",
    "\n",
    "$\\hat{h^2} = m^2 \\odot h^2$\n",
    "\n",
    "$y =\\hat{h^2} W^3$\n",
    "\n"
   ]
  },
  {
   "cell_type": "markdown",
   "metadata": {
    "colab_type": "text",
    "id": "C0OIj9IBtBU6"
   },
   "source": [
    "### Векторное представление текста \n",
    "* BOW (bag of words) – разреженное (sparse) векторное представление текста\n",
    "* CBOW (continious bag of words)  – плотное (dense) векторное представление текста\n",
    "\n",
    "$w_i$ – слово, $d_{emb}$ – размерность эмбеддинга слова, $E_{[w_i]}$ = $\\textbf{w}_i$\n",
    "\n",
    "\n",
    "#### Padding\n",
    "Входные тексты имеют переменную длинну, что неудобно, поэтому предположим, что они все состоят из одинакового количества слов, только часть из этих слов – баластные символы pad\n",
    "\n",
    "\n",
    "#### Неизвестные слова (OOV)\n",
    "Если в тестовом множестве встретилось неизвестное слово, то можно \n",
    "* заменить его на pad;\n",
    "* заменить его на unk.  Однако в обучающем множестве unk никогда не встречается, поэтому его нужно добавить в обучающее множество искусственным образом. \n",
    "\n",
    "\n",
    "#### Word dropout - регуляризация \n",
    "Заменяем каждое слово на unk с вероятностью $\\frac{\\alpha}{|V| + \\alpha}$\n"
   ]
  },
  {
   "cell_type": "code",
   "execution_count": 17,
   "metadata": {
    "colab": {
     "base_uri": "https://localhost:8080/",
     "height": 80
    },
    "colab_type": "code",
    "executionInfo": {
     "elapsed": 5422,
     "status": "ok",
     "timestamp": 1572943076283,
     "user": {
      "displayName": "Ilya Dimov",
      "photoUrl": "https://lh3.googleusercontent.com/a-/AAuE7mBc2MWyMgaR5I7S6OFfYmj9NOtDg8l7wm9svC64=s64",
      "userId": "12541252763825648848"
     },
     "user_tz": -180
    },
    "id": "Fq7KXmwltBU6",
    "outputId": "3b26042f-a676-459d-936e-50fc6c28f81d"
   },
   "outputs": [
    {
     "name": "stdout",
     "output_type": "stream",
     "text": [
      "Requirement already satisfied: keras in /Users/a19028558/Desktop/transfer_accounts/akovyaz/learning_myself/env_school/lib/python3.8/site-packages (2.4.3)\n",
      "Requirement already satisfied: h5py in /Users/a19028558/Desktop/transfer_accounts/akovyaz/learning_myself/env_school/lib/python3.8/site-packages (from keras) (3.1.0)\n",
      "Requirement already satisfied: scipy>=0.14 in /Users/a19028558/Desktop/transfer_accounts/akovyaz/learning_myself/env_school/lib/python3.8/site-packages (from keras) (1.6.3)\n",
      "Requirement already satisfied: numpy>=1.9.1 in /Users/a19028558/Desktop/transfer_accounts/akovyaz/learning_myself/env_school/lib/python3.8/site-packages (from keras) (1.19.5)\n",
      "Requirement already satisfied: pyyaml in /Users/a19028558/Desktop/transfer_accounts/akovyaz/learning_myself/env_school/lib/python3.8/site-packages (from keras) (5.4.1)\n",
      "\u001b[33mWARNING: You are using pip version 19.2.3, however version 21.1.2 is available.\n",
      "You should consider upgrading via the 'pip install --upgrade pip' command.\u001b[0m\n"
     ]
    }
   ],
   "source": [
    "!pip install keras \n",
    "from keras.preprocessing.text import Tokenizer\n",
    "from keras.preprocessing.sequence import pad_sequences\n",
    "from keras.utils import np_utils\n",
    "from sklearn.preprocessing import LabelBinarizer, LabelEncoder\n",
    "\n",
    "from keras.layers import Embedding, Input, Conv1D, MaxPooling1D, Flatten, Dense, Dropout\n",
    "from keras.models import Model, Sequential\n",
    "\n",
    "import pandas as pd\n",
    "import numpy as np\n",
    "\n",
    "import seaborn as sns\n",
    "\n",
    "import matplotlib.pyplot as plt\n",
    "\n",
    "import random\n",
    "random.seed(1228)\n",
    "\n",
    "from sklearn.metrics import precision_score, recall_score, accuracy_score, classification_report, confusion_matrix\n",
    "\n",
    "%matplotlib inline"
   ]
  },
  {
   "cell_type": "code",
   "execution_count": 18,
   "metadata": {
    "colab": {
     "base_uri": "https://localhost:8080/",
     "height": 443
    },
    "colab_type": "code",
    "executionInfo": {
     "elapsed": 6949,
     "status": "error",
     "timestamp": 1572943078251,
     "user": {
      "displayName": "Ilya Dimov",
      "photoUrl": "https://lh3.googleusercontent.com/a-/AAuE7mBc2MWyMgaR5I7S6OFfYmj9NOtDg8l7wm9svC64=s64",
      "userId": "12541252763825648848"
     },
     "user_tz": -180
    },
    "id": "sgqQ-BvhtBU9",
    "outputId": "067b59ae-fc49-4833-a5fb-b9b4a6c5ac40"
   },
   "outputs": [
    {
     "ename": "FileNotFoundError",
     "evalue": "[Errno 2] No such file or directory: '/NLP/data/izvestya/articles_lemmatized_noSW.csv'",
     "output_type": "error",
     "traceback": [
      "\u001b[0;31m---------------------------------------------------------------------------\u001b[0m",
      "\u001b[0;31mFileNotFoundError\u001b[0m                         Traceback (most recent call last)",
      "\u001b[0;32m<ipython-input-18-3fd83e9ad7c9>\u001b[0m in \u001b[0;36m<module>\u001b[0;34m\u001b[0m\n\u001b[0;32m----> 1\u001b[0;31m \u001b[0mdata\u001b[0m \u001b[0;34m=\u001b[0m \u001b[0mpd\u001b[0m\u001b[0;34m.\u001b[0m\u001b[0mread_csv\u001b[0m\u001b[0;34m(\u001b[0m\u001b[0;34m\"/NLP/data/izvestya/articles_lemmatized_noSW.csv\"\u001b[0m\u001b[0;34m)\u001b[0m\u001b[0;34m\u001b[0m\u001b[0;34m\u001b[0m\u001b[0m\n\u001b[0m\u001b[1;32m      2\u001b[0m \u001b[0mdata\u001b[0m \u001b[0;34m=\u001b[0m \u001b[0mdata\u001b[0m\u001b[0;34m[\u001b[0m\u001b[0mdata\u001b[0m\u001b[0;34m.\u001b[0m\u001b[0mtopic\u001b[0m\u001b[0;34m.\u001b[0m\u001b[0misin\u001b[0m\u001b[0;34m(\u001b[0m\u001b[0;34m(\u001b[0m\u001b[0;34m\"Культура\"\u001b[0m\u001b[0;34m,\u001b[0m \u001b[0;34m\"Общество\"\u001b[0m\u001b[0;34m,\u001b[0m \u001b[0;34m\"Политика\"\u001b[0m\u001b[0;34m,\u001b[0m \u001b[0;34m\"Экономика\"\u001b[0m\u001b[0;34m,\u001b[0m \u001b[0;34m\"Спорт\"\u001b[0m\u001b[0;34m)\u001b[0m\u001b[0;34m)\u001b[0m\u001b[0;34m]\u001b[0m\u001b[0;34m\u001b[0m\u001b[0;34m\u001b[0m\u001b[0m\n\u001b[1;32m      3\u001b[0m \u001b[0mtrain_corpus\u001b[0m \u001b[0;34m=\u001b[0m \u001b[0mpd\u001b[0m\u001b[0;34m.\u001b[0m\u001b[0mDataFrame\u001b[0m\u001b[0;34m(\u001b[0m\u001b[0mcolumns\u001b[0m\u001b[0;34m=\u001b[0m\u001b[0mdata\u001b[0m\u001b[0;34m.\u001b[0m\u001b[0mcolumns\u001b[0m\u001b[0;34m)\u001b[0m\u001b[0;34m\u001b[0m\u001b[0;34m\u001b[0m\u001b[0m\n\u001b[1;32m      4\u001b[0m \u001b[0mtest_corpus\u001b[0m \u001b[0;34m=\u001b[0m \u001b[0mpd\u001b[0m\u001b[0;34m.\u001b[0m\u001b[0mDataFrame\u001b[0m\u001b[0;34m(\u001b[0m\u001b[0mcolumns\u001b[0m\u001b[0;34m=\u001b[0m\u001b[0mdata\u001b[0m\u001b[0;34m.\u001b[0m\u001b[0mcolumns\u001b[0m\u001b[0;34m)\u001b[0m\u001b[0;34m\u001b[0m\u001b[0;34m\u001b[0m\u001b[0m\n\u001b[1;32m      5\u001b[0m \u001b[0;34m\u001b[0m\u001b[0m\n",
      "\u001b[0;32m~/Desktop/transfer_accounts/akovyaz/learning_myself/env_school/lib/python3.8/site-packages/pandas/io/parsers.py\u001b[0m in \u001b[0;36mread_csv\u001b[0;34m(filepath_or_buffer, sep, delimiter, header, names, index_col, usecols, squeeze, prefix, mangle_dupe_cols, dtype, engine, converters, true_values, false_values, skipinitialspace, skiprows, skipfooter, nrows, na_values, keep_default_na, na_filter, verbose, skip_blank_lines, parse_dates, infer_datetime_format, keep_date_col, date_parser, dayfirst, cache_dates, iterator, chunksize, compression, thousands, decimal, lineterminator, quotechar, quoting, doublequote, escapechar, comment, encoding, dialect, error_bad_lines, warn_bad_lines, delim_whitespace, low_memory, memory_map, float_precision, storage_options)\u001b[0m\n\u001b[1;32m    608\u001b[0m     \u001b[0mkwds\u001b[0m\u001b[0;34m.\u001b[0m\u001b[0mupdate\u001b[0m\u001b[0;34m(\u001b[0m\u001b[0mkwds_defaults\u001b[0m\u001b[0;34m)\u001b[0m\u001b[0;34m\u001b[0m\u001b[0;34m\u001b[0m\u001b[0m\n\u001b[1;32m    609\u001b[0m \u001b[0;34m\u001b[0m\u001b[0m\n\u001b[0;32m--> 610\u001b[0;31m     \u001b[0;32mreturn\u001b[0m \u001b[0m_read\u001b[0m\u001b[0;34m(\u001b[0m\u001b[0mfilepath_or_buffer\u001b[0m\u001b[0;34m,\u001b[0m \u001b[0mkwds\u001b[0m\u001b[0;34m)\u001b[0m\u001b[0;34m\u001b[0m\u001b[0;34m\u001b[0m\u001b[0m\n\u001b[0m\u001b[1;32m    611\u001b[0m \u001b[0;34m\u001b[0m\u001b[0m\n\u001b[1;32m    612\u001b[0m \u001b[0;34m\u001b[0m\u001b[0m\n",
      "\u001b[0;32m~/Desktop/transfer_accounts/akovyaz/learning_myself/env_school/lib/python3.8/site-packages/pandas/io/parsers.py\u001b[0m in \u001b[0;36m_read\u001b[0;34m(filepath_or_buffer, kwds)\u001b[0m\n\u001b[1;32m    460\u001b[0m \u001b[0;34m\u001b[0m\u001b[0m\n\u001b[1;32m    461\u001b[0m     \u001b[0;31m# Create the parser.\u001b[0m\u001b[0;34m\u001b[0m\u001b[0;34m\u001b[0m\u001b[0;34m\u001b[0m\u001b[0m\n\u001b[0;32m--> 462\u001b[0;31m     \u001b[0mparser\u001b[0m \u001b[0;34m=\u001b[0m \u001b[0mTextFileReader\u001b[0m\u001b[0;34m(\u001b[0m\u001b[0mfilepath_or_buffer\u001b[0m\u001b[0;34m,\u001b[0m \u001b[0;34m**\u001b[0m\u001b[0mkwds\u001b[0m\u001b[0;34m)\u001b[0m\u001b[0;34m\u001b[0m\u001b[0;34m\u001b[0m\u001b[0m\n\u001b[0m\u001b[1;32m    463\u001b[0m \u001b[0;34m\u001b[0m\u001b[0m\n\u001b[1;32m    464\u001b[0m     \u001b[0;32mif\u001b[0m \u001b[0mchunksize\u001b[0m \u001b[0;32mor\u001b[0m \u001b[0miterator\u001b[0m\u001b[0;34m:\u001b[0m\u001b[0;34m\u001b[0m\u001b[0;34m\u001b[0m\u001b[0m\n",
      "\u001b[0;32m~/Desktop/transfer_accounts/akovyaz/learning_myself/env_school/lib/python3.8/site-packages/pandas/io/parsers.py\u001b[0m in \u001b[0;36m__init__\u001b[0;34m(self, f, engine, **kwds)\u001b[0m\n\u001b[1;32m    817\u001b[0m             \u001b[0mself\u001b[0m\u001b[0;34m.\u001b[0m\u001b[0moptions\u001b[0m\u001b[0;34m[\u001b[0m\u001b[0;34m\"has_index_names\"\u001b[0m\u001b[0;34m]\u001b[0m \u001b[0;34m=\u001b[0m \u001b[0mkwds\u001b[0m\u001b[0;34m[\u001b[0m\u001b[0;34m\"has_index_names\"\u001b[0m\u001b[0;34m]\u001b[0m\u001b[0;34m\u001b[0m\u001b[0;34m\u001b[0m\u001b[0m\n\u001b[1;32m    818\u001b[0m \u001b[0;34m\u001b[0m\u001b[0m\n\u001b[0;32m--> 819\u001b[0;31m         \u001b[0mself\u001b[0m\u001b[0;34m.\u001b[0m\u001b[0m_engine\u001b[0m \u001b[0;34m=\u001b[0m \u001b[0mself\u001b[0m\u001b[0;34m.\u001b[0m\u001b[0m_make_engine\u001b[0m\u001b[0;34m(\u001b[0m\u001b[0mself\u001b[0m\u001b[0;34m.\u001b[0m\u001b[0mengine\u001b[0m\u001b[0;34m)\u001b[0m\u001b[0;34m\u001b[0m\u001b[0;34m\u001b[0m\u001b[0m\n\u001b[0m\u001b[1;32m    820\u001b[0m \u001b[0;34m\u001b[0m\u001b[0m\n\u001b[1;32m    821\u001b[0m     \u001b[0;32mdef\u001b[0m \u001b[0mclose\u001b[0m\u001b[0;34m(\u001b[0m\u001b[0mself\u001b[0m\u001b[0;34m)\u001b[0m\u001b[0;34m:\u001b[0m\u001b[0;34m\u001b[0m\u001b[0;34m\u001b[0m\u001b[0m\n",
      "\u001b[0;32m~/Desktop/transfer_accounts/akovyaz/learning_myself/env_school/lib/python3.8/site-packages/pandas/io/parsers.py\u001b[0m in \u001b[0;36m_make_engine\u001b[0;34m(self, engine)\u001b[0m\n\u001b[1;32m   1048\u001b[0m             )\n\u001b[1;32m   1049\u001b[0m         \u001b[0;31m# error: Too many arguments for \"ParserBase\"\u001b[0m\u001b[0;34m\u001b[0m\u001b[0;34m\u001b[0m\u001b[0;34m\u001b[0m\u001b[0m\n\u001b[0;32m-> 1050\u001b[0;31m         \u001b[0;32mreturn\u001b[0m \u001b[0mmapping\u001b[0m\u001b[0;34m[\u001b[0m\u001b[0mengine\u001b[0m\u001b[0;34m]\u001b[0m\u001b[0;34m(\u001b[0m\u001b[0mself\u001b[0m\u001b[0;34m.\u001b[0m\u001b[0mf\u001b[0m\u001b[0;34m,\u001b[0m \u001b[0;34m**\u001b[0m\u001b[0mself\u001b[0m\u001b[0;34m.\u001b[0m\u001b[0moptions\u001b[0m\u001b[0;34m)\u001b[0m  \u001b[0;31m# type: ignore[call-arg]\u001b[0m\u001b[0;34m\u001b[0m\u001b[0;34m\u001b[0m\u001b[0m\n\u001b[0m\u001b[1;32m   1051\u001b[0m \u001b[0;34m\u001b[0m\u001b[0m\n\u001b[1;32m   1052\u001b[0m     \u001b[0;32mdef\u001b[0m \u001b[0m_failover_to_python\u001b[0m\u001b[0;34m(\u001b[0m\u001b[0mself\u001b[0m\u001b[0;34m)\u001b[0m\u001b[0;34m:\u001b[0m\u001b[0;34m\u001b[0m\u001b[0;34m\u001b[0m\u001b[0m\n",
      "\u001b[0;32m~/Desktop/transfer_accounts/akovyaz/learning_myself/env_school/lib/python3.8/site-packages/pandas/io/parsers.py\u001b[0m in \u001b[0;36m__init__\u001b[0;34m(self, src, **kwds)\u001b[0m\n\u001b[1;32m   1865\u001b[0m \u001b[0;34m\u001b[0m\u001b[0m\n\u001b[1;32m   1866\u001b[0m         \u001b[0;31m# open handles\u001b[0m\u001b[0;34m\u001b[0m\u001b[0;34m\u001b[0m\u001b[0;34m\u001b[0m\u001b[0m\n\u001b[0;32m-> 1867\u001b[0;31m         \u001b[0mself\u001b[0m\u001b[0;34m.\u001b[0m\u001b[0m_open_handles\u001b[0m\u001b[0;34m(\u001b[0m\u001b[0msrc\u001b[0m\u001b[0;34m,\u001b[0m \u001b[0mkwds\u001b[0m\u001b[0;34m)\u001b[0m\u001b[0;34m\u001b[0m\u001b[0;34m\u001b[0m\u001b[0m\n\u001b[0m\u001b[1;32m   1868\u001b[0m         \u001b[0;32massert\u001b[0m \u001b[0mself\u001b[0m\u001b[0;34m.\u001b[0m\u001b[0mhandles\u001b[0m \u001b[0;32mis\u001b[0m \u001b[0;32mnot\u001b[0m \u001b[0;32mNone\u001b[0m\u001b[0;34m\u001b[0m\u001b[0;34m\u001b[0m\u001b[0m\n\u001b[1;32m   1869\u001b[0m         \u001b[0;32mfor\u001b[0m \u001b[0mkey\u001b[0m \u001b[0;32min\u001b[0m \u001b[0;34m(\u001b[0m\u001b[0;34m\"storage_options\"\u001b[0m\u001b[0;34m,\u001b[0m \u001b[0;34m\"encoding\"\u001b[0m\u001b[0;34m,\u001b[0m \u001b[0;34m\"memory_map\"\u001b[0m\u001b[0;34m,\u001b[0m \u001b[0;34m\"compression\"\u001b[0m\u001b[0;34m)\u001b[0m\u001b[0;34m:\u001b[0m\u001b[0;34m\u001b[0m\u001b[0;34m\u001b[0m\u001b[0m\n",
      "\u001b[0;32m~/Desktop/transfer_accounts/akovyaz/learning_myself/env_school/lib/python3.8/site-packages/pandas/io/parsers.py\u001b[0m in \u001b[0;36m_open_handles\u001b[0;34m(self, src, kwds)\u001b[0m\n\u001b[1;32m   1360\u001b[0m         \u001b[0mLet\u001b[0m \u001b[0mthe\u001b[0m \u001b[0mreaders\u001b[0m \u001b[0mopen\u001b[0m \u001b[0mIOHanldes\u001b[0m \u001b[0mafter\u001b[0m \u001b[0mthey\u001b[0m \u001b[0mare\u001b[0m \u001b[0mdone\u001b[0m \u001b[0;32mwith\u001b[0m \u001b[0mtheir\u001b[0m \u001b[0mpotential\u001b[0m \u001b[0mraises\u001b[0m\u001b[0;34m.\u001b[0m\u001b[0;34m\u001b[0m\u001b[0;34m\u001b[0m\u001b[0m\n\u001b[1;32m   1361\u001b[0m         \"\"\"\n\u001b[0;32m-> 1362\u001b[0;31m         self.handles = get_handle(\n\u001b[0m\u001b[1;32m   1363\u001b[0m             \u001b[0msrc\u001b[0m\u001b[0;34m,\u001b[0m\u001b[0;34m\u001b[0m\u001b[0;34m\u001b[0m\u001b[0m\n\u001b[1;32m   1364\u001b[0m             \u001b[0;34m\"r\"\u001b[0m\u001b[0;34m,\u001b[0m\u001b[0;34m\u001b[0m\u001b[0;34m\u001b[0m\u001b[0m\n",
      "\u001b[0;32m~/Desktop/transfer_accounts/akovyaz/learning_myself/env_school/lib/python3.8/site-packages/pandas/io/common.py\u001b[0m in \u001b[0;36mget_handle\u001b[0;34m(path_or_buf, mode, encoding, compression, memory_map, is_text, errors, storage_options)\u001b[0m\n\u001b[1;32m    640\u001b[0m                 \u001b[0merrors\u001b[0m \u001b[0;34m=\u001b[0m \u001b[0;34m\"replace\"\u001b[0m\u001b[0;34m\u001b[0m\u001b[0;34m\u001b[0m\u001b[0m\n\u001b[1;32m    641\u001b[0m             \u001b[0;31m# Encoding\u001b[0m\u001b[0;34m\u001b[0m\u001b[0;34m\u001b[0m\u001b[0;34m\u001b[0m\u001b[0m\n\u001b[0;32m--> 642\u001b[0;31m             handle = open(\n\u001b[0m\u001b[1;32m    643\u001b[0m                 \u001b[0mhandle\u001b[0m\u001b[0;34m,\u001b[0m\u001b[0;34m\u001b[0m\u001b[0;34m\u001b[0m\u001b[0m\n\u001b[1;32m    644\u001b[0m                 \u001b[0mioargs\u001b[0m\u001b[0;34m.\u001b[0m\u001b[0mmode\u001b[0m\u001b[0;34m,\u001b[0m\u001b[0;34m\u001b[0m\u001b[0;34m\u001b[0m\u001b[0m\n",
      "\u001b[0;31mFileNotFoundError\u001b[0m: [Errno 2] No such file or directory: '/NLP/data/izvestya/articles_lemmatized_noSW.csv'"
     ]
    }
   ],
   "source": [
    "data = pd.read_csv(\"/NLP/data/izvestya/articles_lemmatized_noSW.csv\")\n",
    "data = data[data.topic.isin((\"Культура\", \"Общество\", \"Политика\", \"Экономика\", \"Спорт\"))] \n",
    "train_corpus = pd.DataFrame(columns=data.columns)\n",
    "test_corpus = pd.DataFrame(columns=data.columns)\n",
    "\n",
    "for topic in data.topic.unique():\n",
    "    corpus_sample = data[data.topic==topic].sample(110)\n",
    "    train_corpus = train_corpus.append(corpus_sample.iloc[:100, :])\n",
    "    test_corpus = test_corpus.append(corpus_sample.iloc[100:, :])"
   ]
  },
  {
   "cell_type": "code",
   "execution_count": 19,
   "metadata": {
    "colab": {},
    "colab_type": "code",
    "id": "Hvd-ISfbtBU-"
   },
   "outputs": [],
   "source": [
    "TEXT_LENGTH = 1800\n",
    "VOCABULARY_SIZE = 250000\n",
    "EMBEDDING_DIM = 300\n",
    "DIMS = 250\n",
    "MAX_FEATURES = 5000\n",
    "batch_size = 32\n",
    "\n",
    "nb_filter = 250\n",
    "filter_length = 3\n",
    "hidden_dims = 250\n",
    "nb_epoch = 10"
   ]
  },
  {
   "cell_type": "markdown",
   "metadata": {
    "colab_type": "text",
    "id": "z1E4rBKhtBU_"
   },
   "source": [
    "## Сеть прямого распространения"
   ]
  },
  {
   "cell_type": "code",
   "execution_count": 41,
   "metadata": {
    "colab": {},
    "colab_type": "code",
    "id": "TicpfGZUtBVA",
    "outputId": "0810d3aa-28b0-40c8-b1d0-0a60d6aaede2"
   },
   "outputs": [
    {
     "ename": "NameError",
     "evalue": "name 'train_corpus' is not defined",
     "output_type": "error",
     "traceback": [
      "\u001b[0;31m---------------------------------------------------------------------------\u001b[0m",
      "\u001b[0;31mNameError\u001b[0m                                 Traceback (most recent call last)",
      "\u001b[0;32m<ipython-input-41-04535e7e831c>\u001b[0m in \u001b[0;36m<module>\u001b[0;34m\u001b[0m\n\u001b[1;32m      1\u001b[0m \u001b[0mtokenizer\u001b[0m \u001b[0;34m=\u001b[0m \u001b[0mTokenizer\u001b[0m\u001b[0;34m(\u001b[0m\u001b[0mnum_words\u001b[0m\u001b[0;34m=\u001b[0m\u001b[0mMAX_FEATURES\u001b[0m\u001b[0;34m)\u001b[0m\u001b[0;34m\u001b[0m\u001b[0;34m\u001b[0m\u001b[0m\n\u001b[0;32m----> 2\u001b[0;31m \u001b[0mtokenizer\u001b[0m\u001b[0;34m.\u001b[0m\u001b[0mfit_on_texts\u001b[0m\u001b[0;34m(\u001b[0m\u001b[0mtrain_corpus\u001b[0m\u001b[0;34m.\u001b[0m\u001b[0mbody\u001b[0m\u001b[0;34m)\u001b[0m\u001b[0;34m\u001b[0m\u001b[0;34m\u001b[0m\u001b[0m\n\u001b[0m\u001b[1;32m      3\u001b[0m \u001b[0mtokenizer\u001b[0m\u001b[0;34m\u001b[0m\u001b[0;34m\u001b[0m\u001b[0m\n",
      "\u001b[0;31mNameError\u001b[0m: name 'train_corpus' is not defined"
     ]
    }
   ],
   "source": [
    "tokenizer = Tokenizer(num_words=MAX_FEATURES)\n",
    "tokenizer.fit_on_texts(train_corpus.body)\n",
    "tokenizer"
   ]
  },
  {
   "cell_type": "code",
   "execution_count": null,
   "metadata": {
    "colab": {},
    "colab_type": "code",
    "id": "I9xA5_nptBVB"
   },
   "outputs": [],
   "source": [
    "sequences = tokenizer.texts_to_sequences(train_corpus.body)\n",
    "X_train = tokenizer.sequences_to_matrix(sequences, mode='count')\n",
    "sequences = tokenizer.texts_to_sequences(test_corpus.body)\n",
    "X_test = tokenizer.sequences_to_matrix(sequences, mode='count')"
   ]
  },
  {
   "cell_type": "code",
   "execution_count": null,
   "metadata": {
    "colab": {},
    "colab_type": "code",
    "id": "YexECNd6tBVC",
    "outputId": "58c38a24-f2f3-4ec7-d05b-85f9921db568"
   },
   "outputs": [],
   "source": [
    "print('First seq:',sequences[0])\n",
    "print('First doc:',X_train[0])"
   ]
  },
  {
   "cell_type": "code",
   "execution_count": null,
   "metadata": {
    "colab": {},
    "colab_type": "code",
    "id": "6_cx8CTOtBVD",
    "outputId": "c54d5998-6bbc-4572-c433-8ea04e0345f8"
   },
   "outputs": [],
   "source": [
    "le = LabelEncoder()\n",
    "le.fit(train_corpus.topic.unique())\n",
    "y_train = np_utils.to_categorical(le.transform(train_corpus.topic), 5)\n",
    "y_test = np_utils.to_categorical(le.transform(test_corpus.topic), 5)\n",
    "y_true = le.transform(test_corpus.topic)\n",
    "print(y_train[0])"
   ]
  },
  {
   "cell_type": "code",
   "execution_count": null,
   "metadata": {
    "colab": {},
    "colab_type": "code",
    "id": "15FnlX-QtBVE",
    "outputId": "d11a565c-bfe1-48c5-f9b7-ee1f796f2dba",
    "scrolled": true
   },
   "outputs": [],
   "source": [
    "model = Sequential()\n",
    "model.add(Dense(128, input_shape=(MAX_FEATURES,), activation = 'relu'))\n",
    "model.add(Dropout(0.1))\n",
    "model.add(Dense(5, activation = 'softmax'))\n",
    "model.compile(loss='categorical_crossentropy', optimizer='adam', metrics=['accuracy'])\n",
    "model.fit(X_train, y_train, epochs=nb_epoch, batch_size=batch_size,  validation_split=0.1)"
   ]
  },
  {
   "cell_type": "code",
   "execution_count": null,
   "metadata": {
    "colab": {},
    "colab_type": "code",
    "id": "Mji2_ofbtBVF",
    "outputId": "3c219bdd-57ca-4c91-d8f1-9d1c0aff4e07"
   },
   "outputs": [],
   "source": [
    "model.summary()"
   ]
  },
  {
   "cell_type": "code",
   "execution_count": null,
   "metadata": {
    "colab": {},
    "colab_type": "code",
    "id": "G3aRUS-RtBVH",
    "outputId": "776dc1b4-dd2f-4339-a77d-632d185a0880"
   },
   "outputs": [],
   "source": [
    "y_pred = model.predict_classes(X_test)\n",
    "print(classification_report(y_true, y_pred))\n",
    "labels = test_corpus.topic.unique()\n",
    "y_true = le.inverse_transform(y_true)\n",
    "y_pred = le.inverse_transform(y_pred)\n",
    "sns.heatmap(data=confusion_matrix(y_true, y_pred, labels = labels), annot=True, fmt=\"d\", cbar=False, xticklabels=labels, yticklabels=labels)\n",
    "plt.title(\"Confusion matrix\")\n",
    "plt.show()"
   ]
  },
  {
   "cell_type": "code",
   "execution_count": null,
   "metadata": {
    "colab": {},
    "colab_type": "code",
    "id": "WuBU2xhJtBVI"
   },
   "outputs": [],
   "source": [
    "sequences = tokenizer.texts_to_sequences(train_corpus.body)\n",
    "X_train = pad_sequences(sequences, maxlen=TEXT_LENGTH)\n",
    "sequences = tokenizer.texts_to_sequences(test_corpus.body)\n",
    "X_test = pad_sequences(sequences, maxlen=TEXT_LENGTH)"
   ]
  },
  {
   "cell_type": "code",
   "execution_count": null,
   "metadata": {
    "colab": {},
    "colab_type": "code",
    "id": "ZK7JS7SctBVJ",
    "outputId": "cd0756dd-8536-488d-8869-43dd14507a8e"
   },
   "outputs": [],
   "source": [
    "X_train[0]"
   ]
  },
  {
   "cell_type": "code",
   "execution_count": null,
   "metadata": {
    "colab": {},
    "colab_type": "code",
    "id": "TxvqmLpMtBVK",
    "outputId": "a1b099e9-e4a2-4653-bb0b-49611180ed0d"
   },
   "outputs": [],
   "source": [
    "model = Sequential()\n",
    "model.add(Embedding(VOCABULARY_SIZE, EMBEDDING_DIM, input_length=TEXT_LENGTH))\n",
    "model.add(Flatten())\n",
    "model.add(Dense(5, activation = 'softmax'))\n",
    "model.compile(optimizer='adam', loss='binary_crossentropy', metrics=['acc'])\n",
    "model.compile(loss='categorical_crossentropy', optimizer='adam', metrics=['accuracy'])\n",
    "model.fit(X_train, y_train, epochs=nb_epoch, batch_size=batch_size,  validation_split=0.1)"
   ]
  },
  {
   "cell_type": "code",
   "execution_count": null,
   "metadata": {
    "colab": {},
    "colab_type": "code",
    "id": "7VAKf0bZtBVL"
   },
   "outputs": [],
   "source": [
    "y_pred = model.predict_classes(X_test)\n",
    "y_pred = le.inverse_transform(y_pred)"
   ]
  },
  {
   "cell_type": "code",
   "execution_count": null,
   "metadata": {
    "colab": {},
    "colab_type": "code",
    "id": "j1Tlvd7KtBVM",
    "outputId": "e152b179-0fd3-4f76-830f-1c0eea2fea52"
   },
   "outputs": [],
   "source": [
    "print(classification_report(y_true, y_pred))\n",
    "sns.heatmap(data=confusion_matrix(y_true, y_pred, labels = labels), annot=True, fmt=\"d\", cbar=False, xticklabels=labels, yticklabels=labels)\n",
    "plt.title(\"Confusion matrix\")\n",
    "plt.show()"
   ]
  },
  {
   "cell_type": "code",
   "execution_count": null,
   "metadata": {
    "colab": {},
    "colab_type": "code",
    "id": "BD7ubWdDtBVN",
    "outputId": "7cad54d6-2fb3-472c-cffd-dab55c455d29"
   },
   "outputs": [],
   "source": [
    "%%time\n",
    "\n",
    "import numpy as np\n",
    "emb_path = '/NLP/embeddings/wiki.ru.vec'\n",
    "\n",
    "words = []\n",
    "\n",
    "embeddings_index = {}\n",
    "f = open(emb_path)\n",
    "for line in f:\n",
    "    values = line.split()\n",
    "    if len(values) == 301:\n",
    "        word = values[0]\n",
    "        words.append(word)\n",
    "        coefs = np.asarray(values[1:], dtype='float32')\n",
    "        embeddings_index[word] = coefs\n",
    "f.close()"
   ]
  },
  {
   "cell_type": "code",
   "execution_count": null,
   "metadata": {
    "colab": {},
    "colab_type": "code",
    "id": "McYKja98tBVO",
    "outputId": "ca5eb771-c1cd-4cae-da05-ec748ef0fcb8"
   },
   "outputs": [],
   "source": [
    "print(len(embeddings_index))"
   ]
  },
  {
   "cell_type": "code",
   "execution_count": null,
   "metadata": {
    "colab": {},
    "colab_type": "code",
    "id": "gwD7RWjqtBVP",
    "outputId": "88b51855-e1a9-45de-f6e5-76940fbfb087"
   },
   "outputs": [],
   "source": [
    "word_index = tokenizer.word_index\n",
    "len(word_index)"
   ]
  },
  {
   "cell_type": "code",
   "execution_count": null,
   "metadata": {
    "colab": {},
    "colab_type": "code",
    "id": "D7MRjw71tBVR"
   },
   "outputs": [],
   "source": [
    "embedding_matrix = np.zeros((len(word_index) + 1, EMBEDDING_DIM))\n",
    "for word, i in word_index.items():\n",
    "    embedding_vector = embeddings_index.get(word)\n",
    "    if embedding_vector is not None:\n",
    "        # words not found in embedding index will be all-zeros.\n",
    "        embedding_matrix[i] = embedding_vector"
   ]
  },
  {
   "cell_type": "code",
   "execution_count": null,
   "metadata": {
    "colab": {},
    "colab_type": "code",
    "id": "X9x5dzDqtBVS",
    "outputId": "f3b91f18-0310-450b-8db4-789a4a7c3694"
   },
   "outputs": [],
   "source": [
    "model = Sequential()\n",
    "model.add(Embedding(len(word_index) + 1,\n",
    "                            EMBEDDING_DIM,\n",
    "                            weights=[embedding_matrix],\n",
    "                            input_length=TEXT_LENGTH,\n",
    "                            trainable=False))\n",
    "model.add(Flatten())\n",
    "model.add(Dense(5, activation = 'softmax'))\n",
    "model.compile(optimizer='adam', loss='binary_crossentropy', metrics=['acc'])\n",
    "model.compile(loss='categorical_crossentropy', optimizer='adam', metrics=['accuracy'])\n",
    "model.fit(X_train, y_train, epochs=nb_epoch, batch_size=batch_size,  validation_split=0.1)\n"
   ]
  },
  {
   "cell_type": "code",
   "execution_count": null,
   "metadata": {
    "colab": {},
    "colab_type": "code",
    "id": "WagAmDmEtBVT"
   },
   "outputs": [],
   "source": [
    "y_pred = model.predict_classes(X_test)\n",
    "y_pred = le.inverse_transform(y_pred)"
   ]
  },
  {
   "cell_type": "code",
   "execution_count": null,
   "metadata": {
    "colab": {},
    "colab_type": "code",
    "id": "nlQT0f_TtBVV",
    "outputId": "10d0d982-e0df-494e-9231-281fb23f6031"
   },
   "outputs": [],
   "source": [
    "print(classification_report(y_true, y_pred))\n",
    "sns.heatmap(data=confusion_matrix(y_true, y_pred, labels = labels), annot=True, fmt=\"d\", cbar=False, xticklabels=labels, yticklabels=labels)\n",
    "plt.title(\"Confusion matrix\")\n",
    "plt.show()"
   ]
  },
  {
   "cell_type": "markdown",
   "metadata": {
    "colab_type": "text",
    "id": "PYDV4xTItBVX"
   },
   "source": [
    "## Сверточные нейронные сети [Convolutional neural networks, CNN]\n",
    "\n",
    "* Заимствованы из области компьютерного зрения\n",
    "* Пик популярности пришелся на 2014 (до +10% аккуратности в задачах классификации), со временем были вытеснены рекуррентными нейронными сетями \n",
    "* Помогают справиться  с проблемой переменной длины входов (CNN VS window-based NN)"
   ]
  },
  {
   "cell_type": "markdown",
   "metadata": {
    "colab_type": "text",
    "id": "abbF8CYBtBVY"
   },
   "source": [
    "### Слой свертки\n",
    "\n",
    "#### Фильтр [filter]:\n",
    "* $w_{1,n}$ – последовательность слов, $k$  – размер окна\n",
    "* $w_i$ , $d_{emb}$ – размерность эмбеддинга слова,  $\\textbf{w}_i \\in \\mathbb{R}^{d_{emb}} $\n",
    "* $\\textbf{x}_i = [\\textbf{w}_{i}, \\textbf{w}_{i+1}, \\ldots, \\textbf{w}_{i+k-1}]$, $\\textbf{x}_i \\in \\mathbb{R}^{k d_{emb}}$\n",
    "\n",
    "Фильтр: $p_i = g(\\textbf{x}_i  u)$, $p_i \\in \\mathbb{R}$, $u \\in \\mathbb{R}^{k d_{emb}}$\n",
    "\n",
    "\n",
    "![title](https://raw.githubusercontent.com/echernyak/ML-for-compling/d6b4f82e788cd7b365ea711db2ac4b0fc7a361d0/img/cnn1.png)\n",
    "\n",
    "\n",
    "Преобразуем каждое входное окно, но пока размерность входа не уменьшается!"
   ]
  },
  {
   "cell_type": "markdown",
   "metadata": {
    "colab_type": "text",
    "id": "F0PNKE3rtBVY"
   },
   "source": [
    "#### Слой субдискретизации (пулинга, [pooling])\n",
    "\n",
    "* $h_i$ – выходные значения фильтра\n",
    "\n",
    "$\\max$-пулинг:\t$c = \\max_i h_i$\n",
    "\n",
    "\n",
    "![title](https://raw.githubusercontent.com/echernyak/ML-for-compling/d6b4f82e788cd7b365ea711db2ac4b0fc7a361d0/img/cnn2.png)\n",
    "\n",
    "* Выбираем самый важный признак из полученных на предыдущем шаге \n",
    "* Можем использовать и $\\min$, и усреднение\n",
    "\n"
   ]
  },
  {
   "cell_type": "markdown",
   "metadata": {
    "colab_type": "text",
    "id": "WFudFi7StBVa"
   },
   "source": [
    "### Классификатор на основе сверточной сети\n",
    "\n",
    "* $y \\in [0,1] $ - истинные значения\n",
    "* $\\widehat{y} = c$ - предсказанные значения\n",
    "\n",
    "![title](https://raw.githubusercontent.com/echernyak/ML-for-compling/d6b4f82e788cd7b365ea711db2ac4b0fc7a361d0/img/cnn3.png)\n",
    "\n",
    "Для обучения сверточной сети можно использовать обычный алгоритм распространения ошибки\n",
    "\n",
    "Одномерные фильтры – это сильное ограничение. Что делать, если $c=0.5$?"
   ]
  },
  {
   "cell_type": "markdown",
   "metadata": {
    "colab_type": "text",
    "id": "2114aEIdtBVa"
   },
   "source": [
    "#### Многомерные фильтры\n",
    "\n",
    "Используем $\\textit{l}$ разных фильтров: $u_{1}, \\ldots, u_{\\textit{l}}$: \n",
    "\n",
    "$\\textbf{x}_i = [\\textbf{w}_{i}, \\textbf{w}_{i+1}, \\ldots, \\textbf{w}_{i+k-1}]$\n",
    "\n",
    "$\\textbf{p}_i = g(\\textbf{x}_i \\cdot  U+b)$\n",
    "\n",
    "$\\textbf{p}_i \\in \\mathbb{R}^{\\textit{l}} $, $\\textbf{x}_i \\in \\mathbb{R}^{k d_{emb}}$, $U \\in \\mathbb{R}^{k d_{emb} \\times \\textit{l}}$, $b \\in \\mathbb{R}^{\\textit{l}} $\n",
    "\n",
    "![title](https://raw.githubusercontent.com/echernyak/ML-for-compling/d6b4f82e788cd7b365ea711db2ac4b0fc7a361d0/img/cnn4.png)\n",
    "\n",
    "\n",
    "$\\max$-пулинг:\t$c_j = \\max_i h_{i,j}, j \\in [0,\\textit{l}]$\n"
   ]
  },
  {
   "cell_type": "markdown",
   "metadata": {
    "colab_type": "text",
    "id": "x_y6LPGutBVb"
   },
   "source": [
    "#### Шаг окна \n",
    "Можно использовать непересекающиеся окна, чтобы уменьшить объем вычисления\n",
    "\n",
    "![title](https://raw.githubusercontent.com/echernyak/ML-for-compling/d6b4f82e788cd7b365ea711db2ac4b0fc7a361d0/img/cnn5.png)"
   ]
  },
  {
   "cell_type": "markdown",
   "metadata": {
    "colab_type": "text",
    "id": "GXLC_V87tBVb"
   },
   "source": [
    "### Как выбирать вектора слов? \n",
    "* Случайная инициализация (если нет обученных моделей word2vec, GloVe)\n",
    "* word2vec, GloVe без обновления\n",
    "* word2vec, GloVe c обновлением на каждой эпохе (увеличивается количество параметров!)\n",
    "* Несколько каналов: копируем два входа и\n",
    "    * на один подаем word2vec и не обновляем эти входы во время обучения, на второй подаем word2vec и обновляем эти входы во время обучения\n",
    "    * на один вход подаем word2vec, на второй – GloVe"
   ]
  },
  {
   "cell_type": "markdown",
   "metadata": {
    "colab_type": "text",
    "id": "IP8j3AnCtBVb"
   },
   "source": [
    "### Как использовать pad?\n",
    "\n",
    "[[мое первое короткое предложение], [второе очень длинное предложение, которое никогда не заканчивается], [третье предложение]]\n",
    "\n",
    "* Неэффективный способ: одно предложение – одна эпоха\n",
    "* Окружить все предложения баластными символами pad и сделать их одной длины\n",
    "* Надо убедиться, что $\\max$-пулинг не выберет значения, соответствующие pad\n",
    "* Надо убрать выбросы, то есть, супер-длинные предложения, возникшие, например, из-за ошибок сегментатора\n"
   ]
  },
  {
   "cell_type": "markdown",
   "metadata": {
    "colab_type": "text",
    "id": "rsuIraPVtBVc"
   },
   "source": [
    "## Классификация текстов с помощью CNN\n",
    "\n",
    "\n",
    "\n",
    "![title](https://raw.githubusercontent.com/echernyak/ML-for-compling/d6b4f82e788cd7b365ea711db2ac4b0fc7a361d0/img/cnn6.png)\n",
    "\n",
    "Zhang, Y., & Wallace, B. A Sensitivity Analysis of (and Practitioners' Guide to) Convolutional Neural Networks for Sentence Classification. 2015 "
   ]
  },
  {
   "cell_type": "markdown",
   "metadata": {
    "colab_type": "text",
    "id": "0tVdkFw4tBVd"
   },
   "source": [
    "![title](https://raw.githubusercontent.com/echernyak/ML-for-compling/d6b4f82e788cd7b365ea711db2ac4b0fc7a361d0/img/cnn7.png)\n",
    "\n",
    "Kim Y. Convolutional Neural Networks for Sentence Classification. 2014"
   ]
  },
  {
   "cell_type": "markdown",
   "metadata": {},
   "source": [
    "## Современные модели\n",
    "\n",
    "emb + bilstm + softmax\n",
    "![image](https://miro.medium.com/max/2700/1*QBrVVvYps5zo6QtBRRq4fA.png)"
   ]
  },
  {
   "cell_type": "markdown",
   "metadata": {
    "colab_type": "text",
    "id": "WplZgOjOtBVe"
   },
   "source": [
    "В 2018 году SOTA-модель для текстовой классификации - ULMFiT. \n",
    "Идея: \n",
    "1. Предобучаем языковую модель на большом корпусе\n",
    "2. Дообучаем языковую модель на корпусе нашей задачи\n",
    "3. Меняем последние слои, и обучаем модель для другой задачи (например, задачи классификации), постепенно размораживая веса\n",
    "\n",
    "\n",
    "![title](https://datawarrior.files.wordpress.com/2018/07/image_9.png?w=1400)\n",
    "\n",
    "Howard, Ruder. Universal Language Model Fine-tuning for Text Classification. 2018"
   ]
  },
  {
   "cell_type": "markdown",
   "metadata": {
    "colab_type": "text",
    "collapsed": true,
    "id": "rK8Ho1wEuJhO"
   },
   "source": [
    "В 2019 году SOTA-модель - XLNet. \n",
    "\n",
    "Новая языковая модель, исправляющая проблемы BERT:\n",
    "\n",
    "BERT предобучается на двух задачах. Одна из них - заполнение пропусков по предложению \"Я пришел в [MASK] и купил [MASK]\".  10% всех слов при обучении маскируются. Но в режиме инференса масок нет, это неправильно.\n",
    "XLNet обучается на всех возможных перестановках предложения, для каждой перестановки предсказывая определенный токен по всем предыдущим.\n",
    "\n",
    "\n",
    "\n",
    "![title](https://hsto.org/webt/yq/mb/fa/yqmbfas9mcnfkciq6pmew_-4hh8.png)\n",
    "\n",
    "![title](https://hsto.org/webt/hs/fb/u-/hsfbu-ufj-9e-me1agkauoa389c.png)\n",
    "\n",
    "Yang et al., XLNet: Generalized Autoregressive Pretraining\n",
    "for Language Understanding. 2019\n"
   ]
  },
  {
   "cell_type": "markdown",
   "metadata": {
    "colab": {},
    "colab_type": "code",
    "id": "hLK8lCW8tBVe"
   },
   "source": [
    "Код для семинара:\n",
    "https://colab.research.google.com/drive/1woA9rMcNHbf6wHOEvRrxrRIYgbPAYcwP"
   ]
  },
  {
   "cell_type": "code",
   "execution_count": null,
   "metadata": {},
   "outputs": [],
   "source": []
  }
 ],
 "metadata": {
  "anaconda-cloud": {},
  "colab": {
   "collapsed_sections": [
    "ESMDHrfstBUG",
    "a0cs6taMtBU5",
    "dWgMwdz1tBU5",
    "abbF8CYBtBVY",
    "F0PNKE3rtBVY",
    "WFudFi7StBVa",
    "2114aEIdtBVa",
    "x_y6LPGutBVb",
    "GXLC_V87tBVb",
    "IP8j3AnCtBVb"
   ],
   "name": "Copy of Copy of text_classification_2019.ipynb",
   "provenance": [
    {
     "file_id": "1srkg9Uy7yiPh2m6Oo4ji69gA55CRwUts",
     "timestamp": 1573402387871
    },
    {
     "file_id": "16RslZFg5MdTws8RIOypL7EQZ7s6i6DKG",
     "timestamp": 1573402280691
    }
   ]
  },
  "kernelspec": {
   "display_name": "Python 3",
   "language": "python",
   "name": "python3"
  },
  "language_info": {
   "codemirror_mode": {
    "name": "ipython",
    "version": 3
   },
   "file_extension": ".py",
   "mimetype": "text/x-python",
   "name": "python",
   "nbconvert_exporter": "python",
   "pygments_lexer": "ipython3",
   "version": "3.8.0"
  },
  "nbpresent": {
   "slides": {
    "00372d3b-15f3-4e74-b24c-1a130beba28f": {
     "id": "00372d3b-15f3-4e74-b24c-1a130beba28f",
     "prev": "b723c1ab-e26c-4b5c-bb94-0c0ebe5934b2",
     "regions": {
      "73eefab1-498f-4c0a-8945-c3985199d3df": {
       "attrs": {
        "height": 0.8,
        "width": 0.8,
        "x": 0.1,
        "y": 0.1
       },
       "content": {
        "cell": "b97b5e2f-fdad-43f5-abe7-a6715c42522e",
        "part": "whole"
       },
       "id": "73eefab1-498f-4c0a-8945-c3985199d3df"
      }
     }
    },
    "00eacb86-9392-4b45-a4f9-a8388f7ddc3a": {
     "id": "00eacb86-9392-4b45-a4f9-a8388f7ddc3a",
     "prev": "f8fecfcd-1165-4c8d-82f7-eb1dff045319",
     "regions": {
      "4ed7d6f9-9c33-45ae-b6fb-43d6df504d08": {
       "attrs": {
        "height": 0.8,
        "width": 0.8,
        "x": 0.1,
        "y": 0.1
       },
       "content": {
        "cell": "06f23774-9fe8-4692-9e28-f9c13fe5c9de",
        "part": "whole"
       },
       "id": "4ed7d6f9-9c33-45ae-b6fb-43d6df504d08"
      }
     }
    },
    "03d508a5-6df0-41c5-852c-f2d2c4ae978d": {
     "id": "03d508a5-6df0-41c5-852c-f2d2c4ae978d",
     "prev": "49d05ed2-2ae7-440c-bb7b-6d1b4355a663",
     "regions": {
      "a4fcf739-d162-428f-bc4c-54913a233c21": {
       "attrs": {
        "height": 0.8,
        "width": 0.8,
        "x": 0.1,
        "y": 0.1
       },
       "content": {
        "cell": "78bf75d7-dd04-4fb3-a265-5194ec6a7d7e",
        "part": "whole"
       },
       "id": "a4fcf739-d162-428f-bc4c-54913a233c21"
      }
     }
    },
    "08417df0-8a8b-48d5-88a7-26fbf7b8c716": {
     "id": "08417df0-8a8b-48d5-88a7-26fbf7b8c716",
     "prev": "a6e661fd-5a75-4b7a-b05c-fccf27f3ff50",
     "regions": {
      "5259ee7a-0921-4dee-8f20-bc90df0fbd29": {
       "attrs": {
        "height": 0.8,
        "width": 0.8,
        "x": 0.1,
        "y": 0.1
       },
       "content": {
        "cell": "054d7362-44ff-472c-980f-f35d23ec4105",
        "part": "whole"
       },
       "id": "5259ee7a-0921-4dee-8f20-bc90df0fbd29"
      }
     }
    },
    "0c3cbdda-ef5d-409e-b577-21b1075ab616": {
     "id": "0c3cbdda-ef5d-409e-b577-21b1075ab616",
     "prev": "6196b3a7-732b-490a-aaf5-eb2ad9b8bec7",
     "regions": {
      "177d902f-906b-4a95-8470-089ccb155476": {
       "attrs": {
        "height": 0.8,
        "width": 0.8,
        "x": 0.1,
        "y": 0.1
       },
       "content": {
        "cell": "9aec7311-fc8c-4b5c-a911-3e2a1c003ad2",
        "part": "whole"
       },
       "id": "177d902f-906b-4a95-8470-089ccb155476"
      },
      "30f4a7fb-5c69-485e-b64e-e5ddde20d2e1": {
       "attrs": {
        "height": 0.4,
        "width": 0.8,
        "x": 0.1,
        "y": 0.5
       },
       "content": {
        "cell": "5bdfab32-a273-4146-8ec5-efab1d30714b",
        "part": "whole"
       },
       "id": "30f4a7fb-5c69-485e-b64e-e5ddde20d2e1"
      }
     }
    },
    "0d82c21c-a1d6-44d3-86ad-6522137234b9": {
     "id": "0d82c21c-a1d6-44d3-86ad-6522137234b9",
     "prev": "42f5aa21-c243-4c8c-bfac-0ca4b66a547a",
     "regions": {
      "d97efb98-571a-4e8d-b844-13b4b36072ab": {
       "attrs": {
        "height": 0.8,
        "width": 0.8,
        "x": 0.1,
        "y": 0.1
       },
       "content": {
        "cell": "98a6b75c-c890-4f8d-96fd-2fac84d824b8",
        "part": "whole"
       },
       "id": "d97efb98-571a-4e8d-b844-13b4b36072ab"
      }
     }
    },
    "1374c36c-32b2-4a58-8683-20c29b604ad3": {
     "id": "1374c36c-32b2-4a58-8683-20c29b604ad3",
     "prev": "4fa8b482-0865-496a-8093-3c3ce689ed54",
     "regions": {
      "669d4cc9-bf04-43c2-8757-27eb04aaa1b1": {
       "attrs": {
        "height": 0.8,
        "width": 0.8,
        "x": 0.1,
        "y": 0.1
       },
       "content": {
        "cell": "c7e27488-3904-48e5-83df-18e0b9cd395d",
        "part": "whole"
       },
       "id": "669d4cc9-bf04-43c2-8757-27eb04aaa1b1"
      }
     }
    },
    "188c1830-2747-4d60-9d46-03fee3e7637e": {
     "id": "188c1830-2747-4d60-9d46-03fee3e7637e",
     "prev": "00372d3b-15f3-4e74-b24c-1a130beba28f",
     "regions": {
      "665abb49-9efa-4686-887c-8ed2c833165b": {
       "attrs": {
        "height": 0.8,
        "width": 0.8,
        "x": 0.1,
        "y": 0.1
       },
       "content": {
        "cell": "97f22335-4ecc-4c07-bf05-ec26675e09c4",
        "part": "whole"
       },
       "id": "665abb49-9efa-4686-887c-8ed2c833165b"
      }
     }
    },
    "1ae2049c-0fa1-4469-8759-beef0cdf7ab6": {
     "id": "1ae2049c-0fa1-4469-8759-beef0cdf7ab6",
     "prev": "08417df0-8a8b-48d5-88a7-26fbf7b8c716",
     "regions": {
      "9fc237e9-4c5d-4cc4-a801-57d51f0a664f": {
       "attrs": {
        "height": 0.8,
        "width": 0.8,
        "x": 0.1,
        "y": 0.1
       },
       "content": {
        "cell": "4de51889-b6d1-4c6b-8a00-b84503175c9a",
        "part": "whole"
       },
       "id": "9fc237e9-4c5d-4cc4-a801-57d51f0a664f"
      }
     }
    },
    "1b8fc7d2-c518-4e48-9921-d8dcf68cff12": {
     "id": "1b8fc7d2-c518-4e48-9921-d8dcf68cff12",
     "prev": "ef464012-e950-4ef0-b305-b9e1bd84d053",
     "regions": {
      "3951eb60-cff3-4155-b966-cae7b7e9bea2": {
       "attrs": {
        "height": 0.8,
        "width": 0.8,
        "x": 0.1,
        "y": 0.1
       },
       "content": {
        "cell": "f554fe06-a094-4366-9dfe-4ddae5469f49",
        "part": "whole"
       },
       "id": "3951eb60-cff3-4155-b966-cae7b7e9bea2"
      }
     }
    },
    "21cd57a7-2aa2-4983-8426-068dd04b8619": {
     "id": "21cd57a7-2aa2-4983-8426-068dd04b8619",
     "prev": "eb9c1d10-f95d-4ef6-bc96-92ee41ac66c5",
     "regions": {
      "8cd85f24-f23d-474e-8cb9-e593d4d05c3d": {
       "attrs": {
        "height": 0.8,
        "width": 0.8,
        "x": 0.1,
        "y": 0.1
       },
       "content": {
        "cell": "4b8a69d2-3214-4822-b254-f133d6493d96",
        "part": "whole"
       },
       "id": "8cd85f24-f23d-474e-8cb9-e593d4d05c3d"
      }
     }
    },
    "25c6d45e-ca08-4620-a635-7302c24ba213": {
     "id": "25c6d45e-ca08-4620-a635-7302c24ba213",
     "prev": "484b715d-7c91-436f-8c8c-28263463565b",
     "regions": {
      "6440f1e1-9d9a-44e4-a670-a5b33df77892": {
       "attrs": {
        "height": 0.8,
        "width": 0.8,
        "x": 0.1,
        "y": 0.1
       },
       "content": {
        "cell": "2d544fab-6a78-4351-ab03-d6c1d2177805",
        "part": "whole"
       },
       "id": "6440f1e1-9d9a-44e4-a670-a5b33df77892"
      }
     }
    },
    "408e3fdb-6210-47bd-9170-8777fc8e3e06": {
     "id": "408e3fdb-6210-47bd-9170-8777fc8e3e06",
     "prev": "a42d23f1-5a8b-4fb5-802b-2fa0fc52d5e2",
     "regions": {
      "c812e4bf-f8bd-462d-ace3-0d2b3fde2be1": {
       "attrs": {
        "height": 0.8,
        "width": 0.8,
        "x": 0.1,
        "y": 0.1
       },
       "content": {
        "cell": "a57a22b2-3622-4645-88d6-397755d86f94",
        "part": "whole"
       },
       "id": "c812e4bf-f8bd-462d-ace3-0d2b3fde2be1"
      },
      "db7eb941-091f-444c-bffc-a4c295b1c04b": {
       "attrs": {
        "height": 0.4,
        "width": 0.8,
        "x": 0.1,
        "y": 0.5
       },
       "content": {
        "cell": "e010b0dd-4e80-4e8c-8cab-8bfe7527d5f8",
        "part": "whole"
       },
       "id": "db7eb941-091f-444c-bffc-a4c295b1c04b"
      },
      "f3ce1eb0-60bd-4cad-b623-59383f52538b": {
       "attrs": {
        "height": 0.4,
        "width": 0.8,
        "x": 0.1,
        "y": 0.5
       },
       "content": {
        "cell": "41be767d-2bc0-4dcf-be7b-ee201f62f957",
        "part": "whole"
       },
       "id": "f3ce1eb0-60bd-4cad-b623-59383f52538b"
      }
     }
    },
    "40aba7de-93ba-4f60-a356-cc1c88ce5539": {
     "id": "40aba7de-93ba-4f60-a356-cc1c88ce5539",
     "prev": "b236a087-6e9d-4fa8-b967-f49a53686eb2",
     "regions": {
      "7f619243-aca2-4794-8f82-24d5c4dad7a0": {
       "attrs": {
        "height": 0.8,
        "width": 0.8,
        "x": 0.1,
        "y": 0.1
       },
       "content": {
        "cell": "1d8f2299-66c7-4d3d-8daf-aebcf63f2ec9",
        "part": "whole"
       },
       "id": "7f619243-aca2-4794-8f82-24d5c4dad7a0"
      }
     }
    },
    "4248d3d2-ef53-483d-a659-28ecf8707ddb": {
     "id": "4248d3d2-ef53-483d-a659-28ecf8707ddb",
     "prev": "0c3cbdda-ef5d-409e-b577-21b1075ab616",
     "regions": {
      "fa5dff3a-9489-43c7-8013-ba8e7b348a7f": {
       "attrs": {
        "height": 0.8,
        "width": 0.8,
        "x": 0.1,
        "y": 0.1
       },
       "content": {
        "cell": "6a6e191c-0beb-4e11-8ded-e285cbfa17c0",
        "part": "whole"
       },
       "id": "fa5dff3a-9489-43c7-8013-ba8e7b348a7f"
      }
     }
    },
    "42f5aa21-c243-4c8c-bfac-0ca4b66a547a": {
     "id": "42f5aa21-c243-4c8c-bfac-0ca4b66a547a",
     "prev": "74511773-e5ef-4a8d-a6b7-108db8fc0b65",
     "regions": {
      "a085cbed-f83b-4ca2-b32c-210b0a460285": {
       "attrs": {
        "height": 0.8,
        "width": 0.8,
        "x": 0.1,
        "y": 0.1
       },
       "content": {
        "cell": "94e77975-2978-4bdc-a96b-2715d4c83194",
        "part": "whole"
       },
       "id": "a085cbed-f83b-4ca2-b32c-210b0a460285"
      }
     }
    },
    "43a93456-d677-4147-bf78-cc80a45ceddd": {
     "id": "43a93456-d677-4147-bf78-cc80a45ceddd",
     "prev": "fe7f361d-4ec4-4296-a7ab-0d78e5c2133d",
     "regions": {
      "663487ce-05de-48c9-a6cb-dfc7277b1609": {
       "attrs": {
        "height": 0.8,
        "width": 0.8,
        "x": 0.1,
        "y": 0.1
       },
       "content": {
        "cell": "656dccbb-0b99-4c3c-b16e-6df9d3515bb9",
        "part": "whole"
       },
       "id": "663487ce-05de-48c9-a6cb-dfc7277b1609"
      }
     }
    },
    "44f91be3-d46e-434a-b00f-95a536631899": {
     "id": "44f91be3-d46e-434a-b00f-95a536631899",
     "prev": "67d8be0a-c9cb-4f15-855d-b28392e2590a",
     "regions": {
      "ee4c8336-c2b2-4b43-82d2-89b8d3e58255": {
       "attrs": {
        "height": 0.8,
        "width": 0.8,
        "x": 0.1,
        "y": 0.1
       },
       "content": {
        "cell": "c299e1d2-b14f-4cd9-89af-9ad4c3374247",
        "part": "whole"
       },
       "id": "ee4c8336-c2b2-4b43-82d2-89b8d3e58255"
      }
     }
    },
    "46f352ec-02ad-4f8c-adc4-caa1368fdbaf": {
     "id": "46f352ec-02ad-4f8c-adc4-caa1368fdbaf",
     "prev": "1374c36c-32b2-4a58-8683-20c29b604ad3",
     "regions": {
      "5545585a-9300-488c-9404-5250b9a9bcf5": {
       "attrs": {
        "height": 0.8,
        "width": 0.8,
        "x": 0.1,
        "y": 0.1
       },
       "content": {
        "cell": "34ea7bb9-e861-4325-9a47-084359024ead",
        "part": "whole"
       },
       "id": "5545585a-9300-488c-9404-5250b9a9bcf5"
      }
     }
    },
    "484b715d-7c91-436f-8c8c-28263463565b": {
     "id": "484b715d-7c91-436f-8c8c-28263463565b",
     "prev": "7f4d8c30-9da9-4278-8090-31adfe77e953",
     "regions": {
      "3f0cec22-026b-4bd4-beaf-61f7e5ae18d2": {
       "attrs": {
        "height": 0.8,
        "width": 0.8,
        "x": 0.1,
        "y": 0.1
       },
       "content": {
        "cell": "0d46eda8-dd57-453c-bdb4-11d4ae4fc843",
        "part": "whole"
       },
       "id": "3f0cec22-026b-4bd4-beaf-61f7e5ae18d2"
      }
     }
    },
    "49d05ed2-2ae7-440c-bb7b-6d1b4355a663": {
     "id": "49d05ed2-2ae7-440c-bb7b-6d1b4355a663",
     "prev": "759a79c0-469f-4d2f-8fd4-b6676723bf59",
     "regions": {
      "647346cf-a4cd-4ec4-ac28-06956b1626d9": {
       "attrs": {
        "height": 0.8,
        "width": 0.8,
        "x": 0.1,
        "y": 0.1
       },
       "content": {
        "cell": "7cea36a3-6ea2-429e-9c00-67c753ce9251",
        "part": "whole"
       },
       "id": "647346cf-a4cd-4ec4-ac28-06956b1626d9"
      },
      "7bc338bb-5c94-42f5-b20a-999fcba9204d": {
       "attrs": {
        "height": 0.4,
        "width": 0.8,
        "x": 0.1,
        "y": 0.5
       },
       "content": {
        "cell": "eac454c4-e426-4dd3-9a4a-f6db2d8ddd01",
        "part": "whole"
       },
       "id": "7bc338bb-5c94-42f5-b20a-999fcba9204d"
      }
     }
    },
    "4cc41305-949a-4cfe-9452-3f572c549bef": {
     "id": "4cc41305-949a-4cfe-9452-3f572c549bef",
     "prev": "9cf441b1-acc9-4d8f-8a61-90ec991b9972",
     "regions": {
      "b9091220-ddfb-4a48-a87f-f599a89fd424": {
       "attrs": {
        "height": 0.8,
        "width": 0.8,
        "x": 0.1,
        "y": 0.1
       },
       "content": {
        "cell": "42ea0abb-e720-41f8-a400-b8ae4187d390",
        "part": "whole"
       },
       "id": "b9091220-ddfb-4a48-a87f-f599a89fd424"
      }
     }
    },
    "4fa8b482-0865-496a-8093-3c3ce689ed54": {
     "id": "4fa8b482-0865-496a-8093-3c3ce689ed54",
     "prev": "1b8fc7d2-c518-4e48-9921-d8dcf68cff12",
     "regions": {
      "622b8033-1e1f-4140-b0f5-abe6978d1a37": {
       "attrs": {
        "height": 0.8,
        "width": 0.8,
        "x": 0.1,
        "y": 0.1
       },
       "content": {
        "cell": "46b10c7c-bd00-4736-bda2-19a1196640d3",
        "part": "whole"
       },
       "id": "622b8033-1e1f-4140-b0f5-abe6978d1a37"
      }
     }
    },
    "571cbdd4-8864-4f73-b05f-bfd2234863cd": {
     "id": "571cbdd4-8864-4f73-b05f-bfd2234863cd",
     "prev": "67ddc7f9-50d9-4288-b51c-dba403873bcf",
     "regions": {
      "45d80431-72e7-433e-82e6-0ee2a22fad3b": {
       "attrs": {
        "height": 0.8,
        "width": 0.8,
        "x": 0.1,
        "y": 0.1
       },
       "content": {
        "cell": "18f7039d-7212-4cdc-88b6-826b81d84dd6",
        "part": "whole"
       },
       "id": "45d80431-72e7-433e-82e6-0ee2a22fad3b"
      }
     }
    },
    "5a67872c-7d26-4f0b-81c5-a1b10fd229a6": {
     "id": "5a67872c-7d26-4f0b-81c5-a1b10fd229a6",
     "prev": "6a4a74ca-25d9-4e98-b5b2-a31b34394e4b",
     "regions": {
      "62ba8ecf-a6c1-4cde-a8da-91bbd3f99e5e": {
       "attrs": {
        "height": 0.8,
        "width": 0.8,
        "x": 0.1,
        "y": 0.1
       },
       "content": {
        "cell": "870573bf-e177-4f00-a7b8-349b5e61400e",
        "part": "whole"
       },
       "id": "62ba8ecf-a6c1-4cde-a8da-91bbd3f99e5e"
      }
     }
    },
    "612f8ef6-009f-4198-9c78-7cc44880221d": {
     "id": "612f8ef6-009f-4198-9c78-7cc44880221d",
     "prev": "25c6d45e-ca08-4620-a635-7302c24ba213",
     "regions": {
      "bdaa1dfb-6dfa-452d-b00d-5c0c690f0b09": {
       "attrs": {
        "height": 0.8,
        "width": 0.8,
        "x": 0.1,
        "y": 0.1
       },
       "content": {
        "cell": "8ca7e36a-2a84-4f35-9f05-f341e5909b32",
        "part": "whole"
       },
       "id": "bdaa1dfb-6dfa-452d-b00d-5c0c690f0b09"
      }
     }
    },
    "6196b3a7-732b-490a-aaf5-eb2ad9b8bec7": {
     "id": "6196b3a7-732b-490a-aaf5-eb2ad9b8bec7",
     "prev": "f868678b-6f51-4795-b659-b58e2f4e9078",
     "regions": {
      "67e7d57a-02ad-4a14-b351-27b24cec3198": {
       "attrs": {
        "height": 0.8,
        "width": 0.8,
        "x": 0.1,
        "y": 0.1
       },
       "content": {
        "cell": "6b3223ce-4331-46e4-be4e-b21d9f70b579",
        "part": "whole"
       },
       "id": "67e7d57a-02ad-4a14-b351-27b24cec3198"
      }
     }
    },
    "624702e7-1e4b-46c6-9da0-b1af4f81cfbc": {
     "id": "624702e7-1e4b-46c6-9da0-b1af4f81cfbc",
     "prev": "db91a2ca-3f6b-4857-bbab-8888bf7985aa",
     "regions": {
      "0d8bd7fb-2844-4ef7-a077-eda568783380": {
       "attrs": {
        "height": 0.8,
        "width": 0.8,
        "x": 0.1,
        "y": 0.1
       },
       "content": {
        "cell": "40e2ced5-3192-48c7-b4ba-0a068b4f2c25",
        "part": "whole"
       },
       "id": "0d8bd7fb-2844-4ef7-a077-eda568783380"
      }
     }
    },
    "665064a0-6f2d-4da0-8c26-f7b5c78bb5a8": {
     "id": "665064a0-6f2d-4da0-8c26-f7b5c78bb5a8",
     "prev": "78f502d4-69cf-4689-af65-b52f97a43974",
     "regions": {
      "e6aaeb62-2044-4efa-8d91-609975333e5b": {
       "attrs": {
        "height": 0.8,
        "width": 0.8,
        "x": 0.1,
        "y": 0.1
       },
       "content": {
        "cell": "46282963-7130-438d-8098-6acffc43198c",
        "part": "whole"
       },
       "id": "e6aaeb62-2044-4efa-8d91-609975333e5b"
      }
     }
    },
    "67d8be0a-c9cb-4f15-855d-b28392e2590a": {
     "id": "67d8be0a-c9cb-4f15-855d-b28392e2590a",
     "prev": "0d82c21c-a1d6-44d3-86ad-6522137234b9",
     "regions": {
      "4ab3285c-5ca3-4bfe-97d3-7d12d8ec7905": {
       "attrs": {
        "height": 0.8,
        "width": 0.8,
        "x": 0.1,
        "y": 0.1
       },
       "content": {
        "cell": "37e726e5-36e8-40ec-ba41-74fe6e3613d2",
        "part": "whole"
       },
       "id": "4ab3285c-5ca3-4bfe-97d3-7d12d8ec7905"
      }
     }
    },
    "67ddc7f9-50d9-4288-b51c-dba403873bcf": {
     "id": "67ddc7f9-50d9-4288-b51c-dba403873bcf",
     "prev": "8f99a524-7d55-427e-8629-bc8f5c9e357d",
     "regions": {
      "808400f9-3d02-4afc-97c9-935ebb4ae15d": {
       "attrs": {
        "height": 0.8,
        "width": 0.8,
        "x": 0.1,
        "y": 0.1
       },
       "content": {
        "cell": "33ce92b0-5a61-4a70-bcb8-2793f2309eff",
        "part": "whole"
       },
       "id": "808400f9-3d02-4afc-97c9-935ebb4ae15d"
      }
     }
    },
    "6a4a74ca-25d9-4e98-b5b2-a31b34394e4b": {
     "id": "6a4a74ca-25d9-4e98-b5b2-a31b34394e4b",
     "prev": "ba064aef-eb9f-47a8-9c89-53fa56621a1f",
     "regions": {
      "3d0eac8f-18d6-448f-840e-523e71b0e917": {
       "attrs": {
        "height": 0.8,
        "width": 0.8,
        "x": 0.1,
        "y": 0.1
       },
       "content": {
        "cell": "7b7fb3db-44ac-468d-8fb8-4eb14003f827",
        "part": "whole"
       },
       "id": "3d0eac8f-18d6-448f-840e-523e71b0e917"
      }
     }
    },
    "6fa34155-3ad3-4674-b806-c3fa6cdee562": {
     "id": "6fa34155-3ad3-4674-b806-c3fa6cdee562",
     "prev": "46f352ec-02ad-4f8c-adc4-caa1368fdbaf",
     "regions": {
      "98f3988c-af22-408f-8327-405859abf0c5": {
       "attrs": {
        "height": 0.8,
        "width": 0.8,
        "x": 0.1,
        "y": 0.1
       },
       "content": {
        "cell": "102b5b16-bdda-4cd3-ae68-816542e2f96e",
        "part": "whole"
       },
       "id": "98f3988c-af22-408f-8327-405859abf0c5"
      }
     }
    },
    "70d2420b-c470-4d35-b264-88ea99bc862b": {
     "id": "70d2420b-c470-4d35-b264-88ea99bc862b",
     "prev": "83fb5c18-ae12-42d6-bef2-78ff6d63f50c",
     "regions": {
      "a9d70e7c-383d-4932-bb4a-912bda0ae395": {
       "attrs": {
        "height": 0.8,
        "width": 0.8,
        "x": 0.1,
        "y": 0.1
       },
       "content": {
        "cell": "b9ad985b-3687-465e-b5f1-5e5a8b0028a4",
        "part": "whole"
       },
       "id": "a9d70e7c-383d-4932-bb4a-912bda0ae395"
      }
     }
    },
    "74511773-e5ef-4a8d-a6b7-108db8fc0b65": {
     "id": "74511773-e5ef-4a8d-a6b7-108db8fc0b65",
     "prev": "70d2420b-c470-4d35-b264-88ea99bc862b",
     "regions": {
      "0368713d-4811-4e18-9d08-dc1089c36922": {
       "attrs": {
        "height": 0.8,
        "width": 0.8,
        "x": 0.1,
        "y": 0.1
       },
       "content": {
        "cell": "c61eae59-38c2-43dc-8b1a-03c2661a8aea",
        "part": "whole"
       },
       "id": "0368713d-4811-4e18-9d08-dc1089c36922"
      }
     }
    },
    "759a79c0-469f-4d2f-8fd4-b6676723bf59": {
     "id": "759a79c0-469f-4d2f-8fd4-b6676723bf59",
     "prev": null,
     "regions": {
      "e33d21fb-2ad3-4f07-8418-7f111ddab163": {
       "attrs": {
        "height": 0.8,
        "width": 0.8,
        "x": 0.1,
        "y": 0.1
       },
       "content": {
        "cell": "2ca0b772-ebd8-4802-88c8-04e90a7710b9",
        "part": "whole"
       },
       "id": "e33d21fb-2ad3-4f07-8418-7f111ddab163"
      }
     }
    },
    "78f502d4-69cf-4689-af65-b52f97a43974": {
     "id": "78f502d4-69cf-4689-af65-b52f97a43974",
     "prev": "5a67872c-7d26-4f0b-81c5-a1b10fd229a6",
     "regions": {
      "cb5ac5d0-ae76-4f5a-b433-366904f0415e": {
       "attrs": {
        "height": 0.8,
        "width": 0.8,
        "x": 0.1,
        "y": 0.1
       },
       "content": {
        "cell": "12abf228-4257-4146-889e-1275904ae78d",
        "part": "whole"
       },
       "id": "cb5ac5d0-ae76-4f5a-b433-366904f0415e"
      }
     }
    },
    "7ed465a5-0897-4b95-b449-8af324587049": {
     "id": "7ed465a5-0897-4b95-b449-8af324587049",
     "prev": "87201033-17de-4ccf-909c-99c6903ab4f5",
     "regions": {
      "77a9ef64-678b-476d-8a24-e393314cae1c": {
       "attrs": {
        "height": 0.8,
        "width": 0.8,
        "x": 0.1,
        "y": 0.1
       },
       "content": {
        "cell": "27ad06c2-b547-4a20-9e63-296c54b5acc2",
        "part": "whole"
       },
       "id": "77a9ef64-678b-476d-8a24-e393314cae1c"
      }
     }
    },
    "7f4d8c30-9da9-4278-8090-31adfe77e953": {
     "id": "7f4d8c30-9da9-4278-8090-31adfe77e953",
     "prev": "dd02ebfe-2a84-4ef8-b0b1-fbfff62f6d14",
     "regions": {
      "018f9598-065e-49fc-8f50-fc884652280c": {
       "attrs": {
        "height": 0.8,
        "width": 0.8,
        "x": 0.1,
        "y": 0.1
       },
       "content": {
        "cell": "569806ab-dc21-4f66-b0d6-3c9c9b1e9327",
        "part": "whole"
       },
       "id": "018f9598-065e-49fc-8f50-fc884652280c"
      }
     }
    },
    "7f593642-88cb-4a82-af28-7b72aec268ac": {
     "id": "7f593642-88cb-4a82-af28-7b72aec268ac",
     "prev": "1ae2049c-0fa1-4469-8759-beef0cdf7ab6",
     "regions": {
      "ad194b7d-73da-47e8-bcfb-8535d8a8ed62": {
       "attrs": {
        "height": 0.8,
        "width": 0.8,
        "x": 0.1,
        "y": 0.1
       },
       "content": {
        "cell": "363f75af-8741-456c-8e18-915ce6a95786",
        "part": "whole"
       },
       "id": "ad194b7d-73da-47e8-bcfb-8535d8a8ed62"
      }
     }
    },
    "83fb5c18-ae12-42d6-bef2-78ff6d63f50c": {
     "id": "83fb5c18-ae12-42d6-bef2-78ff6d63f50c",
     "prev": "e22bc400-a035-421e-a4a4-16acb9eaba2e",
     "regions": {
      "92bda564-5dc5-4ffa-a969-c14a0ec7e93c": {
       "attrs": {
        "height": 0.8,
        "width": 0.8,
        "x": 0.1,
        "y": 0.1
       },
       "content": {
        "cell": "383f1957-c8f8-4f47-902a-66a568214e58",
        "part": "whole"
       },
       "id": "92bda564-5dc5-4ffa-a969-c14a0ec7e93c"
      }
     }
    },
    "87201033-17de-4ccf-909c-99c6903ab4f5": {
     "id": "87201033-17de-4ccf-909c-99c6903ab4f5",
     "prev": "188c1830-2747-4d60-9d46-03fee3e7637e",
     "regions": {
      "9ae8912f-d0f8-4090-b8a5-bf50b378ffcb": {
       "attrs": {
        "height": 0.8,
        "width": 0.8,
        "x": 0.1,
        "y": 0.1
       },
       "content": {
        "cell": "1dec37c3-587c-4978-a60c-d4630dc6f0b2",
        "part": "whole"
       },
       "id": "9ae8912f-d0f8-4090-b8a5-bf50b378ffcb"
      }
     }
    },
    "8f99a524-7d55-427e-8629-bc8f5c9e357d": {
     "id": "8f99a524-7d55-427e-8629-bc8f5c9e357d",
     "prev": "6fa34155-3ad3-4674-b806-c3fa6cdee562",
     "regions": {
      "c4cd0245-b892-420b-bcb1-6873706a8fd1": {
       "attrs": {
        "height": 0.8,
        "width": 0.8,
        "x": 0.1,
        "y": 0.1
       },
       "content": {
        "cell": "fbf0bb95-db7a-4154-ac63-841488734cd2",
        "part": "whole"
       },
       "id": "c4cd0245-b892-420b-bcb1-6873706a8fd1"
      }
     }
    },
    "9cf441b1-acc9-4d8f-8a61-90ec991b9972": {
     "id": "9cf441b1-acc9-4d8f-8a61-90ec991b9972",
     "prev": "571cbdd4-8864-4f73-b05f-bfd2234863cd",
     "regions": {
      "600981dc-f7c7-4274-a59d-3d4751988297": {
       "attrs": {
        "height": 0.8,
        "width": 0.8,
        "x": 0.1,
        "y": 0.1
       },
       "content": {
        "cell": "254e9ab1-c53f-4dc7-8b72-c41cc774c590",
        "part": "whole"
       },
       "id": "600981dc-f7c7-4274-a59d-3d4751988297"
      }
     }
    },
    "a3509020-616f-4ef3-9d66-9597c78e12ad": {
     "id": "a3509020-616f-4ef3-9d66-9597c78e12ad",
     "prev": "00eacb86-9392-4b45-a4f9-a8388f7ddc3a",
     "regions": {
      "06f8a67d-4523-4e3f-b3c3-90b4da30bd4e": {
       "attrs": {
        "height": 0.8,
        "width": 0.8,
        "x": 0.1,
        "y": 0.1
       },
       "content": {
        "cell": "3f2f1401-07ac-4916-aa1c-981945ddea05",
        "part": "whole"
       },
       "id": "06f8a67d-4523-4e3f-b3c3-90b4da30bd4e"
      }
     }
    },
    "a42d23f1-5a8b-4fb5-802b-2fa0fc52d5e2": {
     "id": "a42d23f1-5a8b-4fb5-802b-2fa0fc52d5e2",
     "prev": "44f91be3-d46e-434a-b00f-95a536631899",
     "regions": {
      "8430be34-a30f-4139-966c-a8644a8213b9": {
       "attrs": {
        "height": 0.8,
        "width": 0.8,
        "x": 0.1,
        "y": 0.1
       },
       "content": {
        "cell": "3a71787c-d184-4cc2-a82e-04e6a9aed4dd",
        "part": "whole"
       },
       "id": "8430be34-a30f-4139-966c-a8644a8213b9"
      }
     }
    },
    "a6e661fd-5a75-4b7a-b05c-fccf27f3ff50": {
     "id": "a6e661fd-5a75-4b7a-b05c-fccf27f3ff50",
     "prev": "e2098043-4ce4-4eb8-83ce-b1ee61404967",
     "regions": {
      "0f3ebda8-b1da-4607-a4fc-610ce10fba97": {
       "attrs": {
        "height": 0.8,
        "width": 0.8,
        "x": 0.1,
        "y": 0.1
       },
       "content": {
        "cell": "d60add1c-397e-445d-a5ce-46336d6455fc",
        "part": "whole"
       },
       "id": "0f3ebda8-b1da-4607-a4fc-610ce10fba97"
      }
     }
    },
    "b236a087-6e9d-4fa8-b967-f49a53686eb2": {
     "id": "b236a087-6e9d-4fa8-b967-f49a53686eb2",
     "prev": "7f593642-88cb-4a82-af28-7b72aec268ac",
     "regions": {
      "3b5ad992-d45c-48a1-b97f-d5589d5cd6ca": {
       "attrs": {
        "height": 0.8,
        "width": 0.8,
        "x": 0.1,
        "y": 0.1
       },
       "content": {
        "cell": "94ab1cea-afe9-429a-b403-e29d374b27c3",
        "part": "whole"
       },
       "id": "3b5ad992-d45c-48a1-b97f-d5589d5cd6ca"
      }
     }
    },
    "b524b8b6-45a9-43f6-b67d-b4f6967e88eb": {
     "id": "b524b8b6-45a9-43f6-b67d-b4f6967e88eb",
     "prev": "408e3fdb-6210-47bd-9170-8777fc8e3e06",
     "regions": {
      "0b6254f3-784c-4b7a-b969-8324f1d110bd": {
       "attrs": {
        "height": 0.4,
        "width": 0.8,
        "x": 0.1,
        "y": 0.5
       },
       "content": {
        "cell": "96a6ad03-e578-45c8-9a6e-9ebc04e1fd85",
        "part": "whole"
       },
       "id": "0b6254f3-784c-4b7a-b969-8324f1d110bd"
      },
      "38d3ab17-ac02-4264-a2cc-3eefbcad02f0": {
       "attrs": {
        "height": 0.4,
        "width": 0.8,
        "x": 0.1,
        "y": 0.5
       },
       "content": {
        "cell": "1bc7f214-bbe0-4803-8bcf-3ed1724946c2",
        "part": "whole"
       },
       "id": "38d3ab17-ac02-4264-a2cc-3eefbcad02f0"
      },
      "7ff9fa5f-c542-406f-a5fd-7998c1ad79dc": {
       "attrs": {
        "height": 0.8,
        "width": 0.8,
        "x": 0.1,
        "y": 0.1
       },
       "content": {
        "cell": "64003351-7dd8-4763-ab4d-51b962414d97",
        "part": "whole"
       },
       "id": "7ff9fa5f-c542-406f-a5fd-7998c1ad79dc"
      }
     }
    },
    "b723c1ab-e26c-4b5c-bb94-0c0ebe5934b2": {
     "id": "b723c1ab-e26c-4b5c-bb94-0c0ebe5934b2",
     "prev": "40aba7de-93ba-4f60-a356-cc1c88ce5539",
     "regions": {
      "53414e2d-73c5-4154-b53e-45844b4638b5": {
       "attrs": {
        "height": 0.8,
        "width": 0.8,
        "x": 0.1,
        "y": 0.1
       },
       "content": {
        "cell": "d7ca5c0f-e3b9-4fb7-b824-0e70cb3c48b0",
        "part": "whole"
       },
       "id": "53414e2d-73c5-4154-b53e-45844b4638b5"
      }
     }
    },
    "ba064aef-eb9f-47a8-9c89-53fa56621a1f": {
     "id": "ba064aef-eb9f-47a8-9c89-53fa56621a1f",
     "prev": "a3509020-616f-4ef3-9d66-9597c78e12ad",
     "regions": {
      "667d79c6-a41a-4998-90be-a6f9e533048b": {
       "attrs": {
        "height": 0.8,
        "width": 0.8,
        "x": 0.1,
        "y": 0.1
       },
       "content": {
        "cell": "00a881c0-c6df-4a02-8787-0d09e829ab6e",
        "part": "whole"
       },
       "id": "667d79c6-a41a-4998-90be-a6f9e533048b"
      }
     }
    },
    "db91a2ca-3f6b-4857-bbab-8888bf7985aa": {
     "id": "db91a2ca-3f6b-4857-bbab-8888bf7985aa",
     "prev": "03d508a5-6df0-41c5-852c-f2d2c4ae978d",
     "regions": {
      "4ac233cc-779c-4024-9b97-c1628824cb0a": {
       "attrs": {
        "height": 0.4,
        "width": 0.8,
        "x": 0.1,
        "y": 0.5
       },
       "content": {
        "cell": "2f4d3407-0eb5-4fed-85a2-268461295953",
        "part": "whole"
       },
       "id": "4ac233cc-779c-4024-9b97-c1628824cb0a"
      },
      "f1a9143a-c195-49e7-ad1b-6296434f20c3": {
       "attrs": {
        "height": 0.8,
        "width": 0.8,
        "x": 0.1,
        "y": 0.1
       },
       "content": {
        "cell": "cd57eeab-63c7-4721-9623-d10632a121bd",
        "part": "whole"
       },
       "id": "f1a9143a-c195-49e7-ad1b-6296434f20c3"
      }
     }
    },
    "dd02ebfe-2a84-4ef8-b0b1-fbfff62f6d14": {
     "id": "dd02ebfe-2a84-4ef8-b0b1-fbfff62f6d14",
     "prev": "624702e7-1e4b-46c6-9da0-b1af4f81cfbc",
     "regions": {
      "50eba208-37af-4bd6-9d52-093a2075b64b": {
       "attrs": {
        "height": 0.8,
        "width": 0.8,
        "x": 0.1,
        "y": 0.1
       },
       "content": {
        "cell": "63107774-a12e-4893-af45-2353b2299d0a",
        "part": "whole"
       },
       "id": "50eba208-37af-4bd6-9d52-093a2075b64b"
      },
      "7382bcc8-108e-4112-a6f7-c9e0f09e8c65": {
       "attrs": {
        "height": 0.4,
        "width": 0.8,
        "x": 0.1,
        "y": 0.5
       },
       "content": {
        "cell": "67e4f042-0f46-4a15-98a6-5865a35685bf",
        "part": "whole"
       },
       "id": "7382bcc8-108e-4112-a6f7-c9e0f09e8c65"
      }
     }
    },
    "dfef3f43-36be-4bd8-937e-009a0fc6efb6": {
     "id": "dfef3f43-36be-4bd8-937e-009a0fc6efb6",
     "prev": "e064ef2c-cd6f-4eed-b9aa-e06c3540981a",
     "regions": {
      "f5371672-18b5-45f4-ab49-4d1d4e121ca8": {
       "attrs": {
        "height": 0.8,
        "width": 0.8,
        "x": 0.1,
        "y": 0.1
       },
       "content": {
        "cell": "2157c1a4-652c-4572-a7ae-69148359fb91",
        "part": "whole"
       },
       "id": "f5371672-18b5-45f4-ab49-4d1d4e121ca8"
      }
     }
    },
    "e064ef2c-cd6f-4eed-b9aa-e06c3540981a": {
     "id": "e064ef2c-cd6f-4eed-b9aa-e06c3540981a",
     "prev": "e19bf3ee-2d7c-4491-9411-a90b1474af37",
     "regions": {
      "1ca56aed-6a97-4e27-9f6c-5e290d785b83": {
       "attrs": {
        "height": 0.8,
        "width": 0.8,
        "x": 0.1,
        "y": 0.1
       },
       "content": {
        "cell": "f96a9d45-88e5-4db8-8ebd-ea4e0b92c400",
        "part": "whole"
       },
       "id": "1ca56aed-6a97-4e27-9f6c-5e290d785b83"
      }
     }
    },
    "e19bf3ee-2d7c-4491-9411-a90b1474af37": {
     "id": "e19bf3ee-2d7c-4491-9411-a90b1474af37",
     "prev": "665064a0-6f2d-4da0-8c26-f7b5c78bb5a8",
     "regions": {
      "4060de08-014f-45da-98f5-58aa1e804d75": {
       "attrs": {
        "height": 0.8,
        "width": 0.8,
        "x": 0.1,
        "y": 0.1
       },
       "content": {
        "cell": "2a5a0f46-caf9-4d1c-9fdb-0fa59ec89ccf",
        "part": "whole"
       },
       "id": "4060de08-014f-45da-98f5-58aa1e804d75"
      }
     }
    },
    "e1c63e76-8411-4172-826d-2b10085da3c0": {
     "id": "e1c63e76-8411-4172-826d-2b10085da3c0",
     "prev": "7ed465a5-0897-4b95-b449-8af324587049",
     "regions": {
      "57ae897c-4b60-4638-94aa-abfd581a38f4": {
       "attrs": {
        "height": 0.8,
        "width": 0.8,
        "x": 0.1,
        "y": 0.1
       },
       "content": {
        "cell": "7c8ba028-8fda-468e-b3dc-7e10e59ce44f",
        "part": "whole"
       },
       "id": "57ae897c-4b60-4638-94aa-abfd581a38f4"
      }
     }
    },
    "e2098043-4ce4-4eb8-83ce-b1ee61404967": {
     "id": "e2098043-4ce4-4eb8-83ce-b1ee61404967",
     "prev": "43a93456-d677-4147-bf78-cc80a45ceddd",
     "regions": {
      "c2ca29bd-c085-4dfd-b896-f7cfbb9f953c": {
       "attrs": {
        "height": 0.8,
        "width": 0.8,
        "x": 0.1,
        "y": 0.1
       },
       "content": {
        "cell": "3b044dfa-7c3e-4b4f-9bea-cd8b4f7a9a37",
        "part": "whole"
       },
       "id": "c2ca29bd-c085-4dfd-b896-f7cfbb9f953c"
      }
     }
    },
    "e22bc400-a035-421e-a4a4-16acb9eaba2e": {
     "id": "e22bc400-a035-421e-a4a4-16acb9eaba2e",
     "prev": "612f8ef6-009f-4198-9c78-7cc44880221d",
     "regions": {
      "d508b4a0-1f5d-461f-bb61-26a6c2c31409": {
       "attrs": {
        "height": 0.8,
        "width": 0.8,
        "x": 0.1,
        "y": 0.1
       },
       "content": {
        "cell": "b532b41e-400e-4c46-9f02-ea4bd6a2beae",
        "part": "whole"
       },
       "id": "d508b4a0-1f5d-461f-bb61-26a6c2c31409"
      }
     }
    },
    "eaea58d4-d890-4f5a-b403-13746d7cfd9c": {
     "id": "eaea58d4-d890-4f5a-b403-13746d7cfd9c",
     "prev": "dfef3f43-36be-4bd8-937e-009a0fc6efb6",
     "regions": {
      "b4714c21-c17e-42e2-9d65-86418e1af457": {
       "attrs": {
        "height": 0.8,
        "width": 0.8,
        "x": 0.1,
        "y": 0.1
       },
       "content": {
        "cell": "e72d7033-acb7-481a-8b3f-3852c2b7dfe8",
        "part": "whole"
       },
       "id": "b4714c21-c17e-42e2-9d65-86418e1af457"
      },
      "ce67d414-9881-46ea-be3f-b54c3568fb79": {
       "attrs": {
        "height": 0.4,
        "width": 0.8,
        "x": 0.1,
        "y": 0.5
       },
       "content": {
        "cell": "0f5892c1-0ea1-40c2-aa22-555c79441426",
        "part": "whole"
       },
       "id": "ce67d414-9881-46ea-be3f-b54c3568fb79"
      }
     }
    },
    "eb9c1d10-f95d-4ef6-bc96-92ee41ac66c5": {
     "id": "eb9c1d10-f95d-4ef6-bc96-92ee41ac66c5",
     "prev": "4cc41305-949a-4cfe-9452-3f572c549bef",
     "regions": {
      "94459d40-8b40-43ce-a4cc-6504f4855eeb": {
       "attrs": {
        "height": 0.8,
        "width": 0.8,
        "x": 0.1,
        "y": 0.1
       },
       "content": {
        "cell": "a411d89c-bc80-4fb3-bf18-162b8a5e7ea2",
        "part": "whole"
       },
       "id": "94459d40-8b40-43ce-a4cc-6504f4855eeb"
      }
     }
    },
    "ef464012-e950-4ef0-b305-b9e1bd84d053": {
     "id": "ef464012-e950-4ef0-b305-b9e1bd84d053",
     "prev": "4248d3d2-ef53-483d-a659-28ecf8707ddb",
     "regions": {
      "38e87bbc-01e6-4fe1-be79-10b01420c083": {
       "attrs": {
        "height": 0.8,
        "width": 0.8,
        "x": 0.1,
        "y": 0.1
       },
       "content": {
        "cell": "df977cc2-ab45-4767-9ed7-d00bf9a37d21",
        "part": "whole"
       },
       "id": "38e87bbc-01e6-4fe1-be79-10b01420c083"
      }
     }
    },
    "f868678b-6f51-4795-b659-b58e2f4e9078": {
     "id": "f868678b-6f51-4795-b659-b58e2f4e9078",
     "prev": "eaea58d4-d890-4f5a-b403-13746d7cfd9c",
     "regions": {
      "1eb14f1e-9226-4dfa-9aa2-6bebed884fac": {
       "attrs": {
        "height": 0.8,
        "width": 0.8,
        "x": 0.1,
        "y": 0.1
       },
       "content": {
        "cell": "8033e2c8-cd82-4893-b2a1-99a1710eee9f",
        "part": "whole"
       },
       "id": "1eb14f1e-9226-4dfa-9aa2-6bebed884fac"
      }
     }
    },
    "f8fecfcd-1165-4c8d-82f7-eb1dff045319": {
     "id": "f8fecfcd-1165-4c8d-82f7-eb1dff045319",
     "prev": "b524b8b6-45a9-43f6-b67d-b4f6967e88eb",
     "regions": {
      "300d7e49-b0ed-4d93-a322-7db3d6e3cce3": {
       "attrs": {
        "height": 0.8,
        "width": 0.8,
        "x": 0.1,
        "y": 0.1
       },
       "content": {
        "cell": "f6ef6595-a9f7-4fbf-b7a1-7708346cc056",
        "part": "whole"
       },
       "id": "300d7e49-b0ed-4d93-a322-7db3d6e3cce3"
      }
     }
    },
    "fe7f361d-4ec4-4296-a7ab-0d78e5c2133d": {
     "id": "fe7f361d-4ec4-4296-a7ab-0d78e5c2133d",
     "prev": "21cd57a7-2aa2-4983-8426-068dd04b8619",
     "regions": {
      "37306bd6-2418-49cb-beb5-264afdb24855": {
       "attrs": {
        "height": 0.8,
        "width": 0.8,
        "x": 0.1,
        "y": 0.1
       },
       "content": {
        "cell": "e29f0f93-d281-4fc0-b67e-dd916e677ef4",
        "part": "whole"
       },
       "id": "37306bd6-2418-49cb-beb5-264afdb24855"
      }
     }
    }
   },
   "themes": {}
  }
 },
 "nbformat": 4,
 "nbformat_minor": 1
}
